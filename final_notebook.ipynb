{
 "cells": [
  {
   "cell_type": "markdown",
   "metadata": {},
   "source": [
    "# Chicago, IL : Car Crash Analysis & Predictive Modeling\n",
    "\n",
    "\n",
    "### *Predicting car crashes with Machine Learning Models*\n",
    "\n",
    "Authors: [Christos Maglaras](mailto:Christo111M@gmail.com), [Marcos Panyagua](mailto:marcosvppfernandes@gmail.com), [Jamie Dowat](mailto:jamie_dowat44@yahoo.com)\n",
    "\n",
    "![chicago](img/chicago_night_drive.jpg)\n",
    "\n",
    "## Stakeholder: Chicago Department of Transportation\n",
    "\n",
    "![cdot](img/cdot.png)\n",
    "\n",
    "## Business Understanding\n",
    "\n",
    "Put text here\n",
    "\n",
    "******\n",
    "\n",
    "## Predictive Modeling Preview\n",
    "\n",
    "Put text here\n",
    "\n",
    "\n",
    "******\n",
    "\n",
    "## Data: [Chicago City Data Portal](https://data.cityofchicago.org/)\n",
    "\n",
    "![ccdp](img/chicagocitydataportal.jpg)\n",
    "\n",
    "### [Crashes](https://data.cityofchicago.org/Transportation/Traffic-Crashes-Crashes/85ca-t3if):\n",
    "\n",
    "##### Number of Rows: \n",
    "\n",
    "*Shows crash data from crash from the Chicago Police Department's **E-Crash** system*\n",
    "\n",
    "**\"All crashes are recorded as per the format specified in the Traffic Crash Report, SR1050, of the Illinois Department of Transportation.\"**\n",
    "\n",
    "| Column Name                 | Description                |\n",
    "| --------------------------- | -------------------------- |\n",
    "| crash_record_id  |  Can be used to link to the same crash in the Vehicles and People datasets. |\n",
    "| rd_no | Chicago Police Department report number|\n",
    "| crash_date | Date and time of crash as entered by the reporting officer |\n",
    "| posted_speed_limit  | Posted speed limit, as determined by reporting officer |\n",
    "| traffic_control_device | Traffic control device present at crash location, as determined by reporting officer |\n",
    "| device_condition  | Condition of traffic control device, as determined by reporting officer |\n",
    "| weather_condition | Weather condition at time of crash, as determined by reporting officer |\n",
    "| lighting_condition | Light condition at time of crash, as determined by reporting officer |\n",
    "| first_crash_type | Type of first collision in crash |\n",
    "| trafficway_type  | Trafficway type, as determined by reporting officer |\n",
    "| lane_ct | Total number of through lanes in either direction, excluding turn lanes, as determined by reporting officer (0 = intersection)|\n",
    "| alignment | Street alignment at crash location, as determined by reporting officer |\n",
    "| roadway_surface_cond        | Road surface condition, as determined by reporting officer |\n",
    "| road_defect | Road defects, as determined by reporting officer |\n",
    "| crash_type | A general severity classification for the crash. Can be either Injury and/or Tow Due to Crash or No Injury / Drive Away |\n",
    "| damage | A field observation of estimated damage. |\n",
    "| prim_contributory_cause   | The factor which was most significant in causing the crash, as determined by officer judgment |\n",
    "| sec_contributory_cause | The factor which was second most significant in causing the crash, as determined by officer judgment |\n",
    "| street_name | Street address name of crash location, as determined by reporting officer|\n",
    "| num_units | Number of units involved in the crash. A unit can be a motor vehicle, a pedestrian, a bicyclist, or another non-passenger roadway user. Each unit represents a mode of traffic with an independent trajectory. |\n",
    "| most_severe_injury | Most severe injury sustained by any person involved in the crash |\n",
    "| injuries_total | Total persons sustaining fatal, incapacitating, non-incapacitating, and possible injuries as determined by the reporting officer |\n",
    "| injuries_fatal | Total persons sustaining fatal injuries in the crash |\n",
    "| injuries_incapacitating | Total persons sustaining incapacitating/serious injuries in the crash as determined by the reporting officer. Any injury other than fatal injury, which prevents the injured person from walking, driving, or normally continuing the activities they were capable of performing before the injury occurred. Includes severe lacerations, broken limbs, skull or chest injuries, and abdominal injuries. |\n",
    "| injuries_non_incapacitating | Total persons sustaining non-incapacitating injuries in the crash as determined by the reporting officer. Any injury, other than fatal or incapacitating injury, which is evident to observers at the scene of the crash. Includes lump on head, abrasions, bruises, and minor lacerations. |\n",
    "| crash_hour | The hour of the day component of CRASH_DATE. |\n",
    "| crash_day_of_week | The day of the week component of CRASH_DATE. Sunday=1 |\n",
    "| latitude | The latitude of the crash location, as determined by reporting officer, as derived from the reported address of crash |\n",
    "| longitude | The longitude of the crash location, as determined by reporting officer, as derived from the reported address of crash |\n",
    "\n",
    "\n",
    "### [People](https://data.cityofchicago.org/Transportation/Traffic-Crashes-People/u6pd-qa9d):\n",
    "\n",
    "##### Number of Rows: \n",
    "\n",
    "*Information about people involved in a crash and if any injuries were sustained.*\n",
    "\n",
    "| Column Name                 | Description                |\n",
    "| --------------------------- | -------------------------- |\n",
    "| crash_record_id | This number can be used to link to the same crash in the Crashes and Vehicles datasets. This number also serves as a unique ID in the Crashes dataset. |\n",
    "| person_type | Type of roadway user involved in crash |\n",
    "| rd_no | Chicago Police Department report number. For privacy reasons, this column is blank for recent crashes. |\n",
    "| crash_date | Date and time of crash as entered by the reporting officer |\n",
    "| seat_no | Code for seating position of motor vehicle occupant: 1= driver, 2= center front, 3 = front passenger, 4 = second row left, 5 = second row center, 6 = second row right, 7 = enclosed passengers, 8 = exposed passengers, 9= unknown position, 10 = third row left, 11 = third row center, 12 = third row right |\n",
    "| city | City of residence of person involved in crash |\n",
    "| state | State of residence of person involved in crash |\n",
    "| zipcode | ZIP Code of residence of person involved in crash |\n",
    "| sex | Gender of person involved in crash, as determined by reporting officer |\n",
    "| age | Age of person involved in crash |\n",
    "| drivers_license_state | State issuing driver's license of person involved in crash |\n",
    "| drivers_license_class | Class of driver's license of person involved in crash |\n",
    "| safety_equipment | Safety equipment used by vehicle occupant in crash, if any |\n",
    "| airbag_deployed | Whether vehicle occupant airbag deployed as result of crash |\n",
    "| ejection | Whether vehicle occupant was ejected or extricated from the vehicle as a result of crash |\n",
    "| injury_classification | Severity of injury person sustained in the crash |\n",
    "| driver_action | Driver action that contributed to the crash, as determined by reporting officer |\n",
    "| driver_vision | What, if any, objects obscured the driver’s vision at time of crash |\n",
    "| physical_condition | Driver’s apparent physical condition at time of crash, as observed by the reporting officer |\n",
    "| pedpedal_action | Action of pedestrian or cyclist at the time of crash |\n",
    "| pedpedal_visibility | Visibility of pedestrian of cyclist safety equipment in use at time of crash |\n",
    "| pedpedal_location | Location of pedestrian or cyclist at the time of crash |\n",
    "| bac_result | Status of blood alcohol concentration testing for driver or other person involved in crash |\n",
    "| bac_result value | Driver’s blood alcohol concentration test result (fatal crashes may include pedestrian or cyclist results) |\n",
    "| cell_phone_use | Whether person was/was not using cellphone at the time of the crash, as determined by the reporting officer |\n",
    "\n",
    "### [Vehicles](https://data.cityofchicago.org/Transportation/Traffic-Crashes-Vehicles/68nd-jvt3):\n",
    "\n",
    "##### Number of Rows: \n",
    "\n",
    "*Information about vehicles (\"units\") involved in a traffic crash.*\n",
    "\n",
    "| Column Name                 | Description                |\n",
    "| --------------------------- | -------------------------- |\n",
    "| crash_record_id | This number can be used to link to the same crash in the Crashes and People datasets. This number also serves as a unique ID in the Crashes dataset. |\n",
    "| rd_no | Chicago Police Department report number. For privacy reasons, this column is blank for recent crashes. |\n",
    "| crash_date | Date and time of crash as entered by the reporting officer |\n",
    "| unit_type | The type of unit |\n",
    "| num_passengers | Number of passengers in the vehicle. The driver is not included. More information on passengers is in the People dataset. |\n",
    "| make | The make (brand) of the vehicle, if relevant |\n",
    "| model | The model of the vehicle, if relevant |\n",
    "| lic_plate_state | The state issuing the license plate of the vehicle, if relevant |\n",
    "| vehicle_year | The model year of the vehicle, if relevant |\n",
    "| vehicle_defect |  |\n",
    "| vehicle_type | The type of vehicle, if relevant |\n",
    "| vehicle_use | The normal use of the vehicle, if relevant |\n",
    "| maneuver | The action the unit was taking prior to the crash, as determined by the reporting officer |\n",
    "| towed_I | Indicator of whether the vehicle was towed |\n",
    "| occupant_cnt | The number of people in the unit, as determined by the reporting officer |\n",
    "| exceed_speed_limit_I | Indicator of whether the unit was speeding, as determined by the reporting officer |\n",
    "| first_contact_point |  |\n",
    "| vehicle_config |  |\n",
    "| carrier_name |  |\n",
    "| carrier_state |  |\n",
    "| carrier_city |  |\n",
    "\n"
   ]
  },
  {
   "cell_type": "code",
   "execution_count": 1,
   "metadata": {},
   "outputs": [],
   "source": [
    "import pandas as pd\n",
    "import numpy as np\n",
    "import warnings\n",
    "warnings.filterwarnings('ignore')\n",
    "pd.set_option('display.max_rows', 500)\n",
    "pd.set_option('display.max_columns', 700)"
   ]
  },
  {
   "cell_type": "code",
   "execution_count": null,
   "metadata": {},
   "outputs": [],
   "source": [
    "crashes = ('')"
   ]
  },
  {
   "cell_type": "code",
   "execution_count": null,
   "metadata": {},
   "outputs": [],
   "source": [
    "people = "
   ]
  },
  {
   "cell_type": "code",
   "execution_count": null,
   "metadata": {},
   "outputs": [],
   "source": [
    "vehicles = "
   ]
  },
  {
   "cell_type": "markdown",
   "metadata": {},
   "source": [
    "## Exploratory Data Analysis (EDA)"
   ]
  },
  {
   "cell_type": "code",
   "execution_count": null,
   "metadata": {},
   "outputs": [],
   "source": [
    "vehicles = vehicles.drop(columns=['NUM_PASSENGERS', 'CMRC_VEH_I', 'TOWED_I', 'FIRE_I', 'EXCEED_SPEED_LIMIT_I', \n",
    "                                  'TOWED_BY', 'TOWED_TO', 'AREA_00_I', 'AREA_01_I', 'AREA_02_I', 'AREA_03_I', \n",
    "                                  'AREA_04_I', 'AREA_05_I', 'AREA_06_I', 'AREA_07_I', 'AREA_08_I', 'AREA_09_I', \n",
    "                                  'AREA_10_I', 'AREA_11_I', 'AREA_12_I', 'AREA_99_I', 'CMV_ID', 'USDOT_NO', 'CCMC_NO', \n",
    "                                  'ILCC_NO', 'COMMERCIAL_SRC', 'GVWR', 'CARRIER_NAME', 'CARRIER_STATE', 'CARRIER_CITY',\n",
    "                                  'HAZMAT_PLACARDS_I', 'HAZMAT_NAME', 'UN_NO', 'HAZMAT_PRESENT_I', 'HAZMAT_REPORT_I',\n",
    "                                  'HAZMAT_REPORT_NO', 'MCS_REPORT_I', 'MCS_REPORT_NO', 'HAZMAT_VIO_CAUSE_CRASH_I',\n",
    "                                  'MCS_VIO_CAUSE_CRASH_I', 'IDOT_PERMIT_NO', 'WIDE_LOAD_I', 'TRAILER1_WIDTH',\n",
    "                                  'TRAILER2_WIDTH', 'TRAILER1_LENGTH', 'TRAILER2_LENGTH', 'TOTAL_VEHICLE_LENGTH',\n",
    "                                  'AXLE_CNT', 'VEHICLE_CONFIG', 'CARGO_BODY_TYPE', 'LOAD_TYPE', 'HAZMAT_OUT_OF_SERVICE_I',\n",
    "                                  'MCS_OUT_OF_SERVICE_I', 'HAZMAT_CLASS', 'LIC_PLATE_STATE'])"
   ]
  },
  {
   "cell_type": "code",
   "execution_count": null,
   "metadata": {},
   "outputs": [],
   "source": [
    "vehicles.dropna(inplace=True)"
   ]
  },
  {
   "cell_type": "code",
   "execution_count": null,
   "metadata": {},
   "outputs": [],
   "source": []
  },
  {
   "cell_type": "code",
   "execution_count": null,
   "metadata": {},
   "outputs": [],
   "source": []
  },
  {
   "cell_type": "code",
   "execution_count": null,
   "metadata": {},
   "outputs": [],
   "source": []
  },
  {
   "cell_type": "code",
   "execution_count": null,
   "metadata": {},
   "outputs": [],
   "source": []
  },
  {
   "cell_type": "markdown",
   "metadata": {},
   "source": [
    "## Predictive Modeling"
   ]
  },
  {
   "cell_type": "code",
   "execution_count": null,
   "metadata": {},
   "outputs": [],
   "source": []
  },
  {
   "cell_type": "code",
   "execution_count": null,
   "metadata": {},
   "outputs": [],
   "source": []
  },
  {
   "cell_type": "code",
   "execution_count": null,
   "metadata": {},
   "outputs": [],
   "source": []
  },
  {
   "cell_type": "code",
   "execution_count": null,
   "metadata": {},
   "outputs": [],
   "source": []
  },
  {
   "cell_type": "code",
   "execution_count": null,
   "metadata": {},
   "outputs": [],
   "source": []
  }
 ],
 "metadata": {
  "kernelspec": {
   "display_name": "Python 3",
   "language": "python",
   "name": "python3"
  },
  "language_info": {
   "codemirror_mode": {
    "name": "ipython",
    "version": 3
   },
   "file_extension": ".py",
   "mimetype": "text/x-python",
   "name": "python",
   "nbconvert_exporter": "python",
   "pygments_lexer": "ipython3",
   "version": "3.8.5"
  }
 },
 "nbformat": 4,
 "nbformat_minor": 4
}
