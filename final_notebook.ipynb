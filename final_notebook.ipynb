{
 "cells": [
  {
   "cell_type": "markdown",
   "metadata": {},
   "source": [
    "# Chicago, IL : Car Crash Analysis & Predictive Modeling\n",
    "\n",
    "\n",
    "### *Predicting severity of car crashes with Machine Learning Models*\n",
    "\n",
    "Authors: [Christos Maglaras](mailto:Christo111M@gmail.com), [Marcos Panyagua](mailto:marcosvppfernandes@gmail.com), [Jamie Dowat](mailto:jamie_dowat44@yahoo.com)\n",
    "\n",
    "Date: 3/12/2021\n",
    "\n",
    "![chicago](img/chicago_night_drive.jpg)\n",
    "\n",
    "## Stakeholder: Chicago Department of Transportation\n",
    "\n",
    "![cdot](img/cdot.png)\n",
    "\n",
    "### Business Understanding\n",
    "\n",
    "Just a week ago, the National Security Coundil released a [report](https://www.nsc.org/newsroom/motor-vehicle-deaths-2020-estimated-to-be-highest) containing some disturbing statistics from 2020. The first paragraph begins as follows:\n",
    "> For the first time since 2007, preliminary data from the National Safety Council show that as many as 42,060 people are estimated to have died in motor vehicle crashes in 2020. That marks an 8% increase over 2019 in a year where people drove significantly less frequently because of the pandemic.\n",
    "\n",
    "According to their data, the US hasn't seen an increase like this since **1924**.\n",
    "\n",
    "Following this trend, the **Governor's Highway Safety Association** reported that [*pedestrian* fatality rate](https://www.smartcitiesdive.com/news/ghsa-projects-highest-pedestrian-death-rate-since-1988/573203/) has reached a **30-year high**, with nighttime pedestrian fatalities having increased by 67%, and a 16% increase in daytime fatalities, highlighting the need for *safer road crossings* and increased efforts to make pedestrians and vehicles more *visible*.\n",
    "\n",
    "Narrowing our focus even further, in **Illinois**, around **1000** people were KILLED in motor vehicle crashes in **2019** alone. \n",
    "\n",
    "**Advocates for Highway and Auto Safety** have scored all US states against their [Roadmap for State Highway Safety Laws](https://saferoads.org/wp-content/uploads/2020/01/Advocates-for-Highway-and-Auto-Safety-2020-Roadmap-of-State-Highway-Safety-Laws.pdf), a set of 16 laws that cover occupant protection (selt belt, helmet laws), child protection, and teen driving. \n",
    "\n",
    "![scoring](img/scoringsafety.png)\n",
    "\n",
    "When Illinois is [scored](https://saferoads.org/state/illinois/) against this Roadmap, it has been given a yellow rating (Caution), since it still lacks the following safety laws:\n",
    "\n",
    "* All-Rider Motorcycle Helmet Law\n",
    "* Booster Seat Law\n",
    "* GDL (Graduated Driver's License) – Minimum Age 16 for Learner’s Permit\n",
    "* GDL – Stronger Nighttime Restriction Provision\n",
    "* GDL- Stronger Passenger Restriction Provision\n",
    "* GDL- Age 18 for Unrestricted License\n",
    "\n",
    "Currently, the Chicago Department of Transportation is working with the city's new initiative, **Vision Zero**, to reduce accidents on the road. In Vision Zero's [report](https://8gq.ef1.myftpupload.com/wp-content/uploads/2016/05/17_0612-VZ-Action-Plan_FOR-WEB.pdf) and action plan, they used crash data to identify high crash corridors in the city as well as other important trends to guide education, road safety improvements, and more.\n",
    "\n",
    "![quotes](img/visionzeroquotes.png)\n",
    "\n",
    "Bearing all of this in mind, we had these current safety movements and road safety problems guide our exploration and modeling of this data. \n",
    "\n",
    "Even more importantly, this business understanding was the sole influencer of our target choice, *severity of crash based on injury*.\n",
    "\n",
    "******\n",
    "\n",
    "## Predictive Modeling Preview\n",
    "\n",
    "In terms of business problems, we found one of the ways a predictive model could most help with this business problem is to determine how different factors of the crash determine the severity of injuries in the crash.\n",
    "\n",
    "Tried Logistic Regression, K-Nearest Neighbors, Decision Tree, Naive Bayes, and Random Forest Classifier, before settling on our final model produced by a Bayesian-Optimized XGBoost Classifier.\n",
    "\n",
    "We experimented with both a BINARY classification and a TERNARY, with our final model using as TERNARY classification. The targets are defined as follows, using the MOST_SEVERE_INJURY column in the Crashes dataset:\n",
    "\n",
    "* BINARY:\n",
    "    * Class 0: No Injury\n",
    "    * Class 1: Injury\n",
    "    \n",
    "* TERNARY\n",
    "    * Class 0: No Injury\n",
    "    * Class 1: NON-INCAPACITATING injuries\n",
    "    * Class 2: INCAPACITATING or FATAL injuries\n",
    "\n",
    "******\n",
    "\n",
    "## Data: [Chicago City Data Portal](https://data.cityofchicago.org/)\n",
    "\n",
    "![ccdp](img/chicagocitydataportal.jpg)\n",
    "\n",
    "### [Crashes](https://data.cityofchicago.org/Transportation/Traffic-Crashes-Crashes/85ca-t3if):\n",
    "\n",
    "##### Number of Rows: 482,866\n",
    "\n",
    "*Shows crash data from crash from the Chicago Police Department's **E-Crash** system*\n",
    "\n",
    "**\"All crashes are recorded as per the format specified in the Traffic Crash Report, SR1050, of the Illinois Department of Transportation.\"**\n",
    "\n",
    "| Column Name                 | Description                |\n",
    "| --------------------------- | -------------------------- |\n",
    "| crash_record_id  |  Can be used to link to the same crash in the Vehicles and People datasets. |\n",
    "| rd_no | Chicago Police Department report number|\n",
    "| crash_date | Date and time of crash as entered by the reporting officer |\n",
    "| posted_speed_limit  | Posted speed limit, as determined by reporting officer |\n",
    "| traffic_control_device | Traffic control device present at crash location, as determined by reporting officer (signals, stop sign, etc) |\n",
    "| device_condition  | Condition of traffic control device, as determined by reporting officer |\n",
    "| weather_condition | Weather condition at time of crash, as determined by reporting officer |\n",
    "| lighting_condition | Light condition at time of crash, as determined by reporting officer |\n",
    "| first_crash_type | Type of first collision in crash |\n",
    "| trafficway_type  | Trafficway type, as determined by reporting officer |\n",
    "| lane_ct | Total number of through lanes in either direction, excluding turn lanes, as determined by reporting officer (0 = intersection)|\n",
    "| alignment | Street alignment at crash location, as determined by reporting officer |\n",
    "| roadway_surface_cond        | Road surface condition, as determined by reporting officer |\n",
    "| road_defect | Road defects, as determined by reporting officer |\n",
    "| crash_type | A general severity classification for the crash. Can be either Injury and/or Tow Due to Crash or No Injury / Drive Away |\n",
    "| damage | A field observation of estimated damage. |\n",
    "| prim_contributory_cause   | The factor which was most significant in causing the crash, as determined by officer judgment |\n",
    "| sec_contributory_cause | The factor which was second most significant in causing the crash, as determined by officer judgment |\n",
    "| street_name | Street address name of crash location, as determined by reporting officer|\n",
    "| num_units | Number of units involved in the crash. A unit can be a motor vehicle, a pedestrian, a bicyclist, or another non-passenger roadway user. Each unit represents a mode of traffic with an independent trajectory. |\n",
    "| most_severe_injury | Most severe injury sustained by any person involved in the crash |\n",
    "| injuries_total | Total persons sustaining fatal, incapacitating, non-incapacitating, and possible injuries as determined by the reporting officer |\n",
    "| injuries_fatal | Total persons sustaining fatal injuries in the crash |\n",
    "| injuries_incapacitating | Total persons sustaining incapacitating/serious injuries in the crash as determined by the reporting officer. Any injury other than fatal injury, which prevents the injured person from walking, driving, or normally continuing the activities they were capable of performing before the injury occurred. Includes severe lacerations, broken limbs, skull or chest injuries, and abdominal injuries. |\n",
    "| injuries_non_incapacitating | Total persons sustaining non-incapacitating injuries in the crash as determined by the reporting officer. Any injury, other than fatal or incapacitating injury, which is evident to observers at the scene of the crash. Includes lump on head, abrasions, bruises, and minor lacerations. |\n",
    "| crash_hour | The hour of the day component of CRASH_DATE. |\n",
    "| crash_day_of_week | The day of the week component of CRASH_DATE. Sunday=1 |\n",
    "| latitude | The latitude of the crash location, as determined by reporting officer, as derived from the reported address of crash |\n",
    "| longitude | The longitude of the crash location, as determined by reporting officer, as derived from the reported address of crash |\n",
    "\n",
    "\n",
    "### [People](https://data.cityofchicago.org/Transportation/Traffic-Crashes-People/u6pd-qa9d):\n",
    "\n",
    "##### Number of Rows: 1,068,637\n",
    "\n",
    "*Information about people involved in a crash and if any injuries were sustained.*\n",
    "\n",
    "| Column Name                 | Description                |\n",
    "| --------------------------- | -------------------------- |\n",
    "| crash_record_id | This number can be used to link to the same crash in the Crashes and Vehicles datasets. This number also serves as a unique ID in the Crashes dataset. |\n",
    "| person_type | Type of roadway user involved in crash |\n",
    "| rd_no | Chicago Police Department report number. For privacy reasons, this column is blank for recent crashes. |\n",
    "| crash_date | Date and time of crash as entered by the reporting officer |\n",
    "| seat_no | Code for seating position of motor vehicle occupant: 1= driver, 2= center front, 3 = front passenger, 4 = second row left, 5 = second row center, 6 = second row right, 7 = enclosed passengers, 8 = exposed passengers, 9= unknown position, 10 = third row left, 11 = third row center, 12 = third row right |\n",
    "| city | City of residence of person involved in crash |\n",
    "| state | State of residence of person involved in crash |\n",
    "| zipcode | ZIP Code of residence of person involved in crash |\n",
    "| sex | Gender of person involved in crash, as determined by reporting officer |\n",
    "| age | Age of person involved in crash |\n",
    "| drivers_license_state | State issuing driver's license of person involved in crash |\n",
    "| drivers_license_class | Class of driver's license of person involved in crash |\n",
    "| safety_equipment | Safety equipment used by vehicle occupant in crash, if any |\n",
    "| airbag_deployed | Whether vehicle occupant airbag deployed as result of crash |\n",
    "| ejection | Whether vehicle occupant was ejected or extricated from the vehicle as a result of crash |\n",
    "| injury_classification | Severity of injury person sustained in the crash |\n",
    "| driver_action | Driver action that contributed to the crash, as determined by reporting officer |\n",
    "| driver_vision | What, if any, objects obscured the driver’s vision at time of crash |\n",
    "| physical_condition | Driver’s apparent physical condition at time of crash, as observed by the reporting officer |\n",
    "| pedpedal_action | Action of pedestrian or cyclist at the time of crash |\n",
    "| pedpedal_visibility | Visibility of pedestrian of cyclist safety equipment in use at time of crash |\n",
    "| pedpedal_location | Location of pedestrian or cyclist at the time of crash |\n",
    "| bac_result | Status of blood alcohol concentration testing for driver or other person involved in crash |\n",
    "| bac_result value | Driver’s blood alcohol concentration test result (fatal crashes may include pedestrian or cyclist results) |\n",
    "| cell_phone_use | Whether person was/was not using cellphone at the time of the crash, as determined by the reporting officer |\n",
    "\n",
    "### [Vehicles](https://data.cityofchicago.org/Transportation/Traffic-Crashes-Vehicles/68nd-jvt3):\n",
    "\n",
    "##### Number of Rows: 987,148\n",
    "\n",
    "*Information about vehicles (\"units\") involved in a traffic crash.*\n",
    "\n",
    "| Column Name                 | Description                |\n",
    "| --------------------------- | -------------------------- |\n",
    "| crash_record_id | This number can be used to link to the same crash in the Crashes and People datasets. This number also serves as a unique ID in the Crashes dataset. |\n",
    "| rd_no | Chicago Police Department report number. For privacy reasons, this column is blank for recent crashes. |\n",
    "| crash_date | Date and time of crash as entered by the reporting officer |\n",
    "| unit_type | The type of unit (i.e Driver, parked, pedestrian, bicycle, etc) |\n",
    "| num_passengers | Number of passengers in the vehicle. The driver is not included. More information on passengers is in the People dataset. |\n",
    "| make | The make (brand) of the vehicle, if relevant |\n",
    "| model | The model of the vehicle, if relevant |\n",
    "| lic_plate_state | The state issuing the license plate of the vehicle, if relevant |\n",
    "| vehicle_year | The model year of the vehicle, if relevant |\n",
    "| vehicle_defect | Indicates part of car containing defect (brakes, wheels, etc.) |\n",
    "| vehicle_type | The type of vehicle, if relevant (passenger, truck, bus, etc) |\n",
    "| vehicle_use | The normal use of the vehicle, if relevant |\n",
    "| maneuver | The action the unit was taking prior to the crash, as determined by the reporting officer |\n",
    "| towed_I | Indicator of whether the vehicle was towed |\n",
    "| occupant_cnt | The number of people in the unit, as determined by the reporting officer |\n",
    "| exceed_speed_limit_I | Indicator of whether the unit was speeding, as determined by the reporting officer |\n",
    "| first_contact_point | Indicates orientation on car that was hit (front, rear, etc) |\n",
    "\n"
   ]
  },
  {
   "cell_type": "code",
   "execution_count": 1,
   "metadata": {},
   "outputs": [],
   "source": [
    "import pandas as pd\n",
    "import numpy as np\n",
    "import warnings\n",
    "warnings.filterwarnings('ignore')\n",
    "pd.set_option('display.max_rows', 500)\n",
    "pd.set_option('display.max_columns', None)"
   ]
  },
  {
   "cell_type": "code",
   "execution_count": 119,
   "metadata": {},
   "outputs": [],
   "source": [
    "crashes = pd.read_csv('data/traffic_crashes_chicago.csv', low_memory=False)"
   ]
  },
  {
   "cell_type": "code",
   "execution_count": 120,
   "metadata": {},
   "outputs": [],
   "source": [
    "people = pd.read_csv('data/traffic_crashes_people.csv', low_memory=False)"
   ]
  },
  {
   "cell_type": "code",
   "execution_count": 121,
   "metadata": {},
   "outputs": [],
   "source": [
    "vehicles = pd.read_csv('data/traffic_crashes_vehicles.csv', low_memory=False)"
   ]
  },
  {
   "cell_type": "markdown",
   "metadata": {},
   "source": [
    "## Exploratory Data Analysis (EDA)"
   ]
  },
  {
   "cell_type": "code",
   "execution_count": 95,
   "metadata": {},
   "outputs": [],
   "source": [
    "from src import data_cleaning"
   ]
  },
  {
   "cell_type": "code",
   "execution_count": 96,
   "metadata": {},
   "outputs": [],
   "source": [
    "crashes, people, vehicles = data_cleaning.column_mask([crashes, people, vehicles])"
   ]
  },
  {
   "cell_type": "code",
   "execution_count": 100,
   "metadata": {},
   "outputs": [],
   "source": [
    "from src import eda\n",
    "%matplotlib inline"
   ]
  },
  {
   "cell_type": "code",
   "execution_count": 46,
   "metadata": {},
   "outputs": [],
   "source": [
    "from pandas.tseries.holiday import USFederalHolidayCalendar\n",
    "cal = USFederalHolidayCalendar()\n",
    "holidays = cal.holidays(start='2013-01-01', end='2022-12-31', return_name=True)\n",
    "holidays = holidays.reset_index(name='holiday').rename(columns={'index':'date'})\n",
    "\n",
    "\n",
    "\n",
    "holidays = holidays[(holidays['holiday'] =='July 4th')|(holidays['holiday'] =='Thanksgiving')|(holidays['holiday'] =='Christmas')|(holidays['holiday'] =='New Years Day')]     \n",
    "                    \n",
    "crashes['crash_date'] = crashes['crash_date'].apply(lambda x: pd.to_datetime(x))"
   ]
  },
  {
   "cell_type": "markdown",
   "metadata": {},
   "source": [
    "## Predictive Modeling"
   ]
  },
  {
   "cell_type": "code",
   "execution_count": 48,
   "metadata": {},
   "outputs": [],
   "source": [
    "# Focus metric: RECALL"
   ]
  },
  {
   "cell_type": "code",
   "execution_count": null,
   "metadata": {},
   "outputs": [],
   "source": []
  },
  {
   "cell_type": "code",
   "execution_count": 56,
   "metadata": {},
   "outputs": [
    {
     "name": "stdout",
     "output_type": "stream",
     "text": [
      "traffic_control_device \n",
      "\n",
      " No_device         127586\n",
      "device_present    117573\n",
      "Name: traffic_control_device, dtype: int64 \n",
      "\n",
      "\n",
      "\n",
      "weather_condition \n",
      "\n",
      " Clear        198998\n",
      "Not_Clear     46161\n",
      "Name: weather_condition, dtype: int64 \n",
      "\n",
      "\n",
      "\n",
      "first_crash_type \n",
      "\n",
      " REAR END                        66207\n",
      "TURNING                         42481\n",
      "SIDESWIPE SAME DIRECTION        40069\n",
      "PARKED MOTOR VEHICLE            34114\n",
      "ANGLE                           31392\n",
      "FIXED OBJECT                    10225\n",
      "PEDESTRIAN                       5488\n",
      "PEDALCYCLIST                     3590\n",
      "SIDESWIPE OPPOSITE DIRECTION     3546\n",
      "HEAD ON                          2448\n",
      "OTHER OBJECT                     1821\n",
      "REAR TO FRONT                    1594\n",
      "REAR TO SIDE                      900\n",
      "OTHER NONCOLLISION                674\n",
      "REAR TO REAR                      256\n",
      "ANIMAL                            201\n",
      "OVERTURNED                        132\n",
      "TRAIN                              21\n",
      "Name: first_crash_type, dtype: int64 \n",
      "\n",
      "\n",
      "\n",
      "roadway_surface_cond \n",
      "\n",
      " Dry        192771\n",
      "Not_Dry     52388\n",
      "Name: roadway_surface_cond, dtype: int64 \n",
      "\n",
      "\n",
      "\n",
      "road_defect \n",
      "\n",
      " NO DEFECTS           239019\n",
      "RUT, HOLES             2345\n",
      "OTHER                  1731\n",
      "WORN SURFACE           1147\n",
      "SHOULDER DEFECT         649\n",
      "DEBRIS ON ROADWAY       268\n",
      "Name: road_defect, dtype: int64 \n",
      "\n",
      "\n",
      "\n",
      "damage \n",
      "\n",
      " OVER $1,500      149918\n",
      "$501 - $1,500     65121\n",
      "$500 OR LESS      30120\n",
      "Name: damage, dtype: int64 \n",
      "\n",
      "\n",
      "\n",
      "prim_contributory_cause \n",
      "\n",
      " FAILING TO YIELD RIGHT-OF-WAY                                                       47637\n",
      "FOLLOWING TOO CLOSELY                                                               44821\n",
      "IMPROPER OVERTAKING/PASSING                                                         19668\n",
      "FAILING TO REDUCE SPEED TO AVOID CRASH                                              18385\n",
      "IMPROPER BACKING                                                                    18212\n",
      "IMPROPER LANE USAGE                                                                 16710\n",
      "IMPROPER TURNING/NO SIGNAL                                                          14127\n",
      "DRIVING SKILLS/KNOWLEDGE/EXPERIENCE                                                 12660\n",
      "DISREGARDING TRAFFIC SIGNALS                                                         7836\n",
      "WEATHER                                                                              7095\n",
      "OPERATING VEHICLE IN ERRATIC, RECKLESS, CARELESS, NEGLIGENT OR AGGRESSIVE MANNER     5380\n",
      "DISREGARDING STOP SIGN                                                               4720\n",
      "DISTRACTION - FROM INSIDE VEHICLE                                                    3192\n",
      "EQUIPMENT - VEHICLE CONDITION                                                        2756\n",
      "PHYSICAL CONDITION OF DRIVER                                                         2576\n",
      "VISION OBSCURED (SIGNS, TREE LIMBS, BUILDINGS, ETC.)                                 2573\n",
      "UNDER THE INFLUENCE OF ALCOHOL/DRUGS (USE WHEN ARREST IS EFFECTED)                   2324\n",
      "DRIVING ON WRONG SIDE/WRONG WAY                                                      1988\n",
      "DISTRACTION - FROM OUTSIDE VEHICLE                                                   1898\n",
      "EXCEEDING AUTHORIZED SPEED LIMIT                                                     1800\n",
      "EXCEEDING SAFE SPEED FOR CONDITIONS                                                  1505\n",
      "ROAD ENGINEERING/SURFACE/MARKING DEFECTS                                             1319\n",
      "ROAD CONSTRUCTION/MAINTENANCE                                                        1105\n",
      "DISREGARDING OTHER TRAFFIC SIGNS                                                      933\n",
      "EVASIVE ACTION DUE TO ANIMAL, OBJECT, NONMOTORIST                                     774\n",
      "DISREGARDING ROAD MARKINGS                                                            600\n",
      "CELL PHONE USE OTHER THAN TEXTING                                                     591\n",
      "HAD BEEN DRINKING (USE WHEN ARREST IS NOT MADE)                                       468\n",
      "ANIMAL                                                                                350\n",
      "TURNING RIGHT ON RED                                                                  295\n",
      "DISTRACTION - OTHER ELECTRONIC DEVICE (NAVIGATION DEVICE, DVD PLAYER, ETC.)           215\n",
      "TEXTING                                                                               184\n",
      "DISREGARDING YIELD SIGN                                                               157\n",
      "RELATED TO BUS STOP                                                                   146\n",
      "BICYCLE ADVANCING LEGALLY ON RED LIGHT                                                 60\n",
      "PASSING STOPPED SCHOOL BUS                                                             55\n",
      "OBSTRUCTED CROSSWALKS                                                                  29\n",
      "MOTORCYCLE ADVANCING LEGALLY ON RED LIGHT                                              15\n",
      "Name: prim_contributory_cause, dtype: int64 \n",
      "\n",
      "\n",
      "\n",
      "num_units \n",
      "\n",
      " 2orless    226449\n",
      "3+          18710\n",
      "Name: num_units, dtype: int64 \n",
      "\n",
      "\n",
      "\n",
      "crash_hour \n",
      "\n",
      " 16    18971\n",
      "17    18749\n",
      "15    18423\n",
      "14    16100\n",
      "18    15209\n",
      "13    14760\n",
      "12    14252\n",
      "8     14154\n",
      "11    13296\n",
      "9     12133\n",
      "10    11948\n",
      "7     11358\n",
      "19    11120\n",
      "20     8688\n",
      "21     7643\n",
      "22     7010\n",
      "23     5953\n",
      "6      5693\n",
      "0      4584\n",
      "1      3749\n",
      "2      3242\n",
      "5      3089\n",
      "3      2643\n",
      "4      2392\n",
      "Name: crash_hour, dtype: int64 \n",
      "\n",
      "\n",
      "\n",
      "injured \n",
      "\n",
      " False    206364\n",
      "True      38795\n",
      "Name: injured, dtype: int64 \n",
      "\n",
      "\n",
      "\n"
     ]
    }
   ],
   "source": [
    "for col in crash_mod.columns:\n",
    "    print(col, '\\n\\n', crash_mod[col].value_counts(), '\\n\\n\\n')"
   ]
  },
  {
   "cell_type": "markdown",
   "metadata": {},
   "source": [
    "### Modeling Data Prep"
   ]
  },
  {
   "cell_type": "code",
   "execution_count": 57,
   "metadata": {
    "scrolled": true
   },
   "outputs": [],
   "source": [
    "from src import models"
   ]
  },
  {
   "cell_type": "code",
   "execution_count": 58,
   "metadata": {},
   "outputs": [],
   "source": [
    "pp = models.Preprocessor(target_col_name = 'injured', df=crash_mod)"
   ]
  },
  {
   "cell_type": "code",
   "execution_count": 59,
   "metadata": {},
   "outputs": [],
   "source": [
    "target_split = pp.target_split([crash_mod])"
   ]
  },
  {
   "cell_type": "code",
   "execution_count": 60,
   "metadata": {},
   "outputs": [],
   "source": [
    "tr_te_split = pp.split_train_test(target_split)"
   ]
  },
  {
   "cell_type": "markdown",
   "metadata": {},
   "source": [
    "If you do not have xgboost, you can download it by running the following command:"
   ]
  },
  {
   "cell_type": "code",
   "execution_count": null,
   "metadata": {},
   "outputs": [],
   "source": [
    "# !pip install xgboost"
   ]
  },
  {
   "cell_type": "markdown",
   "metadata": {},
   "source": [
    "If xgboost is still not working, you may need to uncomment and run the code below:"
   ]
  },
  {
   "cell_type": "code",
   "execution_count": null,
   "metadata": {},
   "outputs": [],
   "source": [
    "# !brew install libomp"
   ]
  },
  {
   "cell_type": "code",
   "execution_count": null,
   "metadata": {},
   "outputs": [],
   "source": [
    "from sklearn.linear_model import LogisticRegression\n",
    "from sklearn.neighbors import KNeighborsClassifier\n",
    "from sklearn.ensemble import RandomForestClassifier\n",
    "from sklearn.preprocessing import StandardScaler, OneHotEncoder\n",
    "from sklearn.metrics import roc_auc_score\n",
    "from sklearn.naive_bayes import GaussianNB\n",
    "from xgboost import XGBClassifier"
   ]
  },
  {
   "cell_type": "code",
   "execution_count": null,
   "metadata": {},
   "outputs": [],
   "source": [
    "X_train = tr_te_split[2]['train']['X']\n",
    "\n",
    "y_train = tr_te_split[2]['train']['y']"
   ]
  },
  {
   "cell_type": "markdown",
   "metadata": {},
   "source": [
    "### First Simple Model"
   ]
  },
  {
   "cell_type": "code",
   "execution_count": 61,
   "metadata": {},
   "outputs": [],
   "source": [
    "lr = LogisticRegression(max_iter=100000, C=0.05)"
   ]
  },
  {
   "cell_type": "code",
   "execution_count": 126,
   "metadata": {
    "scrolled": true
   },
   "outputs": [
    {
     "ename": "KeyboardInterrupt",
     "evalue": "",
     "output_type": "error",
     "traceback": [
      "\u001b[0;31m---------------------------------------------------------------------------\u001b[0m",
      "\u001b[0;31mKeyboardInterrupt\u001b[0m                         Traceback (most recent call last)",
      "\u001b[0;32m<ipython-input-126-ea9cb6f76911>\u001b[0m in \u001b[0;36m<module>\u001b[0;34m\u001b[0m\n\u001b[0;32m----> 1\u001b[0;31m rec, prec, acc, roc_auc = models.kfold_validation(X_train, y_train, classifier=lr, \n\u001b[0m\u001b[1;32m      2\u001b[0m                         \u001b[0mcontinuous_cols\u001b[0m\u001b[0;34m=\u001b[0m\u001b[0;34m[\u001b[0m\u001b[0;34m'crash_hour'\u001b[0m\u001b[0;34m]\u001b[0m\u001b[0;34m,\u001b[0m\u001b[0;34m\u001b[0m\u001b[0;34m\u001b[0m\u001b[0m\n\u001b[1;32m      3\u001b[0m                         \u001b[0mcategorical_cols\u001b[0m\u001b[0;34m=\u001b[0m\u001b[0mtr_te_split\u001b[0m\u001b[0;34m[\u001b[0m\u001b[0;36m0\u001b[0m\u001b[0;34m]\u001b[0m\u001b[0;34m[\u001b[0m\u001b[0;34m'train'\u001b[0m\u001b[0;34m]\u001b[0m\u001b[0;34m[\u001b[0m\u001b[0;34m'X'\u001b[0m\u001b[0;34m]\u001b[0m\u001b[0;34m.\u001b[0m\u001b[0mdrop\u001b[0m\u001b[0;34m(\u001b[0m\u001b[0mlabels\u001b[0m\u001b[0;34m=\u001b[0m\u001b[0;34m[\u001b[0m\u001b[0;34m'crash_hour'\u001b[0m\u001b[0;34m]\u001b[0m\u001b[0;34m,\u001b[0m \u001b[0maxis\u001b[0m\u001b[0;34m=\u001b[0m\u001b[0;36m1\u001b[0m\u001b[0;34m)\u001b[0m\u001b[0;34m.\u001b[0m\u001b[0mcolumns\u001b[0m\u001b[0;34m,\u001b[0m\u001b[0;34m\u001b[0m\u001b[0;34m\u001b[0m\u001b[0m\n\u001b[1;32m      4\u001b[0m                         \u001b[0msmote\u001b[0m\u001b[0;34m=\u001b[0m\u001b[0;32mTrue\u001b[0m\u001b[0;34m,\u001b[0m\u001b[0;34m\u001b[0m\u001b[0;34m\u001b[0m\u001b[0m\n\u001b[1;32m      5\u001b[0m                         \u001b[0mminority_size\u001b[0m\u001b[0;34m=\u001b[0m\u001b[0;36m0.7\u001b[0m\u001b[0;34m,\u001b[0m\u001b[0;34m\u001b[0m\u001b[0;34m\u001b[0m\u001b[0m\n",
      "\u001b[0;32m~/pyspace/flatiron/projects/chicagoteam_quanggang/src/models.py\u001b[0m in \u001b[0;36mkfold_validation\u001b[0;34m(X_train, y_train, classifier, continuous_cols, categorical_cols, smote, minority_size, majority_reduce)\u001b[0m\n\u001b[1;32m    270\u001b[0m \u001b[0;34m\u001b[0m\u001b[0m\n\u001b[1;32m    271\u001b[0m             \u001b[0mX_part_over\u001b[0m\u001b[0;34m,\u001b[0m \u001b[0my_part_over\u001b[0m \u001b[0;34m=\u001b[0m \u001b[0moversample\u001b[0m\u001b[0;34m.\u001b[0m\u001b[0mfit_resample\u001b[0m\u001b[0;34m(\u001b[0m\u001b[0mx_t\u001b[0m\u001b[0;34m,\u001b[0m \u001b[0my_t\u001b[0m\u001b[0;34m)\u001b[0m\u001b[0;34m\u001b[0m\u001b[0;34m\u001b[0m\u001b[0m\n\u001b[0;32m--> 272\u001b[0;31m \u001b[0;34m\u001b[0m\u001b[0m\n\u001b[0m\u001b[1;32m    273\u001b[0m             \u001b[0mX_under\u001b[0m\u001b[0;34m,\u001b[0m \u001b[0my_under\u001b[0m \u001b[0;34m=\u001b[0m \u001b[0mundersample\u001b[0m\u001b[0;34m.\u001b[0m\u001b[0mfit_resample\u001b[0m\u001b[0;34m(\u001b[0m\u001b[0mX_part_over\u001b[0m\u001b[0;34m,\u001b[0m \u001b[0my_part_over\u001b[0m\u001b[0;34m)\u001b[0m\u001b[0;34m\u001b[0m\u001b[0;34m\u001b[0m\u001b[0m\n\u001b[1;32m    274\u001b[0m \u001b[0;34m\u001b[0m\u001b[0m\n",
      "\u001b[0;32m~/PySpace/anaconda3/lib/python3.8/site-packages/imblearn/base.py\u001b[0m in \u001b[0;36mfit_resample\u001b[0;34m(self, X, y)\u001b[0m\n\u001b[1;32m     81\u001b[0m         )\n\u001b[1;32m     82\u001b[0m \u001b[0;34m\u001b[0m\u001b[0m\n\u001b[0;32m---> 83\u001b[0;31m         \u001b[0moutput\u001b[0m \u001b[0;34m=\u001b[0m \u001b[0mself\u001b[0m\u001b[0;34m.\u001b[0m\u001b[0m_fit_resample\u001b[0m\u001b[0;34m(\u001b[0m\u001b[0mX\u001b[0m\u001b[0;34m,\u001b[0m \u001b[0my\u001b[0m\u001b[0;34m)\u001b[0m\u001b[0;34m\u001b[0m\u001b[0;34m\u001b[0m\u001b[0m\n\u001b[0m\u001b[1;32m     84\u001b[0m \u001b[0;34m\u001b[0m\u001b[0m\n\u001b[1;32m     85\u001b[0m         \u001b[0my_\u001b[0m \u001b[0;34m=\u001b[0m \u001b[0mlabel_binarize\u001b[0m\u001b[0;34m(\u001b[0m\u001b[0moutput\u001b[0m\u001b[0;34m[\u001b[0m\u001b[0;36m1\u001b[0m\u001b[0;34m]\u001b[0m\u001b[0;34m,\u001b[0m \u001b[0mnp\u001b[0m\u001b[0;34m.\u001b[0m\u001b[0munique\u001b[0m\u001b[0;34m(\u001b[0m\u001b[0my\u001b[0m\u001b[0;34m)\u001b[0m\u001b[0;34m)\u001b[0m \u001b[0;32mif\u001b[0m \u001b[0mbinarize_y\u001b[0m \u001b[0;32melse\u001b[0m \u001b[0moutput\u001b[0m\u001b[0;34m[\u001b[0m\u001b[0;36m1\u001b[0m\u001b[0;34m]\u001b[0m\u001b[0;34m\u001b[0m\u001b[0;34m\u001b[0m\u001b[0m\n",
      "\u001b[0;32m~/PySpace/anaconda3/lib/python3.8/site-packages/imblearn/over_sampling/_smote/base.py\u001b[0m in \u001b[0;36m_fit_resample\u001b[0;34m(self, X, y)\u001b[0m\n\u001b[1;32m    307\u001b[0m \u001b[0;34m\u001b[0m\u001b[0m\n\u001b[1;32m    308\u001b[0m             \u001b[0mself\u001b[0m\u001b[0;34m.\u001b[0m\u001b[0mnn_k_\u001b[0m\u001b[0;34m.\u001b[0m\u001b[0mfit\u001b[0m\u001b[0;34m(\u001b[0m\u001b[0mX_class\u001b[0m\u001b[0;34m)\u001b[0m\u001b[0;34m\u001b[0m\u001b[0;34m\u001b[0m\u001b[0m\n\u001b[0;32m--> 309\u001b[0;31m             \u001b[0mnns\u001b[0m \u001b[0;34m=\u001b[0m \u001b[0mself\u001b[0m\u001b[0;34m.\u001b[0m\u001b[0mnn_k_\u001b[0m\u001b[0;34m.\u001b[0m\u001b[0mkneighbors\u001b[0m\u001b[0;34m(\u001b[0m\u001b[0mX_class\u001b[0m\u001b[0;34m,\u001b[0m \u001b[0mreturn_distance\u001b[0m\u001b[0;34m=\u001b[0m\u001b[0;32mFalse\u001b[0m\u001b[0;34m)\u001b[0m\u001b[0;34m[\u001b[0m\u001b[0;34m:\u001b[0m\u001b[0;34m,\u001b[0m \u001b[0;36m1\u001b[0m\u001b[0;34m:\u001b[0m\u001b[0;34m]\u001b[0m\u001b[0;34m\u001b[0m\u001b[0;34m\u001b[0m\u001b[0m\n\u001b[0m\u001b[1;32m    310\u001b[0m             X_new, y_new = self._make_samples(\n\u001b[1;32m    311\u001b[0m                 \u001b[0mX_class\u001b[0m\u001b[0;34m,\u001b[0m \u001b[0my\u001b[0m\u001b[0;34m.\u001b[0m\u001b[0mdtype\u001b[0m\u001b[0;34m,\u001b[0m \u001b[0mclass_sample\u001b[0m\u001b[0;34m,\u001b[0m \u001b[0mX_class\u001b[0m\u001b[0;34m,\u001b[0m \u001b[0mnns\u001b[0m\u001b[0;34m,\u001b[0m \u001b[0mn_samples\u001b[0m\u001b[0;34m,\u001b[0m \u001b[0;36m1.0\u001b[0m\u001b[0;34m\u001b[0m\u001b[0;34m\u001b[0m\u001b[0m\n",
      "\u001b[0;32m~/PySpace/anaconda3/lib/python3.8/site-packages/sklearn/neighbors/_base.py\u001b[0m in \u001b[0;36mkneighbors\u001b[0;34m(self, X, n_neighbors, return_distance)\u001b[0m\n\u001b[1;32m    703\u001b[0m                 \u001b[0mkwds\u001b[0m \u001b[0;34m=\u001b[0m \u001b[0mself\u001b[0m\u001b[0;34m.\u001b[0m\u001b[0meffective_metric_params_\u001b[0m\u001b[0;34m\u001b[0m\u001b[0;34m\u001b[0m\u001b[0m\n\u001b[1;32m    704\u001b[0m \u001b[0;34m\u001b[0m\u001b[0m\n\u001b[0;32m--> 705\u001b[0;31m             chunked_results = list(pairwise_distances_chunked(\n\u001b[0m\u001b[1;32m    706\u001b[0m                 \u001b[0mX\u001b[0m\u001b[0;34m,\u001b[0m \u001b[0mself\u001b[0m\u001b[0;34m.\u001b[0m\u001b[0m_fit_X\u001b[0m\u001b[0;34m,\u001b[0m \u001b[0mreduce_func\u001b[0m\u001b[0;34m=\u001b[0m\u001b[0mreduce_func\u001b[0m\u001b[0;34m,\u001b[0m\u001b[0;34m\u001b[0m\u001b[0;34m\u001b[0m\u001b[0m\n\u001b[1;32m    707\u001b[0m                 \u001b[0mmetric\u001b[0m\u001b[0;34m=\u001b[0m\u001b[0mself\u001b[0m\u001b[0;34m.\u001b[0m\u001b[0meffective_metric_\u001b[0m\u001b[0;34m,\u001b[0m \u001b[0mn_jobs\u001b[0m\u001b[0;34m=\u001b[0m\u001b[0mn_jobs\u001b[0m\u001b[0;34m,\u001b[0m\u001b[0;34m\u001b[0m\u001b[0;34m\u001b[0m\u001b[0m\n",
      "\u001b[0;32m~/PySpace/anaconda3/lib/python3.8/site-packages/sklearn/metrics/pairwise.py\u001b[0m in \u001b[0;36mpairwise_distances_chunked\u001b[0;34m(X, Y, reduce_func, metric, n_jobs, working_memory, **kwds)\u001b[0m\n\u001b[1;32m   1631\u001b[0m         \u001b[0;32mif\u001b[0m \u001b[0mreduce_func\u001b[0m \u001b[0;32mis\u001b[0m \u001b[0;32mnot\u001b[0m \u001b[0;32mNone\u001b[0m\u001b[0;34m:\u001b[0m\u001b[0;34m\u001b[0m\u001b[0;34m\u001b[0m\u001b[0m\n\u001b[1;32m   1632\u001b[0m             \u001b[0mchunk_size\u001b[0m \u001b[0;34m=\u001b[0m \u001b[0mD_chunk\u001b[0m\u001b[0;34m.\u001b[0m\u001b[0mshape\u001b[0m\u001b[0;34m[\u001b[0m\u001b[0;36m0\u001b[0m\u001b[0;34m]\u001b[0m\u001b[0;34m\u001b[0m\u001b[0;34m\u001b[0m\u001b[0m\n\u001b[0;32m-> 1633\u001b[0;31m             \u001b[0mD_chunk\u001b[0m \u001b[0;34m=\u001b[0m \u001b[0mreduce_func\u001b[0m\u001b[0;34m(\u001b[0m\u001b[0mD_chunk\u001b[0m\u001b[0;34m,\u001b[0m \u001b[0msl\u001b[0m\u001b[0;34m.\u001b[0m\u001b[0mstart\u001b[0m\u001b[0;34m)\u001b[0m\u001b[0;34m\u001b[0m\u001b[0;34m\u001b[0m\u001b[0m\n\u001b[0m\u001b[1;32m   1634\u001b[0m             \u001b[0m_check_chunk_size\u001b[0m\u001b[0;34m(\u001b[0m\u001b[0mD_chunk\u001b[0m\u001b[0;34m,\u001b[0m \u001b[0mchunk_size\u001b[0m\u001b[0;34m)\u001b[0m\u001b[0;34m\u001b[0m\u001b[0;34m\u001b[0m\u001b[0m\n\u001b[1;32m   1635\u001b[0m         \u001b[0;32myield\u001b[0m \u001b[0mD_chunk\u001b[0m\u001b[0;34m\u001b[0m\u001b[0;34m\u001b[0m\u001b[0m\n",
      "\u001b[0;32m~/PySpace/anaconda3/lib/python3.8/site-packages/sklearn/neighbors/_base.py\u001b[0m in \u001b[0;36m_kneighbors_reduce_func\u001b[0;34m(self, dist, start, n_neighbors, return_distance)\u001b[0m\n\u001b[1;32m    580\u001b[0m         \"\"\"\n\u001b[1;32m    581\u001b[0m         \u001b[0msample_range\u001b[0m \u001b[0;34m=\u001b[0m \u001b[0mnp\u001b[0m\u001b[0;34m.\u001b[0m\u001b[0marange\u001b[0m\u001b[0;34m(\u001b[0m\u001b[0mdist\u001b[0m\u001b[0;34m.\u001b[0m\u001b[0mshape\u001b[0m\u001b[0;34m[\u001b[0m\u001b[0;36m0\u001b[0m\u001b[0;34m]\u001b[0m\u001b[0;34m)\u001b[0m\u001b[0;34m[\u001b[0m\u001b[0;34m:\u001b[0m\u001b[0;34m,\u001b[0m \u001b[0;32mNone\u001b[0m\u001b[0;34m]\u001b[0m\u001b[0;34m\u001b[0m\u001b[0;34m\u001b[0m\u001b[0m\n\u001b[0;32m--> 582\u001b[0;31m         \u001b[0mneigh_ind\u001b[0m \u001b[0;34m=\u001b[0m \u001b[0mnp\u001b[0m\u001b[0;34m.\u001b[0m\u001b[0margpartition\u001b[0m\u001b[0;34m(\u001b[0m\u001b[0mdist\u001b[0m\u001b[0;34m,\u001b[0m \u001b[0mn_neighbors\u001b[0m \u001b[0;34m-\u001b[0m \u001b[0;36m1\u001b[0m\u001b[0;34m,\u001b[0m \u001b[0maxis\u001b[0m\u001b[0;34m=\u001b[0m\u001b[0;36m1\u001b[0m\u001b[0;34m)\u001b[0m\u001b[0;34m\u001b[0m\u001b[0;34m\u001b[0m\u001b[0m\n\u001b[0m\u001b[1;32m    583\u001b[0m         \u001b[0mneigh_ind\u001b[0m \u001b[0;34m=\u001b[0m \u001b[0mneigh_ind\u001b[0m\u001b[0;34m[\u001b[0m\u001b[0;34m:\u001b[0m\u001b[0;34m,\u001b[0m \u001b[0;34m:\u001b[0m\u001b[0mn_neighbors\u001b[0m\u001b[0;34m]\u001b[0m\u001b[0;34m\u001b[0m\u001b[0;34m\u001b[0m\u001b[0m\n\u001b[1;32m    584\u001b[0m         \u001b[0;31m# argpartition doesn't guarantee sorted order, so we sort again\u001b[0m\u001b[0;34m\u001b[0m\u001b[0;34m\u001b[0m\u001b[0;34m\u001b[0m\u001b[0m\n",
      "\u001b[0;32m<__array_function__ internals>\u001b[0m in \u001b[0;36margpartition\u001b[0;34m(*args, **kwargs)\u001b[0m\n",
      "\u001b[0;32m~/PySpace/anaconda3/lib/python3.8/site-packages/numpy/core/fromnumeric.py\u001b[0m in \u001b[0;36margpartition\u001b[0;34m(a, kth, axis, kind, order)\u001b[0m\n\u001b[1;32m    830\u001b[0m \u001b[0;34m\u001b[0m\u001b[0m\n\u001b[1;32m    831\u001b[0m     \"\"\"\n\u001b[0;32m--> 832\u001b[0;31m     \u001b[0;32mreturn\u001b[0m \u001b[0m_wrapfunc\u001b[0m\u001b[0;34m(\u001b[0m\u001b[0ma\u001b[0m\u001b[0;34m,\u001b[0m \u001b[0;34m'argpartition'\u001b[0m\u001b[0;34m,\u001b[0m \u001b[0mkth\u001b[0m\u001b[0;34m,\u001b[0m \u001b[0maxis\u001b[0m\u001b[0;34m=\u001b[0m\u001b[0maxis\u001b[0m\u001b[0;34m,\u001b[0m \u001b[0mkind\u001b[0m\u001b[0;34m=\u001b[0m\u001b[0mkind\u001b[0m\u001b[0;34m,\u001b[0m \u001b[0morder\u001b[0m\u001b[0;34m=\u001b[0m\u001b[0morder\u001b[0m\u001b[0;34m)\u001b[0m\u001b[0;34m\u001b[0m\u001b[0;34m\u001b[0m\u001b[0m\n\u001b[0m\u001b[1;32m    833\u001b[0m \u001b[0;34m\u001b[0m\u001b[0m\n\u001b[1;32m    834\u001b[0m \u001b[0;34m\u001b[0m\u001b[0m\n",
      "\u001b[0;32m~/PySpace/anaconda3/lib/python3.8/site-packages/numpy/core/fromnumeric.py\u001b[0m in \u001b[0;36m_wrapfunc\u001b[0;34m(obj, method, *args, **kwds)\u001b[0m\n\u001b[1;32m     56\u001b[0m \u001b[0;34m\u001b[0m\u001b[0m\n\u001b[1;32m     57\u001b[0m     \u001b[0;32mtry\u001b[0m\u001b[0;34m:\u001b[0m\u001b[0;34m\u001b[0m\u001b[0;34m\u001b[0m\u001b[0m\n\u001b[0;32m---> 58\u001b[0;31m         \u001b[0;32mreturn\u001b[0m \u001b[0mbound\u001b[0m\u001b[0;34m(\u001b[0m\u001b[0;34m*\u001b[0m\u001b[0margs\u001b[0m\u001b[0;34m,\u001b[0m \u001b[0;34m**\u001b[0m\u001b[0mkwds\u001b[0m\u001b[0;34m)\u001b[0m\u001b[0;34m\u001b[0m\u001b[0;34m\u001b[0m\u001b[0m\n\u001b[0m\u001b[1;32m     59\u001b[0m     \u001b[0;32mexcept\u001b[0m \u001b[0mTypeError\u001b[0m\u001b[0;34m:\u001b[0m\u001b[0;34m\u001b[0m\u001b[0;34m\u001b[0m\u001b[0m\n\u001b[1;32m     60\u001b[0m         \u001b[0;31m# A TypeError occurs if the object does have such a method in its\u001b[0m\u001b[0;34m\u001b[0m\u001b[0;34m\u001b[0m\u001b[0;34m\u001b[0m\u001b[0m\n",
      "\u001b[0;31mKeyboardInterrupt\u001b[0m: "
     ]
    }
   ],
   "source": [
    "rec, prec, acc, roc_auc = models.kfold_validation(X_train, y_train, classifier=lr, \n",
    "                        continuous_cols=['crash_hour'], \n",
    "                        categorical_cols=tr_te_split[0]['train']['X'].drop(labels=['crash_hour'], axis=1).columns, \n",
    "                        smote=False,\n",
    "                        minority_size=0.7, \n",
    "                        majority_reduce=0.7)"
   ]
  },
  {
   "cell_type": "code",
   "execution_count": null,
   "metadata": {},
   "outputs": [],
   "source": [
    "# Recall\n",
    "# Precision\n",
    "# Accuracy\n",
    "# ROC-AUC score\n",
    "\n",
    "for score in [rec, prec, acc, roc_auc]:\n",
    "    print(score)"
   ]
  },
  {
   "cell_type": "code",
   "execution_count": null,
   "metadata": {},
   "outputs": [],
   "source": [
    "lr2 = LogisticRegression(max_iter=100000, C=0.05)"
   ]
  },
  {
   "cell_type": "code",
   "execution_count": null,
   "metadata": {},
   "outputs": [],
   "source": [
    "rec, prec, acc, roc_auc = models.kfold_validation(X_train, y_train, classifier=lr2, \n",
    "                        continuous_cols=['crash_hour'], \n",
    "                        categorical_cols=tr_te_split[0]['train']['X'].drop(labels=['crash_hour'], axis=1).columns, \n",
    "                        smote=True,\n",
    "                        minority_size=0.7, \n",
    "                        majority_reduce=0.7)"
   ]
  },
  {
   "cell_type": "code",
   "execution_count": null,
   "metadata": {},
   "outputs": [],
   "source": [
    "for score in [rec, prec, acc, roc_auc]:\n",
    "    print(score)"
   ]
  },
  {
   "cell_type": "code",
   "execution_count": null,
   "metadata": {},
   "outputs": [],
   "source": [
    "rfc = RandomForestClassifier(n_estimators=100, class_weight={0:1, 1:6})"
   ]
  },
  {
   "cell_type": "code",
   "execution_count": null,
   "metadata": {},
   "outputs": [],
   "source": [
    "rec, prec, acc, roc_auc = models.kfold_validation(X_train, y_train, classifier=rfc, \n",
    "                        continuous_cols=['crash_hour'], \n",
    "                        categorical_cols=tr_te_split[0]['train']['X'].drop(labels=['crash_hour'], axis=1).columns, \n",
    "                        smote=True,\n",
    "                        minority_size=0.7, \n",
    "                        majority_reduce=0.7)"
   ]
  },
  {
   "cell_type": "code",
   "execution_count": null,
   "metadata": {},
   "outputs": [],
   "source": [
    "for score in [rec, prec, acc, roc_auc]:\n",
    "    print(score)"
   ]
  },
  {
   "cell_type": "code",
   "execution_count": null,
   "metadata": {},
   "outputs": [],
   "source": [
    "gnb = GaussianNB()"
   ]
  },
  {
   "cell_type": "code",
   "execution_count": null,
   "metadata": {},
   "outputs": [],
   "source": [
    "rec, prec, acc, roc_auc = models.kfold_validation(X_train, y_train, classifier=gnb, \n",
    "                        continuous_cols=['crash_hour'], \n",
    "                        categorical_cols=tr_te_split[0]['train']['X'].drop(labels=['crash_hour'], axis=1).columns, \n",
    "                        smote=True,\n",
    "                        minority_size=0.7, \n",
    "                        majority_reduce=0.7)"
   ]
  },
  {
   "cell_type": "code",
   "execution_count": null,
   "metadata": {},
   "outputs": [],
   "source": [
    "for score in [rec, prec, acc, roc_auc]:\n",
    "    print(score)"
   ]
  },
  {
   "cell_type": "code",
   "execution_count": null,
   "metadata": {},
   "outputs": [],
   "source": [
    "xgb = XGBClassifier()"
   ]
  },
  {
   "cell_type": "code",
   "execution_count": null,
   "metadata": {},
   "outputs": [],
   "source": [
    "rec, prec, acc, roc_auc = models.kfold_validation(X_train, y_train, classifier=xgb, \n",
    "                        continuous_cols=['crash_hour'], \n",
    "                        categorical_cols=tr_te_split[0]['train']['X'].drop(labels=['crash_hour'], axis=1).columns, \n",
    "                        smote=True,\n",
    "                        minority_size=0.7, \n",
    "                        majority_reduce=0.7)"
   ]
  },
  {
   "cell_type": "code",
   "execution_count": null,
   "metadata": {},
   "outputs": [],
   "source": [
    "for score in [rec, prec, acc, roc_auc]:\n",
    "    print(score)"
   ]
  },
  {
   "cell_type": "markdown",
   "metadata": {},
   "source": [
    "### Ternary Classification: Using XGBoost with Bayesian Optimization"
   ]
  },
  {
   "cell_type": "code",
   "execution_count": 131,
   "metadata": {},
   "outputs": [],
   "source": [
    "# !pip install bayesian-optimization"
   ]
  },
  {
   "cell_type": "code",
   "execution_count": 130,
   "metadata": {},
   "outputs": [],
   "source": [
    "from bayes_opt import BayesianOptimization"
   ]
  },
  {
   "cell_type": "code",
   "execution_count": null,
   "metadata": {},
   "outputs": [],
   "source": [
    "def bo_tune_xgb(max_depth, gamma, n_estimators ,learning_rate, scale_pos_weight, min_child_weight, colsample_bytree):\n",
    "    params = {'max_depth'       : int(max_depth),\n",
    "              'gamma'           : gamma,\n",
    "              'n_estimators'    : int(n_estimators),\n",
    "              'learning_rate'   : learning_rate,\n",
    "              'subsample'       : 0.8,\n",
    "              'eval_metric'     : 'rmse',\n",
    "              'min_child_weight': min_child_weight,\n",
    "              'scale_pos_weight': scale_pos_weight,\n",
    "              'colsample_bytree': colsample_bytree,\n",
    "              'tree_method'     : 'gpu_hist'}\n",
    "    cv_result = xgb.cv(params, D_train, num_boost_round=200, nfold=5)\n",
    "    return -1.0 * cv_result['test-rmse-mean'].iloc[-1]"
   ]
  },
  {
   "cell_type": "code",
   "execution_count": null,
   "metadata": {},
   "outputs": [],
   "source": [
    "xgb_bo = BayesianOptimization(bo_tune_xgb, {'max_depth' : (3, 15),\n",
    "                        'gamma' : (0, 2),\n",
    "                        'learning_rate'    : (0,1),\n",
    "                        'n_estimators'     : (100,400),\n",
    "                        'scale_pos_weight' : (5,10),\n",
    "                        'min_child_weight' : (1,10),\n",
    "                        'colsample_bytree' : (0,1)})"
   ]
  },
  {
   "cell_type": "code",
   "execution_count": null,
   "metadata": {},
   "outputs": [],
   "source": [
    "xgb_bo.maximize(n_iter=10, init_points=12, acq='ei')"
   ]
  },
  {
   "cell_type": "code",
   "execution_count": null,
   "metadata": {},
   "outputs": [],
   "source": [
    "params = xgb_bo.max['params']\n",
    "print(params)"
   ]
  },
  {
   "cell_type": "code",
   "execution_count": null,
   "metadata": {},
   "outputs": [],
   "source": [
    "xgb_opt = XGBClassifier(**params)"
   ]
  },
  {
   "cell_type": "code",
   "execution_count": null,
   "metadata": {},
   "outputs": [],
   "source": [
    "rec, prec, acc, roc_auc = models.kfold_validation(X_train, y_train, classifier=xgb, \n",
    "                        continuous_cols=['crash_hour'], \n",
    "                        categorical_cols=tr_te_split[0]['train']['X'].drop(labels=['crash_hour'], axis=1).columns, \n",
    "                        smote=True,\n",
    "                        minority_size=0.7, \n",
    "                        majority_reduce=0.7)"
   ]
  },
  {
   "cell_type": "code",
   "execution_count": null,
   "metadata": {},
   "outputs": [],
   "source": [
    "for score in [rec, prec, acc, roc_auc]:\n",
    "    print(score)"
   ]
  },
  {
   "cell_type": "markdown",
   "metadata": {},
   "source": [
    "![final_cm]()"
   ]
  },
  {
   "cell_type": "markdown",
   "metadata": {},
   "source": [
    "## Sources\n",
    "\n",
    "##### Source Code\n",
    "* [Changing font size for Confusion Matrix](https://stackoverflow.com/questions/59839782/confusion-matrix-font-size)\n",
    "*[SMOTE-ing Data Tutorial](https://machinelearningmastery.com/smote-oversampling-for-imbalanced-classification/)\n",
    "\n",
    "##### Business Understanding\n",
    "\n",
    "* [Speeding Increases During Pandemic, Prompting Safety Groups To Take Action](http://www.ghsa.org/about/news/Forbes/Speed-Pilot21)\n",
    "* [Calls for safer streets intensify amid 45% spike in pedestrian deaths](https://www.smartcitiesdive.com/news/calls-for-safer-streets-intensify-amid-45-spike-in-pedestrian-deaths/596420/)\n",
    "* [Chicago unveils its West Side Vision Zero Traffic Safety Plan](https://chi.streetsblog.org/2019/09/12/the-city-of-chicago-unveils-its-west-side-vision-zero-traffic-safety-plan/)"
   ]
  },
  {
   "cell_type": "code",
   "execution_count": null,
   "metadata": {},
   "outputs": [],
   "source": []
  }
 ],
 "metadata": {
  "kernelspec": {
   "display_name": "Python 3",
   "language": "python",
   "name": "python3"
  },
  "language_info": {
   "codemirror_mode": {
    "name": "ipython",
    "version": 3
   },
   "file_extension": ".py",
   "mimetype": "text/x-python",
   "name": "python",
   "nbconvert_exporter": "python",
   "pygments_lexer": "ipython3",
   "version": "3.8.5"
  }
 },
 "nbformat": 4,
 "nbformat_minor": 4
}
