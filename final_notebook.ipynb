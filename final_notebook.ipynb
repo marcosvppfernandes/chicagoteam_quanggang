{
 "cells": [
  {
   "cell_type": "markdown",
   "metadata": {},
   "source": [
    "# Chicago, IL : Car Crash Analysis & Predictive Modeling\n",
    "\n",
    "\n",
    "### *Predicting severity of car crashes with Machine Learning Models*\n",
    "\n",
    "Authors: [Christos Maglaras](mailto:Christo111M@gmail.com), [Marcos Panyagua](mailto:marcosvppfernandes@gmail.com), [Jamie Dowat](mailto:jamie_dowat44@yahoo.com)\n",
    "\n",
    "Date: 3/12/2021\n",
    "\n",
    "![chicago](img/chicago_night_drive.jpg)\n",
    "\n",
    "## Stakeholder: Chicago Department of Transportation\n",
    "\n",
    "![cdot](img/cdot.png)\n",
    "\n",
    "### Business Understanding\n",
    "\n",
    "Just a week ago, the National Security Coundil released a [report](https://www.nsc.org/newsroom/motor-vehicle-deaths-2020-estimated-to-be-highest) containing some disturbing statistics from 2020. The first paragraph begins as follows:\n",
    "> For the first time since 2007, preliminary data from the National Safety Council show that as many as 42,060 people are estimated to have died in motor vehicle crashes in 2020. That marks an 8% increase over 2019 in a year where people drove significantly less frequently because of the pandemic.\n",
    "\n",
    "According to their data, the US hasn't seen an increase like this since **1924**.\n",
    "\n",
    "Following this trend, the **Governor's Highway Safety Association** reported that [*pedestrian* fatality rate](https://www.smartcitiesdive.com/news/ghsa-projects-highest-pedestrian-death-rate-since-1988/573203/) has reached a **30-year high**, with nighttime pedestrian fatalities having increased by 67%, and a 16% increase in daytime fatalities, highlighting the need for *safer road crossings* and increased efforts to make pedestrians and vehicles more *visible*.\n",
    "\n",
    "Narrowing our focus even further, in **Illinois**, around **1000** people were KILLED in motor vehicle crashes in **2019** alone. \n",
    "\n",
    "**Advocates for Highway and Auto Safety** have scored all US states against their [Roadmap for State Highway Safety Laws](https://saferoads.org/wp-content/uploads/2020/01/Advocates-for-Highway-and-Auto-Safety-2020-Roadmap-of-State-Highway-Safety-Laws.pdf), a set of 16 laws that cover occupant protection (selt belt, helmet laws), child protection, and teen driving. \n",
    "\n",
    "![scoring](img/scoringsafety.png)\n",
    "\n",
    "When Illinois is [scored](https://saferoads.org/state/illinois/) against this Roadmap, it has been given a yellow rating (Caution), since it still lacks the following safety laws:\n",
    "\n",
    "* All-Rider Motorcycle Helmet Law\n",
    "* Booster Seat Law\n",
    "* GDL (Graduated Driver's License) – Minimum Age 16 for Learner’s Permit\n",
    "* GDL – Stronger Nighttime Restriction Provision\n",
    "* GDL- Stronger Passenger Restriction Provision\n",
    "* GDL- Age 18 for Unrestricted License\n",
    "\n",
    "Currently, the Chicago Department of Transportation is working with the city's new initiative, **Vision Zero**, to reduce accidents on the road. In Vision Zero's [report](https://8gq.ef1.myftpupload.com/wp-content/uploads/2016/05/17_0612-VZ-Action-Plan_FOR-WEB.pdf) and action plan, they used crash data to identify high crash corridors in the city as well as other important trends to guide education, road safety improvements, and more.\n",
    "\n",
    "![quotes](img/visionzeroquotes.png)\n",
    "\n",
    "Bearing all of this in mind, we had these current safety movements and road safety problems guide our exploration and modeling of this data. \n",
    "\n",
    "Even more importantly, this business understanding was the sole influencer of our target choice, *severity of crash based on injury*.\n",
    "\n",
    "******\n",
    "\n",
    "## Predictive Modeling Preview\n",
    "\n",
    "In terms of business problems, we found one of the ways a predictive model could most help with this business problem is to determine how different factors of the crash determine the severity of injuries in the crash.\n",
    "\n",
    "Tried Logistic Regression, K-Nearest Neighbors, Decision Tree, Naive Bayes, and Random Forest Classifier, before settling on our final model produced by a Bayesian-Optimized XGBoost Classifier.\n",
    "\n",
    "We experimented with both a BINARY classification and a TERNARY, with our final model using as TERNARY classification. The targets are defined as follows, using the MOST_SEVERE_INJURY column in the Crashes dataset:\n",
    "\n",
    "* BINARY:\n",
    "    * Class 0: No Injury\n",
    "    * Class 1: Injury\n",
    "    \n",
    "* TERNARY\n",
    "    * Class 0: No Injury\n",
    "    * Class 1: NON-INCAPACITATING injuries\n",
    "    * Class 2: INCAPACITATING or FATAL injuries\n",
    "\n",
    "******\n",
    "\n",
    "## Data: [Chicago City Data Portal](https://data.cityofchicago.org/)\n",
    "\n",
    "![ccdp](img/chicagocitydataportal.jpg)\n",
    "\n",
    "### [Crashes](https://data.cityofchicago.org/Transportation/Traffic-Crashes-Crashes/85ca-t3if):\n",
    "\n",
    "##### Number of Rows: 482,866\n",
    "\n",
    "*Shows crash data from crash from the Chicago Police Department's **E-Crash** system*\n",
    "\n",
    "**\"All crashes are recorded as per the format specified in the Traffic Crash Report, SR1050, of the Illinois Department of Transportation.\"**\n",
    "\n",
    "| Column Name                 | Description                |\n",
    "| --------------------------- | -------------------------- |\n",
    "| crash_record_id  |  Can be used to link to the same crash in the Vehicles and People datasets. |\n",
    "| rd_no | Chicago Police Department report number|\n",
    "| crash_date | Date and time of crash as entered by the reporting officer |\n",
    "| posted_speed_limit  | Posted speed limit, as determined by reporting officer |\n",
    "| traffic_control_device | Traffic control device present at crash location, as determined by reporting officer (signals, stop sign, etc) |\n",
    "| device_condition  | Condition of traffic control device, as determined by reporting officer |\n",
    "| weather_condition | Weather condition at time of crash, as determined by reporting officer |\n",
    "| lighting_condition | Light condition at time of crash, as determined by reporting officer |\n",
    "| first_crash_type | Type of first collision in crash |\n",
    "| trafficway_type  | Trafficway type, as determined by reporting officer |\n",
    "| lane_ct | Total number of through lanes in either direction, excluding turn lanes, as determined by reporting officer (0 = intersection)|\n",
    "| alignment | Street alignment at crash location, as determined by reporting officer |\n",
    "| roadway_surface_cond        | Road surface condition, as determined by reporting officer |\n",
    "| road_defect | Road defects, as determined by reporting officer |\n",
    "| crash_type | A general severity classification for the crash. Can be either Injury and/or Tow Due to Crash or No Injury / Drive Away |\n",
    "| damage | A field observation of estimated damage. |\n",
    "| prim_contributory_cause   | The factor which was most significant in causing the crash, as determined by officer judgment |\n",
    "| sec_contributory_cause | The factor which was second most significant in causing the crash, as determined by officer judgment |\n",
    "| street_name | Street address name of crash location, as determined by reporting officer|\n",
    "| num_units | Number of units involved in the crash. A unit can be a motor vehicle, a pedestrian, a bicyclist, or another non-passenger roadway user. Each unit represents a mode of traffic with an independent trajectory. |\n",
    "| most_severe_injury | Most severe injury sustained by any person involved in the crash |\n",
    "| injuries_total | Total persons sustaining fatal, incapacitating, non-incapacitating, and possible injuries as determined by the reporting officer |\n",
    "| injuries_fatal | Total persons sustaining fatal injuries in the crash |\n",
    "| injuries_incapacitating | Total persons sustaining incapacitating/serious injuries in the crash as determined by the reporting officer. Any injury other than fatal injury, which prevents the injured person from walking, driving, or normally continuing the activities they were capable of performing before the injury occurred. Includes severe lacerations, broken limbs, skull or chest injuries, and abdominal injuries. |\n",
    "| injuries_non_incapacitating | Total persons sustaining non-incapacitating injuries in the crash as determined by the reporting officer. Any injury, other than fatal or incapacitating injury, which is evident to observers at the scene of the crash. Includes lump on head, abrasions, bruises, and minor lacerations. |\n",
    "| crash_hour | The hour of the day component of CRASH_DATE. |\n",
    "| crash_day_of_week | The day of the week component of CRASH_DATE. Sunday=1 |\n",
    "| latitude | The latitude of the crash location, as determined by reporting officer, as derived from the reported address of crash |\n",
    "| longitude | The longitude of the crash location, as determined by reporting officer, as derived from the reported address of crash |\n",
    "\n",
    "\n",
    "### [People](https://data.cityofchicago.org/Transportation/Traffic-Crashes-People/u6pd-qa9d):\n",
    "\n",
    "##### Number of Rows: 1,068,637\n",
    "\n",
    "*Information about people involved in a crash and if any injuries were sustained.*\n",
    "\n",
    "| Column Name                 | Description                |\n",
    "| --------------------------- | -------------------------- |\n",
    "| crash_record_id | This number can be used to link to the same crash in the Crashes and Vehicles datasets. This number also serves as a unique ID in the Crashes dataset. |\n",
    "| person_type | Type of roadway user involved in crash |\n",
    "| rd_no | Chicago Police Department report number. For privacy reasons, this column is blank for recent crashes. |\n",
    "| crash_date | Date and time of crash as entered by the reporting officer |\n",
    "| seat_no | Code for seating position of motor vehicle occupant: 1= driver, 2= center front, 3 = front passenger, 4 = second row left, 5 = second row center, 6 = second row right, 7 = enclosed passengers, 8 = exposed passengers, 9= unknown position, 10 = third row left, 11 = third row center, 12 = third row right |\n",
    "| city | City of residence of person involved in crash |\n",
    "| state | State of residence of person involved in crash |\n",
    "| zipcode | ZIP Code of residence of person involved in crash |\n",
    "| sex | Gender of person involved in crash, as determined by reporting officer |\n",
    "| age | Age of person involved in crash |\n",
    "| drivers_license_state | State issuing driver's license of person involved in crash |\n",
    "| drivers_license_class | Class of driver's license of person involved in crash |\n",
    "| safety_equipment | Safety equipment used by vehicle occupant in crash, if any |\n",
    "| airbag_deployed | Whether vehicle occupant airbag deployed as result of crash |\n",
    "| ejection | Whether vehicle occupant was ejected or extricated from the vehicle as a result of crash |\n",
    "| injury_classification | Severity of injury person sustained in the crash |\n",
    "| driver_action | Driver action that contributed to the crash, as determined by reporting officer |\n",
    "| driver_vision | What, if any, objects obscured the driver’s vision at time of crash |\n",
    "| physical_condition | Driver’s apparent physical condition at time of crash, as observed by the reporting officer |\n",
    "| pedpedal_action | Action of pedestrian or cyclist at the time of crash |\n",
    "| pedpedal_visibility | Visibility of pedestrian of cyclist safety equipment in use at time of crash |\n",
    "| pedpedal_location | Location of pedestrian or cyclist at the time of crash |\n",
    "| bac_result | Status of blood alcohol concentration testing for driver or other person involved in crash |\n",
    "| bac_result value | Driver’s blood alcohol concentration test result (fatal crashes may include pedestrian or cyclist results) |\n",
    "| cell_phone_use | Whether person was/was not using cellphone at the time of the crash, as determined by the reporting officer |\n",
    "\n",
    "### [Vehicles](https://data.cityofchicago.org/Transportation/Traffic-Crashes-Vehicles/68nd-jvt3):\n",
    "\n",
    "##### Number of Rows: 987,148\n",
    "\n",
    "*Information about vehicles (\"units\") involved in a traffic crash.*\n",
    "\n",
    "| Column Name                 | Description                |\n",
    "| --------------------------- | -------------------------- |\n",
    "| crash_record_id | This number can be used to link to the same crash in the Crashes and People datasets. This number also serves as a unique ID in the Crashes dataset. |\n",
    "| rd_no | Chicago Police Department report number. For privacy reasons, this column is blank for recent crashes. |\n",
    "| crash_date | Date and time of crash as entered by the reporting officer |\n",
    "| unit_type | The type of unit (i.e Driver, parked, pedestrian, bicycle, etc) |\n",
    "| num_passengers | Number of passengers in the vehicle. The driver is not included. More information on passengers is in the People dataset. |\n",
    "| make | The make (brand) of the vehicle, if relevant |\n",
    "| model | The model of the vehicle, if relevant |\n",
    "| lic_plate_state | The state issuing the license plate of the vehicle, if relevant |\n",
    "| vehicle_year | The model year of the vehicle, if relevant |\n",
    "| vehicle_defect | Indicates part of car containing defect (brakes, wheels, etc.) |\n",
    "| vehicle_type | The type of vehicle, if relevant (passenger, truck, bus, etc) |\n",
    "| vehicle_use | The normal use of the vehicle, if relevant |\n",
    "| maneuver | The action the unit was taking prior to the crash, as determined by the reporting officer |\n",
    "| towed_I | Indicator of whether the vehicle was towed |\n",
    "| occupant_cnt | The number of people in the unit, as determined by the reporting officer |\n",
    "| exceed_speed_limit_I | Indicator of whether the unit was speeding, as determined by the reporting officer |\n",
    "| first_contact_point | Indicates orientation on car that was hit (front, rear, etc) |\n",
    "\n"
   ]
  },
  {
   "cell_type": "code",
   "execution_count": 1,
   "metadata": {},
   "outputs": [],
   "source": [
    "import pandas as pd\n",
    "import numpy as np\n",
    "import warnings\n",
    "warnings.filterwarnings('ignore')\n",
    "pd.set_option('display.max_rows', 500)\n",
    "pd.set_option('display.max_columns', None)"
   ]
  },
  {
   "cell_type": "code",
   "execution_count": 119,
   "metadata": {},
   "outputs": [],
   "source": [
    "crashes = pd.read_csv('data/traffic_crashes_chicago.csv', low_memory=False)"
   ]
  },
  {
   "cell_type": "code",
   "execution_count": 120,
   "metadata": {},
   "outputs": [],
   "source": [
    "people = pd.read_csv('data/traffic_crashes_people.csv', low_memory=False)"
   ]
  },
  {
   "cell_type": "code",
   "execution_count": 121,
   "metadata": {},
   "outputs": [],
   "source": [
    "vehicles = pd.read_csv('data/traffic_crashes_vehicles.csv', low_memory=False)"
   ]
  },
  {
   "cell_type": "markdown",
   "metadata": {},
   "source": [
    "## Exploratory Data Analysis (EDA)"
   ]
  },
  {
   "cell_type": "code",
   "execution_count": 95,
   "metadata": {},
   "outputs": [],
   "source": [
    "from src import data_cleaning"
   ]
  },
  {
   "cell_type": "code",
   "execution_count": 96,
   "metadata": {},
   "outputs": [],
   "source": [
    "crashes, people, vehicles = data_cleaning.column_mask([crashes, people, vehicles])"
   ]
  },
  {
   "cell_type": "code",
   "execution_count": 100,
   "metadata": {},
   "outputs": [],
   "source": [
    "from src import eda\n",
    "%matplotlib inline"
   ]
  },
  {
   "cell_type": "code",
   "execution_count": 46,
   "metadata": {},
   "outputs": [],
   "source": [
    "from pandas.tseries.holiday import USFederalHolidayCalendar\n",
    "cal = USFederalHolidayCalendar()\n",
    "holidays = cal.holidays(start='2013-01-01', end='2022-12-31', return_name=True)\n",
    "holidays = holidays.reset_index(name='holiday').rename(columns={'index':'date'})\n",
    "\n",
    "\n",
    "\n",
    "holidays = holidays[(holidays['holiday'] =='July 4th')|(holidays['holiday'] =='Thanksgiving')|(holidays['holiday'] =='Christmas')|(holidays['holiday'] =='New Years Day')]     \n",
    "                    \n",
    "crashes['crash_date'] = crashes['crash_date'].apply(lambda x: pd.to_datetime(x))"
   ]
  },
  {
   "cell_type": "markdown",
   "metadata": {},
   "source": [
    "## Predictive Modeling"
   ]
  },
  {
   "cell_type": "code",
   "execution_count": 48,
   "metadata": {},
   "outputs": [],
   "source": [
    "# Focus metric: RECALL"
   ]
  },
  {
   "cell_type": "code",
   "execution_count": null,
   "metadata": {},
   "outputs": [],
   "source": []
  },
  {
   "cell_type": "code",
   "execution_count": 56,
   "metadata": {},
   "outputs": [
    {
     "name": "stdout",
     "output_type": "stream",
     "text": [
      "traffic_control_device \n",
      "\n",
      " No_device         127586\n",
      "device_present    117573\n",
      "Name: traffic_control_device, dtype: int64 \n",
      "\n",
      "\n",
      "\n",
      "weather_condition \n",
      "\n",
      " Clear        198998\n",
      "Not_Clear     46161\n",
      "Name: weather_condition, dtype: int64 \n",
      "\n",
      "\n",
      "\n",
      "first_crash_type \n",
      "\n",
      " REAR END                        66207\n",
      "TURNING                         42481\n",
      "SIDESWIPE SAME DIRECTION        40069\n",
      "PARKED MOTOR VEHICLE            34114\n",
      "ANGLE                           31392\n",
      "FIXED OBJECT                    10225\n",
      "PEDESTRIAN                       5488\n",
      "PEDALCYCLIST                     3590\n",
      "SIDESWIPE OPPOSITE DIRECTION     3546\n",
      "HEAD ON                          2448\n",
      "OTHER OBJECT                     1821\n",
      "REAR TO FRONT                    1594\n",
      "REAR TO SIDE                      900\n",
      "OTHER NONCOLLISION                674\n",
      "REAR TO REAR                      256\n",
      "ANIMAL                            201\n",
      "OVERTURNED                        132\n",
      "TRAIN                              21\n",
      "Name: first_crash_type, dtype: int64 \n",
      "\n",
      "\n",
      "\n",
      "roadway_surface_cond \n",
      "\n",
      " Dry        192771\n",
      "Not_Dry     52388\n",
      "Name: roadway_surface_cond, dtype: int64 \n",
      "\n",
      "\n",
      "\n",
      "road_defect \n",
      "\n",
      " NO DEFECTS           239019\n",
      "RUT, HOLES             2345\n",
      "OTHER                  1731\n",
      "WORN SURFACE           1147\n",
      "SHOULDER DEFECT         649\n",
      "DEBRIS ON ROADWAY       268\n",
      "Name: road_defect, dtype: int64 \n",
      "\n",
      "\n",
      "\n",
      "damage \n",
      "\n",
      " OVER $1,500      149918\n",
      "$501 - $1,500     65121\n",
      "$500 OR LESS      30120\n",
      "Name: damage, dtype: int64 \n",
      "\n",
      "\n",
      "\n",
      "prim_contributory_cause \n",
      "\n",
      " FAILING TO YIELD RIGHT-OF-WAY                                                       47637\n",
      "FOLLOWING TOO CLOSELY                                                               44821\n",
      "IMPROPER OVERTAKING/PASSING                                                         19668\n",
      "FAILING TO REDUCE SPEED TO AVOID CRASH                                              18385\n",
      "IMPROPER BACKING                                                                    18212\n",
      "IMPROPER LANE USAGE                                                                 16710\n",
      "IMPROPER TURNING/NO SIGNAL                                                          14127\n",
      "DRIVING SKILLS/KNOWLEDGE/EXPERIENCE                                                 12660\n",
      "DISREGARDING TRAFFIC SIGNALS                                                         7836\n",
      "WEATHER                                                                              7095\n",
      "OPERATING VEHICLE IN ERRATIC, RECKLESS, CARELESS, NEGLIGENT OR AGGRESSIVE MANNER     5380\n",
      "DISREGARDING STOP SIGN                                                               4720\n",
      "DISTRACTION - FROM INSIDE VEHICLE                                                    3192\n",
      "EQUIPMENT - VEHICLE CONDITION                                                        2756\n",
      "PHYSICAL CONDITION OF DRIVER                                                         2576\n",
      "VISION OBSCURED (SIGNS, TREE LIMBS, BUILDINGS, ETC.)                                 2573\n",
      "UNDER THE INFLUENCE OF ALCOHOL/DRUGS (USE WHEN ARREST IS EFFECTED)                   2324\n",
      "DRIVING ON WRONG SIDE/WRONG WAY                                                      1988\n",
      "DISTRACTION - FROM OUTSIDE VEHICLE                                                   1898\n",
      "EXCEEDING AUTHORIZED SPEED LIMIT                                                     1800\n",
      "EXCEEDING SAFE SPEED FOR CONDITIONS                                                  1505\n",
      "ROAD ENGINEERING/SURFACE/MARKING DEFECTS                                             1319\n",
      "ROAD CONSTRUCTION/MAINTENANCE                                                        1105\n",
      "DISREGARDING OTHER TRAFFIC SIGNS                                                      933\n",
      "EVASIVE ACTION DUE TO ANIMAL, OBJECT, NONMOTORIST                                     774\n",
      "DISREGARDING ROAD MARKINGS                                                            600\n",
      "CELL PHONE USE OTHER THAN TEXTING                                                     591\n",
      "HAD BEEN DRINKING (USE WHEN ARREST IS NOT MADE)                                       468\n",
      "ANIMAL                                                                                350\n",
      "TURNING RIGHT ON RED                                                                  295\n",
      "DISTRACTION - OTHER ELECTRONIC DEVICE (NAVIGATION DEVICE, DVD PLAYER, ETC.)           215\n",
      "TEXTING                                                                               184\n",
      "DISREGARDING YIELD SIGN                                                               157\n",
      "RELATED TO BUS STOP                                                                   146\n",
      "BICYCLE ADVANCING LEGALLY ON RED LIGHT                                                 60\n",
      "PASSING STOPPED SCHOOL BUS                                                             55\n",
      "OBSTRUCTED CROSSWALKS                                                                  29\n",
      "MOTORCYCLE ADVANCING LEGALLY ON RED LIGHT                                              15\n",
      "Name: prim_contributory_cause, dtype: int64 \n",
      "\n",
      "\n",
      "\n",
      "num_units \n",
      "\n",
      " 2orless    226449\n",
      "3+          18710\n",
      "Name: num_units, dtype: int64 \n",
      "\n",
      "\n",
      "\n",
      "crash_hour \n",
      "\n",
      " 16    18971\n",
      "17    18749\n",
      "15    18423\n",
      "14    16100\n",
      "18    15209\n",
      "13    14760\n",
      "12    14252\n",
      "8     14154\n",
      "11    13296\n",
      "9     12133\n",
      "10    11948\n",
      "7     11358\n",
      "19    11120\n",
      "20     8688\n",
      "21     7643\n",
      "22     7010\n",
      "23     5953\n",
      "6      5693\n",
      "0      4584\n",
      "1      3749\n",
      "2      3242\n",
      "5      3089\n",
      "3      2643\n",
      "4      2392\n",
      "Name: crash_hour, dtype: int64 \n",
      "\n",
      "\n",
      "\n",
      "injured \n",
      "\n",
      " False    206364\n",
      "True      38795\n",
      "Name: injured, dtype: int64 \n",
      "\n",
      "\n",
      "\n"
     ]
    }
   ],
   "source": [
    "for col in crash_mod.columns:\n",
    "    print(col, '\\n\\n', crash_mod[col].value_counts(), '\\n\\n\\n')"
   ]
  },
  {
   "cell_type": "code",
   "execution_count": 57,
   "metadata": {
    "scrolled": true
   },
   "outputs": [],
   "source": [
    "from src import models"
   ]
  },
  {
   "cell_type": "code",
   "execution_count": 58,
   "metadata": {},
   "outputs": [],
   "source": [
    "pp = models.Preprocessor(target_col_name = 'injured', df=crash_mod)"
   ]
  },
  {
   "cell_type": "code",
   "execution_count": 59,
   "metadata": {},
   "outputs": [],
   "source": [
    "target_split = pp.target_split([crash_mod])"
   ]
  },
  {
   "cell_type": "code",
   "execution_count": 60,
   "metadata": {},
   "outputs": [],
   "source": [
    "tr_te_split = pp.split_train_test(target_split)"
   ]
  },
  {
   "cell_type": "code",
   "execution_count": null,
   "metadata": {},
   "outputs": [],
   "source": [
    "# !pip install xgboost\n",
    "# !brew install libomp"
   ]
  },
  {
   "cell_type": "code",
   "execution_count": null,
   "metadata": {},
   "outputs": [],
   "source": [
    "from sklearn.linear_model import LogisticRegression\n",
    "from sklearn.neighbors import KNeighborsClassifier\n",
    "from sklearn.ensemble import RandomForestClassifier\n",
    "from sklearn.preprocessing import StandardScaler, OneHotEncoder\n",
    "from sklearn.metrics import roc_auc_score\n",
    "from sklearn.naive_bayes import GaussianNB\n",
    "from xgboost import XGBClassifier"
   ]
  },
  {
   "cell_type": "code",
   "execution_count": 61,
   "metadata": {},
   "outputs": [],
   "source": [
    "X_train = tr_te_split[2]['train']['X']\n",
    "\n",
    "y_train = tr_te_split[2]['train']['y']\n",
    "\n",
    "lr = LogisticRegression(max_iter=100000, C=0.05)"
   ]
  },
  {
   "cell_type": "code",
   "execution_count": 122,
   "metadata": {},
   "outputs": [],
   "source": [
    "rec, prec, acc = models.kfold_validation(X_train, y_train, classifier=lr, \n",
    "                        continuous_cols=['crash_hour'], \n",
    "                        categorical_cols=tr_te_split[0]['train']['X'].drop(labels=['crash_hour'], axis=1).columns, \n",
    "                        smote=True,\n",
    "                        minority_size=0.7, \n",
    "                        majority_reduce=0.7)"
   ]
  },
  {
   "cell_type": "code",
   "execution_count": 125,
   "metadata": {},
   "outputs": [
    {
     "data": {
      "text/plain": [
       "[0.386401524172422]"
      ]
     },
     "execution_count": 125,
     "metadata": {},
     "output_type": "execute_result"
    }
   ],
   "source": [
    "prec"
   ]
  },
  {
   "cell_type": "code",
   "execution_count": 63,
   "metadata": {},
   "outputs": [],
   "source": [
    "# prepped_data = pp.scale_and_ohe(tr_te_split, continuous_cols=['crash_hour'],\n",
    "#                                categorical_cols=tr_te_split[0]['train']['X'].drop(labels=['crash_hour'], axis=1).columns)"
   ]
  },
  {
   "cell_type": "code",
   "execution_count": 64,
   "metadata": {},
   "outputs": [],
   "source": [
    "# smoted = pp.balance_classes(prepped_data)"
   ]
  },
  {
   "cell_type": "code",
   "execution_count": 65,
   "metadata": {},
   "outputs": [],
   "source": [
    "# lr = models.LogisticRegression(max_iter=100000, C=0.1)\n",
    "\n",
    "# X_train = prepped_data[2]['train']['X']\n",
    "# y_train = prepped_data[2]['train']['y']\n",
    "\n",
    "# lr.fit(X_train, y_train)"
   ]
  },
  {
   "cell_type": "code",
   "execution_count": 66,
   "metadata": {
    "scrolled": true
   },
   "outputs": [],
   "source": [
    "# from sklearn.metrics import recall_score, precision_score, accuracy_score, \\\n",
    "#                             plot_confusion_matrix, confusion_matrix\n",
    "\n",
    "\n",
    "# y_pred = lr.predict(prepped_data[2]['test']['X'])\n",
    "\n",
    "# cm = confusion_matrix(np.array(prepped_data[2]['test']['y']).reshape(-1,1), lr.predict(prepped_data[2]['test']['X']))\n",
    "\n",
    "# ax = plt.subplot()\n",
    "# sns.set(font_scale=1.5) # Adjust to fit\n",
    "# sns.heatmap(cm, annot=True, ax=ax, cmap=\"rocket\", fmt=\"g\");  \n",
    "\n",
    "# # Labels, title and ticks\n",
    "# label_font = {'size':'12'}  # Adjust to fit\n",
    "# ax.set_xlabel('Predicted labels', fontdict=label_font);\n",
    "# ax.set_ylabel('Observed labels', fontdict=label_font);\n",
    "\n",
    "# title_font = {'size':'15'}  # Adjust to fit\n",
    "# ax.set_title('Confusion Matrix', fontdict=title_font);\n",
    "\n",
    "# ax.tick_params(axis='both', which='major', labelsize=12)  # Adjust to fit\n",
    "# ax.xaxis.set_ticklabels(['False', 'True']);\n",
    "# ax.yaxis.set_ticklabels(['False', 'True']);\n",
    "\n"
   ]
  },
  {
   "cell_type": "code",
   "execution_count": 67,
   "metadata": {},
   "outputs": [],
   "source": [
    "# y_pred = lr.predict(prepped_data[2]['test']['X'])\n",
    "\n",
    "# recall_score(np.array(prepped_data[2]['test']['y']).reshape(-1,1), y_pred)"
   ]
  },
  {
   "cell_type": "code",
   "execution_count": 68,
   "metadata": {},
   "outputs": [],
   "source": [
    "# precision_score(np.array(prepped_data[2]['test']['y']).reshape(-1,1), y_pred)"
   ]
  },
  {
   "cell_type": "code",
   "execution_count": 69,
   "metadata": {},
   "outputs": [],
   "source": [
    "# lr2 = models.LogisticRegression(max_iter=100000, C=0.1)\n",
    "\n",
    "# X_train = smoted[3]['train']['SMOTE_even_split']['X']\n",
    "# y_train = smoted[3]['train']['SMOTE_even_split']['y']\n",
    "\n",
    "# lr2.fit(X_train, y_train)"
   ]
  },
  {
   "cell_type": "code",
   "execution_count": 70,
   "metadata": {},
   "outputs": [],
   "source": [
    "# X_test = smoted[3]['test']['X']\n",
    "# y_test = smoted[3]['test']['y']\n",
    "\n",
    "\n",
    "# lr2.score(X_test, y_test)"
   ]
  },
  {
   "cell_type": "code",
   "execution_count": 71,
   "metadata": {},
   "outputs": [],
   "source": [
    "# accuracy_score(y_test, lr2.predict(X_test))"
   ]
  },
  {
   "cell_type": "code",
   "execution_count": 72,
   "metadata": {
    "scrolled": false
   },
   "outputs": [],
   "source": [
    "# !pip install xgboost\n",
    "# !brew install libomp"
   ]
  },
  {
   "cell_type": "code",
   "execution_count": 73,
   "metadata": {},
   "outputs": [],
   "source": [
    "# from xgboost import XGBClassifier\n",
    "\n",
    "# X_train = smoted[3]['train']['SMOTE_even_split']['X']\n",
    "# y_train = smoted[3]['train']['SMOTE_even_split']['y']\n",
    "\n",
    "# classifier1 = XGBClassifier().fit(X_train, y_train)"
   ]
  },
  {
   "cell_type": "code",
   "execution_count": 74,
   "metadata": {},
   "outputs": [],
   "source": [
    "# train_p1 = classifier1.predict(smoted[3]['test']['X'])"
   ]
  },
  {
   "cell_type": "code",
   "execution_count": 75,
   "metadata": {},
   "outputs": [],
   "source": [
    "# accuracy_score(smoted[3]['test']['y'], train_p1)"
   ]
  },
  {
   "cell_type": "code",
   "execution_count": 76,
   "metadata": {},
   "outputs": [],
   "source": [
    "# knn = models.KNeighborsClassifier()\n",
    "\n",
    "# X_train = smoted[3]['train']['SMOTE_even_split']['X']\n",
    "# y_train = smoted[3]['train']['SMOTE_even_split']['y']\n",
    "\n",
    "# knn.fit(X_train, y_train)"
   ]
  },
  {
   "cell_type": "code",
   "execution_count": 77,
   "metadata": {},
   "outputs": [],
   "source": [
    "# X_test = smoted[3]['test']['X']\n",
    "# y_test = smoted[3]['test']['y']\n",
    "\n",
    "# knn.score(X_test, y_test)"
   ]
  },
  {
   "cell_type": "code",
   "execution_count": 78,
   "metadata": {},
   "outputs": [],
   "source": [
    "# y_pred = knn.predict(X_test)\n",
    "\n",
    "# recall_score(y_test, y_pred)"
   ]
  },
  {
   "cell_type": "code",
   "execution_count": 79,
   "metadata": {},
   "outputs": [],
   "source": [
    "# precision_score(y_test, y_pred)"
   ]
  },
  {
   "cell_type": "code",
   "execution_count": 80,
   "metadata": {},
   "outputs": [],
   "source": [
    "# from sklearn.ensemble import RandomForestClassifier\n",
    "\n",
    "# rfc = RandomForestClassifier(n_estimators=100, class_weight={0:1, 1:6})\n",
    "\n",
    "# rfc.fit(X_train, y_train)"
   ]
  },
  {
   "cell_type": "code",
   "execution_count": 81,
   "metadata": {},
   "outputs": [],
   "source": [
    "# y_pred = rfc.predict(prepped_data[2]['test']['X'])"
   ]
  },
  {
   "cell_type": "code",
   "execution_count": 82,
   "metadata": {},
   "outputs": [],
   "source": [
    "# recall_score(prepped_data[2]['test']['y'], y_pred)"
   ]
  },
  {
   "cell_type": "code",
   "execution_count": 83,
   "metadata": {},
   "outputs": [],
   "source": [
    "# from sklearn.naive_bayes import GaussianNB\n",
    "\n",
    "# gnb = GaussianNB()\n",
    "\n",
    "# gnb.fit(X_train, y_train)\n"
   ]
  },
  {
   "cell_type": "code",
   "execution_count": 84,
   "metadata": {},
   "outputs": [],
   "source": [
    "# y_pred = gnb.predict(prepped_data[2]['test']['X'])"
   ]
  },
  {
   "cell_type": "code",
   "execution_count": 85,
   "metadata": {},
   "outputs": [],
   "source": [
    "# precision_score(prepped_data[2]['test']['y'], y_pred)"
   ]
  },
  {
   "cell_type": "code",
   "execution_count": 86,
   "metadata": {},
   "outputs": [],
   "source": [
    "### Model dataset: people"
   ]
  },
  {
   "cell_type": "code",
   "execution_count": 87,
   "metadata": {},
   "outputs": [],
   "source": [
    "### Model dataset: vehicles"
   ]
  },
  {
   "cell_type": "code",
   "execution_count": 88,
   "metadata": {},
   "outputs": [],
   "source": [
    "### Model dataset: joined (all 3)"
   ]
  },
  {
   "cell_type": "code",
   "execution_count": 89,
   "metadata": {},
   "outputs": [],
   "source": [
    "# Model with crashes - LogReg, RandomForest, XGBoost, Naive Bayes, RandomizedSearch\n",
    "\n",
    "# from xgboost import XGBClassifier\n",
    "# classifier1 = XGBClassifier().fit(X_train, Y_train)\n",
    "\n",
    "# train_p1 = classifier1.predict(X_train)\n",
    "\n",
    "# from sklearn.metrics import classification_report, confusion_matrix, accuracy_score, hamming_loss\n",
    "# print(classification_report(Y_train, train_p1))"
   ]
  },
  {
   "cell_type": "code",
   "execution_count": 90,
   "metadata": {},
   "outputs": [],
   "source": [
    "# Model with all three - LogReg, RandomForest, XGBoost, Naive Bayes, RandomizedSearch\n",
    "\n",
    "# from sklearn.model_selection import train_test_split\n",
    "# X_train, X_test, Y_train, Y_test = train_test_split(X, y, test_size=0.2)\n",
    "# D_train = xgb.DMatrix(X_train, label=Y_train)\n",
    "# D_test  = xgb.DMatrix(X_test, label=Y_test)\n",
    "\n",
    "# params = {\n",
    "#         'min_child_weight': [5,6,7,8],\n",
    "#         'gamma'           : [1.1,1.2,1.3],\n",
    "#         'subsample'       : [.7,.8,.9],\n",
    "#         'max_depth'       : [10,11,12,13],\n",
    "#         'eta'             : [.2,.3,.4],\n",
    "#         'colsample_bytree': [.4,.5,.6]        \n",
    "#         }\n",
    "\n",
    "\n",
    "# xgb = XGBClassifier(learning_rate=0.02,\n",
    "#                     n_estimators=600,\n",
    "#                     objective='binary:logistic',\n",
    "#                     silent=True,\n",
    "#                     nthread=1,\n",
    "#                     tree_method= 'gpu_hist'\n",
    "# #                     verbosity=0,\n",
    "# #                    scale_pos_weight = 7\n",
    "#                    )\n",
    "\n"
   ]
  },
  {
   "cell_type": "code",
   "execution_count": 91,
   "metadata": {},
   "outputs": [],
   "source": [
    "# Model with all three - LogReg, RandomForest, XGBoost, Naive Bayes, RandomizedSearch\n",
    "\n",
    "\n"
   ]
  },
  {
   "cell_type": "code",
   "execution_count": null,
   "metadata": {},
   "outputs": [],
   "source": []
  },
  {
   "cell_type": "code",
   "execution_count": null,
   "metadata": {},
   "outputs": [],
   "source": []
  },
  {
   "cell_type": "markdown",
   "metadata": {},
   "source": [
    "## Sources\n",
    "\n",
    "##### Source Code\n",
    "* [Changing font size for Confusion Matrix](https://stackoverflow.com/questions/59839782/confusion-matrix-font-size)\n",
    "*[SMOTE-ing Data Tutorial](https://machinelearningmastery.com/smote-oversampling-for-imbalanced-classification/)\n",
    "\n",
    "##### Business Understanding\n",
    "\n",
    "* [Speeding Increases During Pandemic, Prompting Safety Groups To Take Action](http://www.ghsa.org/about/news/Forbes/Speed-Pilot21)\n",
    "* [Calls for safer streets intensify amid 45% spike in pedestrian deaths](https://www.smartcitiesdive.com/news/calls-for-safer-streets-intensify-amid-45-spike-in-pedestrian-deaths/596420/)\n",
    "* [Chicago unveils its West Side Vision Zero Traffic Safety Plan](https://chi.streetsblog.org/2019/09/12/the-city-of-chicago-unveils-its-west-side-vision-zero-traffic-safety-plan/)"
   ]
  },
  {
   "cell_type": "code",
   "execution_count": null,
   "metadata": {},
   "outputs": [],
   "source": []
  }
 ],
 "metadata": {
  "kernelspec": {
   "display_name": "Python 3",
   "language": "python",
   "name": "python3"
  },
  "language_info": {
   "codemirror_mode": {
    "name": "ipython",
    "version": 3
   },
   "file_extension": ".py",
   "mimetype": "text/x-python",
   "name": "python",
   "nbconvert_exporter": "python",
   "pygments_lexer": "ipython3",
   "version": "3.8.5"
  }
 },
 "nbformat": 4,
 "nbformat_minor": 4
}
