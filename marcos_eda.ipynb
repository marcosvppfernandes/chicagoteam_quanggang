{
 "cells": [
  {
   "cell_type": "markdown",
   "metadata": {},
   "source": [
    "# Exploratory Data Analysis and Data Cleaning"
   ]
  },
  {
   "cell_type": "code",
   "execution_count": 1,
   "metadata": {},
   "outputs": [],
   "source": [
    "import pandas as pd\n",
    "import numpy as np\n",
    "import matplotlib.pyplot as plt\n",
    "import seaborn as sns\n",
    "import numpy as np\n",
    "from sklearn.model_selection import train_test_split\n",
    "from sklearn.linear_model import LogisticRegression\n",
    "%matplotlib inline\n",
    "sns.set()"
   ]
  },
  {
   "cell_type": "code",
   "execution_count": 2,
   "metadata": {},
   "outputs": [],
   "source": [
    "crashes = pd.read_csv('Traffic_Crashes_-_Crashes.csv')"
   ]
  },
  {
   "cell_type": "code",
   "execution_count": 3,
   "metadata": {},
   "outputs": [],
   "source": [
    "# Low_memory=False, because it has mixed types of data in the same column/too many rows\n",
    "people = pd.read_csv('Traffic_Crashes_-_People.csv', low_memory=False)"
   ]
  },
  {
   "cell_type": "code",
   "execution_count": 4,
   "metadata": {},
   "outputs": [],
   "source": [
    "vehicles = pd.read_csv('Traffic_Crashes_-_Vehicles.csv', low_memory=False)"
   ]
  },
  {
   "cell_type": "code",
   "execution_count": 5,
   "metadata": {},
   "outputs": [],
   "source": [
    "def howmanyunique(data):\n",
    "    tempo = []\n",
    "    nombre = []\n",
    "    for x in data.columns:\n",
    "        tempo.append(len(data[x].value_counts().unique()))\n",
    "        nombre.append(x)\n",
    "    print(tempo)\n",
    "    print('')\n",
    "    print(nombre)"
   ]
  },
  {
   "cell_type": "code",
   "execution_count": 6,
   "metadata": {},
   "outputs": [],
   "source": [
    "def howmanynan(data):\n",
    "    print(data.isna().sum())   "
   ]
  },
  {
   "cell_type": "code",
   "execution_count": 50,
   "metadata": {},
   "outputs": [],
   "source": [
    "def rows_w_nan(data):\n",
    "    for x in data.columns:\n",
    "        if data[x].isna().sum() > 0:\n",
    "            print(\"Row: {} : {} NaN Values.\".format(x, data[x].isna().sum()))\n",
    "            "
   ]
  },
  {
   "cell_type": "code",
   "execution_count": 7,
   "metadata": {},
   "outputs": [],
   "source": [
    "def howmanyduplicates(data):\n",
    "    print(data.duplicated().sum())"
   ]
  },
  {
   "cell_type": "markdown",
   "metadata": {},
   "source": [
    "# Crashes"
   ]
  },
  {
   "cell_type": "code",
   "execution_count": 8,
   "metadata": {},
   "outputs": [
    {
     "data": {
      "text/plain": [
       "(482866, 49)"
      ]
     },
     "execution_count": 8,
     "metadata": {},
     "output_type": "execute_result"
    }
   ],
   "source": [
    "crashes.shape"
   ]
  },
  {
   "cell_type": "code",
   "execution_count": 9,
   "metadata": {
    "scrolled": true
   },
   "outputs": [
    {
     "name": "stdout",
     "output_type": "stream",
     "text": [
      "[1, 1, 2, 21, 28, 19, 8, 12, 6, 18, 20, 22, 6, 7, 7, 3, 2, 2, 2, 2, 3, 12, 40, 40, 424, 4, 488, 254, 2, 2, 2, 2, 4, 2, 13, 5, 14, 5, 8, 14, 12, 24, 1, 24, 7, 12, 138, 138, 138]\n",
      "\n",
      "['CRASH_RECORD_ID', 'RD_NO', 'CRASH_DATE_EST_I', 'CRASH_DATE', 'POSTED_SPEED_LIMIT', 'TRAFFIC_CONTROL_DEVICE', 'DEVICE_CONDITION', 'WEATHER_CONDITION', 'LIGHTING_CONDITION', 'FIRST_CRASH_TYPE', 'TRAFFICWAY_TYPE', 'LANE_CNT', 'ALIGNMENT', 'ROADWAY_SURFACE_COND', 'ROAD_DEFECT', 'REPORT_TYPE', 'CRASH_TYPE', 'INTERSECTION_RELATED_I', 'NOT_RIGHT_OF_WAY_I', 'HIT_AND_RUN_I', 'DAMAGE', 'DATE_POLICE_NOTIFIED', 'PRIM_CONTRIBUTORY_CAUSE', 'SEC_CONTRIBUTORY_CAUSE', 'STREET_NO', 'STREET_DIRECTION', 'STREET_NAME', 'BEAT_OF_OCCURRENCE', 'PHOTOS_TAKEN_I', 'STATEMENTS_TAKEN_I', 'DOORING_I', 'WORK_ZONE_I', 'WORK_ZONE_TYPE', 'WORKERS_PRESENT_I', 'NUM_UNITS', 'MOST_SEVERE_INJURY', 'INJURIES_TOTAL', 'INJURIES_FATAL', 'INJURIES_INCAPACITATING', 'INJURIES_NON_INCAPACITATING', 'INJURIES_REPORTED_NOT_EVIDENT', 'INJURIES_NO_INDICATION', 'INJURIES_UNKNOWN', 'CRASH_HOUR', 'CRASH_DAY_OF_WEEK', 'CRASH_MONTH', 'LATITUDE', 'LONGITUDE', 'LOCATION']\n"
     ]
    }
   ],
   "source": [
    "howmanyunique(crashes)"
   ]
  },
  {
   "cell_type": "code",
   "execution_count": 10,
   "metadata": {},
   "outputs": [
    {
     "name": "stdout",
     "output_type": "stream",
     "text": [
      "0\n"
     ]
    }
   ],
   "source": [
    "howmanyduplicates(crashes)"
   ]
  },
  {
   "cell_type": "code",
   "execution_count": null,
   "metadata": {},
   "outputs": [],
   "source": [
    "rows_w_nan(crashes)"
   ]
  },
  {
   "cell_type": "code",
   "execution_count": 12,
   "metadata": {},
   "outputs": [],
   "source": [
    "# We are going to drop all the columns with a lot of of NaN values, except for location that we can say right ahead that is\n",
    "# a multicolinearity case, since it has the Latiutude and Longitude together\n",
    "crashes = crashes.drop(columns=['CRASH_DATE_EST_I', 'LANE_CNT', 'INTERSECTION_RELATED_I',\n",
    "                                'NOT_RIGHT_OF_WAY_I', 'HIT_AND_RUN_I', 'PHOTOS_TAKEN_I', \n",
    "                                'STATEMENTS_TAKEN_I', 'DOORING_I', 'WORK_ZONE_I', 'WORK_ZONE_TYPE',\n",
    "                                'WORKERS_PRESENT_I', 'LOCATION'])"
   ]
  },
  {
   "cell_type": "markdown",
   "metadata": {},
   "source": [
    "### Data Manipulation with Missing Values (NaN)"
   ]
  },
  {
   "cell_type": "markdown",
   "metadata": {},
   "source": [
    "> **RD_NO**"
   ]
  },
  {
   "cell_type": "markdown",
   "metadata": {},
   "source": [
    "So we can see here that RD_NO and REPORT_TYPE still have a lot of missing data and that can be explained by the website, where they say and I quote:\n"
   ]
  },
  {
   "cell_type": "markdown",
   "metadata": {},
   "source": [
    "> \" For privacy reasons, this column is blank for recent crashes.\""
   ]
  },
  {
   "cell_type": "markdown",
   "metadata": {},
   "source": [
    "So since the RD_NO is another way to connect the cases between datasets, we can easily discard the whole column, because we still have CRASH_RECORD_ID, that has no missing values"
   ]
  },
  {
   "cell_type": "markdown",
   "metadata": {},
   "source": [
    "> **REPORT_TYPE**"
   ]
  },
  {
   "cell_type": "code",
   "execution_count": 53,
   "metadata": {},
   "outputs": [
    {
     "data": {
      "text/plain": [
       "NOT ON SCENE (DESK REPORT)    277308\n",
       "ON SCENE                      192629\n",
       "AMENDED                          240\n",
       "Name: REPORT_TYPE, dtype: int64"
      ]
     },
     "execution_count": 53,
     "metadata": {},
     "output_type": "execute_result"
    }
   ],
   "source": [
    "crashes.REPORT_TYPE.value_counts()"
   ]
  },
  {
   "cell_type": "markdown",
   "metadata": {},
   "source": [
    "By checking the REPORT_TYPE column we realize that it doesn't offer any predictive value to our model, but still might use it for the business understanding part."
   ]
  },
  {
   "cell_type": "markdown",
   "metadata": {},
   "source": [
    "> So we decide to drop the RD_NO columns because we have a good substitute and drop the rows where the remaining NaN values are, so we have a cleaner dataset"
   ]
  },
  {
   "cell_type": "code",
   "execution_count": 54,
   "metadata": {},
   "outputs": [],
   "source": [
    "crashes = crashes.drop(columns=['RD_NO'])"
   ]
  },
  {
   "cell_type": "code",
   "execution_count": 58,
   "metadata": {},
   "outputs": [],
   "source": [
    "crashes.dropna(inplace=True)"
   ]
  },
  {
   "cell_type": "markdown",
   "metadata": {},
   "source": [
    "### Since \"Injuries_Fatal\" is our target, let's give some more attention to it"
   ]
  },
  {
   "cell_type": "markdown",
   "metadata": {},
   "source": [
    "We want to transform the column into a Yes or No kind of answer instead of numbers of deads per accident."
   ]
  },
  {
   "cell_type": "code",
   "execution_count": 15,
   "metadata": {},
   "outputs": [
    {
     "data": {
      "text/plain": [
       "0.0    481428\n",
       "1.0       437\n",
       "2.0        28\n",
       "3.0         5\n",
       "4.0         1\n",
       "Name: INJURIES_FATAL, dtype: int64"
      ]
     },
     "execution_count": 15,
     "metadata": {},
     "output_type": "execute_result"
    }
   ],
   "source": [
    "crashes.INJURIES_FATAL.value_counts(dropna=False)"
   ]
  },
  {
   "cell_type": "code",
   "execution_count": 16,
   "metadata": {},
   "outputs": [],
   "source": [
    "crashes['INJURIES_FATAL'] = np.where(crashes['INJURIES_FATAL']>0, 1, 0)"
   ]
  },
  {
   "cell_type": "code",
   "execution_count": 17,
   "metadata": {},
   "outputs": [
    {
     "data": {
      "text/plain": [
       "0    481428\n",
       "1       471\n",
       "Name: INJURIES_FATAL, dtype: int64"
      ]
     },
     "execution_count": 17,
     "metadata": {},
     "output_type": "execute_result"
    }
   ],
   "source": [
    "crashes.INJURIES_FATAL.value_counts(dropna=False)"
   ]
  },
  {
   "cell_type": "markdown",
   "metadata": {},
   "source": [
    "# People"
   ]
  },
  {
   "cell_type": "code",
   "execution_count": 18,
   "metadata": {
    "scrolled": false
   },
   "outputs": [
    {
     "data": {
      "text/plain": [
       "(1067653, 30)"
      ]
     },
     "execution_count": 18,
     "metadata": {},
     "output_type": "execute_result"
    }
   ],
   "source": [
    "people.shape"
   ]
  },
  {
   "cell_type": "code",
   "execution_count": 19,
   "metadata": {
    "scrolled": false
   },
   "outputs": [
    {
     "name": "stdout",
     "output_type": "stream",
     "text": [
      "[1, 6, 45, 45, 43, 51, 11, 341, 49, 362, 3, 107, 72, 61, 18, 7, 5, 5, 184, 176, 96, 20, 14, 12, 23, 4, 8, 4, 29, 2]\n",
      "\n",
      "['PERSON_ID', 'PERSON_TYPE', 'CRASH_RECORD_ID', 'RD_NO', 'VEHICLE_ID', 'CRASH_DATE', 'SEAT_NO', 'CITY', 'STATE', 'ZIPCODE', 'SEX', 'AGE', 'DRIVERS_LICENSE_STATE', 'DRIVERS_LICENSE_CLASS', 'SAFETY_EQUIPMENT', 'AIRBAG_DEPLOYED', 'EJECTION', 'INJURY_CLASSIFICATION', 'HOSPITAL', 'EMS_AGENCY', 'EMS_RUN_NO', 'DRIVER_ACTION', 'DRIVER_VISION', 'PHYSICAL_CONDITION', 'PEDPEDAL_ACTION', 'PEDPEDAL_VISIBILITY', 'PEDPEDAL_LOCATION', 'BAC_RESULT', 'BAC_RESULT VALUE', 'CELL_PHONE_USE']\n"
     ]
    }
   ],
   "source": [
    "howmanyunique(people)"
   ]
  },
  {
   "cell_type": "code",
   "execution_count": 20,
   "metadata": {},
   "outputs": [
    {
     "name": "stdout",
     "output_type": "stream",
     "text": [
      "0\n"
     ]
    }
   ],
   "source": [
    "howmanyduplicates(people)"
   ]
  },
  {
   "cell_type": "code",
   "execution_count": 60,
   "metadata": {
    "scrolled": false
   },
   "outputs": [
    {
     "name": "stdout",
     "output_type": "stream",
     "text": [
      "Row: RD_NO : 7837 NaN Values.\n",
      "Row: VEHICLE_ID : 21126 NaN Values.\n",
      "Row: SEAT_NO : 849503 NaN Values.\n",
      "Row: CITY : 278316 NaN Values.\n",
      "Row: STATE : 269523 NaN Values.\n",
      "Row: ZIPCODE : 346783 NaN Values.\n",
      "Row: SEX : 15808 NaN Values.\n",
      "Row: AGE : 304206 NaN Values.\n",
      "Row: DRIVERS_LICENSE_STATE : 434424 NaN Values.\n",
      "Row: DRIVERS_LICENSE_CLASS : 517814 NaN Values.\n",
      "Row: SAFETY_EQUIPMENT : 3169 NaN Values.\n",
      "Row: AIRBAG_DEPLOYED : 20222 NaN Values.\n",
      "Row: EJECTION : 13178 NaN Values.\n",
      "Row: INJURY_CLASSIFICATION : 565 NaN Values.\n",
      "Row: HOSPITAL : 873244 NaN Values.\n",
      "Row: EMS_AGENCY : 944181 NaN Values.\n",
      "Row: EMS_RUN_NO : 1047577 NaN Values.\n",
      "Row: DRIVER_ACTION : 220203 NaN Values.\n",
      "Row: DRIVER_VISION : 220482 NaN Values.\n",
      "Row: PHYSICAL_CONDITION : 219592 NaN Values.\n",
      "Row: PEDPEDAL_ACTION : 1047794 NaN Values.\n",
      "Row: PEDPEDAL_VISIBILITY : 1047837 NaN Values.\n",
      "Row: PEDPEDAL_LOCATION : 1047793 NaN Values.\n",
      "Row: BAC_RESULT : 219095 NaN Values.\n",
      "Row: BAC_RESULT VALUE : 1066278 NaN Values.\n",
      "Row: CELL_PHONE_USE : 1066496 NaN Values.\n"
     ]
    }
   ],
   "source": [
    "rows_w_nan(people)"
   ]
  },
  {
   "cell_type": "markdown",
   "metadata": {},
   "source": [
    "# Vehicles"
   ]
  },
  {
   "cell_type": "code",
   "execution_count": 22,
   "metadata": {},
   "outputs": [
    {
     "data": {
      "text/plain": [
       "(986181, 72)"
      ]
     },
     "execution_count": 22,
     "metadata": {},
     "output_type": "execute_result"
    }
   ],
   "source": [
    "vehicles.shape"
   ]
  },
  {
   "cell_type": "code",
   "execution_count": 23,
   "metadata": {
    "scrolled": false
   },
   "outputs": [
    {
     "name": "stdout",
     "output_type": "stream",
     "text": [
      "[1, 17, 17, 40, 16, 9, 22, 1, 2, 150, 522, 51, 68, 17, 21, 25, 8, 28, 2, 2, 25, 2, 133, 121, 2, 2, 2, 2, 2, 2, 2, 2, 2, 2, 2, 2, 2, 2, 14, 1, 34, 11, 11, 4, 40, 37, 39, 58, 2, 3, 8, 3, 3, 1, 3, 1, 3, 3, 9, 2, 3, 3, 26, 4, 40, 12, 8, 9, 6, 2, 2, 7]\n",
      "\n",
      "['CRASH_UNIT_ID', 'CRASH_RECORD_ID', 'RD_NO', 'CRASH_DATE', 'UNIT_NO', 'UNIT_TYPE', 'NUM_PASSENGERS', 'VEHICLE_ID', 'CMRC_VEH_I', 'MAKE', 'MODEL', 'LIC_PLATE_STATE', 'VEHICLE_YEAR', 'VEHICLE_DEFECT', 'VEHICLE_TYPE', 'VEHICLE_USE', 'TRAVEL_DIRECTION', 'MANEUVER', 'TOWED_I', 'FIRE_I', 'OCCUPANT_CNT', 'EXCEED_SPEED_LIMIT_I', 'TOWED_BY', 'TOWED_TO', 'AREA_00_I', 'AREA_01_I', 'AREA_02_I', 'AREA_03_I', 'AREA_04_I', 'AREA_05_I', 'AREA_06_I', 'AREA_07_I', 'AREA_08_I', 'AREA_09_I', 'AREA_10_I', 'AREA_11_I', 'AREA_12_I', 'AREA_99_I', 'FIRST_CONTACT_POINT', 'CMV_ID', 'USDOT_NO', 'CCMC_NO', 'ILCC_NO', 'COMMERCIAL_SRC', 'GVWR', 'CARRIER_NAME', 'CARRIER_STATE', 'CARRIER_CITY', 'HAZMAT_PLACARDS_I', 'HAZMAT_NAME', 'UN_NO', 'HAZMAT_PRESENT_I', 'HAZMAT_REPORT_I', 'HAZMAT_REPORT_NO', 'MCS_REPORT_I', 'MCS_REPORT_NO', 'HAZMAT_VIO_CAUSE_CRASH_I', 'MCS_VIO_CAUSE_CRASH_I', 'IDOT_PERMIT_NO', 'WIDE_LOAD_I', 'TRAILER1_WIDTH', 'TRAILER2_WIDTH', 'TRAILER1_LENGTH', 'TRAILER2_LENGTH', 'TOTAL_VEHICLE_LENGTH', 'AXLE_CNT', 'VEHICLE_CONFIG', 'CARGO_BODY_TYPE', 'LOAD_TYPE', 'HAZMAT_OUT_OF_SERVICE_I', 'MCS_OUT_OF_SERVICE_I', 'HAZMAT_CLASS']\n"
     ]
    }
   ],
   "source": [
    "howmanyunique(vehicles)"
   ]
  },
  {
   "cell_type": "code",
   "execution_count": 24,
   "metadata": {},
   "outputs": [
    {
     "name": "stdout",
     "output_type": "stream",
     "text": [
      "0\n"
     ]
    }
   ],
   "source": [
    "howmanyduplicates(vehicles)"
   ]
  },
  {
   "cell_type": "code",
   "execution_count": 61,
   "metadata": {
    "scrolled": true
   },
   "outputs": [
    {
     "name": "stdout",
     "output_type": "stream",
     "text": [
      "Row: RD_NO : 7858 NaN Values.\n",
      "Row: UNIT_TYPE : 1479 NaN Values.\n",
      "Row: NUM_PASSENGERS : 838583 NaN Values.\n",
      "Row: VEHICLE_ID : 22726 NaN Values.\n",
      "Row: CMRC_VEH_I : 967789 NaN Values.\n",
      "Row: MAKE : 22731 NaN Values.\n",
      "Row: MODEL : 22873 NaN Values.\n",
      "Row: LIC_PLATE_STATE : 104563 NaN Values.\n",
      "Row: VEHICLE_YEAR : 178719 NaN Values.\n",
      "Row: VEHICLE_DEFECT : 22726 NaN Values.\n",
      "Row: VEHICLE_TYPE : 22726 NaN Values.\n",
      "Row: VEHICLE_USE : 22726 NaN Values.\n",
      "Row: TRAVEL_DIRECTION : 22726 NaN Values.\n",
      "Row: MANEUVER : 22726 NaN Values.\n",
      "Row: TOWED_I : 875221 NaN Values.\n",
      "Row: FIRE_I : 985468 NaN Values.\n",
      "Row: OCCUPANT_CNT : 22726 NaN Values.\n",
      "Row: EXCEED_SPEED_LIMIT_I : 983793 NaN Values.\n",
      "Row: TOWED_BY : 905157 NaN Values.\n",
      "Row: TOWED_TO : 935405 NaN Values.\n",
      "Row: AREA_00_I : 947679 NaN Values.\n",
      "Row: AREA_01_I : 730721 NaN Values.\n",
      "Row: AREA_02_I : 817483 NaN Values.\n",
      "Row: AREA_03_I : 892829 NaN Values.\n",
      "Row: AREA_04_I : 887725 NaN Values.\n",
      "Row: AREA_05_I : 836437 NaN Values.\n",
      "Row: AREA_06_I : 838181 NaN Values.\n",
      "Row: AREA_07_I : 859293 NaN Values.\n",
      "Row: AREA_08_I : 819874 NaN Values.\n",
      "Row: AREA_09_I : 946290 NaN Values.\n",
      "Row: AREA_10_I : 928359 NaN Values.\n",
      "Row: AREA_11_I : 870715 NaN Values.\n",
      "Row: AREA_12_I : 872465 NaN Values.\n",
      "Row: AREA_99_I : 882619 NaN Values.\n",
      "Row: FIRST_CONTACT_POINT : 29102 NaN Values.\n",
      "Row: CMV_ID : 975681 NaN Values.\n",
      "Row: USDOT_NO : 980062 NaN Values.\n",
      "Row: CCMC_NO : 984807 NaN Values.\n",
      "Row: ILCC_NO : 985188 NaN Values.\n",
      "Row: COMMERCIAL_SRC : 978670 NaN Values.\n",
      "Row: GVWR : 980078 NaN Values.\n",
      "Row: CARRIER_NAME : 976115 NaN Values.\n",
      "Row: CARRIER_STATE : 976664 NaN Values.\n",
      "Row: CARRIER_CITY : 976831 NaN Values.\n",
      "Row: HAZMAT_PLACARDS_I : 985967 NaN Values.\n",
      "Row: HAZMAT_NAME : 986142 NaN Values.\n",
      "Row: UN_NO : 985795 NaN Values.\n",
      "Row: HAZMAT_PRESENT_I : 978432 NaN Values.\n",
      "Row: HAZMAT_REPORT_I : 978673 NaN Values.\n",
      "Row: HAZMAT_REPORT_NO : 986180 NaN Values.\n",
      "Row: MCS_REPORT_I : 978621 NaN Values.\n",
      "Row: MCS_REPORT_NO : 986176 NaN Values.\n",
      "Row: HAZMAT_VIO_CAUSE_CRASH_I : 978553 NaN Values.\n",
      "Row: MCS_VIO_CAUSE_CRASH_I : 978682 NaN Values.\n",
      "Row: IDOT_PERMIT_NO : 985555 NaN Values.\n",
      "Row: WIDE_LOAD_I : 986091 NaN Values.\n",
      "Row: TRAILER1_WIDTH : 984028 NaN Values.\n",
      "Row: TRAILER2_WIDTH : 985940 NaN Values.\n",
      "Row: TRAILER1_LENGTH : 984421 NaN Values.\n",
      "Row: TRAILER2_LENGTH : 986134 NaN Values.\n",
      "Row: TOTAL_VEHICLE_LENGTH : 984054 NaN Values.\n",
      "Row: AXLE_CNT : 983125 NaN Values.\n",
      "Row: VEHICLE_CONFIG : 977437 NaN Values.\n",
      "Row: CARGO_BODY_TYPE : 977812 NaN Values.\n",
      "Row: LOAD_TYPE : 978167 NaN Values.\n",
      "Row: HAZMAT_OUT_OF_SERVICE_I : 978888 NaN Values.\n",
      "Row: MCS_OUT_OF_SERVICE_I : 978688 NaN Values.\n",
      "Row: HAZMAT_CLASS : 985464 NaN Values.\n"
     ]
    }
   ],
   "source": [
    "rows_w_nan(vehicles)"
   ]
  },
  {
   "cell_type": "markdown",
   "metadata": {},
   "source": [
    "### Beep boop"
   ]
  }
 ],
 "metadata": {
  "kernelspec": {
   "display_name": "Python 3",
   "language": "python",
   "name": "python3"
  },
  "language_info": {
   "codemirror_mode": {
    "name": "ipython",
    "version": 3
   },
   "file_extension": ".py",
   "mimetype": "text/x-python",
   "name": "python",
   "nbconvert_exporter": "python",
   "pygments_lexer": "ipython3",
   "version": "3.8.5"
  }
 },
 "nbformat": 4,
 "nbformat_minor": 4
}
