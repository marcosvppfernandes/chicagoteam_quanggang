{
 "cells": [
  {
   "cell_type": "markdown",
   "metadata": {},
   "source": [
    "# Exploratory Data Analysis and Data Cleaning"
   ]
  },
  {
   "cell_type": "code",
   "execution_count": 1,
   "metadata": {},
   "outputs": [],
   "source": [
    "import pandas as pd\n",
    "import numpy as np\n",
    "import matplotlib.pyplot as plt\n",
    "import seaborn as sns\n",
    "import numpy as np\n",
    "from datetime import datetime\n",
    "from dateutil import parser\n",
    "from sklearn.model_selection import train_test_split\n",
    "from pandas.tseries.holiday import USFederalHolidayCalendar as calendar\n",
    "from sklearn.linear_model import LogisticRegression\n",
    "%matplotlib inline\n",
    "sns.set()"
   ]
  },
  {
   "cell_type": "code",
   "execution_count": 2,
   "metadata": {},
   "outputs": [],
   "source": [
    "crashes = pd.read_csv('../Traffic_Crashes_-_Crashes.csv')"
   ]
  },
  {
   "cell_type": "code",
   "execution_count": 3,
   "metadata": {},
   "outputs": [],
   "source": [
    "# Low_memory=False, because it has mixed types of data in the same column/too many rows\n",
    "people = pd.read_csv('../Traffic_Crashes_-_People.csv', low_memory=False)"
   ]
  },
  {
   "cell_type": "code",
   "execution_count": 4,
   "metadata": {},
   "outputs": [],
   "source": [
    "vehicles = pd.read_csv('../Traffic_Crashes_-_Vehicles.csv', low_memory=False)"
   ]
  },
  {
   "cell_type": "code",
   "execution_count": 5,
   "metadata": {},
   "outputs": [],
   "source": [
    "def howmanyunique(data):\n",
    "    tempo = []\n",
    "    nombre = []\n",
    "    for x in data.columns:\n",
    "        tempo.append(len(data[x].value_counts().unique()))\n",
    "        nombre.append(x)\n",
    "    print(tempo)\n",
    "    print('')\n",
    "    print(nombre)"
   ]
  },
  {
   "cell_type": "code",
   "execution_count": 6,
   "metadata": {},
   "outputs": [],
   "source": [
    "def howmanynan(data):\n",
    "    print(data.isna().sum())   "
   ]
  },
  {
   "cell_type": "code",
   "execution_count": 7,
   "metadata": {},
   "outputs": [],
   "source": [
    "def rows_w_nan(data):\n",
    "   \n",
    "    temp = []\n",
    "    for x in data.columns:\n",
    "        if data[x].isna().sum() > 0:\n",
    "            percentage_of_data = data[x].isna().sum()/(list(data.shape)[0])\n",
    "            print(\"Row: {} : is made {}% of NaN Values.\".format(x, percentage_of_data.round(3)))\n",
    "            if percentage_of_data > 0.3:\n",
    "                temp.append(x)\n",
    "    print(temp)"
   ]
  },
  {
   "cell_type": "code",
   "execution_count": 8,
   "metadata": {},
   "outputs": [],
   "source": [
    "def howmanyduplicates(data):\n",
    "    print(data.duplicated().sum())"
   ]
  },
  {
   "cell_type": "code",
   "execution_count": 9,
   "metadata": {},
   "outputs": [],
   "source": [
    "def rows_w_nan1(data):\n",
    "   \n",
    "    for x in data.columns:\n",
    "        print(x)"
   ]
  },
  {
   "cell_type": "markdown",
   "metadata": {},
   "source": [
    "# Crashes Data Set"
   ]
  },
  {
   "cell_type": "code",
   "execution_count": 10,
   "metadata": {},
   "outputs": [
    {
     "data": {
      "text/plain": [
       "(484022, 49)"
      ]
     },
     "execution_count": 10,
     "metadata": {},
     "output_type": "execute_result"
    }
   ],
   "source": [
    "crashes.shape"
   ]
  },
  {
   "cell_type": "code",
   "execution_count": 11,
   "metadata": {
    "scrolled": false
   },
   "outputs": [
    {
     "name": "stdout",
     "output_type": "stream",
     "text": [
      "[1, 1, 2, 21, 28, 19, 8, 12, 6, 18, 20, 22, 6, 7, 7, 3, 2, 2, 2, 2, 3, 12, 40, 39, 424, 4, 497, 259, 2, 2, 2, 2, 4, 2, 13, 5, 14, 5, 8, 14, 12, 24, 1, 24, 7, 12, 137, 137, 137]\n",
      "\n",
      "['CRASH_RECORD_ID', 'RD_NO', 'CRASH_DATE_EST_I', 'CRASH_DATE', 'POSTED_SPEED_LIMIT', 'TRAFFIC_CONTROL_DEVICE', 'DEVICE_CONDITION', 'WEATHER_CONDITION', 'LIGHTING_CONDITION', 'FIRST_CRASH_TYPE', 'TRAFFICWAY_TYPE', 'LANE_CNT', 'ALIGNMENT', 'ROADWAY_SURFACE_COND', 'ROAD_DEFECT', 'REPORT_TYPE', 'CRASH_TYPE', 'INTERSECTION_RELATED_I', 'NOT_RIGHT_OF_WAY_I', 'HIT_AND_RUN_I', 'DAMAGE', 'DATE_POLICE_NOTIFIED', 'PRIM_CONTRIBUTORY_CAUSE', 'SEC_CONTRIBUTORY_CAUSE', 'STREET_NO', 'STREET_DIRECTION', 'STREET_NAME', 'BEAT_OF_OCCURRENCE', 'PHOTOS_TAKEN_I', 'STATEMENTS_TAKEN_I', 'DOORING_I', 'WORK_ZONE_I', 'WORK_ZONE_TYPE', 'WORKERS_PRESENT_I', 'NUM_UNITS', 'MOST_SEVERE_INJURY', 'INJURIES_TOTAL', 'INJURIES_FATAL', 'INJURIES_INCAPACITATING', 'INJURIES_NON_INCAPACITATING', 'INJURIES_REPORTED_NOT_EVIDENT', 'INJURIES_NO_INDICATION', 'INJURIES_UNKNOWN', 'CRASH_HOUR', 'CRASH_DAY_OF_WEEK', 'CRASH_MONTH', 'LATITUDE', 'LONGITUDE', 'LOCATION']\n"
     ]
    }
   ],
   "source": [
    "howmanyunique(crashes)"
   ]
  },
  {
   "cell_type": "code",
   "execution_count": 12,
   "metadata": {},
   "outputs": [
    {
     "name": "stdout",
     "output_type": "stream",
     "text": [
      "0\n"
     ]
    }
   ],
   "source": [
    "howmanyduplicates(crashes)"
   ]
  },
  {
   "cell_type": "code",
   "execution_count": 13,
   "metadata": {},
   "outputs": [
    {
     "name": "stdout",
     "output_type": "stream",
     "text": [
      "Row: RD_NO : is made 0.007% of NaN Values.\n",
      "Row: CRASH_DATE_EST_I : is made 0.925% of NaN Values.\n",
      "Row: LANE_CNT : is made 0.589% of NaN Values.\n",
      "Row: REPORT_TYPE : is made 0.024% of NaN Values.\n",
      "Row: INTERSECTION_RELATED_I : is made 0.774% of NaN Values.\n",
      "Row: NOT_RIGHT_OF_WAY_I : is made 0.953% of NaN Values.\n",
      "Row: HIT_AND_RUN_I : is made 0.706% of NaN Values.\n",
      "Row: STREET_DIRECTION : is made 0.0% of NaN Values.\n",
      "Row: STREET_NAME : is made 0.0% of NaN Values.\n",
      "Row: BEAT_OF_OCCURRENCE : is made 0.0% of NaN Values.\n",
      "Row: PHOTOS_TAKEN_I : is made 0.987% of NaN Values.\n",
      "Row: STATEMENTS_TAKEN_I : is made 0.98% of NaN Values.\n",
      "Row: DOORING_I : is made 0.997% of NaN Values.\n",
      "Row: WORK_ZONE_I : is made 0.994% of NaN Values.\n",
      "Row: WORK_ZONE_TYPE : is made 0.995% of NaN Values.\n",
      "Row: WORKERS_PRESENT_I : is made 0.998% of NaN Values.\n",
      "Row: MOST_SEVERE_INJURY : is made 0.002% of NaN Values.\n",
      "Row: INJURIES_TOTAL : is made 0.002% of NaN Values.\n",
      "Row: INJURIES_FATAL : is made 0.002% of NaN Values.\n",
      "Row: INJURIES_INCAPACITATING : is made 0.002% of NaN Values.\n",
      "Row: INJURIES_NON_INCAPACITATING : is made 0.002% of NaN Values.\n",
      "Row: INJURIES_REPORTED_NOT_EVIDENT : is made 0.002% of NaN Values.\n",
      "Row: INJURIES_NO_INDICATION : is made 0.002% of NaN Values.\n",
      "Row: INJURIES_UNKNOWN : is made 0.002% of NaN Values.\n",
      "Row: LATITUDE : is made 0.006% of NaN Values.\n",
      "Row: LONGITUDE : is made 0.006% of NaN Values.\n",
      "Row: LOCATION : is made 0.006% of NaN Values.\n",
      "['CRASH_DATE_EST_I', 'LANE_CNT', 'INTERSECTION_RELATED_I', 'NOT_RIGHT_OF_WAY_I', 'HIT_AND_RUN_I', 'PHOTOS_TAKEN_I', 'STATEMENTS_TAKEN_I', 'DOORING_I', 'WORK_ZONE_I', 'WORK_ZONE_TYPE', 'WORKERS_PRESENT_I']\n"
     ]
    }
   ],
   "source": [
    "rows_w_nan(crashes)"
   ]
  },
  {
   "cell_type": "code",
   "execution_count": 14,
   "metadata": {},
   "outputs": [],
   "source": [
    "# We are going to drop all the columns with a lot of of NaN values, except for location that we can say right ahead that is\n",
    "# a multicolinearity case, since it has the Latiutude and Longitude together\n",
    "crashes = crashes.drop(columns=['CRASH_DATE_EST_I', 'LANE_CNT', 'INTERSECTION_RELATED_I',\n",
    "                                'NOT_RIGHT_OF_WAY_I', 'HIT_AND_RUN_I', 'PHOTOS_TAKEN_I', \n",
    "                                'STATEMENTS_TAKEN_I', 'DOORING_I', 'WORK_ZONE_I', 'WORK_ZONE_TYPE',\n",
    "                                'WORKERS_PRESENT_I', 'LOCATION'])"
   ]
  },
  {
   "cell_type": "markdown",
   "metadata": {},
   "source": [
    "### Data Manipulation with Missing Values (NaN)"
   ]
  },
  {
   "cell_type": "markdown",
   "metadata": {},
   "source": [
    "> **RD_NO**"
   ]
  },
  {
   "cell_type": "markdown",
   "metadata": {},
   "source": [
    "So we can see here that RD_NO and REPORT_TYPE still have a lot of missing data and that can be explained by the website, where they say and I quote:\n"
   ]
  },
  {
   "cell_type": "markdown",
   "metadata": {},
   "source": [
    "> \" For privacy reasons, this column is blank for recent crashes.\""
   ]
  },
  {
   "cell_type": "markdown",
   "metadata": {},
   "source": [
    "So since the RD_NO is another way to connect the cases between datasets, we can easily discard the whole column, because we still have CRASH_RECORD_ID, that has no missing values"
   ]
  },
  {
   "cell_type": "markdown",
   "metadata": {},
   "source": [
    "> **REPORT_TYPE**"
   ]
  },
  {
   "cell_type": "code",
   "execution_count": 15,
   "metadata": {},
   "outputs": [
    {
     "data": {
      "text/plain": [
       "NOT ON SCENE (DESK REPORT)    278124\n",
       "ON SCENE                      193888\n",
       "AMENDED                          240\n",
       "Name: REPORT_TYPE, dtype: int64"
      ]
     },
     "execution_count": 15,
     "metadata": {},
     "output_type": "execute_result"
    }
   ],
   "source": [
    "crashes.REPORT_TYPE.value_counts()"
   ]
  },
  {
   "cell_type": "markdown",
   "metadata": {},
   "source": [
    "By checking the REPORT_TYPE column we realize that it doesn't offer any predictive value to our model, but still might use it for the business understanding part."
   ]
  },
  {
   "cell_type": "markdown",
   "metadata": {},
   "source": [
    "> So we decide to drop the RD_NO columns because we have a good substitute and drop the rows where the remaining NaN values are, so we have a cleaner dataset"
   ]
  },
  {
   "cell_type": "code",
   "execution_count": 16,
   "metadata": {},
   "outputs": [],
   "source": [
    "crashes = crashes.drop(columns=['RD_NO'])"
   ]
  },
  {
   "cell_type": "code",
   "execution_count": 17,
   "metadata": {},
   "outputs": [],
   "source": [
    "# Now we can drop the remaining rows with NaN values\n",
    "crashes.dropna(inplace=True)"
   ]
  },
  {
   "cell_type": "code",
   "execution_count": 18,
   "metadata": {},
   "outputs": [
    {
     "data": {
      "text/plain": [
       "0"
      ]
     },
     "execution_count": 18,
     "metadata": {},
     "output_type": "execute_result"
    }
   ],
   "source": [
    "crashes.isna().sum().sum()"
   ]
  },
  {
   "cell_type": "markdown",
   "metadata": {},
   "source": [
    "### Since \"Injuries_Fatal\" is important, let's give some more attention to it"
   ]
  },
  {
   "cell_type": "markdown",
   "metadata": {},
   "source": [
    "We want to transform the column into a Yes or No kind of answer instead of numbers of deads per accident."
   ]
  },
  {
   "cell_type": "code",
   "execution_count": 19,
   "metadata": {},
   "outputs": [
    {
     "data": {
      "text/plain": [
       "0.0    468289\n",
       "1.0       348\n",
       "2.0        18\n",
       "3.0         5\n",
       "Name: INJURIES_FATAL, dtype: int64"
      ]
     },
     "execution_count": 19,
     "metadata": {},
     "output_type": "execute_result"
    }
   ],
   "source": [
    "crashes.INJURIES_FATAL.value_counts(dropna=False)"
   ]
  },
  {
   "cell_type": "code",
   "execution_count": 20,
   "metadata": {},
   "outputs": [],
   "source": [
    "crashes['INJURIES_FATAL'] = np.where(crashes['INJURIES_FATAL']>0, 1, 0)"
   ]
  },
  {
   "cell_type": "code",
   "execution_count": 21,
   "metadata": {
    "scrolled": false
   },
   "outputs": [
    {
     "data": {
      "text/plain": [
       "0    468289\n",
       "1       371\n",
       "Name: INJURIES_FATAL, dtype: int64"
      ]
     },
     "execution_count": 21,
     "metadata": {},
     "output_type": "execute_result"
    }
   ],
   "source": [
    "crashes.INJURIES_FATAL.value_counts(dropna=False)"
   ]
  },
  {
   "cell_type": "markdown",
   "metadata": {},
   "source": [
    "## Some more data manipulation with useful columns"
   ]
  },
  {
   "cell_type": "markdown",
   "metadata": {},
   "source": [
    "### WEATHER_CONDITION"
   ]
  },
  {
   "cell_type": "code",
   "execution_count": 22,
   "metadata": {
    "scrolled": true
   },
   "outputs": [
    {
     "data": {
      "text/plain": [
       "CLEAR                       369648\n",
       "RAIN                         41293\n",
       "UNKNOWN                      20530\n",
       "SNOW                         19487\n",
       "CLOUDY/OVERCAST              13910\n",
       "OTHER                         1512\n",
       "FOG/SMOKE/HAZE                 797\n",
       "SLEET/HAIL                     692\n",
       "FREEZING RAIN/DRIZZLE          549\n",
       "BLOWING SNOW                   154\n",
       "SEVERE CROSS WIND GATE          86\n",
       "BLOWING SAND, SOIL, DIRT         2\n",
       "Name: WEATHER_CONDITION, dtype: int64"
      ]
     },
     "execution_count": 22,
     "metadata": {},
     "output_type": "execute_result"
    }
   ],
   "source": [
    "crashes.WEATHER_CONDITION.value_counts()"
   ]
  },
  {
   "cell_type": "code",
   "execution_count": 23,
   "metadata": {},
   "outputs": [],
   "source": [
    "crashes.WEATHER_CONDITION = np.where(crashes.WEATHER_CONDITION=='BLOWING SNOW', 'SNOW', crashes.WEATHER_CONDITION)"
   ]
  },
  {
   "cell_type": "code",
   "execution_count": 24,
   "metadata": {},
   "outputs": [],
   "source": [
    "crashes.WEATHER_CONDITION = np.where(crashes.WEATHER_CONDITION=='FREEZING RAIN/DRIZZLE', 'RAIN', crashes.WEATHER_CONDITION)"
   ]
  },
  {
   "cell_type": "code",
   "execution_count": 25,
   "metadata": {},
   "outputs": [],
   "source": [
    "crashes.WEATHER_CONDITION = np.where(crashes.WEATHER_CONDITION=='FOG/SMOKE/HAZE', 'OTHER', crashes.WEATHER_CONDITION)"
   ]
  },
  {
   "cell_type": "code",
   "execution_count": 26,
   "metadata": {},
   "outputs": [],
   "source": [
    "crashes.WEATHER_CONDITION = np.where(crashes.WEATHER_CONDITION=='SLEET/HAIL', 'OTHER', crashes.WEATHER_CONDITION)"
   ]
  },
  {
   "cell_type": "code",
   "execution_count": 27,
   "metadata": {},
   "outputs": [],
   "source": [
    "crashes.WEATHER_CONDITION = np.where(crashes.WEATHER_CONDITION=='BLOWING SAND, SOIL, DIRT', 'OTHER', crashes.WEATHER_CONDITION)"
   ]
  },
  {
   "cell_type": "code",
   "execution_count": 28,
   "metadata": {},
   "outputs": [],
   "source": [
    "crashes.WEATHER_CONDITION = np.where(crashes.WEATHER_CONDITION=='SEVERE CROSS WIND GATE', 'OTHER', crashes.WEATHER_CONDITION)"
   ]
  },
  {
   "cell_type": "code",
   "execution_count": 29,
   "metadata": {
    "scrolled": true
   },
   "outputs": [
    {
     "data": {
      "text/plain": [
       "CLEAR              369648\n",
       "RAIN                41842\n",
       "UNKNOWN             20530\n",
       "SNOW                19641\n",
       "CLOUDY/OVERCAST     13910\n",
       "OTHER                3089\n",
       "Name: WEATHER_CONDITION, dtype: int64"
      ]
     },
     "execution_count": 29,
     "metadata": {},
     "output_type": "execute_result"
    }
   ],
   "source": [
    "crashes.WEATHER_CONDITION.value_counts()"
   ]
  },
  {
   "cell_type": "markdown",
   "metadata": {},
   "source": [
    "### ALIGNMENT"
   ]
  },
  {
   "cell_type": "code",
   "execution_count": 30,
   "metadata": {
    "scrolled": true
   },
   "outputs": [
    {
     "data": {
      "text/plain": [
       "STRAIGHT AND LEVEL       457042\n",
       "STRAIGHT ON GRADE          5775\n",
       "CURVE, LEVEL               3507\n",
       "STRAIGHT ON HILLCREST      1440\n",
       "CURVE ON GRADE              667\n",
       "CURVE ON HILLCREST          229\n",
       "Name: ALIGNMENT, dtype: int64"
      ]
     },
     "execution_count": 30,
     "metadata": {},
     "output_type": "execute_result"
    }
   ],
   "source": [
    "crashes.ALIGNMENT.value_counts()"
   ]
  },
  {
   "cell_type": "markdown",
   "metadata": {},
   "source": [
    "### POSTED_SPEED_LIMIT"
   ]
  },
  {
   "cell_type": "code",
   "execution_count": 31,
   "metadata": {
    "scrolled": true
   },
   "outputs": [
    {
     "data": {
      "text/plain": [
       "30    345555\n",
       "35     32216\n",
       "25     28456\n",
       "20     18121\n",
       "15     16350\n",
       "10      9874\n",
       "0       6611\n",
       "40      4282\n",
       "5       3551\n",
       "45      2696\n",
       "55       360\n",
       "3        113\n",
       "50        94\n",
       "9         89\n",
       "99        66\n",
       "39        51\n",
       "1         33\n",
       "60        24\n",
       "2         19\n",
       "24        16\n",
       "32        14\n",
       "33        10\n",
       "34        10\n",
       "65        10\n",
       "6          7\n",
       "11         5\n",
       "36         5\n",
       "70         3\n",
       "7          2\n",
       "14         2\n",
       "12         2\n",
       "18         2\n",
       "31         2\n",
       "26         2\n",
       "49         1\n",
       "38         1\n",
       "22         1\n",
       "63         1\n",
       "4          1\n",
       "23         1\n",
       "29         1\n",
       "Name: POSTED_SPEED_LIMIT, dtype: int64"
      ]
     },
     "execution_count": 31,
     "metadata": {},
     "output_type": "execute_result"
    }
   ],
   "source": [
    "# Bining Posted_Speed_Limit\n",
    "crashes.POSTED_SPEED_LIMIT.value_counts()"
   ]
  },
  {
   "cell_type": "code",
   "execution_count": 32,
   "metadata": {
    "scrolled": true
   },
   "outputs": [],
   "source": [
    "# Let's bin the speed limit in 9 groups, the last one being 45 miles/hour or above\n",
    "crashes.POSTED_SPEED_LIMIT = pd.cut(crashes.POSTED_SPEED_LIMIT,[0, 5, 10, 15, 20, 25, 30, 35, 40, 45],\n",
    "                                    precision=0, labels=[0, 1, 2, 3, 4, 5, 6, 7, 8])"
   ]
  },
  {
   "cell_type": "code",
   "execution_count": 33,
   "metadata": {
    "scrolled": true
   },
   "outputs": [
    {
     "data": {
      "text/plain": [
       "5    345558\n",
       "6     32252\n",
       "4     28474\n",
       "3     18123\n",
       "2     16359\n",
       "1      9972\n",
       "7      4339\n",
       "0      3717\n",
       "8      2696\n",
       "Name: POSTED_SPEED_LIMIT, dtype: int64"
      ]
     },
     "execution_count": 33,
     "metadata": {},
     "output_type": "execute_result"
    }
   ],
   "source": [
    "crashes.POSTED_SPEED_LIMIT.value_counts()"
   ]
  },
  {
   "cell_type": "code",
   "execution_count": 34,
   "metadata": {
    "scrolled": true
   },
   "outputs": [
    {
     "name": "stdout",
     "output_type": "stream",
     "text": [
      "[1, 21, 9, 19, 8, 6, 6, 18, 20, 6, 7, 7, 3, 2, 3, 12, 40, 40, 419, 4, 477, 256, 13, 5, 14, 2, 7, 13, 12, 25, 1, 24, 7, 12, 137, 137]\n",
      "\n",
      "['CRASH_RECORD_ID', 'CRASH_DATE', 'POSTED_SPEED_LIMIT', 'TRAFFIC_CONTROL_DEVICE', 'DEVICE_CONDITION', 'WEATHER_CONDITION', 'LIGHTING_CONDITION', 'FIRST_CRASH_TYPE', 'TRAFFICWAY_TYPE', 'ALIGNMENT', 'ROADWAY_SURFACE_COND', 'ROAD_DEFECT', 'REPORT_TYPE', 'CRASH_TYPE', 'DAMAGE', 'DATE_POLICE_NOTIFIED', 'PRIM_CONTRIBUTORY_CAUSE', 'SEC_CONTRIBUTORY_CAUSE', 'STREET_NO', 'STREET_DIRECTION', 'STREET_NAME', 'BEAT_OF_OCCURRENCE', 'NUM_UNITS', 'MOST_SEVERE_INJURY', 'INJURIES_TOTAL', 'INJURIES_FATAL', 'INJURIES_INCAPACITATING', 'INJURIES_NON_INCAPACITATING', 'INJURIES_REPORTED_NOT_EVIDENT', 'INJURIES_NO_INDICATION', 'INJURIES_UNKNOWN', 'CRASH_HOUR', 'CRASH_DAY_OF_WEEK', 'CRASH_MONTH', 'LATITUDE', 'LONGITUDE']\n"
     ]
    }
   ],
   "source": [
    "howmanyunique(crashes)"
   ]
  },
  {
   "cell_type": "code",
   "execution_count": 35,
   "metadata": {},
   "outputs": [
    {
     "data": {
      "text/plain": [
       "OVER $1,500      270353\n",
       "$501 - $1,500    137706\n",
       "$500 OR LESS      60601\n",
       "Name: DAMAGE, dtype: int64"
      ]
     },
     "execution_count": 35,
     "metadata": {},
     "output_type": "execute_result"
    }
   ],
   "source": [
    "crashes.DAMAGE.value_counts()"
   ]
  },
  {
   "cell_type": "code",
   "execution_count": 36,
   "metadata": {},
   "outputs": [
    {
     "data": {
      "text/plain": [
       "6    76212\n",
       "7    69228\n",
       "3    67493\n",
       "5    67214\n",
       "4    66835\n",
       "2    65195\n",
       "1    56483\n",
       "Name: CRASH_DAY_OF_WEEK, dtype: int64"
      ]
     },
     "execution_count": 36,
     "metadata": {},
     "output_type": "execute_result"
    }
   ],
   "source": [
    "crashes.CRASH_DAY_OF_WEEK.value_counts()"
   ]
  },
  {
   "cell_type": "code",
   "execution_count": 37,
   "metadata": {
    "scrolled": true
   },
   "outputs": [
    {
     "data": {
      "text/plain": [
       "10    45053\n",
       "12    42845\n",
       "9     41972\n",
       "11    41620\n",
       "8     40634\n",
       "1     40078\n",
       "2     40053\n",
       "7     38888\n",
       "6     36792\n",
       "5     35784\n",
       "3     34476\n",
       "4     30465\n",
       "Name: CRASH_MONTH, dtype: int64"
      ]
     },
     "execution_count": 37,
     "metadata": {},
     "output_type": "execute_result"
    }
   ],
   "source": [
    "crashes.CRASH_MONTH.value_counts()"
   ]
  },
  {
   "cell_type": "code",
   "execution_count": 38,
   "metadata": {
    "scrolled": false
   },
   "outputs": [
    {
     "data": {
      "text/plain": [
       "16    35862\n",
       "15    35718\n",
       "17    35351\n",
       "14    31849\n",
       "18    29277\n",
       "13    28993\n",
       "12    27929\n",
       "8     25128\n",
       "11    24209\n",
       "9     22104\n",
       "10    21710\n",
       "19    21359\n",
       "7     20286\n",
       "20    16865\n",
       "21    14982\n",
       "22    13776\n",
       "23    11552\n",
       "6     10548\n",
       "0      9418\n",
       "1      7845\n",
       "2      6799\n",
       "5      6385\n",
       "3      5575\n",
       "4      5140\n",
       "Name: CRASH_HOUR, dtype: int64"
      ]
     },
     "execution_count": 38,
     "metadata": {},
     "output_type": "execute_result"
    }
   ],
   "source": [
    "crashes.CRASH_HOUR.value_counts()"
   ]
  },
  {
   "cell_type": "code",
   "execution_count": 39,
   "metadata": {},
   "outputs": [],
   "source": [
    "crashes.CRASH_HOUR = pd.cut(crashes.CRASH_HOUR,[0, 6, 12, 18, 24],\n",
    "                                    precision=0, labels=[0, 1, 2, 3])"
   ]
  },
  {
   "cell_type": "code",
   "execution_count": 40,
   "metadata": {
    "scrolled": true
   },
   "outputs": [
    {
     "data": {
      "text/plain": [
       "2    197050\n",
       "1    141366\n",
       "3     78534\n",
       "0     42292\n",
       "Name: CRASH_HOUR, dtype: int64"
      ]
     },
     "execution_count": 40,
     "metadata": {},
     "output_type": "execute_result"
    }
   ],
   "source": [
    "crashes.CRASH_HOUR.value_counts()"
   ]
  },
  {
   "cell_type": "code",
   "execution_count": 41,
   "metadata": {
    "scrolled": true
   },
   "outputs": [
    {
     "data": {
      "text/plain": [
       "DRY                348218\n",
       "WET                 64433\n",
       "UNKNOWN             31200\n",
       "SNOW OR SLUSH       19664\n",
       "ICE                  3810\n",
       "OTHER                1124\n",
       "SAND, MUD, DIRT       211\n",
       "Name: ROADWAY_SURFACE_COND, dtype: int64"
      ]
     },
     "execution_count": 41,
     "metadata": {},
     "output_type": "execute_result"
    }
   ],
   "source": [
    "crashes.ROADWAY_SURFACE_COND.value_counts()"
   ]
  },
  {
   "cell_type": "code",
   "execution_count": 42,
   "metadata": {
    "scrolled": false
   },
   "outputs": [
    {
     "data": {
      "text/plain": [
       "NOT DIVIDED                        209625\n",
       "DIVIDED - W/MEDIAN (NOT RAISED)     82982\n",
       "ONE-WAY                             62008\n",
       "PARKING LOT                         33261\n",
       "DIVIDED - W/MEDIAN BARRIER          27768\n",
       "FOUR WAY                            14658\n",
       "OTHER                               13163\n",
       "ALLEY                                7731\n",
       "UNKNOWN                              5111\n",
       "CENTER TURN LANE                     3992\n",
       "T-INTERSECTION                       3112\n",
       "DRIVEWAY                             1622\n",
       "RAMP                                 1442\n",
       "UNKNOWN INTERSECTION TYPE             907\n",
       "Y-INTERSECTION                        373\n",
       "FIVE POINT, OR MORE                   370\n",
       "TRAFFIC ROUTE                         270\n",
       "NOT REPORTED                          118\n",
       "ROUNDABOUT                             94\n",
       "L-INTERSECTION                         53\n",
       "Name: TRAFFICWAY_TYPE, dtype: int64"
      ]
     },
     "execution_count": 42,
     "metadata": {},
     "output_type": "execute_result"
    }
   ],
   "source": [
    "crashes.TRAFFICWAY_TYPE.value_counts()"
   ]
  },
  {
   "cell_type": "code",
   "execution_count": 43,
   "metadata": {},
   "outputs": [
    {
     "data": {
      "text/plain": [
       "NO INDICATION OF INJURY     409702\n",
       "NONINCAPACITATING INJURY     32671\n",
       "REPORTED, NOT EVIDENT        18532\n",
       "INCAPACITATING INJURY         7384\n",
       "FATAL                          371\n",
       "Name: MOST_SEVERE_INJURY, dtype: int64"
      ]
     },
     "execution_count": 43,
     "metadata": {},
     "output_type": "execute_result"
    }
   ],
   "source": [
    "crashes.MOST_SEVERE_INJURY.value_counts()"
   ]
  },
  {
   "cell_type": "code",
   "execution_count": 44,
   "metadata": {},
   "outputs": [],
   "source": [
    "crashes['MOST_SEVERE_INJURY'] = np.where(crashes['MOST_SEVERE_INJURY']=='REPORTED, NOT EVIDENT',\n",
    "                                         'NONINCAPACITATING INJURY', crashes['MOST_SEVERE_INJURY'])"
   ]
  },
  {
   "cell_type": "code",
   "execution_count": 45,
   "metadata": {},
   "outputs": [],
   "source": [
    "crashes['MOST_SEVERE_INJURY'] = np.where(crashes['MOST_SEVERE_INJURY']=='FATAL',\n",
    "                                         'INCAPACITATING INJURY', crashes['MOST_SEVERE_INJURY'])"
   ]
  },
  {
   "cell_type": "code",
   "execution_count": 46,
   "metadata": {},
   "outputs": [],
   "source": [
    "crashes['MOST_SEVERE_INJURY'] = np.where(crashes['MOST_SEVERE_INJURY']=='INCAPACITATING INJURY',\n",
    "                                         'INCAPACITATING INJURY/FATAL', crashes['MOST_SEVERE_INJURY'])"
   ]
  },
  {
   "cell_type": "code",
   "execution_count": 47,
   "metadata": {},
   "outputs": [
    {
     "data": {
      "text/plain": [
       "NO INDICATION OF INJURY        409702\n",
       "NONINCAPACITATING INJURY        51203\n",
       "INCAPACITATING INJURY/FATAL      7755\n",
       "Name: MOST_SEVERE_INJURY, dtype: int64"
      ]
     },
     "execution_count": 47,
     "metadata": {},
     "output_type": "execute_result"
    }
   ],
   "source": [
    "crashes.MOST_SEVERE_INJURY.value_counts()"
   ]
  },
  {
   "cell_type": "code",
   "execution_count": 48,
   "metadata": {
    "scrolled": true
   },
   "outputs": [
    {
     "data": {
      "text/plain": [
       "WESTERN AVE       12896\n",
       "PULASKI RD        11244\n",
       "CICERO AVE        10252\n",
       "ASHLAND AVE       10239\n",
       "HALSTED ST         8978\n",
       "                  ...  \n",
       "LASALLE ST            1\n",
       "CHICORA AVE           1\n",
       "ST MICHAELS CT        1\n",
       "ELSDON AVE            1\n",
       "JULIA CT              1\n",
       "Name: STREET_NAME, Length: 1520, dtype: int64"
      ]
     },
     "execution_count": 48,
     "metadata": {},
     "output_type": "execute_result"
    }
   ],
   "source": [
    "# We could check to see how long the street is OR\n",
    "# We could create a kind of multi-column based on the other column \"TRAFFICWAY_TYPE\" OR\n",
    "# Just group them together by that same column\n",
    "crashes.STREET_NAME.value_counts()"
   ]
  },
  {
   "cell_type": "code",
   "execution_count": 49,
   "metadata": {
    "scrolled": false
   },
   "outputs": [
    {
     "data": {
      "text/plain": [
       "W    166935\n",
       "S    155627\n",
       "N    113430\n",
       "E     32668\n",
       "Name: STREET_DIRECTION, dtype: int64"
      ]
     },
     "execution_count": 49,
     "metadata": {},
     "output_type": "execute_result"
    }
   ],
   "source": [
    "crashes.STREET_DIRECTION.value_counts()"
   ]
  },
  {
   "cell_type": "markdown",
   "metadata": {},
   "source": [
    "### Working with Date-Time Columns"
   ]
  },
  {
   "cell_type": "markdown",
   "metadata": {},
   "source": [
    "- Can we explore and see if holidays play a part on accidents?"
   ]
  },
  {
   "cell_type": "code",
   "execution_count": 50,
   "metadata": {
    "scrolled": true
   },
   "outputs": [
    {
     "data": {
      "text/plain": [
       "'07/10/2019 05:56:00 PM'"
      ]
     },
     "execution_count": 50,
     "metadata": {},
     "output_type": "execute_result"
    }
   ],
   "source": [
    "# CRASH_DATE is a string\n",
    "crashes['CRASH_DATE'][0]"
   ]
  },
  {
   "cell_type": "code",
   "execution_count": 51,
   "metadata": {
    "scrolled": true
   },
   "outputs": [
    {
     "data": {
      "text/plain": [
       "str"
      ]
     },
     "execution_count": 51,
     "metadata": {},
     "output_type": "execute_result"
    }
   ],
   "source": [
    "# We can check that here\n",
    "type(crashes['CRASH_DATE'][0])"
   ]
  },
  {
   "cell_type": "code",
   "execution_count": 52,
   "metadata": {},
   "outputs": [],
   "source": [
    "# We create a new column Date-Time with the previous column\n",
    "crashes['DATE_ACCIDENT']= pd.to_datetime(crashes['CRASH_DATE'], format='%m/%d/%Y %I:%M:%S %p')"
   ]
  },
  {
   "cell_type": "code",
   "execution_count": 54,
   "metadata": {
    "scrolled": true
   },
   "outputs": [
    {
     "data": {
      "text/plain": [
       "pandas._libs.tslibs.timestamps.Timestamp"
      ]
     },
     "execution_count": 54,
     "metadata": {},
     "output_type": "execute_result"
    }
   ],
   "source": [
    "# We confirm that it worked\n",
    "type(crashes.DATE_ACCIDENT[0])"
   ]
  },
  {
   "cell_type": "code",
   "execution_count": 55,
   "metadata": {},
   "outputs": [
    {
     "name": "stdout",
     "output_type": "stream",
     "text": [
      "Earliest Date: 2013-03-03 16:48:00 \n",
      "Latest Date: 2021-03-09 23:10:00\n"
     ]
    }
   ],
   "source": [
    "# Our earliest and latest date\n",
    "print(\"Earliest Date: {} \\nLatest Date: {}\".format(crashes['DATE_ACCIDENT'].min(), crashes['DATE_ACCIDENT'].max()))"
   ]
  },
  {
   "cell_type": "code",
   "execution_count": 56,
   "metadata": {},
   "outputs": [],
   "source": [
    "holidays = pd.tseries.holiday.USFederalHolidayCalendar().holidays(start='2012', end='2022').to_pydatetime()"
   ]
  },
  {
   "cell_type": "code",
   "execution_count": 57,
   "metadata": {},
   "outputs": [],
   "source": [
    "holidays_date = [holiday.date() for holiday in holidays]\n"
   ]
  },
  {
   "cell_type": "code",
   "execution_count": 58,
   "metadata": {},
   "outputs": [
    {
     "data": {
      "text/plain": [
       "[datetime.date(2012, 1, 2),\n",
       " datetime.date(2012, 1, 16),\n",
       " datetime.date(2012, 2, 20)]"
      ]
     },
     "execution_count": 58,
     "metadata": {},
     "output_type": "execute_result"
    }
   ],
   "source": [
    "holidays_date[:3]"
   ]
  },
  {
   "cell_type": "code",
   "execution_count": 59,
   "metadata": {},
   "outputs": [],
   "source": [
    "def isitaholiday(date):\n",
    "    ''' super useful function'''\n",
    "    if date.date() in holidays_date:\n",
    "        return 1\n",
    "    else: \n",
    "        return 0"
   ]
  },
  {
   "cell_type": "code",
   "execution_count": 60,
   "metadata": {
    "scrolled": false
   },
   "outputs": [
    {
     "data": {
      "text/plain": [
       "0"
      ]
     },
     "execution_count": 60,
     "metadata": {},
     "output_type": "execute_result"
    }
   ],
   "source": [
    "isitaholiday(crashes['DATE_ACCIDENT'][100])"
   ]
  },
  {
   "cell_type": "code",
   "execution_count": 61,
   "metadata": {
    "scrolled": false
   },
   "outputs": [
    {
     "data": {
      "text/plain": [
       "datetime.date(2012, 1, 16)"
      ]
     },
     "execution_count": 61,
     "metadata": {},
     "output_type": "execute_result"
    }
   ],
   "source": [
    "holidays[1].date()"
   ]
  },
  {
   "cell_type": "code",
   "execution_count": 62,
   "metadata": {},
   "outputs": [],
   "source": [
    "crashes['IS_A_HOLIDAY'] = crashes['DATE_ACCIDENT'].apply(isitaholiday)"
   ]
  },
  {
   "cell_type": "code",
   "execution_count": 63,
   "metadata": {},
   "outputs": [],
   "source": [
    "crashes['HOLIDAY_NAME'] = crashes['DATE_ACCIDENT'].apply(isitaholiday)"
   ]
  },
  {
   "cell_type": "code",
   "execution_count": 64,
   "metadata": {
    "scrolled": true
   },
   "outputs": [
    {
     "data": {
      "text/plain": [
       "11064"
      ]
     },
     "execution_count": 64,
     "metadata": {},
     "output_type": "execute_result"
    }
   ],
   "source": [
    "crashes['IS_A_HOLIDAY'].sum()"
   ]
  },
  {
   "cell_type": "code",
   "execution_count": 65,
   "metadata": {},
   "outputs": [
    {
     "data": {
      "text/plain": [
       "datetime.date(2019, 7, 10)"
      ]
     },
     "execution_count": 65,
     "metadata": {},
     "output_type": "execute_result"
    }
   ],
   "source": [
    "crashes['DATE_ACCIDENT'][0].date()"
   ]
  },
  {
   "cell_type": "code",
   "execution_count": 66,
   "metadata": {},
   "outputs": [],
   "source": [
    "crashes.drop(['CRASH_DATE'], axis = 1, inplace = True)"
   ]
  },
  {
   "cell_type": "code",
   "execution_count": 67,
   "metadata": {},
   "outputs": [
    {
     "data": {
      "text/html": [
       "<div>\n",
       "<style scoped>\n",
       "    .dataframe tbody tr th:only-of-type {\n",
       "        vertical-align: middle;\n",
       "    }\n",
       "\n",
       "    .dataframe tbody tr th {\n",
       "        vertical-align: top;\n",
       "    }\n",
       "\n",
       "    .dataframe thead th {\n",
       "        text-align: right;\n",
       "    }\n",
       "</style>\n",
       "<table border=\"1\" class=\"dataframe\">\n",
       "  <thead>\n",
       "    <tr style=\"text-align: right;\">\n",
       "      <th></th>\n",
       "      <th>CRASH_RECORD_ID</th>\n",
       "      <th>POSTED_SPEED_LIMIT</th>\n",
       "      <th>TRAFFIC_CONTROL_DEVICE</th>\n",
       "      <th>DEVICE_CONDITION</th>\n",
       "      <th>WEATHER_CONDITION</th>\n",
       "      <th>LIGHTING_CONDITION</th>\n",
       "      <th>FIRST_CRASH_TYPE</th>\n",
       "      <th>TRAFFICWAY_TYPE</th>\n",
       "      <th>ALIGNMENT</th>\n",
       "      <th>ROADWAY_SURFACE_COND</th>\n",
       "      <th>...</th>\n",
       "      <th>INJURIES_UNKNOWN</th>\n",
       "      <th>CRASH_HOUR</th>\n",
       "      <th>CRASH_DAY_OF_WEEK</th>\n",
       "      <th>CRASH_MONTH</th>\n",
       "      <th>LATITUDE</th>\n",
       "      <th>LONGITUDE</th>\n",
       "      <th>DATE_ACCIDENT</th>\n",
       "      <th>DATE_NOHOUR</th>\n",
       "      <th>IS_A_HOLIDAY</th>\n",
       "      <th>HOLIDAY_NAME</th>\n",
       "    </tr>\n",
       "  </thead>\n",
       "  <tbody>\n",
       "    <tr>\n",
       "      <th>0</th>\n",
       "      <td>4fd0a3e0897b3335b94cd8d5b2d2b350eb691add56c62d...</td>\n",
       "      <td>6</td>\n",
       "      <td>NO CONTROLS</td>\n",
       "      <td>NO CONTROLS</td>\n",
       "      <td>CLEAR</td>\n",
       "      <td>DAYLIGHT</td>\n",
       "      <td>TURNING</td>\n",
       "      <td>ONE-WAY</td>\n",
       "      <td>STRAIGHT AND LEVEL</td>\n",
       "      <td>DRY</td>\n",
       "      <td>...</td>\n",
       "      <td>0.0</td>\n",
       "      <td>2</td>\n",
       "      <td>4</td>\n",
       "      <td>7</td>\n",
       "      <td>41.919664</td>\n",
       "      <td>-87.773288</td>\n",
       "      <td>2019-07-10 17:56:00</td>\n",
       "      <td>2019-07-10 17:56:00</td>\n",
       "      <td>0</td>\n",
       "      <td>0</td>\n",
       "    </tr>\n",
       "    <tr>\n",
       "      <th>1</th>\n",
       "      <td>009e9e67203442370272e1a13d6ee51a4155dac65e583d...</td>\n",
       "      <td>6</td>\n",
       "      <td>STOP SIGN/FLASHER</td>\n",
       "      <td>FUNCTIONING PROPERLY</td>\n",
       "      <td>CLEAR</td>\n",
       "      <td>DAYLIGHT</td>\n",
       "      <td>TURNING</td>\n",
       "      <td>NOT DIVIDED</td>\n",
       "      <td>STRAIGHT AND LEVEL</td>\n",
       "      <td>DRY</td>\n",
       "      <td>...</td>\n",
       "      <td>0.0</td>\n",
       "      <td>2</td>\n",
       "      <td>6</td>\n",
       "      <td>6</td>\n",
       "      <td>41.741804</td>\n",
       "      <td>-87.740954</td>\n",
       "      <td>2017-06-30 16:00:00</td>\n",
       "      <td>2017-06-30 16:00:00</td>\n",
       "      <td>0</td>\n",
       "      <td>0</td>\n",
       "    </tr>\n",
       "    <tr>\n",
       "      <th>2</th>\n",
       "      <td>ee9283eff3a55ac50ee58f3d9528ce1d689b1c4180b4c4...</td>\n",
       "      <td>5</td>\n",
       "      <td>TRAFFIC SIGNAL</td>\n",
       "      <td>FUNCTIONING PROPERLY</td>\n",
       "      <td>CLEAR</td>\n",
       "      <td>DAYLIGHT</td>\n",
       "      <td>REAR END</td>\n",
       "      <td>FOUR WAY</td>\n",
       "      <td>STRAIGHT AND LEVEL</td>\n",
       "      <td>DRY</td>\n",
       "      <td>...</td>\n",
       "      <td>0.0</td>\n",
       "      <td>1</td>\n",
       "      <td>6</td>\n",
       "      <td>7</td>\n",
       "      <td>41.773456</td>\n",
       "      <td>-87.585022</td>\n",
       "      <td>2020-07-10 10:25:00</td>\n",
       "      <td>2020-07-10 10:25:00</td>\n",
       "      <td>0</td>\n",
       "      <td>0</td>\n",
       "    </tr>\n",
       "  </tbody>\n",
       "</table>\n",
       "<p>3 rows × 39 columns</p>\n",
       "</div>"
      ],
      "text/plain": [
       "                                     CRASH_RECORD_ID POSTED_SPEED_LIMIT  \\\n",
       "0  4fd0a3e0897b3335b94cd8d5b2d2b350eb691add56c62d...                  6   \n",
       "1  009e9e67203442370272e1a13d6ee51a4155dac65e583d...                  6   \n",
       "2  ee9283eff3a55ac50ee58f3d9528ce1d689b1c4180b4c4...                  5   \n",
       "\n",
       "  TRAFFIC_CONTROL_DEVICE      DEVICE_CONDITION WEATHER_CONDITION  \\\n",
       "0            NO CONTROLS           NO CONTROLS             CLEAR   \n",
       "1      STOP SIGN/FLASHER  FUNCTIONING PROPERLY             CLEAR   \n",
       "2         TRAFFIC SIGNAL  FUNCTIONING PROPERLY             CLEAR   \n",
       "\n",
       "  LIGHTING_CONDITION FIRST_CRASH_TYPE TRAFFICWAY_TYPE           ALIGNMENT  \\\n",
       "0           DAYLIGHT          TURNING         ONE-WAY  STRAIGHT AND LEVEL   \n",
       "1           DAYLIGHT          TURNING     NOT DIVIDED  STRAIGHT AND LEVEL   \n",
       "2           DAYLIGHT         REAR END        FOUR WAY  STRAIGHT AND LEVEL   \n",
       "\n",
       "  ROADWAY_SURFACE_COND  ... INJURIES_UNKNOWN CRASH_HOUR CRASH_DAY_OF_WEEK  \\\n",
       "0                  DRY  ...              0.0          2                 4   \n",
       "1                  DRY  ...              0.0          2                 6   \n",
       "2                  DRY  ...              0.0          1                 6   \n",
       "\n",
       "  CRASH_MONTH   LATITUDE  LONGITUDE       DATE_ACCIDENT         DATE_NOHOUR  \\\n",
       "0           7  41.919664 -87.773288 2019-07-10 17:56:00 2019-07-10 17:56:00   \n",
       "1           6  41.741804 -87.740954 2017-06-30 16:00:00 2017-06-30 16:00:00   \n",
       "2           7  41.773456 -87.585022 2020-07-10 10:25:00 2020-07-10 10:25:00   \n",
       "\n",
       "  IS_A_HOLIDAY HOLIDAY_NAME  \n",
       "0            0            0  \n",
       "1            0            0  \n",
       "2            0            0  \n",
       "\n",
       "[3 rows x 39 columns]"
      ]
     },
     "execution_count": 67,
     "metadata": {},
     "output_type": "execute_result"
    }
   ],
   "source": [
    "crashes.head(3)"
   ]
  },
  {
   "cell_type": "code",
   "execution_count": 68,
   "metadata": {},
   "outputs": [],
   "source": [
    "crashes_holiday = crashes[crashes['IS_A_HOLIDAY']==1]"
   ]
  },
  {
   "cell_type": "code",
   "execution_count": 69,
   "metadata": {
    "scrolled": true
   },
   "outputs": [
    {
     "data": {
      "text/html": [
       "<div>\n",
       "<style scoped>\n",
       "    .dataframe tbody tr th:only-of-type {\n",
       "        vertical-align: middle;\n",
       "    }\n",
       "\n",
       "    .dataframe tbody tr th {\n",
       "        vertical-align: top;\n",
       "    }\n",
       "\n",
       "    .dataframe thead th {\n",
       "        text-align: right;\n",
       "    }\n",
       "</style>\n",
       "<table border=\"1\" class=\"dataframe\">\n",
       "  <thead>\n",
       "    <tr style=\"text-align: right;\">\n",
       "      <th></th>\n",
       "      <th>CRASH_RECORD_ID</th>\n",
       "      <th>POSTED_SPEED_LIMIT</th>\n",
       "      <th>TRAFFIC_CONTROL_DEVICE</th>\n",
       "      <th>DEVICE_CONDITION</th>\n",
       "      <th>WEATHER_CONDITION</th>\n",
       "      <th>LIGHTING_CONDITION</th>\n",
       "      <th>FIRST_CRASH_TYPE</th>\n",
       "      <th>TRAFFICWAY_TYPE</th>\n",
       "      <th>ALIGNMENT</th>\n",
       "      <th>ROADWAY_SURFACE_COND</th>\n",
       "      <th>...</th>\n",
       "      <th>INJURIES_UNKNOWN</th>\n",
       "      <th>CRASH_HOUR</th>\n",
       "      <th>CRASH_DAY_OF_WEEK</th>\n",
       "      <th>CRASH_MONTH</th>\n",
       "      <th>LATITUDE</th>\n",
       "      <th>LONGITUDE</th>\n",
       "      <th>DATE_ACCIDENT</th>\n",
       "      <th>DATE_NOHOUR</th>\n",
       "      <th>IS_A_HOLIDAY</th>\n",
       "      <th>HOLIDAY_NAME</th>\n",
       "    </tr>\n",
       "  </thead>\n",
       "  <tbody>\n",
       "    <tr>\n",
       "      <th>155</th>\n",
       "      <td>3bfec94191bdc869600d2c429c45a68871eb9733ce7ec6...</td>\n",
       "      <td>4</td>\n",
       "      <td>NO CONTROLS</td>\n",
       "      <td>NO CONTROLS</td>\n",
       "      <td>SNOW</td>\n",
       "      <td>DAYLIGHT</td>\n",
       "      <td>PARKED MOTOR VEHICLE</td>\n",
       "      <td>NOT DIVIDED</td>\n",
       "      <td>STRAIGHT AND LEVEL</td>\n",
       "      <td>SNOW OR SLUSH</td>\n",
       "      <td>...</td>\n",
       "      <td>0.0</td>\n",
       "      <td>1</td>\n",
       "      <td>6</td>\n",
       "      <td>11</td>\n",
       "      <td>41.932213</td>\n",
       "      <td>-87.653694</td>\n",
       "      <td>2017-11-10 12:45:00</td>\n",
       "      <td>2017-11-10 12:45:00</td>\n",
       "      <td>1</td>\n",
       "      <td>1</td>\n",
       "    </tr>\n",
       "    <tr>\n",
       "      <th>168</th>\n",
       "      <td>43292e98b1ba60cb4c6efeb987a67a1ec0291acea4357e...</td>\n",
       "      <td>7</td>\n",
       "      <td>NO CONTROLS</td>\n",
       "      <td>OTHER</td>\n",
       "      <td>RAIN</td>\n",
       "      <td>DARKNESS, LIGHTED ROAD</td>\n",
       "      <td>TURNING</td>\n",
       "      <td>NOT DIVIDED</td>\n",
       "      <td>STRAIGHT AND LEVEL</td>\n",
       "      <td>WET</td>\n",
       "      <td>...</td>\n",
       "      <td>0.0</td>\n",
       "      <td>NaN</td>\n",
       "      <td>2</td>\n",
       "      <td>2</td>\n",
       "      <td>41.880660</td>\n",
       "      <td>-87.740728</td>\n",
       "      <td>2018-02-19 00:25:00</td>\n",
       "      <td>2018-02-19 00:25:00</td>\n",
       "      <td>1</td>\n",
       "      <td>1</td>\n",
       "    </tr>\n",
       "    <tr>\n",
       "      <th>234</th>\n",
       "      <td>5e45d4537c4d0bd12bfa11a7f75526f4fe0d61c68a0ec1...</td>\n",
       "      <td>1</td>\n",
       "      <td>NO CONTROLS</td>\n",
       "      <td>NO CONTROLS</td>\n",
       "      <td>CLEAR</td>\n",
       "      <td>DARKNESS, LIGHTED ROAD</td>\n",
       "      <td>PARKED MOTOR VEHICLE</td>\n",
       "      <td>PARKING LOT</td>\n",
       "      <td>STRAIGHT AND LEVEL</td>\n",
       "      <td>WET</td>\n",
       "      <td>...</td>\n",
       "      <td>0.0</td>\n",
       "      <td>0</td>\n",
       "      <td>3</td>\n",
       "      <td>1</td>\n",
       "      <td>41.879714</td>\n",
       "      <td>-87.774496</td>\n",
       "      <td>2019-01-01 02:40:00</td>\n",
       "      <td>2019-01-01 02:40:00</td>\n",
       "      <td>1</td>\n",
       "      <td>1</td>\n",
       "    </tr>\n",
       "  </tbody>\n",
       "</table>\n",
       "<p>3 rows × 39 columns</p>\n",
       "</div>"
      ],
      "text/plain": [
       "                                       CRASH_RECORD_ID POSTED_SPEED_LIMIT  \\\n",
       "155  3bfec94191bdc869600d2c429c45a68871eb9733ce7ec6...                  4   \n",
       "168  43292e98b1ba60cb4c6efeb987a67a1ec0291acea4357e...                  7   \n",
       "234  5e45d4537c4d0bd12bfa11a7f75526f4fe0d61c68a0ec1...                  1   \n",
       "\n",
       "    TRAFFIC_CONTROL_DEVICE DEVICE_CONDITION WEATHER_CONDITION  \\\n",
       "155            NO CONTROLS      NO CONTROLS              SNOW   \n",
       "168            NO CONTROLS            OTHER              RAIN   \n",
       "234            NO CONTROLS      NO CONTROLS             CLEAR   \n",
       "\n",
       "         LIGHTING_CONDITION      FIRST_CRASH_TYPE TRAFFICWAY_TYPE  \\\n",
       "155                DAYLIGHT  PARKED MOTOR VEHICLE     NOT DIVIDED   \n",
       "168  DARKNESS, LIGHTED ROAD               TURNING     NOT DIVIDED   \n",
       "234  DARKNESS, LIGHTED ROAD  PARKED MOTOR VEHICLE     PARKING LOT   \n",
       "\n",
       "              ALIGNMENT ROADWAY_SURFACE_COND  ... INJURIES_UNKNOWN CRASH_HOUR  \\\n",
       "155  STRAIGHT AND LEVEL        SNOW OR SLUSH  ...              0.0          1   \n",
       "168  STRAIGHT AND LEVEL                  WET  ...              0.0        NaN   \n",
       "234  STRAIGHT AND LEVEL                  WET  ...              0.0          0   \n",
       "\n",
       "    CRASH_DAY_OF_WEEK CRASH_MONTH   LATITUDE  LONGITUDE       DATE_ACCIDENT  \\\n",
       "155                 6          11  41.932213 -87.653694 2017-11-10 12:45:00   \n",
       "168                 2           2  41.880660 -87.740728 2018-02-19 00:25:00   \n",
       "234                 3           1  41.879714 -87.774496 2019-01-01 02:40:00   \n",
       "\n",
       "            DATE_NOHOUR IS_A_HOLIDAY HOLIDAY_NAME  \n",
       "155 2017-11-10 12:45:00            1            1  \n",
       "168 2018-02-19 00:25:00            1            1  \n",
       "234 2019-01-01 02:40:00            1            1  \n",
       "\n",
       "[3 rows x 39 columns]"
      ]
     },
     "execution_count": 69,
     "metadata": {},
     "output_type": "execute_result"
    }
   ],
   "source": [
    "crashes_holiday.head(3)"
   ]
  },
  {
   "cell_type": "code",
   "execution_count": null,
   "metadata": {},
   "outputs": [],
   "source": []
  },
  {
   "cell_type": "code",
   "execution_count": 70,
   "metadata": {
    "scrolled": true
   },
   "outputs": [
    {
     "data": {
      "text/plain": [
       "16588"
      ]
     },
     "execution_count": 70,
     "metadata": {},
     "output_type": "execute_result"
    }
   ],
   "source": [
    "crashes.isna().sum().sum()"
   ]
  },
  {
   "cell_type": "code",
   "execution_count": 71,
   "metadata": {},
   "outputs": [],
   "source": [
    "crashes.dropna(inplace=True)"
   ]
  },
  {
   "cell_type": "code",
   "execution_count": 72,
   "metadata": {
    "scrolled": true
   },
   "outputs": [
    {
     "data": {
      "text/plain": [
       "477"
      ]
     },
     "execution_count": 72,
     "metadata": {},
     "output_type": "execute_result"
    }
   ],
   "source": [
    "crashes_holiday.isna().sum().sum()"
   ]
  },
  {
   "cell_type": "code",
   "execution_count": 73,
   "metadata": {
    "scrolled": true
   },
   "outputs": [
    {
     "name": "stderr",
     "output_type": "stream",
     "text": [
      "<ipython-input-73-2ec4761478ad>:1: SettingWithCopyWarning: \n",
      "A value is trying to be set on a copy of a slice from a DataFrame\n",
      "\n",
      "See the caveats in the documentation: https://pandas.pydata.org/pandas-docs/stable/user_guide/indexing.html#returning-a-view-versus-a-copy\n",
      "  crashes_holiday.dropna(inplace=True)\n"
     ]
    }
   ],
   "source": [
    "crashes_holiday.dropna(inplace=True)"
   ]
  },
  {
   "cell_type": "markdown",
   "metadata": {},
   "source": [
    "### DateTime :\n"
   ]
  },
  {
   "cell_type": "code",
   "execution_count": 74,
   "metadata": {},
   "outputs": [],
   "source": [
    "test = pd.tseries.holiday.USFederalHolidayCalendar().holidays(start='2012', end='2022', return_name=True)"
   ]
  },
  {
   "cell_type": "code",
   "execution_count": 75,
   "metadata": {
    "scrolled": false
   },
   "outputs": [
    {
     "data": {
      "text/plain": [
       "DatetimeIndex(['2012-01-02', '2012-01-16', '2012-02-20', '2012-05-28',\n",
       "               '2012-07-04', '2012-09-03', '2012-10-08', '2012-11-12',\n",
       "               '2012-11-22', '2012-12-25',\n",
       "               ...\n",
       "               '2021-01-18', '2021-02-15', '2021-05-31', '2021-07-05',\n",
       "               '2021-09-06', '2021-10-11', '2021-11-11', '2021-11-25',\n",
       "               '2021-12-24', '2021-12-31'],\n",
       "              dtype='datetime64[ns]', length=101, freq=None)"
      ]
     },
     "execution_count": 75,
     "metadata": {},
     "output_type": "execute_result"
    }
   ],
   "source": [
    "test.keys()"
   ]
  },
  {
   "cell_type": "code",
   "execution_count": 76,
   "metadata": {
    "scrolled": false
   },
   "outputs": [
    {
     "data": {
      "text/plain": [
       "datetime.date(2012, 1, 2)"
      ]
     },
     "execution_count": 76,
     "metadata": {},
     "output_type": "execute_result"
    }
   ],
   "source": [
    "test.keys()[0].date()"
   ]
  },
  {
   "cell_type": "code",
   "execution_count": 77,
   "metadata": {},
   "outputs": [],
   "source": [
    "aidento = []\n",
    "for x in test:\n",
    "    aidento.append(x)"
   ]
  },
  {
   "cell_type": "code",
   "execution_count": 78,
   "metadata": {},
   "outputs": [],
   "source": [
    "aifora = []\n",
    "for x in test.keys():\n",
    "    aifora.append(x.date())"
   ]
  },
  {
   "cell_type": "code",
   "execution_count": 79,
   "metadata": {},
   "outputs": [],
   "source": [
    "dicionarioinutil = dict(zip(aifora, aidento))"
   ]
  },
  {
   "cell_type": "code",
   "execution_count": 80,
   "metadata": {},
   "outputs": [],
   "source": [
    "dates_holidays = pd.DataFrame.from_dict(dicionarioinutil, orient='index')"
   ]
  },
  {
   "cell_type": "code",
   "execution_count": 81,
   "metadata": {
    "scrolled": false
   },
   "outputs": [
    {
     "data": {
      "text/html": [
       "<div>\n",
       "<style scoped>\n",
       "    .dataframe tbody tr th:only-of-type {\n",
       "        vertical-align: middle;\n",
       "    }\n",
       "\n",
       "    .dataframe tbody tr th {\n",
       "        vertical-align: top;\n",
       "    }\n",
       "\n",
       "    .dataframe thead th {\n",
       "        text-align: right;\n",
       "    }\n",
       "</style>\n",
       "<table border=\"1\" class=\"dataframe\">\n",
       "  <thead>\n",
       "    <tr style=\"text-align: right;\">\n",
       "      <th></th>\n",
       "      <th>0</th>\n",
       "    </tr>\n",
       "  </thead>\n",
       "  <tbody>\n",
       "    <tr>\n",
       "      <th>2012-01-02</th>\n",
       "      <td>New Years Day</td>\n",
       "    </tr>\n",
       "    <tr>\n",
       "      <th>2012-01-16</th>\n",
       "      <td>Martin Luther King Jr. Day</td>\n",
       "    </tr>\n",
       "    <tr>\n",
       "      <th>2012-02-20</th>\n",
       "      <td>Presidents Day</td>\n",
       "    </tr>\n",
       "    <tr>\n",
       "      <th>2012-05-28</th>\n",
       "      <td>Memorial Day</td>\n",
       "    </tr>\n",
       "    <tr>\n",
       "      <th>2012-07-04</th>\n",
       "      <td>July 4th</td>\n",
       "    </tr>\n",
       "    <tr>\n",
       "      <th>...</th>\n",
       "      <td>...</td>\n",
       "    </tr>\n",
       "    <tr>\n",
       "      <th>2021-10-11</th>\n",
       "      <td>Columbus Day</td>\n",
       "    </tr>\n",
       "    <tr>\n",
       "      <th>2021-11-11</th>\n",
       "      <td>Veterans Day</td>\n",
       "    </tr>\n",
       "    <tr>\n",
       "      <th>2021-11-25</th>\n",
       "      <td>Thanksgiving</td>\n",
       "    </tr>\n",
       "    <tr>\n",
       "      <th>2021-12-24</th>\n",
       "      <td>Christmas</td>\n",
       "    </tr>\n",
       "    <tr>\n",
       "      <th>2021-12-31</th>\n",
       "      <td>New Years Day</td>\n",
       "    </tr>\n",
       "  </tbody>\n",
       "</table>\n",
       "<p>101 rows × 1 columns</p>\n",
       "</div>"
      ],
      "text/plain": [
       "                                     0\n",
       "2012-01-02               New Years Day\n",
       "2012-01-16  Martin Luther King Jr. Day\n",
       "2012-02-20              Presidents Day\n",
       "2012-05-28                Memorial Day\n",
       "2012-07-04                    July 4th\n",
       "...                                ...\n",
       "2021-10-11                Columbus Day\n",
       "2021-11-11                Veterans Day\n",
       "2021-11-25                Thanksgiving\n",
       "2021-12-24                   Christmas\n",
       "2021-12-31               New Years Day\n",
       "\n",
       "[101 rows x 1 columns]"
      ]
     },
     "execution_count": 81,
     "metadata": {},
     "output_type": "execute_result"
    }
   ],
   "source": [
    "dates_holidays crashes_holiday['DATE_REAL']"
   ]
  },
  {
   "cell_type": "code",
   "execution_count": 82,
   "metadata": {},
   "outputs": [
    {
     "data": {
      "text/plain": [
       "0        2019-07-10 17:56:00\n",
       "1        2017-06-30 16:00:00\n",
       "2        2020-07-10 10:25:00\n",
       "3        2020-07-11 01:00:00\n",
       "5        2019-03-21 22:50:00\n",
       "                 ...        \n",
       "484017   2021-01-19 07:30:00\n",
       "484018   2021-01-20 17:50:00\n",
       "484019   2021-01-20 16:15:00\n",
       "484020   2021-01-20 15:20:00\n",
       "484021   2021-01-20 16:30:00\n",
       "Name: DATE_NOHOUR, Length: 452176, dtype: datetime64[ns]"
      ]
     },
     "execution_count": 82,
     "metadata": {},
     "output_type": "execute_result"
    }
   ],
   "source": [
    "crashes['DATE_NOHOUR']"
   ]
  },
  {
   "cell_type": "code",
   "execution_count": 83,
   "metadata": {
    "scrolled": false
   },
   "outputs": [
    {
     "name": "stderr",
     "output_type": "stream",
     "text": [
      "<ipython-input-83-9c13a83f2a64>:1: SettingWithCopyWarning: \n",
      "A value is trying to be set on a copy of a slice from a DataFrame.\n",
      "Try using .loc[row_indexer,col_indexer] = value instead\n",
      "\n",
      "See the caveats in the documentation: https://pandas.pydata.org/pandas-docs/stable/user_guide/indexing.html#returning-a-view-versus-a-copy\n",
      "  crashes_holiday['DATE_REAL'] = crashes_holiday['DATE_ACCIDENT'].apply(lambda x : x.date())\n"
     ]
    }
   ],
   "source": [
    "crashes_holiday['DATE_REAL'] = crashes_holiday['DATE_ACCIDENT'].apply(lambda x : x.date())"
   ]
  },
  {
   "cell_type": "markdown",
   "metadata": {},
   "source": [
    "### **To Delete?**\n",
    "- 'FIRST_CRASH_TYPE'\n",
    "- 'INJURIES_INCAPACITATING' \n",
    "- 'INJURIES_NON_INCAPACITATING'\n",
    "- 'INJURIES_REPORTED_NOT_EVIDENT'\n",
    "- 'INJURIES_TOTAL'\n",
    "- 'MOST_SEVERE_INJURY'\n",
    "- 'NUM_UNITS'\n",
    "- 'BEAT_OF_OCCURRENCE'\n",
    "- 'DATE_POLICE_NOTIFIED'\n",
    "- 'PRIM_CONTRIBUTORY_CAUSE'\n",
    "- 'SEC_CONTRIBUTORY_CAUSE'"
   ]
  },
  {
   "cell_type": "markdown",
   "metadata": {},
   "source": [
    "# People Data Set"
   ]
  },
  {
   "cell_type": "code",
   "execution_count": 84,
   "metadata": {
    "scrolled": false
   },
   "outputs": [
    {
     "data": {
      "text/plain": [
       "(1069147, 30)"
      ]
     },
     "execution_count": 84,
     "metadata": {},
     "output_type": "execute_result"
    }
   ],
   "source": [
    "people.shape"
   ]
  },
  {
   "cell_type": "code",
   "execution_count": 85,
   "metadata": {
    "scrolled": false
   },
   "outputs": [
    {
     "name": "stdout",
     "output_type": "stream",
     "text": [
      "[1, 6, 45, 45, 43, 51, 11, 335, 49, 364, 3, 108, 72, 61, 19, 7, 5, 5, 187, 175, 96, 20, 14, 12, 23, 4, 8, 4, 30, 2]\n",
      "\n",
      "['PERSON_ID', 'PERSON_TYPE', 'CRASH_RECORD_ID', 'RD_NO', 'VEHICLE_ID', 'CRASH_DATE', 'SEAT_NO', 'CITY', 'STATE', 'ZIPCODE', 'SEX', 'AGE', 'DRIVERS_LICENSE_STATE', 'DRIVERS_LICENSE_CLASS', 'SAFETY_EQUIPMENT', 'AIRBAG_DEPLOYED', 'EJECTION', 'INJURY_CLASSIFICATION', 'HOSPITAL', 'EMS_AGENCY', 'EMS_RUN_NO', 'DRIVER_ACTION', 'DRIVER_VISION', 'PHYSICAL_CONDITION', 'PEDPEDAL_ACTION', 'PEDPEDAL_VISIBILITY', 'PEDPEDAL_LOCATION', 'BAC_RESULT', 'BAC_RESULT VALUE', 'CELL_PHONE_USE']\n"
     ]
    }
   ],
   "source": [
    "howmanyunique(people)"
   ]
  },
  {
   "cell_type": "code",
   "execution_count": 86,
   "metadata": {},
   "outputs": [
    {
     "name": "stdout",
     "output_type": "stream",
     "text": [
      "0\n"
     ]
    }
   ],
   "source": [
    "howmanyduplicates(people)"
   ]
  },
  {
   "cell_type": "code",
   "execution_count": 87,
   "metadata": {},
   "outputs": [
    {
     "data": {
      "text/plain": [
       "(452176, 39)"
      ]
     },
     "execution_count": 87,
     "metadata": {},
     "output_type": "execute_result"
    }
   ],
   "source": [
    "crashes.shape"
   ]
  },
  {
   "cell_type": "code",
   "execution_count": 88,
   "metadata": {},
   "outputs": [
    {
     "data": {
      "text/html": [
       "<div>\n",
       "<style scoped>\n",
       "    .dataframe tbody tr th:only-of-type {\n",
       "        vertical-align: middle;\n",
       "    }\n",
       "\n",
       "    .dataframe tbody tr th {\n",
       "        vertical-align: top;\n",
       "    }\n",
       "\n",
       "    .dataframe thead th {\n",
       "        text-align: right;\n",
       "    }\n",
       "</style>\n",
       "<table border=\"1\" class=\"dataframe\">\n",
       "  <thead>\n",
       "    <tr style=\"text-align: right;\">\n",
       "      <th></th>\n",
       "      <th>CRASH_RECORD_ID</th>\n",
       "      <th>POSTED_SPEED_LIMIT</th>\n",
       "      <th>TRAFFIC_CONTROL_DEVICE</th>\n",
       "      <th>DEVICE_CONDITION</th>\n",
       "      <th>WEATHER_CONDITION</th>\n",
       "      <th>LIGHTING_CONDITION</th>\n",
       "      <th>FIRST_CRASH_TYPE</th>\n",
       "      <th>TRAFFICWAY_TYPE</th>\n",
       "      <th>ALIGNMENT</th>\n",
       "      <th>ROADWAY_SURFACE_COND</th>\n",
       "      <th>...</th>\n",
       "      <th>INJURIES_UNKNOWN</th>\n",
       "      <th>CRASH_HOUR</th>\n",
       "      <th>CRASH_DAY_OF_WEEK</th>\n",
       "      <th>CRASH_MONTH</th>\n",
       "      <th>LATITUDE</th>\n",
       "      <th>LONGITUDE</th>\n",
       "      <th>DATE_ACCIDENT</th>\n",
       "      <th>DATE_NOHOUR</th>\n",
       "      <th>IS_A_HOLIDAY</th>\n",
       "      <th>HOLIDAY_NAME</th>\n",
       "    </tr>\n",
       "  </thead>\n",
       "  <tbody>\n",
       "    <tr>\n",
       "      <th>0</th>\n",
       "      <td>4fd0a3e0897b3335b94cd8d5b2d2b350eb691add56c62d...</td>\n",
       "      <td>6</td>\n",
       "      <td>NO CONTROLS</td>\n",
       "      <td>NO CONTROLS</td>\n",
       "      <td>CLEAR</td>\n",
       "      <td>DAYLIGHT</td>\n",
       "      <td>TURNING</td>\n",
       "      <td>ONE-WAY</td>\n",
       "      <td>STRAIGHT AND LEVEL</td>\n",
       "      <td>DRY</td>\n",
       "      <td>...</td>\n",
       "      <td>0.0</td>\n",
       "      <td>2</td>\n",
       "      <td>4</td>\n",
       "      <td>7</td>\n",
       "      <td>41.919664</td>\n",
       "      <td>-87.773288</td>\n",
       "      <td>2019-07-10 17:56:00</td>\n",
       "      <td>2019-07-10 17:56:00</td>\n",
       "      <td>0</td>\n",
       "      <td>0</td>\n",
       "    </tr>\n",
       "    <tr>\n",
       "      <th>1</th>\n",
       "      <td>009e9e67203442370272e1a13d6ee51a4155dac65e583d...</td>\n",
       "      <td>6</td>\n",
       "      <td>STOP SIGN/FLASHER</td>\n",
       "      <td>FUNCTIONING PROPERLY</td>\n",
       "      <td>CLEAR</td>\n",
       "      <td>DAYLIGHT</td>\n",
       "      <td>TURNING</td>\n",
       "      <td>NOT DIVIDED</td>\n",
       "      <td>STRAIGHT AND LEVEL</td>\n",
       "      <td>DRY</td>\n",
       "      <td>...</td>\n",
       "      <td>0.0</td>\n",
       "      <td>2</td>\n",
       "      <td>6</td>\n",
       "      <td>6</td>\n",
       "      <td>41.741804</td>\n",
       "      <td>-87.740954</td>\n",
       "      <td>2017-06-30 16:00:00</td>\n",
       "      <td>2017-06-30 16:00:00</td>\n",
       "      <td>0</td>\n",
       "      <td>0</td>\n",
       "    </tr>\n",
       "    <tr>\n",
       "      <th>2</th>\n",
       "      <td>ee9283eff3a55ac50ee58f3d9528ce1d689b1c4180b4c4...</td>\n",
       "      <td>5</td>\n",
       "      <td>TRAFFIC SIGNAL</td>\n",
       "      <td>FUNCTIONING PROPERLY</td>\n",
       "      <td>CLEAR</td>\n",
       "      <td>DAYLIGHT</td>\n",
       "      <td>REAR END</td>\n",
       "      <td>FOUR WAY</td>\n",
       "      <td>STRAIGHT AND LEVEL</td>\n",
       "      <td>DRY</td>\n",
       "      <td>...</td>\n",
       "      <td>0.0</td>\n",
       "      <td>1</td>\n",
       "      <td>6</td>\n",
       "      <td>7</td>\n",
       "      <td>41.773456</td>\n",
       "      <td>-87.585022</td>\n",
       "      <td>2020-07-10 10:25:00</td>\n",
       "      <td>2020-07-10 10:25:00</td>\n",
       "      <td>0</td>\n",
       "      <td>0</td>\n",
       "    </tr>\n",
       "    <tr>\n",
       "      <th>3</th>\n",
       "      <td>f8960f698e870ebdc60b521b2a141a5395556bc3704191...</td>\n",
       "      <td>5</td>\n",
       "      <td>NO CONTROLS</td>\n",
       "      <td>NO CONTROLS</td>\n",
       "      <td>CLEAR</td>\n",
       "      <td>DARKNESS</td>\n",
       "      <td>PARKED MOTOR VEHICLE</td>\n",
       "      <td>DIVIDED - W/MEDIAN (NOT RAISED)</td>\n",
       "      <td>STRAIGHT AND LEVEL</td>\n",
       "      <td>DRY</td>\n",
       "      <td>...</td>\n",
       "      <td>0.0</td>\n",
       "      <td>0</td>\n",
       "      <td>7</td>\n",
       "      <td>7</td>\n",
       "      <td>41.802119</td>\n",
       "      <td>-87.622115</td>\n",
       "      <td>2020-07-11 01:00:00</td>\n",
       "      <td>2020-07-11 01:00:00</td>\n",
       "      <td>0</td>\n",
       "      <td>0</td>\n",
       "    </tr>\n",
       "    <tr>\n",
       "      <th>5</th>\n",
       "      <td>00e47f189660cd8ba1e85fc63061bf1d8465184393f134...</td>\n",
       "      <td>5</td>\n",
       "      <td>TRAFFIC SIGNAL</td>\n",
       "      <td>FUNCTIONING PROPERLY</td>\n",
       "      <td>CLEAR</td>\n",
       "      <td>DARKNESS, LIGHTED ROAD</td>\n",
       "      <td>TURNING</td>\n",
       "      <td>NOT DIVIDED</td>\n",
       "      <td>STRAIGHT AND LEVEL</td>\n",
       "      <td>DRY</td>\n",
       "      <td>...</td>\n",
       "      <td>0.0</td>\n",
       "      <td>3</td>\n",
       "      <td>5</td>\n",
       "      <td>3</td>\n",
       "      <td>41.741804</td>\n",
       "      <td>-87.740954</td>\n",
       "      <td>2019-03-21 22:50:00</td>\n",
       "      <td>2019-03-21 22:50:00</td>\n",
       "      <td>0</td>\n",
       "      <td>0</td>\n",
       "    </tr>\n",
       "  </tbody>\n",
       "</table>\n",
       "<p>5 rows × 39 columns</p>\n",
       "</div>"
      ],
      "text/plain": [
       "                                     CRASH_RECORD_ID POSTED_SPEED_LIMIT  \\\n",
       "0  4fd0a3e0897b3335b94cd8d5b2d2b350eb691add56c62d...                  6   \n",
       "1  009e9e67203442370272e1a13d6ee51a4155dac65e583d...                  6   \n",
       "2  ee9283eff3a55ac50ee58f3d9528ce1d689b1c4180b4c4...                  5   \n",
       "3  f8960f698e870ebdc60b521b2a141a5395556bc3704191...                  5   \n",
       "5  00e47f189660cd8ba1e85fc63061bf1d8465184393f134...                  5   \n",
       "\n",
       "  TRAFFIC_CONTROL_DEVICE      DEVICE_CONDITION WEATHER_CONDITION  \\\n",
       "0            NO CONTROLS           NO CONTROLS             CLEAR   \n",
       "1      STOP SIGN/FLASHER  FUNCTIONING PROPERLY             CLEAR   \n",
       "2         TRAFFIC SIGNAL  FUNCTIONING PROPERLY             CLEAR   \n",
       "3            NO CONTROLS           NO CONTROLS             CLEAR   \n",
       "5         TRAFFIC SIGNAL  FUNCTIONING PROPERLY             CLEAR   \n",
       "\n",
       "       LIGHTING_CONDITION      FIRST_CRASH_TYPE  \\\n",
       "0                DAYLIGHT               TURNING   \n",
       "1                DAYLIGHT               TURNING   \n",
       "2                DAYLIGHT              REAR END   \n",
       "3                DARKNESS  PARKED MOTOR VEHICLE   \n",
       "5  DARKNESS, LIGHTED ROAD               TURNING   \n",
       "\n",
       "                   TRAFFICWAY_TYPE           ALIGNMENT ROADWAY_SURFACE_COND  \\\n",
       "0                          ONE-WAY  STRAIGHT AND LEVEL                  DRY   \n",
       "1                      NOT DIVIDED  STRAIGHT AND LEVEL                  DRY   \n",
       "2                         FOUR WAY  STRAIGHT AND LEVEL                  DRY   \n",
       "3  DIVIDED - W/MEDIAN (NOT RAISED)  STRAIGHT AND LEVEL                  DRY   \n",
       "5                      NOT DIVIDED  STRAIGHT AND LEVEL                  DRY   \n",
       "\n",
       "   ... INJURIES_UNKNOWN CRASH_HOUR CRASH_DAY_OF_WEEK CRASH_MONTH   LATITUDE  \\\n",
       "0  ...              0.0          2                 4           7  41.919664   \n",
       "1  ...              0.0          2                 6           6  41.741804   \n",
       "2  ...              0.0          1                 6           7  41.773456   \n",
       "3  ...              0.0          0                 7           7  41.802119   \n",
       "5  ...              0.0          3                 5           3  41.741804   \n",
       "\n",
       "   LONGITUDE       DATE_ACCIDENT         DATE_NOHOUR IS_A_HOLIDAY HOLIDAY_NAME  \n",
       "0 -87.773288 2019-07-10 17:56:00 2019-07-10 17:56:00            0            0  \n",
       "1 -87.740954 2017-06-30 16:00:00 2017-06-30 16:00:00            0            0  \n",
       "2 -87.585022 2020-07-10 10:25:00 2020-07-10 10:25:00            0            0  \n",
       "3 -87.622115 2020-07-11 01:00:00 2020-07-11 01:00:00            0            0  \n",
       "5 -87.740954 2019-03-21 22:50:00 2019-03-21 22:50:00            0            0  \n",
       "\n",
       "[5 rows x 39 columns]"
      ]
     },
     "execution_count": 88,
     "metadata": {},
     "output_type": "execute_result"
    }
   ],
   "source": [
    "crashes.head()"
   ]
  },
  {
   "cell_type": "code",
   "execution_count": 89,
   "metadata": {
    "scrolled": true
   },
   "outputs": [
    {
     "name": "stdout",
     "output_type": "stream",
     "text": [
      "Row: RD_NO : is made 0.007% of NaN Values.\n",
      "Row: VEHICLE_ID : is made 0.02% of NaN Values.\n",
      "Row: SEAT_NO : is made 0.796% of NaN Values.\n",
      "Row: CITY : is made 0.261% of NaN Values.\n",
      "Row: STATE : is made 0.253% of NaN Values.\n",
      "Row: ZIPCODE : is made 0.325% of NaN Values.\n",
      "Row: SEX : is made 0.015% of NaN Values.\n",
      "Row: AGE : is made 0.285% of NaN Values.\n",
      "Row: DRIVERS_LICENSE_STATE : is made 0.407% of NaN Values.\n",
      "Row: DRIVERS_LICENSE_CLASS : is made 0.485% of NaN Values.\n",
      "Row: SAFETY_EQUIPMENT : is made 0.003% of NaN Values.\n",
      "Row: AIRBAG_DEPLOYED : is made 0.019% of NaN Values.\n",
      "Row: EJECTION : is made 0.012% of NaN Values.\n",
      "Row: INJURY_CLASSIFICATION : is made 0.001% of NaN Values.\n",
      "Row: HOSPITAL : is made 0.818% of NaN Values.\n",
      "Row: EMS_AGENCY : is made 0.884% of NaN Values.\n",
      "Row: EMS_RUN_NO : is made 0.981% of NaN Values.\n",
      "Row: DRIVER_ACTION : is made 0.206% of NaN Values.\n",
      "Row: DRIVER_VISION : is made 0.207% of NaN Values.\n",
      "Row: PHYSICAL_CONDITION : is made 0.206% of NaN Values.\n",
      "Row: PEDPEDAL_ACTION : is made 0.981% of NaN Values.\n",
      "Row: PEDPEDAL_VISIBILITY : is made 0.981% of NaN Values.\n",
      "Row: PEDPEDAL_LOCATION : is made 0.981% of NaN Values.\n",
      "Row: BAC_RESULT : is made 0.205% of NaN Values.\n",
      "Row: BAC_RESULT VALUE : is made 0.999% of NaN Values.\n",
      "Row: CELL_PHONE_USE : is made 0.999% of NaN Values.\n",
      "['SEAT_NO', 'ZIPCODE', 'DRIVERS_LICENSE_STATE', 'DRIVERS_LICENSE_CLASS', 'HOSPITAL', 'EMS_AGENCY', 'EMS_RUN_NO', 'PEDPEDAL_ACTION', 'PEDPEDAL_VISIBILITY', 'PEDPEDAL_LOCATION', 'BAC_RESULT VALUE', 'CELL_PHONE_USE']\n"
     ]
    }
   ],
   "source": [
    "rows_w_nan(people)"
   ]
  },
  {
   "cell_type": "code",
   "execution_count": 90,
   "metadata": {},
   "outputs": [],
   "source": [
    "people = people.drop(columns=['CELL_PHONE_USE', 'BAC_RESULT VALUE', 'PEDPEDAL_LOCATION', 'PEDPEDAL_VISIBILITY',\n",
    "                              'EMS_RUN_NO', 'EMS_AGENCY', 'HOSPITAL', 'DRIVERS_LICENSE_CLASS', \n",
    "                              'DRIVERS_LICENSE_STATE', 'ZIPCODE', 'SEAT_NO', 'PEDPEDAL_ACTION'])"
   ]
  },
  {
   "cell_type": "code",
   "execution_count": 91,
   "metadata": {},
   "outputs": [],
   "source": [
    "people.dropna(inplace=True)"
   ]
  },
  {
   "cell_type": "code",
   "execution_count": 92,
   "metadata": {},
   "outputs": [
    {
     "data": {
      "text/plain": [
       "PERSON_ID                0\n",
       "PERSON_TYPE              0\n",
       "CRASH_RECORD_ID          0\n",
       "RD_NO                    0\n",
       "VEHICLE_ID               0\n",
       "CRASH_DATE               0\n",
       "CITY                     0\n",
       "STATE                    0\n",
       "SEX                      0\n",
       "AGE                      0\n",
       "SAFETY_EQUIPMENT         0\n",
       "AIRBAG_DEPLOYED          0\n",
       "EJECTION                 0\n",
       "INJURY_CLASSIFICATION    0\n",
       "DRIVER_ACTION            0\n",
       "DRIVER_VISION            0\n",
       "PHYSICAL_CONDITION       0\n",
       "BAC_RESULT               0\n",
       "dtype: int64"
      ]
     },
     "execution_count": 92,
     "metadata": {},
     "output_type": "execute_result"
    }
   ],
   "source": [
    "people.isna().sum()"
   ]
  },
  {
   "cell_type": "code",
   "execution_count": 93,
   "metadata": {
    "scrolled": true
   },
   "outputs": [
    {
     "data": {
      "text/plain": [
       "NO INDICATION OF INJURY     540485\n",
       "NONINCAPACITATING INJURY     22849\n",
       "REPORTED, NOT EVIDENT        15391\n",
       "INCAPACITATING INJURY         4186\n",
       "FATAL                          237\n",
       "Name: INJURY_CLASSIFICATION, dtype: int64"
      ]
     },
     "execution_count": 93,
     "metadata": {},
     "output_type": "execute_result"
    }
   ],
   "source": [
    "people.INJURY_CLASSIFICATION.value_counts()"
   ]
  },
  {
   "cell_type": "code",
   "execution_count": 94,
   "metadata": {},
   "outputs": [
    {
     "data": {
      "text/plain": [
       "DID NOT DEPLOY                            425305\n",
       "NOT APPLICABLE                             91019\n",
       "DEPLOYMENT UNKNOWN                         26896\n",
       "DEPLOYED, FRONT                            22228\n",
       "DEPLOYED, COMBINATION                      12206\n",
       "DEPLOYED, SIDE                              5208\n",
       "DEPLOYED OTHER (KNEE, AIR, BELT, ETC.)       286\n",
       "Name: AIRBAG_DEPLOYED, dtype: int64"
      ]
     },
     "execution_count": 94,
     "metadata": {},
     "output_type": "execute_result"
    }
   ],
   "source": [
    "people.AIRBAG_DEPLOYED.value_counts()"
   ]
  },
  {
   "cell_type": "code",
   "execution_count": 95,
   "metadata": {},
   "outputs": [
    {
     "data": {
      "text/plain": [
       "NONE                  572084\n",
       "UNKNOWN                 8366\n",
       "TOTALLY EJECTED         1786\n",
       "PARTIALLY EJECTED        546\n",
       "TRAPPED/EXTRICATED       366\n",
       "Name: EJECTION, dtype: int64"
      ]
     },
     "execution_count": 95,
     "metadata": {},
     "output_type": "execute_result"
    }
   ],
   "source": [
    "# Useless?\n",
    "people.EJECTION.value_counts()"
   ]
  },
  {
   "cell_type": "code",
   "execution_count": 96,
   "metadata": {
    "scrolled": true
   },
   "outputs": [
    {
     "data": {
      "text/plain": [
       "NORMAL                          497653\n",
       "UNKNOWN                          73147\n",
       "IMPAIRED - ALCOHOL                3471\n",
       "REMOVED BY EMS                    2036\n",
       "FATIGUED/ASLEEP                   2023\n",
       "OTHER                             1549\n",
       "EMOTIONAL                         1481\n",
       "ILLNESS/FAINTED                    709\n",
       "HAD BEEN DRINKING                  439\n",
       "IMPAIRED - DRUGS                   399\n",
       "IMPAIRED - ALCOHOL AND DRUGS       148\n",
       "MEDICATED                           93\n",
       "Name: PHYSICAL_CONDITION, dtype: int64"
      ]
     },
     "execution_count": 96,
     "metadata": {},
     "output_type": "execute_result"
    }
   ],
   "source": [
    "people.PHYSICAL_CONDITION.value_counts()"
   ]
  },
  {
   "cell_type": "code",
   "execution_count": 97,
   "metadata": {},
   "outputs": [
    {
     "data": {
      "text/plain": [
       "DRIVER                 583110\n",
       "NON-CONTACT VEHICLE        38\n",
       "Name: PERSON_TYPE, dtype: int64"
      ]
     },
     "execution_count": 97,
     "metadata": {},
     "output_type": "execute_result"
    }
   ],
   "source": [
    "people.PERSON_TYPE.value_counts()"
   ]
  },
  {
   "cell_type": "markdown",
   "metadata": {},
   "source": [
    "# Vehicles Data Set"
   ]
  },
  {
   "cell_type": "markdown",
   "metadata": {},
   "source": [
    "**SEAT_NO**\n",
    "- Code for seating position of motor vehicle occupant: 1= driver, 2= center front, 3 = front passenger, 4 = second row left, 5 = second row center, 6 = second row right, 7 = enclosed passengers, 8 = exposed passengers, 9= unknown position, 10 = third row left, 11 = third row center, 12 = third row right"
   ]
  },
  {
   "cell_type": "code",
   "execution_count": 98,
   "metadata": {},
   "outputs": [
    {
     "data": {
      "text/plain": [
       "(988131, 72)"
      ]
     },
     "execution_count": 98,
     "metadata": {},
     "output_type": "execute_result"
    }
   ],
   "source": [
    "vehicles.shape"
   ]
  },
  {
   "cell_type": "code",
   "execution_count": 99,
   "metadata": {
    "scrolled": false
   },
   "outputs": [
    {
     "name": "stdout",
     "output_type": "stream",
     "text": [
      "[1, 17, 17, 40, 17, 9, 22, 1, 2, 149, 540, 51, 68, 17, 21, 25, 9, 28, 2, 2, 25, 2, 130, 119, 2, 2, 2, 2, 2, 2, 2, 2, 2, 2, 2, 2, 2, 2, 14, 1, 33, 11, 11, 4, 40, 37, 39, 59, 2, 3, 8, 3, 3, 1, 3, 1, 3, 3, 9, 2, 3, 3, 26, 4, 39, 11, 8, 9, 6, 2, 2, 7]\n",
      "\n",
      "['CRASH_UNIT_ID', 'CRASH_RECORD_ID', 'RD_NO', 'CRASH_DATE', 'UNIT_NO', 'UNIT_TYPE', 'NUM_PASSENGERS', 'VEHICLE_ID', 'CMRC_VEH_I', 'MAKE', 'MODEL', 'LIC_PLATE_STATE', 'VEHICLE_YEAR', 'VEHICLE_DEFECT', 'VEHICLE_TYPE', 'VEHICLE_USE', 'TRAVEL_DIRECTION', 'MANEUVER', 'TOWED_I', 'FIRE_I', 'OCCUPANT_CNT', 'EXCEED_SPEED_LIMIT_I', 'TOWED_BY', 'TOWED_TO', 'AREA_00_I', 'AREA_01_I', 'AREA_02_I', 'AREA_03_I', 'AREA_04_I', 'AREA_05_I', 'AREA_06_I', 'AREA_07_I', 'AREA_08_I', 'AREA_09_I', 'AREA_10_I', 'AREA_11_I', 'AREA_12_I', 'AREA_99_I', 'FIRST_CONTACT_POINT', 'CMV_ID', 'USDOT_NO', 'CCMC_NO', 'ILCC_NO', 'COMMERCIAL_SRC', 'GVWR', 'CARRIER_NAME', 'CARRIER_STATE', 'CARRIER_CITY', 'HAZMAT_PLACARDS_I', 'HAZMAT_NAME', 'UN_NO', 'HAZMAT_PRESENT_I', 'HAZMAT_REPORT_I', 'HAZMAT_REPORT_NO', 'MCS_REPORT_I', 'MCS_REPORT_NO', 'HAZMAT_VIO_CAUSE_CRASH_I', 'MCS_VIO_CAUSE_CRASH_I', 'IDOT_PERMIT_NO', 'WIDE_LOAD_I', 'TRAILER1_WIDTH', 'TRAILER2_WIDTH', 'TRAILER1_LENGTH', 'TRAILER2_LENGTH', 'TOTAL_VEHICLE_LENGTH', 'AXLE_CNT', 'VEHICLE_CONFIG', 'CARGO_BODY_TYPE', 'LOAD_TYPE', 'HAZMAT_OUT_OF_SERVICE_I', 'MCS_OUT_OF_SERVICE_I', 'HAZMAT_CLASS']\n"
     ]
    }
   ],
   "source": [
    "howmanyunique(vehicles)"
   ]
  },
  {
   "cell_type": "code",
   "execution_count": 100,
   "metadata": {
    "scrolled": true
   },
   "outputs": [
    {
     "name": "stdout",
     "output_type": "stream",
     "text": [
      "0\n"
     ]
    }
   ],
   "source": [
    "howmanyduplicates(vehicles)"
   ]
  },
  {
   "cell_type": "code",
   "execution_count": 101,
   "metadata": {
    "scrolled": false
   },
   "outputs": [
    {
     "name": "stdout",
     "output_type": "stream",
     "text": [
      "Row: RD_NO : is made 0.007% of NaN Values.\n",
      "Row: UNIT_TYPE : is made 0.002% of NaN Values.\n",
      "Row: NUM_PASSENGERS : is made 0.85% of NaN Values.\n",
      "Row: VEHICLE_ID : is made 0.023% of NaN Values.\n",
      "Row: CMRC_VEH_I : is made 0.981% of NaN Values.\n",
      "Row: MAKE : is made 0.023% of NaN Values.\n",
      "Row: MODEL : is made 0.023% of NaN Values.\n",
      "Row: LIC_PLATE_STATE : is made 0.106% of NaN Values.\n",
      "Row: VEHICLE_YEAR : is made 0.181% of NaN Values.\n",
      "Row: VEHICLE_DEFECT : is made 0.023% of NaN Values.\n",
      "Row: VEHICLE_TYPE : is made 0.023% of NaN Values.\n",
      "Row: VEHICLE_USE : is made 0.023% of NaN Values.\n",
      "Row: TRAVEL_DIRECTION : is made 0.023% of NaN Values.\n",
      "Row: MANEUVER : is made 0.023% of NaN Values.\n",
      "Row: TOWED_I : is made 0.887% of NaN Values.\n",
      "Row: FIRE_I : is made 0.999% of NaN Values.\n",
      "Row: OCCUPANT_CNT : is made 0.023% of NaN Values.\n",
      "Row: EXCEED_SPEED_LIMIT_I : is made 0.998% of NaN Values.\n",
      "Row: TOWED_BY : is made 0.918% of NaN Values.\n",
      "Row: TOWED_TO : is made 0.948% of NaN Values.\n",
      "Row: AREA_00_I : is made 0.961% of NaN Values.\n",
      "Row: AREA_01_I : is made 0.741% of NaN Values.\n",
      "Row: AREA_02_I : is made 0.829% of NaN Values.\n",
      "Row: AREA_03_I : is made 0.905% of NaN Values.\n",
      "Row: AREA_04_I : is made 0.9% of NaN Values.\n",
      "Row: AREA_05_I : is made 0.848% of NaN Values.\n",
      "Row: AREA_06_I : is made 0.85% of NaN Values.\n",
      "Row: AREA_07_I : is made 0.871% of NaN Values.\n",
      "Row: AREA_08_I : is made 0.831% of NaN Values.\n",
      "Row: AREA_09_I : is made 0.959% of NaN Values.\n",
      "Row: AREA_10_I : is made 0.941% of NaN Values.\n",
      "Row: AREA_11_I : is made 0.883% of NaN Values.\n",
      "Row: AREA_12_I : is made 0.884% of NaN Values.\n",
      "Row: AREA_99_I : is made 0.895% of NaN Values.\n",
      "Row: FIRST_CONTACT_POINT : is made 0.03% of NaN Values.\n",
      "Row: CMV_ID : is made 0.989% of NaN Values.\n",
      "Row: USDOT_NO : is made 0.994% of NaN Values.\n",
      "Row: CCMC_NO : is made 0.999% of NaN Values.\n",
      "Row: ILCC_NO : is made 0.999% of NaN Values.\n",
      "Row: COMMERCIAL_SRC : is made 0.992% of NaN Values.\n",
      "Row: GVWR : is made 0.994% of NaN Values.\n",
      "Row: CARRIER_NAME : is made 0.99% of NaN Values.\n",
      "Row: CARRIER_STATE : is made 0.99% of NaN Values.\n",
      "Row: CARRIER_CITY : is made 0.991% of NaN Values.\n",
      "Row: HAZMAT_PLACARDS_I : is made 1.0% of NaN Values.\n",
      "Row: HAZMAT_NAME : is made 1.0% of NaN Values.\n",
      "Row: UN_NO : is made 1.0% of NaN Values.\n",
      "Row: HAZMAT_PRESENT_I : is made 0.992% of NaN Values.\n",
      "Row: HAZMAT_REPORT_I : is made 0.992% of NaN Values.\n",
      "Row: HAZMAT_REPORT_NO : is made 1.0% of NaN Values.\n",
      "Row: MCS_REPORT_I : is made 0.992% of NaN Values.\n",
      "Row: MCS_REPORT_NO : is made 1.0% of NaN Values.\n",
      "Row: HAZMAT_VIO_CAUSE_CRASH_I : is made 0.992% of NaN Values.\n",
      "Row: MCS_VIO_CAUSE_CRASH_I : is made 0.992% of NaN Values.\n",
      "Row: IDOT_PERMIT_NO : is made 0.999% of NaN Values.\n",
      "Row: WIDE_LOAD_I : is made 1.0% of NaN Values.\n",
      "Row: TRAILER1_WIDTH : is made 0.998% of NaN Values.\n",
      "Row: TRAILER2_WIDTH : is made 1.0% of NaN Values.\n",
      "Row: TRAILER1_LENGTH : is made 0.998% of NaN Values.\n",
      "Row: TRAILER2_LENGTH : is made 1.0% of NaN Values.\n",
      "Row: TOTAL_VEHICLE_LENGTH : is made 0.998% of NaN Values.\n",
      "Row: AXLE_CNT : is made 0.997% of NaN Values.\n",
      "Row: VEHICLE_CONFIG : is made 0.991% of NaN Values.\n",
      "Row: CARGO_BODY_TYPE : is made 0.992% of NaN Values.\n",
      "Row: LOAD_TYPE : is made 0.992% of NaN Values.\n",
      "Row: HAZMAT_OUT_OF_SERVICE_I : is made 0.993% of NaN Values.\n",
      "Row: MCS_OUT_OF_SERVICE_I : is made 0.992% of NaN Values.\n",
      "Row: HAZMAT_CLASS : is made 0.999% of NaN Values.\n",
      "['NUM_PASSENGERS', 'CMRC_VEH_I', 'TOWED_I', 'FIRE_I', 'EXCEED_SPEED_LIMIT_I', 'TOWED_BY', 'TOWED_TO', 'AREA_00_I', 'AREA_01_I', 'AREA_02_I', 'AREA_03_I', 'AREA_04_I', 'AREA_05_I', 'AREA_06_I', 'AREA_07_I', 'AREA_08_I', 'AREA_09_I', 'AREA_10_I', 'AREA_11_I', 'AREA_12_I', 'AREA_99_I', 'CMV_ID', 'USDOT_NO', 'CCMC_NO', 'ILCC_NO', 'COMMERCIAL_SRC', 'GVWR', 'CARRIER_NAME', 'CARRIER_STATE', 'CARRIER_CITY', 'HAZMAT_PLACARDS_I', 'HAZMAT_NAME', 'UN_NO', 'HAZMAT_PRESENT_I', 'HAZMAT_REPORT_I', 'HAZMAT_REPORT_NO', 'MCS_REPORT_I', 'MCS_REPORT_NO', 'HAZMAT_VIO_CAUSE_CRASH_I', 'MCS_VIO_CAUSE_CRASH_I', 'IDOT_PERMIT_NO', 'WIDE_LOAD_I', 'TRAILER1_WIDTH', 'TRAILER2_WIDTH', 'TRAILER1_LENGTH', 'TRAILER2_LENGTH', 'TOTAL_VEHICLE_LENGTH', 'AXLE_CNT', 'VEHICLE_CONFIG', 'CARGO_BODY_TYPE', 'LOAD_TYPE', 'HAZMAT_OUT_OF_SERVICE_I', 'MCS_OUT_OF_SERVICE_I', 'HAZMAT_CLASS']\n"
     ]
    }
   ],
   "source": [
    "rows_w_nan(vehicles)"
   ]
  },
  {
   "cell_type": "code",
   "execution_count": 102,
   "metadata": {},
   "outputs": [],
   "source": [
    "vehicles = vehicles.drop(columns=['NUM_PASSENGERS', 'CMRC_VEH_I', 'TOWED_I', 'FIRE_I', 'EXCEED_SPEED_LIMIT_I', \n",
    "                                  'TOWED_BY', 'TOWED_TO', 'AREA_00_I', 'AREA_01_I', 'AREA_02_I', 'AREA_03_I', \n",
    "                                  'AREA_04_I', 'AREA_05_I', 'AREA_06_I', 'AREA_07_I', 'AREA_08_I', 'AREA_09_I', \n",
    "                                  'AREA_10_I', 'AREA_11_I', 'AREA_12_I', 'AREA_99_I', 'CMV_ID', 'USDOT_NO', 'CCMC_NO', \n",
    "                                  'ILCC_NO', 'COMMERCIAL_SRC', 'GVWR', 'CARRIER_NAME', 'CARRIER_STATE', 'CARRIER_CITY',\n",
    "                                  'HAZMAT_PLACARDS_I', 'HAZMAT_NAME', 'UN_NO', 'HAZMAT_PRESENT_I', 'HAZMAT_REPORT_I',\n",
    "                                  'HAZMAT_REPORT_NO', 'MCS_REPORT_I', 'MCS_REPORT_NO', 'HAZMAT_VIO_CAUSE_CRASH_I',\n",
    "                                  'MCS_VIO_CAUSE_CRASH_I', 'IDOT_PERMIT_NO', 'WIDE_LOAD_I', 'TRAILER1_WIDTH',\n",
    "                                  'TRAILER2_WIDTH', 'TRAILER1_LENGTH', 'TRAILER2_LENGTH', 'TOTAL_VEHICLE_LENGTH',\n",
    "                                  'AXLE_CNT', 'VEHICLE_CONFIG', 'CARGO_BODY_TYPE', 'LOAD_TYPE', 'HAZMAT_OUT_OF_SERVICE_I',\n",
    "                                  'MCS_OUT_OF_SERVICE_I', 'HAZMAT_CLASS', 'LIC_PLATE_STATE'])"
   ]
  },
  {
   "cell_type": "code",
   "execution_count": 103,
   "metadata": {},
   "outputs": [],
   "source": [
    "vehicles.dropna(inplace=True)"
   ]
  },
  {
   "cell_type": "code",
   "execution_count": 104,
   "metadata": {
    "scrolled": true
   },
   "outputs": [
    {
     "data": {
      "text/plain": [
       "CRASH_UNIT_ID          0\n",
       "CRASH_RECORD_ID        0\n",
       "RD_NO                  0\n",
       "CRASH_DATE             0\n",
       "UNIT_NO                0\n",
       "UNIT_TYPE              0\n",
       "VEHICLE_ID             0\n",
       "MAKE                   0\n",
       "MODEL                  0\n",
       "VEHICLE_YEAR           0\n",
       "VEHICLE_DEFECT         0\n",
       "VEHICLE_TYPE           0\n",
       "VEHICLE_USE            0\n",
       "TRAVEL_DIRECTION       0\n",
       "MANEUVER               0\n",
       "OCCUPANT_CNT           0\n",
       "FIRST_CONTACT_POINT    0\n",
       "dtype: int64"
      ]
     },
     "execution_count": 104,
     "metadata": {},
     "output_type": "execute_result"
    }
   ],
   "source": [
    "vehicles.isna().sum()"
   ]
  },
  {
   "cell_type": "markdown",
   "metadata": {},
   "source": [
    "### Done Treating the Data"
   ]
  },
  {
   "cell_type": "code",
   "execution_count": 105,
   "metadata": {},
   "outputs": [],
   "source": [
    "def columns_repeat(data, data1, data2):\n",
    "    data_columns = []\n",
    "    data1_columns = []\n",
    "    data2_columns = []\n",
    "    data_data1 = []\n",
    "    data_data2 = []\n",
    "    data_data3 = []\n",
    "    for x in data.columns:\n",
    "        data_columns.append(x)\n",
    "    for y in data1.columns:\n",
    "        data1_columns.append(y)\n",
    "    for z in data2.columns:\n",
    "        data2_columns.append(z)\n",
    "     \n",
    "    for a in data_columns:\n",
    "        if a in data1_columns:\n",
    "            data_data1.append(a)\n",
    "            \n",
    "    for b in data_columns:\n",
    "        if b in data2_columns:\n",
    "            data_data2.append(b)\n",
    "    \n",
    "    for c in data1_columns:\n",
    "        if c in data2_columns:\n",
    "            data_data3.append(c)\n",
    "        \n",
    "    return(data_data1, data_data2, data_data3)\n",
    "        \n",
    "        \n",
    "        "
   ]
  },
  {
   "cell_type": "code",
   "execution_count": 129,
   "metadata": {
    "scrolled": false
   },
   "outputs": [
    {
     "data": {
      "text/plain": [
       "(['CRASH_RECORD_ID'], ['CRASH_RECORD_ID'], ['CRASH_RECORD_ID'])"
      ]
     },
     "execution_count": 129,
     "metadata": {},
     "output_type": "execute_result"
    }
   ],
   "source": [
    "columns_repeat(people, crashes, vehicles)"
   ]
  },
  {
   "cell_type": "code",
   "execution_count": 107,
   "metadata": {},
   "outputs": [],
   "source": [
    "# Since we only want ONE columns to be repeated, we drop the others that repeat\n",
    "vehicles = vehicles.drop(columns=['RD_NO', 'VEHICLE_ID', 'CRASH_DATE'])"
   ]
  },
  {
   "cell_type": "code",
   "execution_count": 108,
   "metadata": {},
   "outputs": [
    {
     "data": {
      "text/plain": [
       "(583148, 18)"
      ]
     },
     "execution_count": 108,
     "metadata": {},
     "output_type": "execute_result"
    }
   ],
   "source": [
    "people.shape"
   ]
  },
  {
   "cell_type": "code",
   "execution_count": 109,
   "metadata": {},
   "outputs": [
    {
     "data": {
      "text/plain": [
       "(452176, 39)"
      ]
     },
     "execution_count": 109,
     "metadata": {},
     "output_type": "execute_result"
    }
   ],
   "source": [
    "crashes.shape"
   ]
  },
  {
   "cell_type": "code",
   "execution_count": 110,
   "metadata": {},
   "outputs": [
    {
     "data": {
      "text/plain": [
       "(797587, 14)"
      ]
     },
     "execution_count": 110,
     "metadata": {},
     "output_type": "execute_result"
    }
   ],
   "source": [
    "vehicles.shape"
   ]
  },
  {
   "cell_type": "code",
   "execution_count": 111,
   "metadata": {},
   "outputs": [
    {
     "data": {
      "text/plain": [
       "(740710, 52)"
      ]
     },
     "execution_count": 111,
     "metadata": {},
     "output_type": "execute_result"
    }
   ],
   "source": [
    "# Join the 3 datasets together\n",
    "inner_merged_total = pd.merge(vehicles, crashes, on=['CRASH_RECORD_ID'])\n",
    "inner_merged_total.shape"
   ]
  },
  {
   "cell_type": "code",
   "execution_count": 112,
   "metadata": {
    "scrolled": true
   },
   "outputs": [
    {
     "data": {
      "text/plain": [
       "(740710, 52)"
      ]
     },
     "execution_count": 112,
     "metadata": {},
     "output_type": "execute_result"
    }
   ],
   "source": [
    "inner_merged_total.shape"
   ]
  },
  {
   "cell_type": "code",
   "execution_count": 113,
   "metadata": {},
   "outputs": [],
   "source": [
    "inner_merged_total = pd.merge(inner_merged_total, people, on=['CRASH_RECORD_ID'])"
   ]
  },
  {
   "cell_type": "code",
   "execution_count": 114,
   "metadata": {},
   "outputs": [
    {
     "data": {
      "text/plain": [
       "(1020442, 69)"
      ]
     },
     "execution_count": 114,
     "metadata": {},
     "output_type": "execute_result"
    }
   ],
   "source": [
    "inner_merged_total.shape"
   ]
  },
  {
   "cell_type": "code",
   "execution_count": 115,
   "metadata": {},
   "outputs": [
    {
     "data": {
      "text/plain": [
       "0"
      ]
     },
     "execution_count": 115,
     "metadata": {},
     "output_type": "execute_result"
    }
   ],
   "source": [
    "inner_merged_total.isna().sum().sum()"
   ]
  },
  {
   "cell_type": "code",
   "execution_count": 116,
   "metadata": {
    "scrolled": true
   },
   "outputs": [
    {
     "data": {
      "text/plain": [
       "0"
      ]
     },
     "execution_count": 116,
     "metadata": {},
     "output_type": "execute_result"
    }
   ],
   "source": [
    "inner_merged_total.duplicated().sum()"
   ]
  },
  {
   "cell_type": "code",
   "execution_count": 117,
   "metadata": {
    "scrolled": false
   },
   "outputs": [
    {
     "data": {
      "text/plain": [
       "Index(['CRASH_UNIT_ID', 'CRASH_RECORD_ID', 'UNIT_NO', 'UNIT_TYPE', 'MAKE',\n",
       "       'MODEL', 'VEHICLE_YEAR', 'VEHICLE_DEFECT', 'VEHICLE_TYPE',\n",
       "       'VEHICLE_USE', 'TRAVEL_DIRECTION', 'MANEUVER', 'OCCUPANT_CNT',\n",
       "       'FIRST_CONTACT_POINT', 'POSTED_SPEED_LIMIT', 'TRAFFIC_CONTROL_DEVICE',\n",
       "       'DEVICE_CONDITION', 'WEATHER_CONDITION', 'LIGHTING_CONDITION',\n",
       "       'FIRST_CRASH_TYPE', 'TRAFFICWAY_TYPE', 'ALIGNMENT',\n",
       "       'ROADWAY_SURFACE_COND', 'ROAD_DEFECT', 'REPORT_TYPE', 'CRASH_TYPE',\n",
       "       'DAMAGE', 'DATE_POLICE_NOTIFIED', 'PRIM_CONTRIBUTORY_CAUSE',\n",
       "       'SEC_CONTRIBUTORY_CAUSE', 'STREET_NO', 'STREET_DIRECTION',\n",
       "       'STREET_NAME', 'BEAT_OF_OCCURRENCE', 'NUM_UNITS', 'MOST_SEVERE_INJURY',\n",
       "       'INJURIES_TOTAL', 'INJURIES_FATAL', 'INJURIES_INCAPACITATING',\n",
       "       'INJURIES_NON_INCAPACITATING', 'INJURIES_REPORTED_NOT_EVIDENT',\n",
       "       'INJURIES_NO_INDICATION', 'INJURIES_UNKNOWN', 'CRASH_HOUR',\n",
       "       'CRASH_DAY_OF_WEEK', 'CRASH_MONTH', 'LATITUDE', 'LONGITUDE',\n",
       "       'DATE_ACCIDENT', 'DATE_NOHOUR', 'IS_A_HOLIDAY', 'HOLIDAY_NAME',\n",
       "       'PERSON_ID', 'PERSON_TYPE', 'RD_NO', 'VEHICLE_ID', 'CRASH_DATE', 'CITY',\n",
       "       'STATE', 'SEX', 'AGE', 'SAFETY_EQUIPMENT', 'AIRBAG_DEPLOYED',\n",
       "       'EJECTION', 'INJURY_CLASSIFICATION', 'DRIVER_ACTION', 'DRIVER_VISION',\n",
       "       'PHYSICAL_CONDITION', 'BAC_RESULT'],\n",
       "      dtype='object')"
      ]
     },
     "execution_count": 117,
     "metadata": {},
     "output_type": "execute_result"
    }
   ],
   "source": [
    "inner_merged_total.columns"
   ]
  },
  {
   "cell_type": "markdown",
   "metadata": {},
   "source": [
    "# Notes:"
   ]
  },
  {
   "cell_type": "code",
   "execution_count": 118,
   "metadata": {},
   "outputs": [],
   "source": [
    "#plt.style.use('ggplot')"
   ]
  },
  {
   "cell_type": "markdown",
   "metadata": {},
   "source": [
    "1) Chicago Car Crashes (Links to an external site.)\n",
    "Note this links also to Vehicle Data (Links to an external site.) and to Driver/Passenger Data (Links to an external site.).\n",
    "\n",
    "Build a classifier to predict the primary contributory cause of a car accident, given information about the car,\n",
    "the people in the car,the road conditions etc. You might imagine your audience as a Vehicle Safety Board who's\n",
    "interested in reducing traffic accidents, or as the City of Chicago who's interested in becoming aware of any\n",
    "interesting patterns. Note that there is a multi-class classification problem. You will almost certainly want to bin \n",
    "or trim or otherwise limit the number of target categories on which you ultimately predict. Note e.g. that some\n",
    "primary contributory causes have very few samples."
   ]
  },
  {
   "cell_type": "markdown",
   "metadata": {},
   "source": [
    "This criterion is linked to a Learning OutcomeBusiness Understanding\n",
    "\n",
    "Explains the project's real-world value for a specific stakeholder"
   ]
  },
  {
   "cell_type": "markdown",
   "metadata": {},
   "source": [
    "This criterion is linked to a Learning OutcomeData Understanding\n",
    "\n",
    "Explicitly relates data's source and properties to real-world problem"
   ]
  },
  {
   "cell_type": "markdown",
   "metadata": {},
   "source": [
    "This criterion is linked to a Learning OutcomeData Preparation\n",
    "\n",
    "Data preparation is reproducible and well-documented with valid justifications"
   ]
  },
  {
   "cell_type": "markdown",
   "metadata": {},
   "source": [
    "Modeling\n",
    "\n",
    "Model development is iterative and documented with valid justifications"
   ]
  },
  {
   "cell_type": "markdown",
   "metadata": {},
   "source": [
    "This criterion is linked to a Learning OutcomeClassification Results\n",
    "\n",
    "Explains how well the project solves the real-world problem"
   ]
  },
  {
   "cell_type": "markdown",
   "metadata": {},
   "source": [
    "This criterion is linked to a Learning OutcomeVisualization\n",
    "\n",
    "Includes three polished visualizations of relevant findings"
   ]
  },
  {
   "cell_type": "markdown",
   "metadata": {},
   "source": [
    "GitHub Repository\n",
    "\n",
    "Repository uses all \"best practices\" for README, structure, and commits"
   ]
  },
  {
   "cell_type": "markdown",
   "metadata": {},
   "source": [
    "Presentation Content\n",
    "\n",
    "Presentation clearly shows stakeholders how well the project meets their needs"
   ]
  },
  {
   "cell_type": "markdown",
   "metadata": {},
   "source": [
    "This criterion is linked to a Learning OutcomeSlide Style\n",
    "\n",
    "Slides have a fully professional style"
   ]
  },
  {
   "cell_type": "markdown",
   "metadata": {},
   "source": [
    "This criterion is linked to a Learning OutcomePresentation Delivery\n",
    "\n",
    "Presentation engagingly and clearly delivers the intended content"
   ]
  },
  {
   "cell_type": "markdown",
   "metadata": {},
   "source": [
    "This criterion is linked to a Learning OutcomeAnswers to Questions\n",
    "\n",
    "Answers are fully clear and appropriate"
   ]
  },
  {
   "cell_type": "markdown",
   "metadata": {},
   "source": [
    "# Modeling"
   ]
  },
  {
   "cell_type": "code",
   "execution_count": 119,
   "metadata": {
    "scrolled": true
   },
   "outputs": [
    {
     "data": {
      "text/plain": [
       "NO INDICATION OF INJURY        395211\n",
       "NONINCAPACITATING INJURY        49506\n",
       "INCAPACITATING INJURY/FATAL      7459\n",
       "Name: MOST_SEVERE_INJURY, dtype: int64"
      ]
     },
     "execution_count": 119,
     "metadata": {},
     "output_type": "execute_result"
    }
   ],
   "source": [
    "crashes.MOST_SEVERE_INJURY.value_counts()"
   ]
  },
  {
   "cell_type": "code",
   "execution_count": 120,
   "metadata": {},
   "outputs": [
    {
     "data": {
      "text/html": [
       "<div>\n",
       "<style scoped>\n",
       "    .dataframe tbody tr th:only-of-type {\n",
       "        vertical-align: middle;\n",
       "    }\n",
       "\n",
       "    .dataframe tbody tr th {\n",
       "        vertical-align: top;\n",
       "    }\n",
       "\n",
       "    .dataframe thead th {\n",
       "        text-align: right;\n",
       "    }\n",
       "</style>\n",
       "<table border=\"1\" class=\"dataframe\">\n",
       "  <thead>\n",
       "    <tr style=\"text-align: right;\">\n",
       "      <th></th>\n",
       "      <th>CRASH_RECORD_ID</th>\n",
       "      <th>POSTED_SPEED_LIMIT</th>\n",
       "      <th>TRAFFIC_CONTROL_DEVICE</th>\n",
       "      <th>DEVICE_CONDITION</th>\n",
       "      <th>WEATHER_CONDITION</th>\n",
       "      <th>LIGHTING_CONDITION</th>\n",
       "      <th>FIRST_CRASH_TYPE</th>\n",
       "      <th>TRAFFICWAY_TYPE</th>\n",
       "      <th>ALIGNMENT</th>\n",
       "      <th>ROADWAY_SURFACE_COND</th>\n",
       "      <th>...</th>\n",
       "      <th>INJURIES_UNKNOWN</th>\n",
       "      <th>CRASH_HOUR</th>\n",
       "      <th>CRASH_DAY_OF_WEEK</th>\n",
       "      <th>CRASH_MONTH</th>\n",
       "      <th>LATITUDE</th>\n",
       "      <th>LONGITUDE</th>\n",
       "      <th>DATE_ACCIDENT</th>\n",
       "      <th>DATE_NOHOUR</th>\n",
       "      <th>IS_A_HOLIDAY</th>\n",
       "      <th>HOLIDAY_NAME</th>\n",
       "    </tr>\n",
       "  </thead>\n",
       "  <tbody>\n",
       "    <tr>\n",
       "      <th>0</th>\n",
       "      <td>4fd0a3e0897b3335b94cd8d5b2d2b350eb691add56c62d...</td>\n",
       "      <td>6</td>\n",
       "      <td>NO CONTROLS</td>\n",
       "      <td>NO CONTROLS</td>\n",
       "      <td>CLEAR</td>\n",
       "      <td>DAYLIGHT</td>\n",
       "      <td>TURNING</td>\n",
       "      <td>ONE-WAY</td>\n",
       "      <td>STRAIGHT AND LEVEL</td>\n",
       "      <td>DRY</td>\n",
       "      <td>...</td>\n",
       "      <td>0.0</td>\n",
       "      <td>2</td>\n",
       "      <td>4</td>\n",
       "      <td>7</td>\n",
       "      <td>41.919664</td>\n",
       "      <td>-87.773288</td>\n",
       "      <td>2019-07-10 17:56:00</td>\n",
       "      <td>2019-07-10 17:56:00</td>\n",
       "      <td>0</td>\n",
       "      <td>0</td>\n",
       "    </tr>\n",
       "    <tr>\n",
       "      <th>1</th>\n",
       "      <td>009e9e67203442370272e1a13d6ee51a4155dac65e583d...</td>\n",
       "      <td>6</td>\n",
       "      <td>STOP SIGN/FLASHER</td>\n",
       "      <td>FUNCTIONING PROPERLY</td>\n",
       "      <td>CLEAR</td>\n",
       "      <td>DAYLIGHT</td>\n",
       "      <td>TURNING</td>\n",
       "      <td>NOT DIVIDED</td>\n",
       "      <td>STRAIGHT AND LEVEL</td>\n",
       "      <td>DRY</td>\n",
       "      <td>...</td>\n",
       "      <td>0.0</td>\n",
       "      <td>2</td>\n",
       "      <td>6</td>\n",
       "      <td>6</td>\n",
       "      <td>41.741804</td>\n",
       "      <td>-87.740954</td>\n",
       "      <td>2017-06-30 16:00:00</td>\n",
       "      <td>2017-06-30 16:00:00</td>\n",
       "      <td>0</td>\n",
       "      <td>0</td>\n",
       "    </tr>\n",
       "    <tr>\n",
       "      <th>2</th>\n",
       "      <td>ee9283eff3a55ac50ee58f3d9528ce1d689b1c4180b4c4...</td>\n",
       "      <td>5</td>\n",
       "      <td>TRAFFIC SIGNAL</td>\n",
       "      <td>FUNCTIONING PROPERLY</td>\n",
       "      <td>CLEAR</td>\n",
       "      <td>DAYLIGHT</td>\n",
       "      <td>REAR END</td>\n",
       "      <td>FOUR WAY</td>\n",
       "      <td>STRAIGHT AND LEVEL</td>\n",
       "      <td>DRY</td>\n",
       "      <td>...</td>\n",
       "      <td>0.0</td>\n",
       "      <td>1</td>\n",
       "      <td>6</td>\n",
       "      <td>7</td>\n",
       "      <td>41.773456</td>\n",
       "      <td>-87.585022</td>\n",
       "      <td>2020-07-10 10:25:00</td>\n",
       "      <td>2020-07-10 10:25:00</td>\n",
       "      <td>0</td>\n",
       "      <td>0</td>\n",
       "    </tr>\n",
       "    <tr>\n",
       "      <th>3</th>\n",
       "      <td>f8960f698e870ebdc60b521b2a141a5395556bc3704191...</td>\n",
       "      <td>5</td>\n",
       "      <td>NO CONTROLS</td>\n",
       "      <td>NO CONTROLS</td>\n",
       "      <td>CLEAR</td>\n",
       "      <td>DARKNESS</td>\n",
       "      <td>PARKED MOTOR VEHICLE</td>\n",
       "      <td>DIVIDED - W/MEDIAN (NOT RAISED)</td>\n",
       "      <td>STRAIGHT AND LEVEL</td>\n",
       "      <td>DRY</td>\n",
       "      <td>...</td>\n",
       "      <td>0.0</td>\n",
       "      <td>0</td>\n",
       "      <td>7</td>\n",
       "      <td>7</td>\n",
       "      <td>41.802119</td>\n",
       "      <td>-87.622115</td>\n",
       "      <td>2020-07-11 01:00:00</td>\n",
       "      <td>2020-07-11 01:00:00</td>\n",
       "      <td>0</td>\n",
       "      <td>0</td>\n",
       "    </tr>\n",
       "    <tr>\n",
       "      <th>5</th>\n",
       "      <td>00e47f189660cd8ba1e85fc63061bf1d8465184393f134...</td>\n",
       "      <td>5</td>\n",
       "      <td>TRAFFIC SIGNAL</td>\n",
       "      <td>FUNCTIONING PROPERLY</td>\n",
       "      <td>CLEAR</td>\n",
       "      <td>DARKNESS, LIGHTED ROAD</td>\n",
       "      <td>TURNING</td>\n",
       "      <td>NOT DIVIDED</td>\n",
       "      <td>STRAIGHT AND LEVEL</td>\n",
       "      <td>DRY</td>\n",
       "      <td>...</td>\n",
       "      <td>0.0</td>\n",
       "      <td>3</td>\n",
       "      <td>5</td>\n",
       "      <td>3</td>\n",
       "      <td>41.741804</td>\n",
       "      <td>-87.740954</td>\n",
       "      <td>2019-03-21 22:50:00</td>\n",
       "      <td>2019-03-21 22:50:00</td>\n",
       "      <td>0</td>\n",
       "      <td>0</td>\n",
       "    </tr>\n",
       "  </tbody>\n",
       "</table>\n",
       "<p>5 rows × 39 columns</p>\n",
       "</div>"
      ],
      "text/plain": [
       "                                     CRASH_RECORD_ID POSTED_SPEED_LIMIT  \\\n",
       "0  4fd0a3e0897b3335b94cd8d5b2d2b350eb691add56c62d...                  6   \n",
       "1  009e9e67203442370272e1a13d6ee51a4155dac65e583d...                  6   \n",
       "2  ee9283eff3a55ac50ee58f3d9528ce1d689b1c4180b4c4...                  5   \n",
       "3  f8960f698e870ebdc60b521b2a141a5395556bc3704191...                  5   \n",
       "5  00e47f189660cd8ba1e85fc63061bf1d8465184393f134...                  5   \n",
       "\n",
       "  TRAFFIC_CONTROL_DEVICE      DEVICE_CONDITION WEATHER_CONDITION  \\\n",
       "0            NO CONTROLS           NO CONTROLS             CLEAR   \n",
       "1      STOP SIGN/FLASHER  FUNCTIONING PROPERLY             CLEAR   \n",
       "2         TRAFFIC SIGNAL  FUNCTIONING PROPERLY             CLEAR   \n",
       "3            NO CONTROLS           NO CONTROLS             CLEAR   \n",
       "5         TRAFFIC SIGNAL  FUNCTIONING PROPERLY             CLEAR   \n",
       "\n",
       "       LIGHTING_CONDITION      FIRST_CRASH_TYPE  \\\n",
       "0                DAYLIGHT               TURNING   \n",
       "1                DAYLIGHT               TURNING   \n",
       "2                DAYLIGHT              REAR END   \n",
       "3                DARKNESS  PARKED MOTOR VEHICLE   \n",
       "5  DARKNESS, LIGHTED ROAD               TURNING   \n",
       "\n",
       "                   TRAFFICWAY_TYPE           ALIGNMENT ROADWAY_SURFACE_COND  \\\n",
       "0                          ONE-WAY  STRAIGHT AND LEVEL                  DRY   \n",
       "1                      NOT DIVIDED  STRAIGHT AND LEVEL                  DRY   \n",
       "2                         FOUR WAY  STRAIGHT AND LEVEL                  DRY   \n",
       "3  DIVIDED - W/MEDIAN (NOT RAISED)  STRAIGHT AND LEVEL                  DRY   \n",
       "5                      NOT DIVIDED  STRAIGHT AND LEVEL                  DRY   \n",
       "\n",
       "   ... INJURIES_UNKNOWN CRASH_HOUR CRASH_DAY_OF_WEEK CRASH_MONTH   LATITUDE  \\\n",
       "0  ...              0.0          2                 4           7  41.919664   \n",
       "1  ...              0.0          2                 6           6  41.741804   \n",
       "2  ...              0.0          1                 6           7  41.773456   \n",
       "3  ...              0.0          0                 7           7  41.802119   \n",
       "5  ...              0.0          3                 5           3  41.741804   \n",
       "\n",
       "   LONGITUDE       DATE_ACCIDENT         DATE_NOHOUR IS_A_HOLIDAY HOLIDAY_NAME  \n",
       "0 -87.773288 2019-07-10 17:56:00 2019-07-10 17:56:00            0            0  \n",
       "1 -87.740954 2017-06-30 16:00:00 2017-06-30 16:00:00            0            0  \n",
       "2 -87.585022 2020-07-10 10:25:00 2020-07-10 10:25:00            0            0  \n",
       "3 -87.622115 2020-07-11 01:00:00 2020-07-11 01:00:00            0            0  \n",
       "5 -87.740954 2019-03-21 22:50:00 2019-03-21 22:50:00            0            0  \n",
       "\n",
       "[5 rows x 39 columns]"
      ]
     },
     "execution_count": 120,
     "metadata": {},
     "output_type": "execute_result"
    }
   ],
   "source": [
    "crashes.head()"
   ]
  },
  {
   "cell_type": "code",
   "execution_count": 121,
   "metadata": {},
   "outputs": [
    {
     "data": {
      "text/plain": [
       "Index(['CRASH_RECORD_ID', 'POSTED_SPEED_LIMIT', 'TRAFFIC_CONTROL_DEVICE',\n",
       "       'DEVICE_CONDITION', 'WEATHER_CONDITION', 'LIGHTING_CONDITION',\n",
       "       'FIRST_CRASH_TYPE', 'TRAFFICWAY_TYPE', 'ALIGNMENT',\n",
       "       'ROADWAY_SURFACE_COND', 'ROAD_DEFECT', 'REPORT_TYPE', 'CRASH_TYPE',\n",
       "       'DAMAGE', 'DATE_POLICE_NOTIFIED', 'PRIM_CONTRIBUTORY_CAUSE',\n",
       "       'SEC_CONTRIBUTORY_CAUSE', 'STREET_NO', 'STREET_DIRECTION',\n",
       "       'STREET_NAME', 'BEAT_OF_OCCURRENCE', 'NUM_UNITS', 'MOST_SEVERE_INJURY',\n",
       "       'INJURIES_TOTAL', 'INJURIES_FATAL', 'INJURIES_INCAPACITATING',\n",
       "       'INJURIES_NON_INCAPACITATING', 'INJURIES_REPORTED_NOT_EVIDENT',\n",
       "       'INJURIES_NO_INDICATION', 'INJURIES_UNKNOWN', 'CRASH_HOUR',\n",
       "       'CRASH_DAY_OF_WEEK', 'CRASH_MONTH', 'LATITUDE', 'LONGITUDE',\n",
       "       'DATE_ACCIDENT', 'DATE_NOHOUR', 'IS_A_HOLIDAY', 'HOLIDAY_NAME'],\n",
       "      dtype='object')"
      ]
     },
     "execution_count": 121,
     "metadata": {},
     "output_type": "execute_result"
    }
   ],
   "source": [
    "crashes.columns"
   ]
  },
  {
   "cell_type": "code",
   "execution_count": 122,
   "metadata": {},
   "outputs": [],
   "source": [
    "X_model_features = ['IS_A_HOLIDAY', 'STREET_NO', 'DAMAGE', 'ROADWAY_SURFACE_COND', 'POSTED_SPEED_LIMIT', \n",
    "                    'WEATHER_CONDITION', 'LIGHTING_CONDITION']"
   ]
  },
  {
   "cell_type": "code",
   "execution_count": 123,
   "metadata": {},
   "outputs": [],
   "source": [
    "X = crashes[X_model_features]"
   ]
  },
  {
   "cell_type": "code",
   "execution_count": 124,
   "metadata": {},
   "outputs": [],
   "source": [
    "from sklearn.preprocessing import OneHotEncoder"
   ]
  },
  {
   "cell_type": "code",
   "execution_count": 125,
   "metadata": {
    "scrolled": false
   },
   "outputs": [
    {
     "data": {
      "text/plain": [
       "array([[0., 0., 1., ..., 1., 0., 0.],\n",
       "       [0., 0., 1., ..., 1., 0., 0.],\n",
       "       [0., 0., 1., ..., 1., 0., 0.],\n",
       "       ...,\n",
       "       [0., 0., 1., ..., 1., 0., 0.],\n",
       "       [0., 0., 1., ..., 1., 0., 0.],\n",
       "       [0., 0., 1., ..., 1., 0., 0.]])"
      ]
     },
     "execution_count": 125,
     "metadata": {},
     "output_type": "execute_result"
    }
   ],
   "source": [
    "ohe = OneHotEncoder(sparse=False, handle_unknown='ignore')\n",
    "ohe.fit_transform(X.select_dtypes(include='object'))"
   ]
  },
  {
   "cell_type": "code",
   "execution_count": 126,
   "metadata": {
    "scrolled": true
   },
   "outputs": [
    {
     "data": {
      "text/plain": [
       "array(['x0_$500 OR LESS', 'x0_$501 - $1,500', 'x0_OVER $1,500', 'x1_DRY',\n",
       "       'x1_ICE', 'x1_OTHER', 'x1_SAND, MUD, DIRT', 'x1_SNOW OR SLUSH',\n",
       "       'x1_UNKNOWN', 'x1_WET', 'x2_CLEAR', 'x2_CLOUDY/OVERCAST',\n",
       "       'x2_OTHER', 'x2_RAIN', 'x2_SNOW', 'x2_UNKNOWN', 'x3_DARKNESS',\n",
       "       'x3_DARKNESS, LIGHTED ROAD', 'x3_DAWN', 'x3_DAYLIGHT', 'x3_DUSK',\n",
       "       'x3_UNKNOWN'], dtype=object)"
      ]
     },
     "execution_count": 126,
     "metadata": {},
     "output_type": "execute_result"
    }
   ],
   "source": [
    "ohe.get_feature_names()"
   ]
  },
  {
   "cell_type": "code",
   "execution_count": 127,
   "metadata": {},
   "outputs": [],
   "source": [
    "from sklearn.model_selection import KFold\n",
    "from sklearn.metrics import precision_score\n"
   ]
  },
  {
   "cell_type": "code",
   "execution_count": 128,
   "metadata": {},
   "outputs": [
    {
     "ename": "NameError",
     "evalue": "name 'y' is not defined",
     "output_type": "error",
     "traceback": [
      "\u001b[1;31m---------------------------------------------------------------------------\u001b[0m",
      "\u001b[1;31mNameError\u001b[0m                                 Traceback (most recent call last)",
      "\u001b[1;32m<ipython-input-128-3ca04bd5bc85>\u001b[0m in \u001b[0;36m<module>\u001b[1;34m\u001b[0m\n\u001b[0;32m      1\u001b[0m \u001b[0mkf\u001b[0m \u001b[1;33m=\u001b[0m \u001b[0mKFold\u001b[0m\u001b[1;33m(\u001b[0m\u001b[1;33m)\u001b[0m\u001b[1;33m\u001b[0m\u001b[1;33m\u001b[0m\u001b[0m\n\u001b[0;32m      2\u001b[0m \u001b[0mprecision_scores\u001b[0m \u001b[1;33m=\u001b[0m \u001b[1;33m[\u001b[0m\u001b[1;33m]\u001b[0m\u001b[1;33m\u001b[0m\u001b[1;33m\u001b[0m\u001b[0m\n\u001b[1;32m----> 3\u001b[1;33m \u001b[1;32mfor\u001b[0m \u001b[0mtrained_indices\u001b[0m\u001b[1;33m,\u001b[0m \u001b[0mval_indices\u001b[0m \u001b[1;32min\u001b[0m \u001b[0mkf\u001b[0m\u001b[1;33m.\u001b[0m\u001b[0msplit\u001b[0m\u001b[1;33m(\u001b[0m\u001b[0mX\u001b[0m\u001b[1;33m,\u001b[0m \u001b[0my\u001b[0m\u001b[1;33m)\u001b[0m\u001b[1;33m:\u001b[0m\u001b[1;33m\u001b[0m\u001b[1;33m\u001b[0m\u001b[0m\n\u001b[0m\u001b[0;32m      4\u001b[0m     \u001b[0mX_t\u001b[0m \u001b[1;33m=\u001b[0m \u001b[0mX\u001b[0m\u001b[1;33m.\u001b[0m\u001b[0miloc\u001b[0m\u001b[1;33m[\u001b[0m\u001b[0mtrained_indices\u001b[0m\u001b[1;33m]\u001b[0m\u001b[1;33m\u001b[0m\u001b[1;33m\u001b[0m\u001b[0m\n\u001b[0;32m      5\u001b[0m     \u001b[0mX_val\u001b[0m \u001b[1;33m=\u001b[0m \u001b[0mX\u001b[0m\u001b[1;33m.\u001b[0m\u001b[0miloc\u001b[0m\u001b[1;33m[\u001b[0m\u001b[0mval_indices\u001b[0m\u001b[1;33m]\u001b[0m\u001b[1;33m\u001b[0m\u001b[1;33m\u001b[0m\u001b[0m\n",
      "\u001b[1;31mNameError\u001b[0m: name 'y' is not defined"
     ]
    }
   ],
   "source": [
    "kf = KFold()\n",
    "precision_scores = []\n",
    "for trained_indices, val_indices in kf.split(X, y):\n",
    "    X_t = X.iloc[trained_indices]\n",
    "    X_val = X.iloc[val_indices]\n",
    "    y_t = y.iloc[trained_indices]\n",
    "    y_val = y.iloc[val_indices]\n",
    "    ohe = OneHotEncoder(sparse=False, handle_unknown='ignore')\n",
    "    X_t_cat = ohe.fit_transform(X_t.select_dtypes(include='object'))\n",
    "    X_t_num = ohe.fit_transform(X_t.select_dtypes(exclude='object'))"
   ]
  },
  {
   "cell_type": "code",
   "execution_count": null,
   "metadata": {},
   "outputs": [],
   "source": []
  },
  {
   "cell_type": "code",
   "execution_count": null,
   "metadata": {},
   "outputs": [],
   "source": [
    "precision_score(average='weighted')"
   ]
  },
  {
   "cell_type": "code",
   "execution_count": null,
   "metadata": {},
   "outputs": [],
   "source": [
    "y = crashes['MOST_SEVERE_INJURY']"
   ]
  },
  {
   "cell_type": "code",
   "execution_count": null,
   "metadata": {},
   "outputs": [],
   "source": [
    "y.value_counts()"
   ]
  },
  {
   "cell_type": "code",
   "execution_count": null,
   "metadata": {},
   "outputs": [],
   "source": []
  },
  {
   "cell_type": "code",
   "execution_count": null,
   "metadata": {},
   "outputs": [],
   "source": [
    "dates_holidays crashes_holiday['DATE_REAL'] inner_merged_total = pd.merge(inner_merged_total, people, on=['CRASH_RECORD_ID'])"
   ]
  },
  {
   "cell_type": "code",
   "execution_count": 142,
   "metadata": {
    "scrolled": true
   },
   "outputs": [
    {
     "data": {
      "text/html": [
       "<div>\n",
       "<style scoped>\n",
       "    .dataframe tbody tr th:only-of-type {\n",
       "        vertical-align: middle;\n",
       "    }\n",
       "\n",
       "    .dataframe tbody tr th {\n",
       "        vertical-align: top;\n",
       "    }\n",
       "\n",
       "    .dataframe thead th {\n",
       "        text-align: right;\n",
       "    }\n",
       "</style>\n",
       "<table border=\"1\" class=\"dataframe\">\n",
       "  <thead>\n",
       "    <tr style=\"text-align: right;\">\n",
       "      <th></th>\n",
       "      <th>0</th>\n",
       "    </tr>\n",
       "    <tr>\n",
       "      <th>DATE_REAL</th>\n",
       "      <th></th>\n",
       "    </tr>\n",
       "  </thead>\n",
       "  <tbody>\n",
       "    <tr>\n",
       "      <th>2012-01-02</th>\n",
       "      <td>New Years Day</td>\n",
       "    </tr>\n",
       "    <tr>\n",
       "      <th>2012-01-16</th>\n",
       "      <td>Martin Luther King Jr. Day</td>\n",
       "    </tr>\n",
       "    <tr>\n",
       "      <th>2012-02-20</th>\n",
       "      <td>Presidents Day</td>\n",
       "    </tr>\n",
       "  </tbody>\n",
       "</table>\n",
       "</div>"
      ],
      "text/plain": [
       "                                     0\n",
       "DATE_REAL                             \n",
       "2012-01-02               New Years Day\n",
       "2012-01-16  Martin Luther King Jr. Day\n",
       "2012-02-20              Presidents Day"
      ]
     },
     "execution_count": 142,
     "metadata": {},
     "output_type": "execute_result"
    }
   ],
   "source": [
    "dates_holidays.head(3)"
   ]
  },
  {
   "cell_type": "code",
   "execution_count": 141,
   "metadata": {},
   "outputs": [],
   "source": [
    "dates_holidays.index.name = 'DATE_REAL'"
   ]
  },
  {
   "cell_type": "code",
   "execution_count": 138,
   "metadata": {
    "scrolled": true
   },
   "outputs": [
    {
     "data": {
      "text/html": [
       "<div>\n",
       "<style scoped>\n",
       "    .dataframe tbody tr th:only-of-type {\n",
       "        vertical-align: middle;\n",
       "    }\n",
       "\n",
       "    .dataframe tbody tr th {\n",
       "        vertical-align: top;\n",
       "    }\n",
       "\n",
       "    .dataframe thead th {\n",
       "        text-align: right;\n",
       "    }\n",
       "</style>\n",
       "<table border=\"1\" class=\"dataframe\">\n",
       "  <thead>\n",
       "    <tr style=\"text-align: right;\">\n",
       "      <th></th>\n",
       "      <th>CRASH_RECORD_ID</th>\n",
       "      <th>POSTED_SPEED_LIMIT</th>\n",
       "      <th>TRAFFIC_CONTROL_DEVICE</th>\n",
       "      <th>DEVICE_CONDITION</th>\n",
       "      <th>WEATHER_CONDITION</th>\n",
       "      <th>LIGHTING_CONDITION</th>\n",
       "      <th>FIRST_CRASH_TYPE</th>\n",
       "      <th>TRAFFICWAY_TYPE</th>\n",
       "      <th>ALIGNMENT</th>\n",
       "      <th>ROADWAY_SURFACE_COND</th>\n",
       "      <th>...</th>\n",
       "      <th>CRASH_HOUR</th>\n",
       "      <th>CRASH_DAY_OF_WEEK</th>\n",
       "      <th>CRASH_MONTH</th>\n",
       "      <th>LATITUDE</th>\n",
       "      <th>LONGITUDE</th>\n",
       "      <th>DATE_ACCIDENT</th>\n",
       "      <th>DATE_NOHOUR</th>\n",
       "      <th>IS_A_HOLIDAY</th>\n",
       "      <th>HOLIDAY_NAME</th>\n",
       "      <th>DATE_REAL</th>\n",
       "    </tr>\n",
       "  </thead>\n",
       "  <tbody>\n",
       "    <tr>\n",
       "      <th>155</th>\n",
       "      <td>3bfec94191bdc869600d2c429c45a68871eb9733ce7ec6...</td>\n",
       "      <td>4</td>\n",
       "      <td>NO CONTROLS</td>\n",
       "      <td>NO CONTROLS</td>\n",
       "      <td>SNOW</td>\n",
       "      <td>DAYLIGHT</td>\n",
       "      <td>PARKED MOTOR VEHICLE</td>\n",
       "      <td>NOT DIVIDED</td>\n",
       "      <td>STRAIGHT AND LEVEL</td>\n",
       "      <td>SNOW OR SLUSH</td>\n",
       "      <td>...</td>\n",
       "      <td>1</td>\n",
       "      <td>6</td>\n",
       "      <td>11</td>\n",
       "      <td>41.932213</td>\n",
       "      <td>-87.653694</td>\n",
       "      <td>2017-11-10 12:45:00</td>\n",
       "      <td>2017-11-10 12:45:00</td>\n",
       "      <td>1</td>\n",
       "      <td>1</td>\n",
       "      <td>2017-11-10</td>\n",
       "    </tr>\n",
       "    <tr>\n",
       "      <th>234</th>\n",
       "      <td>5e45d4537c4d0bd12bfa11a7f75526f4fe0d61c68a0ec1...</td>\n",
       "      <td>1</td>\n",
       "      <td>NO CONTROLS</td>\n",
       "      <td>NO CONTROLS</td>\n",
       "      <td>CLEAR</td>\n",
       "      <td>DARKNESS, LIGHTED ROAD</td>\n",
       "      <td>PARKED MOTOR VEHICLE</td>\n",
       "      <td>PARKING LOT</td>\n",
       "      <td>STRAIGHT AND LEVEL</td>\n",
       "      <td>WET</td>\n",
       "      <td>...</td>\n",
       "      <td>0</td>\n",
       "      <td>3</td>\n",
       "      <td>1</td>\n",
       "      <td>41.879714</td>\n",
       "      <td>-87.774496</td>\n",
       "      <td>2019-01-01 02:40:00</td>\n",
       "      <td>2019-01-01 02:40:00</td>\n",
       "      <td>1</td>\n",
       "      <td>1</td>\n",
       "      <td>2019-01-01</td>\n",
       "    </tr>\n",
       "    <tr>\n",
       "      <th>456</th>\n",
       "      <td>c13c5b5561f60d0df2d3ee215a7bfdceb2ab82fa3806d8...</td>\n",
       "      <td>5</td>\n",
       "      <td>TRAFFIC SIGNAL</td>\n",
       "      <td>FUNCTIONING PROPERLY</td>\n",
       "      <td>RAIN</td>\n",
       "      <td>DARKNESS</td>\n",
       "      <td>REAR END</td>\n",
       "      <td>NOT DIVIDED</td>\n",
       "      <td>STRAIGHT AND LEVEL</td>\n",
       "      <td>WET</td>\n",
       "      <td>...</td>\n",
       "      <td>3</td>\n",
       "      <td>4</td>\n",
       "      <td>7</td>\n",
       "      <td>41.869729</td>\n",
       "      <td>-87.624268</td>\n",
       "      <td>2018-07-04 23:00:00</td>\n",
       "      <td>2018-07-04 23:00:00</td>\n",
       "      <td>1</td>\n",
       "      <td>1</td>\n",
       "      <td>2018-07-04</td>\n",
       "    </tr>\n",
       "  </tbody>\n",
       "</table>\n",
       "<p>3 rows × 40 columns</p>\n",
       "</div>"
      ],
      "text/plain": [
       "                                       CRASH_RECORD_ID POSTED_SPEED_LIMIT  \\\n",
       "155  3bfec94191bdc869600d2c429c45a68871eb9733ce7ec6...                  4   \n",
       "234  5e45d4537c4d0bd12bfa11a7f75526f4fe0d61c68a0ec1...                  1   \n",
       "456  c13c5b5561f60d0df2d3ee215a7bfdceb2ab82fa3806d8...                  5   \n",
       "\n",
       "    TRAFFIC_CONTROL_DEVICE      DEVICE_CONDITION WEATHER_CONDITION  \\\n",
       "155            NO CONTROLS           NO CONTROLS              SNOW   \n",
       "234            NO CONTROLS           NO CONTROLS             CLEAR   \n",
       "456         TRAFFIC SIGNAL  FUNCTIONING PROPERLY              RAIN   \n",
       "\n",
       "         LIGHTING_CONDITION      FIRST_CRASH_TYPE TRAFFICWAY_TYPE  \\\n",
       "155                DAYLIGHT  PARKED MOTOR VEHICLE     NOT DIVIDED   \n",
       "234  DARKNESS, LIGHTED ROAD  PARKED MOTOR VEHICLE     PARKING LOT   \n",
       "456                DARKNESS              REAR END     NOT DIVIDED   \n",
       "\n",
       "              ALIGNMENT ROADWAY_SURFACE_COND  ... CRASH_HOUR  \\\n",
       "155  STRAIGHT AND LEVEL        SNOW OR SLUSH  ...          1   \n",
       "234  STRAIGHT AND LEVEL                  WET  ...          0   \n",
       "456  STRAIGHT AND LEVEL                  WET  ...          3   \n",
       "\n",
       "    CRASH_DAY_OF_WEEK CRASH_MONTH   LATITUDE  LONGITUDE       DATE_ACCIDENT  \\\n",
       "155                 6          11  41.932213 -87.653694 2017-11-10 12:45:00   \n",
       "234                 3           1  41.879714 -87.774496 2019-01-01 02:40:00   \n",
       "456                 4           7  41.869729 -87.624268 2018-07-04 23:00:00   \n",
       "\n",
       "            DATE_NOHOUR  IS_A_HOLIDAY HOLIDAY_NAME   DATE_REAL  \n",
       "155 2017-11-10 12:45:00             1            1  2017-11-10  \n",
       "234 2019-01-01 02:40:00             1            1  2019-01-01  \n",
       "456 2018-07-04 23:00:00             1            1  2018-07-04  \n",
       "\n",
       "[3 rows x 40 columns]"
      ]
     },
     "execution_count": 138,
     "metadata": {},
     "output_type": "execute_result"
    }
   ],
   "source": [
    "crashes_holiday.head(3)"
   ]
  },
  {
   "cell_type": "code",
   "execution_count": 143,
   "metadata": {},
   "outputs": [],
   "source": [
    "final_holidays = pd.merge(dates_holidays, crashes_holiday, on=['DATE_REAL'])"
   ]
  },
  {
   "cell_type": "code",
   "execution_count": 161,
   "metadata": {
    "scrolled": true
   },
   "outputs": [
    {
     "data": {
      "text/html": [
       "<div>\n",
       "<style scoped>\n",
       "    .dataframe tbody tr th:only-of-type {\n",
       "        vertical-align: middle;\n",
       "    }\n",
       "\n",
       "    .dataframe tbody tr th {\n",
       "        vertical-align: top;\n",
       "    }\n",
       "\n",
       "    .dataframe thead th {\n",
       "        text-align: right;\n",
       "    }\n",
       "</style>\n",
       "<table border=\"1\" class=\"dataframe\">\n",
       "  <thead>\n",
       "    <tr style=\"text-align: right;\">\n",
       "      <th></th>\n",
       "      <th>DATE_REAL</th>\n",
       "      <th>NAME_HOLIDAY</th>\n",
       "      <th>CRASH_RECORD_ID</th>\n",
       "      <th>POSTED_SPEED_LIMIT</th>\n",
       "      <th>TRAFFIC_CONTROL_DEVICE</th>\n",
       "      <th>DEVICE_CONDITION</th>\n",
       "      <th>WEATHER_CONDITION</th>\n",
       "      <th>LIGHTING_CONDITION</th>\n",
       "      <th>FIRST_CRASH_TYPE</th>\n",
       "      <th>TRAFFICWAY_TYPE</th>\n",
       "      <th>...</th>\n",
       "      <th>INJURIES_UNKNOWN</th>\n",
       "      <th>CRASH_HOUR</th>\n",
       "      <th>CRASH_DAY_OF_WEEK</th>\n",
       "      <th>CRASH_MONTH</th>\n",
       "      <th>LATITUDE</th>\n",
       "      <th>LONGITUDE</th>\n",
       "      <th>DATE_ACCIDENT</th>\n",
       "      <th>DATE_NOHOUR</th>\n",
       "      <th>IS_A_HOLIDAY</th>\n",
       "      <th>HOLIDAY_NAME</th>\n",
       "    </tr>\n",
       "  </thead>\n",
       "  <tbody>\n",
       "    <tr>\n",
       "      <th>0</th>\n",
       "      <td>2014-11-11</td>\n",
       "      <td>Veterans Day</td>\n",
       "      <td>b15daae7f809226ff0cfc93865ddcf9ff60edcf4187dc4...</td>\n",
       "      <td>5</td>\n",
       "      <td>NO CONTROLS</td>\n",
       "      <td>NO CONTROLS</td>\n",
       "      <td>UNKNOWN</td>\n",
       "      <td>UNKNOWN</td>\n",
       "      <td>PARKED MOTOR VEHICLE</td>\n",
       "      <td>DIVIDED - W/MEDIAN (NOT RAISED)</td>\n",
       "      <td>...</td>\n",
       "      <td>0.0</td>\n",
       "      <td>3</td>\n",
       "      <td>3</td>\n",
       "      <td>11</td>\n",
       "      <td>41.998270</td>\n",
       "      <td>-87.662997</td>\n",
       "      <td>2014-11-11 20:00:00</td>\n",
       "      <td>2014-11-11 20:00:00</td>\n",
       "      <td>1</td>\n",
       "      <td>1</td>\n",
       "    </tr>\n",
       "    <tr>\n",
       "      <th>1</th>\n",
       "      <td>2015-09-07</td>\n",
       "      <td>Labor Day</td>\n",
       "      <td>0335e90fd6f5f3d1d54bf4113afa1fe5c283b140bfaf6b...</td>\n",
       "      <td>5</td>\n",
       "      <td>NO CONTROLS</td>\n",
       "      <td>NO CONTROLS</td>\n",
       "      <td>CLEAR</td>\n",
       "      <td>DAYLIGHT</td>\n",
       "      <td>SIDESWIPE SAME DIRECTION</td>\n",
       "      <td>ONE-WAY</td>\n",
       "      <td>...</td>\n",
       "      <td>0.0</td>\n",
       "      <td>2</td>\n",
       "      <td>2</td>\n",
       "      <td>9</td>\n",
       "      <td>41.888470</td>\n",
       "      <td>-87.629413</td>\n",
       "      <td>2015-09-07 16:45:00</td>\n",
       "      <td>2015-09-07 16:45:00</td>\n",
       "      <td>1</td>\n",
       "      <td>1</td>\n",
       "    </tr>\n",
       "    <tr>\n",
       "      <th>2</th>\n",
       "      <td>2015-09-07</td>\n",
       "      <td>Labor Day</td>\n",
       "      <td>03f950b1dbe2177e773fca438b58da82ccfde31f9af265...</td>\n",
       "      <td>5</td>\n",
       "      <td>NO CONTROLS</td>\n",
       "      <td>NO CONTROLS</td>\n",
       "      <td>CLEAR</td>\n",
       "      <td>DAYLIGHT</td>\n",
       "      <td>PARKED MOTOR VEHICLE</td>\n",
       "      <td>ONE-WAY</td>\n",
       "      <td>...</td>\n",
       "      <td>0.0</td>\n",
       "      <td>2</td>\n",
       "      <td>2</td>\n",
       "      <td>9</td>\n",
       "      <td>41.682311</td>\n",
       "      <td>-87.645861</td>\n",
       "      <td>2015-09-07 14:00:00</td>\n",
       "      <td>2015-09-07 14:00:00</td>\n",
       "      <td>1</td>\n",
       "      <td>1</td>\n",
       "    </tr>\n",
       "  </tbody>\n",
       "</table>\n",
       "<p>3 rows × 41 columns</p>\n",
       "</div>"
      ],
      "text/plain": [
       "    DATE_REAL  NAME_HOLIDAY  \\\n",
       "0  2014-11-11  Veterans Day   \n",
       "1  2015-09-07     Labor Day   \n",
       "2  2015-09-07     Labor Day   \n",
       "\n",
       "                                     CRASH_RECORD_ID POSTED_SPEED_LIMIT  \\\n",
       "0  b15daae7f809226ff0cfc93865ddcf9ff60edcf4187dc4...                  5   \n",
       "1  0335e90fd6f5f3d1d54bf4113afa1fe5c283b140bfaf6b...                  5   \n",
       "2  03f950b1dbe2177e773fca438b58da82ccfde31f9af265...                  5   \n",
       "\n",
       "  TRAFFIC_CONTROL_DEVICE DEVICE_CONDITION WEATHER_CONDITION  \\\n",
       "0            NO CONTROLS      NO CONTROLS           UNKNOWN   \n",
       "1            NO CONTROLS      NO CONTROLS             CLEAR   \n",
       "2            NO CONTROLS      NO CONTROLS             CLEAR   \n",
       "\n",
       "  LIGHTING_CONDITION          FIRST_CRASH_TYPE  \\\n",
       "0            UNKNOWN      PARKED MOTOR VEHICLE   \n",
       "1           DAYLIGHT  SIDESWIPE SAME DIRECTION   \n",
       "2           DAYLIGHT      PARKED MOTOR VEHICLE   \n",
       "\n",
       "                   TRAFFICWAY_TYPE  ... INJURIES_UNKNOWN CRASH_HOUR  \\\n",
       "0  DIVIDED - W/MEDIAN (NOT RAISED)  ...              0.0          3   \n",
       "1                          ONE-WAY  ...              0.0          2   \n",
       "2                          ONE-WAY  ...              0.0          2   \n",
       "\n",
       "  CRASH_DAY_OF_WEEK CRASH_MONTH   LATITUDE  LONGITUDE       DATE_ACCIDENT  \\\n",
       "0                 3          11  41.998270 -87.662997 2014-11-11 20:00:00   \n",
       "1                 2           9  41.888470 -87.629413 2015-09-07 16:45:00   \n",
       "2                 2           9  41.682311 -87.645861 2015-09-07 14:00:00   \n",
       "\n",
       "          DATE_NOHOUR IS_A_HOLIDAY  HOLIDAY_NAME  \n",
       "0 2014-11-11 20:00:00            1             1  \n",
       "1 2015-09-07 16:45:00            1             1  \n",
       "2 2015-09-07 14:00:00            1             1  \n",
       "\n",
       "[3 rows x 41 columns]"
      ]
     },
     "execution_count": 161,
     "metadata": {},
     "output_type": "execute_result"
    }
   ],
   "source": [
    "final_holidays.head(3)"
   ]
  },
  {
   "cell_type": "code",
   "execution_count": 196,
   "metadata": {},
   "outputs": [],
   "source": [
    "df = inner_merged_total.sort_values(by=['MOST_SEVERE_INJURY'], ascending=False)"
   ]
  },
  {
   "cell_type": "code",
   "execution_count": 197,
   "metadata": {},
   "outputs": [
    {
     "data": {
      "text/plain": [
       "NO INDICATION OF INJURY        864359\n",
       "NONINCAPACITATING INJURY       137131\n",
       "INCAPACITATING INJURY/FATAL     18952\n",
       "Name: MOST_SEVERE_INJURY, dtype: int64"
      ]
     },
     "execution_count": 197,
     "metadata": {},
     "output_type": "execute_result"
    }
   ],
   "source": [
    "df['MOST_SEVERE_INJURY'].value_counts()"
   ]
  },
  {
   "cell_type": "code",
   "execution_count": 198,
   "metadata": {
    "scrolled": true
   },
   "outputs": [
    {
     "data": {
      "text/plain": [
       "271515       NONINCAPACITATING INJURY\n",
       "799590       NONINCAPACITATING INJURY\n",
       "253194       NONINCAPACITATING INJURY\n",
       "253195       NONINCAPACITATING INJURY\n",
       "253196       NONINCAPACITATING INJURY\n",
       "                     ...             \n",
       "747095    INCAPACITATING INJURY/FATAL\n",
       "506748    INCAPACITATING INJURY/FATAL\n",
       "506747    INCAPACITATING INJURY/FATAL\n",
       "747094    INCAPACITATING INJURY/FATAL\n",
       "510221    INCAPACITATING INJURY/FATAL\n",
       "Name: MOST_SEVERE_INJURY, Length: 1020442, dtype: object"
      ]
     },
     "execution_count": 198,
     "metadata": {},
     "output_type": "execute_result"
    }
   ],
   "source": [
    "df['MOST_SEVERE_INJURY']"
   ]
  },
  {
   "cell_type": "code",
   "execution_count": 178,
   "metadata": {},
   "outputs": [
    {
     "data": {
      "text/plain": [
       "(452176, 39)"
      ]
     },
     "execution_count": 178,
     "metadata": {},
     "output_type": "execute_result"
    }
   ],
   "source": [
    "df.shape"
   ]
  },
  {
   "cell_type": "code",
   "execution_count": 199,
   "metadata": {},
   "outputs": [],
   "source": [
    "df = df[118131:]"
   ]
  },
  {
   "cell_type": "code",
   "execution_count": 200,
   "metadata": {},
   "outputs": [],
   "source": [
    "df['MOST_SEVERE_INJURY'] = np.where(df['MOST_SEVERE_INJURY']=='NO INDICATION OF INJURY',\n",
    "                                         'aNO INDICATION OF INJURY', df['MOST_SEVERE_INJURY'])"
   ]
  },
  {
   "cell_type": "code",
   "execution_count": 201,
   "metadata": {},
   "outputs": [
    {
     "data": {
      "text/plain": [
       "aNO INDICATION OF INJURY       864359\n",
       "NONINCAPACITATING INJURY        19000\n",
       "INCAPACITATING INJURY/FATAL     18952\n",
       "Name: MOST_SEVERE_INJURY, dtype: int64"
      ]
     },
     "execution_count": 201,
     "metadata": {},
     "output_type": "execute_result"
    }
   ],
   "source": [
    "df['MOST_SEVERE_INJURY'].value_counts()"
   ]
  },
  {
   "cell_type": "code",
   "execution_count": 202,
   "metadata": {},
   "outputs": [],
   "source": [
    "df = df.sort_values(by=['MOST_SEVERE_INJURY'], ascending=False)"
   ]
  },
  {
   "cell_type": "code",
   "execution_count": 203,
   "metadata": {},
   "outputs": [
    {
     "data": {
      "text/plain": [
       "203997       aNO INDICATION OF INJURY\n",
       "17205        aNO INDICATION OF INJURY\n",
       "17193        aNO INDICATION OF INJURY\n",
       "17180        aNO INDICATION OF INJURY\n",
       "17181        aNO INDICATION OF INJURY\n",
       "                     ...             \n",
       "320703    INCAPACITATING INJURY/FATAL\n",
       "108314    INCAPACITATING INJURY/FATAL\n",
       "815407    INCAPACITATING INJURY/FATAL\n",
       "815408    INCAPACITATING INJURY/FATAL\n",
       "510221    INCAPACITATING INJURY/FATAL\n",
       "Name: MOST_SEVERE_INJURY, Length: 902311, dtype: object"
      ]
     },
     "execution_count": 203,
     "metadata": {},
     "output_type": "execute_result"
    }
   ],
   "source": [
    "df['MOST_SEVERE_INJURY']"
   ]
  },
  {
   "cell_type": "code",
   "execution_count": 204,
   "metadata": {},
   "outputs": [],
   "source": [
    "df = df[845359:]"
   ]
  },
  {
   "cell_type": "code",
   "execution_count": 205,
   "metadata": {},
   "outputs": [
    {
     "data": {
      "text/plain": [
       "aNO INDICATION OF INJURY       19000\n",
       "NONINCAPACITATING INJURY       19000\n",
       "INCAPACITATING INJURY/FATAL    18952\n",
       "Name: MOST_SEVERE_INJURY, dtype: int64"
      ]
     },
     "execution_count": 205,
     "metadata": {},
     "output_type": "execute_result"
    }
   ],
   "source": [
    "df['MOST_SEVERE_INJURY'].value_counts()"
   ]
  },
  {
   "cell_type": "code",
   "execution_count": 206,
   "metadata": {},
   "outputs": [],
   "source": [
    "df['MOST_SEVERE_INJURY'] = np.where(df['MOST_SEVERE_INJURY']=='aNO INDICATION OF INJURY',\n",
    "                                         'NO INDICATION OF INJURY', df['MOST_SEVERE_INJURY'])"
   ]
  },
  {
   "cell_type": "code",
   "execution_count": 207,
   "metadata": {},
   "outputs": [
    {
     "data": {
      "text/plain": [
       "0"
      ]
     },
     "execution_count": 207,
     "metadata": {},
     "output_type": "execute_result"
    }
   ],
   "source": [
    "df.isna().sum().sum()"
   ]
  },
  {
   "cell_type": "code",
   "execution_count": 209,
   "metadata": {},
   "outputs": [
    {
     "data": {
      "text/html": [
       "<div>\n",
       "<style scoped>\n",
       "    .dataframe tbody tr th:only-of-type {\n",
       "        vertical-align: middle;\n",
       "    }\n",
       "\n",
       "    .dataframe tbody tr th {\n",
       "        vertical-align: top;\n",
       "    }\n",
       "\n",
       "    .dataframe thead th {\n",
       "        text-align: right;\n",
       "    }\n",
       "</style>\n",
       "<table border=\"1\" class=\"dataframe\">\n",
       "  <thead>\n",
       "    <tr style=\"text-align: right;\">\n",
       "      <th></th>\n",
       "      <th>CRASH_UNIT_ID</th>\n",
       "      <th>CRASH_RECORD_ID</th>\n",
       "      <th>UNIT_NO</th>\n",
       "      <th>UNIT_TYPE</th>\n",
       "      <th>MAKE</th>\n",
       "      <th>MODEL</th>\n",
       "      <th>VEHICLE_YEAR</th>\n",
       "      <th>VEHICLE_DEFECT</th>\n",
       "      <th>VEHICLE_TYPE</th>\n",
       "      <th>VEHICLE_USE</th>\n",
       "      <th>...</th>\n",
       "      <th>SEX</th>\n",
       "      <th>AGE</th>\n",
       "      <th>SAFETY_EQUIPMENT</th>\n",
       "      <th>AIRBAG_DEPLOYED</th>\n",
       "      <th>EJECTION</th>\n",
       "      <th>INJURY_CLASSIFICATION</th>\n",
       "      <th>DRIVER_ACTION</th>\n",
       "      <th>DRIVER_VISION</th>\n",
       "      <th>PHYSICAL_CONDITION</th>\n",
       "      <th>BAC_RESULT</th>\n",
       "    </tr>\n",
       "  </thead>\n",
       "  <tbody>\n",
       "    <tr>\n",
       "      <th>915909</th>\n",
       "      <td>792811</td>\n",
       "      <td>5ea48c577199355af854c24b15801ffbab4225ab0c5a3d...</td>\n",
       "      <td>2</td>\n",
       "      <td>DRIVER</td>\n",
       "      <td>FORD</td>\n",
       "      <td>TAURUS</td>\n",
       "      <td>2013.0</td>\n",
       "      <td>UNKNOWN</td>\n",
       "      <td>PASSENGER</td>\n",
       "      <td>PERSONAL</td>\n",
       "      <td>...</td>\n",
       "      <td>F</td>\n",
       "      <td>60.0</td>\n",
       "      <td>USAGE UNKNOWN</td>\n",
       "      <td>DID NOT DEPLOY</td>\n",
       "      <td>NONE</td>\n",
       "      <td>NO INDICATION OF INJURY</td>\n",
       "      <td>UNKNOWN</td>\n",
       "      <td>UNKNOWN</td>\n",
       "      <td>UNKNOWN</td>\n",
       "      <td>TEST NOT OFFERED</td>\n",
       "    </tr>\n",
       "    <tr>\n",
       "      <th>933899</th>\n",
       "      <td>809434</td>\n",
       "      <td>d40dfc549fbe7322fc518e2663056326ce56b3fd0e8ef5...</td>\n",
       "      <td>2</td>\n",
       "      <td>DRIVER</td>\n",
       "      <td>FORD</td>\n",
       "      <td>Focus</td>\n",
       "      <td>2013.0</td>\n",
       "      <td>NONE</td>\n",
       "      <td>PASSENGER</td>\n",
       "      <td>PERSONAL</td>\n",
       "      <td>...</td>\n",
       "      <td>M</td>\n",
       "      <td>47.0</td>\n",
       "      <td>SAFETY BELT USED</td>\n",
       "      <td>DID NOT DEPLOY</td>\n",
       "      <td>NONE</td>\n",
       "      <td>NO INDICATION OF INJURY</td>\n",
       "      <td>FOLLOWED TOO CLOSELY</td>\n",
       "      <td>UNKNOWN</td>\n",
       "      <td>NORMAL</td>\n",
       "      <td>TEST NOT OFFERED</td>\n",
       "    </tr>\n",
       "    <tr>\n",
       "      <th>933939</th>\n",
       "      <td>809479</td>\n",
       "      <td>1d69a100333f07cea11211024e928317060efba3493f59...</td>\n",
       "      <td>1</td>\n",
       "      <td>DRIVER</td>\n",
       "      <td>NISSAN</td>\n",
       "      <td>SENTRA (DATSUN AND NISSAN HAVE MERGED)</td>\n",
       "      <td>2009.0</td>\n",
       "      <td>UNKNOWN</td>\n",
       "      <td>PASSENGER</td>\n",
       "      <td>PERSONAL</td>\n",
       "      <td>...</td>\n",
       "      <td>M</td>\n",
       "      <td>26.0</td>\n",
       "      <td>SAFETY BELT USED</td>\n",
       "      <td>DID NOT DEPLOY</td>\n",
       "      <td>NONE</td>\n",
       "      <td>NO INDICATION OF INJURY</td>\n",
       "      <td>OTHER</td>\n",
       "      <td>NOT OBSCURED</td>\n",
       "      <td>NORMAL</td>\n",
       "      <td>TEST NOT OFFERED</td>\n",
       "    </tr>\n",
       "  </tbody>\n",
       "</table>\n",
       "<p>3 rows × 69 columns</p>\n",
       "</div>"
      ],
      "text/plain": [
       "        CRASH_UNIT_ID                                    CRASH_RECORD_ID  \\\n",
       "915909         792811  5ea48c577199355af854c24b15801ffbab4225ab0c5a3d...   \n",
       "933899         809434  d40dfc549fbe7322fc518e2663056326ce56b3fd0e8ef5...   \n",
       "933939         809479  1d69a100333f07cea11211024e928317060efba3493f59...   \n",
       "\n",
       "        UNIT_NO UNIT_TYPE    MAKE                                   MODEL  \\\n",
       "915909        2    DRIVER    FORD                                  TAURUS   \n",
       "933899        2    DRIVER    FORD                                   Focus   \n",
       "933939        1    DRIVER  NISSAN  SENTRA (DATSUN AND NISSAN HAVE MERGED)   \n",
       "\n",
       "        VEHICLE_YEAR VEHICLE_DEFECT VEHICLE_TYPE VEHICLE_USE  ... SEX   AGE  \\\n",
       "915909        2013.0        UNKNOWN    PASSENGER    PERSONAL  ...   F  60.0   \n",
       "933899        2013.0           NONE    PASSENGER    PERSONAL  ...   M  47.0   \n",
       "933939        2009.0        UNKNOWN    PASSENGER    PERSONAL  ...   M  26.0   \n",
       "\n",
       "        SAFETY_EQUIPMENT AIRBAG_DEPLOYED EJECTION    INJURY_CLASSIFICATION  \\\n",
       "915909     USAGE UNKNOWN  DID NOT DEPLOY     NONE  NO INDICATION OF INJURY   \n",
       "933899  SAFETY BELT USED  DID NOT DEPLOY     NONE  NO INDICATION OF INJURY   \n",
       "933939  SAFETY BELT USED  DID NOT DEPLOY     NONE  NO INDICATION OF INJURY   \n",
       "\n",
       "               DRIVER_ACTION DRIVER_VISION PHYSICAL_CONDITION  \\\n",
       "915909               UNKNOWN       UNKNOWN            UNKNOWN   \n",
       "933899  FOLLOWED TOO CLOSELY       UNKNOWN             NORMAL   \n",
       "933939                 OTHER  NOT OBSCURED             NORMAL   \n",
       "\n",
       "              BAC_RESULT  \n",
       "915909  TEST NOT OFFERED  \n",
       "933899  TEST NOT OFFERED  \n",
       "933939  TEST NOT OFFERED  \n",
       "\n",
       "[3 rows x 69 columns]"
      ]
     },
     "execution_count": 209,
     "metadata": {},
     "output_type": "execute_result"
    }
   ],
   "source": [
    "df.head(3)"
   ]
  },
  {
   "cell_type": "code",
   "execution_count": null,
   "metadata": {},
   "outputs": [],
   "source": []
  }
 ],
 "metadata": {
  "kernelspec": {
   "display_name": "learn-env",
   "language": "python",
   "name": "learn-env"
  },
  "language_info": {
   "codemirror_mode": {
    "name": "ipython",
    "version": 3
   },
   "file_extension": ".py",
   "mimetype": "text/x-python",
   "name": "python",
   "nbconvert_exporter": "python",
   "pygments_lexer": "ipython3",
   "version": "3.8.5"
  }
 },
 "nbformat": 4,
 "nbformat_minor": 4
}
