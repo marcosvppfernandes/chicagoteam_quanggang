{
 "cells": [
  {
   "cell_type": "markdown",
   "metadata": {},
   "source": [
    "# Exploratory Data Analysis and Data Cleaning"
   ]
  },
  {
   "cell_type": "code",
   "execution_count": 2,
   "metadata": {},
   "outputs": [],
   "source": [
    "import pandas as pd\n",
    "import numpy as np\n",
    "import matplotlib.pyplot as plt\n",
    "import seaborn as sns\n",
    "import numpy as np\n",
    "from datetime import datetime\n",
    "from dateutil import parser\n",
    "from sklearn.model_selection import train_test_split\n",
    "from pandas.tseries.holiday import USFederalHolidayCalendar as calendar\n",
    "from sklearn.linear_model import LogisticRegression\n",
    "from sklearn.preprocessing import OneHotEncoder\n",
    "from sklearn.ensemble import RandomForestClassifier\n",
    "from sklearn.metrics import f1_score\n",
    "from sklearn.metrics import recall_score\n",
    "\n",
    "%matplotlib inline\n",
    "sns.set()"
   ]
  },
  {
   "cell_type": "code",
   "execution_count": 3,
   "metadata": {},
   "outputs": [],
   "source": [
    "crashes = pd.read_csv('traffic_crashes_chicago.csv')"
   ]
  },
  {
   "cell_type": "code",
   "execution_count": 4,
   "metadata": {},
   "outputs": [],
   "source": [
    "# Low_memory=False, because it has mixed types of data in the same column/too many rows\n",
    "people = pd.read_csv('traffic_crashes_people.csv', low_memory=False)"
   ]
  },
  {
   "cell_type": "code",
   "execution_count": 5,
   "metadata": {},
   "outputs": [],
   "source": [
    "vehicles = pd.read_csv('traffic_crashes_vehicles.csv', low_memory=False)"
   ]
  },
  {
   "cell_type": "code",
   "execution_count": 6,
   "metadata": {},
   "outputs": [],
   "source": [
    "def howmanyunique(data):\n",
    "    tempo = []\n",
    "    nombre = []\n",
    "    for x in data.columns:\n",
    "        tempo.append(len(data[x].value_counts().unique()))\n",
    "        nombre.append(x)\n",
    "    print(tempo)\n",
    "    print('')\n",
    "    print(nombre)"
   ]
  },
  {
   "cell_type": "code",
   "execution_count": 7,
   "metadata": {},
   "outputs": [],
   "source": [
    "def howmanynan(data):\n",
    "    print(data.isna().sum())   "
   ]
  },
  {
   "cell_type": "code",
   "execution_count": 8,
   "metadata": {},
   "outputs": [],
   "source": [
    "def rows_w_nan(data):\n",
    "   \n",
    "    temp = []\n",
    "    for x in data.columns:\n",
    "        if data[x].isna().sum() > 0:\n",
    "            percentage_of_data = data[x].isna().sum()/(list(data.shape)[0])\n",
    "            print(\"Row: {} : is made {}% of NaN Values.\".format(x, percentage_of_data.round(3)))\n",
    "            if percentage_of_data > 0.3:\n",
    "                temp.append(x)\n",
    "    print(temp)"
   ]
  },
  {
   "cell_type": "code",
   "execution_count": 9,
   "metadata": {},
   "outputs": [],
   "source": [
    "def howmanyduplicates(data):\n",
    "    print(data.duplicated().sum())"
   ]
  },
  {
   "cell_type": "code",
   "execution_count": 10,
   "metadata": {},
   "outputs": [],
   "source": [
    "def rows_w_nan1(data):\n",
    "   \n",
    "    for x in data.columns:\n",
    "        print(x)"
   ]
  },
  {
   "cell_type": "markdown",
   "metadata": {},
   "source": [
    "# Crashes Data Set"
   ]
  },
  {
   "cell_type": "code",
   "execution_count": 11,
   "metadata": {},
   "outputs": [
    {
     "data": {
      "text/plain": [
       "(482866, 49)"
      ]
     },
     "execution_count": 11,
     "metadata": {},
     "output_type": "execute_result"
    }
   ],
   "source": [
    "crashes.shape"
   ]
  },
  {
   "cell_type": "code",
   "execution_count": 12,
   "metadata": {
    "scrolled": false
   },
   "outputs": [
    {
     "name": "stdout",
     "output_type": "stream",
     "text": [
      "[1, 1, 2, 21, 28, 19, 8, 12, 6, 18, 20, 22, 6, 7, 7, 3, 2, 2, 2, 2, 3, 12, 40, 40, 424, 4, 488, 254, 2, 2, 2, 2, 4, 2, 13, 5, 14, 5, 8, 14, 12, 24, 1, 24, 7, 12, 138, 138, 138]\n",
      "\n",
      "['CRASH_RECORD_ID', 'RD_NO', 'CRASH_DATE_EST_I', 'CRASH_DATE', 'POSTED_SPEED_LIMIT', 'TRAFFIC_CONTROL_DEVICE', 'DEVICE_CONDITION', 'WEATHER_CONDITION', 'LIGHTING_CONDITION', 'FIRST_CRASH_TYPE', 'TRAFFICWAY_TYPE', 'LANE_CNT', 'ALIGNMENT', 'ROADWAY_SURFACE_COND', 'ROAD_DEFECT', 'REPORT_TYPE', 'CRASH_TYPE', 'INTERSECTION_RELATED_I', 'NOT_RIGHT_OF_WAY_I', 'HIT_AND_RUN_I', 'DAMAGE', 'DATE_POLICE_NOTIFIED', 'PRIM_CONTRIBUTORY_CAUSE', 'SEC_CONTRIBUTORY_CAUSE', 'STREET_NO', 'STREET_DIRECTION', 'STREET_NAME', 'BEAT_OF_OCCURRENCE', 'PHOTOS_TAKEN_I', 'STATEMENTS_TAKEN_I', 'DOORING_I', 'WORK_ZONE_I', 'WORK_ZONE_TYPE', 'WORKERS_PRESENT_I', 'NUM_UNITS', 'MOST_SEVERE_INJURY', 'INJURIES_TOTAL', 'INJURIES_FATAL', 'INJURIES_INCAPACITATING', 'INJURIES_NON_INCAPACITATING', 'INJURIES_REPORTED_NOT_EVIDENT', 'INJURIES_NO_INDICATION', 'INJURIES_UNKNOWN', 'CRASH_HOUR', 'CRASH_DAY_OF_WEEK', 'CRASH_MONTH', 'LATITUDE', 'LONGITUDE', 'LOCATION']\n"
     ]
    }
   ],
   "source": [
    "howmanyunique(crashes)"
   ]
  },
  {
   "cell_type": "code",
   "execution_count": 13,
   "metadata": {},
   "outputs": [
    {
     "name": "stdout",
     "output_type": "stream",
     "text": [
      "0\n"
     ]
    }
   ],
   "source": [
    "howmanyduplicates(crashes)"
   ]
  },
  {
   "cell_type": "code",
   "execution_count": 14,
   "metadata": {},
   "outputs": [
    {
     "name": "stdout",
     "output_type": "stream",
     "text": [
      "Row: RD_NO : is made 0.008% of NaN Values.\n",
      "Row: CRASH_DATE_EST_I : is made 0.925% of NaN Values.\n",
      "Row: LANE_CNT : is made 0.588% of NaN Values.\n",
      "Row: REPORT_TYPE : is made 0.024% of NaN Values.\n",
      "Row: INTERSECTION_RELATED_I : is made 0.774% of NaN Values.\n",
      "Row: NOT_RIGHT_OF_WAY_I : is made 0.953% of NaN Values.\n",
      "Row: HIT_AND_RUN_I : is made 0.706% of NaN Values.\n",
      "Row: STREET_DIRECTION : is made 0.0% of NaN Values.\n",
      "Row: STREET_NAME : is made 0.0% of NaN Values.\n",
      "Row: BEAT_OF_OCCURRENCE : is made 0.0% of NaN Values.\n",
      "Row: PHOTOS_TAKEN_I : is made 0.987% of NaN Values.\n",
      "Row: STATEMENTS_TAKEN_I : is made 0.98% of NaN Values.\n",
      "Row: DOORING_I : is made 0.997% of NaN Values.\n",
      "Row: WORK_ZONE_I : is made 0.994% of NaN Values.\n",
      "Row: WORK_ZONE_TYPE : is made 0.995% of NaN Values.\n",
      "Row: WORKERS_PRESENT_I : is made 0.998% of NaN Values.\n",
      "Row: MOST_SEVERE_INJURY : is made 0.002% of NaN Values.\n",
      "Row: INJURIES_TOTAL : is made 0.002% of NaN Values.\n",
      "Row: INJURIES_FATAL : is made 0.002% of NaN Values.\n",
      "Row: INJURIES_INCAPACITATING : is made 0.002% of NaN Values.\n",
      "Row: INJURIES_NON_INCAPACITATING : is made 0.002% of NaN Values.\n",
      "Row: INJURIES_REPORTED_NOT_EVIDENT : is made 0.002% of NaN Values.\n",
      "Row: INJURIES_NO_INDICATION : is made 0.002% of NaN Values.\n",
      "Row: INJURIES_UNKNOWN : is made 0.002% of NaN Values.\n",
      "Row: LATITUDE : is made 0.006% of NaN Values.\n",
      "Row: LONGITUDE : is made 0.006% of NaN Values.\n",
      "Row: LOCATION : is made 0.006% of NaN Values.\n",
      "['CRASH_DATE_EST_I', 'LANE_CNT', 'INTERSECTION_RELATED_I', 'NOT_RIGHT_OF_WAY_I', 'HIT_AND_RUN_I', 'PHOTOS_TAKEN_I', 'STATEMENTS_TAKEN_I', 'DOORING_I', 'WORK_ZONE_I', 'WORK_ZONE_TYPE', 'WORKERS_PRESENT_I']\n"
     ]
    }
   ],
   "source": [
    "rows_w_nan(crashes)"
   ]
  },
  {
   "cell_type": "code",
   "execution_count": 15,
   "metadata": {},
   "outputs": [],
   "source": [
    "# We are going to drop all the columns with a lot of of NaN values, except for location that we can say right ahead that is\n",
    "# a multicolinearity case, since it has the Latiutude and Longitude together\n",
    "crashes = crashes.drop(columns=['CRASH_DATE_EST_I', 'LANE_CNT', 'INTERSECTION_RELATED_I',\n",
    "                                'NOT_RIGHT_OF_WAY_I', 'HIT_AND_RUN_I', 'PHOTOS_TAKEN_I', \n",
    "                                'STATEMENTS_TAKEN_I', 'DOORING_I', 'WORK_ZONE_I', 'WORK_ZONE_TYPE',\n",
    "                                'WORKERS_PRESENT_I', 'LOCATION'])"
   ]
  },
  {
   "cell_type": "markdown",
   "metadata": {},
   "source": [
    "### Data Manipulation with Missing Values (NaN)"
   ]
  },
  {
   "cell_type": "markdown",
   "metadata": {},
   "source": [
    "> **RD_NO**"
   ]
  },
  {
   "cell_type": "markdown",
   "metadata": {},
   "source": [
    "So we can see here that RD_NO and REPORT_TYPE still have a lot of missing data and that can be explained by the website, where they say and I quote:\n"
   ]
  },
  {
   "cell_type": "markdown",
   "metadata": {},
   "source": [
    "> \" For privacy reasons, this column is blank for recent crashes.\""
   ]
  },
  {
   "cell_type": "markdown",
   "metadata": {},
   "source": [
    "So since the RD_NO is another way to connect the cases between datasets, we can easily discard the whole column, because we still have CRASH_RECORD_ID, that has no missing values"
   ]
  },
  {
   "cell_type": "markdown",
   "metadata": {},
   "source": [
    "> **REPORT_TYPE**"
   ]
  },
  {
   "cell_type": "code",
   "execution_count": 16,
   "metadata": {},
   "outputs": [
    {
     "data": {
      "text/plain": [
       "NOT ON SCENE (DESK REPORT)    277606\n",
       "ON SCENE                      193274\n",
       "AMENDED                          240\n",
       "Name: REPORT_TYPE, dtype: int64"
      ]
     },
     "execution_count": 16,
     "metadata": {},
     "output_type": "execute_result"
    }
   ],
   "source": [
    "crashes.REPORT_TYPE.value_counts()"
   ]
  },
  {
   "cell_type": "markdown",
   "metadata": {},
   "source": [
    "By checking the REPORT_TYPE column we realize that it doesn't offer any predictive value to our model, but still might use it for the business understanding part."
   ]
  },
  {
   "cell_type": "markdown",
   "metadata": {},
   "source": [
    "> So we decide to drop the RD_NO columns because we have a good substitute and drop the rows where the remaining NaN values are, so we have a cleaner dataset"
   ]
  },
  {
   "cell_type": "code",
   "execution_count": 17,
   "metadata": {},
   "outputs": [],
   "source": [
    "crashes = crashes.drop(columns=['RD_NO'])"
   ]
  },
  {
   "cell_type": "code",
   "execution_count": 18,
   "metadata": {},
   "outputs": [],
   "source": [
    "# Now we can drop the remaining rows with NaN values\n",
    "crashes.dropna(inplace=True)"
   ]
  },
  {
   "cell_type": "code",
   "execution_count": 19,
   "metadata": {},
   "outputs": [
    {
     "data": {
      "text/plain": [
       "0"
      ]
     },
     "execution_count": 19,
     "metadata": {},
     "output_type": "execute_result"
    }
   ],
   "source": [
    "crashes.isna().sum().sum()"
   ]
  },
  {
   "cell_type": "markdown",
   "metadata": {},
   "source": [
    "### Since \"Injuries_Fatal\" is important, let's give some more attention to it"
   ]
  },
  {
   "cell_type": "markdown",
   "metadata": {},
   "source": [
    "We want to transform the column into a Yes or No kind of answer instead of numbers of deads per accident."
   ]
  },
  {
   "cell_type": "code",
   "execution_count": 20,
   "metadata": {},
   "outputs": [
    {
     "data": {
      "text/plain": [
       "0.0    467170\n",
       "1.0       345\n",
       "2.0        19\n",
       "3.0         5\n",
       "Name: INJURIES_FATAL, dtype: int64"
      ]
     },
     "execution_count": 20,
     "metadata": {},
     "output_type": "execute_result"
    }
   ],
   "source": [
    "crashes.INJURIES_FATAL.value_counts(dropna=False)"
   ]
  },
  {
   "cell_type": "code",
   "execution_count": 21,
   "metadata": {},
   "outputs": [],
   "source": [
    "crashes['INJURIES_FATAL'] = np.where(crashes['INJURIES_FATAL']>0, 1, 0)"
   ]
  },
  {
   "cell_type": "code",
   "execution_count": 22,
   "metadata": {
    "scrolled": false
   },
   "outputs": [
    {
     "data": {
      "text/plain": [
       "0    467170\n",
       "1       369\n",
       "Name: INJURIES_FATAL, dtype: int64"
      ]
     },
     "execution_count": 22,
     "metadata": {},
     "output_type": "execute_result"
    }
   ],
   "source": [
    "crashes.INJURIES_FATAL.value_counts(dropna=False)"
   ]
  },
  {
   "cell_type": "markdown",
   "metadata": {},
   "source": [
    "## Some more data manipulation with useful columns"
   ]
  },
  {
   "cell_type": "markdown",
   "metadata": {},
   "source": [
    "### WEATHER_CONDITION"
   ]
  },
  {
   "cell_type": "code",
   "execution_count": 23,
   "metadata": {
    "scrolled": true
   },
   "outputs": [
    {
     "data": {
      "text/plain": [
       "CLEAR                       368594\n",
       "RAIN                         41291\n",
       "UNKNOWN                      20477\n",
       "SNOW                         19484\n",
       "CLOUDY/OVERCAST              13905\n",
       "OTHER                         1510\n",
       "FOG/SMOKE/HAZE                 797\n",
       "SLEET/HAIL                     692\n",
       "FREEZING RAIN/DRIZZLE          548\n",
       "BLOWING SNOW                   153\n",
       "SEVERE CROSS WIND GATE          86\n",
       "BLOWING SAND, SOIL, DIRT         2\n",
       "Name: WEATHER_CONDITION, dtype: int64"
      ]
     },
     "execution_count": 23,
     "metadata": {},
     "output_type": "execute_result"
    }
   ],
   "source": [
    "crashes.WEATHER_CONDITION.value_counts()"
   ]
  },
  {
   "cell_type": "code",
   "execution_count": 24,
   "metadata": {},
   "outputs": [],
   "source": [
    "crashes.WEATHER_CONDITION = np.where(crashes.WEATHER_CONDITION=='BLOWING SNOW', 'SNOW', crashes.WEATHER_CONDITION)"
   ]
  },
  {
   "cell_type": "code",
   "execution_count": 25,
   "metadata": {},
   "outputs": [],
   "source": [
    "crashes.WEATHER_CONDITION = np.where(crashes.WEATHER_CONDITION=='FREEZING RAIN/DRIZZLE', 'RAIN', crashes.WEATHER_CONDITION)"
   ]
  },
  {
   "cell_type": "code",
   "execution_count": 26,
   "metadata": {},
   "outputs": [],
   "source": [
    "crashes.WEATHER_CONDITION = np.where(crashes.WEATHER_CONDITION=='FOG/SMOKE/HAZE', 'OTHER', crashes.WEATHER_CONDITION)"
   ]
  },
  {
   "cell_type": "code",
   "execution_count": 27,
   "metadata": {},
   "outputs": [],
   "source": [
    "crashes.WEATHER_CONDITION = np.where(crashes.WEATHER_CONDITION=='SLEET/HAIL', 'OTHER', crashes.WEATHER_CONDITION)"
   ]
  },
  {
   "cell_type": "code",
   "execution_count": 28,
   "metadata": {},
   "outputs": [],
   "source": [
    "crashes.WEATHER_CONDITION = np.where(crashes.WEATHER_CONDITION=='BLOWING SAND, SOIL, DIRT', 'OTHER', crashes.WEATHER_CONDITION)"
   ]
  },
  {
   "cell_type": "code",
   "execution_count": 29,
   "metadata": {},
   "outputs": [],
   "source": [
    "crashes.WEATHER_CONDITION = np.where(crashes.WEATHER_CONDITION=='SEVERE CROSS WIND GATE', 'OTHER', crashes.WEATHER_CONDITION)"
   ]
  },
  {
   "cell_type": "code",
   "execution_count": 30,
   "metadata": {
    "scrolled": true
   },
   "outputs": [
    {
     "data": {
      "text/plain": [
       "CLEAR              368594\n",
       "RAIN                41839\n",
       "UNKNOWN             20477\n",
       "SNOW                19637\n",
       "CLOUDY/OVERCAST     13905\n",
       "OTHER                3087\n",
       "Name: WEATHER_CONDITION, dtype: int64"
      ]
     },
     "execution_count": 30,
     "metadata": {},
     "output_type": "execute_result"
    }
   ],
   "source": [
    "crashes.WEATHER_CONDITION.value_counts()"
   ]
  },
  {
   "cell_type": "markdown",
   "metadata": {},
   "source": [
    "### ALIGNMENT"
   ]
  },
  {
   "cell_type": "code",
   "execution_count": 31,
   "metadata": {
    "scrolled": true
   },
   "outputs": [
    {
     "data": {
      "text/plain": [
       "STRAIGHT AND LEVEL       455951\n",
       "STRAIGHT ON GRADE          5759\n",
       "CURVE, LEVEL               3501\n",
       "STRAIGHT ON HILLCREST      1437\n",
       "CURVE ON GRADE              664\n",
       "CURVE ON HILLCREST          227\n",
       "Name: ALIGNMENT, dtype: int64"
      ]
     },
     "execution_count": 31,
     "metadata": {},
     "output_type": "execute_result"
    }
   ],
   "source": [
    "crashes.ALIGNMENT.value_counts()"
   ]
  },
  {
   "cell_type": "markdown",
   "metadata": {},
   "source": [
    "### POSTED_SPEED_LIMIT"
   ]
  },
  {
   "cell_type": "code",
   "execution_count": 32,
   "metadata": {
    "scrolled": true
   },
   "outputs": [
    {
     "data": {
      "text/plain": [
       "30    344750\n",
       "35     32142\n",
       "25     28387\n",
       "20     18069\n",
       "15     16296\n",
       "10      9838\n",
       "0       6609\n",
       "40      4268\n",
       "5       3548\n",
       "45      2685\n",
       "55       360\n",
       "3        113\n",
       "50        94\n",
       "9         89\n",
       "99        66\n",
       "39        50\n",
       "1         33\n",
       "60        24\n",
       "2         19\n",
       "24        16\n",
       "32        14\n",
       "33        10\n",
       "34        10\n",
       "65        10\n",
       "6          7\n",
       "11         5\n",
       "36         5\n",
       "70         3\n",
       "7          2\n",
       "14         2\n",
       "12         2\n",
       "18         2\n",
       "31         2\n",
       "26         2\n",
       "49         1\n",
       "38         1\n",
       "22         1\n",
       "63         1\n",
       "4          1\n",
       "23         1\n",
       "29         1\n",
       "Name: POSTED_SPEED_LIMIT, dtype: int64"
      ]
     },
     "execution_count": 32,
     "metadata": {},
     "output_type": "execute_result"
    }
   ],
   "source": [
    "# Bining Posted_Speed_Limit\n",
    "crashes.POSTED_SPEED_LIMIT.value_counts()"
   ]
  },
  {
   "cell_type": "code",
   "execution_count": 33,
   "metadata": {
    "scrolled": true
   },
   "outputs": [],
   "source": [
    "# Let's bin the speed limit in 9 groups, the last one being 45 miles/hour or above\n",
    "crashes.POSTED_SPEED_LIMIT = pd.cut(crashes.POSTED_SPEED_LIMIT,[0, 5, 10, 15, 20, 25, 30, 35, 40, 45],\n",
    "                                    precision=0, labels=[0, 1, 2, 3, 4, 5, 6, 7, 8])"
   ]
  },
  {
   "cell_type": "code",
   "execution_count": 34,
   "metadata": {
    "scrolled": true
   },
   "outputs": [],
   "source": [
    "# crashes.POSTED_SPEED_LIMIT.value_counts()"
   ]
  },
  {
   "cell_type": "code",
   "execution_count": 35,
   "metadata": {
    "scrolled": true
   },
   "outputs": [],
   "source": [
    "# howmanyunique(crashes)"
   ]
  },
  {
   "cell_type": "code",
   "execution_count": 36,
   "metadata": {},
   "outputs": [
    {
     "data": {
      "text/plain": [
       "OVER $1,500      269655\n",
       "$501 - $1,500    137408\n",
       "$500 OR LESS      60476\n",
       "Name: DAMAGE, dtype: int64"
      ]
     },
     "execution_count": 36,
     "metadata": {},
     "output_type": "execute_result"
    }
   ],
   "source": [
    "crashes.DAMAGE.value_counts()"
   ]
  },
  {
   "cell_type": "code",
   "execution_count": 37,
   "metadata": {},
   "outputs": [
    {
     "data": {
      "text/plain": [
       "6    75975\n",
       "7    68977\n",
       "3    67341\n",
       "5    67141\n",
       "4    66813\n",
       "2    64997\n",
       "1    56295\n",
       "Name: CRASH_DAY_OF_WEEK, dtype: int64"
      ]
     },
     "execution_count": 37,
     "metadata": {},
     "output_type": "execute_result"
    }
   ],
   "source": [
    "crashes.CRASH_DAY_OF_WEEK.value_counts()"
   ]
  },
  {
   "cell_type": "code",
   "execution_count": 38,
   "metadata": {
    "scrolled": true
   },
   "outputs": [
    {
     "data": {
      "text/plain": [
       "10    45053\n",
       "12    42845\n",
       "9     41972\n",
       "11    41620\n",
       "8     40634\n",
       "1     40077\n",
       "2     40014\n",
       "7     38888\n",
       "6     36792\n",
       "5     35784\n",
       "3     33395\n",
       "4     30465\n",
       "Name: CRASH_MONTH, dtype: int64"
      ]
     },
     "execution_count": 38,
     "metadata": {},
     "output_type": "execute_result"
    }
   ],
   "source": [
    "crashes.CRASH_MONTH.value_counts()"
   ]
  },
  {
   "cell_type": "code",
   "execution_count": 39,
   "metadata": {
    "scrolled": false
   },
   "outputs": [
    {
     "data": {
      "text/plain": [
       "16    35788\n",
       "15    35637\n",
       "17    35296\n",
       "14    31770\n",
       "18    29204\n",
       "13    28926\n",
       "12    27848\n",
       "8     25089\n",
       "11    24143\n",
       "9     22048\n",
       "10    21655\n",
       "19    21287\n",
       "7     20250\n",
       "20    16826\n",
       "21    14947\n",
       "22    13739\n",
       "23    11522\n",
       "6     10530\n",
       "0      9382\n",
       "1      7813\n",
       "2      6783\n",
       "5      6369\n",
       "3      5561\n",
       "4      5126\n",
       "Name: CRASH_HOUR, dtype: int64"
      ]
     },
     "execution_count": 39,
     "metadata": {},
     "output_type": "execute_result"
    }
   ],
   "source": [
    "crashes.CRASH_HOUR.value_counts()"
   ]
  },
  {
   "cell_type": "code",
   "execution_count": 40,
   "metadata": {},
   "outputs": [],
   "source": [
    "# crashes.CRASH_HOUR = pd.cut(crashes.CRASH_HOUR,[0, 6, 12, 18, 24],\n",
    "#                                     precision=0, labels=[0, 1, 2, 3])"
   ]
  },
  {
   "cell_type": "code",
   "execution_count": 41,
   "metadata": {
    "scrolled": true
   },
   "outputs": [
    {
     "data": {
      "text/plain": [
       "16    35788\n",
       "15    35637\n",
       "17    35296\n",
       "14    31770\n",
       "18    29204\n",
       "13    28926\n",
       "12    27848\n",
       "8     25089\n",
       "11    24143\n",
       "9     22048\n",
       "10    21655\n",
       "19    21287\n",
       "7     20250\n",
       "20    16826\n",
       "21    14947\n",
       "22    13739\n",
       "23    11522\n",
       "6     10530\n",
       "0      9382\n",
       "1      7813\n",
       "2      6783\n",
       "5      6369\n",
       "3      5561\n",
       "4      5126\n",
       "Name: CRASH_HOUR, dtype: int64"
      ]
     },
     "execution_count": 41,
     "metadata": {},
     "output_type": "execute_result"
    }
   ],
   "source": [
    "crashes.CRASH_HOUR.value_counts()"
   ]
  },
  {
   "cell_type": "code",
   "execution_count": 42,
   "metadata": {
    "scrolled": true
   },
   "outputs": [
    {
     "data": {
      "text/plain": [
       "DRY                347220\n",
       "WET                 64424\n",
       "UNKNOWN             31103\n",
       "SNOW OR SLUSH       19652\n",
       "ICE                  3809\n",
       "OTHER                1121\n",
       "SAND, MUD, DIRT       210\n",
       "Name: ROADWAY_SURFACE_COND, dtype: int64"
      ]
     },
     "execution_count": 42,
     "metadata": {},
     "output_type": "execute_result"
    }
   ],
   "source": [
    "crashes.ROADWAY_SURFACE_COND.value_counts()"
   ]
  },
  {
   "cell_type": "code",
   "execution_count": 43,
   "metadata": {
    "scrolled": false
   },
   "outputs": [
    {
     "data": {
      "text/plain": [
       "NOT DIVIDED                        209149\n",
       "DIVIDED - W/MEDIAN (NOT RAISED)     82824\n",
       "ONE-WAY                             61863\n",
       "PARKING LOT                         33176\n",
       "DIVIDED - W/MEDIAN BARRIER          27706\n",
       "FOUR WAY                            14558\n",
       "OTHER                               13135\n",
       "ALLEY                                7710\n",
       "UNKNOWN                              5102\n",
       "CENTER TURN LANE                     3988\n",
       "T-INTERSECTION                       3092\n",
       "DRIVEWAY                             1619\n",
       "RAMP                                 1440\n",
       "UNKNOWN INTERSECTION TYPE             904\n",
       "FIVE POINT, OR MORE                   369\n",
       "Y-INTERSECTION                        369\n",
       "TRAFFIC ROUTE                         270\n",
       "NOT REPORTED                          118\n",
       "ROUNDABOUT                             94\n",
       "L-INTERSECTION                         53\n",
       "Name: TRAFFICWAY_TYPE, dtype: int64"
      ]
     },
     "execution_count": 43,
     "metadata": {},
     "output_type": "execute_result"
    }
   ],
   "source": [
    "crashes.TRAFFICWAY_TYPE.value_counts()"
   ]
  },
  {
   "cell_type": "code",
   "execution_count": 44,
   "metadata": {},
   "outputs": [
    {
     "data": {
      "text/plain": [
       "NO INDICATION OF INJURY     408734\n",
       "NONINCAPACITATING INJURY     32585\n",
       "REPORTED, NOT EVIDENT        18484\n",
       "INCAPACITATING INJURY         7367\n",
       "FATAL                          369\n",
       "Name: MOST_SEVERE_INJURY, dtype: int64"
      ]
     },
     "execution_count": 44,
     "metadata": {},
     "output_type": "execute_result"
    }
   ],
   "source": [
    "crashes.MOST_SEVERE_INJURY.value_counts()"
   ]
  },
  {
   "cell_type": "code",
   "execution_count": 45,
   "metadata": {},
   "outputs": [],
   "source": [
    "crashes['MOST_SEVERE_INJURY'] = np.where(crashes['MOST_SEVERE_INJURY']=='REPORTED, NOT EVIDENT',\n",
    "                                         'NONINCAPACITATING INJURY', crashes['MOST_SEVERE_INJURY'])"
   ]
  },
  {
   "cell_type": "code",
   "execution_count": 46,
   "metadata": {},
   "outputs": [],
   "source": [
    "crashes['MOST_SEVERE_INJURY'] = np.where(crashes['MOST_SEVERE_INJURY']=='FATAL',\n",
    "                                         'INCAPACITATING INJURY', crashes['MOST_SEVERE_INJURY'])"
   ]
  },
  {
   "cell_type": "code",
   "execution_count": 47,
   "metadata": {},
   "outputs": [],
   "source": [
    "crashes['MOST_SEVERE_INJURY'] = np.where(crashes['MOST_SEVERE_INJURY']=='INCAPACITATING INJURY',\n",
    "                                         'INCAPACITATING INJURY/FATAL', crashes['MOST_SEVERE_INJURY'])"
   ]
  },
  {
   "cell_type": "code",
   "execution_count": 48,
   "metadata": {},
   "outputs": [
    {
     "data": {
      "text/plain": [
       "NO INDICATION OF INJURY        408734\n",
       "NONINCAPACITATING INJURY        51069\n",
       "INCAPACITATING INJURY/FATAL      7736\n",
       "Name: MOST_SEVERE_INJURY, dtype: int64"
      ]
     },
     "execution_count": 48,
     "metadata": {},
     "output_type": "execute_result"
    }
   ],
   "source": [
    "crashes.MOST_SEVERE_INJURY.value_counts()"
   ]
  },
  {
   "cell_type": "code",
   "execution_count": 49,
   "metadata": {
    "scrolled": true
   },
   "outputs": [
    {
     "data": {
      "text/plain": [
       "WESTERN AVE          12865\n",
       "PULASKI RD           11213\n",
       "CICERO AVE           10233\n",
       "ASHLAND AVE          10219\n",
       "HALSTED ST            8955\n",
       "                     ...  \n",
       "NEW HAMPSHIRE AVE        1\n",
       "I57 EXPY IB              1\n",
       "ROCHDALE PL              1\n",
       "CALDWELL                 1\n",
       "LASALLE ST               1\n",
       "Name: STREET_NAME, Length: 1520, dtype: int64"
      ]
     },
     "execution_count": 49,
     "metadata": {},
     "output_type": "execute_result"
    }
   ],
   "source": [
    "# We could check to see how long the street is OR\n",
    "# We could create a kind of multi-column based on the other column \"TRAFFICWAY_TYPE\" OR\n",
    "# Just group them together by that same column\n",
    "crashes.STREET_NAME.value_counts()"
   ]
  },
  {
   "cell_type": "code",
   "execution_count": 50,
   "metadata": {
    "scrolled": false
   },
   "outputs": [
    {
     "data": {
      "text/plain": [
       "W    166524\n",
       "S    155240\n",
       "N    113200\n",
       "E     32575\n",
       "Name: STREET_DIRECTION, dtype: int64"
      ]
     },
     "execution_count": 50,
     "metadata": {},
     "output_type": "execute_result"
    }
   ],
   "source": [
    "crashes.STREET_DIRECTION.value_counts()"
   ]
  },
  {
   "cell_type": "markdown",
   "metadata": {},
   "source": [
    "### Working with Date-Time Columns"
   ]
  },
  {
   "cell_type": "markdown",
   "metadata": {},
   "source": [
    "- Can we explore and see if holidays play a part on accidents?"
   ]
  },
  {
   "cell_type": "code",
   "execution_count": 51,
   "metadata": {
    "scrolled": true
   },
   "outputs": [
    {
     "data": {
      "text/plain": [
       "'07/10/2019 05:56:00 PM'"
      ]
     },
     "execution_count": 51,
     "metadata": {},
     "output_type": "execute_result"
    }
   ],
   "source": [
    "# CRASH_DATE is a string\n",
    "crashes['CRASH_DATE'][0]"
   ]
  },
  {
   "cell_type": "code",
   "execution_count": 52,
   "metadata": {
    "scrolled": true
   },
   "outputs": [
    {
     "data": {
      "text/plain": [
       "str"
      ]
     },
     "execution_count": 52,
     "metadata": {},
     "output_type": "execute_result"
    }
   ],
   "source": [
    "# We can check that here\n",
    "type(crashes['CRASH_DATE'][0])"
   ]
  },
  {
   "cell_type": "code",
   "execution_count": 53,
   "metadata": {},
   "outputs": [],
   "source": [
    "# We create a new column Date-Time with the previous column\n",
    "crashes['DATE_ACCIDENT']= pd.to_datetime(crashes['CRASH_DATE'], format='%m/%d/%Y %I:%M:%S %p')"
   ]
  },
  {
   "cell_type": "code",
   "execution_count": 54,
   "metadata": {
    "scrolled": true
   },
   "outputs": [
    {
     "data": {
      "text/plain": [
       "pandas._libs.tslibs.timestamps.Timestamp"
      ]
     },
     "execution_count": 54,
     "metadata": {},
     "output_type": "execute_result"
    }
   ],
   "source": [
    "# We confirm that it worked\n",
    "type(crashes.DATE_ACCIDENT[0])"
   ]
  },
  {
   "cell_type": "code",
   "execution_count": 55,
   "metadata": {},
   "outputs": [
    {
     "name": "stdout",
     "output_type": "stream",
     "text": [
      "Earliest Date: 2013-03-03 16:48:00 \n",
      "Latest Date: 2021-03-04 22:30:00\n"
     ]
    }
   ],
   "source": [
    "# Our earliest and latest date\n",
    "print(\"Earliest Date: {} \\nLatest Date: {}\".format(crashes['DATE_ACCIDENT'].min(), crashes['DATE_ACCIDENT'].max()))"
   ]
  },
  {
   "cell_type": "code",
   "execution_count": 56,
   "metadata": {},
   "outputs": [],
   "source": [
    "holidays = pd.tseries.holiday.USFederalHolidayCalendar().holidays(start='2012', end='2022').to_pydatetime()"
   ]
  },
  {
   "cell_type": "code",
   "execution_count": 57,
   "metadata": {},
   "outputs": [],
   "source": [
    "holidays_date = [holiday.date() for holiday in holidays]\n"
   ]
  },
  {
   "cell_type": "code",
   "execution_count": 58,
   "metadata": {},
   "outputs": [
    {
     "data": {
      "text/plain": [
       "[datetime.date(2012, 1, 2),\n",
       " datetime.date(2012, 1, 16),\n",
       " datetime.date(2012, 2, 20)]"
      ]
     },
     "execution_count": 58,
     "metadata": {},
     "output_type": "execute_result"
    }
   ],
   "source": [
    "holidays_date[:3]"
   ]
  },
  {
   "cell_type": "code",
   "execution_count": 59,
   "metadata": {},
   "outputs": [],
   "source": [
    "def isitaholiday(date):\n",
    "    ''' super useful function'''\n",
    "    if date.date() in holidays_date:\n",
    "        return 1\n",
    "    else: \n",
    "        return 0"
   ]
  },
  {
   "cell_type": "code",
   "execution_count": 60,
   "metadata": {
    "scrolled": false
   },
   "outputs": [
    {
     "data": {
      "text/plain": [
       "0"
      ]
     },
     "execution_count": 60,
     "metadata": {},
     "output_type": "execute_result"
    }
   ],
   "source": [
    "isitaholiday(crashes['DATE_ACCIDENT'][100])"
   ]
  },
  {
   "cell_type": "code",
   "execution_count": 61,
   "metadata": {
    "scrolled": false
   },
   "outputs": [
    {
     "data": {
      "text/plain": [
       "datetime.date(2012, 1, 16)"
      ]
     },
     "execution_count": 61,
     "metadata": {},
     "output_type": "execute_result"
    }
   ],
   "source": [
    "holidays[1].date()"
   ]
  },
  {
   "cell_type": "code",
   "execution_count": 62,
   "metadata": {},
   "outputs": [],
   "source": [
    "crashes['IS_A_HOLIDAY'] = crashes['DATE_ACCIDENT'].apply(isitaholiday)"
   ]
  },
  {
   "cell_type": "code",
   "execution_count": 63,
   "metadata": {},
   "outputs": [],
   "source": [
    "crashes['HOLIDAY_NAME'] = crashes['DATE_ACCIDENT'].apply(isitaholiday)"
   ]
  },
  {
   "cell_type": "code",
   "execution_count": 64,
   "metadata": {
    "scrolled": true
   },
   "outputs": [
    {
     "data": {
      "text/plain": [
       "11062"
      ]
     },
     "execution_count": 64,
     "metadata": {},
     "output_type": "execute_result"
    }
   ],
   "source": [
    "crashes['IS_A_HOLIDAY'].sum()"
   ]
  },
  {
   "cell_type": "code",
   "execution_count": 65,
   "metadata": {},
   "outputs": [
    {
     "data": {
      "text/plain": [
       "datetime.date(2019, 7, 10)"
      ]
     },
     "execution_count": 65,
     "metadata": {},
     "output_type": "execute_result"
    }
   ],
   "source": [
    "crashes['DATE_ACCIDENT'][0].date()"
   ]
  },
  {
   "cell_type": "code",
   "execution_count": 66,
   "metadata": {},
   "outputs": [],
   "source": [
    "crashes.drop(['CRASH_DATE'], axis = 1, inplace = True)"
   ]
  },
  {
   "cell_type": "code",
   "execution_count": 67,
   "metadata": {},
   "outputs": [
    {
     "data": {
      "text/html": [
       "<div>\n",
       "<style scoped>\n",
       "    .dataframe tbody tr th:only-of-type {\n",
       "        vertical-align: middle;\n",
       "    }\n",
       "\n",
       "    .dataframe tbody tr th {\n",
       "        vertical-align: top;\n",
       "    }\n",
       "\n",
       "    .dataframe thead th {\n",
       "        text-align: right;\n",
       "    }\n",
       "</style>\n",
       "<table border=\"1\" class=\"dataframe\">\n",
       "  <thead>\n",
       "    <tr style=\"text-align: right;\">\n",
       "      <th></th>\n",
       "      <th>CRASH_RECORD_ID</th>\n",
       "      <th>POSTED_SPEED_LIMIT</th>\n",
       "      <th>TRAFFIC_CONTROL_DEVICE</th>\n",
       "      <th>DEVICE_CONDITION</th>\n",
       "      <th>WEATHER_CONDITION</th>\n",
       "      <th>LIGHTING_CONDITION</th>\n",
       "      <th>FIRST_CRASH_TYPE</th>\n",
       "      <th>TRAFFICWAY_TYPE</th>\n",
       "      <th>ALIGNMENT</th>\n",
       "      <th>ROADWAY_SURFACE_COND</th>\n",
       "      <th>...</th>\n",
       "      <th>INJURIES_NO_INDICATION</th>\n",
       "      <th>INJURIES_UNKNOWN</th>\n",
       "      <th>CRASH_HOUR</th>\n",
       "      <th>CRASH_DAY_OF_WEEK</th>\n",
       "      <th>CRASH_MONTH</th>\n",
       "      <th>LATITUDE</th>\n",
       "      <th>LONGITUDE</th>\n",
       "      <th>DATE_ACCIDENT</th>\n",
       "      <th>IS_A_HOLIDAY</th>\n",
       "      <th>HOLIDAY_NAME</th>\n",
       "    </tr>\n",
       "  </thead>\n",
       "  <tbody>\n",
       "    <tr>\n",
       "      <th>0</th>\n",
       "      <td>4fd0a3e0897b3335b94cd8d5b2d2b350eb691add56c62d...</td>\n",
       "      <td>35</td>\n",
       "      <td>NO CONTROLS</td>\n",
       "      <td>NO CONTROLS</td>\n",
       "      <td>CLEAR</td>\n",
       "      <td>DAYLIGHT</td>\n",
       "      <td>TURNING</td>\n",
       "      <td>ONE-WAY</td>\n",
       "      <td>STRAIGHT AND LEVEL</td>\n",
       "      <td>DRY</td>\n",
       "      <td>...</td>\n",
       "      <td>3.0</td>\n",
       "      <td>0.0</td>\n",
       "      <td>17</td>\n",
       "      <td>4</td>\n",
       "      <td>7</td>\n",
       "      <td>41.919664</td>\n",
       "      <td>-87.773288</td>\n",
       "      <td>2019-07-10 17:56:00</td>\n",
       "      <td>0</td>\n",
       "      <td>0</td>\n",
       "    </tr>\n",
       "    <tr>\n",
       "      <th>1</th>\n",
       "      <td>009e9e67203442370272e1a13d6ee51a4155dac65e583d...</td>\n",
       "      <td>35</td>\n",
       "      <td>STOP SIGN/FLASHER</td>\n",
       "      <td>FUNCTIONING PROPERLY</td>\n",
       "      <td>CLEAR</td>\n",
       "      <td>DAYLIGHT</td>\n",
       "      <td>TURNING</td>\n",
       "      <td>NOT DIVIDED</td>\n",
       "      <td>STRAIGHT AND LEVEL</td>\n",
       "      <td>DRY</td>\n",
       "      <td>...</td>\n",
       "      <td>3.0</td>\n",
       "      <td>0.0</td>\n",
       "      <td>16</td>\n",
       "      <td>6</td>\n",
       "      <td>6</td>\n",
       "      <td>41.741804</td>\n",
       "      <td>-87.740954</td>\n",
       "      <td>2017-06-30 16:00:00</td>\n",
       "      <td>0</td>\n",
       "      <td>0</td>\n",
       "    </tr>\n",
       "    <tr>\n",
       "      <th>2</th>\n",
       "      <td>ee9283eff3a55ac50ee58f3d9528ce1d689b1c4180b4c4...</td>\n",
       "      <td>30</td>\n",
       "      <td>TRAFFIC SIGNAL</td>\n",
       "      <td>FUNCTIONING PROPERLY</td>\n",
       "      <td>CLEAR</td>\n",
       "      <td>DAYLIGHT</td>\n",
       "      <td>REAR END</td>\n",
       "      <td>FOUR WAY</td>\n",
       "      <td>STRAIGHT AND LEVEL</td>\n",
       "      <td>DRY</td>\n",
       "      <td>...</td>\n",
       "      <td>3.0</td>\n",
       "      <td>0.0</td>\n",
       "      <td>10</td>\n",
       "      <td>6</td>\n",
       "      <td>7</td>\n",
       "      <td>41.773456</td>\n",
       "      <td>-87.585022</td>\n",
       "      <td>2020-07-10 10:25:00</td>\n",
       "      <td>0</td>\n",
       "      <td>0</td>\n",
       "    </tr>\n",
       "  </tbody>\n",
       "</table>\n",
       "<p>3 rows × 38 columns</p>\n",
       "</div>"
      ],
      "text/plain": [
       "                                     CRASH_RECORD_ID  POSTED_SPEED_LIMIT  \\\n",
       "0  4fd0a3e0897b3335b94cd8d5b2d2b350eb691add56c62d...                  35   \n",
       "1  009e9e67203442370272e1a13d6ee51a4155dac65e583d...                  35   \n",
       "2  ee9283eff3a55ac50ee58f3d9528ce1d689b1c4180b4c4...                  30   \n",
       "\n",
       "  TRAFFIC_CONTROL_DEVICE      DEVICE_CONDITION WEATHER_CONDITION  \\\n",
       "0            NO CONTROLS           NO CONTROLS             CLEAR   \n",
       "1      STOP SIGN/FLASHER  FUNCTIONING PROPERLY             CLEAR   \n",
       "2         TRAFFIC SIGNAL  FUNCTIONING PROPERLY             CLEAR   \n",
       "\n",
       "  LIGHTING_CONDITION FIRST_CRASH_TYPE TRAFFICWAY_TYPE           ALIGNMENT  \\\n",
       "0           DAYLIGHT          TURNING         ONE-WAY  STRAIGHT AND LEVEL   \n",
       "1           DAYLIGHT          TURNING     NOT DIVIDED  STRAIGHT AND LEVEL   \n",
       "2           DAYLIGHT         REAR END        FOUR WAY  STRAIGHT AND LEVEL   \n",
       "\n",
       "  ROADWAY_SURFACE_COND  ... INJURIES_NO_INDICATION INJURIES_UNKNOWN  \\\n",
       "0                  DRY  ...                    3.0              0.0   \n",
       "1                  DRY  ...                    3.0              0.0   \n",
       "2                  DRY  ...                    3.0              0.0   \n",
       "\n",
       "  CRASH_HOUR CRASH_DAY_OF_WEEK CRASH_MONTH   LATITUDE  LONGITUDE  \\\n",
       "0         17                 4           7  41.919664 -87.773288   \n",
       "1         16                 6           6  41.741804 -87.740954   \n",
       "2         10                 6           7  41.773456 -87.585022   \n",
       "\n",
       "        DATE_ACCIDENT IS_A_HOLIDAY HOLIDAY_NAME  \n",
       "0 2019-07-10 17:56:00            0            0  \n",
       "1 2017-06-30 16:00:00            0            0  \n",
       "2 2020-07-10 10:25:00            0            0  \n",
       "\n",
       "[3 rows x 38 columns]"
      ]
     },
     "execution_count": 67,
     "metadata": {},
     "output_type": "execute_result"
    }
   ],
   "source": [
    "crashes.head(3)"
   ]
  },
  {
   "cell_type": "code",
   "execution_count": 68,
   "metadata": {},
   "outputs": [],
   "source": [
    "crashes_holiday = crashes[crashes['IS_A_HOLIDAY']==1]"
   ]
  },
  {
   "cell_type": "code",
   "execution_count": 69,
   "metadata": {
    "scrolled": true
   },
   "outputs": [
    {
     "data": {
      "text/html": [
       "<div>\n",
       "<style scoped>\n",
       "    .dataframe tbody tr th:only-of-type {\n",
       "        vertical-align: middle;\n",
       "    }\n",
       "\n",
       "    .dataframe tbody tr th {\n",
       "        vertical-align: top;\n",
       "    }\n",
       "\n",
       "    .dataframe thead th {\n",
       "        text-align: right;\n",
       "    }\n",
       "</style>\n",
       "<table border=\"1\" class=\"dataframe\">\n",
       "  <thead>\n",
       "    <tr style=\"text-align: right;\">\n",
       "      <th></th>\n",
       "      <th>CRASH_RECORD_ID</th>\n",
       "      <th>POSTED_SPEED_LIMIT</th>\n",
       "      <th>TRAFFIC_CONTROL_DEVICE</th>\n",
       "      <th>DEVICE_CONDITION</th>\n",
       "      <th>WEATHER_CONDITION</th>\n",
       "      <th>LIGHTING_CONDITION</th>\n",
       "      <th>FIRST_CRASH_TYPE</th>\n",
       "      <th>TRAFFICWAY_TYPE</th>\n",
       "      <th>ALIGNMENT</th>\n",
       "      <th>ROADWAY_SURFACE_COND</th>\n",
       "      <th>...</th>\n",
       "      <th>INJURIES_NO_INDICATION</th>\n",
       "      <th>INJURIES_UNKNOWN</th>\n",
       "      <th>CRASH_HOUR</th>\n",
       "      <th>CRASH_DAY_OF_WEEK</th>\n",
       "      <th>CRASH_MONTH</th>\n",
       "      <th>LATITUDE</th>\n",
       "      <th>LONGITUDE</th>\n",
       "      <th>DATE_ACCIDENT</th>\n",
       "      <th>IS_A_HOLIDAY</th>\n",
       "      <th>HOLIDAY_NAME</th>\n",
       "    </tr>\n",
       "  </thead>\n",
       "  <tbody>\n",
       "    <tr>\n",
       "      <th>156</th>\n",
       "      <td>3bfec94191bdc869600d2c429c45a68871eb9733ce7ec6...</td>\n",
       "      <td>25</td>\n",
       "      <td>NO CONTROLS</td>\n",
       "      <td>NO CONTROLS</td>\n",
       "      <td>SNOW</td>\n",
       "      <td>DAYLIGHT</td>\n",
       "      <td>PARKED MOTOR VEHICLE</td>\n",
       "      <td>NOT DIVIDED</td>\n",
       "      <td>STRAIGHT AND LEVEL</td>\n",
       "      <td>SNOW OR SLUSH</td>\n",
       "      <td>...</td>\n",
       "      <td>1.0</td>\n",
       "      <td>0.0</td>\n",
       "      <td>12</td>\n",
       "      <td>6</td>\n",
       "      <td>11</td>\n",
       "      <td>41.932213</td>\n",
       "      <td>-87.653694</td>\n",
       "      <td>2017-11-10 12:45:00</td>\n",
       "      <td>1</td>\n",
       "      <td>1</td>\n",
       "    </tr>\n",
       "    <tr>\n",
       "      <th>168</th>\n",
       "      <td>43292e98b1ba60cb4c6efeb987a67a1ec0291acea4357e...</td>\n",
       "      <td>40</td>\n",
       "      <td>NO CONTROLS</td>\n",
       "      <td>OTHER</td>\n",
       "      <td>RAIN</td>\n",
       "      <td>DARKNESS, LIGHTED ROAD</td>\n",
       "      <td>TURNING</td>\n",
       "      <td>NOT DIVIDED</td>\n",
       "      <td>STRAIGHT AND LEVEL</td>\n",
       "      <td>WET</td>\n",
       "      <td>...</td>\n",
       "      <td>4.0</td>\n",
       "      <td>0.0</td>\n",
       "      <td>0</td>\n",
       "      <td>2</td>\n",
       "      <td>2</td>\n",
       "      <td>41.880660</td>\n",
       "      <td>-87.740728</td>\n",
       "      <td>2018-02-19 00:25:00</td>\n",
       "      <td>1</td>\n",
       "      <td>1</td>\n",
       "    </tr>\n",
       "    <tr>\n",
       "      <th>234</th>\n",
       "      <td>5e45d4537c4d0bd12bfa11a7f75526f4fe0d61c68a0ec1...</td>\n",
       "      <td>10</td>\n",
       "      <td>NO CONTROLS</td>\n",
       "      <td>NO CONTROLS</td>\n",
       "      <td>CLEAR</td>\n",
       "      <td>DARKNESS, LIGHTED ROAD</td>\n",
       "      <td>PARKED MOTOR VEHICLE</td>\n",
       "      <td>PARKING LOT</td>\n",
       "      <td>STRAIGHT AND LEVEL</td>\n",
       "      <td>WET</td>\n",
       "      <td>...</td>\n",
       "      <td>1.0</td>\n",
       "      <td>0.0</td>\n",
       "      <td>2</td>\n",
       "      <td>3</td>\n",
       "      <td>1</td>\n",
       "      <td>41.879714</td>\n",
       "      <td>-87.774496</td>\n",
       "      <td>2019-01-01 02:40:00</td>\n",
       "      <td>1</td>\n",
       "      <td>1</td>\n",
       "    </tr>\n",
       "  </tbody>\n",
       "</table>\n",
       "<p>3 rows × 38 columns</p>\n",
       "</div>"
      ],
      "text/plain": [
       "                                       CRASH_RECORD_ID  POSTED_SPEED_LIMIT  \\\n",
       "156  3bfec94191bdc869600d2c429c45a68871eb9733ce7ec6...                  25   \n",
       "168  43292e98b1ba60cb4c6efeb987a67a1ec0291acea4357e...                  40   \n",
       "234  5e45d4537c4d0bd12bfa11a7f75526f4fe0d61c68a0ec1...                  10   \n",
       "\n",
       "    TRAFFIC_CONTROL_DEVICE DEVICE_CONDITION WEATHER_CONDITION  \\\n",
       "156            NO CONTROLS      NO CONTROLS              SNOW   \n",
       "168            NO CONTROLS            OTHER              RAIN   \n",
       "234            NO CONTROLS      NO CONTROLS             CLEAR   \n",
       "\n",
       "         LIGHTING_CONDITION      FIRST_CRASH_TYPE TRAFFICWAY_TYPE  \\\n",
       "156                DAYLIGHT  PARKED MOTOR VEHICLE     NOT DIVIDED   \n",
       "168  DARKNESS, LIGHTED ROAD               TURNING     NOT DIVIDED   \n",
       "234  DARKNESS, LIGHTED ROAD  PARKED MOTOR VEHICLE     PARKING LOT   \n",
       "\n",
       "              ALIGNMENT ROADWAY_SURFACE_COND  ... INJURIES_NO_INDICATION  \\\n",
       "156  STRAIGHT AND LEVEL        SNOW OR SLUSH  ...                    1.0   \n",
       "168  STRAIGHT AND LEVEL                  WET  ...                    4.0   \n",
       "234  STRAIGHT AND LEVEL                  WET  ...                    1.0   \n",
       "\n",
       "    INJURIES_UNKNOWN CRASH_HOUR CRASH_DAY_OF_WEEK CRASH_MONTH   LATITUDE  \\\n",
       "156              0.0         12                 6          11  41.932213   \n",
       "168              0.0          0                 2           2  41.880660   \n",
       "234              0.0          2                 3           1  41.879714   \n",
       "\n",
       "     LONGITUDE       DATE_ACCIDENT IS_A_HOLIDAY HOLIDAY_NAME  \n",
       "156 -87.653694 2017-11-10 12:45:00            1            1  \n",
       "168 -87.740728 2018-02-19 00:25:00            1            1  \n",
       "234 -87.774496 2019-01-01 02:40:00            1            1  \n",
       "\n",
       "[3 rows x 38 columns]"
      ]
     },
     "execution_count": 69,
     "metadata": {},
     "output_type": "execute_result"
    }
   ],
   "source": [
    "crashes_holiday.head(3)"
   ]
  },
  {
   "cell_type": "code",
   "execution_count": null,
   "metadata": {},
   "outputs": [],
   "source": []
  },
  {
   "cell_type": "code",
   "execution_count": 70,
   "metadata": {
    "scrolled": true
   },
   "outputs": [
    {
     "data": {
      "text/plain": [
       "0"
      ]
     },
     "execution_count": 70,
     "metadata": {},
     "output_type": "execute_result"
    }
   ],
   "source": [
    "crashes.isna().sum().sum()"
   ]
  },
  {
   "cell_type": "code",
   "execution_count": 71,
   "metadata": {},
   "outputs": [],
   "source": [
    "crashes.dropna(inplace=True)"
   ]
  },
  {
   "cell_type": "code",
   "execution_count": 72,
   "metadata": {
    "scrolled": true
   },
   "outputs": [
    {
     "data": {
      "text/plain": [
       "0"
      ]
     },
     "execution_count": 72,
     "metadata": {},
     "output_type": "execute_result"
    }
   ],
   "source": [
    "crashes_holiday.isna().sum().sum()"
   ]
  },
  {
   "cell_type": "code",
   "execution_count": 73,
   "metadata": {
    "scrolled": true
   },
   "outputs": [
    {
     "name": "stderr",
     "output_type": "stream",
     "text": [
      "<ipython-input-73-2ec4761478ad>:1: SettingWithCopyWarning: \n",
      "A value is trying to be set on a copy of a slice from a DataFrame\n",
      "\n",
      "See the caveats in the documentation: https://pandas.pydata.org/pandas-docs/stable/user_guide/indexing.html#returning-a-view-versus-a-copy\n",
      "  crashes_holiday.dropna(inplace=True)\n"
     ]
    }
   ],
   "source": [
    "crashes_holiday.dropna(inplace=True)"
   ]
  },
  {
   "cell_type": "markdown",
   "metadata": {},
   "source": [
    "### DateTime :\n"
   ]
  },
  {
   "cell_type": "code",
   "execution_count": 74,
   "metadata": {},
   "outputs": [],
   "source": [
    "test = pd.tseries.holiday.USFederalHolidayCalendar().holidays(start='2012', end='2022', return_name=True)"
   ]
  },
  {
   "cell_type": "code",
   "execution_count": 75,
   "metadata": {
    "scrolled": false
   },
   "outputs": [
    {
     "data": {
      "text/plain": [
       "DatetimeIndex(['2012-01-02', '2012-01-16', '2012-02-20', '2012-05-28',\n",
       "               '2012-07-04', '2012-09-03', '2012-10-08', '2012-11-12',\n",
       "               '2012-11-22', '2012-12-25',\n",
       "               ...\n",
       "               '2021-01-18', '2021-02-15', '2021-05-31', '2021-07-05',\n",
       "               '2021-09-06', '2021-10-11', '2021-11-11', '2021-11-25',\n",
       "               '2021-12-24', '2021-12-31'],\n",
       "              dtype='datetime64[ns]', length=101, freq=None)"
      ]
     },
     "execution_count": 75,
     "metadata": {},
     "output_type": "execute_result"
    }
   ],
   "source": [
    "test.keys()"
   ]
  },
  {
   "cell_type": "code",
   "execution_count": 76,
   "metadata": {
    "scrolled": false
   },
   "outputs": [
    {
     "data": {
      "text/plain": [
       "datetime.date(2012, 1, 2)"
      ]
     },
     "execution_count": 76,
     "metadata": {},
     "output_type": "execute_result"
    }
   ],
   "source": [
    "test.keys()[0].date()"
   ]
  },
  {
   "cell_type": "code",
   "execution_count": 77,
   "metadata": {},
   "outputs": [],
   "source": [
    "aidento = []\n",
    "for x in test:\n",
    "    aidento.append(x)"
   ]
  },
  {
   "cell_type": "code",
   "execution_count": 78,
   "metadata": {},
   "outputs": [],
   "source": [
    "aifora = []\n",
    "for x in test.keys():\n",
    "    aifora.append(x.date())"
   ]
  },
  {
   "cell_type": "code",
   "execution_count": 79,
   "metadata": {},
   "outputs": [],
   "source": [
    "dicionarioinutil = dict(zip(aifora, aidento))"
   ]
  },
  {
   "cell_type": "code",
   "execution_count": 80,
   "metadata": {},
   "outputs": [],
   "source": [
    "dates_holidays = pd.DataFrame.from_dict(dicionarioinutil, orient='index')"
   ]
  },
  {
   "cell_type": "code",
   "execution_count": 81,
   "metadata": {
    "scrolled": false
   },
   "outputs": [
    {
     "name": "stderr",
     "output_type": "stream",
     "text": [
      "<ipython-input-81-9c13a83f2a64>:1: SettingWithCopyWarning: \n",
      "A value is trying to be set on a copy of a slice from a DataFrame.\n",
      "Try using .loc[row_indexer,col_indexer] = value instead\n",
      "\n",
      "See the caveats in the documentation: https://pandas.pydata.org/pandas-docs/stable/user_guide/indexing.html#returning-a-view-versus-a-copy\n",
      "  crashes_holiday['DATE_REAL'] = crashes_holiday['DATE_ACCIDENT'].apply(lambda x : x.date())\n"
     ]
    }
   ],
   "source": [
    "crashes_holiday['DATE_REAL'] = crashes_holiday['DATE_ACCIDENT'].apply(lambda x : x.date())"
   ]
  },
  {
   "cell_type": "markdown",
   "metadata": {},
   "source": [
    "### **To Delete?**\n",
    "- 'FIRST_CRASH_TYPE'\n",
    "- 'INJURIES_INCAPACITATING' \n",
    "- 'INJURIES_NON_INCAPACITATING'\n",
    "- 'INJURIES_REPORTED_NOT_EVIDENT'\n",
    "- 'INJURIES_TOTAL'\n",
    "- 'MOST_SEVERE_INJURY'\n",
    "- 'NUM_UNITS'\n",
    "- 'BEAT_OF_OCCURRENCE'\n",
    "- 'DATE_POLICE_NOTIFIED'\n",
    "- 'PRIM_CONTRIBUTORY_CAUSE'\n",
    "- 'SEC_CONTRIBUTORY_CAUSE'"
   ]
  },
  {
   "cell_type": "markdown",
   "metadata": {},
   "source": [
    "# People Data Set"
   ]
  },
  {
   "cell_type": "code",
   "execution_count": 82,
   "metadata": {
    "scrolled": false
   },
   "outputs": [
    {
     "data": {
      "text/plain": [
       "(1068637, 30)"
      ]
     },
     "execution_count": 82,
     "metadata": {},
     "output_type": "execute_result"
    }
   ],
   "source": [
    "people.shape"
   ]
  },
  {
   "cell_type": "code",
   "execution_count": 83,
   "metadata": {
    "scrolled": false
   },
   "outputs": [
    {
     "name": "stdout",
     "output_type": "stream",
     "text": [
      "[1, 6, 45, 45, 43, 51, 11, 334, 49, 362, 3, 108, 72, 61, 19, 7, 5, 5, 186, 174, 95, 20, 14, 12, 23, 4, 8, 4, 30, 2]\n",
      "\n",
      "['PERSON_ID', 'PERSON_TYPE', 'CRASH_RECORD_ID', 'RD_NO', 'VEHICLE_ID', 'CRASH_DATE', 'SEAT_NO', 'CITY', 'STATE', 'ZIPCODE', 'SEX', 'AGE', 'DRIVERS_LICENSE_STATE', 'DRIVERS_LICENSE_CLASS', 'SAFETY_EQUIPMENT', 'AIRBAG_DEPLOYED', 'EJECTION', 'INJURY_CLASSIFICATION', 'HOSPITAL', 'EMS_AGENCY', 'EMS_RUN_NO', 'DRIVER_ACTION', 'DRIVER_VISION', 'PHYSICAL_CONDITION', 'PEDPEDAL_ACTION', 'PEDPEDAL_VISIBILITY', 'PEDPEDAL_LOCATION', 'BAC_RESULT', 'BAC_RESULT VALUE', 'CELL_PHONE_USE']\n"
     ]
    }
   ],
   "source": [
    "howmanyunique(people)"
   ]
  },
  {
   "cell_type": "code",
   "execution_count": 84,
   "metadata": {},
   "outputs": [
    {
     "name": "stdout",
     "output_type": "stream",
     "text": [
      "0\n"
     ]
    }
   ],
   "source": [
    "howmanyduplicates(people)"
   ]
  },
  {
   "cell_type": "code",
   "execution_count": 85,
   "metadata": {},
   "outputs": [
    {
     "data": {
      "text/plain": [
       "(467539, 38)"
      ]
     },
     "execution_count": 85,
     "metadata": {},
     "output_type": "execute_result"
    }
   ],
   "source": [
    "crashes.shape"
   ]
  },
  {
   "cell_type": "code",
   "execution_count": 86,
   "metadata": {},
   "outputs": [
    {
     "data": {
      "text/html": [
       "<div>\n",
       "<style scoped>\n",
       "    .dataframe tbody tr th:only-of-type {\n",
       "        vertical-align: middle;\n",
       "    }\n",
       "\n",
       "    .dataframe tbody tr th {\n",
       "        vertical-align: top;\n",
       "    }\n",
       "\n",
       "    .dataframe thead th {\n",
       "        text-align: right;\n",
       "    }\n",
       "</style>\n",
       "<table border=\"1\" class=\"dataframe\">\n",
       "  <thead>\n",
       "    <tr style=\"text-align: right;\">\n",
       "      <th></th>\n",
       "      <th>CRASH_RECORD_ID</th>\n",
       "      <th>POSTED_SPEED_LIMIT</th>\n",
       "      <th>TRAFFIC_CONTROL_DEVICE</th>\n",
       "      <th>DEVICE_CONDITION</th>\n",
       "      <th>WEATHER_CONDITION</th>\n",
       "      <th>LIGHTING_CONDITION</th>\n",
       "      <th>FIRST_CRASH_TYPE</th>\n",
       "      <th>TRAFFICWAY_TYPE</th>\n",
       "      <th>ALIGNMENT</th>\n",
       "      <th>ROADWAY_SURFACE_COND</th>\n",
       "      <th>...</th>\n",
       "      <th>INJURIES_NO_INDICATION</th>\n",
       "      <th>INJURIES_UNKNOWN</th>\n",
       "      <th>CRASH_HOUR</th>\n",
       "      <th>CRASH_DAY_OF_WEEK</th>\n",
       "      <th>CRASH_MONTH</th>\n",
       "      <th>LATITUDE</th>\n",
       "      <th>LONGITUDE</th>\n",
       "      <th>DATE_ACCIDENT</th>\n",
       "      <th>IS_A_HOLIDAY</th>\n",
       "      <th>HOLIDAY_NAME</th>\n",
       "    </tr>\n",
       "  </thead>\n",
       "  <tbody>\n",
       "    <tr>\n",
       "      <th>0</th>\n",
       "      <td>4fd0a3e0897b3335b94cd8d5b2d2b350eb691add56c62d...</td>\n",
       "      <td>35</td>\n",
       "      <td>NO CONTROLS</td>\n",
       "      <td>NO CONTROLS</td>\n",
       "      <td>CLEAR</td>\n",
       "      <td>DAYLIGHT</td>\n",
       "      <td>TURNING</td>\n",
       "      <td>ONE-WAY</td>\n",
       "      <td>STRAIGHT AND LEVEL</td>\n",
       "      <td>DRY</td>\n",
       "      <td>...</td>\n",
       "      <td>3.0</td>\n",
       "      <td>0.0</td>\n",
       "      <td>17</td>\n",
       "      <td>4</td>\n",
       "      <td>7</td>\n",
       "      <td>41.919664</td>\n",
       "      <td>-87.773288</td>\n",
       "      <td>2019-07-10 17:56:00</td>\n",
       "      <td>0</td>\n",
       "      <td>0</td>\n",
       "    </tr>\n",
       "    <tr>\n",
       "      <th>1</th>\n",
       "      <td>009e9e67203442370272e1a13d6ee51a4155dac65e583d...</td>\n",
       "      <td>35</td>\n",
       "      <td>STOP SIGN/FLASHER</td>\n",
       "      <td>FUNCTIONING PROPERLY</td>\n",
       "      <td>CLEAR</td>\n",
       "      <td>DAYLIGHT</td>\n",
       "      <td>TURNING</td>\n",
       "      <td>NOT DIVIDED</td>\n",
       "      <td>STRAIGHT AND LEVEL</td>\n",
       "      <td>DRY</td>\n",
       "      <td>...</td>\n",
       "      <td>3.0</td>\n",
       "      <td>0.0</td>\n",
       "      <td>16</td>\n",
       "      <td>6</td>\n",
       "      <td>6</td>\n",
       "      <td>41.741804</td>\n",
       "      <td>-87.740954</td>\n",
       "      <td>2017-06-30 16:00:00</td>\n",
       "      <td>0</td>\n",
       "      <td>0</td>\n",
       "    </tr>\n",
       "    <tr>\n",
       "      <th>2</th>\n",
       "      <td>ee9283eff3a55ac50ee58f3d9528ce1d689b1c4180b4c4...</td>\n",
       "      <td>30</td>\n",
       "      <td>TRAFFIC SIGNAL</td>\n",
       "      <td>FUNCTIONING PROPERLY</td>\n",
       "      <td>CLEAR</td>\n",
       "      <td>DAYLIGHT</td>\n",
       "      <td>REAR END</td>\n",
       "      <td>FOUR WAY</td>\n",
       "      <td>STRAIGHT AND LEVEL</td>\n",
       "      <td>DRY</td>\n",
       "      <td>...</td>\n",
       "      <td>3.0</td>\n",
       "      <td>0.0</td>\n",
       "      <td>10</td>\n",
       "      <td>6</td>\n",
       "      <td>7</td>\n",
       "      <td>41.773456</td>\n",
       "      <td>-87.585022</td>\n",
       "      <td>2020-07-10 10:25:00</td>\n",
       "      <td>0</td>\n",
       "      <td>0</td>\n",
       "    </tr>\n",
       "    <tr>\n",
       "      <th>3</th>\n",
       "      <td>f8960f698e870ebdc60b521b2a141a5395556bc3704191...</td>\n",
       "      <td>30</td>\n",
       "      <td>NO CONTROLS</td>\n",
       "      <td>NO CONTROLS</td>\n",
       "      <td>CLEAR</td>\n",
       "      <td>DARKNESS</td>\n",
       "      <td>PARKED MOTOR VEHICLE</td>\n",
       "      <td>DIVIDED - W/MEDIAN (NOT RAISED)</td>\n",
       "      <td>STRAIGHT AND LEVEL</td>\n",
       "      <td>DRY</td>\n",
       "      <td>...</td>\n",
       "      <td>3.0</td>\n",
       "      <td>0.0</td>\n",
       "      <td>1</td>\n",
       "      <td>7</td>\n",
       "      <td>7</td>\n",
       "      <td>41.802119</td>\n",
       "      <td>-87.622115</td>\n",
       "      <td>2020-07-11 01:00:00</td>\n",
       "      <td>0</td>\n",
       "      <td>0</td>\n",
       "    </tr>\n",
       "    <tr>\n",
       "      <th>5</th>\n",
       "      <td>00e47f189660cd8ba1e85fc63061bf1d8465184393f134...</td>\n",
       "      <td>30</td>\n",
       "      <td>TRAFFIC SIGNAL</td>\n",
       "      <td>FUNCTIONING PROPERLY</td>\n",
       "      <td>CLEAR</td>\n",
       "      <td>DARKNESS, LIGHTED ROAD</td>\n",
       "      <td>TURNING</td>\n",
       "      <td>NOT DIVIDED</td>\n",
       "      <td>STRAIGHT AND LEVEL</td>\n",
       "      <td>DRY</td>\n",
       "      <td>...</td>\n",
       "      <td>2.0</td>\n",
       "      <td>0.0</td>\n",
       "      <td>22</td>\n",
       "      <td>5</td>\n",
       "      <td>3</td>\n",
       "      <td>41.741804</td>\n",
       "      <td>-87.740954</td>\n",
       "      <td>2019-03-21 22:50:00</td>\n",
       "      <td>0</td>\n",
       "      <td>0</td>\n",
       "    </tr>\n",
       "  </tbody>\n",
       "</table>\n",
       "<p>5 rows × 38 columns</p>\n",
       "</div>"
      ],
      "text/plain": [
       "                                     CRASH_RECORD_ID  POSTED_SPEED_LIMIT  \\\n",
       "0  4fd0a3e0897b3335b94cd8d5b2d2b350eb691add56c62d...                  35   \n",
       "1  009e9e67203442370272e1a13d6ee51a4155dac65e583d...                  35   \n",
       "2  ee9283eff3a55ac50ee58f3d9528ce1d689b1c4180b4c4...                  30   \n",
       "3  f8960f698e870ebdc60b521b2a141a5395556bc3704191...                  30   \n",
       "5  00e47f189660cd8ba1e85fc63061bf1d8465184393f134...                  30   \n",
       "\n",
       "  TRAFFIC_CONTROL_DEVICE      DEVICE_CONDITION WEATHER_CONDITION  \\\n",
       "0            NO CONTROLS           NO CONTROLS             CLEAR   \n",
       "1      STOP SIGN/FLASHER  FUNCTIONING PROPERLY             CLEAR   \n",
       "2         TRAFFIC SIGNAL  FUNCTIONING PROPERLY             CLEAR   \n",
       "3            NO CONTROLS           NO CONTROLS             CLEAR   \n",
       "5         TRAFFIC SIGNAL  FUNCTIONING PROPERLY             CLEAR   \n",
       "\n",
       "       LIGHTING_CONDITION      FIRST_CRASH_TYPE  \\\n",
       "0                DAYLIGHT               TURNING   \n",
       "1                DAYLIGHT               TURNING   \n",
       "2                DAYLIGHT              REAR END   \n",
       "3                DARKNESS  PARKED MOTOR VEHICLE   \n",
       "5  DARKNESS, LIGHTED ROAD               TURNING   \n",
       "\n",
       "                   TRAFFICWAY_TYPE           ALIGNMENT ROADWAY_SURFACE_COND  \\\n",
       "0                          ONE-WAY  STRAIGHT AND LEVEL                  DRY   \n",
       "1                      NOT DIVIDED  STRAIGHT AND LEVEL                  DRY   \n",
       "2                         FOUR WAY  STRAIGHT AND LEVEL                  DRY   \n",
       "3  DIVIDED - W/MEDIAN (NOT RAISED)  STRAIGHT AND LEVEL                  DRY   \n",
       "5                      NOT DIVIDED  STRAIGHT AND LEVEL                  DRY   \n",
       "\n",
       "   ... INJURIES_NO_INDICATION INJURIES_UNKNOWN CRASH_HOUR CRASH_DAY_OF_WEEK  \\\n",
       "0  ...                    3.0              0.0         17                 4   \n",
       "1  ...                    3.0              0.0         16                 6   \n",
       "2  ...                    3.0              0.0         10                 6   \n",
       "3  ...                    3.0              0.0          1                 7   \n",
       "5  ...                    2.0              0.0         22                 5   \n",
       "\n",
       "  CRASH_MONTH   LATITUDE  LONGITUDE       DATE_ACCIDENT IS_A_HOLIDAY  \\\n",
       "0           7  41.919664 -87.773288 2019-07-10 17:56:00            0   \n",
       "1           6  41.741804 -87.740954 2017-06-30 16:00:00            0   \n",
       "2           7  41.773456 -87.585022 2020-07-10 10:25:00            0   \n",
       "3           7  41.802119 -87.622115 2020-07-11 01:00:00            0   \n",
       "5           3  41.741804 -87.740954 2019-03-21 22:50:00            0   \n",
       "\n",
       "  HOLIDAY_NAME  \n",
       "0            0  \n",
       "1            0  \n",
       "2            0  \n",
       "3            0  \n",
       "5            0  \n",
       "\n",
       "[5 rows x 38 columns]"
      ]
     },
     "execution_count": 86,
     "metadata": {},
     "output_type": "execute_result"
    }
   ],
   "source": [
    "crashes.head()"
   ]
  },
  {
   "cell_type": "code",
   "execution_count": 87,
   "metadata": {
    "scrolled": true
   },
   "outputs": [
    {
     "name": "stdout",
     "output_type": "stream",
     "text": [
      "Row: RD_NO : is made 0.007% of NaN Values.\n",
      "Row: VEHICLE_ID : is made 0.02% of NaN Values.\n",
      "Row: SEAT_NO : is made 0.796% of NaN Values.\n",
      "Row: CITY : is made 0.261% of NaN Values.\n",
      "Row: STATE : is made 0.252% of NaN Values.\n",
      "Row: ZIPCODE : is made 0.325% of NaN Values.\n",
      "Row: SEX : is made 0.015% of NaN Values.\n",
      "Row: AGE : is made 0.285% of NaN Values.\n",
      "Row: DRIVERS_LICENSE_STATE : is made 0.407% of NaN Values.\n",
      "Row: DRIVERS_LICENSE_CLASS : is made 0.485% of NaN Values.\n",
      "Row: SAFETY_EQUIPMENT : is made 0.003% of NaN Values.\n",
      "Row: AIRBAG_DEPLOYED : is made 0.019% of NaN Values.\n",
      "Row: EJECTION : is made 0.012% of NaN Values.\n",
      "Row: INJURY_CLASSIFICATION : is made 0.001% of NaN Values.\n",
      "Row: HOSPITAL : is made 0.818% of NaN Values.\n",
      "Row: EMS_AGENCY : is made 0.884% of NaN Values.\n",
      "Row: EMS_RUN_NO : is made 0.981% of NaN Values.\n",
      "Row: DRIVER_ACTION : is made 0.206% of NaN Values.\n",
      "Row: DRIVER_VISION : is made 0.207% of NaN Values.\n",
      "Row: PHYSICAL_CONDITION : is made 0.206% of NaN Values.\n",
      "Row: PEDPEDAL_ACTION : is made 0.981% of NaN Values.\n",
      "Row: PEDPEDAL_VISIBILITY : is made 0.981% of NaN Values.\n",
      "Row: PEDPEDAL_LOCATION : is made 0.981% of NaN Values.\n",
      "Row: BAC_RESULT : is made 0.205% of NaN Values.\n",
      "Row: BAC_RESULT VALUE : is made 0.999% of NaN Values.\n",
      "Row: CELL_PHONE_USE : is made 0.999% of NaN Values.\n",
      "['SEAT_NO', 'ZIPCODE', 'DRIVERS_LICENSE_STATE', 'DRIVERS_LICENSE_CLASS', 'HOSPITAL', 'EMS_AGENCY', 'EMS_RUN_NO', 'PEDPEDAL_ACTION', 'PEDPEDAL_VISIBILITY', 'PEDPEDAL_LOCATION', 'BAC_RESULT VALUE', 'CELL_PHONE_USE']\n"
     ]
    }
   ],
   "source": [
    "rows_w_nan(people)"
   ]
  },
  {
   "cell_type": "code",
   "execution_count": 88,
   "metadata": {},
   "outputs": [],
   "source": [
    "people = people.drop(columns=['CELL_PHONE_USE', 'BAC_RESULT VALUE', 'PEDPEDAL_LOCATION', 'PEDPEDAL_VISIBILITY',\n",
    "                              'EMS_RUN_NO', 'EMS_AGENCY', 'HOSPITAL', 'DRIVERS_LICENSE_CLASS', \n",
    "                              'DRIVERS_LICENSE_STATE', 'ZIPCODE', 'SEAT_NO', 'PEDPEDAL_ACTION'])"
   ]
  },
  {
   "cell_type": "code",
   "execution_count": 89,
   "metadata": {},
   "outputs": [],
   "source": [
    "people.dropna(inplace=True)"
   ]
  },
  {
   "cell_type": "code",
   "execution_count": 90,
   "metadata": {},
   "outputs": [
    {
     "data": {
      "text/plain": [
       "PERSON_ID                0\n",
       "PERSON_TYPE              0\n",
       "CRASH_RECORD_ID          0\n",
       "RD_NO                    0\n",
       "VEHICLE_ID               0\n",
       "CRASH_DATE               0\n",
       "CITY                     0\n",
       "STATE                    0\n",
       "SEX                      0\n",
       "AGE                      0\n",
       "SAFETY_EQUIPMENT         0\n",
       "AIRBAG_DEPLOYED          0\n",
       "EJECTION                 0\n",
       "INJURY_CLASSIFICATION    0\n",
       "DRIVER_ACTION            0\n",
       "DRIVER_VISION            0\n",
       "PHYSICAL_CONDITION       0\n",
       "BAC_RESULT               0\n",
       "dtype: int64"
      ]
     },
     "execution_count": 90,
     "metadata": {},
     "output_type": "execute_result"
    }
   ],
   "source": [
    "people.isna().sum()"
   ]
  },
  {
   "cell_type": "code",
   "execution_count": 91,
   "metadata": {
    "scrolled": true
   },
   "outputs": [
    {
     "data": {
      "text/plain": [
       "NO INDICATION OF INJURY     540286\n",
       "NONINCAPACITATING INJURY     22844\n",
       "REPORTED, NOT EVIDENT        15384\n",
       "INCAPACITATING INJURY         4186\n",
       "FATAL                          237\n",
       "Name: INJURY_CLASSIFICATION, dtype: int64"
      ]
     },
     "execution_count": 91,
     "metadata": {},
     "output_type": "execute_result"
    }
   ],
   "source": [
    "people.INJURY_CLASSIFICATION.value_counts()"
   ]
  },
  {
   "cell_type": "code",
   "execution_count": 92,
   "metadata": {},
   "outputs": [
    {
     "data": {
      "text/plain": [
       "DID NOT DEPLOY                            425193\n",
       "NOT APPLICABLE                             90946\n",
       "DEPLOYMENT UNKNOWN                         26890\n",
       "DEPLOYED, FRONT                            22216\n",
       "DEPLOYED, COMBINATION                      12202\n",
       "DEPLOYED, SIDE                              5204\n",
       "DEPLOYED OTHER (KNEE, AIR, BELT, ETC.)       286\n",
       "Name: AIRBAG_DEPLOYED, dtype: int64"
      ]
     },
     "execution_count": 92,
     "metadata": {},
     "output_type": "execute_result"
    }
   ],
   "source": [
    "people.AIRBAG_DEPLOYED.value_counts()"
   ]
  },
  {
   "cell_type": "code",
   "execution_count": 93,
   "metadata": {},
   "outputs": [
    {
     "data": {
      "text/plain": [
       "NONE                  571878\n",
       "UNKNOWN                 8361\n",
       "TOTALLY EJECTED         1786\n",
       "PARTIALLY EJECTED        546\n",
       "TRAPPED/EXTRICATED       366\n",
       "Name: EJECTION, dtype: int64"
      ]
     },
     "execution_count": 93,
     "metadata": {},
     "output_type": "execute_result"
    }
   ],
   "source": [
    "# Useless?\n",
    "people.EJECTION.value_counts()"
   ]
  },
  {
   "cell_type": "code",
   "execution_count": 94,
   "metadata": {
    "scrolled": true
   },
   "outputs": [
    {
     "data": {
      "text/plain": [
       "NORMAL                          497478\n",
       "UNKNOWN                          73118\n",
       "IMPAIRED - ALCOHOL                3469\n",
       "REMOVED BY EMS                    2036\n",
       "FATIGUED/ASLEEP                   2022\n",
       "OTHER                             1549\n",
       "EMOTIONAL                         1478\n",
       "ILLNESS/FAINTED                    709\n",
       "HAD BEEN DRINKING                  439\n",
       "IMPAIRED - DRUGS                   398\n",
       "IMPAIRED - ALCOHOL AND DRUGS       148\n",
       "MEDICATED                           93\n",
       "Name: PHYSICAL_CONDITION, dtype: int64"
      ]
     },
     "execution_count": 94,
     "metadata": {},
     "output_type": "execute_result"
    }
   ],
   "source": [
    "people.PHYSICAL_CONDITION.value_counts()"
   ]
  },
  {
   "cell_type": "code",
   "execution_count": 95,
   "metadata": {},
   "outputs": [
    {
     "data": {
      "text/plain": [
       "DRIVER                 582899\n",
       "NON-CONTACT VEHICLE        38\n",
       "Name: PERSON_TYPE, dtype: int64"
      ]
     },
     "execution_count": 95,
     "metadata": {},
     "output_type": "execute_result"
    }
   ],
   "source": [
    "people.PERSON_TYPE.value_counts()"
   ]
  },
  {
   "cell_type": "markdown",
   "metadata": {},
   "source": [
    "# Vehicles Data Set"
   ]
  },
  {
   "cell_type": "markdown",
   "metadata": {},
   "source": [
    "**SEAT_NO**\n",
    "- Code for seating position of motor vehicle occupant: 1= driver, 2= center front, 3 = front passenger, 4 = second row left, 5 = second row center, 6 = second row right, 7 = enclosed passengers, 8 = exposed passengers, 9= unknown position, 10 = third row left, 11 = third row center, 12 = third row right"
   ]
  },
  {
   "cell_type": "code",
   "execution_count": 96,
   "metadata": {},
   "outputs": [
    {
     "data": {
      "text/plain": [
       "(987148, 72)"
      ]
     },
     "execution_count": 96,
     "metadata": {},
     "output_type": "execute_result"
    }
   ],
   "source": [
    "vehicles.shape"
   ]
  },
  {
   "cell_type": "code",
   "execution_count": 97,
   "metadata": {
    "scrolled": false
   },
   "outputs": [
    {
     "name": "stdout",
     "output_type": "stream",
     "text": [
      "[1, 17, 17, 40, 17, 9, 22, 1, 2, 147, 517, 51, 68, 17, 21, 25, 9, 28, 2, 2, 25, 2, 132, 120, 2, 2, 2, 2, 2, 2, 2, 2, 2, 2, 2, 2, 2, 2, 14, 1, 33, 11, 11, 4, 40, 37, 39, 58, 2, 3, 8, 3, 3, 1, 3, 1, 3, 3, 9, 2, 3, 3, 26, 4, 40, 11, 8, 9, 6, 2, 2, 7]\n",
      "\n",
      "['CRASH_UNIT_ID', 'CRASH_RECORD_ID', 'RD_NO', 'CRASH_DATE', 'UNIT_NO', 'UNIT_TYPE', 'NUM_PASSENGERS', 'VEHICLE_ID', 'CMRC_VEH_I', 'MAKE', 'MODEL', 'LIC_PLATE_STATE', 'VEHICLE_YEAR', 'VEHICLE_DEFECT', 'VEHICLE_TYPE', 'VEHICLE_USE', 'TRAVEL_DIRECTION', 'MANEUVER', 'TOWED_I', 'FIRE_I', 'OCCUPANT_CNT', 'EXCEED_SPEED_LIMIT_I', 'TOWED_BY', 'TOWED_TO', 'AREA_00_I', 'AREA_01_I', 'AREA_02_I', 'AREA_03_I', 'AREA_04_I', 'AREA_05_I', 'AREA_06_I', 'AREA_07_I', 'AREA_08_I', 'AREA_09_I', 'AREA_10_I', 'AREA_11_I', 'AREA_12_I', 'AREA_99_I', 'FIRST_CONTACT_POINT', 'CMV_ID', 'USDOT_NO', 'CCMC_NO', 'ILCC_NO', 'COMMERCIAL_SRC', 'GVWR', 'CARRIER_NAME', 'CARRIER_STATE', 'CARRIER_CITY', 'HAZMAT_PLACARDS_I', 'HAZMAT_NAME', 'UN_NO', 'HAZMAT_PRESENT_I', 'HAZMAT_REPORT_I', 'HAZMAT_REPORT_NO', 'MCS_REPORT_I', 'MCS_REPORT_NO', 'HAZMAT_VIO_CAUSE_CRASH_I', 'MCS_VIO_CAUSE_CRASH_I', 'IDOT_PERMIT_NO', 'WIDE_LOAD_I', 'TRAILER1_WIDTH', 'TRAILER2_WIDTH', 'TRAILER1_LENGTH', 'TRAILER2_LENGTH', 'TOTAL_VEHICLE_LENGTH', 'AXLE_CNT', 'VEHICLE_CONFIG', 'CARGO_BODY_TYPE', 'LOAD_TYPE', 'HAZMAT_OUT_OF_SERVICE_I', 'MCS_OUT_OF_SERVICE_I', 'HAZMAT_CLASS']\n"
     ]
    }
   ],
   "source": [
    "howmanyunique(vehicles)"
   ]
  },
  {
   "cell_type": "code",
   "execution_count": 98,
   "metadata": {
    "scrolled": true
   },
   "outputs": [
    {
     "name": "stdout",
     "output_type": "stream",
     "text": [
      "0\n"
     ]
    }
   ],
   "source": [
    "howmanyduplicates(vehicles)"
   ]
  },
  {
   "cell_type": "code",
   "execution_count": 99,
   "metadata": {
    "scrolled": false
   },
   "outputs": [
    {
     "name": "stdout",
     "output_type": "stream",
     "text": [
      "Row: RD_NO : is made 0.007% of NaN Values.\n",
      "Row: UNIT_TYPE : is made 0.002% of NaN Values.\n",
      "Row: NUM_PASSENGERS : is made 0.85% of NaN Values.\n",
      "Row: VEHICLE_ID : is made 0.023% of NaN Values.\n",
      "Row: CMRC_VEH_I : is made 0.981% of NaN Values.\n",
      "Row: MAKE : is made 0.023% of NaN Values.\n",
      "Row: MODEL : is made 0.023% of NaN Values.\n",
      "Row: LIC_PLATE_STATE : is made 0.106% of NaN Values.\n",
      "Row: VEHICLE_YEAR : is made 0.181% of NaN Values.\n",
      "Row: VEHICLE_DEFECT : is made 0.023% of NaN Values.\n",
      "Row: VEHICLE_TYPE : is made 0.023% of NaN Values.\n",
      "Row: VEHICLE_USE : is made 0.023% of NaN Values.\n",
      "Row: TRAVEL_DIRECTION : is made 0.023% of NaN Values.\n",
      "Row: MANEUVER : is made 0.023% of NaN Values.\n",
      "Row: TOWED_I : is made 0.887% of NaN Values.\n",
      "Row: FIRE_I : is made 0.999% of NaN Values.\n",
      "Row: OCCUPANT_CNT : is made 0.023% of NaN Values.\n",
      "Row: EXCEED_SPEED_LIMIT_I : is made 0.998% of NaN Values.\n",
      "Row: TOWED_BY : is made 0.918% of NaN Values.\n",
      "Row: TOWED_TO : is made 0.948% of NaN Values.\n",
      "Row: AREA_00_I : is made 0.961% of NaN Values.\n",
      "Row: AREA_01_I : is made 0.741% of NaN Values.\n",
      "Row: AREA_02_I : is made 0.829% of NaN Values.\n",
      "Row: AREA_03_I : is made 0.905% of NaN Values.\n",
      "Row: AREA_04_I : is made 0.9% of NaN Values.\n",
      "Row: AREA_05_I : is made 0.848% of NaN Values.\n",
      "Row: AREA_06_I : is made 0.85% of NaN Values.\n",
      "Row: AREA_07_I : is made 0.871% of NaN Values.\n",
      "Row: AREA_08_I : is made 0.831% of NaN Values.\n",
      "Row: AREA_09_I : is made 0.959% of NaN Values.\n",
      "Row: AREA_10_I : is made 0.941% of NaN Values.\n",
      "Row: AREA_11_I : is made 0.883% of NaN Values.\n",
      "Row: AREA_12_I : is made 0.885% of NaN Values.\n",
      "Row: AREA_99_I : is made 0.895% of NaN Values.\n",
      "Row: FIRST_CONTACT_POINT : is made 0.03% of NaN Values.\n",
      "Row: CMV_ID : is made 0.989% of NaN Values.\n",
      "Row: USDOT_NO : is made 0.994% of NaN Values.\n",
      "Row: CCMC_NO : is made 0.999% of NaN Values.\n",
      "Row: ILCC_NO : is made 0.999% of NaN Values.\n",
      "Row: COMMERCIAL_SRC : is made 0.992% of NaN Values.\n",
      "Row: GVWR : is made 0.994% of NaN Values.\n",
      "Row: CARRIER_NAME : is made 0.99% of NaN Values.\n",
      "Row: CARRIER_STATE : is made 0.99% of NaN Values.\n",
      "Row: CARRIER_CITY : is made 0.991% of NaN Values.\n",
      "Row: HAZMAT_PLACARDS_I : is made 1.0% of NaN Values.\n",
      "Row: HAZMAT_NAME : is made 1.0% of NaN Values.\n",
      "Row: UN_NO : is made 1.0% of NaN Values.\n",
      "Row: HAZMAT_PRESENT_I : is made 0.992% of NaN Values.\n",
      "Row: HAZMAT_REPORT_I : is made 0.992% of NaN Values.\n",
      "Row: HAZMAT_REPORT_NO : is made 1.0% of NaN Values.\n",
      "Row: MCS_REPORT_I : is made 0.992% of NaN Values.\n",
      "Row: MCS_REPORT_NO : is made 1.0% of NaN Values.\n",
      "Row: HAZMAT_VIO_CAUSE_CRASH_I : is made 0.992% of NaN Values.\n",
      "Row: MCS_VIO_CAUSE_CRASH_I : is made 0.992% of NaN Values.\n",
      "Row: IDOT_PERMIT_NO : is made 0.999% of NaN Values.\n",
      "Row: WIDE_LOAD_I : is made 1.0% of NaN Values.\n",
      "Row: TRAILER1_WIDTH : is made 0.998% of NaN Values.\n",
      "Row: TRAILER2_WIDTH : is made 1.0% of NaN Values.\n",
      "Row: TRAILER1_LENGTH : is made 0.998% of NaN Values.\n",
      "Row: TRAILER2_LENGTH : is made 1.0% of NaN Values.\n",
      "Row: TOTAL_VEHICLE_LENGTH : is made 0.998% of NaN Values.\n",
      "Row: AXLE_CNT : is made 0.997% of NaN Values.\n",
      "Row: VEHICLE_CONFIG : is made 0.991% of NaN Values.\n",
      "Row: CARGO_BODY_TYPE : is made 0.992% of NaN Values.\n",
      "Row: LOAD_TYPE : is made 0.992% of NaN Values.\n",
      "Row: HAZMAT_OUT_OF_SERVICE_I : is made 0.993% of NaN Values.\n",
      "Row: MCS_OUT_OF_SERVICE_I : is made 0.992% of NaN Values.\n",
      "Row: HAZMAT_CLASS : is made 0.999% of NaN Values.\n",
      "['NUM_PASSENGERS', 'CMRC_VEH_I', 'TOWED_I', 'FIRE_I', 'EXCEED_SPEED_LIMIT_I', 'TOWED_BY', 'TOWED_TO', 'AREA_00_I', 'AREA_01_I', 'AREA_02_I', 'AREA_03_I', 'AREA_04_I', 'AREA_05_I', 'AREA_06_I', 'AREA_07_I', 'AREA_08_I', 'AREA_09_I', 'AREA_10_I', 'AREA_11_I', 'AREA_12_I', 'AREA_99_I', 'CMV_ID', 'USDOT_NO', 'CCMC_NO', 'ILCC_NO', 'COMMERCIAL_SRC', 'GVWR', 'CARRIER_NAME', 'CARRIER_STATE', 'CARRIER_CITY', 'HAZMAT_PLACARDS_I', 'HAZMAT_NAME', 'UN_NO', 'HAZMAT_PRESENT_I', 'HAZMAT_REPORT_I', 'HAZMAT_REPORT_NO', 'MCS_REPORT_I', 'MCS_REPORT_NO', 'HAZMAT_VIO_CAUSE_CRASH_I', 'MCS_VIO_CAUSE_CRASH_I', 'IDOT_PERMIT_NO', 'WIDE_LOAD_I', 'TRAILER1_WIDTH', 'TRAILER2_WIDTH', 'TRAILER1_LENGTH', 'TRAILER2_LENGTH', 'TOTAL_VEHICLE_LENGTH', 'AXLE_CNT', 'VEHICLE_CONFIG', 'CARGO_BODY_TYPE', 'LOAD_TYPE', 'HAZMAT_OUT_OF_SERVICE_I', 'MCS_OUT_OF_SERVICE_I', 'HAZMAT_CLASS']\n"
     ]
    }
   ],
   "source": [
    "rows_w_nan(vehicles)"
   ]
  },
  {
   "cell_type": "code",
   "execution_count": 100,
   "metadata": {},
   "outputs": [],
   "source": [
    "vehicles = vehicles.drop(columns=['NUM_PASSENGERS', 'CMRC_VEH_I', 'TOWED_I', 'FIRE_I', 'EXCEED_SPEED_LIMIT_I', \n",
    "                                  'TOWED_BY', 'TOWED_TO', 'AREA_00_I', 'AREA_01_I', 'AREA_02_I', 'AREA_03_I', \n",
    "                                  'AREA_04_I', 'AREA_05_I', 'AREA_06_I', 'AREA_07_I', 'AREA_08_I', 'AREA_09_I', \n",
    "                                  'AREA_10_I', 'AREA_11_I', 'AREA_12_I', 'AREA_99_I', 'CMV_ID', 'USDOT_NO', 'CCMC_NO', \n",
    "                                  'ILCC_NO', 'COMMERCIAL_SRC', 'GVWR', 'CARRIER_NAME', 'CARRIER_STATE', 'CARRIER_CITY',\n",
    "                                  'HAZMAT_PLACARDS_I', 'HAZMAT_NAME', 'UN_NO', 'HAZMAT_PRESENT_I', 'HAZMAT_REPORT_I',\n",
    "                                  'HAZMAT_REPORT_NO', 'MCS_REPORT_I', 'MCS_REPORT_NO', 'HAZMAT_VIO_CAUSE_CRASH_I',\n",
    "                                  'MCS_VIO_CAUSE_CRASH_I', 'IDOT_PERMIT_NO', 'WIDE_LOAD_I', 'TRAILER1_WIDTH',\n",
    "                                  'TRAILER2_WIDTH', 'TRAILER1_LENGTH', 'TRAILER2_LENGTH', 'TOTAL_VEHICLE_LENGTH',\n",
    "                                  'AXLE_CNT', 'VEHICLE_CONFIG', 'CARGO_BODY_TYPE', 'LOAD_TYPE', 'HAZMAT_OUT_OF_SERVICE_I',\n",
    "                                  'MCS_OUT_OF_SERVICE_I', 'HAZMAT_CLASS', 'LIC_PLATE_STATE'])"
   ]
  },
  {
   "cell_type": "code",
   "execution_count": 101,
   "metadata": {},
   "outputs": [],
   "source": [
    "vehicles.dropna(inplace=True)"
   ]
  },
  {
   "cell_type": "code",
   "execution_count": 102,
   "metadata": {
    "scrolled": true
   },
   "outputs": [
    {
     "data": {
      "text/plain": [
       "CRASH_UNIT_ID          0\n",
       "CRASH_RECORD_ID        0\n",
       "RD_NO                  0\n",
       "CRASH_DATE             0\n",
       "UNIT_NO                0\n",
       "UNIT_TYPE              0\n",
       "VEHICLE_ID             0\n",
       "MAKE                   0\n",
       "MODEL                  0\n",
       "VEHICLE_YEAR           0\n",
       "VEHICLE_DEFECT         0\n",
       "VEHICLE_TYPE           0\n",
       "VEHICLE_USE            0\n",
       "TRAVEL_DIRECTION       0\n",
       "MANEUVER               0\n",
       "OCCUPANT_CNT           0\n",
       "FIRST_CONTACT_POINT    0\n",
       "dtype: int64"
      ]
     },
     "execution_count": 102,
     "metadata": {},
     "output_type": "execute_result"
    }
   ],
   "source": [
    "vehicles.isna().sum()"
   ]
  },
  {
   "cell_type": "markdown",
   "metadata": {},
   "source": [
    "### Done Treating the Data"
   ]
  },
  {
   "cell_type": "code",
   "execution_count": 103,
   "metadata": {},
   "outputs": [],
   "source": [
    "def columns_repeat(data, data1, data2):\n",
    "    data_columns = []\n",
    "    data1_columns = []\n",
    "    data2_columns = []\n",
    "    data_data1 = []\n",
    "    data_data2 = []\n",
    "    data_data3 = []\n",
    "    for x in data.columns:\n",
    "        data_columns.append(x)\n",
    "    for y in data1.columns:\n",
    "        data1_columns.append(y)\n",
    "    for z in data2.columns:\n",
    "        data2_columns.append(z)\n",
    "     \n",
    "    for a in data_columns:\n",
    "        if a in data1_columns:\n",
    "            data_data1.append(a)\n",
    "            \n",
    "    for b in data_columns:\n",
    "        if b in data2_columns:\n",
    "            data_data2.append(b)\n",
    "    \n",
    "    for c in data1_columns:\n",
    "        if c in data2_columns:\n",
    "            data_data3.append(c)\n",
    "        \n",
    "    return(data_data1, data_data2, data_data3)\n",
    "        \n",
    "        \n",
    "        "
   ]
  },
  {
   "cell_type": "code",
   "execution_count": 104,
   "metadata": {
    "scrolled": false
   },
   "outputs": [
    {
     "data": {
      "text/plain": [
       "(['CRASH_RECORD_ID'],\n",
       " ['CRASH_RECORD_ID', 'RD_NO', 'VEHICLE_ID', 'CRASH_DATE'],\n",
       " ['CRASH_RECORD_ID'])"
      ]
     },
     "execution_count": 104,
     "metadata": {},
     "output_type": "execute_result"
    }
   ],
   "source": [
    "columns_repeat(people, crashes, vehicles)"
   ]
  },
  {
   "cell_type": "code",
   "execution_count": 105,
   "metadata": {},
   "outputs": [],
   "source": [
    "# Since we only want ONE columns to be repeated, we drop the others that repeat\n",
    "vehicles = vehicles.drop(columns=['RD_NO', 'VEHICLE_ID', 'CRASH_DATE'])"
   ]
  },
  {
   "cell_type": "code",
   "execution_count": 106,
   "metadata": {},
   "outputs": [
    {
     "data": {
      "text/plain": [
       "(582937, 18)"
      ]
     },
     "execution_count": 106,
     "metadata": {},
     "output_type": "execute_result"
    }
   ],
   "source": [
    "people.shape"
   ]
  },
  {
   "cell_type": "code",
   "execution_count": 107,
   "metadata": {},
   "outputs": [
    {
     "data": {
      "text/plain": [
       "(467539, 38)"
      ]
     },
     "execution_count": 107,
     "metadata": {},
     "output_type": "execute_result"
    }
   ],
   "source": [
    "crashes.shape"
   ]
  },
  {
   "cell_type": "code",
   "execution_count": 108,
   "metadata": {},
   "outputs": [
    {
     "data": {
      "text/plain": [
       "(796760, 14)"
      ]
     },
     "execution_count": 108,
     "metadata": {},
     "output_type": "execute_result"
    }
   ],
   "source": [
    "vehicles.shape"
   ]
  },
  {
   "cell_type": "code",
   "execution_count": 109,
   "metadata": {},
   "outputs": [
    {
     "data": {
      "text/plain": [
       "(765967, 51)"
      ]
     },
     "execution_count": 109,
     "metadata": {},
     "output_type": "execute_result"
    }
   ],
   "source": [
    "# Join the 3 datasets together\n",
    "inner_merged_total = pd.merge(vehicles, crashes, on=['CRASH_RECORD_ID'])\n",
    "inner_merged_total.shape"
   ]
  },
  {
   "cell_type": "code",
   "execution_count": 110,
   "metadata": {
    "scrolled": true
   },
   "outputs": [
    {
     "data": {
      "text/plain": [
       "(765967, 51)"
      ]
     },
     "execution_count": 110,
     "metadata": {},
     "output_type": "execute_result"
    }
   ],
   "source": [
    "inner_merged_total.shape"
   ]
  },
  {
   "cell_type": "code",
   "execution_count": 111,
   "metadata": {},
   "outputs": [],
   "source": [
    "inner_merged_total = pd.merge(inner_merged_total, people, on=['CRASH_RECORD_ID'])"
   ]
  },
  {
   "cell_type": "code",
   "execution_count": 112,
   "metadata": {},
   "outputs": [
    {
     "data": {
      "text/plain": [
       "(1050234, 68)"
      ]
     },
     "execution_count": 112,
     "metadata": {},
     "output_type": "execute_result"
    }
   ],
   "source": [
    "inner_merged_total.shape"
   ]
  },
  {
   "cell_type": "code",
   "execution_count": 113,
   "metadata": {},
   "outputs": [
    {
     "data": {
      "text/plain": [
       "0"
      ]
     },
     "execution_count": 113,
     "metadata": {},
     "output_type": "execute_result"
    }
   ],
   "source": [
    "inner_merged_total.isna().sum().sum()"
   ]
  },
  {
   "cell_type": "code",
   "execution_count": 114,
   "metadata": {
    "scrolled": true
   },
   "outputs": [
    {
     "data": {
      "text/plain": [
       "0"
      ]
     },
     "execution_count": 114,
     "metadata": {},
     "output_type": "execute_result"
    }
   ],
   "source": [
    "inner_merged_total.duplicated().sum()"
   ]
  },
  {
   "cell_type": "code",
   "execution_count": 115,
   "metadata": {
    "scrolled": false
   },
   "outputs": [
    {
     "data": {
      "text/plain": [
       "Index(['CRASH_UNIT_ID', 'CRASH_RECORD_ID', 'UNIT_NO', 'UNIT_TYPE', 'MAKE',\n",
       "       'MODEL', 'VEHICLE_YEAR', 'VEHICLE_DEFECT', 'VEHICLE_TYPE',\n",
       "       'VEHICLE_USE', 'TRAVEL_DIRECTION', 'MANEUVER', 'OCCUPANT_CNT',\n",
       "       'FIRST_CONTACT_POINT', 'POSTED_SPEED_LIMIT', 'TRAFFIC_CONTROL_DEVICE',\n",
       "       'DEVICE_CONDITION', 'WEATHER_CONDITION', 'LIGHTING_CONDITION',\n",
       "       'FIRST_CRASH_TYPE', 'TRAFFICWAY_TYPE', 'ALIGNMENT',\n",
       "       'ROADWAY_SURFACE_COND', 'ROAD_DEFECT', 'REPORT_TYPE', 'CRASH_TYPE',\n",
       "       'DAMAGE', 'DATE_POLICE_NOTIFIED', 'PRIM_CONTRIBUTORY_CAUSE',\n",
       "       'SEC_CONTRIBUTORY_CAUSE', 'STREET_NO', 'STREET_DIRECTION',\n",
       "       'STREET_NAME', 'BEAT_OF_OCCURRENCE', 'NUM_UNITS', 'MOST_SEVERE_INJURY',\n",
       "       'INJURIES_TOTAL', 'INJURIES_FATAL', 'INJURIES_INCAPACITATING',\n",
       "       'INJURIES_NON_INCAPACITATING', 'INJURIES_REPORTED_NOT_EVIDENT',\n",
       "       'INJURIES_NO_INDICATION', 'INJURIES_UNKNOWN', 'CRASH_HOUR',\n",
       "       'CRASH_DAY_OF_WEEK', 'CRASH_MONTH', 'LATITUDE', 'LONGITUDE',\n",
       "       'DATE_ACCIDENT', 'IS_A_HOLIDAY', 'HOLIDAY_NAME', 'PERSON_ID',\n",
       "       'PERSON_TYPE', 'RD_NO', 'VEHICLE_ID', 'CRASH_DATE', 'CITY', 'STATE',\n",
       "       'SEX', 'AGE', 'SAFETY_EQUIPMENT', 'AIRBAG_DEPLOYED', 'EJECTION',\n",
       "       'INJURY_CLASSIFICATION', 'DRIVER_ACTION', 'DRIVER_VISION',\n",
       "       'PHYSICAL_CONDITION', 'BAC_RESULT'],\n",
       "      dtype='object')"
      ]
     },
     "execution_count": 115,
     "metadata": {},
     "output_type": "execute_result"
    }
   ],
   "source": [
    "inner_merged_total.columns"
   ]
  },
  {
   "cell_type": "markdown",
   "metadata": {},
   "source": [
    "# Notes:"
   ]
  },
  {
   "cell_type": "code",
   "execution_count": 116,
   "metadata": {},
   "outputs": [],
   "source": [
    "#plt.style.use('ggplot')"
   ]
  },
  {
   "cell_type": "markdown",
   "metadata": {},
   "source": [
    "1) Chicago Car Crashes (Links to an external site.)\n",
    "Note this links also to Vehicle Data (Links to an external site.) and to Driver/Passenger Data (Links to an external site.).\n",
    "\n",
    "Build a classifier to predict the primary contributory cause of a car accident, given information about the car,\n",
    "the people in the car,the road conditions etc. You might imagine your audience as a Vehicle Safety Board who's\n",
    "interested in reducing traffic accidents, or as the City of Chicago who's interested in becoming aware of any\n",
    "interesting patterns. Note that there is a multi-class classification problem. You will almost certainly want to bin \n",
    "or trim or otherwise limit the number of target categories on which you ultimately predict. Note e.g. that some\n",
    "primary contributory causes have very few samples."
   ]
  },
  {
   "cell_type": "markdown",
   "metadata": {},
   "source": [
    "This criterion is linked to a Learning OutcomeBusiness Understanding\n",
    "\n",
    "Explains the project's real-world value for a specific stakeholder"
   ]
  },
  {
   "cell_type": "markdown",
   "metadata": {},
   "source": [
    "This criterion is linked to a Learning OutcomeData Understanding\n",
    "\n",
    "Explicitly relates data's source and properties to real-world problem"
   ]
  },
  {
   "cell_type": "markdown",
   "metadata": {},
   "source": [
    "This criterion is linked to a Learning OutcomeData Preparation\n",
    "\n",
    "Data preparation is reproducible and well-documented with valid justifications"
   ]
  },
  {
   "cell_type": "markdown",
   "metadata": {},
   "source": [
    "Modeling\n",
    "\n",
    "Model development is iterative and documented with valid justifications"
   ]
  },
  {
   "cell_type": "markdown",
   "metadata": {},
   "source": [
    "This criterion is linked to a Learning OutcomeClassification Results\n",
    "\n",
    "Explains how well the project solves the real-world problem"
   ]
  },
  {
   "cell_type": "markdown",
   "metadata": {},
   "source": [
    "This criterion is linked to a Learning OutcomeVisualization\n",
    "\n",
    "Includes three polished visualizations of relevant findings"
   ]
  },
  {
   "cell_type": "markdown",
   "metadata": {},
   "source": [
    "GitHub Repository\n",
    "\n",
    "Repository uses all \"best practices\" for README, structure, and commits"
   ]
  },
  {
   "cell_type": "markdown",
   "metadata": {},
   "source": [
    "Presentation Content\n",
    "\n",
    "Presentation clearly shows stakeholders how well the project meets their needs"
   ]
  },
  {
   "cell_type": "markdown",
   "metadata": {},
   "source": [
    "This criterion is linked to a Learning OutcomeSlide Style\n",
    "\n",
    "Slides have a fully professional style"
   ]
  },
  {
   "cell_type": "markdown",
   "metadata": {},
   "source": [
    "This criterion is linked to a Learning OutcomePresentation Delivery\n",
    "\n",
    "Presentation engagingly and clearly delivers the intended content"
   ]
  },
  {
   "cell_type": "markdown",
   "metadata": {},
   "source": [
    "This criterion is linked to a Learning OutcomeAnswers to Questions\n",
    "\n",
    "Answers are fully clear and appropriate"
   ]
  },
  {
   "cell_type": "markdown",
   "metadata": {},
   "source": [
    "# Modeling"
   ]
  },
  {
   "cell_type": "code",
   "execution_count": 117,
   "metadata": {
    "scrolled": true
   },
   "outputs": [
    {
     "data": {
      "text/plain": [
       "NO INDICATION OF INJURY        408734\n",
       "NONINCAPACITATING INJURY        51069\n",
       "INCAPACITATING INJURY/FATAL      7736\n",
       "Name: MOST_SEVERE_INJURY, dtype: int64"
      ]
     },
     "execution_count": 117,
     "metadata": {},
     "output_type": "execute_result"
    }
   ],
   "source": [
    "crashes.MOST_SEVERE_INJURY.value_counts()"
   ]
  },
  {
   "cell_type": "code",
   "execution_count": 118,
   "metadata": {},
   "outputs": [
    {
     "data": {
      "text/html": [
       "<div>\n",
       "<style scoped>\n",
       "    .dataframe tbody tr th:only-of-type {\n",
       "        vertical-align: middle;\n",
       "    }\n",
       "\n",
       "    .dataframe tbody tr th {\n",
       "        vertical-align: top;\n",
       "    }\n",
       "\n",
       "    .dataframe thead th {\n",
       "        text-align: right;\n",
       "    }\n",
       "</style>\n",
       "<table border=\"1\" class=\"dataframe\">\n",
       "  <thead>\n",
       "    <tr style=\"text-align: right;\">\n",
       "      <th></th>\n",
       "      <th>CRASH_RECORD_ID</th>\n",
       "      <th>POSTED_SPEED_LIMIT</th>\n",
       "      <th>TRAFFIC_CONTROL_DEVICE</th>\n",
       "      <th>DEVICE_CONDITION</th>\n",
       "      <th>WEATHER_CONDITION</th>\n",
       "      <th>LIGHTING_CONDITION</th>\n",
       "      <th>FIRST_CRASH_TYPE</th>\n",
       "      <th>TRAFFICWAY_TYPE</th>\n",
       "      <th>ALIGNMENT</th>\n",
       "      <th>ROADWAY_SURFACE_COND</th>\n",
       "      <th>...</th>\n",
       "      <th>INJURIES_NO_INDICATION</th>\n",
       "      <th>INJURIES_UNKNOWN</th>\n",
       "      <th>CRASH_HOUR</th>\n",
       "      <th>CRASH_DAY_OF_WEEK</th>\n",
       "      <th>CRASH_MONTH</th>\n",
       "      <th>LATITUDE</th>\n",
       "      <th>LONGITUDE</th>\n",
       "      <th>DATE_ACCIDENT</th>\n",
       "      <th>IS_A_HOLIDAY</th>\n",
       "      <th>HOLIDAY_NAME</th>\n",
       "    </tr>\n",
       "  </thead>\n",
       "  <tbody>\n",
       "    <tr>\n",
       "      <th>0</th>\n",
       "      <td>4fd0a3e0897b3335b94cd8d5b2d2b350eb691add56c62d...</td>\n",
       "      <td>35</td>\n",
       "      <td>NO CONTROLS</td>\n",
       "      <td>NO CONTROLS</td>\n",
       "      <td>CLEAR</td>\n",
       "      <td>DAYLIGHT</td>\n",
       "      <td>TURNING</td>\n",
       "      <td>ONE-WAY</td>\n",
       "      <td>STRAIGHT AND LEVEL</td>\n",
       "      <td>DRY</td>\n",
       "      <td>...</td>\n",
       "      <td>3.0</td>\n",
       "      <td>0.0</td>\n",
       "      <td>17</td>\n",
       "      <td>4</td>\n",
       "      <td>7</td>\n",
       "      <td>41.919664</td>\n",
       "      <td>-87.773288</td>\n",
       "      <td>2019-07-10 17:56:00</td>\n",
       "      <td>0</td>\n",
       "      <td>0</td>\n",
       "    </tr>\n",
       "    <tr>\n",
       "      <th>1</th>\n",
       "      <td>009e9e67203442370272e1a13d6ee51a4155dac65e583d...</td>\n",
       "      <td>35</td>\n",
       "      <td>STOP SIGN/FLASHER</td>\n",
       "      <td>FUNCTIONING PROPERLY</td>\n",
       "      <td>CLEAR</td>\n",
       "      <td>DAYLIGHT</td>\n",
       "      <td>TURNING</td>\n",
       "      <td>NOT DIVIDED</td>\n",
       "      <td>STRAIGHT AND LEVEL</td>\n",
       "      <td>DRY</td>\n",
       "      <td>...</td>\n",
       "      <td>3.0</td>\n",
       "      <td>0.0</td>\n",
       "      <td>16</td>\n",
       "      <td>6</td>\n",
       "      <td>6</td>\n",
       "      <td>41.741804</td>\n",
       "      <td>-87.740954</td>\n",
       "      <td>2017-06-30 16:00:00</td>\n",
       "      <td>0</td>\n",
       "      <td>0</td>\n",
       "    </tr>\n",
       "    <tr>\n",
       "      <th>2</th>\n",
       "      <td>ee9283eff3a55ac50ee58f3d9528ce1d689b1c4180b4c4...</td>\n",
       "      <td>30</td>\n",
       "      <td>TRAFFIC SIGNAL</td>\n",
       "      <td>FUNCTIONING PROPERLY</td>\n",
       "      <td>CLEAR</td>\n",
       "      <td>DAYLIGHT</td>\n",
       "      <td>REAR END</td>\n",
       "      <td>FOUR WAY</td>\n",
       "      <td>STRAIGHT AND LEVEL</td>\n",
       "      <td>DRY</td>\n",
       "      <td>...</td>\n",
       "      <td>3.0</td>\n",
       "      <td>0.0</td>\n",
       "      <td>10</td>\n",
       "      <td>6</td>\n",
       "      <td>7</td>\n",
       "      <td>41.773456</td>\n",
       "      <td>-87.585022</td>\n",
       "      <td>2020-07-10 10:25:00</td>\n",
       "      <td>0</td>\n",
       "      <td>0</td>\n",
       "    </tr>\n",
       "    <tr>\n",
       "      <th>3</th>\n",
       "      <td>f8960f698e870ebdc60b521b2a141a5395556bc3704191...</td>\n",
       "      <td>30</td>\n",
       "      <td>NO CONTROLS</td>\n",
       "      <td>NO CONTROLS</td>\n",
       "      <td>CLEAR</td>\n",
       "      <td>DARKNESS</td>\n",
       "      <td>PARKED MOTOR VEHICLE</td>\n",
       "      <td>DIVIDED - W/MEDIAN (NOT RAISED)</td>\n",
       "      <td>STRAIGHT AND LEVEL</td>\n",
       "      <td>DRY</td>\n",
       "      <td>...</td>\n",
       "      <td>3.0</td>\n",
       "      <td>0.0</td>\n",
       "      <td>1</td>\n",
       "      <td>7</td>\n",
       "      <td>7</td>\n",
       "      <td>41.802119</td>\n",
       "      <td>-87.622115</td>\n",
       "      <td>2020-07-11 01:00:00</td>\n",
       "      <td>0</td>\n",
       "      <td>0</td>\n",
       "    </tr>\n",
       "    <tr>\n",
       "      <th>5</th>\n",
       "      <td>00e47f189660cd8ba1e85fc63061bf1d8465184393f134...</td>\n",
       "      <td>30</td>\n",
       "      <td>TRAFFIC SIGNAL</td>\n",
       "      <td>FUNCTIONING PROPERLY</td>\n",
       "      <td>CLEAR</td>\n",
       "      <td>DARKNESS, LIGHTED ROAD</td>\n",
       "      <td>TURNING</td>\n",
       "      <td>NOT DIVIDED</td>\n",
       "      <td>STRAIGHT AND LEVEL</td>\n",
       "      <td>DRY</td>\n",
       "      <td>...</td>\n",
       "      <td>2.0</td>\n",
       "      <td>0.0</td>\n",
       "      <td>22</td>\n",
       "      <td>5</td>\n",
       "      <td>3</td>\n",
       "      <td>41.741804</td>\n",
       "      <td>-87.740954</td>\n",
       "      <td>2019-03-21 22:50:00</td>\n",
       "      <td>0</td>\n",
       "      <td>0</td>\n",
       "    </tr>\n",
       "  </tbody>\n",
       "</table>\n",
       "<p>5 rows × 38 columns</p>\n",
       "</div>"
      ],
      "text/plain": [
       "                                     CRASH_RECORD_ID  POSTED_SPEED_LIMIT  \\\n",
       "0  4fd0a3e0897b3335b94cd8d5b2d2b350eb691add56c62d...                  35   \n",
       "1  009e9e67203442370272e1a13d6ee51a4155dac65e583d...                  35   \n",
       "2  ee9283eff3a55ac50ee58f3d9528ce1d689b1c4180b4c4...                  30   \n",
       "3  f8960f698e870ebdc60b521b2a141a5395556bc3704191...                  30   \n",
       "5  00e47f189660cd8ba1e85fc63061bf1d8465184393f134...                  30   \n",
       "\n",
       "  TRAFFIC_CONTROL_DEVICE      DEVICE_CONDITION WEATHER_CONDITION  \\\n",
       "0            NO CONTROLS           NO CONTROLS             CLEAR   \n",
       "1      STOP SIGN/FLASHER  FUNCTIONING PROPERLY             CLEAR   \n",
       "2         TRAFFIC SIGNAL  FUNCTIONING PROPERLY             CLEAR   \n",
       "3            NO CONTROLS           NO CONTROLS             CLEAR   \n",
       "5         TRAFFIC SIGNAL  FUNCTIONING PROPERLY             CLEAR   \n",
       "\n",
       "       LIGHTING_CONDITION      FIRST_CRASH_TYPE  \\\n",
       "0                DAYLIGHT               TURNING   \n",
       "1                DAYLIGHT               TURNING   \n",
       "2                DAYLIGHT              REAR END   \n",
       "3                DARKNESS  PARKED MOTOR VEHICLE   \n",
       "5  DARKNESS, LIGHTED ROAD               TURNING   \n",
       "\n",
       "                   TRAFFICWAY_TYPE           ALIGNMENT ROADWAY_SURFACE_COND  \\\n",
       "0                          ONE-WAY  STRAIGHT AND LEVEL                  DRY   \n",
       "1                      NOT DIVIDED  STRAIGHT AND LEVEL                  DRY   \n",
       "2                         FOUR WAY  STRAIGHT AND LEVEL                  DRY   \n",
       "3  DIVIDED - W/MEDIAN (NOT RAISED)  STRAIGHT AND LEVEL                  DRY   \n",
       "5                      NOT DIVIDED  STRAIGHT AND LEVEL                  DRY   \n",
       "\n",
       "   ... INJURIES_NO_INDICATION INJURIES_UNKNOWN CRASH_HOUR CRASH_DAY_OF_WEEK  \\\n",
       "0  ...                    3.0              0.0         17                 4   \n",
       "1  ...                    3.0              0.0         16                 6   \n",
       "2  ...                    3.0              0.0         10                 6   \n",
       "3  ...                    3.0              0.0          1                 7   \n",
       "5  ...                    2.0              0.0         22                 5   \n",
       "\n",
       "  CRASH_MONTH   LATITUDE  LONGITUDE       DATE_ACCIDENT IS_A_HOLIDAY  \\\n",
       "0           7  41.919664 -87.773288 2019-07-10 17:56:00            0   \n",
       "1           6  41.741804 -87.740954 2017-06-30 16:00:00            0   \n",
       "2           7  41.773456 -87.585022 2020-07-10 10:25:00            0   \n",
       "3           7  41.802119 -87.622115 2020-07-11 01:00:00            0   \n",
       "5           3  41.741804 -87.740954 2019-03-21 22:50:00            0   \n",
       "\n",
       "  HOLIDAY_NAME  \n",
       "0            0  \n",
       "1            0  \n",
       "2            0  \n",
       "3            0  \n",
       "5            0  \n",
       "\n",
       "[5 rows x 38 columns]"
      ]
     },
     "execution_count": 118,
     "metadata": {},
     "output_type": "execute_result"
    }
   ],
   "source": [
    "crashes.head()"
   ]
  },
  {
   "cell_type": "code",
   "execution_count": 119,
   "metadata": {},
   "outputs": [
    {
     "data": {
      "text/plain": [
       "Index(['CRASH_RECORD_ID', 'POSTED_SPEED_LIMIT', 'TRAFFIC_CONTROL_DEVICE',\n",
       "       'DEVICE_CONDITION', 'WEATHER_CONDITION', 'LIGHTING_CONDITION',\n",
       "       'FIRST_CRASH_TYPE', 'TRAFFICWAY_TYPE', 'ALIGNMENT',\n",
       "       'ROADWAY_SURFACE_COND', 'ROAD_DEFECT', 'REPORT_TYPE', 'CRASH_TYPE',\n",
       "       'DAMAGE', 'DATE_POLICE_NOTIFIED', 'PRIM_CONTRIBUTORY_CAUSE',\n",
       "       'SEC_CONTRIBUTORY_CAUSE', 'STREET_NO', 'STREET_DIRECTION',\n",
       "       'STREET_NAME', 'BEAT_OF_OCCURRENCE', 'NUM_UNITS', 'MOST_SEVERE_INJURY',\n",
       "       'INJURIES_TOTAL', 'INJURIES_FATAL', 'INJURIES_INCAPACITATING',\n",
       "       'INJURIES_NON_INCAPACITATING', 'INJURIES_REPORTED_NOT_EVIDENT',\n",
       "       'INJURIES_NO_INDICATION', 'INJURIES_UNKNOWN', 'CRASH_HOUR',\n",
       "       'CRASH_DAY_OF_WEEK', 'CRASH_MONTH', 'LATITUDE', 'LONGITUDE',\n",
       "       'DATE_ACCIDENT', 'IS_A_HOLIDAY', 'HOLIDAY_NAME'],\n",
       "      dtype='object')"
      ]
     },
     "execution_count": 119,
     "metadata": {},
     "output_type": "execute_result"
    }
   ],
   "source": [
    "crashes.columns"
   ]
  },
  {
   "cell_type": "code",
   "execution_count": 120,
   "metadata": {},
   "outputs": [],
   "source": [
    "X_model_features = ['IS_A_HOLIDAY', 'STREET_NO', 'DAMAGE', 'ROADWAY_SURFACE_COND', 'POSTED_SPEED_LIMIT', \n",
    "                    'WEATHER_CONDITION', 'LIGHTING_CONDITION']"
   ]
  },
  {
   "cell_type": "code",
   "execution_count": 121,
   "metadata": {},
   "outputs": [],
   "source": [
    "X = crashes[X_model_features]"
   ]
  },
  {
   "cell_type": "code",
   "execution_count": 122,
   "metadata": {},
   "outputs": [],
   "source": [
    "from sklearn.preprocessing import OneHotEncoder"
   ]
  },
  {
   "cell_type": "code",
   "execution_count": 123,
   "metadata": {
    "scrolled": false
   },
   "outputs": [
    {
     "data": {
      "text/plain": [
       "array([[0., 0., 1., ..., 1., 0., 0.],\n",
       "       [0., 0., 1., ..., 1., 0., 0.],\n",
       "       [0., 0., 1., ..., 1., 0., 0.],\n",
       "       ...,\n",
       "       [0., 0., 1., ..., 1., 0., 0.],\n",
       "       [0., 0., 1., ..., 1., 0., 0.],\n",
       "       [0., 0., 1., ..., 1., 0., 0.]])"
      ]
     },
     "execution_count": 123,
     "metadata": {},
     "output_type": "execute_result"
    }
   ],
   "source": [
    "ohe = OneHotEncoder(sparse=False, handle_unknown='ignore')\n",
    "ohe.fit_transform(X.select_dtypes(include='object'))"
   ]
  },
  {
   "cell_type": "code",
   "execution_count": 124,
   "metadata": {
    "scrolled": true
   },
   "outputs": [
    {
     "data": {
      "text/plain": [
       "array(['x0_$500 OR LESS', 'x0_$501 - $1,500', 'x0_OVER $1,500', 'x1_DRY',\n",
       "       'x1_ICE', 'x1_OTHER', 'x1_SAND, MUD, DIRT', 'x1_SNOW OR SLUSH',\n",
       "       'x1_UNKNOWN', 'x1_WET', 'x2_CLEAR', 'x2_CLOUDY/OVERCAST',\n",
       "       'x2_OTHER', 'x2_RAIN', 'x2_SNOW', 'x2_UNKNOWN', 'x3_DARKNESS',\n",
       "       'x3_DARKNESS, LIGHTED ROAD', 'x3_DAWN', 'x3_DAYLIGHT', 'x3_DUSK',\n",
       "       'x3_UNKNOWN'], dtype=object)"
      ]
     },
     "execution_count": 124,
     "metadata": {},
     "output_type": "execute_result"
    }
   ],
   "source": [
    "ohe.get_feature_names()"
   ]
  },
  {
   "cell_type": "code",
   "execution_count": 125,
   "metadata": {},
   "outputs": [],
   "source": [
    "from sklearn.model_selection import KFold\n",
    "from sklearn.metrics import precision_score\n"
   ]
  },
  {
   "cell_type": "markdown",
   "metadata": {},
   "source": [
    "kf = KFold()\n",
    "precision_scores = []\n",
    "for trained_indices, val_indices in kf.split(X, y):\n",
    "    X_t = X.iloc[trained_indices]\n",
    "    X_val = X.iloc[val_indices]\n",
    "    y_t = y.iloc[trained_indices]\n",
    "    y_val = y.iloc[val_indices]\n",
    "    ohe = OneHotEncoder(sparse=False, handle_unknown='ignore')\n",
    "    X_t_cat = ohe.fit_transform(X_t.select_dtypes(include='object'))\n",
    "    X_t_num = ohe.fit_transform(X_t.select_dtypes(exclude='object'))\n",
    "    \n",
    "    \n",
    "    precision_score(average='weighted')\n",
    "    \n",
    "    dates_holidays crashes_holiday['DATE_REAL'] inner_merged_total = pd.merge(inner_merged_total, people, on=['CRASH_RECORD_ID'])"
   ]
  },
  {
   "cell_type": "code",
   "execution_count": 126,
   "metadata": {},
   "outputs": [],
   "source": [
    "y = crashes['MOST_SEVERE_INJURY']"
   ]
  },
  {
   "cell_type": "code",
   "execution_count": 127,
   "metadata": {},
   "outputs": [
    {
     "data": {
      "text/plain": [
       "NO INDICATION OF INJURY        408734\n",
       "NONINCAPACITATING INJURY        51069\n",
       "INCAPACITATING INJURY/FATAL      7736\n",
       "Name: MOST_SEVERE_INJURY, dtype: int64"
      ]
     },
     "execution_count": 127,
     "metadata": {},
     "output_type": "execute_result"
    }
   ],
   "source": [
    "y.value_counts()"
   ]
  },
  {
   "cell_type": "code",
   "execution_count": null,
   "metadata": {},
   "outputs": [],
   "source": []
  },
  {
   "cell_type": "code",
   "execution_count": 128,
   "metadata": {
    "scrolled": true
   },
   "outputs": [
    {
     "data": {
      "text/html": [
       "<div>\n",
       "<style scoped>\n",
       "    .dataframe tbody tr th:only-of-type {\n",
       "        vertical-align: middle;\n",
       "    }\n",
       "\n",
       "    .dataframe tbody tr th {\n",
       "        vertical-align: top;\n",
       "    }\n",
       "\n",
       "    .dataframe thead th {\n",
       "        text-align: right;\n",
       "    }\n",
       "</style>\n",
       "<table border=\"1\" class=\"dataframe\">\n",
       "  <thead>\n",
       "    <tr style=\"text-align: right;\">\n",
       "      <th></th>\n",
       "      <th>0</th>\n",
       "    </tr>\n",
       "  </thead>\n",
       "  <tbody>\n",
       "    <tr>\n",
       "      <th>2012-01-02</th>\n",
       "      <td>New Years Day</td>\n",
       "    </tr>\n",
       "    <tr>\n",
       "      <th>2012-01-16</th>\n",
       "      <td>Martin Luther King Jr. Day</td>\n",
       "    </tr>\n",
       "    <tr>\n",
       "      <th>2012-02-20</th>\n",
       "      <td>Presidents Day</td>\n",
       "    </tr>\n",
       "  </tbody>\n",
       "</table>\n",
       "</div>"
      ],
      "text/plain": [
       "                                     0\n",
       "2012-01-02               New Years Day\n",
       "2012-01-16  Martin Luther King Jr. Day\n",
       "2012-02-20              Presidents Day"
      ]
     },
     "execution_count": 128,
     "metadata": {},
     "output_type": "execute_result"
    }
   ],
   "source": [
    "dates_holidays.head(3)"
   ]
  },
  {
   "cell_type": "code",
   "execution_count": 129,
   "metadata": {},
   "outputs": [],
   "source": [
    "dates_holidays.index.name = 'DATE_REAL'"
   ]
  },
  {
   "cell_type": "code",
   "execution_count": 130,
   "metadata": {
    "scrolled": true
   },
   "outputs": [
    {
     "data": {
      "text/html": [
       "<div>\n",
       "<style scoped>\n",
       "    .dataframe tbody tr th:only-of-type {\n",
       "        vertical-align: middle;\n",
       "    }\n",
       "\n",
       "    .dataframe tbody tr th {\n",
       "        vertical-align: top;\n",
       "    }\n",
       "\n",
       "    .dataframe thead th {\n",
       "        text-align: right;\n",
       "    }\n",
       "</style>\n",
       "<table border=\"1\" class=\"dataframe\">\n",
       "  <thead>\n",
       "    <tr style=\"text-align: right;\">\n",
       "      <th></th>\n",
       "      <th>CRASH_RECORD_ID</th>\n",
       "      <th>POSTED_SPEED_LIMIT</th>\n",
       "      <th>TRAFFIC_CONTROL_DEVICE</th>\n",
       "      <th>DEVICE_CONDITION</th>\n",
       "      <th>WEATHER_CONDITION</th>\n",
       "      <th>LIGHTING_CONDITION</th>\n",
       "      <th>FIRST_CRASH_TYPE</th>\n",
       "      <th>TRAFFICWAY_TYPE</th>\n",
       "      <th>ALIGNMENT</th>\n",
       "      <th>ROADWAY_SURFACE_COND</th>\n",
       "      <th>...</th>\n",
       "      <th>INJURIES_UNKNOWN</th>\n",
       "      <th>CRASH_HOUR</th>\n",
       "      <th>CRASH_DAY_OF_WEEK</th>\n",
       "      <th>CRASH_MONTH</th>\n",
       "      <th>LATITUDE</th>\n",
       "      <th>LONGITUDE</th>\n",
       "      <th>DATE_ACCIDENT</th>\n",
       "      <th>IS_A_HOLIDAY</th>\n",
       "      <th>HOLIDAY_NAME</th>\n",
       "      <th>DATE_REAL</th>\n",
       "    </tr>\n",
       "  </thead>\n",
       "  <tbody>\n",
       "    <tr>\n",
       "      <th>156</th>\n",
       "      <td>3bfec94191bdc869600d2c429c45a68871eb9733ce7ec6...</td>\n",
       "      <td>25</td>\n",
       "      <td>NO CONTROLS</td>\n",
       "      <td>NO CONTROLS</td>\n",
       "      <td>SNOW</td>\n",
       "      <td>DAYLIGHT</td>\n",
       "      <td>PARKED MOTOR VEHICLE</td>\n",
       "      <td>NOT DIVIDED</td>\n",
       "      <td>STRAIGHT AND LEVEL</td>\n",
       "      <td>SNOW OR SLUSH</td>\n",
       "      <td>...</td>\n",
       "      <td>0.0</td>\n",
       "      <td>12</td>\n",
       "      <td>6</td>\n",
       "      <td>11</td>\n",
       "      <td>41.932213</td>\n",
       "      <td>-87.653694</td>\n",
       "      <td>2017-11-10 12:45:00</td>\n",
       "      <td>1</td>\n",
       "      <td>1</td>\n",
       "      <td>2017-11-10</td>\n",
       "    </tr>\n",
       "    <tr>\n",
       "      <th>168</th>\n",
       "      <td>43292e98b1ba60cb4c6efeb987a67a1ec0291acea4357e...</td>\n",
       "      <td>40</td>\n",
       "      <td>NO CONTROLS</td>\n",
       "      <td>OTHER</td>\n",
       "      <td>RAIN</td>\n",
       "      <td>DARKNESS, LIGHTED ROAD</td>\n",
       "      <td>TURNING</td>\n",
       "      <td>NOT DIVIDED</td>\n",
       "      <td>STRAIGHT AND LEVEL</td>\n",
       "      <td>WET</td>\n",
       "      <td>...</td>\n",
       "      <td>0.0</td>\n",
       "      <td>0</td>\n",
       "      <td>2</td>\n",
       "      <td>2</td>\n",
       "      <td>41.880660</td>\n",
       "      <td>-87.740728</td>\n",
       "      <td>2018-02-19 00:25:00</td>\n",
       "      <td>1</td>\n",
       "      <td>1</td>\n",
       "      <td>2018-02-19</td>\n",
       "    </tr>\n",
       "    <tr>\n",
       "      <th>234</th>\n",
       "      <td>5e45d4537c4d0bd12bfa11a7f75526f4fe0d61c68a0ec1...</td>\n",
       "      <td>10</td>\n",
       "      <td>NO CONTROLS</td>\n",
       "      <td>NO CONTROLS</td>\n",
       "      <td>CLEAR</td>\n",
       "      <td>DARKNESS, LIGHTED ROAD</td>\n",
       "      <td>PARKED MOTOR VEHICLE</td>\n",
       "      <td>PARKING LOT</td>\n",
       "      <td>STRAIGHT AND LEVEL</td>\n",
       "      <td>WET</td>\n",
       "      <td>...</td>\n",
       "      <td>0.0</td>\n",
       "      <td>2</td>\n",
       "      <td>3</td>\n",
       "      <td>1</td>\n",
       "      <td>41.879714</td>\n",
       "      <td>-87.774496</td>\n",
       "      <td>2019-01-01 02:40:00</td>\n",
       "      <td>1</td>\n",
       "      <td>1</td>\n",
       "      <td>2019-01-01</td>\n",
       "    </tr>\n",
       "  </tbody>\n",
       "</table>\n",
       "<p>3 rows × 39 columns</p>\n",
       "</div>"
      ],
      "text/plain": [
       "                                       CRASH_RECORD_ID  POSTED_SPEED_LIMIT  \\\n",
       "156  3bfec94191bdc869600d2c429c45a68871eb9733ce7ec6...                  25   \n",
       "168  43292e98b1ba60cb4c6efeb987a67a1ec0291acea4357e...                  40   \n",
       "234  5e45d4537c4d0bd12bfa11a7f75526f4fe0d61c68a0ec1...                  10   \n",
       "\n",
       "    TRAFFIC_CONTROL_DEVICE DEVICE_CONDITION WEATHER_CONDITION  \\\n",
       "156            NO CONTROLS      NO CONTROLS              SNOW   \n",
       "168            NO CONTROLS            OTHER              RAIN   \n",
       "234            NO CONTROLS      NO CONTROLS             CLEAR   \n",
       "\n",
       "         LIGHTING_CONDITION      FIRST_CRASH_TYPE TRAFFICWAY_TYPE  \\\n",
       "156                DAYLIGHT  PARKED MOTOR VEHICLE     NOT DIVIDED   \n",
       "168  DARKNESS, LIGHTED ROAD               TURNING     NOT DIVIDED   \n",
       "234  DARKNESS, LIGHTED ROAD  PARKED MOTOR VEHICLE     PARKING LOT   \n",
       "\n",
       "              ALIGNMENT ROADWAY_SURFACE_COND  ... INJURIES_UNKNOWN CRASH_HOUR  \\\n",
       "156  STRAIGHT AND LEVEL        SNOW OR SLUSH  ...              0.0         12   \n",
       "168  STRAIGHT AND LEVEL                  WET  ...              0.0          0   \n",
       "234  STRAIGHT AND LEVEL                  WET  ...              0.0          2   \n",
       "\n",
       "    CRASH_DAY_OF_WEEK CRASH_MONTH   LATITUDE  LONGITUDE       DATE_ACCIDENT  \\\n",
       "156                 6          11  41.932213 -87.653694 2017-11-10 12:45:00   \n",
       "168                 2           2  41.880660 -87.740728 2018-02-19 00:25:00   \n",
       "234                 3           1  41.879714 -87.774496 2019-01-01 02:40:00   \n",
       "\n",
       "     IS_A_HOLIDAY HOLIDAY_NAME   DATE_REAL  \n",
       "156             1            1  2017-11-10  \n",
       "168             1            1  2018-02-19  \n",
       "234             1            1  2019-01-01  \n",
       "\n",
       "[3 rows x 39 columns]"
      ]
     },
     "execution_count": 130,
     "metadata": {},
     "output_type": "execute_result"
    }
   ],
   "source": [
    "crashes_holiday.head(3)"
   ]
  },
  {
   "cell_type": "code",
   "execution_count": 131,
   "metadata": {},
   "outputs": [],
   "source": [
    "final_holidays = pd.merge(dates_holidays, crashes_holiday, on=['DATE_REAL'])"
   ]
  },
  {
   "cell_type": "code",
   "execution_count": 132,
   "metadata": {
    "scrolled": true
   },
   "outputs": [
    {
     "data": {
      "text/html": [
       "<div>\n",
       "<style scoped>\n",
       "    .dataframe tbody tr th:only-of-type {\n",
       "        vertical-align: middle;\n",
       "    }\n",
       "\n",
       "    .dataframe tbody tr th {\n",
       "        vertical-align: top;\n",
       "    }\n",
       "\n",
       "    .dataframe thead th {\n",
       "        text-align: right;\n",
       "    }\n",
       "</style>\n",
       "<table border=\"1\" class=\"dataframe\">\n",
       "  <thead>\n",
       "    <tr style=\"text-align: right;\">\n",
       "      <th></th>\n",
       "      <th>DATE_REAL</th>\n",
       "      <th>0</th>\n",
       "      <th>CRASH_RECORD_ID</th>\n",
       "      <th>POSTED_SPEED_LIMIT</th>\n",
       "      <th>TRAFFIC_CONTROL_DEVICE</th>\n",
       "      <th>DEVICE_CONDITION</th>\n",
       "      <th>WEATHER_CONDITION</th>\n",
       "      <th>LIGHTING_CONDITION</th>\n",
       "      <th>FIRST_CRASH_TYPE</th>\n",
       "      <th>TRAFFICWAY_TYPE</th>\n",
       "      <th>...</th>\n",
       "      <th>INJURIES_NO_INDICATION</th>\n",
       "      <th>INJURIES_UNKNOWN</th>\n",
       "      <th>CRASH_HOUR</th>\n",
       "      <th>CRASH_DAY_OF_WEEK</th>\n",
       "      <th>CRASH_MONTH</th>\n",
       "      <th>LATITUDE</th>\n",
       "      <th>LONGITUDE</th>\n",
       "      <th>DATE_ACCIDENT</th>\n",
       "      <th>IS_A_HOLIDAY</th>\n",
       "      <th>HOLIDAY_NAME</th>\n",
       "    </tr>\n",
       "  </thead>\n",
       "  <tbody>\n",
       "    <tr>\n",
       "      <th>0</th>\n",
       "      <td>2014-11-11</td>\n",
       "      <td>Veterans Day</td>\n",
       "      <td>b15daae7f809226ff0cfc93865ddcf9ff60edcf4187dc4...</td>\n",
       "      <td>30</td>\n",
       "      <td>NO CONTROLS</td>\n",
       "      <td>NO CONTROLS</td>\n",
       "      <td>UNKNOWN</td>\n",
       "      <td>UNKNOWN</td>\n",
       "      <td>PARKED MOTOR VEHICLE</td>\n",
       "      <td>DIVIDED - W/MEDIAN (NOT RAISED)</td>\n",
       "      <td>...</td>\n",
       "      <td>1.0</td>\n",
       "      <td>0.0</td>\n",
       "      <td>20</td>\n",
       "      <td>3</td>\n",
       "      <td>11</td>\n",
       "      <td>41.998270</td>\n",
       "      <td>-87.662997</td>\n",
       "      <td>2014-11-11 20:00:00</td>\n",
       "      <td>1</td>\n",
       "      <td>1</td>\n",
       "    </tr>\n",
       "    <tr>\n",
       "      <th>1</th>\n",
       "      <td>2015-09-07</td>\n",
       "      <td>Labor Day</td>\n",
       "      <td>0335e90fd6f5f3d1d54bf4113afa1fe5c283b140bfaf6b...</td>\n",
       "      <td>30</td>\n",
       "      <td>NO CONTROLS</td>\n",
       "      <td>NO CONTROLS</td>\n",
       "      <td>CLEAR</td>\n",
       "      <td>DAYLIGHT</td>\n",
       "      <td>SIDESWIPE SAME DIRECTION</td>\n",
       "      <td>ONE-WAY</td>\n",
       "      <td>...</td>\n",
       "      <td>2.0</td>\n",
       "      <td>0.0</td>\n",
       "      <td>16</td>\n",
       "      <td>2</td>\n",
       "      <td>9</td>\n",
       "      <td>41.888470</td>\n",
       "      <td>-87.629413</td>\n",
       "      <td>2015-09-07 16:45:00</td>\n",
       "      <td>1</td>\n",
       "      <td>1</td>\n",
       "    </tr>\n",
       "    <tr>\n",
       "      <th>2</th>\n",
       "      <td>2015-09-07</td>\n",
       "      <td>Labor Day</td>\n",
       "      <td>03f950b1dbe2177e773fca438b58da82ccfde31f9af265...</td>\n",
       "      <td>30</td>\n",
       "      <td>NO CONTROLS</td>\n",
       "      <td>NO CONTROLS</td>\n",
       "      <td>CLEAR</td>\n",
       "      <td>DAYLIGHT</td>\n",
       "      <td>PARKED MOTOR VEHICLE</td>\n",
       "      <td>ONE-WAY</td>\n",
       "      <td>...</td>\n",
       "      <td>1.0</td>\n",
       "      <td>0.0</td>\n",
       "      <td>14</td>\n",
       "      <td>2</td>\n",
       "      <td>9</td>\n",
       "      <td>41.682311</td>\n",
       "      <td>-87.645861</td>\n",
       "      <td>2015-09-07 14:00:00</td>\n",
       "      <td>1</td>\n",
       "      <td>1</td>\n",
       "    </tr>\n",
       "  </tbody>\n",
       "</table>\n",
       "<p>3 rows × 40 columns</p>\n",
       "</div>"
      ],
      "text/plain": [
       "    DATE_REAL             0  \\\n",
       "0  2014-11-11  Veterans Day   \n",
       "1  2015-09-07     Labor Day   \n",
       "2  2015-09-07     Labor Day   \n",
       "\n",
       "                                     CRASH_RECORD_ID  POSTED_SPEED_LIMIT  \\\n",
       "0  b15daae7f809226ff0cfc93865ddcf9ff60edcf4187dc4...                  30   \n",
       "1  0335e90fd6f5f3d1d54bf4113afa1fe5c283b140bfaf6b...                  30   \n",
       "2  03f950b1dbe2177e773fca438b58da82ccfde31f9af265...                  30   \n",
       "\n",
       "  TRAFFIC_CONTROL_DEVICE DEVICE_CONDITION WEATHER_CONDITION  \\\n",
       "0            NO CONTROLS      NO CONTROLS           UNKNOWN   \n",
       "1            NO CONTROLS      NO CONTROLS             CLEAR   \n",
       "2            NO CONTROLS      NO CONTROLS             CLEAR   \n",
       "\n",
       "  LIGHTING_CONDITION          FIRST_CRASH_TYPE  \\\n",
       "0            UNKNOWN      PARKED MOTOR VEHICLE   \n",
       "1           DAYLIGHT  SIDESWIPE SAME DIRECTION   \n",
       "2           DAYLIGHT      PARKED MOTOR VEHICLE   \n",
       "\n",
       "                   TRAFFICWAY_TYPE  ... INJURIES_NO_INDICATION  \\\n",
       "0  DIVIDED - W/MEDIAN (NOT RAISED)  ...                    1.0   \n",
       "1                          ONE-WAY  ...                    2.0   \n",
       "2                          ONE-WAY  ...                    1.0   \n",
       "\n",
       "  INJURIES_UNKNOWN CRASH_HOUR CRASH_DAY_OF_WEEK CRASH_MONTH   LATITUDE  \\\n",
       "0              0.0         20                 3          11  41.998270   \n",
       "1              0.0         16                 2           9  41.888470   \n",
       "2              0.0         14                 2           9  41.682311   \n",
       "\n",
       "   LONGITUDE       DATE_ACCIDENT IS_A_HOLIDAY  HOLIDAY_NAME  \n",
       "0 -87.662997 2014-11-11 20:00:00            1             1  \n",
       "1 -87.629413 2015-09-07 16:45:00            1             1  \n",
       "2 -87.645861 2015-09-07 14:00:00            1             1  \n",
       "\n",
       "[3 rows x 40 columns]"
      ]
     },
     "execution_count": 132,
     "metadata": {},
     "output_type": "execute_result"
    }
   ],
   "source": [
    "final_holidays.head(3)"
   ]
  },
  {
   "cell_type": "code",
   "execution_count": 133,
   "metadata": {},
   "outputs": [],
   "source": [
    "df = inner_merged_total.sort_values(by=['MOST_SEVERE_INJURY'], ascending=False)"
   ]
  },
  {
   "cell_type": "code",
   "execution_count": 134,
   "metadata": {},
   "outputs": [
    {
     "data": {
      "text/plain": [
       "NO INDICATION OF INJURY        889338\n",
       "NONINCAPACITATING INJURY       141291\n",
       "INCAPACITATING INJURY/FATAL     19605\n",
       "Name: MOST_SEVERE_INJURY, dtype: int64"
      ]
     },
     "execution_count": 134,
     "metadata": {},
     "output_type": "execute_result"
    }
   ],
   "source": [
    "df['MOST_SEVERE_INJURY'].value_counts()"
   ]
  },
  {
   "cell_type": "code",
   "execution_count": 135,
   "metadata": {
    "scrolled": true
   },
   "outputs": [
    {
     "data": {
      "text/plain": [
       "525117       NONINCAPACITATING INJURY\n",
       "822957       NONINCAPACITATING INJURY\n",
       "822955       NONINCAPACITATING INJURY\n",
       "822954       NONINCAPACITATING INJURY\n",
       "822947       NONINCAPACITATING INJURY\n",
       "                     ...             \n",
       "447335    INCAPACITATING INJURY/FATAL\n",
       "55023     INCAPACITATING INJURY/FATAL\n",
       "55024     INCAPACITATING INJURY/FATAL\n",
       "55025     INCAPACITATING INJURY/FATAL\n",
       "767858    INCAPACITATING INJURY/FATAL\n",
       "Name: MOST_SEVERE_INJURY, Length: 1050234, dtype: object"
      ]
     },
     "execution_count": 135,
     "metadata": {},
     "output_type": "execute_result"
    }
   ],
   "source": [
    "df['MOST_SEVERE_INJURY']"
   ]
  },
  {
   "cell_type": "code",
   "execution_count": 136,
   "metadata": {},
   "outputs": [
    {
     "data": {
      "text/plain": [
       "(1050234, 68)"
      ]
     },
     "execution_count": 136,
     "metadata": {},
     "output_type": "execute_result"
    }
   ],
   "source": [
    "df.shape"
   ]
  },
  {
   "cell_type": "code",
   "execution_count": 137,
   "metadata": {},
   "outputs": [],
   "source": [
    "df = df[118131:]"
   ]
  },
  {
   "cell_type": "code",
   "execution_count": 138,
   "metadata": {},
   "outputs": [],
   "source": [
    "df['MOST_SEVERE_INJURY'] = np.where(df['MOST_SEVERE_INJURY']=='NO INDICATION OF INJURY',\n",
    "                                         'aNO INDICATION OF INJURY', df['MOST_SEVERE_INJURY'])"
   ]
  },
  {
   "cell_type": "code",
   "execution_count": 139,
   "metadata": {},
   "outputs": [
    {
     "data": {
      "text/plain": [
       "aNO INDICATION OF INJURY       889338\n",
       "NONINCAPACITATING INJURY        23160\n",
       "INCAPACITATING INJURY/FATAL     19605\n",
       "Name: MOST_SEVERE_INJURY, dtype: int64"
      ]
     },
     "execution_count": 139,
     "metadata": {},
     "output_type": "execute_result"
    }
   ],
   "source": [
    "df['MOST_SEVERE_INJURY'].value_counts()"
   ]
  },
  {
   "cell_type": "code",
   "execution_count": 140,
   "metadata": {},
   "outputs": [],
   "source": [
    "df = df.sort_values(by=['MOST_SEVERE_INJURY'], ascending=False)"
   ]
  },
  {
   "cell_type": "code",
   "execution_count": 141,
   "metadata": {},
   "outputs": [
    {
     "data": {
      "text/plain": [
       "204006       aNO INDICATION OF INJURY\n",
       "13067        aNO INDICATION OF INJURY\n",
       "13094        aNO INDICATION OF INJURY\n",
       "13095        aNO INDICATION OF INJURY\n",
       "13100        aNO INDICATION OF INJURY\n",
       "                     ...             \n",
       "650928    INCAPACITATING INJURY/FATAL\n",
       "650926    INCAPACITATING INJURY/FATAL\n",
       "650927    INCAPACITATING INJURY/FATAL\n",
       "515492    INCAPACITATING INJURY/FATAL\n",
       "767858    INCAPACITATING INJURY/FATAL\n",
       "Name: MOST_SEVERE_INJURY, Length: 932103, dtype: object"
      ]
     },
     "execution_count": 141,
     "metadata": {},
     "output_type": "execute_result"
    }
   ],
   "source": [
    "df['MOST_SEVERE_INJURY']"
   ]
  },
  {
   "cell_type": "code",
   "execution_count": 142,
   "metadata": {},
   "outputs": [],
   "source": [
    "df = df[845359:]"
   ]
  },
  {
   "cell_type": "code",
   "execution_count": 143,
   "metadata": {},
   "outputs": [
    {
     "data": {
      "text/plain": [
       "aNO INDICATION OF INJURY       43979\n",
       "NONINCAPACITATING INJURY       23160\n",
       "INCAPACITATING INJURY/FATAL    19605\n",
       "Name: MOST_SEVERE_INJURY, dtype: int64"
      ]
     },
     "execution_count": 143,
     "metadata": {},
     "output_type": "execute_result"
    }
   ],
   "source": [
    "df['MOST_SEVERE_INJURY'].value_counts()"
   ]
  },
  {
   "cell_type": "code",
   "execution_count": 144,
   "metadata": {},
   "outputs": [],
   "source": [
    "df['MOST_SEVERE_INJURY'] = np.where(df['MOST_SEVERE_INJURY']=='aNO INDICATION OF INJURY',\n",
    "                                         'NO INDICATION OF INJURY', df['MOST_SEVERE_INJURY'])"
   ]
  },
  {
   "cell_type": "code",
   "execution_count": 145,
   "metadata": {},
   "outputs": [
    {
     "data": {
      "text/plain": [
       "0"
      ]
     },
     "execution_count": 145,
     "metadata": {},
     "output_type": "execute_result"
    }
   ],
   "source": [
    "df.isna().sum().sum()"
   ]
  },
  {
   "cell_type": "code",
   "execution_count": 146,
   "metadata": {},
   "outputs": [
    {
     "data": {
      "text/html": [
       "<div>\n",
       "<style scoped>\n",
       "    .dataframe tbody tr th:only-of-type {\n",
       "        vertical-align: middle;\n",
       "    }\n",
       "\n",
       "    .dataframe tbody tr th {\n",
       "        vertical-align: top;\n",
       "    }\n",
       "\n",
       "    .dataframe thead th {\n",
       "        text-align: right;\n",
       "    }\n",
       "</style>\n",
       "<table border=\"1\" class=\"dataframe\">\n",
       "  <thead>\n",
       "    <tr style=\"text-align: right;\">\n",
       "      <th></th>\n",
       "      <th>CRASH_UNIT_ID</th>\n",
       "      <th>CRASH_RECORD_ID</th>\n",
       "      <th>UNIT_NO</th>\n",
       "      <th>UNIT_TYPE</th>\n",
       "      <th>MAKE</th>\n",
       "      <th>MODEL</th>\n",
       "      <th>VEHICLE_YEAR</th>\n",
       "      <th>VEHICLE_DEFECT</th>\n",
       "      <th>VEHICLE_TYPE</th>\n",
       "      <th>VEHICLE_USE</th>\n",
       "      <th>...</th>\n",
       "      <th>SEX</th>\n",
       "      <th>AGE</th>\n",
       "      <th>SAFETY_EQUIPMENT</th>\n",
       "      <th>AIRBAG_DEPLOYED</th>\n",
       "      <th>EJECTION</th>\n",
       "      <th>INJURY_CLASSIFICATION</th>\n",
       "      <th>DRIVER_ACTION</th>\n",
       "      <th>DRIVER_VISION</th>\n",
       "      <th>PHYSICAL_CONDITION</th>\n",
       "      <th>BAC_RESULT</th>\n",
       "    </tr>\n",
       "  </thead>\n",
       "  <tbody>\n",
       "    <tr>\n",
       "      <th>909920</th>\n",
       "      <td>762193</td>\n",
       "      <td>5fca11d7fd1370015946421aab2ea8483ad9b427c70409...</td>\n",
       "      <td>2</td>\n",
       "      <td>DRIVER</td>\n",
       "      <td>TOYOTA MOTOR COMPANY, LTD.</td>\n",
       "      <td>CAMRY</td>\n",
       "      <td>2013.0</td>\n",
       "      <td>NONE</td>\n",
       "      <td>PASSENGER</td>\n",
       "      <td>PERSONAL</td>\n",
       "      <td>...</td>\n",
       "      <td>F</td>\n",
       "      <td>34.0</td>\n",
       "      <td>SAFETY BELT USED</td>\n",
       "      <td>DID NOT DEPLOY</td>\n",
       "      <td>NONE</td>\n",
       "      <td>NO INDICATION OF INJURY</td>\n",
       "      <td>UNKNOWN</td>\n",
       "      <td>UNKNOWN</td>\n",
       "      <td>NORMAL</td>\n",
       "      <td>TEST NOT OFFERED</td>\n",
       "    </tr>\n",
       "    <tr>\n",
       "      <th>909921</th>\n",
       "      <td>762193</td>\n",
       "      <td>5fca11d7fd1370015946421aab2ea8483ad9b427c70409...</td>\n",
       "      <td>2</td>\n",
       "      <td>DRIVER</td>\n",
       "      <td>TOYOTA MOTOR COMPANY, LTD.</td>\n",
       "      <td>CAMRY</td>\n",
       "      <td>2013.0</td>\n",
       "      <td>NONE</td>\n",
       "      <td>PASSENGER</td>\n",
       "      <td>PERSONAL</td>\n",
       "      <td>...</td>\n",
       "      <td>F</td>\n",
       "      <td>28.0</td>\n",
       "      <td>SAFETY BELT USED</td>\n",
       "      <td>DID NOT DEPLOY</td>\n",
       "      <td>NONE</td>\n",
       "      <td>NO INDICATION OF INJURY</td>\n",
       "      <td>NONE</td>\n",
       "      <td>NOT OBSCURED</td>\n",
       "      <td>NORMAL</td>\n",
       "      <td>TEST NOT OFFERED</td>\n",
       "    </tr>\n",
       "    <tr>\n",
       "      <th>909922</th>\n",
       "      <td>762199</td>\n",
       "      <td>d0f3432d9675d206c756a6aed16b7afec339e7165ddc0e...</td>\n",
       "      <td>2</td>\n",
       "      <td>DRIVER</td>\n",
       "      <td>HONDA</td>\n",
       "      <td>Odyssey (minivan)</td>\n",
       "      <td>2012.0</td>\n",
       "      <td>NONE</td>\n",
       "      <td>VAN/MINI-VAN</td>\n",
       "      <td>PERSONAL</td>\n",
       "      <td>...</td>\n",
       "      <td>M</td>\n",
       "      <td>45.0</td>\n",
       "      <td>SAFETY BELT USED</td>\n",
       "      <td>NOT APPLICABLE</td>\n",
       "      <td>NONE</td>\n",
       "      <td>NO INDICATION OF INJURY</td>\n",
       "      <td>NONE</td>\n",
       "      <td>NOT OBSCURED</td>\n",
       "      <td>NORMAL</td>\n",
       "      <td>TEST NOT OFFERED</td>\n",
       "    </tr>\n",
       "  </tbody>\n",
       "</table>\n",
       "<p>3 rows × 68 columns</p>\n",
       "</div>"
      ],
      "text/plain": [
       "        CRASH_UNIT_ID                                    CRASH_RECORD_ID  \\\n",
       "909920         762193  5fca11d7fd1370015946421aab2ea8483ad9b427c70409...   \n",
       "909921         762193  5fca11d7fd1370015946421aab2ea8483ad9b427c70409...   \n",
       "909922         762199  d0f3432d9675d206c756a6aed16b7afec339e7165ddc0e...   \n",
       "\n",
       "        UNIT_NO UNIT_TYPE                        MAKE              MODEL  \\\n",
       "909920        2    DRIVER  TOYOTA MOTOR COMPANY, LTD.              CAMRY   \n",
       "909921        2    DRIVER  TOYOTA MOTOR COMPANY, LTD.              CAMRY   \n",
       "909922        2    DRIVER                       HONDA  Odyssey (minivan)   \n",
       "\n",
       "        VEHICLE_YEAR VEHICLE_DEFECT  VEHICLE_TYPE VEHICLE_USE  ... SEX   AGE  \\\n",
       "909920        2013.0           NONE     PASSENGER    PERSONAL  ...   F  34.0   \n",
       "909921        2013.0           NONE     PASSENGER    PERSONAL  ...   F  28.0   \n",
       "909922        2012.0           NONE  VAN/MINI-VAN    PERSONAL  ...   M  45.0   \n",
       "\n",
       "        SAFETY_EQUIPMENT AIRBAG_DEPLOYED  EJECTION    INJURY_CLASSIFICATION  \\\n",
       "909920  SAFETY BELT USED  DID NOT DEPLOY      NONE  NO INDICATION OF INJURY   \n",
       "909921  SAFETY BELT USED  DID NOT DEPLOY      NONE  NO INDICATION OF INJURY   \n",
       "909922  SAFETY BELT USED  NOT APPLICABLE      NONE  NO INDICATION OF INJURY   \n",
       "\n",
       "       DRIVER_ACTION DRIVER_VISION PHYSICAL_CONDITION        BAC_RESULT  \n",
       "909920       UNKNOWN       UNKNOWN             NORMAL  TEST NOT OFFERED  \n",
       "909921          NONE  NOT OBSCURED             NORMAL  TEST NOT OFFERED  \n",
       "909922          NONE  NOT OBSCURED             NORMAL  TEST NOT OFFERED  \n",
       "\n",
       "[3 rows x 68 columns]"
      ]
     },
     "execution_count": 146,
     "metadata": {},
     "output_type": "execute_result"
    }
   ],
   "source": [
    "df.head(3)"
   ]
  },
  {
   "cell_type": "code",
   "execution_count": 147,
   "metadata": {},
   "outputs": [
    {
     "data": {
      "text/plain": [
       "(86744, 68)"
      ]
     },
     "execution_count": 147,
     "metadata": {},
     "output_type": "execute_result"
    }
   ],
   "source": [
    "df.shape"
   ]
  },
  {
   "cell_type": "code",
   "execution_count": null,
   "metadata": {},
   "outputs": [],
   "source": []
  },
  {
   "cell_type": "code",
   "execution_count": null,
   "metadata": {},
   "outputs": [],
   "source": []
  },
  {
   "cell_type": "code",
   "execution_count": null,
   "metadata": {},
   "outputs": [],
   "source": []
  },
  {
   "cell_type": "code",
   "execution_count": null,
   "metadata": {},
   "outputs": [],
   "source": []
  },
  {
   "cell_type": "code",
   "execution_count": null,
   "metadata": {},
   "outputs": [],
   "source": []
  },
  {
   "cell_type": "code",
   "execution_count": null,
   "metadata": {},
   "outputs": [],
   "source": []
  },
  {
   "cell_type": "code",
   "execution_count": null,
   "metadata": {},
   "outputs": [],
   "source": []
  },
  {
   "cell_type": "code",
   "execution_count": 148,
   "metadata": {},
   "outputs": [],
   "source": [
    "df_a = df"
   ]
  },
  {
   "cell_type": "code",
   "execution_count": 149,
   "metadata": {},
   "outputs": [],
   "source": [
    "def basic_info(data):\n",
    "    categorical = []\n",
    "    numerical = []\n",
    "    for i in data.columns:\n",
    "        if data[i].dtype == object:\n",
    "            categorical.append(i)\n",
    "        else:\n",
    "            numerical.append(i)\n",
    "    return categorical, numerical"
   ]
  },
  {
   "cell_type": "code",
   "execution_count": 150,
   "metadata": {},
   "outputs": [
    {
     "name": "stdout",
     "output_type": "stream",
     "text": [
      "Dataset shape is:  (86744, 68)\n",
      "Dataset size is:  5898592\n",
      "Dataset columns are:  Index(['CRASH_UNIT_ID', 'CRASH_RECORD_ID', 'UNIT_NO', 'UNIT_TYPE', 'MAKE',\n",
      "       'MODEL', 'VEHICLE_YEAR', 'VEHICLE_DEFECT', 'VEHICLE_TYPE',\n",
      "       'VEHICLE_USE', 'TRAVEL_DIRECTION', 'MANEUVER', 'OCCUPANT_CNT',\n",
      "       'FIRST_CONTACT_POINT', 'POSTED_SPEED_LIMIT', 'TRAFFIC_CONTROL_DEVICE',\n",
      "       'DEVICE_CONDITION', 'WEATHER_CONDITION', 'LIGHTING_CONDITION',\n",
      "       'FIRST_CRASH_TYPE', 'TRAFFICWAY_TYPE', 'ALIGNMENT',\n",
      "       'ROADWAY_SURFACE_COND', 'ROAD_DEFECT', 'REPORT_TYPE', 'CRASH_TYPE',\n",
      "       'DAMAGE', 'DATE_POLICE_NOTIFIED', 'PRIM_CONTRIBUTORY_CAUSE',\n",
      "       'SEC_CONTRIBUTORY_CAUSE', 'STREET_NO', 'STREET_DIRECTION',\n",
      "       'STREET_NAME', 'BEAT_OF_OCCURRENCE', 'NUM_UNITS', 'MOST_SEVERE_INJURY',\n",
      "       'INJURIES_TOTAL', 'INJURIES_FATAL', 'INJURIES_INCAPACITATING',\n",
      "       'INJURIES_NON_INCAPACITATING', 'INJURIES_REPORTED_NOT_EVIDENT',\n",
      "       'INJURIES_NO_INDICATION', 'INJURIES_UNKNOWN', 'CRASH_HOUR',\n",
      "       'CRASH_DAY_OF_WEEK', 'CRASH_MONTH', 'LATITUDE', 'LONGITUDE',\n",
      "       'DATE_ACCIDENT', 'IS_A_HOLIDAY', 'HOLIDAY_NAME', 'PERSON_ID',\n",
      "       'PERSON_TYPE', 'RD_NO', 'VEHICLE_ID', 'CRASH_DATE', 'CITY', 'STATE',\n",
      "       'SEX', 'AGE', 'SAFETY_EQUIPMENT', 'AIRBAG_DEPLOYED', 'EJECTION',\n",
      "       'INJURY_CLASSIFICATION', 'DRIVER_ACTION', 'DRIVER_VISION',\n",
      "       'PHYSICAL_CONDITION', 'BAC_RESULT'],\n",
      "      dtype='object')\n",
      "<class 'pandas.core.frame.DataFrame'>\n",
      "Int64Index: 86744 entries, 909920 to 767858\n",
      "Data columns (total 68 columns):\n",
      " #   Column                         Non-Null Count  Dtype         \n",
      "---  ------                         --------------  -----         \n",
      " 0   CRASH_UNIT_ID                  86744 non-null  int64         \n",
      " 1   CRASH_RECORD_ID                86744 non-null  object        \n",
      " 2   UNIT_NO                        86744 non-null  int64         \n",
      " 3   UNIT_TYPE                      86744 non-null  object        \n",
      " 4   MAKE                           86744 non-null  object        \n",
      " 5   MODEL                          86744 non-null  object        \n",
      " 6   VEHICLE_YEAR                   86744 non-null  float64       \n",
      " 7   VEHICLE_DEFECT                 86744 non-null  object        \n",
      " 8   VEHICLE_TYPE                   86744 non-null  object        \n",
      " 9   VEHICLE_USE                    86744 non-null  object        \n",
      " 10  TRAVEL_DIRECTION               86744 non-null  object        \n",
      " 11  MANEUVER                       86744 non-null  object        \n",
      " 12  OCCUPANT_CNT                   86744 non-null  float64       \n",
      " 13  FIRST_CONTACT_POINT            86744 non-null  object        \n",
      " 14  POSTED_SPEED_LIMIT             86744 non-null  int64         \n",
      " 15  TRAFFIC_CONTROL_DEVICE         86744 non-null  object        \n",
      " 16  DEVICE_CONDITION               86744 non-null  object        \n",
      " 17  WEATHER_CONDITION              86744 non-null  object        \n",
      " 18  LIGHTING_CONDITION             86744 non-null  object        \n",
      " 19  FIRST_CRASH_TYPE               86744 non-null  object        \n",
      " 20  TRAFFICWAY_TYPE                86744 non-null  object        \n",
      " 21  ALIGNMENT                      86744 non-null  object        \n",
      " 22  ROADWAY_SURFACE_COND           86744 non-null  object        \n",
      " 23  ROAD_DEFECT                    86744 non-null  object        \n",
      " 24  REPORT_TYPE                    86744 non-null  object        \n",
      " 25  CRASH_TYPE                     86744 non-null  object        \n",
      " 26  DAMAGE                         86744 non-null  object        \n",
      " 27  DATE_POLICE_NOTIFIED           86744 non-null  object        \n",
      " 28  PRIM_CONTRIBUTORY_CAUSE        86744 non-null  object        \n",
      " 29  SEC_CONTRIBUTORY_CAUSE         86744 non-null  object        \n",
      " 30  STREET_NO                      86744 non-null  int64         \n",
      " 31  STREET_DIRECTION               86744 non-null  object        \n",
      " 32  STREET_NAME                    86744 non-null  object        \n",
      " 33  BEAT_OF_OCCURRENCE             86744 non-null  float64       \n",
      " 34  NUM_UNITS                      86744 non-null  int64         \n",
      " 35  MOST_SEVERE_INJURY             86744 non-null  object        \n",
      " 36  INJURIES_TOTAL                 86744 non-null  float64       \n",
      " 37  INJURIES_FATAL                 86744 non-null  int32         \n",
      " 38  INJURIES_INCAPACITATING        86744 non-null  float64       \n",
      " 39  INJURIES_NON_INCAPACITATING    86744 non-null  float64       \n",
      " 40  INJURIES_REPORTED_NOT_EVIDENT  86744 non-null  float64       \n",
      " 41  INJURIES_NO_INDICATION         86744 non-null  float64       \n",
      " 42  INJURIES_UNKNOWN               86744 non-null  float64       \n",
      " 43  CRASH_HOUR                     86744 non-null  int64         \n",
      " 44  CRASH_DAY_OF_WEEK              86744 non-null  int64         \n",
      " 45  CRASH_MONTH                    86744 non-null  int64         \n",
      " 46  LATITUDE                       86744 non-null  float64       \n",
      " 47  LONGITUDE                      86744 non-null  float64       \n",
      " 48  DATE_ACCIDENT                  86744 non-null  datetime64[ns]\n",
      " 49  IS_A_HOLIDAY                   86744 non-null  int64         \n",
      " 50  HOLIDAY_NAME                   86744 non-null  int64         \n",
      " 51  PERSON_ID                      86744 non-null  object        \n",
      " 52  PERSON_TYPE                    86744 non-null  object        \n",
      " 53  RD_NO                          86744 non-null  object        \n",
      " 54  VEHICLE_ID                     86744 non-null  float64       \n",
      " 55  CRASH_DATE                     86744 non-null  object        \n",
      " 56  CITY                           86744 non-null  object        \n",
      " 57  STATE                          86744 non-null  object        \n",
      " 58  SEX                            86744 non-null  object        \n",
      " 59  AGE                            86744 non-null  float64       \n",
      " 60  SAFETY_EQUIPMENT               86744 non-null  object        \n",
      " 61  AIRBAG_DEPLOYED                86744 non-null  object        \n",
      " 62  EJECTION                       86744 non-null  object        \n",
      " 63  INJURY_CLASSIFICATION          86744 non-null  object        \n",
      " 64  DRIVER_ACTION                  86744 non-null  object        \n",
      " 65  DRIVER_VISION                  86744 non-null  object        \n",
      " 66  PHYSICAL_CONDITION             86744 non-null  object        \n",
      " 67  BAC_RESULT                     86744 non-null  object        \n",
      "dtypes: datetime64[ns](1), float64(13), int32(1), int64(10), object(43)\n",
      "memory usage: 45.3+ MB\n",
      "Dataset info is:  None\n",
      "Categorical variables are:\n",
      "  ['CRASH_RECORD_ID', 'UNIT_TYPE', 'MAKE', 'MODEL', 'VEHICLE_DEFECT', 'VEHICLE_TYPE', 'VEHICLE_USE', 'TRAVEL_DIRECTION', 'MANEUVER', 'FIRST_CONTACT_POINT', 'TRAFFIC_CONTROL_DEVICE', 'DEVICE_CONDITION', 'WEATHER_CONDITION', 'LIGHTING_CONDITION', 'FIRST_CRASH_TYPE', 'TRAFFICWAY_TYPE', 'ALIGNMENT', 'ROADWAY_SURFACE_COND', 'ROAD_DEFECT', 'REPORT_TYPE', 'CRASH_TYPE', 'DAMAGE', 'DATE_POLICE_NOTIFIED', 'PRIM_CONTRIBUTORY_CAUSE', 'SEC_CONTRIBUTORY_CAUSE', 'STREET_DIRECTION', 'STREET_NAME', 'MOST_SEVERE_INJURY', 'PERSON_ID', 'PERSON_TYPE', 'RD_NO', 'CRASH_DATE', 'CITY', 'STATE', 'SEX', 'SAFETY_EQUIPMENT', 'AIRBAG_DEPLOYED', 'EJECTION', 'INJURY_CLASSIFICATION', 'DRIVER_ACTION', 'DRIVER_VISION', 'PHYSICAL_CONDITION', 'BAC_RESULT']\n",
      "Numerical variables are:\n",
      "  ['CRASH_UNIT_ID', 'UNIT_NO', 'VEHICLE_YEAR', 'OCCUPANT_CNT', 'POSTED_SPEED_LIMIT', 'STREET_NO', 'BEAT_OF_OCCURRENCE', 'NUM_UNITS', 'INJURIES_TOTAL', 'INJURIES_FATAL', 'INJURIES_INCAPACITATING', 'INJURIES_NON_INCAPACITATING', 'INJURIES_REPORTED_NOT_EVIDENT', 'INJURIES_NO_INDICATION', 'INJURIES_UNKNOWN', 'CRASH_HOUR', 'CRASH_DAY_OF_WEEK', 'CRASH_MONTH', 'LATITUDE', 'LONGITUDE', 'DATE_ACCIDENT', 'IS_A_HOLIDAY', 'HOLIDAY_NAME', 'VEHICLE_ID', 'AGE']\n"
     ]
    }
   ],
   "source": [
    "categorical, numerical = basic_info(df_a)"
   ]
  },
  {
   "cell_type": "code",
   "execution_count": 151,
   "metadata": {},
   "outputs": [],
   "source": [
    "df_a2 = df_a.copy(deep = True)"
   ]
  },
  {
   "cell_type": "code",
   "execution_count": 152,
   "metadata": {},
   "outputs": [
    {
     "data": {
      "text/plain": [
       "0"
      ]
     },
     "execution_count": 152,
     "metadata": {},
     "output_type": "execute_result"
    }
   ],
   "source": [
    "df_a2.isnull().sum().sum()"
   ]
  },
  {
   "cell_type": "code",
   "execution_count": 153,
   "metadata": {},
   "outputs": [],
   "source": [
    "#categorical2"
   ]
  },
  {
   "cell_type": "code",
   "execution_count": 154,
   "metadata": {},
   "outputs": [],
   "source": [
    "#numerical2"
   ]
  },
  {
   "cell_type": "code",
   "execution_count": 155,
   "metadata": {},
   "outputs": [],
   "source": [
    "#df2 = df[numerical2]"
   ]
  },
  {
   "cell_type": "code",
   "execution_count": 156,
   "metadata": {},
   "outputs": [],
   "source": [
    "#df2 = df2.drop(columns=['DATE_ACCIDENT', 'VEHICLE_ID', 'HOLIDAY_NAME', 'LONGITUDE', 'LATITUDE', 'BEAT_OF_OCCURRENCE', 'VEHICLE_YEAR'])"
   ]
  },
  {
   "cell_type": "code",
   "execution_count": 157,
   "metadata": {},
   "outputs": [],
   "source": [
    "#df2"
   ]
  },
  {
   "cell_type": "code",
   "execution_count": 158,
   "metadata": {},
   "outputs": [],
   "source": [
    "#df2.hist(figsize = [20,20], bins = 50)\n",
    "#plt.show()"
   ]
  },
  {
   "cell_type": "markdown",
   "metadata": {},
   "source": [
    "# MODEL"
   ]
  },
  {
   "cell_type": "code",
   "execution_count": 159,
   "metadata": {},
   "outputs": [],
   "source": [
    "df1 = df.drop(columns=['MOST_SEVERE_INJURY'])"
   ]
  },
  {
   "cell_type": "code",
   "execution_count": 160,
   "metadata": {},
   "outputs": [
    {
     "name": "stdout",
     "output_type": "stream",
     "text": [
      "Dataset shape is:  (86744, 67)\n",
      "Dataset size is:  5811848\n",
      "Dataset columns are:  Index(['CRASH_UNIT_ID', 'CRASH_RECORD_ID', 'UNIT_NO', 'UNIT_TYPE', 'MAKE',\n",
      "       'MODEL', 'VEHICLE_YEAR', 'VEHICLE_DEFECT', 'VEHICLE_TYPE',\n",
      "       'VEHICLE_USE', 'TRAVEL_DIRECTION', 'MANEUVER', 'OCCUPANT_CNT',\n",
      "       'FIRST_CONTACT_POINT', 'POSTED_SPEED_LIMIT', 'TRAFFIC_CONTROL_DEVICE',\n",
      "       'DEVICE_CONDITION', 'WEATHER_CONDITION', 'LIGHTING_CONDITION',\n",
      "       'FIRST_CRASH_TYPE', 'TRAFFICWAY_TYPE', 'ALIGNMENT',\n",
      "       'ROADWAY_SURFACE_COND', 'ROAD_DEFECT', 'REPORT_TYPE', 'CRASH_TYPE',\n",
      "       'DAMAGE', 'DATE_POLICE_NOTIFIED', 'PRIM_CONTRIBUTORY_CAUSE',\n",
      "       'SEC_CONTRIBUTORY_CAUSE', 'STREET_NO', 'STREET_DIRECTION',\n",
      "       'STREET_NAME', 'BEAT_OF_OCCURRENCE', 'NUM_UNITS', 'INJURIES_TOTAL',\n",
      "       'INJURIES_FATAL', 'INJURIES_INCAPACITATING',\n",
      "       'INJURIES_NON_INCAPACITATING', 'INJURIES_REPORTED_NOT_EVIDENT',\n",
      "       'INJURIES_NO_INDICATION', 'INJURIES_UNKNOWN', 'CRASH_HOUR',\n",
      "       'CRASH_DAY_OF_WEEK', 'CRASH_MONTH', 'LATITUDE', 'LONGITUDE',\n",
      "       'DATE_ACCIDENT', 'IS_A_HOLIDAY', 'HOLIDAY_NAME', 'PERSON_ID',\n",
      "       'PERSON_TYPE', 'RD_NO', 'VEHICLE_ID', 'CRASH_DATE', 'CITY', 'STATE',\n",
      "       'SEX', 'AGE', 'SAFETY_EQUIPMENT', 'AIRBAG_DEPLOYED', 'EJECTION',\n",
      "       'INJURY_CLASSIFICATION', 'DRIVER_ACTION', 'DRIVER_VISION',\n",
      "       'PHYSICAL_CONDITION', 'BAC_RESULT'],\n",
      "      dtype='object')\n",
      "<class 'pandas.core.frame.DataFrame'>\n",
      "Int64Index: 86744 entries, 909920 to 767858\n",
      "Data columns (total 67 columns):\n",
      " #   Column                         Non-Null Count  Dtype         \n",
      "---  ------                         --------------  -----         \n",
      " 0   CRASH_UNIT_ID                  86744 non-null  int64         \n",
      " 1   CRASH_RECORD_ID                86744 non-null  object        \n",
      " 2   UNIT_NO                        86744 non-null  int64         \n",
      " 3   UNIT_TYPE                      86744 non-null  object        \n",
      " 4   MAKE                           86744 non-null  object        \n",
      " 5   MODEL                          86744 non-null  object        \n",
      " 6   VEHICLE_YEAR                   86744 non-null  float64       \n",
      " 7   VEHICLE_DEFECT                 86744 non-null  object        \n",
      " 8   VEHICLE_TYPE                   86744 non-null  object        \n",
      " 9   VEHICLE_USE                    86744 non-null  object        \n",
      " 10  TRAVEL_DIRECTION               86744 non-null  object        \n",
      " 11  MANEUVER                       86744 non-null  object        \n",
      " 12  OCCUPANT_CNT                   86744 non-null  float64       \n",
      " 13  FIRST_CONTACT_POINT            86744 non-null  object        \n",
      " 14  POSTED_SPEED_LIMIT             86744 non-null  int64         \n",
      " 15  TRAFFIC_CONTROL_DEVICE         86744 non-null  object        \n",
      " 16  DEVICE_CONDITION               86744 non-null  object        \n",
      " 17  WEATHER_CONDITION              86744 non-null  object        \n",
      " 18  LIGHTING_CONDITION             86744 non-null  object        \n",
      " 19  FIRST_CRASH_TYPE               86744 non-null  object        \n",
      " 20  TRAFFICWAY_TYPE                86744 non-null  object        \n",
      " 21  ALIGNMENT                      86744 non-null  object        \n",
      " 22  ROADWAY_SURFACE_COND           86744 non-null  object        \n",
      " 23  ROAD_DEFECT                    86744 non-null  object        \n",
      " 24  REPORT_TYPE                    86744 non-null  object        \n",
      " 25  CRASH_TYPE                     86744 non-null  object        \n",
      " 26  DAMAGE                         86744 non-null  object        \n",
      " 27  DATE_POLICE_NOTIFIED           86744 non-null  object        \n",
      " 28  PRIM_CONTRIBUTORY_CAUSE        86744 non-null  object        \n",
      " 29  SEC_CONTRIBUTORY_CAUSE         86744 non-null  object        \n",
      " 30  STREET_NO                      86744 non-null  int64         \n",
      " 31  STREET_DIRECTION               86744 non-null  object        \n",
      " 32  STREET_NAME                    86744 non-null  object        \n",
      " 33  BEAT_OF_OCCURRENCE             86744 non-null  float64       \n",
      " 34  NUM_UNITS                      86744 non-null  int64         \n",
      " 35  INJURIES_TOTAL                 86744 non-null  float64       \n",
      " 36  INJURIES_FATAL                 86744 non-null  int32         \n",
      " 37  INJURIES_INCAPACITATING        86744 non-null  float64       \n",
      " 38  INJURIES_NON_INCAPACITATING    86744 non-null  float64       \n",
      " 39  INJURIES_REPORTED_NOT_EVIDENT  86744 non-null  float64       \n",
      " 40  INJURIES_NO_INDICATION         86744 non-null  float64       \n",
      " 41  INJURIES_UNKNOWN               86744 non-null  float64       \n",
      " 42  CRASH_HOUR                     86744 non-null  int64         \n",
      " 43  CRASH_DAY_OF_WEEK              86744 non-null  int64         \n",
      " 44  CRASH_MONTH                    86744 non-null  int64         \n",
      " 45  LATITUDE                       86744 non-null  float64       \n",
      " 46  LONGITUDE                      86744 non-null  float64       \n",
      " 47  DATE_ACCIDENT                  86744 non-null  datetime64[ns]\n",
      " 48  IS_A_HOLIDAY                   86744 non-null  int64         \n",
      " 49  HOLIDAY_NAME                   86744 non-null  int64         \n",
      " 50  PERSON_ID                      86744 non-null  object        \n",
      " 51  PERSON_TYPE                    86744 non-null  object        \n",
      " 52  RD_NO                          86744 non-null  object        \n",
      " 53  VEHICLE_ID                     86744 non-null  float64       \n",
      " 54  CRASH_DATE                     86744 non-null  object        \n",
      " 55  CITY                           86744 non-null  object        \n",
      " 56  STATE                          86744 non-null  object        \n",
      " 57  SEX                            86744 non-null  object        \n",
      " 58  AGE                            86744 non-null  float64       \n",
      " 59  SAFETY_EQUIPMENT               86744 non-null  object        \n",
      " 60  AIRBAG_DEPLOYED                86744 non-null  object        \n",
      " 61  EJECTION                       86744 non-null  object        \n",
      " 62  INJURY_CLASSIFICATION          86744 non-null  object        \n",
      " 63  DRIVER_ACTION                  86744 non-null  object        \n",
      " 64  DRIVER_VISION                  86744 non-null  object        \n",
      " 65  PHYSICAL_CONDITION             86744 non-null  object        \n",
      " 66  BAC_RESULT                     86744 non-null  object        \n",
      "dtypes: datetime64[ns](1), float64(13), int32(1), int64(10), object(42)\n",
      "memory usage: 44.7+ MB\n",
      "Dataset info is:  None\n",
      "Categorical variables are:\n",
      "  ['CRASH_RECORD_ID', 'UNIT_TYPE', 'MAKE', 'MODEL', 'VEHICLE_DEFECT', 'VEHICLE_TYPE', 'VEHICLE_USE', 'TRAVEL_DIRECTION', 'MANEUVER', 'FIRST_CONTACT_POINT', 'TRAFFIC_CONTROL_DEVICE', 'DEVICE_CONDITION', 'WEATHER_CONDITION', 'LIGHTING_CONDITION', 'FIRST_CRASH_TYPE', 'TRAFFICWAY_TYPE', 'ALIGNMENT', 'ROADWAY_SURFACE_COND', 'ROAD_DEFECT', 'REPORT_TYPE', 'CRASH_TYPE', 'DAMAGE', 'DATE_POLICE_NOTIFIED', 'PRIM_CONTRIBUTORY_CAUSE', 'SEC_CONTRIBUTORY_CAUSE', 'STREET_DIRECTION', 'STREET_NAME', 'PERSON_ID', 'PERSON_TYPE', 'RD_NO', 'CRASH_DATE', 'CITY', 'STATE', 'SEX', 'SAFETY_EQUIPMENT', 'AIRBAG_DEPLOYED', 'EJECTION', 'INJURY_CLASSIFICATION', 'DRIVER_ACTION', 'DRIVER_VISION', 'PHYSICAL_CONDITION', 'BAC_RESULT']\n",
      "Numerical variables are:\n",
      "  ['CRASH_UNIT_ID', 'UNIT_NO', 'VEHICLE_YEAR', 'OCCUPANT_CNT', 'POSTED_SPEED_LIMIT', 'STREET_NO', 'BEAT_OF_OCCURRENCE', 'NUM_UNITS', 'INJURIES_TOTAL', 'INJURIES_FATAL', 'INJURIES_INCAPACITATING', 'INJURIES_NON_INCAPACITATING', 'INJURIES_REPORTED_NOT_EVIDENT', 'INJURIES_NO_INDICATION', 'INJURIES_UNKNOWN', 'CRASH_HOUR', 'CRASH_DAY_OF_WEEK', 'CRASH_MONTH', 'LATITUDE', 'LONGITUDE', 'DATE_ACCIDENT', 'IS_A_HOLIDAY', 'HOLIDAY_NAME', 'VEHICLE_ID', 'AGE']\n"
     ]
    }
   ],
   "source": [
    "categoricalx, numericalx = basic_info(df1)"
   ]
  },
  {
   "cell_type": "code",
   "execution_count": 161,
   "metadata": {},
   "outputs": [],
   "source": [
    "df3 = df1[categoricalx]"
   ]
  },
  {
   "cell_type": "code",
   "execution_count": 162,
   "metadata": {},
   "outputs": [
    {
     "name": "stdout",
     "output_type": "stream",
     "text": [
      "Unique Values: 28054 :  CRASH_RECORD_ID Column Name.\n",
      "Unique Values: 5 :  UNIT_TYPE Column Name.\n",
      "Unique Values: 242 :  MAKE Column Name.\n",
      "Unique Values: 1124 :  MODEL Column Name.\n",
      "Unique Values: 14 :  VEHICLE_DEFECT Column Name.\n",
      "Unique Values: 20 :  VEHICLE_TYPE Column Name.\n",
      "Unique Values: 23 :  VEHICLE_USE Column Name.\n",
      "Unique Values: 9 :  TRAVEL_DIRECTION Column Name.\n",
      "Unique Values: 28 :  MANEUVER Column Name.\n",
      "Unique Values: 14 :  FIRST_CONTACT_POINT Column Name.\n",
      "Unique Values: 19 :  TRAFFIC_CONTROL_DEVICE Column Name.\n",
      "Unique Values: 8 :  DEVICE_CONDITION Column Name.\n",
      "Unique Values: 6 :  WEATHER_CONDITION Column Name.\n",
      "Unique Values: 6 :  LIGHTING_CONDITION Column Name.\n",
      "Unique Values: 18 :  FIRST_CRASH_TYPE Column Name.\n",
      "Unique Values: 20 :  TRAFFICWAY_TYPE Column Name.\n",
      "Unique Values: 6 :  ALIGNMENT Column Name.\n",
      "Unique Values: 7 :  ROADWAY_SURFACE_COND Column Name.\n",
      "Unique Values: 7 :  ROAD_DEFECT Column Name.\n",
      "Unique Values: 3 :  REPORT_TYPE Column Name.\n",
      "Unique Values: 2 :  CRASH_TYPE Column Name.\n",
      "Unique Values: 3 :  DAMAGE Column Name.\n",
      "Unique Values: 25237 :  DATE_POLICE_NOTIFIED Column Name.\n",
      "Unique Values: 40 :  PRIM_CONTRIBUTORY_CAUSE Column Name.\n",
      "Unique Values: 40 :  SEC_CONTRIBUTORY_CAUSE Column Name.\n",
      "Unique Values: 4 :  STREET_DIRECTION Column Name.\n",
      "Unique Values: 971 :  STREET_NAME Column Name.\n",
      "Unique Values: 44305 :  PERSON_ID Column Name.\n",
      "Unique Values: 2 :  PERSON_TYPE Column Name.\n",
      "Unique Values: 28054 :  RD_NO Column Name.\n",
      "Unique Values: 23872 :  CRASH_DATE Column Name.\n",
      "Unique Values: 1568 :  CITY Column Name.\n",
      "Unique Values: 51 :  STATE Column Name.\n",
      "Unique Values: 3 :  SEX Column Name.\n",
      "Unique Values: 10 :  SAFETY_EQUIPMENT Column Name.\n",
      "Unique Values: 7 :  AIRBAG_DEPLOYED Column Name.\n",
      "Unique Values: 5 :  EJECTION Column Name.\n",
      "Unique Values: 5 :  INJURY_CLASSIFICATION Column Name.\n",
      "Unique Values: 20 :  DRIVER_ACTION Column Name.\n",
      "Unique Values: 13 :  DRIVER_VISION Column Name.\n",
      "Unique Values: 12 :  PHYSICAL_CONDITION Column Name.\n",
      "Unique Values: 4 :  BAC_RESULT Column Name.\n"
     ]
    }
   ],
   "source": [
    "deletar = []\n",
    "for x in df3.columns:\n",
    "    if len(df3[x].value_counts()) > 50:\n",
    "        deletar.append(x)"
   ]
  },
  {
   "cell_type": "code",
   "execution_count": 163,
   "metadata": {},
   "outputs": [
    {
     "data": {
      "text/plain": [
       "['CRASH_RECORD_ID',\n",
       " 'MAKE',\n",
       " 'MODEL',\n",
       " 'DATE_POLICE_NOTIFIED',\n",
       " 'STREET_NAME',\n",
       " 'PERSON_ID',\n",
       " 'RD_NO',\n",
       " 'CRASH_DATE',\n",
       " 'CITY',\n",
       " 'STATE']"
      ]
     },
     "execution_count": 163,
     "metadata": {},
     "output_type": "execute_result"
    }
   ],
   "source": [
    "deletar"
   ]
  },
  {
   "cell_type": "code",
   "execution_count": 164,
   "metadata": {},
   "outputs": [],
   "source": [
    "df4 = df3.drop(columns=['CRASH_RECORD_ID',\n",
    " 'MAKE',\n",
    " 'MODEL',\n",
    " 'DATE_POLICE_NOTIFIED',\n",
    " 'STREET_NAME',\n",
    " 'PERSON_ID',\n",
    " 'RD_NO',\n",
    " 'CRASH_DATE',\n",
    " 'CITY'])"
   ]
  },
  {
   "cell_type": "code",
   "execution_count": 165,
   "metadata": {
    "scrolled": true
   },
   "outputs": [
    {
     "name": "stdout",
     "output_type": "stream",
     "text": [
      "Dataset shape is:  (86744, 33)\n",
      "Dataset size is:  2862552\n",
      "Dataset columns are:  Index(['UNIT_TYPE', 'VEHICLE_DEFECT', 'VEHICLE_TYPE', 'VEHICLE_USE',\n",
      "       'TRAVEL_DIRECTION', 'MANEUVER', 'FIRST_CONTACT_POINT',\n",
      "       'TRAFFIC_CONTROL_DEVICE', 'DEVICE_CONDITION', 'WEATHER_CONDITION',\n",
      "       'LIGHTING_CONDITION', 'FIRST_CRASH_TYPE', 'TRAFFICWAY_TYPE',\n",
      "       'ALIGNMENT', 'ROADWAY_SURFACE_COND', 'ROAD_DEFECT', 'REPORT_TYPE',\n",
      "       'CRASH_TYPE', 'DAMAGE', 'PRIM_CONTRIBUTORY_CAUSE',\n",
      "       'SEC_CONTRIBUTORY_CAUSE', 'STREET_DIRECTION', 'PERSON_TYPE', 'STATE',\n",
      "       'SEX', 'SAFETY_EQUIPMENT', 'AIRBAG_DEPLOYED', 'EJECTION',\n",
      "       'INJURY_CLASSIFICATION', 'DRIVER_ACTION', 'DRIVER_VISION',\n",
      "       'PHYSICAL_CONDITION', 'BAC_RESULT'],\n",
      "      dtype='object')\n",
      "<class 'pandas.core.frame.DataFrame'>\n",
      "Int64Index: 86744 entries, 909920 to 767858\n",
      "Data columns (total 33 columns):\n",
      " #   Column                   Non-Null Count  Dtype \n",
      "---  ------                   --------------  ----- \n",
      " 0   UNIT_TYPE                86744 non-null  object\n",
      " 1   VEHICLE_DEFECT           86744 non-null  object\n",
      " 2   VEHICLE_TYPE             86744 non-null  object\n",
      " 3   VEHICLE_USE              86744 non-null  object\n",
      " 4   TRAVEL_DIRECTION         86744 non-null  object\n",
      " 5   MANEUVER                 86744 non-null  object\n",
      " 6   FIRST_CONTACT_POINT      86744 non-null  object\n",
      " 7   TRAFFIC_CONTROL_DEVICE   86744 non-null  object\n",
      " 8   DEVICE_CONDITION         86744 non-null  object\n",
      " 9   WEATHER_CONDITION        86744 non-null  object\n",
      " 10  LIGHTING_CONDITION       86744 non-null  object\n",
      " 11  FIRST_CRASH_TYPE         86744 non-null  object\n",
      " 12  TRAFFICWAY_TYPE          86744 non-null  object\n",
      " 13  ALIGNMENT                86744 non-null  object\n",
      " 14  ROADWAY_SURFACE_COND     86744 non-null  object\n",
      " 15  ROAD_DEFECT              86744 non-null  object\n",
      " 16  REPORT_TYPE              86744 non-null  object\n",
      " 17  CRASH_TYPE               86744 non-null  object\n",
      " 18  DAMAGE                   86744 non-null  object\n",
      " 19  PRIM_CONTRIBUTORY_CAUSE  86744 non-null  object\n",
      " 20  SEC_CONTRIBUTORY_CAUSE   86744 non-null  object\n",
      " 21  STREET_DIRECTION         86744 non-null  object\n",
      " 22  PERSON_TYPE              86744 non-null  object\n",
      " 23  STATE                    86744 non-null  object\n",
      " 24  SEX                      86744 non-null  object\n",
      " 25  SAFETY_EQUIPMENT         86744 non-null  object\n",
      " 26  AIRBAG_DEPLOYED          86744 non-null  object\n",
      " 27  EJECTION                 86744 non-null  object\n",
      " 28  INJURY_CLASSIFICATION    86744 non-null  object\n",
      " 29  DRIVER_ACTION            86744 non-null  object\n",
      " 30  DRIVER_VISION            86744 non-null  object\n",
      " 31  PHYSICAL_CONDITION       86744 non-null  object\n",
      " 32  BAC_RESULT               86744 non-null  object\n",
      "dtypes: object(33)\n",
      "memory usage: 22.5+ MB\n",
      "Dataset info is:  None\n",
      "Categorical variables are:\n",
      "  ['UNIT_TYPE', 'VEHICLE_DEFECT', 'VEHICLE_TYPE', 'VEHICLE_USE', 'TRAVEL_DIRECTION', 'MANEUVER', 'FIRST_CONTACT_POINT', 'TRAFFIC_CONTROL_DEVICE', 'DEVICE_CONDITION', 'WEATHER_CONDITION', 'LIGHTING_CONDITION', 'FIRST_CRASH_TYPE', 'TRAFFICWAY_TYPE', 'ALIGNMENT', 'ROADWAY_SURFACE_COND', 'ROAD_DEFECT', 'REPORT_TYPE', 'CRASH_TYPE', 'DAMAGE', 'PRIM_CONTRIBUTORY_CAUSE', 'SEC_CONTRIBUTORY_CAUSE', 'STREET_DIRECTION', 'PERSON_TYPE', 'STATE', 'SEX', 'SAFETY_EQUIPMENT', 'AIRBAG_DEPLOYED', 'EJECTION', 'INJURY_CLASSIFICATION', 'DRIVER_ACTION', 'DRIVER_VISION', 'PHYSICAL_CONDITION', 'BAC_RESULT']\n",
      "Numerical variables are:\n",
      "  []\n"
     ]
    }
   ],
   "source": [
    "categoricalx, numericalx = basic_info(df4)"
   ]
  },
  {
   "cell_type": "code",
   "execution_count": 166,
   "metadata": {},
   "outputs": [],
   "source": [
    "def making_new_df(data, columnlist):\n",
    "    for i in columnlist:\n",
    "        dummy = pd.get_dummies(data[i])\n",
    "        #print(dummy)\n",
    "        del dummy[dummy.columns[-1]]\n",
    "        data = pd.concat([data, dummy], axis = 1)\n",
    "    return data"
   ]
  },
  {
   "cell_type": "code",
   "execution_count": 167,
   "metadata": {},
   "outputs": [],
   "source": [
    "df5 = making_new_df(df4, categoricalx)"
   ]
  },
  {
   "cell_type": "code",
   "execution_count": 168,
   "metadata": {},
   "outputs": [
    {
     "data": {
      "text/plain": [
       "['UNIT_TYPE',\n",
       " 'VEHICLE_DEFECT',\n",
       " 'VEHICLE_TYPE',\n",
       " 'VEHICLE_USE',\n",
       " 'TRAVEL_DIRECTION',\n",
       " 'MANEUVER',\n",
       " 'FIRST_CONTACT_POINT',\n",
       " 'TRAFFIC_CONTROL_DEVICE',\n",
       " 'DEVICE_CONDITION',\n",
       " 'WEATHER_CONDITION',\n",
       " 'LIGHTING_CONDITION',\n",
       " 'FIRST_CRASH_TYPE',\n",
       " 'TRAFFICWAY_TYPE',\n",
       " 'ALIGNMENT',\n",
       " 'ROADWAY_SURFACE_COND',\n",
       " 'ROAD_DEFECT',\n",
       " 'REPORT_TYPE',\n",
       " 'CRASH_TYPE',\n",
       " 'DAMAGE',\n",
       " 'PRIM_CONTRIBUTORY_CAUSE',\n",
       " 'SEC_CONTRIBUTORY_CAUSE',\n",
       " 'STREET_DIRECTION',\n",
       " 'PERSON_TYPE',\n",
       " 'STATE',\n",
       " 'SEX',\n",
       " 'SAFETY_EQUIPMENT',\n",
       " 'AIRBAG_DEPLOYED',\n",
       " 'EJECTION',\n",
       " 'INJURY_CLASSIFICATION',\n",
       " 'DRIVER_ACTION',\n",
       " 'DRIVER_VISION',\n",
       " 'PHYSICAL_CONDITION',\n",
       " 'BAC_RESULT',\n",
       " 'DISABLED VEHICLE',\n",
       " 'DRIVER',\n",
       " 'DRIVERLESS',\n",
       " 'NON-CONTACT VEHICLE',\n",
       " 'BRAKES',\n",
       " 'CARGO',\n",
       " 'ENGINE/MOTOR',\n",
       " 'FUEL SYSTEM',\n",
       " 'LIGHTS',\n",
       " 'NONE',\n",
       " 'OTHER',\n",
       " 'SIGNALS',\n",
       " 'STEERING',\n",
       " 'SUSPENSION',\n",
       " 'TIRES',\n",
       " 'UNKNOWN',\n",
       " 'WHEELS',\n",
       " '3-WHEELED MOTORCYCLE (2 REAR WHEELS)',\n",
       " 'ALL-TERRAIN VEHICLE (ATV)',\n",
       " 'BUS OVER 15 PASS.',\n",
       " 'BUS UP TO 15 PASS.',\n",
       " 'FARM EQUIPMENT',\n",
       " 'MOPED OR MOTORIZED BICYCLE',\n",
       " 'MOTOR DRIVEN CYCLE',\n",
       " 'MOTORCYCLE (OVER 150CC)',\n",
       " 'OTHER',\n",
       " 'OTHER VEHICLE WITH TRAILER',\n",
       " 'PASSENGER',\n",
       " 'PICKUP',\n",
       " 'RECREATIONAL OFF-HIGHWAY VEHICLE (ROV)',\n",
       " 'SINGLE UNIT TRUCK WITH TRAILER',\n",
       " 'SPORT UTILITY VEHICLE (SUV)',\n",
       " 'TRACTOR W/ SEMI-TRAILER',\n",
       " 'TRACTOR W/O SEMI-TRAILER',\n",
       " 'TRUCK - SINGLE UNIT',\n",
       " 'UNKNOWN/NA',\n",
       " 'AGRICULTURE',\n",
       " 'AMBULANCE',\n",
       " 'CAMPER/RV - SINGLE UNIT',\n",
       " 'COMMERCIAL - MULTI-UNIT',\n",
       " 'COMMERCIAL - SINGLE UNIT',\n",
       " 'CONSTRUCTION/MAINTENANCE',\n",
       " 'CTA',\n",
       " 'DRIVER EDUCATION',\n",
       " 'FIRE',\n",
       " 'LAWN CARE/LANDSCAPING',\n",
       " 'MASS TRANSIT',\n",
       " 'MILITARY',\n",
       " 'NOT IN USE',\n",
       " 'OTHER',\n",
       " 'OTHER TRANSIT',\n",
       " 'PERSONAL',\n",
       " 'POLICE',\n",
       " 'RIDESHARE SERVICE',\n",
       " 'SCHOOL BUS',\n",
       " 'STATE OWNED',\n",
       " 'TAXI/FOR HIRE',\n",
       " 'TOW TRUCK',\n",
       " 'E',\n",
       " 'N',\n",
       " 'NE',\n",
       " 'NW',\n",
       " 'S',\n",
       " 'SE',\n",
       " 'SW',\n",
       " 'UNKNOWN',\n",
       " 'AVOIDING VEHICLES/OBJECTS',\n",
       " 'BACKING',\n",
       " 'CHANGING LANES',\n",
       " 'DISABLED',\n",
       " 'DIVERGING',\n",
       " 'DRIVERLESS',\n",
       " 'DRIVING WRONG WAY',\n",
       " 'ENTER FROM DRIVE/ALLEY',\n",
       " 'ENTERING TRAFFIC LANE FROM PARKING',\n",
       " 'LEAVING TRAFFIC LANE TO PARK',\n",
       " 'MERGING',\n",
       " 'NEGOTIATING A CURVE',\n",
       " 'OTHER',\n",
       " 'PARKED',\n",
       " 'PARKED IN TRAFFIC LANE',\n",
       " 'PASSING/OVERTAKING',\n",
       " 'SKIDDING/CONTROL LOSS',\n",
       " 'SLOW/STOP - LEFT TURN',\n",
       " 'SLOW/STOP - LOAD/UNLOAD',\n",
       " 'SLOW/STOP - RIGHT TURN',\n",
       " 'SLOW/STOP IN TRAFFIC',\n",
       " 'STARTING IN TRAFFIC',\n",
       " 'STRAIGHT AHEAD',\n",
       " 'TURNING LEFT',\n",
       " 'TURNING ON RED',\n",
       " 'TURNING RIGHT',\n",
       " 'U-TURN',\n",
       " 'FRONT',\n",
       " 'FRONT-LEFT',\n",
       " 'FRONT-RIGHT',\n",
       " 'NONE',\n",
       " 'OTHER',\n",
       " 'REAR',\n",
       " 'REAR-LEFT',\n",
       " 'REAR-RIGHT',\n",
       " 'ROOF',\n",
       " 'SIDE-LEFT',\n",
       " 'SIDE-RIGHT',\n",
       " 'TOTAL (ALL AREAS)',\n",
       " 'UNDER CARRIAGE',\n",
       " 'BICYCLE CROSSING SIGN',\n",
       " 'DELINEATORS',\n",
       " 'FLASHING CONTROL SIGNAL',\n",
       " 'LANE USE MARKING',\n",
       " 'NO CONTROLS',\n",
       " 'NO PASSING',\n",
       " 'OTHER',\n",
       " 'OTHER RAILROAD CROSSING',\n",
       " 'OTHER REG. SIGN',\n",
       " 'OTHER WARNING SIGN',\n",
       " 'PEDESTRIAN CROSSING SIGN',\n",
       " 'POLICE/FLAGMAN',\n",
       " 'RAILROAD CROSSING GATE',\n",
       " 'RR CROSSING SIGN',\n",
       " 'SCHOOL ZONE',\n",
       " 'STOP SIGN/FLASHER',\n",
       " 'TRAFFIC SIGNAL',\n",
       " 'UNKNOWN',\n",
       " 'FUNCTIONING IMPROPERLY',\n",
       " 'FUNCTIONING PROPERLY',\n",
       " 'MISSING',\n",
       " 'NO CONTROLS',\n",
       " 'NOT FUNCTIONING',\n",
       " 'OTHER',\n",
       " 'UNKNOWN',\n",
       " 'CLEAR',\n",
       " 'CLOUDY/OVERCAST',\n",
       " 'OTHER',\n",
       " 'RAIN',\n",
       " 'SNOW',\n",
       " 'DARKNESS',\n",
       " 'DARKNESS, LIGHTED ROAD',\n",
       " 'DAWN',\n",
       " 'DAYLIGHT',\n",
       " 'DUSK',\n",
       " 'ANGLE',\n",
       " 'ANIMAL',\n",
       " 'FIXED OBJECT',\n",
       " 'HEAD ON',\n",
       " 'OTHER NONCOLLISION',\n",
       " 'OTHER OBJECT',\n",
       " 'OVERTURNED',\n",
       " 'PARKED MOTOR VEHICLE',\n",
       " 'PEDALCYCLIST',\n",
       " 'PEDESTRIAN',\n",
       " 'REAR END',\n",
       " 'REAR TO FRONT',\n",
       " 'REAR TO REAR',\n",
       " 'REAR TO SIDE',\n",
       " 'SIDESWIPE OPPOSITE DIRECTION',\n",
       " 'SIDESWIPE SAME DIRECTION',\n",
       " 'TRAIN',\n",
       " 'ALLEY',\n",
       " 'CENTER TURN LANE',\n",
       " 'DIVIDED - W/MEDIAN (NOT RAISED)',\n",
       " 'DIVIDED - W/MEDIAN BARRIER',\n",
       " 'DRIVEWAY',\n",
       " 'FIVE POINT, OR MORE',\n",
       " 'FOUR WAY',\n",
       " 'L-INTERSECTION',\n",
       " 'NOT DIVIDED',\n",
       " 'NOT REPORTED',\n",
       " 'ONE-WAY',\n",
       " 'OTHER',\n",
       " 'PARKING LOT',\n",
       " 'RAMP',\n",
       " 'ROUNDABOUT',\n",
       " 'T-INTERSECTION',\n",
       " 'TRAFFIC ROUTE',\n",
       " 'UNKNOWN',\n",
       " 'UNKNOWN INTERSECTION TYPE',\n",
       " 'CURVE ON GRADE',\n",
       " 'CURVE ON HILLCREST',\n",
       " 'CURVE, LEVEL',\n",
       " 'STRAIGHT AND LEVEL',\n",
       " 'STRAIGHT ON GRADE',\n",
       " 'DRY',\n",
       " 'ICE',\n",
       " 'OTHER',\n",
       " 'SAND, MUD, DIRT',\n",
       " 'SNOW OR SLUSH',\n",
       " 'UNKNOWN',\n",
       " 'DEBRIS ON ROADWAY',\n",
       " 'NO DEFECTS',\n",
       " 'OTHER',\n",
       " 'RUT, HOLES',\n",
       " 'SHOULDER DEFECT',\n",
       " 'UNKNOWN',\n",
       " 'AMENDED',\n",
       " 'NOT ON SCENE (DESK REPORT)',\n",
       " 'INJURY AND / OR TOW DUE TO CRASH',\n",
       " '$500 OR LESS',\n",
       " '$501 - $1,500',\n",
       " 'ANIMAL',\n",
       " 'BICYCLE ADVANCING LEGALLY ON RED LIGHT',\n",
       " 'CELL PHONE USE OTHER THAN TEXTING',\n",
       " 'DISREGARDING OTHER TRAFFIC SIGNS',\n",
       " 'DISREGARDING ROAD MARKINGS',\n",
       " 'DISREGARDING STOP SIGN',\n",
       " 'DISREGARDING TRAFFIC SIGNALS',\n",
       " 'DISREGARDING YIELD SIGN',\n",
       " 'DISTRACTION - FROM INSIDE VEHICLE',\n",
       " 'DISTRACTION - FROM OUTSIDE VEHICLE',\n",
       " 'DISTRACTION - OTHER ELECTRONIC DEVICE (NAVIGATION DEVICE, DVD PLAYER, ETC.)',\n",
       " 'DRIVING ON WRONG SIDE/WRONG WAY',\n",
       " 'DRIVING SKILLS/KNOWLEDGE/EXPERIENCE',\n",
       " 'EQUIPMENT - VEHICLE CONDITION',\n",
       " 'EVASIVE ACTION DUE TO ANIMAL, OBJECT, NONMOTORIST',\n",
       " 'EXCEEDING AUTHORIZED SPEED LIMIT',\n",
       " 'EXCEEDING SAFE SPEED FOR CONDITIONS',\n",
       " 'FAILING TO REDUCE SPEED TO AVOID CRASH',\n",
       " 'FAILING TO YIELD RIGHT-OF-WAY',\n",
       " 'FOLLOWING TOO CLOSELY',\n",
       " 'HAD BEEN DRINKING (USE WHEN ARREST IS NOT MADE)',\n",
       " 'IMPROPER BACKING',\n",
       " 'IMPROPER LANE USAGE',\n",
       " 'IMPROPER OVERTAKING/PASSING',\n",
       " 'IMPROPER TURNING/NO SIGNAL',\n",
       " 'MOTORCYCLE ADVANCING LEGALLY ON RED LIGHT',\n",
       " 'NOT APPLICABLE',\n",
       " 'OBSTRUCTED CROSSWALKS',\n",
       " 'OPERATING VEHICLE IN ERRATIC, RECKLESS, CARELESS, NEGLIGENT OR AGGRESSIVE MANNER',\n",
       " 'PASSING STOPPED SCHOOL BUS',\n",
       " 'PHYSICAL CONDITION OF DRIVER',\n",
       " 'RELATED TO BUS STOP',\n",
       " 'ROAD CONSTRUCTION/MAINTENANCE',\n",
       " 'ROAD ENGINEERING/SURFACE/MARKING DEFECTS',\n",
       " 'TEXTING',\n",
       " 'TURNING RIGHT ON RED',\n",
       " 'UNABLE TO DETERMINE',\n",
       " 'UNDER THE INFLUENCE OF ALCOHOL/DRUGS (USE WHEN ARREST IS EFFECTED)',\n",
       " 'VISION OBSCURED (SIGNS, TREE LIMBS, BUILDINGS, ETC.)',\n",
       " 'ANIMAL',\n",
       " 'BICYCLE ADVANCING LEGALLY ON RED LIGHT',\n",
       " 'CELL PHONE USE OTHER THAN TEXTING',\n",
       " 'DISREGARDING OTHER TRAFFIC SIGNS',\n",
       " 'DISREGARDING ROAD MARKINGS',\n",
       " 'DISREGARDING STOP SIGN',\n",
       " 'DISREGARDING TRAFFIC SIGNALS',\n",
       " 'DISREGARDING YIELD SIGN',\n",
       " 'DISTRACTION - FROM INSIDE VEHICLE',\n",
       " 'DISTRACTION - FROM OUTSIDE VEHICLE',\n",
       " 'DISTRACTION - OTHER ELECTRONIC DEVICE (NAVIGATION DEVICE, DVD PLAYER, ETC.)',\n",
       " 'DRIVING ON WRONG SIDE/WRONG WAY',\n",
       " 'DRIVING SKILLS/KNOWLEDGE/EXPERIENCE',\n",
       " 'EQUIPMENT - VEHICLE CONDITION',\n",
       " 'EVASIVE ACTION DUE TO ANIMAL, OBJECT, NONMOTORIST',\n",
       " 'EXCEEDING AUTHORIZED SPEED LIMIT',\n",
       " 'EXCEEDING SAFE SPEED FOR CONDITIONS',\n",
       " 'FAILING TO REDUCE SPEED TO AVOID CRASH',\n",
       " 'FAILING TO YIELD RIGHT-OF-WAY',\n",
       " 'FOLLOWING TOO CLOSELY',\n",
       " 'HAD BEEN DRINKING (USE WHEN ARREST IS NOT MADE)',\n",
       " 'IMPROPER BACKING',\n",
       " 'IMPROPER LANE USAGE',\n",
       " 'IMPROPER OVERTAKING/PASSING',\n",
       " 'IMPROPER TURNING/NO SIGNAL',\n",
       " 'MOTORCYCLE ADVANCING LEGALLY ON RED LIGHT',\n",
       " 'NOT APPLICABLE',\n",
       " 'OBSTRUCTED CROSSWALKS',\n",
       " 'OPERATING VEHICLE IN ERRATIC, RECKLESS, CARELESS, NEGLIGENT OR AGGRESSIVE MANNER',\n",
       " 'PASSING STOPPED SCHOOL BUS',\n",
       " 'PHYSICAL CONDITION OF DRIVER',\n",
       " 'RELATED TO BUS STOP',\n",
       " 'ROAD CONSTRUCTION/MAINTENANCE',\n",
       " 'ROAD ENGINEERING/SURFACE/MARKING DEFECTS',\n",
       " 'TEXTING',\n",
       " 'TURNING RIGHT ON RED',\n",
       " 'UNABLE TO DETERMINE',\n",
       " 'UNDER THE INFLUENCE OF ALCOHOL/DRUGS (USE WHEN ARREST IS EFFECTED)',\n",
       " 'VISION OBSCURED (SIGNS, TREE LIMBS, BUILDINGS, ETC.)',\n",
       " 'E',\n",
       " 'N',\n",
       " 'S',\n",
       " 'DRIVER',\n",
       " 'AK',\n",
       " 'AL',\n",
       " 'AR',\n",
       " 'AZ',\n",
       " 'CA',\n",
       " 'CO',\n",
       " 'CT',\n",
       " 'DC',\n",
       " 'DE',\n",
       " 'FL',\n",
       " 'GA',\n",
       " 'HI',\n",
       " 'IA',\n",
       " 'ID',\n",
       " 'IL',\n",
       " 'IN',\n",
       " 'KS',\n",
       " 'KY',\n",
       " 'LA',\n",
       " 'MA',\n",
       " 'MD',\n",
       " 'ME',\n",
       " 'MI',\n",
       " 'MN',\n",
       " 'MO',\n",
       " 'MS',\n",
       " 'MT',\n",
       " 'NB',\n",
       " 'NC',\n",
       " 'NH',\n",
       " 'NJ',\n",
       " 'NM',\n",
       " 'NV',\n",
       " 'NY',\n",
       " 'OH',\n",
       " 'OK',\n",
       " 'OR',\n",
       " 'PA',\n",
       " 'RI',\n",
       " 'SC',\n",
       " 'SD',\n",
       " 'TN',\n",
       " 'TX',\n",
       " 'UT',\n",
       " 'VA',\n",
       " 'VT',\n",
       " 'WA',\n",
       " 'WI',\n",
       " 'WV',\n",
       " 'WY',\n",
       " 'F',\n",
       " 'M',\n",
       " 'DOT COMPLIANT MOTORCYCLE HELMET',\n",
       " 'HELMET NOT USED',\n",
       " 'HELMET USED',\n",
       " 'NONE PRESENT',\n",
       " 'NOT DOT COMPLIANT MOTORCYCLE HELMET',\n",
       " 'SAFETY BELT NOT USED',\n",
       " 'SAFETY BELT USED',\n",
       " 'SHOULD/LAP BELT USED IMPROPERLY',\n",
       " 'USAGE UNKNOWN',\n",
       " 'DEPLOYED OTHER (KNEE, AIR, BELT, ETC.)',\n",
       " 'DEPLOYED, COMBINATION',\n",
       " 'DEPLOYED, FRONT',\n",
       " 'DEPLOYED, SIDE',\n",
       " 'DEPLOYMENT UNKNOWN',\n",
       " 'DID NOT DEPLOY',\n",
       " 'NONE',\n",
       " 'PARTIALLY EJECTED',\n",
       " 'TOTALLY EJECTED',\n",
       " 'TRAPPED/EXTRICATED',\n",
       " 'FATAL',\n",
       " 'INCAPACITATING INJURY',\n",
       " 'NO INDICATION OF INJURY',\n",
       " 'NONINCAPACITATING INJURY',\n",
       " 'CELL PHONE USE OTHER THAN TEXTING',\n",
       " 'DISREGARDED CONTROL DEVICES',\n",
       " 'EMERGENCY VEHICLE ON CALL',\n",
       " 'EVADING POLICE VEHICLE',\n",
       " 'FAILED TO YIELD',\n",
       " 'FOLLOWED TOO CLOSELY',\n",
       " 'IMPROPER BACKING',\n",
       " 'IMPROPER LANE CHANGE',\n",
       " 'IMPROPER PARKING',\n",
       " 'IMPROPER PASSING',\n",
       " 'IMPROPER TURN',\n",
       " 'LICENSE RESTRICTIONS',\n",
       " 'NONE',\n",
       " 'OTHER',\n",
       " 'OVERCORRECTED',\n",
       " 'STOPPED SCHOOL BUS',\n",
       " 'TEXTING',\n",
       " 'TOO FAST FOR CONDITIONS',\n",
       " 'UNKNOWN',\n",
       " 'BLINDED - HEADLIGHTS',\n",
       " 'BLINDED - SUNLIGHT',\n",
       " 'BLOWING MATERIALS',\n",
       " 'BUILDINGS',\n",
       " 'EMBANKMENT',\n",
       " 'HILLCREST',\n",
       " 'MOVING VEHICLES',\n",
       " 'NOT OBSCURED',\n",
       " 'OTHER',\n",
       " 'PARKED VEHICLES',\n",
       " 'TREES, PLANTS',\n",
       " 'UNKNOWN',\n",
       " 'EMOTIONAL',\n",
       " 'FATIGUED/ASLEEP',\n",
       " 'HAD BEEN DRINKING',\n",
       " 'ILLNESS/FAINTED',\n",
       " 'IMPAIRED - ALCOHOL',\n",
       " 'IMPAIRED - ALCOHOL AND DRUGS',\n",
       " 'IMPAIRED - DRUGS',\n",
       " 'MEDICATED',\n",
       " 'NORMAL',\n",
       " 'OTHER',\n",
       " 'REMOVED BY EMS',\n",
       " 'TEST NOT OFFERED',\n",
       " 'TEST PERFORMED, RESULTS UNKNOWN',\n",
       " 'TEST REFUSED']"
      ]
     },
     "execution_count": 168,
     "metadata": {},
     "output_type": "execute_result"
    }
   ],
   "source": [
    "list(df5.columns)"
   ]
  },
  {
   "cell_type": "code",
   "execution_count": 169,
   "metadata": {},
   "outputs": [],
   "source": [
    "df_a2 = df_a2.drop(columns=['CRASH_RECORD_ID', 'MODEL', 'DATE_POLICE_NOTIFIED', 'STREET_NAME', 'PERSON_ID', 'RD_NO', 'CRASH_DATE', 'CITY', 'STATE'])"
   ]
  },
  {
   "cell_type": "code",
   "execution_count": 170,
   "metadata": {},
   "outputs": [],
   "source": [
    "df_a2 = df_a2.drop(columns=['CRASH_UNIT_ID',\n",
    " 'MAKE',\n",
    " 'VEHICLE_YEAR',\n",
    " 'STREET_NO',\n",
    " 'BEAT_OF_OCCURRENCE',\n",
    " 'LATITUDE',\n",
    " 'LONGITUDE',\n",
    " 'DATE_ACCIDENT',\n",
    " 'VEHICLE_ID'])"
   ]
  },
  {
   "cell_type": "code",
   "execution_count": 171,
   "metadata": {},
   "outputs": [],
   "source": [
    "categorical2 = df_a2.columns"
   ]
  },
  {
   "cell_type": "code",
   "execution_count": 172,
   "metadata": {},
   "outputs": [],
   "source": [
    "df_a3 = making_new_df(df_a2, categorical2)"
   ]
  },
  {
   "cell_type": "code",
   "execution_count": 173,
   "metadata": {},
   "outputs": [
    {
     "name": "stdout",
     "output_type": "stream",
     "text": [
      "Unique Values: 12 :  UNIT_NO Column Name.\n",
      "Unique Values: 5 :  UNIT_TYPE Column Name.\n",
      "Unique Values: 14 :  VEHICLE_DEFECT Column Name.\n",
      "Unique Values: 20 :  VEHICLE_TYPE Column Name.\n",
      "Unique Values: 23 :  VEHICLE_USE Column Name.\n",
      "Unique Values: 9 :  TRAVEL_DIRECTION Column Name.\n",
      "Unique Values: 28 :  MANEUVER Column Name.\n",
      "Unique Values: 20 :  OCCUPANT_CNT Column Name.\n",
      "Unique Values: 14 :  FIRST_CONTACT_POINT Column Name.\n",
      "Unique Values: 22 :  POSTED_SPEED_LIMIT Column Name.\n",
      "Unique Values: 19 :  TRAFFIC_CONTROL_DEVICE Column Name.\n",
      "Unique Values: 8 :  DEVICE_CONDITION Column Name.\n",
      "Unique Values: 6 :  WEATHER_CONDITION Column Name.\n",
      "Unique Values: 6 :  LIGHTING_CONDITION Column Name.\n",
      "Unique Values: 18 :  FIRST_CRASH_TYPE Column Name.\n",
      "Unique Values: 20 :  TRAFFICWAY_TYPE Column Name.\n",
      "Unique Values: 6 :  ALIGNMENT Column Name.\n",
      "Unique Values: 7 :  ROADWAY_SURFACE_COND Column Name.\n",
      "Unique Values: 7 :  ROAD_DEFECT Column Name.\n",
      "Unique Values: 3 :  REPORT_TYPE Column Name.\n",
      "Unique Values: 2 :  CRASH_TYPE Column Name.\n",
      "Unique Values: 3 :  DAMAGE Column Name.\n",
      "Unique Values: 40 :  PRIM_CONTRIBUTORY_CAUSE Column Name.\n",
      "Unique Values: 40 :  SEC_CONTRIBUTORY_CAUSE Column Name.\n",
      "Unique Values: 4 :  STREET_DIRECTION Column Name.\n",
      "Unique Values: 12 :  NUM_UNITS Column Name.\n",
      "Unique Values: 3 :  MOST_SEVERE_INJURY Column Name.\n",
      "Unique Values: 15 :  INJURIES_TOTAL Column Name.\n",
      "Unique Values: 2 :  INJURIES_FATAL Column Name.\n",
      "Unique Values: 7 :  INJURIES_INCAPACITATING Column Name.\n",
      "Unique Values: 11 :  INJURIES_NON_INCAPACITATING Column Name.\n",
      "Unique Values: 10 :  INJURIES_REPORTED_NOT_EVIDENT Column Name.\n",
      "Unique Values: 19 :  INJURIES_NO_INDICATION Column Name.\n",
      "Unique Values: 1 :  INJURIES_UNKNOWN Column Name.\n",
      "Unique Values: 24 :  CRASH_HOUR Column Name.\n",
      "Unique Values: 7 :  CRASH_DAY_OF_WEEK Column Name.\n",
      "Unique Values: 12 :  CRASH_MONTH Column Name.\n",
      "Unique Values: 2 :  IS_A_HOLIDAY Column Name.\n",
      "Unique Values: 2 :  HOLIDAY_NAME Column Name.\n",
      "Unique Values: 2 :  PERSON_TYPE Column Name.\n",
      "Unique Values: 3 :  SEX Column Name.\n",
      "Unique Values: 96 :  AGE Column Name.\n",
      "Unique Values: 10 :  SAFETY_EQUIPMENT Column Name.\n",
      "Unique Values: 7 :  AIRBAG_DEPLOYED Column Name.\n",
      "Unique Values: 5 :  EJECTION Column Name.\n",
      "Unique Values: 5 :  INJURY_CLASSIFICATION Column Name.\n",
      "Unique Values: 20 :  DRIVER_ACTION Column Name.\n",
      "Unique Values: 13 :  DRIVER_VISION Column Name.\n",
      "Unique Values: 12 :  PHYSICAL_CONDITION Column Name.\n",
      "Unique Values: 4 :  BAC_RESULT Column Name.\n"
     ]
    },
    {
     "ename": "KeyError",
     "evalue": "1",
     "output_type": "error",
     "traceback": [
      "\u001b[1;31m---------------------------------------------------------------------------\u001b[0m",
      "\u001b[1;31mKeyError\u001b[0m                                  Traceback (most recent call last)",
      "\u001b[1;32m~\\anaconda3\\envs\\learn-env\\lib\\site-packages\\pandas\\core\\indexes\\base.py\u001b[0m in \u001b[0;36mget_loc\u001b[1;34m(self, key, method, tolerance)\u001b[0m\n\u001b[0;32m   2894\u001b[0m             \u001b[1;32mtry\u001b[0m\u001b[1;33m:\u001b[0m\u001b[1;33m\u001b[0m\u001b[1;33m\u001b[0m\u001b[0m\n\u001b[1;32m-> 2895\u001b[1;33m                 \u001b[1;32mreturn\u001b[0m \u001b[0mself\u001b[0m\u001b[1;33m.\u001b[0m\u001b[0m_engine\u001b[0m\u001b[1;33m.\u001b[0m\u001b[0mget_loc\u001b[0m\u001b[1;33m(\u001b[0m\u001b[0mcasted_key\u001b[0m\u001b[1;33m)\u001b[0m\u001b[1;33m\u001b[0m\u001b[1;33m\u001b[0m\u001b[0m\n\u001b[0m\u001b[0;32m   2896\u001b[0m             \u001b[1;32mexcept\u001b[0m \u001b[0mKeyError\u001b[0m \u001b[1;32mas\u001b[0m \u001b[0merr\u001b[0m\u001b[1;33m:\u001b[0m\u001b[1;33m\u001b[0m\u001b[1;33m\u001b[0m\u001b[0m\n",
      "\u001b[1;32mpandas\\_libs\\index.pyx\u001b[0m in \u001b[0;36mpandas._libs.index.IndexEngine.get_loc\u001b[1;34m()\u001b[0m\n",
      "\u001b[1;32mpandas\\_libs\\index.pyx\u001b[0m in \u001b[0;36mpandas._libs.index.IndexEngine.get_loc\u001b[1;34m()\u001b[0m\n",
      "\u001b[1;32mpandas\\_libs\\hashtable_class_helper.pxi\u001b[0m in \u001b[0;36mpandas._libs.hashtable.PyObjectHashTable.get_item\u001b[1;34m()\u001b[0m\n",
      "\u001b[1;32mpandas\\_libs\\hashtable_class_helper.pxi\u001b[0m in \u001b[0;36mpandas._libs.hashtable.PyObjectHashTable.get_item\u001b[1;34m()\u001b[0m\n",
      "\u001b[1;31mKeyError\u001b[0m: 1",
      "\nThe above exception was the direct cause of the following exception:\n",
      "\u001b[1;31mKeyError\u001b[0m                                  Traceback (most recent call last)",
      "\u001b[1;32m<ipython-input-173-3abbb42b4e04>\u001b[0m in \u001b[0;36m<module>\u001b[1;34m\u001b[0m\n\u001b[0;32m      1\u001b[0m \u001b[0mdeletar\u001b[0m \u001b[1;33m=\u001b[0m \u001b[1;33m[\u001b[0m\u001b[1;33m]\u001b[0m\u001b[1;33m\u001b[0m\u001b[1;33m\u001b[0m\u001b[0m\n\u001b[0;32m      2\u001b[0m \u001b[1;32mfor\u001b[0m \u001b[0mx\u001b[0m \u001b[1;32min\u001b[0m \u001b[0mdf_a3\u001b[0m\u001b[1;33m.\u001b[0m\u001b[0mcolumns\u001b[0m\u001b[1;33m:\u001b[0m\u001b[1;33m\u001b[0m\u001b[1;33m\u001b[0m\u001b[0m\n\u001b[1;32m----> 3\u001b[1;33m     \u001b[0mprint\u001b[0m\u001b[1;33m(\u001b[0m\u001b[1;34m\"Unique Values: {} :  {} Column Name.\"\u001b[0m\u001b[1;33m.\u001b[0m\u001b[0mformat\u001b[0m\u001b[1;33m(\u001b[0m\u001b[0mlen\u001b[0m\u001b[1;33m(\u001b[0m\u001b[0mdf_a2\u001b[0m\u001b[1;33m[\u001b[0m\u001b[0mx\u001b[0m\u001b[1;33m]\u001b[0m\u001b[1;33m.\u001b[0m\u001b[0mvalue_counts\u001b[0m\u001b[1;33m(\u001b[0m\u001b[1;33m)\u001b[0m\u001b[1;33m)\u001b[0m\u001b[1;33m,\u001b[0m \u001b[0mx\u001b[0m\u001b[1;33m)\u001b[0m\u001b[1;33m)\u001b[0m\u001b[1;33m\u001b[0m\u001b[1;33m\u001b[0m\u001b[0m\n\u001b[0m\u001b[0;32m      4\u001b[0m     \u001b[1;32mif\u001b[0m \u001b[0mlen\u001b[0m\u001b[1;33m(\u001b[0m\u001b[0mdf_a2\u001b[0m\u001b[1;33m[\u001b[0m\u001b[0mx\u001b[0m\u001b[1;33m]\u001b[0m\u001b[1;33m.\u001b[0m\u001b[0mvalue_counts\u001b[0m\u001b[1;33m(\u001b[0m\u001b[1;33m)\u001b[0m\u001b[1;33m)\u001b[0m \u001b[1;33m>\u001b[0m \u001b[1;36m50\u001b[0m\u001b[1;33m:\u001b[0m\u001b[1;33m\u001b[0m\u001b[1;33m\u001b[0m\u001b[0m\n\u001b[0;32m      5\u001b[0m         \u001b[0mdeletar\u001b[0m\u001b[1;33m.\u001b[0m\u001b[0mappend\u001b[0m\u001b[1;33m(\u001b[0m\u001b[0mx\u001b[0m\u001b[1;33m)\u001b[0m\u001b[1;33m\u001b[0m\u001b[1;33m\u001b[0m\u001b[0m\n",
      "\u001b[1;32m~\\anaconda3\\envs\\learn-env\\lib\\site-packages\\pandas\\core\\frame.py\u001b[0m in \u001b[0;36m__getitem__\u001b[1;34m(self, key)\u001b[0m\n\u001b[0;32m   2900\u001b[0m             \u001b[1;32mif\u001b[0m \u001b[0mself\u001b[0m\u001b[1;33m.\u001b[0m\u001b[0mcolumns\u001b[0m\u001b[1;33m.\u001b[0m\u001b[0mnlevels\u001b[0m \u001b[1;33m>\u001b[0m \u001b[1;36m1\u001b[0m\u001b[1;33m:\u001b[0m\u001b[1;33m\u001b[0m\u001b[1;33m\u001b[0m\u001b[0m\n\u001b[0;32m   2901\u001b[0m                 \u001b[1;32mreturn\u001b[0m \u001b[0mself\u001b[0m\u001b[1;33m.\u001b[0m\u001b[0m_getitem_multilevel\u001b[0m\u001b[1;33m(\u001b[0m\u001b[0mkey\u001b[0m\u001b[1;33m)\u001b[0m\u001b[1;33m\u001b[0m\u001b[1;33m\u001b[0m\u001b[0m\n\u001b[1;32m-> 2902\u001b[1;33m             \u001b[0mindexer\u001b[0m \u001b[1;33m=\u001b[0m \u001b[0mself\u001b[0m\u001b[1;33m.\u001b[0m\u001b[0mcolumns\u001b[0m\u001b[1;33m.\u001b[0m\u001b[0mget_loc\u001b[0m\u001b[1;33m(\u001b[0m\u001b[0mkey\u001b[0m\u001b[1;33m)\u001b[0m\u001b[1;33m\u001b[0m\u001b[1;33m\u001b[0m\u001b[0m\n\u001b[0m\u001b[0;32m   2903\u001b[0m             \u001b[1;32mif\u001b[0m \u001b[0mis_integer\u001b[0m\u001b[1;33m(\u001b[0m\u001b[0mindexer\u001b[0m\u001b[1;33m)\u001b[0m\u001b[1;33m:\u001b[0m\u001b[1;33m\u001b[0m\u001b[1;33m\u001b[0m\u001b[0m\n\u001b[0;32m   2904\u001b[0m                 \u001b[0mindexer\u001b[0m \u001b[1;33m=\u001b[0m \u001b[1;33m[\u001b[0m\u001b[0mindexer\u001b[0m\u001b[1;33m]\u001b[0m\u001b[1;33m\u001b[0m\u001b[1;33m\u001b[0m\u001b[0m\n",
      "\u001b[1;32m~\\anaconda3\\envs\\learn-env\\lib\\site-packages\\pandas\\core\\indexes\\base.py\u001b[0m in \u001b[0;36mget_loc\u001b[1;34m(self, key, method, tolerance)\u001b[0m\n\u001b[0;32m   2895\u001b[0m                 \u001b[1;32mreturn\u001b[0m \u001b[0mself\u001b[0m\u001b[1;33m.\u001b[0m\u001b[0m_engine\u001b[0m\u001b[1;33m.\u001b[0m\u001b[0mget_loc\u001b[0m\u001b[1;33m(\u001b[0m\u001b[0mcasted_key\u001b[0m\u001b[1;33m)\u001b[0m\u001b[1;33m\u001b[0m\u001b[1;33m\u001b[0m\u001b[0m\n\u001b[0;32m   2896\u001b[0m             \u001b[1;32mexcept\u001b[0m \u001b[0mKeyError\u001b[0m \u001b[1;32mas\u001b[0m \u001b[0merr\u001b[0m\u001b[1;33m:\u001b[0m\u001b[1;33m\u001b[0m\u001b[1;33m\u001b[0m\u001b[0m\n\u001b[1;32m-> 2897\u001b[1;33m                 \u001b[1;32mraise\u001b[0m \u001b[0mKeyError\u001b[0m\u001b[1;33m(\u001b[0m\u001b[0mkey\u001b[0m\u001b[1;33m)\u001b[0m \u001b[1;32mfrom\u001b[0m \u001b[0merr\u001b[0m\u001b[1;33m\u001b[0m\u001b[1;33m\u001b[0m\u001b[0m\n\u001b[0m\u001b[0;32m   2898\u001b[0m \u001b[1;33m\u001b[0m\u001b[0m\n\u001b[0;32m   2899\u001b[0m         \u001b[1;32mif\u001b[0m \u001b[0mtolerance\u001b[0m \u001b[1;32mis\u001b[0m \u001b[1;32mnot\u001b[0m \u001b[1;32mNone\u001b[0m\u001b[1;33m:\u001b[0m\u001b[1;33m\u001b[0m\u001b[1;33m\u001b[0m\u001b[0m\n",
      "\u001b[1;31mKeyError\u001b[0m: 1"
     ]
    }
   ],
   "source": [
    "deletar = []\n",
    "for x in df_a3.columns:\n",
    "    print(\"Unique Values: {} :  {} Column Name.\".format(len(df_a2[x].value_counts()), x))\n",
    "    if len(df_a2[x].value_counts()) > 50:\n",
    "        deletar.append(x)"
   ]
  },
  {
   "cell_type": "code",
   "execution_count": 174,
   "metadata": {},
   "outputs": [
    {
     "data": {
      "text/plain": [
       "['AGE']"
      ]
     },
     "execution_count": 174,
     "metadata": {},
     "output_type": "execute_result"
    }
   ],
   "source": [
    "deletar"
   ]
  },
  {
   "cell_type": "code",
   "execution_count": 175,
   "metadata": {},
   "outputs": [
    {
     "data": {
      "text/html": [
       "<div>\n",
       "<style scoped>\n",
       "    .dataframe tbody tr th:only-of-type {\n",
       "        vertical-align: middle;\n",
       "    }\n",
       "\n",
       "    .dataframe tbody tr th {\n",
       "        vertical-align: top;\n",
       "    }\n",
       "\n",
       "    .dataframe thead th {\n",
       "        text-align: right;\n",
       "    }\n",
       "</style>\n",
       "<table border=\"1\" class=\"dataframe\">\n",
       "  <thead>\n",
       "    <tr style=\"text-align: right;\">\n",
       "      <th></th>\n",
       "      <th>UNIT_NO</th>\n",
       "      <th>UNIT_TYPE</th>\n",
       "      <th>VEHICLE_DEFECT</th>\n",
       "      <th>VEHICLE_TYPE</th>\n",
       "      <th>VEHICLE_USE</th>\n",
       "      <th>TRAVEL_DIRECTION</th>\n",
       "      <th>MANEUVER</th>\n",
       "      <th>OCCUPANT_CNT</th>\n",
       "      <th>FIRST_CONTACT_POINT</th>\n",
       "      <th>POSTED_SPEED_LIMIT</th>\n",
       "      <th>...</th>\n",
       "      <th>IMPAIRED - ALCOHOL</th>\n",
       "      <th>IMPAIRED - ALCOHOL AND DRUGS</th>\n",
       "      <th>IMPAIRED - DRUGS</th>\n",
       "      <th>MEDICATED</th>\n",
       "      <th>NORMAL</th>\n",
       "      <th>OTHER</th>\n",
       "      <th>REMOVED BY EMS</th>\n",
       "      <th>TEST NOT OFFERED</th>\n",
       "      <th>TEST PERFORMED, RESULTS UNKNOWN</th>\n",
       "      <th>TEST REFUSED</th>\n",
       "    </tr>\n",
       "  </thead>\n",
       "  <tbody>\n",
       "    <tr>\n",
       "      <th>909920</th>\n",
       "      <td>2</td>\n",
       "      <td>DRIVER</td>\n",
       "      <td>NONE</td>\n",
       "      <td>PASSENGER</td>\n",
       "      <td>PERSONAL</td>\n",
       "      <td>W</td>\n",
       "      <td>STRAIGHT AHEAD</td>\n",
       "      <td>1.0</td>\n",
       "      <td>REAR-RIGHT</td>\n",
       "      <td>30</td>\n",
       "      <td>...</td>\n",
       "      <td>0</td>\n",
       "      <td>0</td>\n",
       "      <td>0</td>\n",
       "      <td>0</td>\n",
       "      <td>1</td>\n",
       "      <td>0</td>\n",
       "      <td>0</td>\n",
       "      <td>1</td>\n",
       "      <td>0</td>\n",
       "      <td>0</td>\n",
       "    </tr>\n",
       "    <tr>\n",
       "      <th>909921</th>\n",
       "      <td>2</td>\n",
       "      <td>DRIVER</td>\n",
       "      <td>NONE</td>\n",
       "      <td>PASSENGER</td>\n",
       "      <td>PERSONAL</td>\n",
       "      <td>W</td>\n",
       "      <td>STRAIGHT AHEAD</td>\n",
       "      <td>1.0</td>\n",
       "      <td>REAR-RIGHT</td>\n",
       "      <td>30</td>\n",
       "      <td>...</td>\n",
       "      <td>0</td>\n",
       "      <td>0</td>\n",
       "      <td>0</td>\n",
       "      <td>0</td>\n",
       "      <td>1</td>\n",
       "      <td>0</td>\n",
       "      <td>0</td>\n",
       "      <td>1</td>\n",
       "      <td>0</td>\n",
       "      <td>0</td>\n",
       "    </tr>\n",
       "    <tr>\n",
       "      <th>909922</th>\n",
       "      <td>2</td>\n",
       "      <td>DRIVER</td>\n",
       "      <td>NONE</td>\n",
       "      <td>VAN/MINI-VAN</td>\n",
       "      <td>PERSONAL</td>\n",
       "      <td>E</td>\n",
       "      <td>TURNING LEFT</td>\n",
       "      <td>1.0</td>\n",
       "      <td>SIDE-RIGHT</td>\n",
       "      <td>30</td>\n",
       "      <td>...</td>\n",
       "      <td>0</td>\n",
       "      <td>0</td>\n",
       "      <td>0</td>\n",
       "      <td>0</td>\n",
       "      <td>1</td>\n",
       "      <td>0</td>\n",
       "      <td>0</td>\n",
       "      <td>1</td>\n",
       "      <td>0</td>\n",
       "      <td>0</td>\n",
       "    </tr>\n",
       "  </tbody>\n",
       "</table>\n",
       "<p>3 rows × 660 columns</p>\n",
       "</div>"
      ],
      "text/plain": [
       "        UNIT_NO UNIT_TYPE VEHICLE_DEFECT  VEHICLE_TYPE VEHICLE_USE  \\\n",
       "909920        2    DRIVER           NONE     PASSENGER    PERSONAL   \n",
       "909921        2    DRIVER           NONE     PASSENGER    PERSONAL   \n",
       "909922        2    DRIVER           NONE  VAN/MINI-VAN    PERSONAL   \n",
       "\n",
       "       TRAVEL_DIRECTION        MANEUVER  OCCUPANT_CNT FIRST_CONTACT_POINT  \\\n",
       "909920                W  STRAIGHT AHEAD           1.0          REAR-RIGHT   \n",
       "909921                W  STRAIGHT AHEAD           1.0          REAR-RIGHT   \n",
       "909922                E    TURNING LEFT           1.0          SIDE-RIGHT   \n",
       "\n",
       "        POSTED_SPEED_LIMIT  ... IMPAIRED - ALCOHOL  \\\n",
       "909920                  30  ...                  0   \n",
       "909921                  30  ...                  0   \n",
       "909922                  30  ...                  0   \n",
       "\n",
       "       IMPAIRED - ALCOHOL AND DRUGS IMPAIRED - DRUGS MEDICATED NORMAL OTHER  \\\n",
       "909920                            0                0         0      1     0   \n",
       "909921                            0                0         0      1     0   \n",
       "909922                            0                0         0      1     0   \n",
       "\n",
       "       REMOVED BY EMS TEST NOT OFFERED TEST PERFORMED, RESULTS UNKNOWN  \\\n",
       "909920              0                1                               0   \n",
       "909921              0                1                               0   \n",
       "909922              0                1                               0   \n",
       "\n",
       "       TEST REFUSED  \n",
       "909920            0  \n",
       "909921            0  \n",
       "909922            0  \n",
       "\n",
       "[3 rows x 660 columns]"
      ]
     },
     "execution_count": 175,
     "metadata": {},
     "output_type": "execute_result"
    }
   ],
   "source": [
    "df_a3.head(3)"
   ]
  },
  {
   "cell_type": "code",
   "execution_count": 176,
   "metadata": {},
   "outputs": [
    {
     "data": {
      "text/plain": [
       "0"
      ]
     },
     "execution_count": 176,
     "metadata": {},
     "output_type": "execute_result"
    }
   ],
   "source": [
    "df_a3.isna().sum().sum()"
   ]
  },
  {
   "cell_type": "code",
   "execution_count": 177,
   "metadata": {},
   "outputs": [
    {
     "data": {
      "text/plain": [
       "125"
      ]
     },
     "execution_count": 177,
     "metadata": {},
     "output_type": "execute_result"
    }
   ],
   "source": [
    "df_a3.duplicated().sum()"
   ]
  },
  {
   "cell_type": "code",
   "execution_count": 178,
   "metadata": {},
   "outputs": [],
   "source": [
    "df_a3.drop_duplicates(inplace=True)"
   ]
  },
  {
   "cell_type": "code",
   "execution_count": null,
   "metadata": {},
   "outputs": [],
   "source": []
  },
  {
   "cell_type": "code",
   "execution_count": null,
   "metadata": {},
   "outputs": [],
   "source": []
  },
  {
   "cell_type": "code",
   "execution_count": 179,
   "metadata": {},
   "outputs": [],
   "source": [
    "# ALL OVER AGAIN\n",
    "\n",
    "\n"
   ]
  },
  {
   "cell_type": "code",
   "execution_count": 180,
   "metadata": {
    "scrolled": true
   },
   "outputs": [
    {
     "data": {
      "text/html": [
       "<div>\n",
       "<style scoped>\n",
       "    .dataframe tbody tr th:only-of-type {\n",
       "        vertical-align: middle;\n",
       "    }\n",
       "\n",
       "    .dataframe tbody tr th {\n",
       "        vertical-align: top;\n",
       "    }\n",
       "\n",
       "    .dataframe thead th {\n",
       "        text-align: right;\n",
       "    }\n",
       "</style>\n",
       "<table border=\"1\" class=\"dataframe\">\n",
       "  <thead>\n",
       "    <tr style=\"text-align: right;\">\n",
       "      <th></th>\n",
       "      <th>UNIT_NO</th>\n",
       "      <th>UNIT_TYPE</th>\n",
       "      <th>VEHICLE_DEFECT</th>\n",
       "      <th>VEHICLE_TYPE</th>\n",
       "      <th>VEHICLE_USE</th>\n",
       "      <th>TRAVEL_DIRECTION</th>\n",
       "      <th>MANEUVER</th>\n",
       "      <th>OCCUPANT_CNT</th>\n",
       "      <th>FIRST_CONTACT_POINT</th>\n",
       "      <th>POSTED_SPEED_LIMIT</th>\n",
       "      <th>...</th>\n",
       "      <th>IMPAIRED - ALCOHOL</th>\n",
       "      <th>IMPAIRED - ALCOHOL AND DRUGS</th>\n",
       "      <th>IMPAIRED - DRUGS</th>\n",
       "      <th>MEDICATED</th>\n",
       "      <th>NORMAL</th>\n",
       "      <th>OTHER</th>\n",
       "      <th>REMOVED BY EMS</th>\n",
       "      <th>TEST NOT OFFERED</th>\n",
       "      <th>TEST PERFORMED, RESULTS UNKNOWN</th>\n",
       "      <th>TEST REFUSED</th>\n",
       "    </tr>\n",
       "  </thead>\n",
       "  <tbody>\n",
       "    <tr>\n",
       "      <th>909920</th>\n",
       "      <td>2</td>\n",
       "      <td>DRIVER</td>\n",
       "      <td>NONE</td>\n",
       "      <td>PASSENGER</td>\n",
       "      <td>PERSONAL</td>\n",
       "      <td>W</td>\n",
       "      <td>STRAIGHT AHEAD</td>\n",
       "      <td>1.0</td>\n",
       "      <td>REAR-RIGHT</td>\n",
       "      <td>30</td>\n",
       "      <td>...</td>\n",
       "      <td>0</td>\n",
       "      <td>0</td>\n",
       "      <td>0</td>\n",
       "      <td>0</td>\n",
       "      <td>1</td>\n",
       "      <td>0</td>\n",
       "      <td>0</td>\n",
       "      <td>1</td>\n",
       "      <td>0</td>\n",
       "      <td>0</td>\n",
       "    </tr>\n",
       "    <tr>\n",
       "      <th>909921</th>\n",
       "      <td>2</td>\n",
       "      <td>DRIVER</td>\n",
       "      <td>NONE</td>\n",
       "      <td>PASSENGER</td>\n",
       "      <td>PERSONAL</td>\n",
       "      <td>W</td>\n",
       "      <td>STRAIGHT AHEAD</td>\n",
       "      <td>1.0</td>\n",
       "      <td>REAR-RIGHT</td>\n",
       "      <td>30</td>\n",
       "      <td>...</td>\n",
       "      <td>0</td>\n",
       "      <td>0</td>\n",
       "      <td>0</td>\n",
       "      <td>0</td>\n",
       "      <td>1</td>\n",
       "      <td>0</td>\n",
       "      <td>0</td>\n",
       "      <td>1</td>\n",
       "      <td>0</td>\n",
       "      <td>0</td>\n",
       "    </tr>\n",
       "    <tr>\n",
       "      <th>909922</th>\n",
       "      <td>2</td>\n",
       "      <td>DRIVER</td>\n",
       "      <td>NONE</td>\n",
       "      <td>VAN/MINI-VAN</td>\n",
       "      <td>PERSONAL</td>\n",
       "      <td>E</td>\n",
       "      <td>TURNING LEFT</td>\n",
       "      <td>1.0</td>\n",
       "      <td>SIDE-RIGHT</td>\n",
       "      <td>30</td>\n",
       "      <td>...</td>\n",
       "      <td>0</td>\n",
       "      <td>0</td>\n",
       "      <td>0</td>\n",
       "      <td>0</td>\n",
       "      <td>1</td>\n",
       "      <td>0</td>\n",
       "      <td>0</td>\n",
       "      <td>1</td>\n",
       "      <td>0</td>\n",
       "      <td>0</td>\n",
       "    </tr>\n",
       "    <tr>\n",
       "      <th>909923</th>\n",
       "      <td>2</td>\n",
       "      <td>DRIVER</td>\n",
       "      <td>NONE</td>\n",
       "      <td>VAN/MINI-VAN</td>\n",
       "      <td>PERSONAL</td>\n",
       "      <td>E</td>\n",
       "      <td>TURNING LEFT</td>\n",
       "      <td>1.0</td>\n",
       "      <td>SIDE-RIGHT</td>\n",
       "      <td>30</td>\n",
       "      <td>...</td>\n",
       "      <td>0</td>\n",
       "      <td>0</td>\n",
       "      <td>0</td>\n",
       "      <td>0</td>\n",
       "      <td>1</td>\n",
       "      <td>0</td>\n",
       "      <td>0</td>\n",
       "      <td>1</td>\n",
       "      <td>0</td>\n",
       "      <td>0</td>\n",
       "    </tr>\n",
       "    <tr>\n",
       "      <th>971367</th>\n",
       "      <td>2</td>\n",
       "      <td>DRIVER</td>\n",
       "      <td>UNKNOWN</td>\n",
       "      <td>PASSENGER</td>\n",
       "      <td>PERSONAL</td>\n",
       "      <td>S</td>\n",
       "      <td>UNKNOWN/NA</td>\n",
       "      <td>2.0</td>\n",
       "      <td>REAR-LEFT</td>\n",
       "      <td>35</td>\n",
       "      <td>...</td>\n",
       "      <td>0</td>\n",
       "      <td>0</td>\n",
       "      <td>0</td>\n",
       "      <td>0</td>\n",
       "      <td>0</td>\n",
       "      <td>0</td>\n",
       "      <td>0</td>\n",
       "      <td>1</td>\n",
       "      <td>0</td>\n",
       "      <td>0</td>\n",
       "    </tr>\n",
       "    <tr>\n",
       "      <th>...</th>\n",
       "      <td>...</td>\n",
       "      <td>...</td>\n",
       "      <td>...</td>\n",
       "      <td>...</td>\n",
       "      <td>...</td>\n",
       "      <td>...</td>\n",
       "      <td>...</td>\n",
       "      <td>...</td>\n",
       "      <td>...</td>\n",
       "      <td>...</td>\n",
       "      <td>...</td>\n",
       "      <td>...</td>\n",
       "      <td>...</td>\n",
       "      <td>...</td>\n",
       "      <td>...</td>\n",
       "      <td>...</td>\n",
       "      <td>...</td>\n",
       "      <td>...</td>\n",
       "      <td>...</td>\n",
       "      <td>...</td>\n",
       "      <td>...</td>\n",
       "    </tr>\n",
       "    <tr>\n",
       "      <th>650928</th>\n",
       "      <td>2</td>\n",
       "      <td>DRIVER</td>\n",
       "      <td>UNKNOWN</td>\n",
       "      <td>PASSENGER</td>\n",
       "      <td>PERSONAL</td>\n",
       "      <td>S</td>\n",
       "      <td>STRAIGHT AHEAD</td>\n",
       "      <td>1.0</td>\n",
       "      <td>SIDE-RIGHT</td>\n",
       "      <td>30</td>\n",
       "      <td>...</td>\n",
       "      <td>0</td>\n",
       "      <td>0</td>\n",
       "      <td>0</td>\n",
       "      <td>0</td>\n",
       "      <td>0</td>\n",
       "      <td>0</td>\n",
       "      <td>0</td>\n",
       "      <td>1</td>\n",
       "      <td>0</td>\n",
       "      <td>0</td>\n",
       "    </tr>\n",
       "    <tr>\n",
       "      <th>650926</th>\n",
       "      <td>1</td>\n",
       "      <td>DRIVER</td>\n",
       "      <td>UNKNOWN</td>\n",
       "      <td>PASSENGER</td>\n",
       "      <td>PERSONAL</td>\n",
       "      <td>W</td>\n",
       "      <td>STRAIGHT AHEAD</td>\n",
       "      <td>1.0</td>\n",
       "      <td>FRONT</td>\n",
       "      <td>30</td>\n",
       "      <td>...</td>\n",
       "      <td>0</td>\n",
       "      <td>0</td>\n",
       "      <td>0</td>\n",
       "      <td>0</td>\n",
       "      <td>0</td>\n",
       "      <td>0</td>\n",
       "      <td>0</td>\n",
       "      <td>1</td>\n",
       "      <td>0</td>\n",
       "      <td>0</td>\n",
       "    </tr>\n",
       "    <tr>\n",
       "      <th>650927</th>\n",
       "      <td>1</td>\n",
       "      <td>DRIVER</td>\n",
       "      <td>UNKNOWN</td>\n",
       "      <td>PASSENGER</td>\n",
       "      <td>PERSONAL</td>\n",
       "      <td>W</td>\n",
       "      <td>STRAIGHT AHEAD</td>\n",
       "      <td>1.0</td>\n",
       "      <td>FRONT</td>\n",
       "      <td>30</td>\n",
       "      <td>...</td>\n",
       "      <td>0</td>\n",
       "      <td>0</td>\n",
       "      <td>0</td>\n",
       "      <td>0</td>\n",
       "      <td>1</td>\n",
       "      <td>0</td>\n",
       "      <td>0</td>\n",
       "      <td>1</td>\n",
       "      <td>0</td>\n",
       "      <td>0</td>\n",
       "    </tr>\n",
       "    <tr>\n",
       "      <th>515492</th>\n",
       "      <td>1</td>\n",
       "      <td>DRIVER</td>\n",
       "      <td>UNKNOWN</td>\n",
       "      <td>PASSENGER</td>\n",
       "      <td>PERSONAL</td>\n",
       "      <td>W</td>\n",
       "      <td>TURNING LEFT</td>\n",
       "      <td>1.0</td>\n",
       "      <td>SIDE-LEFT</td>\n",
       "      <td>30</td>\n",
       "      <td>...</td>\n",
       "      <td>0</td>\n",
       "      <td>0</td>\n",
       "      <td>0</td>\n",
       "      <td>0</td>\n",
       "      <td>1</td>\n",
       "      <td>0</td>\n",
       "      <td>0</td>\n",
       "      <td>1</td>\n",
       "      <td>0</td>\n",
       "      <td>0</td>\n",
       "    </tr>\n",
       "    <tr>\n",
       "      <th>767858</th>\n",
       "      <td>1</td>\n",
       "      <td>DRIVER</td>\n",
       "      <td>NONE</td>\n",
       "      <td>PASSENGER</td>\n",
       "      <td>PERSONAL</td>\n",
       "      <td>E</td>\n",
       "      <td>ENTER FROM DRIVE/ALLEY</td>\n",
       "      <td>1.0</td>\n",
       "      <td>OTHER</td>\n",
       "      <td>30</td>\n",
       "      <td>...</td>\n",
       "      <td>0</td>\n",
       "      <td>0</td>\n",
       "      <td>0</td>\n",
       "      <td>0</td>\n",
       "      <td>1</td>\n",
       "      <td>0</td>\n",
       "      <td>0</td>\n",
       "      <td>0</td>\n",
       "      <td>0</td>\n",
       "      <td>1</td>\n",
       "    </tr>\n",
       "  </tbody>\n",
       "</table>\n",
       "<p>86619 rows × 660 columns</p>\n",
       "</div>"
      ],
      "text/plain": [
       "        UNIT_NO UNIT_TYPE VEHICLE_DEFECT  VEHICLE_TYPE VEHICLE_USE  \\\n",
       "909920        2    DRIVER           NONE     PASSENGER    PERSONAL   \n",
       "909921        2    DRIVER           NONE     PASSENGER    PERSONAL   \n",
       "909922        2    DRIVER           NONE  VAN/MINI-VAN    PERSONAL   \n",
       "909923        2    DRIVER           NONE  VAN/MINI-VAN    PERSONAL   \n",
       "971367        2    DRIVER        UNKNOWN     PASSENGER    PERSONAL   \n",
       "...         ...       ...            ...           ...         ...   \n",
       "650928        2    DRIVER        UNKNOWN     PASSENGER    PERSONAL   \n",
       "650926        1    DRIVER        UNKNOWN     PASSENGER    PERSONAL   \n",
       "650927        1    DRIVER        UNKNOWN     PASSENGER    PERSONAL   \n",
       "515492        1    DRIVER        UNKNOWN     PASSENGER    PERSONAL   \n",
       "767858        1    DRIVER           NONE     PASSENGER    PERSONAL   \n",
       "\n",
       "       TRAVEL_DIRECTION                MANEUVER  OCCUPANT_CNT  \\\n",
       "909920                W          STRAIGHT AHEAD           1.0   \n",
       "909921                W          STRAIGHT AHEAD           1.0   \n",
       "909922                E            TURNING LEFT           1.0   \n",
       "909923                E            TURNING LEFT           1.0   \n",
       "971367                S              UNKNOWN/NA           2.0   \n",
       "...                 ...                     ...           ...   \n",
       "650928                S          STRAIGHT AHEAD           1.0   \n",
       "650926                W          STRAIGHT AHEAD           1.0   \n",
       "650927                W          STRAIGHT AHEAD           1.0   \n",
       "515492                W            TURNING LEFT           1.0   \n",
       "767858                E  ENTER FROM DRIVE/ALLEY           1.0   \n",
       "\n",
       "       FIRST_CONTACT_POINT  POSTED_SPEED_LIMIT  ... IMPAIRED - ALCOHOL  \\\n",
       "909920          REAR-RIGHT                  30  ...                  0   \n",
       "909921          REAR-RIGHT                  30  ...                  0   \n",
       "909922          SIDE-RIGHT                  30  ...                  0   \n",
       "909923          SIDE-RIGHT                  30  ...                  0   \n",
       "971367           REAR-LEFT                  35  ...                  0   \n",
       "...                    ...                 ...  ...                ...   \n",
       "650928          SIDE-RIGHT                  30  ...                  0   \n",
       "650926               FRONT                  30  ...                  0   \n",
       "650927               FRONT                  30  ...                  0   \n",
       "515492           SIDE-LEFT                  30  ...                  0   \n",
       "767858               OTHER                  30  ...                  0   \n",
       "\n",
       "       IMPAIRED - ALCOHOL AND DRUGS IMPAIRED - DRUGS MEDICATED NORMAL OTHER  \\\n",
       "909920                            0                0         0      1     0   \n",
       "909921                            0                0         0      1     0   \n",
       "909922                            0                0         0      1     0   \n",
       "909923                            0                0         0      1     0   \n",
       "971367                            0                0         0      0     0   \n",
       "...                             ...              ...       ...    ...   ...   \n",
       "650928                            0                0         0      0     0   \n",
       "650926                            0                0         0      0     0   \n",
       "650927                            0                0         0      1     0   \n",
       "515492                            0                0         0      1     0   \n",
       "767858                            0                0         0      1     0   \n",
       "\n",
       "       REMOVED BY EMS TEST NOT OFFERED TEST PERFORMED, RESULTS UNKNOWN  \\\n",
       "909920              0                1                               0   \n",
       "909921              0                1                               0   \n",
       "909922              0                1                               0   \n",
       "909923              0                1                               0   \n",
       "971367              0                1                               0   \n",
       "...               ...              ...                             ...   \n",
       "650928              0                1                               0   \n",
       "650926              0                1                               0   \n",
       "650927              0                1                               0   \n",
       "515492              0                1                               0   \n",
       "767858              0                0                               0   \n",
       "\n",
       "       TEST REFUSED  \n",
       "909920            0  \n",
       "909921            0  \n",
       "909922            0  \n",
       "909923            0  \n",
       "971367            0  \n",
       "...             ...  \n",
       "650928            0  \n",
       "650926            0  \n",
       "650927            0  \n",
       "515492            0  \n",
       "767858            1  \n",
       "\n",
       "[86619 rows x 660 columns]"
      ]
     },
     "execution_count": 180,
     "metadata": {},
     "output_type": "execute_result"
    }
   ],
   "source": [
    "df_a3"
   ]
  },
  {
   "cell_type": "code",
   "execution_count": 181,
   "metadata": {
    "scrolled": true
   },
   "outputs": [
    {
     "data": {
      "text/plain": [
       "[dtype('int64'),\n",
       " dtype('O'),\n",
       " dtype('O'),\n",
       " dtype('O'),\n",
       " dtype('O'),\n",
       " dtype('O'),\n",
       " dtype('O'),\n",
       " dtype('float64'),\n",
       " dtype('O'),\n",
       " dtype('int64'),\n",
       " dtype('O'),\n",
       " dtype('O'),\n",
       " dtype('O'),\n",
       " dtype('O'),\n",
       " dtype('O'),\n",
       " dtype('O'),\n",
       " dtype('O'),\n",
       " dtype('O'),\n",
       " dtype('O'),\n",
       " dtype('O'),\n",
       " dtype('O'),\n",
       " dtype('O'),\n",
       " dtype('O'),\n",
       " dtype('O'),\n",
       " dtype('O'),\n",
       " dtype('int64'),\n",
       " dtype('O'),\n",
       " dtype('float64'),\n",
       " dtype('int32'),\n",
       " dtype('float64'),\n",
       " dtype('float64'),\n",
       " dtype('float64'),\n",
       " dtype('float64'),\n",
       " dtype('float64'),\n",
       " dtype('int64'),\n",
       " dtype('int64'),\n",
       " dtype('int64'),\n",
       " dtype('int64'),\n",
       " dtype('int64'),\n",
       " dtype('O'),\n",
       " dtype('O'),\n",
       " dtype('float64'),\n",
       " dtype('O'),\n",
       " dtype('O'),\n",
       " dtype('O'),\n",
       " dtype('O'),\n",
       " dtype('O'),\n",
       " dtype('O'),\n",
       " dtype('O'),\n",
       " dtype('O'),\n",
       " dtype('uint8'),\n",
       " dtype('uint8'),\n",
       " dtype('uint8'),\n",
       " dtype('uint8'),\n",
       " dtype('uint8'),\n",
       " dtype('uint8'),\n",
       " dtype('uint8'),\n",
       " dtype('uint8'),\n",
       " dtype('uint8'),\n",
       " dtype('uint8'),\n",
       " dtype('uint8'),\n",
       " dtype('uint8'),\n",
       " dtype('uint8'),\n",
       " dtype('uint8'),\n",
       " dtype('uint8'),\n",
       " dtype('uint8'),\n",
       " dtype('uint8'),\n",
       " dtype('uint8'),\n",
       " dtype('uint8'),\n",
       " dtype('uint8'),\n",
       " dtype('uint8'),\n",
       " dtype('uint8'),\n",
       " dtype('uint8'),\n",
       " dtype('uint8'),\n",
       " dtype('uint8'),\n",
       " dtype('uint8'),\n",
       " dtype('uint8'),\n",
       " dtype('uint8'),\n",
       " dtype('uint8'),\n",
       " dtype('uint8'),\n",
       " dtype('uint8'),\n",
       " dtype('uint8'),\n",
       " dtype('uint8'),\n",
       " dtype('uint8'),\n",
       " dtype('uint8'),\n",
       " dtype('uint8'),\n",
       " dtype('uint8'),\n",
       " dtype('uint8'),\n",
       " dtype('uint8'),\n",
       " dtype('uint8'),\n",
       " dtype('uint8'),\n",
       " dtype('uint8'),\n",
       " dtype('uint8'),\n",
       " dtype('uint8'),\n",
       " dtype('uint8'),\n",
       " dtype('uint8'),\n",
       " dtype('uint8'),\n",
       " dtype('uint8'),\n",
       " dtype('uint8'),\n",
       " dtype('uint8'),\n",
       " dtype('uint8'),\n",
       " dtype('uint8'),\n",
       " dtype('uint8'),\n",
       " dtype('uint8'),\n",
       " dtype('uint8'),\n",
       " dtype('uint8'),\n",
       " dtype('uint8'),\n",
       " dtype('uint8'),\n",
       " dtype('uint8'),\n",
       " dtype('uint8'),\n",
       " dtype('uint8'),\n",
       " dtype('uint8'),\n",
       " dtype('uint8'),\n",
       " dtype('uint8'),\n",
       " dtype('uint8'),\n",
       " dtype('uint8'),\n",
       " dtype('uint8'),\n",
       " dtype('uint8'),\n",
       " dtype('uint8'),\n",
       " dtype('uint8'),\n",
       " dtype('uint8'),\n",
       " dtype('uint8'),\n",
       " dtype('uint8'),\n",
       " dtype('uint8'),\n",
       " dtype('uint8'),\n",
       " dtype('uint8'),\n",
       " dtype('uint8'),\n",
       " dtype('uint8'),\n",
       " dtype('uint8'),\n",
       " dtype('uint8'),\n",
       " dtype('uint8'),\n",
       " dtype('uint8'),\n",
       " dtype('uint8'),\n",
       " dtype('uint8'),\n",
       " dtype('uint8'),\n",
       " dtype('uint8'),\n",
       " dtype('uint8'),\n",
       " dtype('uint8'),\n",
       " dtype('uint8'),\n",
       " dtype('uint8'),\n",
       " dtype('uint8'),\n",
       " dtype('uint8'),\n",
       " dtype('uint8'),\n",
       " dtype('uint8'),\n",
       " dtype('uint8'),\n",
       " dtype('uint8'),\n",
       " dtype('uint8'),\n",
       " dtype('uint8'),\n",
       " dtype('uint8'),\n",
       " dtype('uint8'),\n",
       " dtype('uint8'),\n",
       " dtype('uint8'),\n",
       " dtype('uint8'),\n",
       " dtype('uint8'),\n",
       " dtype('uint8'),\n",
       " dtype('uint8'),\n",
       " dtype('uint8'),\n",
       " dtype('uint8'),\n",
       " dtype('uint8'),\n",
       " dtype('uint8'),\n",
       " dtype('uint8'),\n",
       " dtype('uint8'),\n",
       " dtype('uint8'),\n",
       " dtype('uint8'),\n",
       " dtype('uint8'),\n",
       " dtype('uint8'),\n",
       " dtype('uint8'),\n",
       " dtype('uint8'),\n",
       " dtype('uint8'),\n",
       " dtype('uint8'),\n",
       " dtype('uint8'),\n",
       " dtype('uint8'),\n",
       " dtype('uint8'),\n",
       " dtype('uint8'),\n",
       " dtype('uint8'),\n",
       " dtype('uint8'),\n",
       " dtype('uint8'),\n",
       " dtype('uint8'),\n",
       " dtype('uint8'),\n",
       " dtype('uint8'),\n",
       " dtype('uint8'),\n",
       " dtype('uint8'),\n",
       " dtype('uint8'),\n",
       " dtype('uint8'),\n",
       " dtype('uint8'),\n",
       " dtype('uint8'),\n",
       " dtype('uint8'),\n",
       " dtype('uint8'),\n",
       " dtype('uint8'),\n",
       " dtype('uint8'),\n",
       " dtype('uint8'),\n",
       " dtype('uint8'),\n",
       " dtype('uint8'),\n",
       " dtype('uint8'),\n",
       " dtype('uint8'),\n",
       " dtype('uint8'),\n",
       " dtype('uint8'),\n",
       " dtype('uint8'),\n",
       " dtype('uint8'),\n",
       " dtype('uint8'),\n",
       " dtype('uint8'),\n",
       " dtype('uint8'),\n",
       " dtype('uint8'),\n",
       " dtype('uint8'),\n",
       " dtype('uint8'),\n",
       " dtype('uint8'),\n",
       " dtype('uint8'),\n",
       " dtype('uint8'),\n",
       " dtype('uint8'),\n",
       " dtype('uint8'),\n",
       " dtype('uint8'),\n",
       " dtype('uint8'),\n",
       " dtype('uint8'),\n",
       " dtype('uint8'),\n",
       " dtype('uint8'),\n",
       " dtype('uint8'),\n",
       " dtype('uint8'),\n",
       " dtype('uint8'),\n",
       " dtype('uint8'),\n",
       " dtype('uint8'),\n",
       " dtype('uint8'),\n",
       " dtype('uint8'),\n",
       " dtype('uint8'),\n",
       " dtype('uint8'),\n",
       " dtype('uint8'),\n",
       " dtype('uint8'),\n",
       " dtype('uint8'),\n",
       " dtype('uint8'),\n",
       " dtype('uint8'),\n",
       " dtype('uint8'),\n",
       " dtype('uint8'),\n",
       " dtype('uint8'),\n",
       " dtype('uint8'),\n",
       " dtype('uint8'),\n",
       " dtype('uint8'),\n",
       " dtype('uint8'),\n",
       " dtype('uint8'),\n",
       " dtype('uint8'),\n",
       " dtype('uint8'),\n",
       " dtype('uint8'),\n",
       " dtype('uint8'),\n",
       " dtype('uint8'),\n",
       " dtype('uint8'),\n",
       " dtype('uint8'),\n",
       " dtype('uint8'),\n",
       " dtype('uint8'),\n",
       " dtype('uint8'),\n",
       " dtype('uint8'),\n",
       " dtype('uint8'),\n",
       " dtype('uint8'),\n",
       " dtype('uint8'),\n",
       " dtype('uint8'),\n",
       " dtype('uint8'),\n",
       " dtype('uint8'),\n",
       " dtype('uint8'),\n",
       " dtype('uint8'),\n",
       " dtype('uint8'),\n",
       " dtype('uint8'),\n",
       " dtype('uint8'),\n",
       " dtype('uint8'),\n",
       " dtype('uint8'),\n",
       " dtype('uint8'),\n",
       " dtype('uint8'),\n",
       " dtype('uint8'),\n",
       " dtype('uint8'),\n",
       " dtype('uint8'),\n",
       " dtype('uint8'),\n",
       " dtype('uint8'),\n",
       " dtype('uint8'),\n",
       " dtype('uint8'),\n",
       " dtype('uint8'),\n",
       " dtype('uint8'),\n",
       " dtype('uint8'),\n",
       " dtype('uint8'),\n",
       " dtype('uint8'),\n",
       " dtype('uint8'),\n",
       " dtype('uint8'),\n",
       " dtype('uint8'),\n",
       " dtype('uint8'),\n",
       " dtype('uint8'),\n",
       " dtype('uint8'),\n",
       " dtype('uint8'),\n",
       " dtype('uint8'),\n",
       " dtype('uint8'),\n",
       " dtype('uint8'),\n",
       " dtype('uint8'),\n",
       " dtype('uint8'),\n",
       " dtype('uint8'),\n",
       " dtype('uint8'),\n",
       " dtype('uint8'),\n",
       " dtype('uint8'),\n",
       " dtype('uint8'),\n",
       " dtype('uint8'),\n",
       " dtype('uint8'),\n",
       " dtype('uint8'),\n",
       " dtype('uint8'),\n",
       " dtype('uint8'),\n",
       " dtype('uint8'),\n",
       " dtype('uint8'),\n",
       " dtype('uint8'),\n",
       " dtype('uint8'),\n",
       " dtype('uint8'),\n",
       " dtype('uint8'),\n",
       " dtype('uint8'),\n",
       " dtype('uint8'),\n",
       " dtype('uint8'),\n",
       " dtype('uint8'),\n",
       " dtype('uint8'),\n",
       " dtype('uint8'),\n",
       " dtype('uint8'),\n",
       " dtype('uint8'),\n",
       " dtype('uint8'),\n",
       " dtype('uint8'),\n",
       " dtype('uint8'),\n",
       " dtype('uint8'),\n",
       " dtype('uint8'),\n",
       " dtype('uint8'),\n",
       " dtype('uint8'),\n",
       " dtype('uint8'),\n",
       " dtype('uint8'),\n",
       " dtype('uint8'),\n",
       " dtype('uint8'),\n",
       " dtype('uint8'),\n",
       " dtype('uint8'),\n",
       " dtype('uint8'),\n",
       " dtype('uint8'),\n",
       " dtype('uint8'),\n",
       " dtype('uint8'),\n",
       " dtype('uint8'),\n",
       " dtype('uint8'),\n",
       " dtype('uint8'),\n",
       " dtype('uint8'),\n",
       " dtype('uint8'),\n",
       " dtype('uint8'),\n",
       " dtype('uint8'),\n",
       " dtype('uint8'),\n",
       " dtype('uint8'),\n",
       " dtype('uint8'),\n",
       " dtype('uint8'),\n",
       " dtype('uint8'),\n",
       " dtype('uint8'),\n",
       " dtype('uint8'),\n",
       " dtype('uint8'),\n",
       " dtype('uint8'),\n",
       " dtype('uint8'),\n",
       " dtype('uint8'),\n",
       " dtype('uint8'),\n",
       " dtype('uint8'),\n",
       " dtype('uint8'),\n",
       " dtype('uint8'),\n",
       " dtype('uint8'),\n",
       " dtype('uint8'),\n",
       " dtype('uint8'),\n",
       " dtype('uint8'),\n",
       " dtype('uint8'),\n",
       " dtype('uint8'),\n",
       " dtype('uint8'),\n",
       " dtype('uint8'),\n",
       " dtype('uint8'),\n",
       " dtype('uint8'),\n",
       " dtype('uint8'),\n",
       " dtype('uint8'),\n",
       " dtype('uint8'),\n",
       " dtype('uint8'),\n",
       " dtype('uint8'),\n",
       " dtype('uint8'),\n",
       " dtype('uint8'),\n",
       " dtype('uint8'),\n",
       " dtype('uint8'),\n",
       " dtype('uint8'),\n",
       " dtype('uint8'),\n",
       " dtype('uint8'),\n",
       " dtype('uint8'),\n",
       " dtype('uint8'),\n",
       " dtype('uint8'),\n",
       " dtype('uint8'),\n",
       " dtype('uint8'),\n",
       " dtype('uint8'),\n",
       " dtype('uint8'),\n",
       " dtype('uint8'),\n",
       " dtype('uint8'),\n",
       " dtype('uint8'),\n",
       " dtype('uint8'),\n",
       " dtype('uint8'),\n",
       " dtype('uint8'),\n",
       " dtype('uint8'),\n",
       " dtype('uint8'),\n",
       " dtype('uint8'),\n",
       " dtype('uint8'),\n",
       " dtype('uint8'),\n",
       " dtype('uint8'),\n",
       " dtype('uint8'),\n",
       " dtype('uint8'),\n",
       " dtype('uint8'),\n",
       " dtype('uint8'),\n",
       " dtype('uint8'),\n",
       " dtype('uint8'),\n",
       " dtype('uint8'),\n",
       " dtype('uint8'),\n",
       " dtype('uint8'),\n",
       " dtype('uint8'),\n",
       " dtype('uint8'),\n",
       " dtype('uint8'),\n",
       " dtype('uint8'),\n",
       " dtype('uint8'),\n",
       " dtype('uint8'),\n",
       " dtype('uint8'),\n",
       " dtype('uint8'),\n",
       " dtype('uint8'),\n",
       " dtype('uint8'),\n",
       " dtype('uint8'),\n",
       " dtype('uint8'),\n",
       " dtype('uint8'),\n",
       " dtype('uint8'),\n",
       " dtype('uint8'),\n",
       " dtype('uint8'),\n",
       " dtype('uint8'),\n",
       " dtype('uint8'),\n",
       " dtype('uint8'),\n",
       " dtype('uint8'),\n",
       " dtype('uint8'),\n",
       " dtype('uint8'),\n",
       " dtype('uint8'),\n",
       " dtype('uint8'),\n",
       " dtype('uint8'),\n",
       " dtype('uint8'),\n",
       " dtype('uint8'),\n",
       " dtype('uint8'),\n",
       " dtype('uint8'),\n",
       " dtype('uint8'),\n",
       " dtype('uint8'),\n",
       " dtype('uint8'),\n",
       " dtype('uint8'),\n",
       " dtype('uint8'),\n",
       " dtype('uint8'),\n",
       " dtype('uint8'),\n",
       " dtype('uint8'),\n",
       " dtype('uint8'),\n",
       " dtype('uint8'),\n",
       " dtype('uint8'),\n",
       " dtype('uint8'),\n",
       " dtype('uint8'),\n",
       " dtype('uint8'),\n",
       " dtype('uint8'),\n",
       " dtype('uint8'),\n",
       " dtype('uint8'),\n",
       " dtype('uint8'),\n",
       " dtype('uint8'),\n",
       " dtype('uint8'),\n",
       " dtype('uint8'),\n",
       " dtype('uint8'),\n",
       " dtype('uint8'),\n",
       " dtype('uint8'),\n",
       " dtype('uint8'),\n",
       " dtype('uint8'),\n",
       " dtype('uint8'),\n",
       " dtype('uint8'),\n",
       " dtype('uint8'),\n",
       " dtype('uint8'),\n",
       " dtype('uint8'),\n",
       " dtype('uint8'),\n",
       " dtype('uint8'),\n",
       " dtype('uint8'),\n",
       " dtype('uint8'),\n",
       " dtype('uint8'),\n",
       " dtype('uint8'),\n",
       " dtype('uint8'),\n",
       " dtype('uint8'),\n",
       " dtype('uint8'),\n",
       " dtype('uint8'),\n",
       " dtype('uint8'),\n",
       " dtype('uint8'),\n",
       " dtype('uint8'),\n",
       " dtype('uint8'),\n",
       " dtype('uint8'),\n",
       " dtype('uint8'),\n",
       " dtype('uint8'),\n",
       " dtype('uint8'),\n",
       " dtype('uint8'),\n",
       " dtype('uint8'),\n",
       " dtype('uint8'),\n",
       " dtype('uint8'),\n",
       " dtype('uint8'),\n",
       " dtype('uint8'),\n",
       " dtype('uint8'),\n",
       " dtype('uint8'),\n",
       " dtype('uint8'),\n",
       " dtype('uint8'),\n",
       " dtype('uint8'),\n",
       " dtype('uint8'),\n",
       " dtype('uint8'),\n",
       " dtype('uint8'),\n",
       " dtype('uint8'),\n",
       " dtype('uint8'),\n",
       " dtype('uint8'),\n",
       " dtype('uint8'),\n",
       " dtype('uint8'),\n",
       " dtype('uint8'),\n",
       " dtype('uint8'),\n",
       " dtype('uint8'),\n",
       " dtype('uint8'),\n",
       " dtype('uint8'),\n",
       " dtype('uint8'),\n",
       " dtype('uint8'),\n",
       " dtype('uint8'),\n",
       " dtype('uint8'),\n",
       " dtype('uint8'),\n",
       " dtype('uint8'),\n",
       " dtype('uint8'),\n",
       " dtype('uint8'),\n",
       " dtype('uint8'),\n",
       " dtype('uint8'),\n",
       " dtype('uint8'),\n",
       " dtype('uint8'),\n",
       " dtype('uint8'),\n",
       " dtype('uint8'),\n",
       " dtype('uint8'),\n",
       " dtype('uint8'),\n",
       " dtype('uint8'),\n",
       " dtype('uint8'),\n",
       " dtype('uint8'),\n",
       " dtype('uint8'),\n",
       " dtype('uint8'),\n",
       " dtype('uint8'),\n",
       " dtype('uint8'),\n",
       " dtype('uint8'),\n",
       " dtype('uint8'),\n",
       " dtype('uint8'),\n",
       " dtype('uint8'),\n",
       " dtype('uint8'),\n",
       " dtype('uint8'),\n",
       " dtype('uint8'),\n",
       " dtype('uint8'),\n",
       " dtype('uint8'),\n",
       " dtype('uint8'),\n",
       " dtype('uint8'),\n",
       " dtype('uint8'),\n",
       " dtype('uint8'),\n",
       " dtype('uint8'),\n",
       " dtype('uint8'),\n",
       " dtype('uint8'),\n",
       " dtype('uint8'),\n",
       " dtype('uint8'),\n",
       " dtype('uint8'),\n",
       " dtype('uint8'),\n",
       " dtype('uint8'),\n",
       " dtype('uint8'),\n",
       " dtype('uint8'),\n",
       " dtype('uint8'),\n",
       " dtype('uint8'),\n",
       " dtype('uint8'),\n",
       " dtype('uint8'),\n",
       " dtype('uint8'),\n",
       " dtype('uint8'),\n",
       " dtype('uint8'),\n",
       " dtype('uint8'),\n",
       " dtype('uint8'),\n",
       " dtype('uint8'),\n",
       " dtype('uint8'),\n",
       " dtype('uint8'),\n",
       " dtype('uint8'),\n",
       " dtype('uint8'),\n",
       " dtype('uint8'),\n",
       " dtype('uint8'),\n",
       " dtype('uint8'),\n",
       " dtype('uint8'),\n",
       " dtype('uint8'),\n",
       " dtype('uint8'),\n",
       " dtype('uint8'),\n",
       " dtype('uint8'),\n",
       " dtype('uint8'),\n",
       " dtype('uint8'),\n",
       " dtype('uint8'),\n",
       " dtype('uint8'),\n",
       " dtype('uint8'),\n",
       " dtype('uint8'),\n",
       " dtype('uint8'),\n",
       " dtype('uint8'),\n",
       " dtype('uint8'),\n",
       " dtype('uint8'),\n",
       " dtype('uint8'),\n",
       " dtype('uint8'),\n",
       " dtype('uint8'),\n",
       " dtype('uint8'),\n",
       " dtype('uint8'),\n",
       " dtype('uint8'),\n",
       " dtype('uint8'),\n",
       " dtype('uint8'),\n",
       " dtype('uint8'),\n",
       " dtype('uint8'),\n",
       " dtype('uint8'),\n",
       " dtype('uint8'),\n",
       " dtype('uint8'),\n",
       " dtype('uint8'),\n",
       " dtype('uint8'),\n",
       " dtype('uint8'),\n",
       " dtype('uint8'),\n",
       " dtype('uint8'),\n",
       " dtype('uint8'),\n",
       " dtype('uint8'),\n",
       " dtype('uint8'),\n",
       " dtype('uint8'),\n",
       " dtype('uint8'),\n",
       " dtype('uint8'),\n",
       " dtype('uint8'),\n",
       " dtype('uint8'),\n",
       " dtype('uint8'),\n",
       " dtype('uint8'),\n",
       " dtype('uint8'),\n",
       " dtype('uint8'),\n",
       " dtype('uint8'),\n",
       " dtype('uint8'),\n",
       " dtype('uint8'),\n",
       " dtype('uint8'),\n",
       " dtype('uint8'),\n",
       " dtype('uint8'),\n",
       " dtype('uint8'),\n",
       " dtype('uint8'),\n",
       " dtype('uint8'),\n",
       " dtype('uint8'),\n",
       " dtype('uint8'),\n",
       " dtype('uint8'),\n",
       " dtype('uint8'),\n",
       " dtype('uint8'),\n",
       " dtype('uint8'),\n",
       " dtype('uint8'),\n",
       " dtype('uint8'),\n",
       " dtype('uint8'),\n",
       " dtype('uint8'),\n",
       " dtype('uint8'),\n",
       " dtype('uint8'),\n",
       " dtype('uint8'),\n",
       " dtype('uint8'),\n",
       " dtype('uint8'),\n",
       " dtype('uint8'),\n",
       " dtype('uint8'),\n",
       " dtype('uint8'),\n",
       " dtype('uint8'),\n",
       " dtype('uint8'),\n",
       " dtype('uint8'),\n",
       " dtype('uint8'),\n",
       " dtype('uint8'),\n",
       " dtype('uint8'),\n",
       " dtype('uint8'),\n",
       " dtype('uint8'),\n",
       " dtype('uint8'),\n",
       " dtype('uint8'),\n",
       " dtype('uint8'),\n",
       " dtype('uint8'),\n",
       " dtype('uint8'),\n",
       " dtype('uint8'),\n",
       " dtype('uint8'),\n",
       " dtype('uint8'),\n",
       " dtype('uint8'),\n",
       " dtype('uint8'),\n",
       " dtype('uint8'),\n",
       " dtype('uint8'),\n",
       " dtype('uint8'),\n",
       " dtype('uint8'),\n",
       " dtype('uint8')]"
      ]
     },
     "execution_count": 181,
     "metadata": {},
     "output_type": "execute_result"
    }
   ],
   "source": [
    "list(df_a3.dtypes)"
   ]
  },
  {
   "cell_type": "code",
   "execution_count": 182,
   "metadata": {
    "scrolled": true
   },
   "outputs": [
    {
     "data": {
      "text/plain": [
       "['UNIT_NO',\n",
       " 'UNIT_TYPE',\n",
       " 'VEHICLE_DEFECT',\n",
       " 'VEHICLE_TYPE',\n",
       " 'VEHICLE_USE',\n",
       " 'TRAVEL_DIRECTION',\n",
       " 'MANEUVER',\n",
       " 'OCCUPANT_CNT',\n",
       " 'FIRST_CONTACT_POINT',\n",
       " 'POSTED_SPEED_LIMIT',\n",
       " 'TRAFFIC_CONTROL_DEVICE',\n",
       " 'DEVICE_CONDITION',\n",
       " 'WEATHER_CONDITION',\n",
       " 'LIGHTING_CONDITION',\n",
       " 'FIRST_CRASH_TYPE',\n",
       " 'TRAFFICWAY_TYPE',\n",
       " 'ALIGNMENT',\n",
       " 'ROADWAY_SURFACE_COND',\n",
       " 'ROAD_DEFECT',\n",
       " 'REPORT_TYPE',\n",
       " 'CRASH_TYPE',\n",
       " 'DAMAGE',\n",
       " 'PRIM_CONTRIBUTORY_CAUSE',\n",
       " 'SEC_CONTRIBUTORY_CAUSE',\n",
       " 'STREET_DIRECTION',\n",
       " 'NUM_UNITS',\n",
       " 'MOST_SEVERE_INJURY',\n",
       " 'INJURIES_TOTAL',\n",
       " 'INJURIES_FATAL',\n",
       " 'INJURIES_INCAPACITATING',\n",
       " 'INJURIES_NON_INCAPACITATING',\n",
       " 'INJURIES_REPORTED_NOT_EVIDENT',\n",
       " 'INJURIES_NO_INDICATION',\n",
       " 'INJURIES_UNKNOWN',\n",
       " 'CRASH_HOUR',\n",
       " 'CRASH_DAY_OF_WEEK',\n",
       " 'CRASH_MONTH',\n",
       " 'IS_A_HOLIDAY',\n",
       " 'HOLIDAY_NAME',\n",
       " 'PERSON_TYPE',\n",
       " 'SEX',\n",
       " 'AGE',\n",
       " 'SAFETY_EQUIPMENT',\n",
       " 'AIRBAG_DEPLOYED',\n",
       " 'EJECTION',\n",
       " 'INJURY_CLASSIFICATION',\n",
       " 'DRIVER_ACTION',\n",
       " 'DRIVER_VISION',\n",
       " 'PHYSICAL_CONDITION',\n",
       " 'BAC_RESULT',\n",
       " 1,\n",
       " 2,\n",
       " 3,\n",
       " 4,\n",
       " 5,\n",
       " 6,\n",
       " 7,\n",
       " 8,\n",
       " 9,\n",
       " 10,\n",
       " 11,\n",
       " 'DISABLED VEHICLE',\n",
       " 'DRIVER',\n",
       " 'DRIVERLESS',\n",
       " 'NON-CONTACT VEHICLE',\n",
       " 'BRAKES',\n",
       " 'CARGO',\n",
       " 'ENGINE/MOTOR',\n",
       " 'FUEL SYSTEM',\n",
       " 'LIGHTS',\n",
       " 'NONE',\n",
       " 'OTHER',\n",
       " 'SIGNALS',\n",
       " 'STEERING',\n",
       " 'SUSPENSION',\n",
       " 'TIRES',\n",
       " 'UNKNOWN',\n",
       " 'WHEELS',\n",
       " '3-WHEELED MOTORCYCLE (2 REAR WHEELS)',\n",
       " 'ALL-TERRAIN VEHICLE (ATV)',\n",
       " 'BUS OVER 15 PASS.',\n",
       " 'BUS UP TO 15 PASS.',\n",
       " 'FARM EQUIPMENT',\n",
       " 'MOPED OR MOTORIZED BICYCLE',\n",
       " 'MOTOR DRIVEN CYCLE',\n",
       " 'MOTORCYCLE (OVER 150CC)',\n",
       " 'OTHER',\n",
       " 'OTHER VEHICLE WITH TRAILER',\n",
       " 'PASSENGER',\n",
       " 'PICKUP',\n",
       " 'RECREATIONAL OFF-HIGHWAY VEHICLE (ROV)',\n",
       " 'SINGLE UNIT TRUCK WITH TRAILER',\n",
       " 'SPORT UTILITY VEHICLE (SUV)',\n",
       " 'TRACTOR W/ SEMI-TRAILER',\n",
       " 'TRACTOR W/O SEMI-TRAILER',\n",
       " 'TRUCK - SINGLE UNIT',\n",
       " 'UNKNOWN/NA',\n",
       " 'AGRICULTURE',\n",
       " 'AMBULANCE',\n",
       " 'CAMPER/RV - SINGLE UNIT',\n",
       " 'COMMERCIAL - MULTI-UNIT',\n",
       " 'COMMERCIAL - SINGLE UNIT',\n",
       " 'CONSTRUCTION/MAINTENANCE',\n",
       " 'CTA',\n",
       " 'DRIVER EDUCATION',\n",
       " 'FIRE',\n",
       " 'LAWN CARE/LANDSCAPING',\n",
       " 'MASS TRANSIT',\n",
       " 'MILITARY',\n",
       " 'NOT IN USE',\n",
       " 'OTHER',\n",
       " 'OTHER TRANSIT',\n",
       " 'PERSONAL',\n",
       " 'POLICE',\n",
       " 'RIDESHARE SERVICE',\n",
       " 'SCHOOL BUS',\n",
       " 'STATE OWNED',\n",
       " 'TAXI/FOR HIRE',\n",
       " 'TOW TRUCK',\n",
       " 'E',\n",
       " 'N',\n",
       " 'NE',\n",
       " 'NW',\n",
       " 'S',\n",
       " 'SE',\n",
       " 'SW',\n",
       " 'UNKNOWN',\n",
       " 'AVOIDING VEHICLES/OBJECTS',\n",
       " 'BACKING',\n",
       " 'CHANGING LANES',\n",
       " 'DISABLED',\n",
       " 'DIVERGING',\n",
       " 'DRIVERLESS',\n",
       " 'DRIVING WRONG WAY',\n",
       " 'ENTER FROM DRIVE/ALLEY',\n",
       " 'ENTERING TRAFFIC LANE FROM PARKING',\n",
       " 'LEAVING TRAFFIC LANE TO PARK',\n",
       " 'MERGING',\n",
       " 'NEGOTIATING A CURVE',\n",
       " 'OTHER',\n",
       " 'PARKED',\n",
       " 'PARKED IN TRAFFIC LANE',\n",
       " 'PASSING/OVERTAKING',\n",
       " 'SKIDDING/CONTROL LOSS',\n",
       " 'SLOW/STOP - LEFT TURN',\n",
       " 'SLOW/STOP - LOAD/UNLOAD',\n",
       " 'SLOW/STOP - RIGHT TURN',\n",
       " 'SLOW/STOP IN TRAFFIC',\n",
       " 'STARTING IN TRAFFIC',\n",
       " 'STRAIGHT AHEAD',\n",
       " 'TURNING LEFT',\n",
       " 'TURNING ON RED',\n",
       " 'TURNING RIGHT',\n",
       " 'U-TURN',\n",
       " 0.0,\n",
       " 1.0,\n",
       " 2.0,\n",
       " 3.0,\n",
       " 4.0,\n",
       " 5.0,\n",
       " 6.0,\n",
       " 7.0,\n",
       " 8.0,\n",
       " 9.0,\n",
       " 10.0,\n",
       " 11.0,\n",
       " 12.0,\n",
       " 13.0,\n",
       " 14.0,\n",
       " 15.0,\n",
       " 28.0,\n",
       " 36.0,\n",
       " 41.0,\n",
       " 'FRONT',\n",
       " 'FRONT-LEFT',\n",
       " 'FRONT-RIGHT',\n",
       " 'NONE',\n",
       " 'OTHER',\n",
       " 'REAR',\n",
       " 'REAR-LEFT',\n",
       " 'REAR-RIGHT',\n",
       " 'ROOF',\n",
       " 'SIDE-LEFT',\n",
       " 'SIDE-RIGHT',\n",
       " 'TOTAL (ALL AREAS)',\n",
       " 'UNDER CARRIAGE',\n",
       " 0,\n",
       " 1,\n",
       " 3,\n",
       " 5,\n",
       " 6,\n",
       " 9,\n",
       " 10,\n",
       " 15,\n",
       " 20,\n",
       " 25,\n",
       " 29,\n",
       " 30,\n",
       " 31,\n",
       " 33,\n",
       " 35,\n",
       " 39,\n",
       " 40,\n",
       " 45,\n",
       " 50,\n",
       " 55,\n",
       " 65,\n",
       " 'BICYCLE CROSSING SIGN',\n",
       " 'DELINEATORS',\n",
       " 'FLASHING CONTROL SIGNAL',\n",
       " 'LANE USE MARKING',\n",
       " 'NO CONTROLS',\n",
       " 'NO PASSING',\n",
       " 'OTHER',\n",
       " 'OTHER RAILROAD CROSSING',\n",
       " 'OTHER REG. SIGN',\n",
       " 'OTHER WARNING SIGN',\n",
       " 'PEDESTRIAN CROSSING SIGN',\n",
       " 'POLICE/FLAGMAN',\n",
       " 'RAILROAD CROSSING GATE',\n",
       " 'RR CROSSING SIGN',\n",
       " 'SCHOOL ZONE',\n",
       " 'STOP SIGN/FLASHER',\n",
       " 'TRAFFIC SIGNAL',\n",
       " 'UNKNOWN',\n",
       " 'FUNCTIONING IMPROPERLY',\n",
       " 'FUNCTIONING PROPERLY',\n",
       " 'MISSING',\n",
       " 'NO CONTROLS',\n",
       " 'NOT FUNCTIONING',\n",
       " 'OTHER',\n",
       " 'UNKNOWN',\n",
       " 'CLEAR',\n",
       " 'CLOUDY/OVERCAST',\n",
       " 'OTHER',\n",
       " 'RAIN',\n",
       " 'SNOW',\n",
       " 'DARKNESS',\n",
       " 'DARKNESS, LIGHTED ROAD',\n",
       " 'DAWN',\n",
       " 'DAYLIGHT',\n",
       " 'DUSK',\n",
       " 'ANGLE',\n",
       " 'ANIMAL',\n",
       " 'FIXED OBJECT',\n",
       " 'HEAD ON',\n",
       " 'OTHER NONCOLLISION',\n",
       " 'OTHER OBJECT',\n",
       " 'OVERTURNED',\n",
       " 'PARKED MOTOR VEHICLE',\n",
       " 'PEDALCYCLIST',\n",
       " 'PEDESTRIAN',\n",
       " 'REAR END',\n",
       " 'REAR TO FRONT',\n",
       " 'REAR TO REAR',\n",
       " 'REAR TO SIDE',\n",
       " 'SIDESWIPE OPPOSITE DIRECTION',\n",
       " 'SIDESWIPE SAME DIRECTION',\n",
       " 'TRAIN',\n",
       " 'ALLEY',\n",
       " 'CENTER TURN LANE',\n",
       " 'DIVIDED - W/MEDIAN (NOT RAISED)',\n",
       " 'DIVIDED - W/MEDIAN BARRIER',\n",
       " 'DRIVEWAY',\n",
       " 'FIVE POINT, OR MORE',\n",
       " 'FOUR WAY',\n",
       " 'L-INTERSECTION',\n",
       " 'NOT DIVIDED',\n",
       " 'NOT REPORTED',\n",
       " 'ONE-WAY',\n",
       " 'OTHER',\n",
       " 'PARKING LOT',\n",
       " 'RAMP',\n",
       " 'ROUNDABOUT',\n",
       " 'T-INTERSECTION',\n",
       " 'TRAFFIC ROUTE',\n",
       " 'UNKNOWN',\n",
       " 'UNKNOWN INTERSECTION TYPE',\n",
       " 'CURVE ON GRADE',\n",
       " 'CURVE ON HILLCREST',\n",
       " 'CURVE, LEVEL',\n",
       " 'STRAIGHT AND LEVEL',\n",
       " 'STRAIGHT ON GRADE',\n",
       " 'DRY',\n",
       " 'ICE',\n",
       " 'OTHER',\n",
       " 'SAND, MUD, DIRT',\n",
       " 'SNOW OR SLUSH',\n",
       " 'UNKNOWN',\n",
       " 'DEBRIS ON ROADWAY',\n",
       " 'NO DEFECTS',\n",
       " 'OTHER',\n",
       " 'RUT, HOLES',\n",
       " 'SHOULDER DEFECT',\n",
       " 'UNKNOWN',\n",
       " 'AMENDED',\n",
       " 'NOT ON SCENE (DESK REPORT)',\n",
       " 'INJURY AND / OR TOW DUE TO CRASH',\n",
       " '$500 OR LESS',\n",
       " '$501 - $1,500',\n",
       " 'ANIMAL',\n",
       " 'BICYCLE ADVANCING LEGALLY ON RED LIGHT',\n",
       " 'CELL PHONE USE OTHER THAN TEXTING',\n",
       " 'DISREGARDING OTHER TRAFFIC SIGNS',\n",
       " 'DISREGARDING ROAD MARKINGS',\n",
       " 'DISREGARDING STOP SIGN',\n",
       " 'DISREGARDING TRAFFIC SIGNALS',\n",
       " 'DISREGARDING YIELD SIGN',\n",
       " 'DISTRACTION - FROM INSIDE VEHICLE',\n",
       " 'DISTRACTION - FROM OUTSIDE VEHICLE',\n",
       " 'DISTRACTION - OTHER ELECTRONIC DEVICE (NAVIGATION DEVICE, DVD PLAYER, ETC.)',\n",
       " 'DRIVING ON WRONG SIDE/WRONG WAY',\n",
       " 'DRIVING SKILLS/KNOWLEDGE/EXPERIENCE',\n",
       " 'EQUIPMENT - VEHICLE CONDITION',\n",
       " 'EVASIVE ACTION DUE TO ANIMAL, OBJECT, NONMOTORIST',\n",
       " 'EXCEEDING AUTHORIZED SPEED LIMIT',\n",
       " 'EXCEEDING SAFE SPEED FOR CONDITIONS',\n",
       " 'FAILING TO REDUCE SPEED TO AVOID CRASH',\n",
       " 'FAILING TO YIELD RIGHT-OF-WAY',\n",
       " 'FOLLOWING TOO CLOSELY',\n",
       " 'HAD BEEN DRINKING (USE WHEN ARREST IS NOT MADE)',\n",
       " 'IMPROPER BACKING',\n",
       " 'IMPROPER LANE USAGE',\n",
       " 'IMPROPER OVERTAKING/PASSING',\n",
       " 'IMPROPER TURNING/NO SIGNAL',\n",
       " 'MOTORCYCLE ADVANCING LEGALLY ON RED LIGHT',\n",
       " 'NOT APPLICABLE',\n",
       " 'OBSTRUCTED CROSSWALKS',\n",
       " 'OPERATING VEHICLE IN ERRATIC, RECKLESS, CARELESS, NEGLIGENT OR AGGRESSIVE MANNER',\n",
       " 'PASSING STOPPED SCHOOL BUS',\n",
       " 'PHYSICAL CONDITION OF DRIVER',\n",
       " 'RELATED TO BUS STOP',\n",
       " 'ROAD CONSTRUCTION/MAINTENANCE',\n",
       " 'ROAD ENGINEERING/SURFACE/MARKING DEFECTS',\n",
       " 'TEXTING',\n",
       " 'TURNING RIGHT ON RED',\n",
       " 'UNABLE TO DETERMINE',\n",
       " 'UNDER THE INFLUENCE OF ALCOHOL/DRUGS (USE WHEN ARREST IS EFFECTED)',\n",
       " 'VISION OBSCURED (SIGNS, TREE LIMBS, BUILDINGS, ETC.)',\n",
       " 'ANIMAL',\n",
       " 'BICYCLE ADVANCING LEGALLY ON RED LIGHT',\n",
       " 'CELL PHONE USE OTHER THAN TEXTING',\n",
       " 'DISREGARDING OTHER TRAFFIC SIGNS',\n",
       " 'DISREGARDING ROAD MARKINGS',\n",
       " 'DISREGARDING STOP SIGN',\n",
       " 'DISREGARDING TRAFFIC SIGNALS',\n",
       " 'DISREGARDING YIELD SIGN',\n",
       " 'DISTRACTION - FROM INSIDE VEHICLE',\n",
       " 'DISTRACTION - FROM OUTSIDE VEHICLE',\n",
       " 'DISTRACTION - OTHER ELECTRONIC DEVICE (NAVIGATION DEVICE, DVD PLAYER, ETC.)',\n",
       " 'DRIVING ON WRONG SIDE/WRONG WAY',\n",
       " 'DRIVING SKILLS/KNOWLEDGE/EXPERIENCE',\n",
       " 'EQUIPMENT - VEHICLE CONDITION',\n",
       " 'EVASIVE ACTION DUE TO ANIMAL, OBJECT, NONMOTORIST',\n",
       " 'EXCEEDING AUTHORIZED SPEED LIMIT',\n",
       " 'EXCEEDING SAFE SPEED FOR CONDITIONS',\n",
       " 'FAILING TO REDUCE SPEED TO AVOID CRASH',\n",
       " 'FAILING TO YIELD RIGHT-OF-WAY',\n",
       " 'FOLLOWING TOO CLOSELY',\n",
       " 'HAD BEEN DRINKING (USE WHEN ARREST IS NOT MADE)',\n",
       " 'IMPROPER BACKING',\n",
       " 'IMPROPER LANE USAGE',\n",
       " 'IMPROPER OVERTAKING/PASSING',\n",
       " 'IMPROPER TURNING/NO SIGNAL',\n",
       " 'MOTORCYCLE ADVANCING LEGALLY ON RED LIGHT',\n",
       " 'NOT APPLICABLE',\n",
       " 'OBSTRUCTED CROSSWALKS',\n",
       " 'OPERATING VEHICLE IN ERRATIC, RECKLESS, CARELESS, NEGLIGENT OR AGGRESSIVE MANNER',\n",
       " 'PASSING STOPPED SCHOOL BUS',\n",
       " 'PHYSICAL CONDITION OF DRIVER',\n",
       " 'RELATED TO BUS STOP',\n",
       " 'ROAD CONSTRUCTION/MAINTENANCE',\n",
       " 'ROAD ENGINEERING/SURFACE/MARKING DEFECTS',\n",
       " 'TEXTING',\n",
       " 'TURNING RIGHT ON RED',\n",
       " 'UNABLE TO DETERMINE',\n",
       " 'UNDER THE INFLUENCE OF ALCOHOL/DRUGS (USE WHEN ARREST IS EFFECTED)',\n",
       " 'VISION OBSCURED (SIGNS, TREE LIMBS, BUILDINGS, ETC.)',\n",
       " 'E',\n",
       " 'N',\n",
       " 'S',\n",
       " 1,\n",
       " 2,\n",
       " 3,\n",
       " 4,\n",
       " 5,\n",
       " 6,\n",
       " 7,\n",
       " 8,\n",
       " 9,\n",
       " 10,\n",
       " 11,\n",
       " 'INCAPACITATING INJURY/FATAL',\n",
       " 'NO INDICATION OF INJURY',\n",
       " 0.0,\n",
       " 1.0,\n",
       " 2.0,\n",
       " 3.0,\n",
       " 4.0,\n",
       " 5.0,\n",
       " 6.0,\n",
       " 7.0,\n",
       " 8.0,\n",
       " 9.0,\n",
       " 10.0,\n",
       " 11.0,\n",
       " 13.0,\n",
       " 15.0,\n",
       " 0,\n",
       " 0.0,\n",
       " 1.0,\n",
       " 2.0,\n",
       " 3.0,\n",
       " 4.0,\n",
       " 5.0,\n",
       " 0.0,\n",
       " 1.0,\n",
       " 2.0,\n",
       " 3.0,\n",
       " 4.0,\n",
       " 5.0,\n",
       " 6.0,\n",
       " 7.0,\n",
       " 10.0,\n",
       " 14.0,\n",
       " 0.0,\n",
       " 1.0,\n",
       " 2.0,\n",
       " 3.0,\n",
       " 4.0,\n",
       " 5.0,\n",
       " 6.0,\n",
       " 7.0,\n",
       " 8.0,\n",
       " 0.0,\n",
       " 1.0,\n",
       " 2.0,\n",
       " 3.0,\n",
       " 4.0,\n",
       " 5.0,\n",
       " 6.0,\n",
       " 7.0,\n",
       " 8.0,\n",
       " 9.0,\n",
       " 10.0,\n",
       " 11.0,\n",
       " 12.0,\n",
       " 13.0,\n",
       " 14.0,\n",
       " 16.0,\n",
       " 28.0,\n",
       " 37.0,\n",
       " 0,\n",
       " 1,\n",
       " 2,\n",
       " 3,\n",
       " 4,\n",
       " 5,\n",
       " 6,\n",
       " 7,\n",
       " 8,\n",
       " 9,\n",
       " 10,\n",
       " 11,\n",
       " 12,\n",
       " 13,\n",
       " 14,\n",
       " 15,\n",
       " 16,\n",
       " 17,\n",
       " 18,\n",
       " 19,\n",
       " 20,\n",
       " 21,\n",
       " 22,\n",
       " 1,\n",
       " 2,\n",
       " 3,\n",
       " 4,\n",
       " 5,\n",
       " 6,\n",
       " 1,\n",
       " 2,\n",
       " 3,\n",
       " 4,\n",
       " 5,\n",
       " 6,\n",
       " 7,\n",
       " 8,\n",
       " 9,\n",
       " 10,\n",
       " 11,\n",
       " 0,\n",
       " 0,\n",
       " 'DRIVER',\n",
       " 'F',\n",
       " 'M',\n",
       " 0.0,\n",
       " 1.0,\n",
       " 2.0,\n",
       " 3.0,\n",
       " 4.0,\n",
       " 6.0,\n",
       " 8.0,\n",
       " 11.0,\n",
       " 12.0,\n",
       " 13.0,\n",
       " 14.0,\n",
       " 15.0,\n",
       " 16.0,\n",
       " 17.0,\n",
       " 18.0,\n",
       " 19.0,\n",
       " 20.0,\n",
       " 21.0,\n",
       " 22.0,\n",
       " 23.0,\n",
       " 24.0,\n",
       " 25.0,\n",
       " 26.0,\n",
       " 27.0,\n",
       " 28.0,\n",
       " 29.0,\n",
       " 30.0,\n",
       " 31.0,\n",
       " 32.0,\n",
       " 33.0,\n",
       " 34.0,\n",
       " 35.0,\n",
       " 36.0,\n",
       " 37.0,\n",
       " 38.0,\n",
       " 39.0,\n",
       " 40.0,\n",
       " 41.0,\n",
       " 42.0,\n",
       " 43.0,\n",
       " 44.0,\n",
       " 45.0,\n",
       " 46.0,\n",
       " 47.0,\n",
       " 48.0,\n",
       " 49.0,\n",
       " 50.0,\n",
       " 51.0,\n",
       " 52.0,\n",
       " 53.0,\n",
       " 54.0,\n",
       " 55.0,\n",
       " 56.0,\n",
       " 57.0,\n",
       " 58.0,\n",
       " 59.0,\n",
       " 60.0,\n",
       " 61.0,\n",
       " 62.0,\n",
       " 63.0,\n",
       " 64.0,\n",
       " 65.0,\n",
       " 66.0,\n",
       " 67.0,\n",
       " 68.0,\n",
       " 69.0,\n",
       " 70.0,\n",
       " 71.0,\n",
       " 72.0,\n",
       " 73.0,\n",
       " 74.0,\n",
       " 75.0,\n",
       " 76.0,\n",
       " 77.0,\n",
       " 78.0,\n",
       " 79.0,\n",
       " 80.0,\n",
       " 81.0,\n",
       " 82.0,\n",
       " 83.0,\n",
       " 84.0,\n",
       " 85.0,\n",
       " 86.0,\n",
       " 87.0,\n",
       " 88.0,\n",
       " 89.0,\n",
       " 90.0,\n",
       " 91.0,\n",
       " 92.0,\n",
       " 93.0,\n",
       " 94.0,\n",
       " 95.0,\n",
       " 96.0,\n",
       " 98.0,\n",
       " 99.0,\n",
       " 'DOT COMPLIANT MOTORCYCLE HELMET',\n",
       " 'HELMET NOT USED',\n",
       " 'HELMET USED',\n",
       " 'NONE PRESENT',\n",
       " 'NOT DOT COMPLIANT MOTORCYCLE HELMET',\n",
       " 'SAFETY BELT NOT USED',\n",
       " 'SAFETY BELT USED',\n",
       " 'SHOULD/LAP BELT USED IMPROPERLY',\n",
       " 'USAGE UNKNOWN',\n",
       " 'DEPLOYED OTHER (KNEE, AIR, BELT, ETC.)',\n",
       " 'DEPLOYED, COMBINATION',\n",
       " 'DEPLOYED, FRONT',\n",
       " 'DEPLOYED, SIDE',\n",
       " 'DEPLOYMENT UNKNOWN',\n",
       " 'DID NOT DEPLOY',\n",
       " 'NONE',\n",
       " 'PARTIALLY EJECTED',\n",
       " 'TOTALLY EJECTED',\n",
       " 'TRAPPED/EXTRICATED',\n",
       " 'FATAL',\n",
       " 'INCAPACITATING INJURY',\n",
       " 'NO INDICATION OF INJURY',\n",
       " 'NONINCAPACITATING INJURY',\n",
       " 'CELL PHONE USE OTHER THAN TEXTING',\n",
       " 'DISREGARDED CONTROL DEVICES',\n",
       " 'EMERGENCY VEHICLE ON CALL',\n",
       " 'EVADING POLICE VEHICLE',\n",
       " 'FAILED TO YIELD',\n",
       " 'FOLLOWED TOO CLOSELY',\n",
       " 'IMPROPER BACKING',\n",
       " 'IMPROPER LANE CHANGE',\n",
       " 'IMPROPER PARKING',\n",
       " 'IMPROPER PASSING',\n",
       " 'IMPROPER TURN',\n",
       " 'LICENSE RESTRICTIONS',\n",
       " 'NONE',\n",
       " 'OTHER',\n",
       " 'OVERCORRECTED',\n",
       " 'STOPPED SCHOOL BUS',\n",
       " 'TEXTING',\n",
       " 'TOO FAST FOR CONDITIONS',\n",
       " 'UNKNOWN',\n",
       " 'BLINDED - HEADLIGHTS',\n",
       " 'BLINDED - SUNLIGHT',\n",
       " 'BLOWING MATERIALS',\n",
       " 'BUILDINGS',\n",
       " 'EMBANKMENT',\n",
       " 'HILLCREST',\n",
       " 'MOVING VEHICLES',\n",
       " 'NOT OBSCURED',\n",
       " 'OTHER',\n",
       " 'PARKED VEHICLES',\n",
       " 'TREES, PLANTS',\n",
       " 'UNKNOWN',\n",
       " 'EMOTIONAL',\n",
       " 'FATIGUED/ASLEEP',\n",
       " 'HAD BEEN DRINKING',\n",
       " 'ILLNESS/FAINTED',\n",
       " 'IMPAIRED - ALCOHOL',\n",
       " 'IMPAIRED - ALCOHOL AND DRUGS',\n",
       " 'IMPAIRED - DRUGS',\n",
       " 'MEDICATED',\n",
       " 'NORMAL',\n",
       " 'OTHER',\n",
       " 'REMOVED BY EMS',\n",
       " 'TEST NOT OFFERED',\n",
       " 'TEST PERFORMED, RESULTS UNKNOWN',\n",
       " 'TEST REFUSED']"
      ]
     },
     "execution_count": 182,
     "metadata": {},
     "output_type": "execute_result"
    }
   ],
   "source": [
    "list(df_a3.columns)"
   ]
  },
  {
   "cell_type": "code",
   "execution_count": 183,
   "metadata": {},
   "outputs": [],
   "source": [
    "df_a4 = df_a3.drop(columns=['UNIT_TYPE',\n",
    " 'VEHICLE_DEFECT',\n",
    " 'VEHICLE_TYPE',\n",
    " 'VEHICLE_USE',\n",
    " 'TRAVEL_DIRECTION',\n",
    " 'MANEUVER', 'FIRST_CONTACT_POINT', 'TRAFFIC_CONTROL_DEVICE',\n",
    " 'DEVICE_CONDITION',\n",
    " 'WEATHER_CONDITION',\n",
    " 'LIGHTING_CONDITION',\n",
    " 'FIRST_CRASH_TYPE',\n",
    " 'TRAFFICWAY_TYPE',\n",
    " 'ALIGNMENT',\n",
    " 'ROADWAY_SURFACE_COND',\n",
    " 'ROAD_DEFECT',\n",
    " 'REPORT_TYPE',\n",
    " 'CRASH_TYPE',\n",
    " 'DAMAGE',\n",
    " 'PRIM_CONTRIBUTORY_CAUSE',\n",
    " 'SEC_CONTRIBUTORY_CAUSE',\n",
    " 'STREET_DIRECTION', 'MOST_SEVERE_INJURY'])"
   ]
  },
  {
   "cell_type": "code",
   "execution_count": 184,
   "metadata": {},
   "outputs": [
    {
     "data": {
      "text/plain": [
       "(86619, 637)"
      ]
     },
     "execution_count": 184,
     "metadata": {},
     "output_type": "execute_result"
    }
   ],
   "source": [
    "df_a4.shape"
   ]
  },
  {
   "cell_type": "code",
   "execution_count": 185,
   "metadata": {},
   "outputs": [
    {
     "data": {
      "text/plain": [
       "[dtype('int64'),\n",
       " dtype('float64'),\n",
       " dtype('int64'),\n",
       " dtype('int64'),\n",
       " dtype('float64'),\n",
       " dtype('int32'),\n",
       " dtype('float64'),\n",
       " dtype('float64'),\n",
       " dtype('float64'),\n",
       " dtype('float64'),\n",
       " dtype('float64'),\n",
       " dtype('int64'),\n",
       " dtype('int64'),\n",
       " dtype('int64'),\n",
       " dtype('int64'),\n",
       " dtype('int64'),\n",
       " dtype('O'),\n",
       " dtype('O'),\n",
       " dtype('float64'),\n",
       " dtype('O'),\n",
       " dtype('O'),\n",
       " dtype('O'),\n",
       " dtype('O'),\n",
       " dtype('O'),\n",
       " dtype('O'),\n",
       " dtype('O'),\n",
       " dtype('O'),\n",
       " dtype('uint8'),\n",
       " dtype('uint8'),\n",
       " dtype('uint8'),\n",
       " dtype('uint8'),\n",
       " dtype('uint8'),\n",
       " dtype('uint8'),\n",
       " dtype('uint8'),\n",
       " dtype('uint8'),\n",
       " dtype('uint8'),\n",
       " dtype('uint8'),\n",
       " dtype('uint8'),\n",
       " dtype('uint8'),\n",
       " dtype('uint8'),\n",
       " dtype('uint8'),\n",
       " dtype('uint8'),\n",
       " dtype('uint8'),\n",
       " dtype('uint8'),\n",
       " dtype('uint8'),\n",
       " dtype('uint8'),\n",
       " dtype('uint8'),\n",
       " dtype('uint8'),\n",
       " dtype('uint8'),\n",
       " dtype('uint8'),\n",
       " dtype('uint8'),\n",
       " dtype('uint8'),\n",
       " dtype('uint8'),\n",
       " dtype('uint8'),\n",
       " dtype('uint8'),\n",
       " dtype('uint8'),\n",
       " dtype('uint8'),\n",
       " dtype('uint8'),\n",
       " dtype('uint8'),\n",
       " dtype('uint8'),\n",
       " dtype('uint8'),\n",
       " dtype('uint8'),\n",
       " dtype('uint8'),\n",
       " dtype('uint8'),\n",
       " dtype('uint8'),\n",
       " dtype('uint8'),\n",
       " dtype('uint8'),\n",
       " dtype('uint8'),\n",
       " dtype('uint8'),\n",
       " dtype('uint8'),\n",
       " dtype('uint8'),\n",
       " dtype('uint8'),\n",
       " dtype('uint8'),\n",
       " dtype('uint8'),\n",
       " dtype('uint8'),\n",
       " dtype('uint8'),\n",
       " dtype('uint8'),\n",
       " dtype('uint8'),\n",
       " dtype('uint8'),\n",
       " dtype('uint8'),\n",
       " dtype('uint8'),\n",
       " dtype('uint8'),\n",
       " dtype('uint8'),\n",
       " dtype('uint8'),\n",
       " dtype('uint8'),\n",
       " dtype('uint8'),\n",
       " dtype('uint8'),\n",
       " dtype('uint8'),\n",
       " dtype('uint8'),\n",
       " dtype('uint8'),\n",
       " dtype('uint8'),\n",
       " dtype('uint8'),\n",
       " dtype('uint8'),\n",
       " dtype('uint8'),\n",
       " dtype('uint8'),\n",
       " dtype('uint8'),\n",
       " dtype('uint8'),\n",
       " dtype('uint8'),\n",
       " dtype('uint8'),\n",
       " dtype('uint8'),\n",
       " dtype('uint8'),\n",
       " dtype('uint8'),\n",
       " dtype('uint8'),\n",
       " dtype('uint8'),\n",
       " dtype('uint8'),\n",
       " dtype('uint8'),\n",
       " dtype('uint8'),\n",
       " dtype('uint8'),\n",
       " dtype('uint8'),\n",
       " dtype('uint8'),\n",
       " dtype('uint8'),\n",
       " dtype('uint8'),\n",
       " dtype('uint8'),\n",
       " dtype('uint8'),\n",
       " dtype('uint8'),\n",
       " dtype('uint8'),\n",
       " dtype('uint8'),\n",
       " dtype('uint8'),\n",
       " dtype('uint8'),\n",
       " dtype('uint8'),\n",
       " dtype('uint8'),\n",
       " dtype('uint8'),\n",
       " dtype('uint8'),\n",
       " dtype('uint8'),\n",
       " dtype('uint8'),\n",
       " dtype('uint8'),\n",
       " dtype('uint8'),\n",
       " dtype('uint8'),\n",
       " dtype('uint8'),\n",
       " dtype('uint8'),\n",
       " dtype('uint8'),\n",
       " dtype('uint8'),\n",
       " dtype('uint8'),\n",
       " dtype('uint8'),\n",
       " dtype('uint8'),\n",
       " dtype('uint8'),\n",
       " dtype('uint8'),\n",
       " dtype('uint8'),\n",
       " dtype('uint8'),\n",
       " dtype('uint8'),\n",
       " dtype('uint8'),\n",
       " dtype('uint8'),\n",
       " dtype('uint8'),\n",
       " dtype('uint8'),\n",
       " dtype('uint8'),\n",
       " dtype('uint8'),\n",
       " dtype('uint8'),\n",
       " dtype('uint8'),\n",
       " dtype('uint8'),\n",
       " dtype('uint8'),\n",
       " dtype('uint8'),\n",
       " dtype('uint8'),\n",
       " dtype('uint8'),\n",
       " dtype('uint8'),\n",
       " dtype('uint8'),\n",
       " dtype('uint8'),\n",
       " dtype('uint8'),\n",
       " dtype('uint8'),\n",
       " dtype('uint8'),\n",
       " dtype('uint8'),\n",
       " dtype('uint8'),\n",
       " dtype('uint8'),\n",
       " dtype('uint8'),\n",
       " dtype('uint8'),\n",
       " dtype('uint8'),\n",
       " dtype('uint8'),\n",
       " dtype('uint8'),\n",
       " dtype('uint8'),\n",
       " dtype('uint8'),\n",
       " dtype('uint8'),\n",
       " dtype('uint8'),\n",
       " dtype('uint8'),\n",
       " dtype('uint8'),\n",
       " dtype('uint8'),\n",
       " dtype('uint8'),\n",
       " dtype('uint8'),\n",
       " dtype('uint8'),\n",
       " dtype('uint8'),\n",
       " dtype('uint8'),\n",
       " dtype('uint8'),\n",
       " dtype('uint8'),\n",
       " dtype('uint8'),\n",
       " dtype('uint8'),\n",
       " dtype('uint8'),\n",
       " dtype('uint8'),\n",
       " dtype('uint8'),\n",
       " dtype('uint8'),\n",
       " dtype('uint8'),\n",
       " dtype('uint8'),\n",
       " dtype('uint8'),\n",
       " dtype('uint8'),\n",
       " dtype('uint8'),\n",
       " dtype('uint8'),\n",
       " dtype('uint8'),\n",
       " dtype('uint8'),\n",
       " dtype('uint8'),\n",
       " dtype('uint8'),\n",
       " dtype('uint8'),\n",
       " dtype('uint8'),\n",
       " dtype('uint8'),\n",
       " dtype('uint8'),\n",
       " dtype('uint8'),\n",
       " dtype('uint8'),\n",
       " dtype('uint8'),\n",
       " dtype('uint8'),\n",
       " dtype('uint8'),\n",
       " dtype('uint8'),\n",
       " dtype('uint8'),\n",
       " dtype('uint8'),\n",
       " dtype('uint8'),\n",
       " dtype('uint8'),\n",
       " dtype('uint8'),\n",
       " dtype('uint8'),\n",
       " dtype('uint8'),\n",
       " dtype('uint8'),\n",
       " dtype('uint8'),\n",
       " dtype('uint8'),\n",
       " dtype('uint8'),\n",
       " dtype('uint8'),\n",
       " dtype('uint8'),\n",
       " dtype('uint8'),\n",
       " dtype('uint8'),\n",
       " dtype('uint8'),\n",
       " dtype('uint8'),\n",
       " dtype('uint8'),\n",
       " dtype('uint8'),\n",
       " dtype('uint8'),\n",
       " dtype('uint8'),\n",
       " dtype('uint8'),\n",
       " dtype('uint8'),\n",
       " dtype('uint8'),\n",
       " dtype('uint8'),\n",
       " dtype('uint8'),\n",
       " dtype('uint8'),\n",
       " dtype('uint8'),\n",
       " dtype('uint8'),\n",
       " dtype('uint8'),\n",
       " dtype('uint8'),\n",
       " dtype('uint8'),\n",
       " dtype('uint8'),\n",
       " dtype('uint8'),\n",
       " dtype('uint8'),\n",
       " dtype('uint8'),\n",
       " dtype('uint8'),\n",
       " dtype('uint8'),\n",
       " dtype('uint8'),\n",
       " dtype('uint8'),\n",
       " dtype('uint8'),\n",
       " dtype('uint8'),\n",
       " dtype('uint8'),\n",
       " dtype('uint8'),\n",
       " dtype('uint8'),\n",
       " dtype('uint8'),\n",
       " dtype('uint8'),\n",
       " dtype('uint8'),\n",
       " dtype('uint8'),\n",
       " dtype('uint8'),\n",
       " dtype('uint8'),\n",
       " dtype('uint8'),\n",
       " dtype('uint8'),\n",
       " dtype('uint8'),\n",
       " dtype('uint8'),\n",
       " dtype('uint8'),\n",
       " dtype('uint8'),\n",
       " dtype('uint8'),\n",
       " dtype('uint8'),\n",
       " dtype('uint8'),\n",
       " dtype('uint8'),\n",
       " dtype('uint8'),\n",
       " dtype('uint8'),\n",
       " dtype('uint8'),\n",
       " dtype('uint8'),\n",
       " dtype('uint8'),\n",
       " dtype('uint8'),\n",
       " dtype('uint8'),\n",
       " dtype('uint8'),\n",
       " dtype('uint8'),\n",
       " dtype('uint8'),\n",
       " dtype('uint8'),\n",
       " dtype('uint8'),\n",
       " dtype('uint8'),\n",
       " dtype('uint8'),\n",
       " dtype('uint8'),\n",
       " dtype('uint8'),\n",
       " dtype('uint8'),\n",
       " dtype('uint8'),\n",
       " dtype('uint8'),\n",
       " dtype('uint8'),\n",
       " dtype('uint8'),\n",
       " dtype('uint8'),\n",
       " dtype('uint8'),\n",
       " dtype('uint8'),\n",
       " dtype('uint8'),\n",
       " dtype('uint8'),\n",
       " dtype('uint8'),\n",
       " dtype('uint8'),\n",
       " dtype('uint8'),\n",
       " dtype('uint8'),\n",
       " dtype('uint8'),\n",
       " dtype('uint8'),\n",
       " dtype('uint8'),\n",
       " dtype('uint8'),\n",
       " dtype('uint8'),\n",
       " dtype('uint8'),\n",
       " dtype('uint8'),\n",
       " dtype('uint8'),\n",
       " dtype('uint8'),\n",
       " dtype('uint8'),\n",
       " dtype('uint8'),\n",
       " dtype('uint8'),\n",
       " dtype('uint8'),\n",
       " dtype('uint8'),\n",
       " dtype('uint8'),\n",
       " dtype('uint8'),\n",
       " dtype('uint8'),\n",
       " dtype('uint8'),\n",
       " dtype('uint8'),\n",
       " dtype('uint8'),\n",
       " dtype('uint8'),\n",
       " dtype('uint8'),\n",
       " dtype('uint8'),\n",
       " dtype('uint8'),\n",
       " dtype('uint8'),\n",
       " dtype('uint8'),\n",
       " dtype('uint8'),\n",
       " dtype('uint8'),\n",
       " dtype('uint8'),\n",
       " dtype('uint8'),\n",
       " dtype('uint8'),\n",
       " dtype('uint8'),\n",
       " dtype('uint8'),\n",
       " dtype('uint8'),\n",
       " dtype('uint8'),\n",
       " dtype('uint8'),\n",
       " dtype('uint8'),\n",
       " dtype('uint8'),\n",
       " dtype('uint8'),\n",
       " dtype('uint8'),\n",
       " dtype('uint8'),\n",
       " dtype('uint8'),\n",
       " dtype('uint8'),\n",
       " dtype('uint8'),\n",
       " dtype('uint8'),\n",
       " dtype('uint8'),\n",
       " dtype('uint8'),\n",
       " dtype('uint8'),\n",
       " dtype('uint8'),\n",
       " dtype('uint8'),\n",
       " dtype('uint8'),\n",
       " dtype('uint8'),\n",
       " dtype('uint8'),\n",
       " dtype('uint8'),\n",
       " dtype('uint8'),\n",
       " dtype('uint8'),\n",
       " dtype('uint8'),\n",
       " dtype('uint8'),\n",
       " dtype('uint8'),\n",
       " dtype('uint8'),\n",
       " dtype('uint8'),\n",
       " dtype('uint8'),\n",
       " dtype('uint8'),\n",
       " dtype('uint8'),\n",
       " dtype('uint8'),\n",
       " dtype('uint8'),\n",
       " dtype('uint8'),\n",
       " dtype('uint8'),\n",
       " dtype('uint8'),\n",
       " dtype('uint8'),\n",
       " dtype('uint8'),\n",
       " dtype('uint8'),\n",
       " dtype('uint8'),\n",
       " dtype('uint8'),\n",
       " dtype('uint8'),\n",
       " dtype('uint8'),\n",
       " dtype('uint8'),\n",
       " dtype('uint8'),\n",
       " dtype('uint8'),\n",
       " dtype('uint8'),\n",
       " dtype('uint8'),\n",
       " dtype('uint8'),\n",
       " dtype('uint8'),\n",
       " dtype('uint8'),\n",
       " dtype('uint8'),\n",
       " dtype('uint8'),\n",
       " dtype('uint8'),\n",
       " dtype('uint8'),\n",
       " dtype('uint8'),\n",
       " dtype('uint8'),\n",
       " dtype('uint8'),\n",
       " dtype('uint8'),\n",
       " dtype('uint8'),\n",
       " dtype('uint8'),\n",
       " dtype('uint8'),\n",
       " dtype('uint8'),\n",
       " dtype('uint8'),\n",
       " dtype('uint8'),\n",
       " dtype('uint8'),\n",
       " dtype('uint8'),\n",
       " dtype('uint8'),\n",
       " dtype('uint8'),\n",
       " dtype('uint8'),\n",
       " dtype('uint8'),\n",
       " dtype('uint8'),\n",
       " dtype('uint8'),\n",
       " dtype('uint8'),\n",
       " dtype('uint8'),\n",
       " dtype('uint8'),\n",
       " dtype('uint8'),\n",
       " dtype('uint8'),\n",
       " dtype('uint8'),\n",
       " dtype('uint8'),\n",
       " dtype('uint8'),\n",
       " dtype('uint8'),\n",
       " dtype('uint8'),\n",
       " dtype('uint8'),\n",
       " dtype('uint8'),\n",
       " dtype('uint8'),\n",
       " dtype('uint8'),\n",
       " dtype('uint8'),\n",
       " dtype('uint8'),\n",
       " dtype('uint8'),\n",
       " dtype('uint8'),\n",
       " dtype('uint8'),\n",
       " dtype('uint8'),\n",
       " dtype('uint8'),\n",
       " dtype('uint8'),\n",
       " dtype('uint8'),\n",
       " dtype('uint8'),\n",
       " dtype('uint8'),\n",
       " dtype('uint8'),\n",
       " dtype('uint8'),\n",
       " dtype('uint8'),\n",
       " dtype('uint8'),\n",
       " dtype('uint8'),\n",
       " dtype('uint8'),\n",
       " dtype('uint8'),\n",
       " dtype('uint8'),\n",
       " dtype('uint8'),\n",
       " dtype('uint8'),\n",
       " dtype('uint8'),\n",
       " dtype('uint8'),\n",
       " dtype('uint8'),\n",
       " dtype('uint8'),\n",
       " dtype('uint8'),\n",
       " dtype('uint8'),\n",
       " dtype('uint8'),\n",
       " dtype('uint8'),\n",
       " dtype('uint8'),\n",
       " dtype('uint8'),\n",
       " dtype('uint8'),\n",
       " dtype('uint8'),\n",
       " dtype('uint8'),\n",
       " dtype('uint8'),\n",
       " dtype('uint8'),\n",
       " dtype('uint8'),\n",
       " dtype('uint8'),\n",
       " dtype('uint8'),\n",
       " dtype('uint8'),\n",
       " dtype('uint8'),\n",
       " dtype('uint8'),\n",
       " dtype('uint8'),\n",
       " dtype('uint8'),\n",
       " dtype('uint8'),\n",
       " dtype('uint8'),\n",
       " dtype('uint8'),\n",
       " dtype('uint8'),\n",
       " dtype('uint8'),\n",
       " dtype('uint8'),\n",
       " dtype('uint8'),\n",
       " dtype('uint8'),\n",
       " dtype('uint8'),\n",
       " dtype('uint8'),\n",
       " dtype('uint8'),\n",
       " dtype('uint8'),\n",
       " dtype('uint8'),\n",
       " dtype('uint8'),\n",
       " dtype('uint8'),\n",
       " dtype('uint8'),\n",
       " dtype('uint8'),\n",
       " dtype('uint8'),\n",
       " dtype('uint8'),\n",
       " dtype('uint8'),\n",
       " dtype('uint8'),\n",
       " dtype('uint8'),\n",
       " dtype('uint8'),\n",
       " dtype('uint8'),\n",
       " dtype('uint8'),\n",
       " dtype('uint8'),\n",
       " dtype('uint8'),\n",
       " dtype('uint8'),\n",
       " dtype('uint8'),\n",
       " dtype('uint8'),\n",
       " dtype('uint8'),\n",
       " dtype('uint8'),\n",
       " dtype('uint8'),\n",
       " dtype('uint8'),\n",
       " dtype('uint8'),\n",
       " dtype('uint8'),\n",
       " dtype('uint8'),\n",
       " dtype('uint8'),\n",
       " dtype('uint8'),\n",
       " dtype('uint8'),\n",
       " dtype('uint8'),\n",
       " dtype('uint8'),\n",
       " dtype('uint8'),\n",
       " dtype('uint8'),\n",
       " dtype('uint8'),\n",
       " dtype('uint8'),\n",
       " dtype('uint8'),\n",
       " dtype('uint8'),\n",
       " dtype('uint8'),\n",
       " dtype('uint8'),\n",
       " dtype('uint8'),\n",
       " dtype('uint8'),\n",
       " dtype('uint8'),\n",
       " dtype('uint8'),\n",
       " dtype('uint8'),\n",
       " dtype('uint8'),\n",
       " dtype('uint8'),\n",
       " dtype('uint8'),\n",
       " dtype('uint8'),\n",
       " dtype('uint8'),\n",
       " dtype('uint8'),\n",
       " dtype('uint8'),\n",
       " dtype('uint8'),\n",
       " dtype('uint8'),\n",
       " dtype('uint8'),\n",
       " dtype('uint8'),\n",
       " dtype('uint8'),\n",
       " dtype('uint8'),\n",
       " dtype('uint8'),\n",
       " dtype('uint8'),\n",
       " dtype('uint8'),\n",
       " dtype('uint8'),\n",
       " dtype('uint8'),\n",
       " dtype('uint8'),\n",
       " dtype('uint8'),\n",
       " dtype('uint8'),\n",
       " dtype('uint8'),\n",
       " dtype('uint8'),\n",
       " dtype('uint8'),\n",
       " dtype('uint8'),\n",
       " dtype('uint8'),\n",
       " dtype('uint8'),\n",
       " dtype('uint8'),\n",
       " dtype('uint8'),\n",
       " dtype('uint8'),\n",
       " dtype('uint8'),\n",
       " dtype('uint8'),\n",
       " dtype('uint8'),\n",
       " dtype('uint8'),\n",
       " dtype('uint8'),\n",
       " dtype('uint8'),\n",
       " dtype('uint8'),\n",
       " dtype('uint8'),\n",
       " dtype('uint8'),\n",
       " dtype('uint8'),\n",
       " dtype('uint8'),\n",
       " dtype('uint8'),\n",
       " dtype('uint8'),\n",
       " dtype('uint8'),\n",
       " dtype('uint8'),\n",
       " dtype('uint8'),\n",
       " dtype('uint8'),\n",
       " dtype('uint8'),\n",
       " dtype('uint8'),\n",
       " dtype('uint8'),\n",
       " dtype('uint8'),\n",
       " dtype('uint8'),\n",
       " dtype('uint8'),\n",
       " dtype('uint8'),\n",
       " dtype('uint8'),\n",
       " dtype('uint8'),\n",
       " dtype('uint8'),\n",
       " dtype('uint8'),\n",
       " dtype('uint8'),\n",
       " dtype('uint8'),\n",
       " dtype('uint8'),\n",
       " dtype('uint8'),\n",
       " dtype('uint8'),\n",
       " dtype('uint8'),\n",
       " dtype('uint8'),\n",
       " dtype('uint8'),\n",
       " dtype('uint8'),\n",
       " dtype('uint8'),\n",
       " dtype('uint8'),\n",
       " dtype('uint8'),\n",
       " dtype('uint8'),\n",
       " dtype('uint8'),\n",
       " dtype('uint8'),\n",
       " dtype('uint8'),\n",
       " dtype('uint8'),\n",
       " dtype('uint8'),\n",
       " dtype('uint8'),\n",
       " dtype('uint8'),\n",
       " dtype('uint8'),\n",
       " dtype('uint8'),\n",
       " dtype('uint8'),\n",
       " dtype('uint8'),\n",
       " dtype('uint8'),\n",
       " dtype('uint8'),\n",
       " dtype('uint8'),\n",
       " dtype('uint8'),\n",
       " dtype('uint8'),\n",
       " dtype('uint8'),\n",
       " dtype('uint8'),\n",
       " dtype('uint8'),\n",
       " dtype('uint8'),\n",
       " dtype('uint8'),\n",
       " dtype('uint8'),\n",
       " dtype('uint8'),\n",
       " dtype('uint8'),\n",
       " dtype('uint8'),\n",
       " dtype('uint8'),\n",
       " dtype('uint8'),\n",
       " dtype('uint8'),\n",
       " dtype('uint8'),\n",
       " dtype('uint8'),\n",
       " dtype('uint8'),\n",
       " dtype('uint8'),\n",
       " dtype('uint8'),\n",
       " dtype('uint8'),\n",
       " dtype('uint8'),\n",
       " dtype('uint8'),\n",
       " dtype('uint8'),\n",
       " dtype('uint8'),\n",
       " dtype('uint8'),\n",
       " dtype('uint8'),\n",
       " dtype('uint8'),\n",
       " dtype('uint8'),\n",
       " dtype('uint8'),\n",
       " dtype('uint8'),\n",
       " dtype('uint8'),\n",
       " dtype('uint8'),\n",
       " dtype('uint8'),\n",
       " dtype('uint8'),\n",
       " dtype('uint8')]"
      ]
     },
     "execution_count": 185,
     "metadata": {},
     "output_type": "execute_result"
    }
   ],
   "source": [
    "list(df_a4.dtypes)"
   ]
  },
  {
   "cell_type": "code",
   "execution_count": 186,
   "metadata": {},
   "outputs": [
    {
     "data": {
      "text/plain": [
       "['UNIT_NO',\n",
       " 'OCCUPANT_CNT',\n",
       " 'POSTED_SPEED_LIMIT',\n",
       " 'NUM_UNITS',\n",
       " 'INJURIES_TOTAL',\n",
       " 'INJURIES_FATAL',\n",
       " 'INJURIES_INCAPACITATING',\n",
       " 'INJURIES_NON_INCAPACITATING',\n",
       " 'INJURIES_REPORTED_NOT_EVIDENT',\n",
       " 'INJURIES_NO_INDICATION',\n",
       " 'INJURIES_UNKNOWN',\n",
       " 'CRASH_HOUR',\n",
       " 'CRASH_DAY_OF_WEEK',\n",
       " 'CRASH_MONTH',\n",
       " 'IS_A_HOLIDAY',\n",
       " 'HOLIDAY_NAME',\n",
       " 'PERSON_TYPE',\n",
       " 'SEX',\n",
       " 'AGE',\n",
       " 'SAFETY_EQUIPMENT',\n",
       " 'AIRBAG_DEPLOYED',\n",
       " 'EJECTION',\n",
       " 'INJURY_CLASSIFICATION',\n",
       " 'DRIVER_ACTION',\n",
       " 'DRIVER_VISION',\n",
       " 'PHYSICAL_CONDITION',\n",
       " 'BAC_RESULT',\n",
       " 1,\n",
       " 2,\n",
       " 3,\n",
       " 4,\n",
       " 5,\n",
       " 6,\n",
       " 7,\n",
       " 8,\n",
       " 9,\n",
       " 10,\n",
       " 11,\n",
       " 'DISABLED VEHICLE',\n",
       " 'DRIVER',\n",
       " 'DRIVERLESS',\n",
       " 'NON-CONTACT VEHICLE',\n",
       " 'BRAKES',\n",
       " 'CARGO',\n",
       " 'ENGINE/MOTOR',\n",
       " 'FUEL SYSTEM',\n",
       " 'LIGHTS',\n",
       " 'NONE',\n",
       " 'OTHER',\n",
       " 'SIGNALS',\n",
       " 'STEERING',\n",
       " 'SUSPENSION',\n",
       " 'TIRES',\n",
       " 'UNKNOWN',\n",
       " 'WHEELS',\n",
       " '3-WHEELED MOTORCYCLE (2 REAR WHEELS)',\n",
       " 'ALL-TERRAIN VEHICLE (ATV)',\n",
       " 'BUS OVER 15 PASS.',\n",
       " 'BUS UP TO 15 PASS.',\n",
       " 'FARM EQUIPMENT',\n",
       " 'MOPED OR MOTORIZED BICYCLE',\n",
       " 'MOTOR DRIVEN CYCLE',\n",
       " 'MOTORCYCLE (OVER 150CC)',\n",
       " 'OTHER',\n",
       " 'OTHER VEHICLE WITH TRAILER',\n",
       " 'PASSENGER',\n",
       " 'PICKUP',\n",
       " 'RECREATIONAL OFF-HIGHWAY VEHICLE (ROV)',\n",
       " 'SINGLE UNIT TRUCK WITH TRAILER',\n",
       " 'SPORT UTILITY VEHICLE (SUV)',\n",
       " 'TRACTOR W/ SEMI-TRAILER',\n",
       " 'TRACTOR W/O SEMI-TRAILER',\n",
       " 'TRUCK - SINGLE UNIT',\n",
       " 'UNKNOWN/NA',\n",
       " 'AGRICULTURE',\n",
       " 'AMBULANCE',\n",
       " 'CAMPER/RV - SINGLE UNIT',\n",
       " 'COMMERCIAL - MULTI-UNIT',\n",
       " 'COMMERCIAL - SINGLE UNIT',\n",
       " 'CONSTRUCTION/MAINTENANCE',\n",
       " 'CTA',\n",
       " 'DRIVER EDUCATION',\n",
       " 'FIRE',\n",
       " 'LAWN CARE/LANDSCAPING',\n",
       " 'MASS TRANSIT',\n",
       " 'MILITARY',\n",
       " 'NOT IN USE',\n",
       " 'OTHER',\n",
       " 'OTHER TRANSIT',\n",
       " 'PERSONAL',\n",
       " 'POLICE',\n",
       " 'RIDESHARE SERVICE',\n",
       " 'SCHOOL BUS',\n",
       " 'STATE OWNED',\n",
       " 'TAXI/FOR HIRE',\n",
       " 'TOW TRUCK',\n",
       " 'E',\n",
       " 'N',\n",
       " 'NE',\n",
       " 'NW',\n",
       " 'S',\n",
       " 'SE',\n",
       " 'SW',\n",
       " 'UNKNOWN',\n",
       " 'AVOIDING VEHICLES/OBJECTS',\n",
       " 'BACKING',\n",
       " 'CHANGING LANES',\n",
       " 'DISABLED',\n",
       " 'DIVERGING',\n",
       " 'DRIVERLESS',\n",
       " 'DRIVING WRONG WAY',\n",
       " 'ENTER FROM DRIVE/ALLEY',\n",
       " 'ENTERING TRAFFIC LANE FROM PARKING',\n",
       " 'LEAVING TRAFFIC LANE TO PARK',\n",
       " 'MERGING',\n",
       " 'NEGOTIATING A CURVE',\n",
       " 'OTHER',\n",
       " 'PARKED',\n",
       " 'PARKED IN TRAFFIC LANE',\n",
       " 'PASSING/OVERTAKING',\n",
       " 'SKIDDING/CONTROL LOSS',\n",
       " 'SLOW/STOP - LEFT TURN',\n",
       " 'SLOW/STOP - LOAD/UNLOAD',\n",
       " 'SLOW/STOP - RIGHT TURN',\n",
       " 'SLOW/STOP IN TRAFFIC',\n",
       " 'STARTING IN TRAFFIC',\n",
       " 'STRAIGHT AHEAD',\n",
       " 'TURNING LEFT',\n",
       " 'TURNING ON RED',\n",
       " 'TURNING RIGHT',\n",
       " 'U-TURN',\n",
       " 0.0,\n",
       " 1.0,\n",
       " 2.0,\n",
       " 3.0,\n",
       " 4.0,\n",
       " 5.0,\n",
       " 6.0,\n",
       " 7.0,\n",
       " 8.0,\n",
       " 9.0,\n",
       " 10.0,\n",
       " 11.0,\n",
       " 12.0,\n",
       " 13.0,\n",
       " 14.0,\n",
       " 15.0,\n",
       " 28.0,\n",
       " 36.0,\n",
       " 41.0,\n",
       " 'FRONT',\n",
       " 'FRONT-LEFT',\n",
       " 'FRONT-RIGHT',\n",
       " 'NONE',\n",
       " 'OTHER',\n",
       " 'REAR',\n",
       " 'REAR-LEFT',\n",
       " 'REAR-RIGHT',\n",
       " 'ROOF',\n",
       " 'SIDE-LEFT',\n",
       " 'SIDE-RIGHT',\n",
       " 'TOTAL (ALL AREAS)',\n",
       " 'UNDER CARRIAGE',\n",
       " 0,\n",
       " 1,\n",
       " 3,\n",
       " 5,\n",
       " 6,\n",
       " 9,\n",
       " 10,\n",
       " 15,\n",
       " 20,\n",
       " 25,\n",
       " 29,\n",
       " 30,\n",
       " 31,\n",
       " 33,\n",
       " 35,\n",
       " 39,\n",
       " 40,\n",
       " 45,\n",
       " 50,\n",
       " 55,\n",
       " 65,\n",
       " 'BICYCLE CROSSING SIGN',\n",
       " 'DELINEATORS',\n",
       " 'FLASHING CONTROL SIGNAL',\n",
       " 'LANE USE MARKING',\n",
       " 'NO CONTROLS',\n",
       " 'NO PASSING',\n",
       " 'OTHER',\n",
       " 'OTHER RAILROAD CROSSING',\n",
       " 'OTHER REG. SIGN',\n",
       " 'OTHER WARNING SIGN',\n",
       " 'PEDESTRIAN CROSSING SIGN',\n",
       " 'POLICE/FLAGMAN',\n",
       " 'RAILROAD CROSSING GATE',\n",
       " 'RR CROSSING SIGN',\n",
       " 'SCHOOL ZONE',\n",
       " 'STOP SIGN/FLASHER',\n",
       " 'TRAFFIC SIGNAL',\n",
       " 'UNKNOWN',\n",
       " 'FUNCTIONING IMPROPERLY',\n",
       " 'FUNCTIONING PROPERLY',\n",
       " 'MISSING',\n",
       " 'NO CONTROLS',\n",
       " 'NOT FUNCTIONING',\n",
       " 'OTHER',\n",
       " 'UNKNOWN',\n",
       " 'CLEAR',\n",
       " 'CLOUDY/OVERCAST',\n",
       " 'OTHER',\n",
       " 'RAIN',\n",
       " 'SNOW',\n",
       " 'DARKNESS',\n",
       " 'DARKNESS, LIGHTED ROAD',\n",
       " 'DAWN',\n",
       " 'DAYLIGHT',\n",
       " 'DUSK',\n",
       " 'ANGLE',\n",
       " 'ANIMAL',\n",
       " 'FIXED OBJECT',\n",
       " 'HEAD ON',\n",
       " 'OTHER NONCOLLISION',\n",
       " 'OTHER OBJECT',\n",
       " 'OVERTURNED',\n",
       " 'PARKED MOTOR VEHICLE',\n",
       " 'PEDALCYCLIST',\n",
       " 'PEDESTRIAN',\n",
       " 'REAR END',\n",
       " 'REAR TO FRONT',\n",
       " 'REAR TO REAR',\n",
       " 'REAR TO SIDE',\n",
       " 'SIDESWIPE OPPOSITE DIRECTION',\n",
       " 'SIDESWIPE SAME DIRECTION',\n",
       " 'TRAIN',\n",
       " 'ALLEY',\n",
       " 'CENTER TURN LANE',\n",
       " 'DIVIDED - W/MEDIAN (NOT RAISED)',\n",
       " 'DIVIDED - W/MEDIAN BARRIER',\n",
       " 'DRIVEWAY',\n",
       " 'FIVE POINT, OR MORE',\n",
       " 'FOUR WAY',\n",
       " 'L-INTERSECTION',\n",
       " 'NOT DIVIDED',\n",
       " 'NOT REPORTED',\n",
       " 'ONE-WAY',\n",
       " 'OTHER',\n",
       " 'PARKING LOT',\n",
       " 'RAMP',\n",
       " 'ROUNDABOUT',\n",
       " 'T-INTERSECTION',\n",
       " 'TRAFFIC ROUTE',\n",
       " 'UNKNOWN',\n",
       " 'UNKNOWN INTERSECTION TYPE',\n",
       " 'CURVE ON GRADE',\n",
       " 'CURVE ON HILLCREST',\n",
       " 'CURVE, LEVEL',\n",
       " 'STRAIGHT AND LEVEL',\n",
       " 'STRAIGHT ON GRADE',\n",
       " 'DRY',\n",
       " 'ICE',\n",
       " 'OTHER',\n",
       " 'SAND, MUD, DIRT',\n",
       " 'SNOW OR SLUSH',\n",
       " 'UNKNOWN',\n",
       " 'DEBRIS ON ROADWAY',\n",
       " 'NO DEFECTS',\n",
       " 'OTHER',\n",
       " 'RUT, HOLES',\n",
       " 'SHOULDER DEFECT',\n",
       " 'UNKNOWN',\n",
       " 'AMENDED',\n",
       " 'NOT ON SCENE (DESK REPORT)',\n",
       " 'INJURY AND / OR TOW DUE TO CRASH',\n",
       " '$500 OR LESS',\n",
       " '$501 - $1,500',\n",
       " 'ANIMAL',\n",
       " 'BICYCLE ADVANCING LEGALLY ON RED LIGHT',\n",
       " 'CELL PHONE USE OTHER THAN TEXTING',\n",
       " 'DISREGARDING OTHER TRAFFIC SIGNS',\n",
       " 'DISREGARDING ROAD MARKINGS',\n",
       " 'DISREGARDING STOP SIGN',\n",
       " 'DISREGARDING TRAFFIC SIGNALS',\n",
       " 'DISREGARDING YIELD SIGN',\n",
       " 'DISTRACTION - FROM INSIDE VEHICLE',\n",
       " 'DISTRACTION - FROM OUTSIDE VEHICLE',\n",
       " 'DISTRACTION - OTHER ELECTRONIC DEVICE (NAVIGATION DEVICE, DVD PLAYER, ETC.)',\n",
       " 'DRIVING ON WRONG SIDE/WRONG WAY',\n",
       " 'DRIVING SKILLS/KNOWLEDGE/EXPERIENCE',\n",
       " 'EQUIPMENT - VEHICLE CONDITION',\n",
       " 'EVASIVE ACTION DUE TO ANIMAL, OBJECT, NONMOTORIST',\n",
       " 'EXCEEDING AUTHORIZED SPEED LIMIT',\n",
       " 'EXCEEDING SAFE SPEED FOR CONDITIONS',\n",
       " 'FAILING TO REDUCE SPEED TO AVOID CRASH',\n",
       " 'FAILING TO YIELD RIGHT-OF-WAY',\n",
       " 'FOLLOWING TOO CLOSELY',\n",
       " 'HAD BEEN DRINKING (USE WHEN ARREST IS NOT MADE)',\n",
       " 'IMPROPER BACKING',\n",
       " 'IMPROPER LANE USAGE',\n",
       " 'IMPROPER OVERTAKING/PASSING',\n",
       " 'IMPROPER TURNING/NO SIGNAL',\n",
       " 'MOTORCYCLE ADVANCING LEGALLY ON RED LIGHT',\n",
       " 'NOT APPLICABLE',\n",
       " 'OBSTRUCTED CROSSWALKS',\n",
       " 'OPERATING VEHICLE IN ERRATIC, RECKLESS, CARELESS, NEGLIGENT OR AGGRESSIVE MANNER',\n",
       " 'PASSING STOPPED SCHOOL BUS',\n",
       " 'PHYSICAL CONDITION OF DRIVER',\n",
       " 'RELATED TO BUS STOP',\n",
       " 'ROAD CONSTRUCTION/MAINTENANCE',\n",
       " 'ROAD ENGINEERING/SURFACE/MARKING DEFECTS',\n",
       " 'TEXTING',\n",
       " 'TURNING RIGHT ON RED',\n",
       " 'UNABLE TO DETERMINE',\n",
       " 'UNDER THE INFLUENCE OF ALCOHOL/DRUGS (USE WHEN ARREST IS EFFECTED)',\n",
       " 'VISION OBSCURED (SIGNS, TREE LIMBS, BUILDINGS, ETC.)',\n",
       " 'ANIMAL',\n",
       " 'BICYCLE ADVANCING LEGALLY ON RED LIGHT',\n",
       " 'CELL PHONE USE OTHER THAN TEXTING',\n",
       " 'DISREGARDING OTHER TRAFFIC SIGNS',\n",
       " 'DISREGARDING ROAD MARKINGS',\n",
       " 'DISREGARDING STOP SIGN',\n",
       " 'DISREGARDING TRAFFIC SIGNALS',\n",
       " 'DISREGARDING YIELD SIGN',\n",
       " 'DISTRACTION - FROM INSIDE VEHICLE',\n",
       " 'DISTRACTION - FROM OUTSIDE VEHICLE',\n",
       " 'DISTRACTION - OTHER ELECTRONIC DEVICE (NAVIGATION DEVICE, DVD PLAYER, ETC.)',\n",
       " 'DRIVING ON WRONG SIDE/WRONG WAY',\n",
       " 'DRIVING SKILLS/KNOWLEDGE/EXPERIENCE',\n",
       " 'EQUIPMENT - VEHICLE CONDITION',\n",
       " 'EVASIVE ACTION DUE TO ANIMAL, OBJECT, NONMOTORIST',\n",
       " 'EXCEEDING AUTHORIZED SPEED LIMIT',\n",
       " 'EXCEEDING SAFE SPEED FOR CONDITIONS',\n",
       " 'FAILING TO REDUCE SPEED TO AVOID CRASH',\n",
       " 'FAILING TO YIELD RIGHT-OF-WAY',\n",
       " 'FOLLOWING TOO CLOSELY',\n",
       " 'HAD BEEN DRINKING (USE WHEN ARREST IS NOT MADE)',\n",
       " 'IMPROPER BACKING',\n",
       " 'IMPROPER LANE USAGE',\n",
       " 'IMPROPER OVERTAKING/PASSING',\n",
       " 'IMPROPER TURNING/NO SIGNAL',\n",
       " 'MOTORCYCLE ADVANCING LEGALLY ON RED LIGHT',\n",
       " 'NOT APPLICABLE',\n",
       " 'OBSTRUCTED CROSSWALKS',\n",
       " 'OPERATING VEHICLE IN ERRATIC, RECKLESS, CARELESS, NEGLIGENT OR AGGRESSIVE MANNER',\n",
       " 'PASSING STOPPED SCHOOL BUS',\n",
       " 'PHYSICAL CONDITION OF DRIVER',\n",
       " 'RELATED TO BUS STOP',\n",
       " 'ROAD CONSTRUCTION/MAINTENANCE',\n",
       " 'ROAD ENGINEERING/SURFACE/MARKING DEFECTS',\n",
       " 'TEXTING',\n",
       " 'TURNING RIGHT ON RED',\n",
       " 'UNABLE TO DETERMINE',\n",
       " 'UNDER THE INFLUENCE OF ALCOHOL/DRUGS (USE WHEN ARREST IS EFFECTED)',\n",
       " 'VISION OBSCURED (SIGNS, TREE LIMBS, BUILDINGS, ETC.)',\n",
       " 'E',\n",
       " 'N',\n",
       " 'S',\n",
       " 1,\n",
       " 2,\n",
       " 3,\n",
       " 4,\n",
       " 5,\n",
       " 6,\n",
       " 7,\n",
       " 8,\n",
       " 9,\n",
       " 10,\n",
       " 11,\n",
       " 'INCAPACITATING INJURY/FATAL',\n",
       " 'NO INDICATION OF INJURY',\n",
       " 0.0,\n",
       " 1.0,\n",
       " 2.0,\n",
       " 3.0,\n",
       " 4.0,\n",
       " 5.0,\n",
       " 6.0,\n",
       " 7.0,\n",
       " 8.0,\n",
       " 9.0,\n",
       " 10.0,\n",
       " 11.0,\n",
       " 13.0,\n",
       " 15.0,\n",
       " 0,\n",
       " 0.0,\n",
       " 1.0,\n",
       " 2.0,\n",
       " 3.0,\n",
       " 4.0,\n",
       " 5.0,\n",
       " 0.0,\n",
       " 1.0,\n",
       " 2.0,\n",
       " 3.0,\n",
       " 4.0,\n",
       " 5.0,\n",
       " 6.0,\n",
       " 7.0,\n",
       " 10.0,\n",
       " 14.0,\n",
       " 0.0,\n",
       " 1.0,\n",
       " 2.0,\n",
       " 3.0,\n",
       " 4.0,\n",
       " 5.0,\n",
       " 6.0,\n",
       " 7.0,\n",
       " 8.0,\n",
       " 0.0,\n",
       " 1.0,\n",
       " 2.0,\n",
       " 3.0,\n",
       " 4.0,\n",
       " 5.0,\n",
       " 6.0,\n",
       " 7.0,\n",
       " 8.0,\n",
       " 9.0,\n",
       " 10.0,\n",
       " 11.0,\n",
       " 12.0,\n",
       " 13.0,\n",
       " 14.0,\n",
       " 16.0,\n",
       " 28.0,\n",
       " 37.0,\n",
       " 0,\n",
       " 1,\n",
       " 2,\n",
       " 3,\n",
       " 4,\n",
       " 5,\n",
       " 6,\n",
       " 7,\n",
       " 8,\n",
       " 9,\n",
       " 10,\n",
       " 11,\n",
       " 12,\n",
       " 13,\n",
       " 14,\n",
       " 15,\n",
       " 16,\n",
       " 17,\n",
       " 18,\n",
       " 19,\n",
       " 20,\n",
       " 21,\n",
       " 22,\n",
       " 1,\n",
       " 2,\n",
       " 3,\n",
       " 4,\n",
       " 5,\n",
       " 6,\n",
       " 1,\n",
       " 2,\n",
       " 3,\n",
       " 4,\n",
       " 5,\n",
       " 6,\n",
       " 7,\n",
       " 8,\n",
       " 9,\n",
       " 10,\n",
       " 11,\n",
       " 0,\n",
       " 0,\n",
       " 'DRIVER',\n",
       " 'F',\n",
       " 'M',\n",
       " 0.0,\n",
       " 1.0,\n",
       " 2.0,\n",
       " 3.0,\n",
       " 4.0,\n",
       " 6.0,\n",
       " 8.0,\n",
       " 11.0,\n",
       " 12.0,\n",
       " 13.0,\n",
       " 14.0,\n",
       " 15.0,\n",
       " 16.0,\n",
       " 17.0,\n",
       " 18.0,\n",
       " 19.0,\n",
       " 20.0,\n",
       " 21.0,\n",
       " 22.0,\n",
       " 23.0,\n",
       " 24.0,\n",
       " 25.0,\n",
       " 26.0,\n",
       " 27.0,\n",
       " 28.0,\n",
       " 29.0,\n",
       " 30.0,\n",
       " 31.0,\n",
       " 32.0,\n",
       " 33.0,\n",
       " 34.0,\n",
       " 35.0,\n",
       " 36.0,\n",
       " 37.0,\n",
       " 38.0,\n",
       " 39.0,\n",
       " 40.0,\n",
       " 41.0,\n",
       " 42.0,\n",
       " 43.0,\n",
       " 44.0,\n",
       " 45.0,\n",
       " 46.0,\n",
       " 47.0,\n",
       " 48.0,\n",
       " 49.0,\n",
       " 50.0,\n",
       " 51.0,\n",
       " 52.0,\n",
       " 53.0,\n",
       " 54.0,\n",
       " 55.0,\n",
       " 56.0,\n",
       " 57.0,\n",
       " 58.0,\n",
       " 59.0,\n",
       " 60.0,\n",
       " 61.0,\n",
       " 62.0,\n",
       " 63.0,\n",
       " 64.0,\n",
       " 65.0,\n",
       " 66.0,\n",
       " 67.0,\n",
       " 68.0,\n",
       " 69.0,\n",
       " 70.0,\n",
       " 71.0,\n",
       " 72.0,\n",
       " 73.0,\n",
       " 74.0,\n",
       " 75.0,\n",
       " 76.0,\n",
       " 77.0,\n",
       " 78.0,\n",
       " 79.0,\n",
       " 80.0,\n",
       " 81.0,\n",
       " 82.0,\n",
       " 83.0,\n",
       " 84.0,\n",
       " 85.0,\n",
       " 86.0,\n",
       " 87.0,\n",
       " 88.0,\n",
       " 89.0,\n",
       " 90.0,\n",
       " 91.0,\n",
       " 92.0,\n",
       " 93.0,\n",
       " 94.0,\n",
       " 95.0,\n",
       " 96.0,\n",
       " 98.0,\n",
       " 99.0,\n",
       " 'DOT COMPLIANT MOTORCYCLE HELMET',\n",
       " 'HELMET NOT USED',\n",
       " 'HELMET USED',\n",
       " 'NONE PRESENT',\n",
       " 'NOT DOT COMPLIANT MOTORCYCLE HELMET',\n",
       " 'SAFETY BELT NOT USED',\n",
       " 'SAFETY BELT USED',\n",
       " 'SHOULD/LAP BELT USED IMPROPERLY',\n",
       " 'USAGE UNKNOWN',\n",
       " 'DEPLOYED OTHER (KNEE, AIR, BELT, ETC.)',\n",
       " 'DEPLOYED, COMBINATION',\n",
       " 'DEPLOYED, FRONT',\n",
       " 'DEPLOYED, SIDE',\n",
       " 'DEPLOYMENT UNKNOWN',\n",
       " 'DID NOT DEPLOY',\n",
       " 'NONE',\n",
       " 'PARTIALLY EJECTED',\n",
       " 'TOTALLY EJECTED',\n",
       " 'TRAPPED/EXTRICATED',\n",
       " 'FATAL',\n",
       " 'INCAPACITATING INJURY',\n",
       " 'NO INDICATION OF INJURY',\n",
       " 'NONINCAPACITATING INJURY',\n",
       " 'CELL PHONE USE OTHER THAN TEXTING',\n",
       " 'DISREGARDED CONTROL DEVICES',\n",
       " 'EMERGENCY VEHICLE ON CALL',\n",
       " 'EVADING POLICE VEHICLE',\n",
       " 'FAILED TO YIELD',\n",
       " 'FOLLOWED TOO CLOSELY',\n",
       " 'IMPROPER BACKING',\n",
       " 'IMPROPER LANE CHANGE',\n",
       " 'IMPROPER PARKING',\n",
       " 'IMPROPER PASSING',\n",
       " 'IMPROPER TURN',\n",
       " 'LICENSE RESTRICTIONS',\n",
       " 'NONE',\n",
       " 'OTHER',\n",
       " 'OVERCORRECTED',\n",
       " 'STOPPED SCHOOL BUS',\n",
       " 'TEXTING',\n",
       " 'TOO FAST FOR CONDITIONS',\n",
       " 'UNKNOWN',\n",
       " 'BLINDED - HEADLIGHTS',\n",
       " 'BLINDED - SUNLIGHT',\n",
       " 'BLOWING MATERIALS',\n",
       " 'BUILDINGS',\n",
       " 'EMBANKMENT',\n",
       " 'HILLCREST',\n",
       " 'MOVING VEHICLES',\n",
       " 'NOT OBSCURED',\n",
       " 'OTHER',\n",
       " 'PARKED VEHICLES',\n",
       " 'TREES, PLANTS',\n",
       " 'UNKNOWN',\n",
       " 'EMOTIONAL',\n",
       " 'FATIGUED/ASLEEP',\n",
       " 'HAD BEEN DRINKING',\n",
       " 'ILLNESS/FAINTED',\n",
       " 'IMPAIRED - ALCOHOL',\n",
       " 'IMPAIRED - ALCOHOL AND DRUGS',\n",
       " 'IMPAIRED - DRUGS',\n",
       " 'MEDICATED',\n",
       " 'NORMAL',\n",
       " 'OTHER',\n",
       " 'REMOVED BY EMS',\n",
       " 'TEST NOT OFFERED',\n",
       " 'TEST PERFORMED, RESULTS UNKNOWN',\n",
       " 'TEST REFUSED']"
      ]
     },
     "execution_count": 186,
     "metadata": {},
     "output_type": "execute_result"
    }
   ],
   "source": [
    "list(df_a4.columns)"
   ]
  },
  {
   "cell_type": "code",
   "execution_count": null,
   "metadata": {},
   "outputs": [],
   "source": []
  },
  {
   "cell_type": "code",
   "execution_count": null,
   "metadata": {},
   "outputs": [],
   "source": []
  },
  {
   "cell_type": "code",
   "execution_count": null,
   "metadata": {},
   "outputs": [],
   "source": []
  },
  {
   "cell_type": "code",
   "execution_count": 187,
   "metadata": {},
   "outputs": [
    {
     "data": {
      "text/plain": [
       "909920        NO INDICATION OF INJURY\n",
       "909921        NO INDICATION OF INJURY\n",
       "909922        NO INDICATION OF INJURY\n",
       "909923        NO INDICATION OF INJURY\n",
       "971367        NO INDICATION OF INJURY\n",
       "                     ...             \n",
       "650928    INCAPACITATING INJURY/FATAL\n",
       "650926    INCAPACITATING INJURY/FATAL\n",
       "650927    INCAPACITATING INJURY/FATAL\n",
       "515492    INCAPACITATING INJURY/FATAL\n",
       "767858    INCAPACITATING INJURY/FATAL\n",
       "Name: MOST_SEVERE_INJURY, Length: 86744, dtype: object"
      ]
     },
     "execution_count": 187,
     "metadata": {},
     "output_type": "execute_result"
    }
   ],
   "source": [
    "df['MOST_SEVERE_INJURY']"
   ]
  },
  {
   "cell_type": "code",
   "execution_count": null,
   "metadata": {},
   "outputs": [],
   "source": []
  },
  {
   "cell_type": "code",
   "execution_count": null,
   "metadata": {},
   "outputs": [],
   "source": []
  },
  {
   "cell_type": "code",
   "execution_count": null,
   "metadata": {},
   "outputs": [],
   "source": []
  },
  {
   "cell_type": "code",
   "execution_count": null,
   "metadata": {},
   "outputs": [],
   "source": []
  },
  {
   "cell_type": "code",
   "execution_count": null,
   "metadata": {},
   "outputs": [],
   "source": []
  },
  {
   "cell_type": "code",
   "execution_count": null,
   "metadata": {},
   "outputs": [],
   "source": []
  },
  {
   "cell_type": "code",
   "execution_count": 188,
   "metadata": {},
   "outputs": [
    {
     "data": {
      "text/plain": [
       "(86744, 68)"
      ]
     },
     "execution_count": 188,
     "metadata": {},
     "output_type": "execute_result"
    }
   ],
   "source": [
    "df.shape"
   ]
  },
  {
   "cell_type": "code",
   "execution_count": 189,
   "metadata": {},
   "outputs": [],
   "source": [
    "ds = df.drop(columns=['MOST_SEVERE_INJURY'])"
   ]
  },
  {
   "cell_type": "code",
   "execution_count": 190,
   "metadata": {},
   "outputs": [
    {
     "data": {
      "text/plain": [
       "(86744, 67)"
      ]
     },
     "execution_count": 190,
     "metadata": {},
     "output_type": "execute_result"
    }
   ],
   "source": [
    "ds.shape"
   ]
  },
  {
   "cell_type": "code",
   "execution_count": 191,
   "metadata": {},
   "outputs": [],
   "source": [
    "def shallwedelete(data):\n",
    "    deletar = []\n",
    "    for x in data.columns:\n",
    "        print(\"Unique Values: {} :  {} Column Name.\".format(len(data[x].value_counts()), x))\n",
    "        if len(data[x].value_counts()) > 50:\n",
    "            deletar.append(x)"
   ]
  },
  {
   "cell_type": "code",
   "execution_count": 192,
   "metadata": {},
   "outputs": [
    {
     "name": "stdout",
     "output_type": "stream",
     "text": [
      "Unique Values: 51295 :  CRASH_UNIT_ID Column Name.\n",
      "Unique Values: 28054 :  CRASH_RECORD_ID Column Name.\n",
      "Unique Values: 12 :  UNIT_NO Column Name.\n",
      "Unique Values: 5 :  UNIT_TYPE Column Name.\n",
      "Unique Values: 242 :  MAKE Column Name.\n",
      "Unique Values: 1124 :  MODEL Column Name.\n",
      "Unique Values: 71 :  VEHICLE_YEAR Column Name.\n",
      "Unique Values: 14 :  VEHICLE_DEFECT Column Name.\n",
      "Unique Values: 20 :  VEHICLE_TYPE Column Name.\n",
      "Unique Values: 23 :  VEHICLE_USE Column Name.\n",
      "Unique Values: 9 :  TRAVEL_DIRECTION Column Name.\n",
      "Unique Values: 28 :  MANEUVER Column Name.\n",
      "Unique Values: 20 :  OCCUPANT_CNT Column Name.\n",
      "Unique Values: 14 :  FIRST_CONTACT_POINT Column Name.\n",
      "Unique Values: 22 :  POSTED_SPEED_LIMIT Column Name.\n",
      "Unique Values: 19 :  TRAFFIC_CONTROL_DEVICE Column Name.\n",
      "Unique Values: 8 :  DEVICE_CONDITION Column Name.\n",
      "Unique Values: 6 :  WEATHER_CONDITION Column Name.\n",
      "Unique Values: 6 :  LIGHTING_CONDITION Column Name.\n",
      "Unique Values: 18 :  FIRST_CRASH_TYPE Column Name.\n",
      "Unique Values: 20 :  TRAFFICWAY_TYPE Column Name.\n",
      "Unique Values: 6 :  ALIGNMENT Column Name.\n",
      "Unique Values: 7 :  ROADWAY_SURFACE_COND Column Name.\n",
      "Unique Values: 7 :  ROAD_DEFECT Column Name.\n",
      "Unique Values: 3 :  REPORT_TYPE Column Name.\n",
      "Unique Values: 2 :  CRASH_TYPE Column Name.\n",
      "Unique Values: 3 :  DAMAGE Column Name.\n",
      "Unique Values: 25237 :  DATE_POLICE_NOTIFIED Column Name.\n",
      "Unique Values: 40 :  PRIM_CONTRIBUTORY_CAUSE Column Name.\n",
      "Unique Values: 40 :  SEC_CONTRIBUTORY_CAUSE Column Name.\n",
      "Unique Values: 5854 :  STREET_NO Column Name.\n",
      "Unique Values: 4 :  STREET_DIRECTION Column Name.\n",
      "Unique Values: 971 :  STREET_NAME Column Name.\n",
      "Unique Values: 271 :  BEAT_OF_OCCURRENCE Column Name.\n",
      "Unique Values: 12 :  NUM_UNITS Column Name.\n",
      "Unique Values: 15 :  INJURIES_TOTAL Column Name.\n",
      "Unique Values: 2 :  INJURIES_FATAL Column Name.\n",
      "Unique Values: 7 :  INJURIES_INCAPACITATING Column Name.\n",
      "Unique Values: 11 :  INJURIES_NON_INCAPACITATING Column Name.\n",
      "Unique Values: 10 :  INJURIES_REPORTED_NOT_EVIDENT Column Name.\n",
      "Unique Values: 19 :  INJURIES_NO_INDICATION Column Name.\n",
      "Unique Values: 1 :  INJURIES_UNKNOWN Column Name.\n",
      "Unique Values: 24 :  CRASH_HOUR Column Name.\n",
      "Unique Values: 7 :  CRASH_DAY_OF_WEEK Column Name.\n",
      "Unique Values: 12 :  CRASH_MONTH Column Name.\n",
      "Unique Values: 22470 :  LATITUDE Column Name.\n",
      "Unique Values: 22469 :  LONGITUDE Column Name.\n",
      "Unique Values: 23872 :  DATE_ACCIDENT Column Name.\n",
      "Unique Values: 2 :  IS_A_HOLIDAY Column Name.\n",
      "Unique Values: 2 :  HOLIDAY_NAME Column Name.\n",
      "Unique Values: 44305 :  PERSON_ID Column Name.\n",
      "Unique Values: 2 :  PERSON_TYPE Column Name.\n",
      "Unique Values: 28054 :  RD_NO Column Name.\n",
      "Unique Values: 44305 :  VEHICLE_ID Column Name.\n",
      "Unique Values: 23872 :  CRASH_DATE Column Name.\n",
      "Unique Values: 1568 :  CITY Column Name.\n",
      "Unique Values: 51 :  STATE Column Name.\n",
      "Unique Values: 3 :  SEX Column Name.\n",
      "Unique Values: 96 :  AGE Column Name.\n",
      "Unique Values: 10 :  SAFETY_EQUIPMENT Column Name.\n",
      "Unique Values: 7 :  AIRBAG_DEPLOYED Column Name.\n",
      "Unique Values: 5 :  EJECTION Column Name.\n",
      "Unique Values: 5 :  INJURY_CLASSIFICATION Column Name.\n",
      "Unique Values: 20 :  DRIVER_ACTION Column Name.\n",
      "Unique Values: 13 :  DRIVER_VISION Column Name.\n",
      "Unique Values: 12 :  PHYSICAL_CONDITION Column Name.\n",
      "Unique Values: 4 :  BAC_RESULT Column Name.\n"
     ]
    }
   ],
   "source": [
    "deletar = []\n",
    "for x in ds.columns:\n",
    "    if len(ds[x].value_counts()) > 50:\n",
    "            deletar.append(x)"
   ]
  },
  {
   "cell_type": "code",
   "execution_count": 193,
   "metadata": {},
   "outputs": [
    {
     "data": {
      "text/plain": [
       "['CRASH_UNIT_ID',\n",
       " 'CRASH_RECORD_ID',\n",
       " 'MAKE',\n",
       " 'MODEL',\n",
       " 'VEHICLE_YEAR',\n",
       " 'DATE_POLICE_NOTIFIED',\n",
       " 'STREET_NO',\n",
       " 'STREET_NAME',\n",
       " 'BEAT_OF_OCCURRENCE',\n",
       " 'LATITUDE',\n",
       " 'LONGITUDE',\n",
       " 'DATE_ACCIDENT',\n",
       " 'PERSON_ID',\n",
       " 'RD_NO',\n",
       " 'VEHICLE_ID',\n",
       " 'CRASH_DATE',\n",
       " 'CITY',\n",
       " 'STATE',\n",
       " 'AGE']"
      ]
     },
     "execution_count": 193,
     "metadata": {},
     "output_type": "execute_result"
    }
   ],
   "source": [
    "deletar"
   ]
  },
  {
   "cell_type": "code",
   "execution_count": 194,
   "metadata": {},
   "outputs": [],
   "source": [
    "ds1 = ds.drop(columns=['CRASH_UNIT_ID',\n",
    " 'CRASH_RECORD_ID',\n",
    " 'MAKE',\n",
    " 'MODEL',\n",
    " 'VEHICLE_YEAR',\n",
    " 'DATE_POLICE_NOTIFIED',\n",
    " 'STREET_NO',\n",
    " 'STREET_NAME',\n",
    " 'BEAT_OF_OCCURRENCE',\n",
    " 'LATITUDE',\n",
    " 'LONGITUDE',\n",
    " 'DATE_ACCIDENT',\n",
    " 'PERSON_ID',\n",
    " 'RD_NO',\n",
    " 'VEHICLE_ID',\n",
    " 'CRASH_DATE',\n",
    " 'CITY',\n",
    " 'AGE'])"
   ]
  },
  {
   "cell_type": "code",
   "execution_count": 195,
   "metadata": {
    "scrolled": true
   },
   "outputs": [
    {
     "data": {
      "text/plain": [
       "Index(['UNIT_NO', 'UNIT_TYPE', 'VEHICLE_DEFECT', 'VEHICLE_TYPE', 'VEHICLE_USE',\n",
       "       'TRAVEL_DIRECTION', 'MANEUVER', 'OCCUPANT_CNT', 'FIRST_CONTACT_POINT',\n",
       "       'POSTED_SPEED_LIMIT', 'TRAFFIC_CONTROL_DEVICE', 'DEVICE_CONDITION',\n",
       "       'WEATHER_CONDITION', 'LIGHTING_CONDITION', 'FIRST_CRASH_TYPE',\n",
       "       'TRAFFICWAY_TYPE', 'ALIGNMENT', 'ROADWAY_SURFACE_COND', 'ROAD_DEFECT',\n",
       "       'REPORT_TYPE', 'CRASH_TYPE', 'DAMAGE', 'PRIM_CONTRIBUTORY_CAUSE',\n",
       "       'SEC_CONTRIBUTORY_CAUSE', 'STREET_DIRECTION', 'NUM_UNITS',\n",
       "       'INJURIES_TOTAL', 'INJURIES_FATAL', 'INJURIES_INCAPACITATING',\n",
       "       'INJURIES_NON_INCAPACITATING', 'INJURIES_REPORTED_NOT_EVIDENT',\n",
       "       'INJURIES_NO_INDICATION', 'INJURIES_UNKNOWN', 'CRASH_HOUR',\n",
       "       'CRASH_DAY_OF_WEEK', 'CRASH_MONTH', 'IS_A_HOLIDAY', 'HOLIDAY_NAME',\n",
       "       'PERSON_TYPE', 'STATE', 'SEX', 'SAFETY_EQUIPMENT', 'AIRBAG_DEPLOYED',\n",
       "       'EJECTION', 'INJURY_CLASSIFICATION', 'DRIVER_ACTION', 'DRIVER_VISION',\n",
       "       'PHYSICAL_CONDITION', 'BAC_RESULT'],\n",
       "      dtype='object')"
      ]
     },
     "execution_count": 195,
     "metadata": {},
     "output_type": "execute_result"
    }
   ],
   "source": [
    "ds1.columns"
   ]
  },
  {
   "cell_type": "code",
   "execution_count": 196,
   "metadata": {},
   "outputs": [],
   "source": [
    "ds1 = ds1.drop(columns=['INJURIES_TOTAL', 'INJURIES_FATAL', 'INJURIES_INCAPACITATING',\n",
    "       'INJURIES_NON_INCAPACITATING', 'INJURIES_REPORTED_NOT_EVIDENT',\n",
    "       'INJURIES_NO_INDICATION', 'INJURIES_UNKNOWN'])"
   ]
  },
  {
   "cell_type": "code",
   "execution_count": 197,
   "metadata": {},
   "outputs": [],
   "source": [
    "ds1 = ds1.drop(columns=['INJURY_CLASSIFICATION'])"
   ]
  },
  {
   "cell_type": "code",
   "execution_count": 198,
   "metadata": {},
   "outputs": [
    {
     "data": {
      "text/html": [
       "<div>\n",
       "<style scoped>\n",
       "    .dataframe tbody tr th:only-of-type {\n",
       "        vertical-align: middle;\n",
       "    }\n",
       "\n",
       "    .dataframe tbody tr th {\n",
       "        vertical-align: top;\n",
       "    }\n",
       "\n",
       "    .dataframe thead th {\n",
       "        text-align: right;\n",
       "    }\n",
       "</style>\n",
       "<table border=\"1\" class=\"dataframe\">\n",
       "  <thead>\n",
       "    <tr style=\"text-align: right;\">\n",
       "      <th></th>\n",
       "      <th>UNIT_NO</th>\n",
       "      <th>UNIT_TYPE</th>\n",
       "      <th>VEHICLE_DEFECT</th>\n",
       "      <th>VEHICLE_TYPE</th>\n",
       "      <th>VEHICLE_USE</th>\n",
       "      <th>TRAVEL_DIRECTION</th>\n",
       "      <th>MANEUVER</th>\n",
       "      <th>OCCUPANT_CNT</th>\n",
       "      <th>FIRST_CONTACT_POINT</th>\n",
       "      <th>POSTED_SPEED_LIMIT</th>\n",
       "      <th>...</th>\n",
       "      <th>PERSON_TYPE</th>\n",
       "      <th>STATE</th>\n",
       "      <th>SEX</th>\n",
       "      <th>SAFETY_EQUIPMENT</th>\n",
       "      <th>AIRBAG_DEPLOYED</th>\n",
       "      <th>EJECTION</th>\n",
       "      <th>DRIVER_ACTION</th>\n",
       "      <th>DRIVER_VISION</th>\n",
       "      <th>PHYSICAL_CONDITION</th>\n",
       "      <th>BAC_RESULT</th>\n",
       "    </tr>\n",
       "  </thead>\n",
       "  <tbody>\n",
       "    <tr>\n",
       "      <th>909920</th>\n",
       "      <td>2</td>\n",
       "      <td>DRIVER</td>\n",
       "      <td>NONE</td>\n",
       "      <td>PASSENGER</td>\n",
       "      <td>PERSONAL</td>\n",
       "      <td>W</td>\n",
       "      <td>STRAIGHT AHEAD</td>\n",
       "      <td>1.0</td>\n",
       "      <td>REAR-RIGHT</td>\n",
       "      <td>30</td>\n",
       "      <td>...</td>\n",
       "      <td>DRIVER</td>\n",
       "      <td>IL</td>\n",
       "      <td>F</td>\n",
       "      <td>SAFETY BELT USED</td>\n",
       "      <td>DID NOT DEPLOY</td>\n",
       "      <td>NONE</td>\n",
       "      <td>UNKNOWN</td>\n",
       "      <td>UNKNOWN</td>\n",
       "      <td>NORMAL</td>\n",
       "      <td>TEST NOT OFFERED</td>\n",
       "    </tr>\n",
       "    <tr>\n",
       "      <th>909921</th>\n",
       "      <td>2</td>\n",
       "      <td>DRIVER</td>\n",
       "      <td>NONE</td>\n",
       "      <td>PASSENGER</td>\n",
       "      <td>PERSONAL</td>\n",
       "      <td>W</td>\n",
       "      <td>STRAIGHT AHEAD</td>\n",
       "      <td>1.0</td>\n",
       "      <td>REAR-RIGHT</td>\n",
       "      <td>30</td>\n",
       "      <td>...</td>\n",
       "      <td>DRIVER</td>\n",
       "      <td>IL</td>\n",
       "      <td>F</td>\n",
       "      <td>SAFETY BELT USED</td>\n",
       "      <td>DID NOT DEPLOY</td>\n",
       "      <td>NONE</td>\n",
       "      <td>NONE</td>\n",
       "      <td>NOT OBSCURED</td>\n",
       "      <td>NORMAL</td>\n",
       "      <td>TEST NOT OFFERED</td>\n",
       "    </tr>\n",
       "    <tr>\n",
       "      <th>909922</th>\n",
       "      <td>2</td>\n",
       "      <td>DRIVER</td>\n",
       "      <td>NONE</td>\n",
       "      <td>VAN/MINI-VAN</td>\n",
       "      <td>PERSONAL</td>\n",
       "      <td>E</td>\n",
       "      <td>TURNING LEFT</td>\n",
       "      <td>1.0</td>\n",
       "      <td>SIDE-RIGHT</td>\n",
       "      <td>30</td>\n",
       "      <td>...</td>\n",
       "      <td>DRIVER</td>\n",
       "      <td>IL</td>\n",
       "      <td>M</td>\n",
       "      <td>SAFETY BELT USED</td>\n",
       "      <td>NOT APPLICABLE</td>\n",
       "      <td>NONE</td>\n",
       "      <td>NONE</td>\n",
       "      <td>NOT OBSCURED</td>\n",
       "      <td>NORMAL</td>\n",
       "      <td>TEST NOT OFFERED</td>\n",
       "    </tr>\n",
       "    <tr>\n",
       "      <th>909923</th>\n",
       "      <td>2</td>\n",
       "      <td>DRIVER</td>\n",
       "      <td>NONE</td>\n",
       "      <td>VAN/MINI-VAN</td>\n",
       "      <td>PERSONAL</td>\n",
       "      <td>E</td>\n",
       "      <td>TURNING LEFT</td>\n",
       "      <td>1.0</td>\n",
       "      <td>SIDE-RIGHT</td>\n",
       "      <td>30</td>\n",
       "      <td>...</td>\n",
       "      <td>DRIVER</td>\n",
       "      <td>MI</td>\n",
       "      <td>M</td>\n",
       "      <td>SAFETY BELT USED</td>\n",
       "      <td>DID NOT DEPLOY</td>\n",
       "      <td>NONE</td>\n",
       "      <td>DISREGARDED CONTROL DEVICES</td>\n",
       "      <td>NOT OBSCURED</td>\n",
       "      <td>NORMAL</td>\n",
       "      <td>TEST NOT OFFERED</td>\n",
       "    </tr>\n",
       "    <tr>\n",
       "      <th>971367</th>\n",
       "      <td>2</td>\n",
       "      <td>DRIVER</td>\n",
       "      <td>UNKNOWN</td>\n",
       "      <td>PASSENGER</td>\n",
       "      <td>PERSONAL</td>\n",
       "      <td>S</td>\n",
       "      <td>UNKNOWN/NA</td>\n",
       "      <td>2.0</td>\n",
       "      <td>REAR-LEFT</td>\n",
       "      <td>35</td>\n",
       "      <td>...</td>\n",
       "      <td>DRIVER</td>\n",
       "      <td>IL</td>\n",
       "      <td>M</td>\n",
       "      <td>USAGE UNKNOWN</td>\n",
       "      <td>DID NOT DEPLOY</td>\n",
       "      <td>NONE</td>\n",
       "      <td>UNKNOWN</td>\n",
       "      <td>UNKNOWN</td>\n",
       "      <td>UNKNOWN</td>\n",
       "      <td>TEST NOT OFFERED</td>\n",
       "    </tr>\n",
       "  </tbody>\n",
       "</table>\n",
       "<p>5 rows × 41 columns</p>\n",
       "</div>"
      ],
      "text/plain": [
       "        UNIT_NO UNIT_TYPE VEHICLE_DEFECT  VEHICLE_TYPE VEHICLE_USE  \\\n",
       "909920        2    DRIVER           NONE     PASSENGER    PERSONAL   \n",
       "909921        2    DRIVER           NONE     PASSENGER    PERSONAL   \n",
       "909922        2    DRIVER           NONE  VAN/MINI-VAN    PERSONAL   \n",
       "909923        2    DRIVER           NONE  VAN/MINI-VAN    PERSONAL   \n",
       "971367        2    DRIVER        UNKNOWN     PASSENGER    PERSONAL   \n",
       "\n",
       "       TRAVEL_DIRECTION        MANEUVER  OCCUPANT_CNT FIRST_CONTACT_POINT  \\\n",
       "909920                W  STRAIGHT AHEAD           1.0          REAR-RIGHT   \n",
       "909921                W  STRAIGHT AHEAD           1.0          REAR-RIGHT   \n",
       "909922                E    TURNING LEFT           1.0          SIDE-RIGHT   \n",
       "909923                E    TURNING LEFT           1.0          SIDE-RIGHT   \n",
       "971367                S      UNKNOWN/NA           2.0           REAR-LEFT   \n",
       "\n",
       "        POSTED_SPEED_LIMIT  ... PERSON_TYPE STATE SEX  SAFETY_EQUIPMENT  \\\n",
       "909920                  30  ...      DRIVER    IL   F  SAFETY BELT USED   \n",
       "909921                  30  ...      DRIVER    IL   F  SAFETY BELT USED   \n",
       "909922                  30  ...      DRIVER    IL   M  SAFETY BELT USED   \n",
       "909923                  30  ...      DRIVER    MI   M  SAFETY BELT USED   \n",
       "971367                  35  ...      DRIVER    IL   M     USAGE UNKNOWN   \n",
       "\n",
       "       AIRBAG_DEPLOYED EJECTION                DRIVER_ACTION DRIVER_VISION  \\\n",
       "909920  DID NOT DEPLOY     NONE                      UNKNOWN       UNKNOWN   \n",
       "909921  DID NOT DEPLOY     NONE                         NONE  NOT OBSCURED   \n",
       "909922  NOT APPLICABLE     NONE                         NONE  NOT OBSCURED   \n",
       "909923  DID NOT DEPLOY     NONE  DISREGARDED CONTROL DEVICES  NOT OBSCURED   \n",
       "971367  DID NOT DEPLOY     NONE                      UNKNOWN       UNKNOWN   \n",
       "\n",
       "       PHYSICAL_CONDITION        BAC_RESULT  \n",
       "909920             NORMAL  TEST NOT OFFERED  \n",
       "909921             NORMAL  TEST NOT OFFERED  \n",
       "909922             NORMAL  TEST NOT OFFERED  \n",
       "909923             NORMAL  TEST NOT OFFERED  \n",
       "971367            UNKNOWN  TEST NOT OFFERED  \n",
       "\n",
       "[5 rows x 41 columns]"
      ]
     },
     "execution_count": 198,
     "metadata": {},
     "output_type": "execute_result"
    }
   ],
   "source": [
    "ds1.head()"
   ]
  },
  {
   "cell_type": "code",
   "execution_count": 199,
   "metadata": {
    "scrolled": false
   },
   "outputs": [
    {
     "data": {
      "text/plain": [
       "UNIT_NO                      int64\n",
       "UNIT_TYPE                   object\n",
       "VEHICLE_DEFECT              object\n",
       "VEHICLE_TYPE                object\n",
       "VEHICLE_USE                 object\n",
       "TRAVEL_DIRECTION            object\n",
       "MANEUVER                    object\n",
       "OCCUPANT_CNT               float64\n",
       "FIRST_CONTACT_POINT         object\n",
       "POSTED_SPEED_LIMIT           int64\n",
       "TRAFFIC_CONTROL_DEVICE      object\n",
       "DEVICE_CONDITION            object\n",
       "WEATHER_CONDITION           object\n",
       "LIGHTING_CONDITION          object\n",
       "FIRST_CRASH_TYPE            object\n",
       "TRAFFICWAY_TYPE             object\n",
       "ALIGNMENT                   object\n",
       "ROADWAY_SURFACE_COND        object\n",
       "ROAD_DEFECT                 object\n",
       "REPORT_TYPE                 object\n",
       "CRASH_TYPE                  object\n",
       "DAMAGE                      object\n",
       "PRIM_CONTRIBUTORY_CAUSE     object\n",
       "SEC_CONTRIBUTORY_CAUSE      object\n",
       "STREET_DIRECTION            object\n",
       "NUM_UNITS                    int64\n",
       "CRASH_HOUR                   int64\n",
       "CRASH_DAY_OF_WEEK            int64\n",
       "CRASH_MONTH                  int64\n",
       "IS_A_HOLIDAY                 int64\n",
       "HOLIDAY_NAME                 int64\n",
       "PERSON_TYPE                 object\n",
       "STATE                       object\n",
       "SEX                         object\n",
       "SAFETY_EQUIPMENT            object\n",
       "AIRBAG_DEPLOYED             object\n",
       "EJECTION                    object\n",
       "DRIVER_ACTION               object\n",
       "DRIVER_VISION               object\n",
       "PHYSICAL_CONDITION          object\n",
       "BAC_RESULT                  object\n",
       "dtype: object"
      ]
     },
     "execution_count": 199,
     "metadata": {},
     "output_type": "execute_result"
    }
   ],
   "source": [
    "ds1.dtypes"
   ]
  },
  {
   "cell_type": "code",
   "execution_count": 200,
   "metadata": {},
   "outputs": [],
   "source": [
    "#'UNIT_TYPE, VEHICLE_DEFECT, VEHICLE_TYPE, VEHICLE_USE, TRAVEL_DIRECTION, MANEUVER, PERSON_TYPE, STATE, SEX, SAFETY_EQUIPMENT,\n"
   ]
  },
  {
   "cell_type": "code",
   "execution_count": 201,
   "metadata": {},
   "outputs": [
    {
     "name": "stdout",
     "output_type": "stream",
     "text": [
      "Dataset shape is:  (86744, 41)\n",
      "Dataset size is:  3556504\n",
      "Dataset columns are:  Index(['UNIT_NO', 'UNIT_TYPE', 'VEHICLE_DEFECT', 'VEHICLE_TYPE', 'VEHICLE_USE',\n",
      "       'TRAVEL_DIRECTION', 'MANEUVER', 'OCCUPANT_CNT', 'FIRST_CONTACT_POINT',\n",
      "       'POSTED_SPEED_LIMIT', 'TRAFFIC_CONTROL_DEVICE', 'DEVICE_CONDITION',\n",
      "       'WEATHER_CONDITION', 'LIGHTING_CONDITION', 'FIRST_CRASH_TYPE',\n",
      "       'TRAFFICWAY_TYPE', 'ALIGNMENT', 'ROADWAY_SURFACE_COND', 'ROAD_DEFECT',\n",
      "       'REPORT_TYPE', 'CRASH_TYPE', 'DAMAGE', 'PRIM_CONTRIBUTORY_CAUSE',\n",
      "       'SEC_CONTRIBUTORY_CAUSE', 'STREET_DIRECTION', 'NUM_UNITS', 'CRASH_HOUR',\n",
      "       'CRASH_DAY_OF_WEEK', 'CRASH_MONTH', 'IS_A_HOLIDAY', 'HOLIDAY_NAME',\n",
      "       'PERSON_TYPE', 'STATE', 'SEX', 'SAFETY_EQUIPMENT', 'AIRBAG_DEPLOYED',\n",
      "       'EJECTION', 'DRIVER_ACTION', 'DRIVER_VISION', 'PHYSICAL_CONDITION',\n",
      "       'BAC_RESULT'],\n",
      "      dtype='object')\n",
      "<class 'pandas.core.frame.DataFrame'>\n",
      "Int64Index: 86744 entries, 909920 to 767858\n",
      "Data columns (total 41 columns):\n",
      " #   Column                   Non-Null Count  Dtype  \n",
      "---  ------                   --------------  -----  \n",
      " 0   UNIT_NO                  86744 non-null  int64  \n",
      " 1   UNIT_TYPE                86744 non-null  object \n",
      " 2   VEHICLE_DEFECT           86744 non-null  object \n",
      " 3   VEHICLE_TYPE             86744 non-null  object \n",
      " 4   VEHICLE_USE              86744 non-null  object \n",
      " 5   TRAVEL_DIRECTION         86744 non-null  object \n",
      " 6   MANEUVER                 86744 non-null  object \n",
      " 7   OCCUPANT_CNT             86744 non-null  float64\n",
      " 8   FIRST_CONTACT_POINT      86744 non-null  object \n",
      " 9   POSTED_SPEED_LIMIT       86744 non-null  int64  \n",
      " 10  TRAFFIC_CONTROL_DEVICE   86744 non-null  object \n",
      " 11  DEVICE_CONDITION         86744 non-null  object \n",
      " 12  WEATHER_CONDITION        86744 non-null  object \n",
      " 13  LIGHTING_CONDITION       86744 non-null  object \n",
      " 14  FIRST_CRASH_TYPE         86744 non-null  object \n",
      " 15  TRAFFICWAY_TYPE          86744 non-null  object \n",
      " 16  ALIGNMENT                86744 non-null  object \n",
      " 17  ROADWAY_SURFACE_COND     86744 non-null  object \n",
      " 18  ROAD_DEFECT              86744 non-null  object \n",
      " 19  REPORT_TYPE              86744 non-null  object \n",
      " 20  CRASH_TYPE               86744 non-null  object \n",
      " 21  DAMAGE                   86744 non-null  object \n",
      " 22  PRIM_CONTRIBUTORY_CAUSE  86744 non-null  object \n",
      " 23  SEC_CONTRIBUTORY_CAUSE   86744 non-null  object \n",
      " 24  STREET_DIRECTION         86744 non-null  object \n",
      " 25  NUM_UNITS                86744 non-null  int64  \n",
      " 26  CRASH_HOUR               86744 non-null  int64  \n",
      " 27  CRASH_DAY_OF_WEEK        86744 non-null  int64  \n",
      " 28  CRASH_MONTH              86744 non-null  int64  \n",
      " 29  IS_A_HOLIDAY             86744 non-null  int64  \n",
      " 30  HOLIDAY_NAME             86744 non-null  int64  \n",
      " 31  PERSON_TYPE              86744 non-null  object \n",
      " 32  STATE                    86744 non-null  object \n",
      " 33  SEX                      86744 non-null  object \n",
      " 34  SAFETY_EQUIPMENT         86744 non-null  object \n",
      " 35  AIRBAG_DEPLOYED          86744 non-null  object \n",
      " 36  EJECTION                 86744 non-null  object \n",
      " 37  DRIVER_ACTION            86744 non-null  object \n",
      " 38  DRIVER_VISION            86744 non-null  object \n",
      " 39  PHYSICAL_CONDITION       86744 non-null  object \n",
      " 40  BAC_RESULT               86744 non-null  object \n",
      "dtypes: float64(1), int64(8), object(32)\n",
      "memory usage: 27.8+ MB\n",
      "Dataset info is:  None\n",
      "Categorical variables are:\n",
      "  ['UNIT_TYPE', 'VEHICLE_DEFECT', 'VEHICLE_TYPE', 'VEHICLE_USE', 'TRAVEL_DIRECTION', 'MANEUVER', 'FIRST_CONTACT_POINT', 'TRAFFIC_CONTROL_DEVICE', 'DEVICE_CONDITION', 'WEATHER_CONDITION', 'LIGHTING_CONDITION', 'FIRST_CRASH_TYPE', 'TRAFFICWAY_TYPE', 'ALIGNMENT', 'ROADWAY_SURFACE_COND', 'ROAD_DEFECT', 'REPORT_TYPE', 'CRASH_TYPE', 'DAMAGE', 'PRIM_CONTRIBUTORY_CAUSE', 'SEC_CONTRIBUTORY_CAUSE', 'STREET_DIRECTION', 'PERSON_TYPE', 'STATE', 'SEX', 'SAFETY_EQUIPMENT', 'AIRBAG_DEPLOYED', 'EJECTION', 'DRIVER_ACTION', 'DRIVER_VISION', 'PHYSICAL_CONDITION', 'BAC_RESULT']\n",
      "Numerical variables are:\n",
      "  ['UNIT_NO', 'OCCUPANT_CNT', 'POSTED_SPEED_LIMIT', 'NUM_UNITS', 'CRASH_HOUR', 'CRASH_DAY_OF_WEEK', 'CRASH_MONTH', 'IS_A_HOLIDAY', 'HOLIDAY_NAME']\n"
     ]
    }
   ],
   "source": [
    "categoricalz, numericalz = basic_info(ds1)"
   ]
  },
  {
   "cell_type": "code",
   "execution_count": 202,
   "metadata": {},
   "outputs": [],
   "source": [
    "def making_new_df(data, columnlist):\n",
    "    for i in columnlist:\n",
    "        dummy = pd.get_dummies(data[i])\n",
    "        #print(dummy)\n",
    "        del dummy[dummy.columns[-1]]\n",
    "        data = pd.concat([data, dummy], axis = 1)\n",
    "    return data"
   ]
  },
  {
   "cell_type": "code",
   "execution_count": 203,
   "metadata": {},
   "outputs": [],
   "source": [
    "ds2 = making_new_df(ds1, categoricalz)"
   ]
  },
  {
   "cell_type": "code",
   "execution_count": 204,
   "metadata": {},
   "outputs": [],
   "source": [
    "ds2 = ds2.drop(categoricalz, axis = 1)"
   ]
  },
  {
   "cell_type": "code",
   "execution_count": 205,
   "metadata": {},
   "outputs": [
    {
     "data": {
      "text/plain": [
       "1     40008\n",
       "2     39178\n",
       "3      5502\n",
       "4      1379\n",
       "5       433\n",
       "6       142\n",
       "7        60\n",
       "9        20\n",
       "8        15\n",
       "11        3\n",
       "10        3\n",
       "12        1\n",
       "Name: UNIT_NO, dtype: int64"
      ]
     },
     "execution_count": 205,
     "metadata": {},
     "output_type": "execute_result"
    }
   ],
   "source": [
    "ds2['UNIT_NO'].value_counts(())"
   ]
  },
  {
   "cell_type": "code",
   "execution_count": 206,
   "metadata": {
    "scrolled": true
   },
   "outputs": [
    {
     "data": {
      "text/plain": [
       "0"
      ]
     },
     "execution_count": 206,
     "metadata": {},
     "output_type": "execute_result"
    }
   ],
   "source": [
    "ds2.isna().sum().sum()"
   ]
  },
  {
   "cell_type": "code",
   "execution_count": 207,
   "metadata": {},
   "outputs": [],
   "source": [
    "ds2.drop(['UNIT_NO'], axis=1, inplace=True)"
   ]
  },
  {
   "cell_type": "code",
   "execution_count": 208,
   "metadata": {},
   "outputs": [],
   "source": [
    "dfs = df"
   ]
  },
  {
   "cell_type": "code",
   "execution_count": 209,
   "metadata": {},
   "outputs": [
    {
     "data": {
      "text/plain": [
       "NO INDICATION OF INJURY        43979\n",
       "NONINCAPACITATING INJURY       23160\n",
       "INCAPACITATING INJURY/FATAL    19605\n",
       "Name: MOST_SEVERE_INJURY, dtype: int64"
      ]
     },
     "execution_count": 209,
     "metadata": {},
     "output_type": "execute_result"
    }
   ],
   "source": [
    "dfs['MOST_SEVERE_INJURY'].value_counts()"
   ]
  },
  {
   "cell_type": "code",
   "execution_count": 210,
   "metadata": {},
   "outputs": [],
   "source": [
    "dfs['MOST_SEVERE_INJURY'] = np.where(dfs['MOST_SEVERE_INJURY']=='NONINCAPACITATING INJURY', 0, dfs['MOST_SEVERE_INJURY'])"
   ]
  },
  {
   "cell_type": "code",
   "execution_count": 211,
   "metadata": {},
   "outputs": [],
   "source": [
    "dfs['MOST_SEVERE_INJURY'] = np.where(dfs['MOST_SEVERE_INJURY']=='NO INDICATION OF INJURY', 1, dfs['MOST_SEVERE_INJURY'])"
   ]
  },
  {
   "cell_type": "code",
   "execution_count": 212,
   "metadata": {},
   "outputs": [],
   "source": [
    "dfs['MOST_SEVERE_INJURY'] = np.where(dfs['MOST_SEVERE_INJURY']=='INCAPACITATING INJURY/FATAL', 2, dfs['MOST_SEVERE_INJURY'])"
   ]
  },
  {
   "cell_type": "code",
   "execution_count": 213,
   "metadata": {},
   "outputs": [],
   "source": [
    "Y = dfs['MOST_SEVERE_INJURY']"
   ]
  },
  {
   "cell_type": "code",
   "execution_count": 214,
   "metadata": {
    "scrolled": true
   },
   "outputs": [
    {
     "data": {
      "text/plain": [
       "1    43979\n",
       "0    23160\n",
       "2    19605\n",
       "Name: MOST_SEVERE_INJURY, dtype: int64"
      ]
     },
     "execution_count": 214,
     "metadata": {},
     "output_type": "execute_result"
    }
   ],
   "source": [
    "Y.value_counts()"
   ]
  },
  {
   "cell_type": "code",
   "execution_count": 215,
   "metadata": {},
   "outputs": [],
   "source": [
    "Y=Y.astype('int')"
   ]
  },
  {
   "cell_type": "code",
   "execution_count": 216,
   "metadata": {
    "scrolled": true
   },
   "outputs": [
    {
     "data": {
      "text/plain": [
       "(86744,)"
      ]
     },
     "execution_count": 216,
     "metadata": {},
     "output_type": "execute_result"
    }
   ],
   "source": [
    "Y.shape"
   ]
  },
  {
   "cell_type": "code",
   "execution_count": 217,
   "metadata": {},
   "outputs": [],
   "source": [
    "X = ds2"
   ]
  },
  {
   "cell_type": "code",
   "execution_count": 218,
   "metadata": {},
   "outputs": [
    {
     "data": {
      "text/plain": [
       "(86744, 405)"
      ]
     },
     "execution_count": 218,
     "metadata": {},
     "output_type": "execute_result"
    }
   ],
   "source": [
    "X.shape"
   ]
  },
  {
   "cell_type": "code",
   "execution_count": 219,
   "metadata": {},
   "outputs": [],
   "source": [
    "train_x, test_x, train_y, test_y = train_test_split(X, Y, test_size = 0.20, random_state=42)"
   ]
  },
  {
   "cell_type": "code",
   "execution_count": 220,
   "metadata": {},
   "outputs": [],
   "source": [
    "LR = LogisticRegression(max_iter=500)"
   ]
  },
  {
   "cell_type": "code",
   "execution_count": 221,
   "metadata": {},
   "outputs": [
    {
     "ename": "KeyboardInterrupt",
     "evalue": "",
     "output_type": "error",
     "traceback": [
      "\u001b[1;31m---------------------------------------------------------------------------\u001b[0m",
      "\u001b[1;31mKeyboardInterrupt\u001b[0m                         Traceback (most recent call last)",
      "\u001b[1;32m<ipython-input-221-d5ba5424bd96>\u001b[0m in \u001b[0;36m<module>\u001b[1;34m\u001b[0m\n\u001b[1;32m----> 1\u001b[1;33m \u001b[0mmodel_lr\u001b[0m \u001b[1;33m=\u001b[0m \u001b[0mLR\u001b[0m\u001b[1;33m.\u001b[0m\u001b[0mfit\u001b[0m\u001b[1;33m(\u001b[0m\u001b[0mtrain_x\u001b[0m\u001b[1;33m,\u001b[0m \u001b[0mtrain_y\u001b[0m\u001b[1;33m)\u001b[0m\u001b[1;33m\u001b[0m\u001b[1;33m\u001b[0m\u001b[0m\n\u001b[0m",
      "\u001b[1;32m~\\anaconda3\\envs\\learn-env\\lib\\site-packages\\sklearn\\linear_model\\_logistic.py\u001b[0m in \u001b[0;36mfit\u001b[1;34m(self, X, y, sample_weight)\u001b[0m\n\u001b[0;32m   1405\u001b[0m         \u001b[1;32melse\u001b[0m\u001b[1;33m:\u001b[0m\u001b[1;33m\u001b[0m\u001b[1;33m\u001b[0m\u001b[0m\n\u001b[0;32m   1406\u001b[0m             \u001b[0mprefer\u001b[0m \u001b[1;33m=\u001b[0m \u001b[1;34m'processes'\u001b[0m\u001b[1;33m\u001b[0m\u001b[1;33m\u001b[0m\u001b[0m\n\u001b[1;32m-> 1407\u001b[1;33m         fold_coefs_ = Parallel(n_jobs=self.n_jobs, verbose=self.verbose,\n\u001b[0m\u001b[0;32m   1408\u001b[0m                                \u001b[1;33m**\u001b[0m\u001b[0m_joblib_parallel_args\u001b[0m\u001b[1;33m(\u001b[0m\u001b[0mprefer\u001b[0m\u001b[1;33m=\u001b[0m\u001b[0mprefer\u001b[0m\u001b[1;33m)\u001b[0m\u001b[1;33m)\u001b[0m\u001b[1;33m(\u001b[0m\u001b[1;33m\u001b[0m\u001b[1;33m\u001b[0m\u001b[0m\n\u001b[0;32m   1409\u001b[0m             path_func(X, y, pos_class=class_, Cs=[C_],\n",
      "\u001b[1;32m~\\anaconda3\\envs\\learn-env\\lib\\site-packages\\joblib\\parallel.py\u001b[0m in \u001b[0;36m__call__\u001b[1;34m(self, iterable)\u001b[0m\n\u001b[0;32m   1046\u001b[0m             \u001b[1;31m# remaining jobs.\u001b[0m\u001b[1;33m\u001b[0m\u001b[1;33m\u001b[0m\u001b[1;33m\u001b[0m\u001b[0m\n\u001b[0;32m   1047\u001b[0m             \u001b[0mself\u001b[0m\u001b[1;33m.\u001b[0m\u001b[0m_iterating\u001b[0m \u001b[1;33m=\u001b[0m \u001b[1;32mFalse\u001b[0m\u001b[1;33m\u001b[0m\u001b[1;33m\u001b[0m\u001b[0m\n\u001b[1;32m-> 1048\u001b[1;33m             \u001b[1;32mif\u001b[0m \u001b[0mself\u001b[0m\u001b[1;33m.\u001b[0m\u001b[0mdispatch_one_batch\u001b[0m\u001b[1;33m(\u001b[0m\u001b[0miterator\u001b[0m\u001b[1;33m)\u001b[0m\u001b[1;33m:\u001b[0m\u001b[1;33m\u001b[0m\u001b[1;33m\u001b[0m\u001b[0m\n\u001b[0m\u001b[0;32m   1049\u001b[0m                 \u001b[0mself\u001b[0m\u001b[1;33m.\u001b[0m\u001b[0m_iterating\u001b[0m \u001b[1;33m=\u001b[0m \u001b[0mself\u001b[0m\u001b[1;33m.\u001b[0m\u001b[0m_original_iterator\u001b[0m \u001b[1;32mis\u001b[0m \u001b[1;32mnot\u001b[0m \u001b[1;32mNone\u001b[0m\u001b[1;33m\u001b[0m\u001b[1;33m\u001b[0m\u001b[0m\n\u001b[0;32m   1050\u001b[0m \u001b[1;33m\u001b[0m\u001b[0m\n",
      "\u001b[1;32m~\\anaconda3\\envs\\learn-env\\lib\\site-packages\\joblib\\parallel.py\u001b[0m in \u001b[0;36mdispatch_one_batch\u001b[1;34m(self, iterator)\u001b[0m\n\u001b[0;32m    864\u001b[0m                 \u001b[1;32mreturn\u001b[0m \u001b[1;32mFalse\u001b[0m\u001b[1;33m\u001b[0m\u001b[1;33m\u001b[0m\u001b[0m\n\u001b[0;32m    865\u001b[0m             \u001b[1;32melse\u001b[0m\u001b[1;33m:\u001b[0m\u001b[1;33m\u001b[0m\u001b[1;33m\u001b[0m\u001b[0m\n\u001b[1;32m--> 866\u001b[1;33m                 \u001b[0mself\u001b[0m\u001b[1;33m.\u001b[0m\u001b[0m_dispatch\u001b[0m\u001b[1;33m(\u001b[0m\u001b[0mtasks\u001b[0m\u001b[1;33m)\u001b[0m\u001b[1;33m\u001b[0m\u001b[1;33m\u001b[0m\u001b[0m\n\u001b[0m\u001b[0;32m    867\u001b[0m                 \u001b[1;32mreturn\u001b[0m \u001b[1;32mTrue\u001b[0m\u001b[1;33m\u001b[0m\u001b[1;33m\u001b[0m\u001b[0m\n\u001b[0;32m    868\u001b[0m \u001b[1;33m\u001b[0m\u001b[0m\n",
      "\u001b[1;32m~\\anaconda3\\envs\\learn-env\\lib\\site-packages\\joblib\\parallel.py\u001b[0m in \u001b[0;36m_dispatch\u001b[1;34m(self, batch)\u001b[0m\n\u001b[0;32m    782\u001b[0m         \u001b[1;32mwith\u001b[0m \u001b[0mself\u001b[0m\u001b[1;33m.\u001b[0m\u001b[0m_lock\u001b[0m\u001b[1;33m:\u001b[0m\u001b[1;33m\u001b[0m\u001b[1;33m\u001b[0m\u001b[0m\n\u001b[0;32m    783\u001b[0m             \u001b[0mjob_idx\u001b[0m \u001b[1;33m=\u001b[0m \u001b[0mlen\u001b[0m\u001b[1;33m(\u001b[0m\u001b[0mself\u001b[0m\u001b[1;33m.\u001b[0m\u001b[0m_jobs\u001b[0m\u001b[1;33m)\u001b[0m\u001b[1;33m\u001b[0m\u001b[1;33m\u001b[0m\u001b[0m\n\u001b[1;32m--> 784\u001b[1;33m             \u001b[0mjob\u001b[0m \u001b[1;33m=\u001b[0m \u001b[0mself\u001b[0m\u001b[1;33m.\u001b[0m\u001b[0m_backend\u001b[0m\u001b[1;33m.\u001b[0m\u001b[0mapply_async\u001b[0m\u001b[1;33m(\u001b[0m\u001b[0mbatch\u001b[0m\u001b[1;33m,\u001b[0m \u001b[0mcallback\u001b[0m\u001b[1;33m=\u001b[0m\u001b[0mcb\u001b[0m\u001b[1;33m)\u001b[0m\u001b[1;33m\u001b[0m\u001b[1;33m\u001b[0m\u001b[0m\n\u001b[0m\u001b[0;32m    785\u001b[0m             \u001b[1;31m# A job can complete so quickly than its callback is\u001b[0m\u001b[1;33m\u001b[0m\u001b[1;33m\u001b[0m\u001b[1;33m\u001b[0m\u001b[0m\n\u001b[0;32m    786\u001b[0m             \u001b[1;31m# called before we get here, causing self._jobs to\u001b[0m\u001b[1;33m\u001b[0m\u001b[1;33m\u001b[0m\u001b[1;33m\u001b[0m\u001b[0m\n",
      "\u001b[1;32m~\\anaconda3\\envs\\learn-env\\lib\\site-packages\\joblib\\_parallel_backends.py\u001b[0m in \u001b[0;36mapply_async\u001b[1;34m(self, func, callback)\u001b[0m\n\u001b[0;32m    206\u001b[0m     \u001b[1;32mdef\u001b[0m \u001b[0mapply_async\u001b[0m\u001b[1;33m(\u001b[0m\u001b[0mself\u001b[0m\u001b[1;33m,\u001b[0m \u001b[0mfunc\u001b[0m\u001b[1;33m,\u001b[0m \u001b[0mcallback\u001b[0m\u001b[1;33m=\u001b[0m\u001b[1;32mNone\u001b[0m\u001b[1;33m)\u001b[0m\u001b[1;33m:\u001b[0m\u001b[1;33m\u001b[0m\u001b[1;33m\u001b[0m\u001b[0m\n\u001b[0;32m    207\u001b[0m         \u001b[1;34m\"\"\"Schedule a func to be run\"\"\"\u001b[0m\u001b[1;33m\u001b[0m\u001b[1;33m\u001b[0m\u001b[0m\n\u001b[1;32m--> 208\u001b[1;33m         \u001b[0mresult\u001b[0m \u001b[1;33m=\u001b[0m \u001b[0mImmediateResult\u001b[0m\u001b[1;33m(\u001b[0m\u001b[0mfunc\u001b[0m\u001b[1;33m)\u001b[0m\u001b[1;33m\u001b[0m\u001b[1;33m\u001b[0m\u001b[0m\n\u001b[0m\u001b[0;32m    209\u001b[0m         \u001b[1;32mif\u001b[0m \u001b[0mcallback\u001b[0m\u001b[1;33m:\u001b[0m\u001b[1;33m\u001b[0m\u001b[1;33m\u001b[0m\u001b[0m\n\u001b[0;32m    210\u001b[0m             \u001b[0mcallback\u001b[0m\u001b[1;33m(\u001b[0m\u001b[0mresult\u001b[0m\u001b[1;33m)\u001b[0m\u001b[1;33m\u001b[0m\u001b[1;33m\u001b[0m\u001b[0m\n",
      "\u001b[1;32m~\\anaconda3\\envs\\learn-env\\lib\\site-packages\\joblib\\_parallel_backends.py\u001b[0m in \u001b[0;36m__init__\u001b[1;34m(self, batch)\u001b[0m\n\u001b[0;32m    570\u001b[0m         \u001b[1;31m# Don't delay the application, to avoid keeping the input\u001b[0m\u001b[1;33m\u001b[0m\u001b[1;33m\u001b[0m\u001b[1;33m\u001b[0m\u001b[0m\n\u001b[0;32m    571\u001b[0m         \u001b[1;31m# arguments in memory\u001b[0m\u001b[1;33m\u001b[0m\u001b[1;33m\u001b[0m\u001b[1;33m\u001b[0m\u001b[0m\n\u001b[1;32m--> 572\u001b[1;33m         \u001b[0mself\u001b[0m\u001b[1;33m.\u001b[0m\u001b[0mresults\u001b[0m \u001b[1;33m=\u001b[0m \u001b[0mbatch\u001b[0m\u001b[1;33m(\u001b[0m\u001b[1;33m)\u001b[0m\u001b[1;33m\u001b[0m\u001b[1;33m\u001b[0m\u001b[0m\n\u001b[0m\u001b[0;32m    573\u001b[0m \u001b[1;33m\u001b[0m\u001b[0m\n\u001b[0;32m    574\u001b[0m     \u001b[1;32mdef\u001b[0m \u001b[0mget\u001b[0m\u001b[1;33m(\u001b[0m\u001b[0mself\u001b[0m\u001b[1;33m)\u001b[0m\u001b[1;33m:\u001b[0m\u001b[1;33m\u001b[0m\u001b[1;33m\u001b[0m\u001b[0m\n",
      "\u001b[1;32m~\\anaconda3\\envs\\learn-env\\lib\\site-packages\\joblib\\parallel.py\u001b[0m in \u001b[0;36m__call__\u001b[1;34m(self)\u001b[0m\n\u001b[0;32m    260\u001b[0m         \u001b[1;31m# change the default number of processes to -1\u001b[0m\u001b[1;33m\u001b[0m\u001b[1;33m\u001b[0m\u001b[1;33m\u001b[0m\u001b[0m\n\u001b[0;32m    261\u001b[0m         \u001b[1;32mwith\u001b[0m \u001b[0mparallel_backend\u001b[0m\u001b[1;33m(\u001b[0m\u001b[0mself\u001b[0m\u001b[1;33m.\u001b[0m\u001b[0m_backend\u001b[0m\u001b[1;33m,\u001b[0m \u001b[0mn_jobs\u001b[0m\u001b[1;33m=\u001b[0m\u001b[0mself\u001b[0m\u001b[1;33m.\u001b[0m\u001b[0m_n_jobs\u001b[0m\u001b[1;33m)\u001b[0m\u001b[1;33m:\u001b[0m\u001b[1;33m\u001b[0m\u001b[1;33m\u001b[0m\u001b[0m\n\u001b[1;32m--> 262\u001b[1;33m             return [func(*args, **kwargs)\n\u001b[0m\u001b[0;32m    263\u001b[0m                     for func, args, kwargs in self.items]\n\u001b[0;32m    264\u001b[0m \u001b[1;33m\u001b[0m\u001b[0m\n",
      "\u001b[1;32m~\\anaconda3\\envs\\learn-env\\lib\\site-packages\\joblib\\parallel.py\u001b[0m in \u001b[0;36m<listcomp>\u001b[1;34m(.0)\u001b[0m\n\u001b[0;32m    260\u001b[0m         \u001b[1;31m# change the default number of processes to -1\u001b[0m\u001b[1;33m\u001b[0m\u001b[1;33m\u001b[0m\u001b[1;33m\u001b[0m\u001b[0m\n\u001b[0;32m    261\u001b[0m         \u001b[1;32mwith\u001b[0m \u001b[0mparallel_backend\u001b[0m\u001b[1;33m(\u001b[0m\u001b[0mself\u001b[0m\u001b[1;33m.\u001b[0m\u001b[0m_backend\u001b[0m\u001b[1;33m,\u001b[0m \u001b[0mn_jobs\u001b[0m\u001b[1;33m=\u001b[0m\u001b[0mself\u001b[0m\u001b[1;33m.\u001b[0m\u001b[0m_n_jobs\u001b[0m\u001b[1;33m)\u001b[0m\u001b[1;33m:\u001b[0m\u001b[1;33m\u001b[0m\u001b[1;33m\u001b[0m\u001b[0m\n\u001b[1;32m--> 262\u001b[1;33m             return [func(*args, **kwargs)\n\u001b[0m\u001b[0;32m    263\u001b[0m                     for func, args, kwargs in self.items]\n\u001b[0;32m    264\u001b[0m \u001b[1;33m\u001b[0m\u001b[0m\n",
      "\u001b[1;32m~\\anaconda3\\envs\\learn-env\\lib\\site-packages\\sklearn\\linear_model\\_logistic.py\u001b[0m in \u001b[0;36m_logistic_regression_path\u001b[1;34m(X, y, pos_class, Cs, fit_intercept, max_iter, tol, verbose, solver, coef, class_weight, dual, penalty, intercept_scaling, multi_class, random_state, check_input, max_squared_sum, sample_weight, l1_ratio)\u001b[0m\n\u001b[0;32m    755\u001b[0m             iprint = [-1, 50, 1, 100, 101][\n\u001b[0;32m    756\u001b[0m                 np.searchsorted(np.array([0, 1, 2, 3]), verbose)]\n\u001b[1;32m--> 757\u001b[1;33m             opt_res = optimize.minimize(\n\u001b[0m\u001b[0;32m    758\u001b[0m                 \u001b[0mfunc\u001b[0m\u001b[1;33m,\u001b[0m \u001b[0mw0\u001b[0m\u001b[1;33m,\u001b[0m \u001b[0mmethod\u001b[0m\u001b[1;33m=\u001b[0m\u001b[1;34m\"L-BFGS-B\"\u001b[0m\u001b[1;33m,\u001b[0m \u001b[0mjac\u001b[0m\u001b[1;33m=\u001b[0m\u001b[1;32mTrue\u001b[0m\u001b[1;33m,\u001b[0m\u001b[1;33m\u001b[0m\u001b[1;33m\u001b[0m\u001b[0m\n\u001b[0;32m    759\u001b[0m                 \u001b[0margs\u001b[0m\u001b[1;33m=\u001b[0m\u001b[1;33m(\u001b[0m\u001b[0mX\u001b[0m\u001b[1;33m,\u001b[0m \u001b[0mtarget\u001b[0m\u001b[1;33m,\u001b[0m \u001b[1;36m1.\u001b[0m \u001b[1;33m/\u001b[0m \u001b[0mC\u001b[0m\u001b[1;33m,\u001b[0m \u001b[0msample_weight\u001b[0m\u001b[1;33m)\u001b[0m\u001b[1;33m,\u001b[0m\u001b[1;33m\u001b[0m\u001b[1;33m\u001b[0m\u001b[0m\n",
      "\u001b[1;32m~\\anaconda3\\envs\\learn-env\\lib\\site-packages\\scipy\\optimize\\_minimize.py\u001b[0m in \u001b[0;36mminimize\u001b[1;34m(fun, x0, args, method, jac, hess, hessp, bounds, constraints, tol, callback, options)\u001b[0m\n\u001b[0;32m    607\u001b[0m                                   **options)\n\u001b[0;32m    608\u001b[0m     \u001b[1;32melif\u001b[0m \u001b[0mmeth\u001b[0m \u001b[1;33m==\u001b[0m \u001b[1;34m'l-bfgs-b'\u001b[0m\u001b[1;33m:\u001b[0m\u001b[1;33m\u001b[0m\u001b[1;33m\u001b[0m\u001b[0m\n\u001b[1;32m--> 609\u001b[1;33m         return _minimize_lbfgsb(fun, x0, args, jac, bounds,\n\u001b[0m\u001b[0;32m    610\u001b[0m                                 callback=callback, **options)\n\u001b[0;32m    611\u001b[0m     \u001b[1;32melif\u001b[0m \u001b[0mmeth\u001b[0m \u001b[1;33m==\u001b[0m \u001b[1;34m'tnc'\u001b[0m\u001b[1;33m:\u001b[0m\u001b[1;33m\u001b[0m\u001b[1;33m\u001b[0m\u001b[0m\n",
      "\u001b[1;32m~\\anaconda3\\envs\\learn-env\\lib\\site-packages\\scipy\\optimize\\lbfgsb.py\u001b[0m in \u001b[0;36m_minimize_lbfgsb\u001b[1;34m(fun, x0, args, jac, bounds, disp, maxcor, ftol, gtol, eps, maxfun, maxiter, iprint, callback, maxls, **unknown_options)\u001b[0m\n\u001b[0;32m    343\u001b[0m             \u001b[1;31m# until the completion of the current minimization iteration.\u001b[0m\u001b[1;33m\u001b[0m\u001b[1;33m\u001b[0m\u001b[1;33m\u001b[0m\u001b[0m\n\u001b[0;32m    344\u001b[0m             \u001b[1;31m# Overwrite f and g:\u001b[0m\u001b[1;33m\u001b[0m\u001b[1;33m\u001b[0m\u001b[1;33m\u001b[0m\u001b[0m\n\u001b[1;32m--> 345\u001b[1;33m             \u001b[0mf\u001b[0m\u001b[1;33m,\u001b[0m \u001b[0mg\u001b[0m \u001b[1;33m=\u001b[0m \u001b[0mfunc_and_grad\u001b[0m\u001b[1;33m(\u001b[0m\u001b[0mx\u001b[0m\u001b[1;33m)\u001b[0m\u001b[1;33m\u001b[0m\u001b[1;33m\u001b[0m\u001b[0m\n\u001b[0m\u001b[0;32m    346\u001b[0m         \u001b[1;32melif\u001b[0m \u001b[0mtask_str\u001b[0m\u001b[1;33m.\u001b[0m\u001b[0mstartswith\u001b[0m\u001b[1;33m(\u001b[0m\u001b[1;34mb'NEW_X'\u001b[0m\u001b[1;33m)\u001b[0m\u001b[1;33m:\u001b[0m\u001b[1;33m\u001b[0m\u001b[1;33m\u001b[0m\u001b[0m\n\u001b[0;32m    347\u001b[0m             \u001b[1;31m# new iteration\u001b[0m\u001b[1;33m\u001b[0m\u001b[1;33m\u001b[0m\u001b[1;33m\u001b[0m\u001b[0m\n",
      "\u001b[1;32m~\\anaconda3\\envs\\learn-env\\lib\\site-packages\\scipy\\optimize\\lbfgsb.py\u001b[0m in \u001b[0;36mfunc_and_grad\u001b[1;34m(x)\u001b[0m\n\u001b[0;32m    293\u001b[0m     \u001b[1;32melse\u001b[0m\u001b[1;33m:\u001b[0m\u001b[1;33m\u001b[0m\u001b[1;33m\u001b[0m\u001b[0m\n\u001b[0;32m    294\u001b[0m         \u001b[1;32mdef\u001b[0m \u001b[0mfunc_and_grad\u001b[0m\u001b[1;33m(\u001b[0m\u001b[0mx\u001b[0m\u001b[1;33m)\u001b[0m\u001b[1;33m:\u001b[0m\u001b[1;33m\u001b[0m\u001b[1;33m\u001b[0m\u001b[0m\n\u001b[1;32m--> 295\u001b[1;33m             \u001b[0mf\u001b[0m \u001b[1;33m=\u001b[0m \u001b[0mfun\u001b[0m\u001b[1;33m(\u001b[0m\u001b[0mx\u001b[0m\u001b[1;33m,\u001b[0m \u001b[1;33m*\u001b[0m\u001b[0margs\u001b[0m\u001b[1;33m)\u001b[0m\u001b[1;33m\u001b[0m\u001b[1;33m\u001b[0m\u001b[0m\n\u001b[0m\u001b[0;32m    296\u001b[0m             \u001b[0mg\u001b[0m \u001b[1;33m=\u001b[0m \u001b[0mjac\u001b[0m\u001b[1;33m(\u001b[0m\u001b[0mx\u001b[0m\u001b[1;33m,\u001b[0m \u001b[1;33m*\u001b[0m\u001b[0margs\u001b[0m\u001b[1;33m)\u001b[0m\u001b[1;33m\u001b[0m\u001b[1;33m\u001b[0m\u001b[0m\n\u001b[0;32m    297\u001b[0m             \u001b[1;32mreturn\u001b[0m \u001b[0mf\u001b[0m\u001b[1;33m,\u001b[0m \u001b[0mg\u001b[0m\u001b[1;33m\u001b[0m\u001b[1;33m\u001b[0m\u001b[0m\n",
      "\u001b[1;32m~\\anaconda3\\envs\\learn-env\\lib\\site-packages\\scipy\\optimize\\optimize.py\u001b[0m in \u001b[0;36mfunction_wrapper\u001b[1;34m(*wrapper_args)\u001b[0m\n\u001b[0;32m    325\u001b[0m     \u001b[1;32mdef\u001b[0m \u001b[0mfunction_wrapper\u001b[0m\u001b[1;33m(\u001b[0m\u001b[1;33m*\u001b[0m\u001b[0mwrapper_args\u001b[0m\u001b[1;33m)\u001b[0m\u001b[1;33m:\u001b[0m\u001b[1;33m\u001b[0m\u001b[1;33m\u001b[0m\u001b[0m\n\u001b[0;32m    326\u001b[0m         \u001b[0mncalls\u001b[0m\u001b[1;33m[\u001b[0m\u001b[1;36m0\u001b[0m\u001b[1;33m]\u001b[0m \u001b[1;33m+=\u001b[0m \u001b[1;36m1\u001b[0m\u001b[1;33m\u001b[0m\u001b[1;33m\u001b[0m\u001b[0m\n\u001b[1;32m--> 327\u001b[1;33m         \u001b[1;32mreturn\u001b[0m \u001b[0mfunction\u001b[0m\u001b[1;33m(\u001b[0m\u001b[1;33m*\u001b[0m\u001b[1;33m(\u001b[0m\u001b[0mwrapper_args\u001b[0m \u001b[1;33m+\u001b[0m \u001b[0margs\u001b[0m\u001b[1;33m)\u001b[0m\u001b[1;33m)\u001b[0m\u001b[1;33m\u001b[0m\u001b[1;33m\u001b[0m\u001b[0m\n\u001b[0m\u001b[0;32m    328\u001b[0m \u001b[1;33m\u001b[0m\u001b[0m\n\u001b[0;32m    329\u001b[0m     \u001b[1;32mreturn\u001b[0m \u001b[0mncalls\u001b[0m\u001b[1;33m,\u001b[0m \u001b[0mfunction_wrapper\u001b[0m\u001b[1;33m\u001b[0m\u001b[1;33m\u001b[0m\u001b[0m\n",
      "\u001b[1;32m~\\anaconda3\\envs\\learn-env\\lib\\site-packages\\scipy\\optimize\\optimize.py\u001b[0m in \u001b[0;36m__call__\u001b[1;34m(self, x, *args)\u001b[0m\n\u001b[0;32m     63\u001b[0m     \u001b[1;32mdef\u001b[0m \u001b[0m__call__\u001b[0m\u001b[1;33m(\u001b[0m\u001b[0mself\u001b[0m\u001b[1;33m,\u001b[0m \u001b[0mx\u001b[0m\u001b[1;33m,\u001b[0m \u001b[1;33m*\u001b[0m\u001b[0margs\u001b[0m\u001b[1;33m)\u001b[0m\u001b[1;33m:\u001b[0m\u001b[1;33m\u001b[0m\u001b[1;33m\u001b[0m\u001b[0m\n\u001b[0;32m     64\u001b[0m         \u001b[0mself\u001b[0m\u001b[1;33m.\u001b[0m\u001b[0mx\u001b[0m \u001b[1;33m=\u001b[0m \u001b[0mnumpy\u001b[0m\u001b[1;33m.\u001b[0m\u001b[0masarray\u001b[0m\u001b[1;33m(\u001b[0m\u001b[0mx\u001b[0m\u001b[1;33m)\u001b[0m\u001b[1;33m.\u001b[0m\u001b[0mcopy\u001b[0m\u001b[1;33m(\u001b[0m\u001b[1;33m)\u001b[0m\u001b[1;33m\u001b[0m\u001b[1;33m\u001b[0m\u001b[0m\n\u001b[1;32m---> 65\u001b[1;33m         \u001b[0mfg\u001b[0m \u001b[1;33m=\u001b[0m \u001b[0mself\u001b[0m\u001b[1;33m.\u001b[0m\u001b[0mfun\u001b[0m\u001b[1;33m(\u001b[0m\u001b[0mx\u001b[0m\u001b[1;33m,\u001b[0m \u001b[1;33m*\u001b[0m\u001b[0margs\u001b[0m\u001b[1;33m)\u001b[0m\u001b[1;33m\u001b[0m\u001b[1;33m\u001b[0m\u001b[0m\n\u001b[0m\u001b[0;32m     66\u001b[0m         \u001b[0mself\u001b[0m\u001b[1;33m.\u001b[0m\u001b[0mjac\u001b[0m \u001b[1;33m=\u001b[0m \u001b[0mfg\u001b[0m\u001b[1;33m[\u001b[0m\u001b[1;36m1\u001b[0m\u001b[1;33m]\u001b[0m\u001b[1;33m\u001b[0m\u001b[1;33m\u001b[0m\u001b[0m\n\u001b[0;32m     67\u001b[0m         \u001b[1;32mreturn\u001b[0m \u001b[0mfg\u001b[0m\u001b[1;33m[\u001b[0m\u001b[1;36m0\u001b[0m\u001b[1;33m]\u001b[0m\u001b[1;33m\u001b[0m\u001b[1;33m\u001b[0m\u001b[0m\n",
      "\u001b[1;32m~\\anaconda3\\envs\\learn-env\\lib\\site-packages\\sklearn\\linear_model\\_logistic.py\u001b[0m in \u001b[0;36mfunc\u001b[1;34m(x, *args)\u001b[0m\n\u001b[0;32m    733\u001b[0m         \u001b[0mtarget\u001b[0m \u001b[1;33m=\u001b[0m \u001b[0mY_multi\u001b[0m\u001b[1;33m\u001b[0m\u001b[1;33m\u001b[0m\u001b[0m\n\u001b[0;32m    734\u001b[0m         \u001b[1;32mif\u001b[0m \u001b[0msolver\u001b[0m \u001b[1;33m==\u001b[0m \u001b[1;34m'lbfgs'\u001b[0m\u001b[1;33m:\u001b[0m\u001b[1;33m\u001b[0m\u001b[1;33m\u001b[0m\u001b[0m\n\u001b[1;32m--> 735\u001b[1;33m             \u001b[1;32mdef\u001b[0m \u001b[0mfunc\u001b[0m\u001b[1;33m(\u001b[0m\u001b[0mx\u001b[0m\u001b[1;33m,\u001b[0m \u001b[1;33m*\u001b[0m\u001b[0margs\u001b[0m\u001b[1;33m)\u001b[0m\u001b[1;33m:\u001b[0m \u001b[1;32mreturn\u001b[0m \u001b[0m_multinomial_loss_grad\u001b[0m\u001b[1;33m(\u001b[0m\u001b[0mx\u001b[0m\u001b[1;33m,\u001b[0m \u001b[1;33m*\u001b[0m\u001b[0margs\u001b[0m\u001b[1;33m)\u001b[0m\u001b[1;33m[\u001b[0m\u001b[1;36m0\u001b[0m\u001b[1;33m:\u001b[0m\u001b[1;36m2\u001b[0m\u001b[1;33m]\u001b[0m\u001b[1;33m\u001b[0m\u001b[1;33m\u001b[0m\u001b[0m\n\u001b[0m\u001b[0;32m    736\u001b[0m         \u001b[1;32melif\u001b[0m \u001b[0msolver\u001b[0m \u001b[1;33m==\u001b[0m \u001b[1;34m'newton-cg'\u001b[0m\u001b[1;33m:\u001b[0m\u001b[1;33m\u001b[0m\u001b[1;33m\u001b[0m\u001b[0m\n\u001b[0;32m    737\u001b[0m             \u001b[1;32mdef\u001b[0m \u001b[0mfunc\u001b[0m\u001b[1;33m(\u001b[0m\u001b[0mx\u001b[0m\u001b[1;33m,\u001b[0m \u001b[1;33m*\u001b[0m\u001b[0margs\u001b[0m\u001b[1;33m)\u001b[0m\u001b[1;33m:\u001b[0m \u001b[1;32mreturn\u001b[0m \u001b[0m_multinomial_loss\u001b[0m\u001b[1;33m(\u001b[0m\u001b[0mx\u001b[0m\u001b[1;33m,\u001b[0m \u001b[1;33m*\u001b[0m\u001b[0margs\u001b[0m\u001b[1;33m)\u001b[0m\u001b[1;33m[\u001b[0m\u001b[1;36m0\u001b[0m\u001b[1;33m]\u001b[0m\u001b[1;33m\u001b[0m\u001b[1;33m\u001b[0m\u001b[0m\n",
      "\u001b[1;32m~\\anaconda3\\envs\\learn-env\\lib\\site-packages\\sklearn\\linear_model\\_logistic.py\u001b[0m in \u001b[0;36m_multinomial_loss_grad\u001b[1;34m(w, X, Y, alpha, sample_weight)\u001b[0m\n\u001b[0;32m    348\u001b[0m     \u001b[0msample_weight\u001b[0m \u001b[1;33m=\u001b[0m \u001b[0msample_weight\u001b[0m\u001b[1;33m[\u001b[0m\u001b[1;33m:\u001b[0m\u001b[1;33m,\u001b[0m \u001b[0mnp\u001b[0m\u001b[1;33m.\u001b[0m\u001b[0mnewaxis\u001b[0m\u001b[1;33m]\u001b[0m\u001b[1;33m\u001b[0m\u001b[1;33m\u001b[0m\u001b[0m\n\u001b[0;32m    349\u001b[0m     \u001b[0mdiff\u001b[0m \u001b[1;33m=\u001b[0m \u001b[0msample_weight\u001b[0m \u001b[1;33m*\u001b[0m \u001b[1;33m(\u001b[0m\u001b[0mp\u001b[0m \u001b[1;33m-\u001b[0m \u001b[0mY\u001b[0m\u001b[1;33m)\u001b[0m\u001b[1;33m\u001b[0m\u001b[1;33m\u001b[0m\u001b[0m\n\u001b[1;32m--> 350\u001b[1;33m     \u001b[0mgrad\u001b[0m\u001b[1;33m[\u001b[0m\u001b[1;33m:\u001b[0m\u001b[1;33m,\u001b[0m \u001b[1;33m:\u001b[0m\u001b[0mn_features\u001b[0m\u001b[1;33m]\u001b[0m \u001b[1;33m=\u001b[0m \u001b[0msafe_sparse_dot\u001b[0m\u001b[1;33m(\u001b[0m\u001b[0mdiff\u001b[0m\u001b[1;33m.\u001b[0m\u001b[0mT\u001b[0m\u001b[1;33m,\u001b[0m \u001b[0mX\u001b[0m\u001b[1;33m)\u001b[0m\u001b[1;33m\u001b[0m\u001b[1;33m\u001b[0m\u001b[0m\n\u001b[0m\u001b[0;32m    351\u001b[0m     \u001b[0mgrad\u001b[0m\u001b[1;33m[\u001b[0m\u001b[1;33m:\u001b[0m\u001b[1;33m,\u001b[0m \u001b[1;33m:\u001b[0m\u001b[0mn_features\u001b[0m\u001b[1;33m]\u001b[0m \u001b[1;33m+=\u001b[0m \u001b[0malpha\u001b[0m \u001b[1;33m*\u001b[0m \u001b[0mw\u001b[0m\u001b[1;33m\u001b[0m\u001b[1;33m\u001b[0m\u001b[0m\n\u001b[0;32m    352\u001b[0m     \u001b[1;32mif\u001b[0m \u001b[0mfit_intercept\u001b[0m\u001b[1;33m:\u001b[0m\u001b[1;33m\u001b[0m\u001b[1;33m\u001b[0m\u001b[0m\n",
      "\u001b[1;32m~\\anaconda3\\envs\\learn-env\\lib\\site-packages\\sklearn\\utils\\validation.py\u001b[0m in \u001b[0;36minner_f\u001b[1;34m(*args, **kwargs)\u001b[0m\n\u001b[0;32m     70\u001b[0m                           FutureWarning)\n\u001b[0;32m     71\u001b[0m         \u001b[0mkwargs\u001b[0m\u001b[1;33m.\u001b[0m\u001b[0mupdate\u001b[0m\u001b[1;33m(\u001b[0m\u001b[1;33m{\u001b[0m\u001b[0mk\u001b[0m\u001b[1;33m:\u001b[0m \u001b[0marg\u001b[0m \u001b[1;32mfor\u001b[0m \u001b[0mk\u001b[0m\u001b[1;33m,\u001b[0m \u001b[0marg\u001b[0m \u001b[1;32min\u001b[0m \u001b[0mzip\u001b[0m\u001b[1;33m(\u001b[0m\u001b[0msig\u001b[0m\u001b[1;33m.\u001b[0m\u001b[0mparameters\u001b[0m\u001b[1;33m,\u001b[0m \u001b[0margs\u001b[0m\u001b[1;33m)\u001b[0m\u001b[1;33m}\u001b[0m\u001b[1;33m)\u001b[0m\u001b[1;33m\u001b[0m\u001b[1;33m\u001b[0m\u001b[0m\n\u001b[1;32m---> 72\u001b[1;33m         \u001b[1;32mreturn\u001b[0m \u001b[0mf\u001b[0m\u001b[1;33m(\u001b[0m\u001b[1;33m**\u001b[0m\u001b[0mkwargs\u001b[0m\u001b[1;33m)\u001b[0m\u001b[1;33m\u001b[0m\u001b[1;33m\u001b[0m\u001b[0m\n\u001b[0m\u001b[0;32m     73\u001b[0m     \u001b[1;32mreturn\u001b[0m \u001b[0minner_f\u001b[0m\u001b[1;33m\u001b[0m\u001b[1;33m\u001b[0m\u001b[0m\n\u001b[0;32m     74\u001b[0m \u001b[1;33m\u001b[0m\u001b[0m\n",
      "\u001b[1;32m~\\anaconda3\\envs\\learn-env\\lib\\site-packages\\sklearn\\utils\\extmath.py\u001b[0m in \u001b[0;36msafe_sparse_dot\u001b[1;34m(a, b, dense_output)\u001b[0m\n\u001b[0;32m    151\u001b[0m             \u001b[0mret\u001b[0m \u001b[1;33m=\u001b[0m \u001b[0mnp\u001b[0m\u001b[1;33m.\u001b[0m\u001b[0mdot\u001b[0m\u001b[1;33m(\u001b[0m\u001b[0ma\u001b[0m\u001b[1;33m,\u001b[0m \u001b[0mb\u001b[0m\u001b[1;33m)\u001b[0m\u001b[1;33m\u001b[0m\u001b[1;33m\u001b[0m\u001b[0m\n\u001b[0;32m    152\u001b[0m     \u001b[1;32melse\u001b[0m\u001b[1;33m:\u001b[0m\u001b[1;33m\u001b[0m\u001b[1;33m\u001b[0m\u001b[0m\n\u001b[1;32m--> 153\u001b[1;33m         \u001b[0mret\u001b[0m \u001b[1;33m=\u001b[0m \u001b[0ma\u001b[0m \u001b[1;33m@\u001b[0m \u001b[0mb\u001b[0m\u001b[1;33m\u001b[0m\u001b[1;33m\u001b[0m\u001b[0m\n\u001b[0m\u001b[0;32m    154\u001b[0m \u001b[1;33m\u001b[0m\u001b[0m\n\u001b[0;32m    155\u001b[0m     if (sparse.issparse(a) and sparse.issparse(b)\n",
      "\u001b[1;31mKeyboardInterrupt\u001b[0m: "
     ]
    }
   ],
   "source": [
    "model_lr = LR.fit(train_x, train_y)"
   ]
  },
  {
   "cell_type": "code",
   "execution_count": null,
   "metadata": {},
   "outputs": [],
   "source": [
    "y_lr_predict = model_lr.predict(test_x)"
   ]
  },
  {
   "cell_type": "code",
   "execution_count": null,
   "metadata": {},
   "outputs": [],
   "source": [
    "LR_df = pd.DataFrame(data = {\"Actual\": test_y, \"Predicted\": y_lr_predict})"
   ]
  },
  {
   "cell_type": "code",
   "execution_count": null,
   "metadata": {
    "scrolled": true
   },
   "outputs": [],
   "source": [
    "LR_df"
   ]
  },
  {
   "cell_type": "code",
   "execution_count": null,
   "metadata": {},
   "outputs": [],
   "source": [
    "model_lr.score(test_x, test_y)"
   ]
  },
  {
   "cell_type": "code",
   "execution_count": null,
   "metadata": {},
   "outputs": [],
   "source": [
    "rfc = RandomForestClassifier()"
   ]
  },
  {
   "cell_type": "code",
   "execution_count": null,
   "metadata": {},
   "outputs": [],
   "source": [
    "model_rfr = rfc.fit(train_x, train_y)\n",
    "y_rfr_predict = model_rfr.predict(test_x)"
   ]
  },
  {
   "cell_type": "code",
   "execution_count": null,
   "metadata": {},
   "outputs": [],
   "source": [
    "RFR_df = pd.DataFrame(data = {\"Actual\": test_y, \"Predicted\": y_rfr_predict})"
   ]
  },
  {
   "cell_type": "code",
   "execution_count": null,
   "metadata": {},
   "outputs": [],
   "source": [
    "RFR_df"
   ]
  },
  {
   "cell_type": "code",
   "execution_count": null,
   "metadata": {},
   "outputs": [],
   "source": [
    "model_rfr.score(test_x, test_y)"
   ]
  },
  {
   "cell_type": "code",
   "execution_count": null,
   "metadata": {},
   "outputs": [],
   "source": [
    "precision_score(test_y, y_rfr_predict, average='weighted')"
   ]
  },
  {
   "cell_type": "code",
   "execution_count": null,
   "metadata": {},
   "outputs": [],
   "source": [
    "f1_score(test_y, y_rfr_predict, average='weighted')"
   ]
  },
  {
   "cell_type": "code",
   "execution_count": null,
   "metadata": {},
   "outputs": [],
   "source": [
    "recall_score(test_y, y_rfr_predict, average='weighted')"
   ]
  },
  {
   "cell_type": "code",
   "execution_count": null,
   "metadata": {},
   "outputs": [],
   "source": [
    "# import pandas as pd\n",
    "# df = pd.read_csv('traffic_crashes_chicago.csv')\n",
    "\n",
    "# df = df.drop(['CRASH_RECORD_ID', 'RD_NO', 'CRASH_DATE_EST_I', 'CRASH_DATE', 'TRAFFIC_CONTROL_DEVICE',\n",
    "#               'DEVICE_CONDITION', 'FIRST_CRASH_TYPE', 'TRAFFICWAY_TYPE', 'ALIGNMENT', 'REPORT_TYPE',\n",
    "#               'CRASH_TYPE', 'INTERSECTION_RELATED_I', 'NOT_RIGHT_OF_WAY_I', 'HIT_AND_RUN_I', 'DAMAGE',\n",
    "#               'DATE_POLICE_NOTIFIED', 'PRIM_CONTRIBUTORY_CAUSE', 'SEC_CONTRIBUTORY_CAUSE', 'STREET_NAME',\n",
    "#               'BEAT_OF_OCCURRENCE', 'PHOTOS_TAKEN_I', 'STATEMENTS_TAKEN_I', 'DOORING_I', 'WORK_ZONE_I',\n",
    "#               'WORK_ZONE_TYPE', 'WORKERS_PRESENT_I', 'MOST_SEVERE_INJURY', 'STREET_NO', 'INJURIES_FATAL',\n",
    "#               'INJURIES_INCAPACITATING', 'INJURIES_NON_INCAPACITATING', 'INJURIES_REPORTED_NOT_EVIDENT',\n",
    "#               'INJURIES_NO_INDICATION', 'INJURIES_UNKNOWN', 'LATITUDE', 'LONGITUDE',  'LOCATION', 'LANE_CNT'], axis=1)\n",
    "# df['STREET_DIRECTION'].fillna(method='ffill', inplace=True)\n",
    "# df['target-injuries'] = df['INJURIES_TOTAL'] > 0\n",
    "# df.drop('INJURIES_TOTAL', axis=1, inplace=True)\n",
    "\n",
    "# from sklearn import preprocessing\n",
    "# lbl = preprocessing.LabelEncoder()\n",
    "# df['WEATHER_CONDITION'] = lbl.fit_transform(df['WEATHER_CONDITION'].astype(str))\n",
    "# df['LIGHTING_CONDITION'] = lbl.fit_transform(df['LIGHTING_CONDITION'].astype(str))\n",
    "# df['ROADWAY_SURFACE_COND'] = lbl.fit_transform(df['ROADWAY_SURFACE_COND'].astype(str))\n",
    "# df['ROAD_DEFECT'] = lbl.fit_transform(df['ROAD_DEFECT'].astype(str))\n",
    "# df['STREET_DIRECTION'] = lbl.fit_transform(df['STREET_DIRECTION'].astype(str))\n",
    "\n",
    "# X = df.drop('target-injuries', axis=1)\n",
    "# y = df['target-injuries']"
   ]
  },
  {
   "cell_type": "code",
   "execution_count": 222,
   "metadata": {},
   "outputs": [],
   "source": [
    "import warnings\n",
    "warnings.filterwarnings('ignore')\n",
    "import numpy as np\n",
    "import pandas as pd\n",
    "from datetime import datetime\n",
    "from sklearn.model_selection import RandomizedSearchCV, GridSearchCV\n",
    "from sklearn.metrics import roc_auc_score\n",
    "from sklearn.model_selection import StratifiedKFold\n",
    "from xgboost import XGBClassifier\n",
    "import xgboost as xgb"
   ]
  },
  {
   "cell_type": "code",
   "execution_count": 223,
   "metadata": {},
   "outputs": [],
   "source": [
    "from sklearn.model_selection import train_test_split\n",
    "X_train, X_test, Y_train, Y_test = train_test_split(X.values, Y, test_size = 0.50, random_state=42)\n",
    "D_train = xgb.DMatrix(X_train, label=Y_train)\n",
    "D_test  = xgb.DMatrix(X_test, label=Y_test)"
   ]
  },
  {
   "cell_type": "code",
   "execution_count": 224,
   "metadata": {},
   "outputs": [
    {
     "ename": "AttributeError",
     "evalue": "'numpy.ndarray' object has no attribute 'columns'",
     "output_type": "error",
     "traceback": [
      "\u001b[1;31m---------------------------------------------------------------------------\u001b[0m",
      "\u001b[1;31mAttributeError\u001b[0m                            Traceback (most recent call last)",
      "\u001b[1;32m<ipython-input-224-56ba00cae3d8>\u001b[0m in \u001b[0;36m<module>\u001b[1;34m\u001b[0m\n\u001b[1;32m----> 1\u001b[1;33m \u001b[0mduplicate_columns\u001b[0m \u001b[1;33m=\u001b[0m \u001b[0mX_train\u001b[0m\u001b[1;33m.\u001b[0m\u001b[0mcolumns\u001b[0m\u001b[1;33m[\u001b[0m\u001b[0mX_train\u001b[0m\u001b[1;33m.\u001b[0m\u001b[0mcolumns\u001b[0m\u001b[1;33m.\u001b[0m\u001b[0mduplicated\u001b[0m\u001b[1;33m(\u001b[0m\u001b[1;33m)\u001b[0m\u001b[1;33m]\u001b[0m\u001b[1;33m\u001b[0m\u001b[1;33m\u001b[0m\u001b[0m\n\u001b[0m\u001b[0;32m      2\u001b[0m \u001b[0mduplicate_columns\u001b[0m\u001b[1;33m\u001b[0m\u001b[1;33m\u001b[0m\u001b[0m\n",
      "\u001b[1;31mAttributeError\u001b[0m: 'numpy.ndarray' object has no attribute 'columns'"
     ]
    }
   ],
   "source": [
    "duplicate_columns = X_train.columns[X_train.columns.duplicated()]\n",
    "duplicate_columns"
   ]
  },
  {
   "cell_type": "code",
   "execution_count": 225,
   "metadata": {},
   "outputs": [
    {
     "name": "stdout",
     "output_type": "stream",
     "text": [
      "Requirement already satisfied: bayesian-optimization in c:\\users\\chris\\anaconda3\\envs\\learn-env\\lib\\site-packages (1.2.0)\n",
      "Requirement already satisfied: scikit-learn>=0.18.0 in c:\\users\\chris\\anaconda3\\envs\\learn-env\\lib\\site-packages (from bayesian-optimization) (0.23.2)\n",
      "Requirement already satisfied: scipy>=0.14.0 in c:\\users\\chris\\anaconda3\\envs\\learn-env\\lib\\site-packages (from bayesian-optimization) (1.4.1)\n",
      "Requirement already satisfied: numpy>=1.9.0 in c:\\users\\chris\\anaconda3\\envs\\learn-env\\lib\\site-packages (from bayesian-optimization) (1.18.5)\n",
      "Requirement already satisfied: joblib>=0.11 in c:\\users\\chris\\anaconda3\\envs\\learn-env\\lib\\site-packages (from scikit-learn>=0.18.0->bayesian-optimization) (0.17.0)\n",
      "Requirement already satisfied: threadpoolctl>=2.0.0 in c:\\users\\chris\\anaconda3\\envs\\learn-env\\lib\\site-packages (from scikit-learn>=0.18.0->bayesian-optimization) (2.1.0)\n"
     ]
    }
   ],
   "source": [
    "!pip install bayesian-optimization"
   ]
  },
  {
   "cell_type": "code",
   "execution_count": 226,
   "metadata": {},
   "outputs": [
    {
     "data": {
      "text/plain": [
       "961440     1\n",
       "960713     1\n",
       "960726     1\n",
       "654934     2\n",
       "1043353    0\n",
       "          ..\n",
       "966837     1\n",
       "1032050    0\n",
       "930584     2\n",
       "920382     1\n",
       "965305     1\n",
       "Name: MOST_SEVERE_INJURY, Length: 43372, dtype: int32"
      ]
     },
     "execution_count": 226,
     "metadata": {},
     "output_type": "execute_result"
    }
   ],
   "source": [
    "Y_train = Y_train.astype('int')\n",
    "Y_train"
   ]
  },
  {
   "cell_type": "code",
   "execution_count": 227,
   "metadata": {},
   "outputs": [
    {
     "name": "stdout",
     "output_type": "stream",
     "text": [
      "              precision    recall  f1-score   support\n",
      "\n",
      "           0       0.84      0.84      0.84     11616\n",
      "           1       0.96      0.98      0.97     21942\n",
      "           2       0.85      0.81      0.83      9814\n",
      "\n",
      "    accuracy                           0.90     43372\n",
      "   macro avg       0.88      0.88      0.88     43372\n",
      "weighted avg       0.90      0.90      0.90     43372\n",
      "\n"
     ]
    }
   ],
   "source": [
    "from xgboost import XGBClassifier\n",
    "classifier1 = XGBClassifier().fit(X_train, Y_train)\n",
    "\n",
    "train_p1 = classifier1.predict(X_train)\n",
    "\n",
    "from sklearn.metrics import classification_report, confusion_matrix, accuracy_score, hamming_loss\n",
    "print(classification_report(Y_train, train_p1))"
   ]
  },
  {
   "cell_type": "code",
   "execution_count": 228,
   "metadata": {},
   "outputs": [
    {
     "data": {
      "text/plain": [
       "41074"
      ]
     },
     "execution_count": 228,
     "metadata": {},
     "output_type": "execute_result"
    }
   ],
   "source": [
    "sum(train_p1)"
   ]
  },
  {
   "cell_type": "code",
   "execution_count": 229,
   "metadata": {},
   "outputs": [
    {
     "name": "stdout",
     "output_type": "stream",
     "text": [
      "0.9032094438808448\n"
     ]
    }
   ],
   "source": [
    "cm = confusion_matrix(train_p1, Y_train)\n",
    "acc = cm.diagonal().sum()/cm.sum()\n",
    "print(acc)"
   ]
  },
  {
   "cell_type": "code",
   "execution_count": 230,
   "metadata": {},
   "outputs": [],
   "source": [
    "from bayes_opt import BayesianOptimization\n",
    "import xgboost as xgb\n",
    "from sklearn.metrics import mean_squared_error, confusion_matrix, classification_report"
   ]
  },
  {
   "cell_type": "code",
   "execution_count": 231,
   "metadata": {},
   "outputs": [],
   "source": [
    "def bo_tune_xgb(max_depth, gamma, n_estimators ,learning_rate, scale_pos_weight, min_child_weight, colsample_bytree):\n",
    "    params = {'max_depth'       : int(max_depth),\n",
    "              'gamma'           : gamma,\n",
    "              'n_estimators'    : int(n_estimators),\n",
    "              'learning_rate'   : learning_rate,\n",
    "              'subsample'       : 0.8,\n",
    "              'eval_metric'     : 'rmse',\n",
    "              'min_child_weight': min_child_weight,\n",
    "              'scale_pos_weight': scale_pos_weight,\n",
    "              'colsample_bytree': colsample_bytree,\n",
    "              'tree_method'     : 'gpu_hist'}\n",
    "    cv_result = xgb.cv(params, D_train, num_boost_round=20, nfold=5)\n",
    "    return -1.0 * cv_result['test-rmse-mean'].iloc[-1]"
   ]
  },
  {
   "cell_type": "code",
   "execution_count": 232,
   "metadata": {},
   "outputs": [
    {
     "data": {
      "text/plain": [
       "<bayes_opt.bayesian_optimization.BayesianOptimization at 0x225d007d5e0>"
      ]
     },
     "execution_count": 232,
     "metadata": {},
     "output_type": "execute_result"
    }
   ],
   "source": [
    "xgb_bo = BayesianOptimization(bo_tune_xgb, {'max_depth' : (3, 10),\n",
    "                        'gamma' : (0, 2),\n",
    "                        'learning_rate'    : (0,1),\n",
    "                        'n_estimators'     : (100,400),\n",
    "                        'scale_pos_weight' : (5,10),\n",
    "                        'min_child_weight' : (1,10),\n",
    "                        'colsample_bytree' : (0,1)})\n",
    "xgb_bo"
   ]
  },
  {
   "cell_type": "code",
   "execution_count": 233,
   "metadata": {},
   "outputs": [
    {
     "name": "stdout",
     "output_type": "stream",
     "text": [
      "|   iter    |  target   | colsam... |   gamma   | learni... | max_depth | min_ch... | n_esti... | scale_... |\n",
      "-------------------------------------------------------------------------------------------------------------\n",
      "[13:50:52] WARNING: C:\\Users\\Administrator\\workspace\\xgboost-win64_release_1.2.0\\src\\learner.cc:516: \n",
      "Parameters: { n_estimators } might not be used.\n",
      "\n",
      "  This may not be accurate due to some parameters are only used in language bindings but\n",
      "  passed down to XGBoost core.  Or some parameters are not used but slip through this\n",
      "  verification. Please open an issue if you find above cases.\n",
      "\n",
      "\n",
      "[13:50:52] WARNING: C:\\Users\\Administrator\\workspace\\xgboost-win64_release_1.2.0\\src\\learner.cc:516: \n",
      "Parameters: { n_estimators } might not be used.\n",
      "\n",
      "  This may not be accurate due to some parameters are only used in language bindings but\n",
      "  passed down to XGBoost core.  Or some parameters are not used but slip through this\n",
      "  verification. Please open an issue if you find above cases.\n",
      "\n",
      "\n",
      "[13:50:52] WARNING: C:\\Users\\Administrator\\workspace\\xgboost-win64_release_1.2.0\\src\\learner.cc:516: \n",
      "Parameters: { n_estimators } might not be used.\n",
      "\n",
      "  This may not be accurate due to some parameters are only used in language bindings but\n",
      "  passed down to XGBoost core.  Or some parameters are not used but slip through this\n",
      "  verification. Please open an issue if you find above cases.\n",
      "\n",
      "\n",
      "[13:50:52] WARNING: C:\\Users\\Administrator\\workspace\\xgboost-win64_release_1.2.0\\src\\learner.cc:516: \n",
      "Parameters: { n_estimators } might not be used.\n",
      "\n",
      "  This may not be accurate due to some parameters are only used in language bindings but\n",
      "  passed down to XGBoost core.  Or some parameters are not used but slip through this\n",
      "  verification. Please open an issue if you find above cases.\n",
      "\n",
      "\n",
      "[13:50:52] WARNING: C:\\Users\\Administrator\\workspace\\xgboost-win64_release_1.2.0\\src\\learner.cc:516: \n",
      "Parameters: { n_estimators } might not be used.\n",
      "\n",
      "  This may not be accurate due to some parameters are only used in language bindings but\n",
      "  passed down to XGBoost core.  Or some parameters are not used but slip through this\n",
      "  verification. Please open an issue if you find above cases.\n",
      "\n",
      "\n",
      "| \u001b[0m 1       \u001b[0m | \u001b[0m-0.6702  \u001b[0m | \u001b[0m 0.08443 \u001b[0m | \u001b[0m 0.314   \u001b[0m | \u001b[0m 0.3321  \u001b[0m | \u001b[0m 4.882   \u001b[0m | \u001b[0m 2.297   \u001b[0m | \u001b[0m 313.6   \u001b[0m | \u001b[0m 6.934   \u001b[0m |\n",
      "[13:50:53] WARNING: C:\\Users\\Administrator\\workspace\\xgboost-win64_release_1.2.0\\src\\learner.cc:516: \n",
      "Parameters: { n_estimators } might not be used.\n",
      "\n",
      "  This may not be accurate due to some parameters are only used in language bindings but\n",
      "  passed down to XGBoost core.  Or some parameters are not used but slip through this\n",
      "  verification. Please open an issue if you find above cases.\n",
      "\n",
      "\n",
      "[13:50:53] WARNING: C:\\Users\\Administrator\\workspace\\xgboost-win64_release_1.2.0\\src\\learner.cc:516: \n",
      "Parameters: { n_estimators } might not be used.\n",
      "\n",
      "  This may not be accurate due to some parameters are only used in language bindings but\n",
      "  passed down to XGBoost core.  Or some parameters are not used but slip through this\n",
      "  verification. Please open an issue if you find above cases.\n",
      "\n",
      "\n",
      "[13:50:54] WARNING: C:\\Users\\Administrator\\workspace\\xgboost-win64_release_1.2.0\\src\\learner.cc:516: \n",
      "Parameters: { n_estimators } might not be used.\n",
      "\n",
      "  This may not be accurate due to some parameters are only used in language bindings but\n",
      "  passed down to XGBoost core.  Or some parameters are not used but slip through this\n",
      "  verification. Please open an issue if you find above cases.\n",
      "\n",
      "\n",
      "[13:50:54] WARNING: C:\\Users\\Administrator\\workspace\\xgboost-win64_release_1.2.0\\src\\learner.cc:516: \n",
      "Parameters: { n_estimators } might not be used.\n",
      "\n",
      "  This may not be accurate due to some parameters are only used in language bindings but\n",
      "  passed down to XGBoost core.  Or some parameters are not used but slip through this\n",
      "  verification. Please open an issue if you find above cases.\n",
      "\n",
      "\n",
      "[13:50:54] WARNING: C:\\Users\\Administrator\\workspace\\xgboost-win64_release_1.2.0\\src\\learner.cc:516: \n",
      "Parameters: { n_estimators } might not be used.\n",
      "\n",
      "  This may not be accurate due to some parameters are only used in language bindings but\n",
      "  passed down to XGBoost core.  Or some parameters are not used but slip through this\n",
      "  verification. Please open an issue if you find above cases.\n",
      "\n",
      "\n",
      "| \u001b[95m 2       \u001b[0m | \u001b[95m-0.6397  \u001b[0m | \u001b[95m 0.838   \u001b[0m | \u001b[95m 1.387   \u001b[0m | \u001b[95m 0.3091  \u001b[0m | \u001b[95m 3.953   \u001b[0m | \u001b[95m 8.412   \u001b[0m | \u001b[95m 388.7   \u001b[0m | \u001b[95m 6.238   \u001b[0m |\n",
      "[13:50:55] WARNING: C:\\Users\\Administrator\\workspace\\xgboost-win64_release_1.2.0\\src\\learner.cc:516: \n",
      "Parameters: { n_estimators } might not be used.\n",
      "\n",
      "  This may not be accurate due to some parameters are only used in language bindings but\n",
      "  passed down to XGBoost core.  Or some parameters are not used but slip through this\n",
      "  verification. Please open an issue if you find above cases.\n",
      "\n",
      "\n",
      "[13:50:55] WARNING: C:\\Users\\Administrator\\workspace\\xgboost-win64_release_1.2.0\\src\\learner.cc:516: \n",
      "Parameters: { n_estimators } might not be used.\n",
      "\n",
      "  This may not be accurate due to some parameters are only used in language bindings but\n",
      "  passed down to XGBoost core.  Or some parameters are not used but slip through this\n",
      "  verification. Please open an issue if you find above cases.\n",
      "\n",
      "\n",
      "[13:50:55] WARNING: C:\\Users\\Administrator\\workspace\\xgboost-win64_release_1.2.0\\src\\learner.cc:516: \n",
      "Parameters: { n_estimators } might not be used.\n",
      "\n",
      "  This may not be accurate due to some parameters are only used in language bindings but\n",
      "  passed down to XGBoost core.  Or some parameters are not used but slip through this\n",
      "  verification. Please open an issue if you find above cases.\n",
      "\n",
      "\n",
      "[13:50:55] WARNING: C:\\Users\\Administrator\\workspace\\xgboost-win64_release_1.2.0\\src\\learner.cc:516: \n",
      "Parameters: { n_estimators } might not be used.\n",
      "\n",
      "  This may not be accurate due to some parameters are only used in language bindings but\n",
      "  passed down to XGBoost core.  Or some parameters are not used but slip through this\n",
      "  verification. Please open an issue if you find above cases.\n",
      "\n",
      "\n",
      "[13:50:55] WARNING: C:\\Users\\Administrator\\workspace\\xgboost-win64_release_1.2.0\\src\\learner.cc:516: \n",
      "Parameters: { n_estimators } might not be used.\n",
      "\n",
      "  This may not be accurate due to some parameters are only used in language bindings but\n",
      "  passed down to XGBoost core.  Or some parameters are not used but slip through this\n",
      "  verification. Please open an issue if you find above cases.\n",
      "\n",
      "\n",
      "| \u001b[0m 3       \u001b[0m | \u001b[0m-0.6535  \u001b[0m | \u001b[0m 0.1744  \u001b[0m | \u001b[0m 1.819   \u001b[0m | \u001b[0m 0.3294  \u001b[0m | \u001b[0m 6.195   \u001b[0m | \u001b[0m 8.007   \u001b[0m | \u001b[0m 168.4   \u001b[0m | \u001b[0m 8.883   \u001b[0m |\n",
      "[13:50:57] WARNING: C:\\Users\\Administrator\\workspace\\xgboost-win64_release_1.2.0\\src\\learner.cc:516: \n",
      "Parameters: { n_estimators } might not be used.\n",
      "\n",
      "  This may not be accurate due to some parameters are only used in language bindings but\n",
      "  passed down to XGBoost core.  Or some parameters are not used but slip through this\n",
      "  verification. Please open an issue if you find above cases.\n",
      "\n",
      "\n",
      "[13:50:57] WARNING: C:\\Users\\Administrator\\workspace\\xgboost-win64_release_1.2.0\\src\\learner.cc:516: \n",
      "Parameters: { n_estimators } might not be used.\n",
      "\n",
      "  This may not be accurate due to some parameters are only used in language bindings but\n",
      "  passed down to XGBoost core.  Or some parameters are not used but slip through this\n",
      "  verification. Please open an issue if you find above cases.\n",
      "\n",
      "\n",
      "[13:50:57] WARNING: C:\\Users\\Administrator\\workspace\\xgboost-win64_release_1.2.0\\src\\learner.cc:516: \n",
      "Parameters: { n_estimators } might not be used.\n",
      "\n",
      "  This may not be accurate due to some parameters are only used in language bindings but\n",
      "  passed down to XGBoost core.  Or some parameters are not used but slip through this\n",
      "  verification. Please open an issue if you find above cases.\n",
      "\n",
      "\n",
      "[13:50:57] WARNING: C:\\Users\\Administrator\\workspace\\xgboost-win64_release_1.2.0\\src\\learner.cc:516: \n",
      "Parameters: { n_estimators } might not be used.\n",
      "\n",
      "  This may not be accurate due to some parameters are only used in language bindings but\n",
      "  passed down to XGBoost core.  Or some parameters are not used but slip through this\n",
      "  verification. Please open an issue if you find above cases.\n",
      "\n",
      "\n",
      "[13:50:57] WARNING: C:\\Users\\Administrator\\workspace\\xgboost-win64_release_1.2.0\\src\\learner.cc:516: \n",
      "Parameters: { n_estimators } might not be used.\n",
      "\n",
      "  This may not be accurate due to some parameters are only used in language bindings but\n",
      "  passed down to XGBoost core.  Or some parameters are not used but slip through this\n",
      "  verification. Please open an issue if you find above cases.\n",
      "\n",
      "\n"
     ]
    },
    {
     "name": "stdout",
     "output_type": "stream",
     "text": [
      "| \u001b[95m 4       \u001b[0m | \u001b[95m-0.59    \u001b[0m | \u001b[95m 0.9516  \u001b[0m | \u001b[95m 1.496   \u001b[0m | \u001b[95m 0.3934  \u001b[0m | \u001b[95m 9.397   \u001b[0m | \u001b[95m 1.992   \u001b[0m | \u001b[95m 375.1   \u001b[0m | \u001b[95m 5.1     \u001b[0m |\n",
      "[13:51:00] WARNING: C:\\Users\\Administrator\\workspace\\xgboost-win64_release_1.2.0\\src\\learner.cc:516: \n",
      "Parameters: { n_estimators } might not be used.\n",
      "\n",
      "  This may not be accurate due to some parameters are only used in language bindings but\n",
      "  passed down to XGBoost core.  Or some parameters are not used but slip through this\n",
      "  verification. Please open an issue if you find above cases.\n",
      "\n",
      "\n",
      "[13:51:00] WARNING: C:\\Users\\Administrator\\workspace\\xgboost-win64_release_1.2.0\\src\\learner.cc:516: \n",
      "Parameters: { n_estimators } might not be used.\n",
      "\n",
      "  This may not be accurate due to some parameters are only used in language bindings but\n",
      "  passed down to XGBoost core.  Or some parameters are not used but slip through this\n",
      "  verification. Please open an issue if you find above cases.\n",
      "\n",
      "\n",
      "[13:51:01] WARNING: C:\\Users\\Administrator\\workspace\\xgboost-win64_release_1.2.0\\src\\learner.cc:516: \n",
      "Parameters: { n_estimators } might not be used.\n",
      "\n",
      "  This may not be accurate due to some parameters are only used in language bindings but\n",
      "  passed down to XGBoost core.  Or some parameters are not used but slip through this\n",
      "  verification. Please open an issue if you find above cases.\n",
      "\n",
      "\n",
      "[13:51:01] WARNING: C:\\Users\\Administrator\\workspace\\xgboost-win64_release_1.2.0\\src\\learner.cc:516: \n",
      "Parameters: { n_estimators } might not be used.\n",
      "\n",
      "  This may not be accurate due to some parameters are only used in language bindings but\n",
      "  passed down to XGBoost core.  Or some parameters are not used but slip through this\n",
      "  verification. Please open an issue if you find above cases.\n",
      "\n",
      "\n",
      "[13:51:01] WARNING: C:\\Users\\Administrator\\workspace\\xgboost-win64_release_1.2.0\\src\\learner.cc:516: \n",
      "Parameters: { n_estimators } might not be used.\n",
      "\n",
      "  This may not be accurate due to some parameters are only used in language bindings but\n",
      "  passed down to XGBoost core.  Or some parameters are not used but slip through this\n",
      "  verification. Please open an issue if you find above cases.\n",
      "\n",
      "\n",
      "| \u001b[0m 5       \u001b[0m | \u001b[0m-0.7675  \u001b[0m | \u001b[0m 0.3067  \u001b[0m | \u001b[0m 1.796   \u001b[0m | \u001b[0m 0.01519 \u001b[0m | \u001b[0m 9.447   \u001b[0m | \u001b[0m 7.209   \u001b[0m | \u001b[0m 229.0   \u001b[0m | \u001b[0m 9.945   \u001b[0m |\n",
      "[13:51:03] WARNING: C:\\Users\\Administrator\\workspace\\xgboost-win64_release_1.2.0\\src\\learner.cc:516: \n",
      "Parameters: { n_estimators } might not be used.\n",
      "\n",
      "  This may not be accurate due to some parameters are only used in language bindings but\n",
      "  passed down to XGBoost core.  Or some parameters are not used but slip through this\n",
      "  verification. Please open an issue if you find above cases.\n",
      "\n",
      "\n",
      "[13:51:03] WARNING: C:\\Users\\Administrator\\workspace\\xgboost-win64_release_1.2.0\\src\\learner.cc:516: \n",
      "Parameters: { n_estimators } might not be used.\n",
      "\n",
      "  This may not be accurate due to some parameters are only used in language bindings but\n",
      "  passed down to XGBoost core.  Or some parameters are not used but slip through this\n",
      "  verification. Please open an issue if you find above cases.\n",
      "\n",
      "\n",
      "[13:51:03] WARNING: C:\\Users\\Administrator\\workspace\\xgboost-win64_release_1.2.0\\src\\learner.cc:516: \n",
      "Parameters: { n_estimators } might not be used.\n",
      "\n",
      "  This may not be accurate due to some parameters are only used in language bindings but\n",
      "  passed down to XGBoost core.  Or some parameters are not used but slip through this\n",
      "  verification. Please open an issue if you find above cases.\n",
      "\n",
      "\n",
      "[13:51:03] WARNING: C:\\Users\\Administrator\\workspace\\xgboost-win64_release_1.2.0\\src\\learner.cc:516: \n",
      "Parameters: { n_estimators } might not be used.\n",
      "\n",
      "  This may not be accurate due to some parameters are only used in language bindings but\n",
      "  passed down to XGBoost core.  Or some parameters are not used but slip through this\n",
      "  verification. Please open an issue if you find above cases.\n",
      "\n",
      "\n",
      "[13:51:03] WARNING: C:\\Users\\Administrator\\workspace\\xgboost-win64_release_1.2.0\\src\\learner.cc:516: \n",
      "Parameters: { n_estimators } might not be used.\n",
      "\n",
      "  This may not be accurate due to some parameters are only used in language bindings but\n",
      "  passed down to XGBoost core.  Or some parameters are not used but slip through this\n",
      "  verification. Please open an issue if you find above cases.\n",
      "\n",
      "\n",
      "| \u001b[0m 6       \u001b[0m | \u001b[0m-0.6116  \u001b[0m | \u001b[0m 0.7384  \u001b[0m | \u001b[0m 1.942   \u001b[0m | \u001b[0m 0.2082  \u001b[0m | \u001b[0m 7.611   \u001b[0m | \u001b[0m 2.429   \u001b[0m | \u001b[0m 171.8   \u001b[0m | \u001b[0m 8.008   \u001b[0m |\n",
      "[13:51:06] WARNING: C:\\Users\\Administrator\\workspace\\xgboost-win64_release_1.2.0\\src\\learner.cc:516: \n",
      "Parameters: { n_estimators } might not be used.\n",
      "\n",
      "  This may not be accurate due to some parameters are only used in language bindings but\n",
      "  passed down to XGBoost core.  Or some parameters are not used but slip through this\n",
      "  verification. Please open an issue if you find above cases.\n",
      "\n",
      "\n",
      "[13:51:06] WARNING: C:\\Users\\Administrator\\workspace\\xgboost-win64_release_1.2.0\\src\\learner.cc:516: \n",
      "Parameters: { n_estimators } might not be used.\n",
      "\n",
      "  This may not be accurate due to some parameters are only used in language bindings but\n",
      "  passed down to XGBoost core.  Or some parameters are not used but slip through this\n",
      "  verification. Please open an issue if you find above cases.\n",
      "\n",
      "\n",
      "[13:51:06] WARNING: C:\\Users\\Administrator\\workspace\\xgboost-win64_release_1.2.0\\src\\learner.cc:516: \n",
      "Parameters: { n_estimators } might not be used.\n",
      "\n",
      "  This may not be accurate due to some parameters are only used in language bindings but\n",
      "  passed down to XGBoost core.  Or some parameters are not used but slip through this\n",
      "  verification. Please open an issue if you find above cases.\n",
      "\n",
      "\n",
      "[13:51:06] WARNING: C:\\Users\\Administrator\\workspace\\xgboost-win64_release_1.2.0\\src\\learner.cc:516: \n",
      "Parameters: { n_estimators } might not be used.\n",
      "\n",
      "  This may not be accurate due to some parameters are only used in language bindings but\n",
      "  passed down to XGBoost core.  Or some parameters are not used but slip through this\n",
      "  verification. Please open an issue if you find above cases.\n",
      "\n",
      "\n",
      "[13:51:06] WARNING: C:\\Users\\Administrator\\workspace\\xgboost-win64_release_1.2.0\\src\\learner.cc:516: \n",
      "Parameters: { n_estimators } might not be used.\n",
      "\n",
      "  This may not be accurate due to some parameters are only used in language bindings but\n",
      "  passed down to XGBoost core.  Or some parameters are not used but slip through this\n",
      "  verification. Please open an issue if you find above cases.\n",
      "\n",
      "\n",
      "| \u001b[0m 7       \u001b[0m | \u001b[0m-0.6841  \u001b[0m | \u001b[0m 0.07758 \u001b[0m | \u001b[0m 0.7347  \u001b[0m | \u001b[0m 0.133   \u001b[0m | \u001b[0m 5.156   \u001b[0m | \u001b[0m 2.42    \u001b[0m | \u001b[0m 322.7   \u001b[0m | \u001b[0m 6.053   \u001b[0m |\n",
      "[13:51:08] WARNING: C:\\Users\\Administrator\\workspace\\xgboost-win64_release_1.2.0\\src\\learner.cc:516: \n",
      "Parameters: { n_estimators } might not be used.\n",
      "\n",
      "  This may not be accurate due to some parameters are only used in language bindings but\n",
      "  passed down to XGBoost core.  Or some parameters are not used but slip through this\n",
      "  verification. Please open an issue if you find above cases.\n",
      "\n",
      "\n",
      "[13:51:08] WARNING: C:\\Users\\Administrator\\workspace\\xgboost-win64_release_1.2.0\\src\\learner.cc:516: \n",
      "Parameters: { n_estimators } might not be used.\n",
      "\n",
      "  This may not be accurate due to some parameters are only used in language bindings but\n",
      "  passed down to XGBoost core.  Or some parameters are not used but slip through this\n",
      "  verification. Please open an issue if you find above cases.\n",
      "\n",
      "\n",
      "[13:51:08] WARNING: C:\\Users\\Administrator\\workspace\\xgboost-win64_release_1.2.0\\src\\learner.cc:516: \n",
      "Parameters: { n_estimators } might not be used.\n",
      "\n",
      "  This may not be accurate due to some parameters are only used in language bindings but\n",
      "  passed down to XGBoost core.  Or some parameters are not used but slip through this\n",
      "  verification. Please open an issue if you find above cases.\n",
      "\n",
      "\n",
      "[13:51:08] WARNING: C:\\Users\\Administrator\\workspace\\xgboost-win64_release_1.2.0\\src\\learner.cc:516: \n",
      "Parameters: { n_estimators } might not be used.\n",
      "\n",
      "  This may not be accurate due to some parameters are only used in language bindings but\n",
      "  passed down to XGBoost core.  Or some parameters are not used but slip through this\n",
      "  verification. Please open an issue if you find above cases.\n",
      "\n",
      "\n",
      "[13:51:08] WARNING: C:\\Users\\Administrator\\workspace\\xgboost-win64_release_1.2.0\\src\\learner.cc:516: \n",
      "Parameters: { n_estimators } might not be used.\n",
      "\n",
      "  This may not be accurate due to some parameters are only used in language bindings but\n",
      "  passed down to XGBoost core.  Or some parameters are not used but slip through this\n",
      "  verification. Please open an issue if you find above cases.\n",
      "\n",
      "\n"
     ]
    },
    {
     "name": "stdout",
     "output_type": "stream",
     "text": [
      "| \u001b[0m 8       \u001b[0m | \u001b[0m-0.7126  \u001b[0m | \u001b[0m 0.1925  \u001b[0m | \u001b[0m 1.66    \u001b[0m | \u001b[0m 0.0401  \u001b[0m | \u001b[0m 7.998   \u001b[0m | \u001b[0m 8.578   \u001b[0m | \u001b[0m 168.4   \u001b[0m | \u001b[0m 8.509   \u001b[0m |\n",
      "[13:51:10] WARNING: C:\\Users\\Administrator\\workspace\\xgboost-win64_release_1.2.0\\src\\learner.cc:516: \n",
      "Parameters: { n_estimators } might not be used.\n",
      "\n",
      "  This may not be accurate due to some parameters are only used in language bindings but\n",
      "  passed down to XGBoost core.  Or some parameters are not used but slip through this\n",
      "  verification. Please open an issue if you find above cases.\n",
      "\n",
      "\n",
      "[13:51:10] WARNING: C:\\Users\\Administrator\\workspace\\xgboost-win64_release_1.2.0\\src\\learner.cc:516: \n",
      "Parameters: { n_estimators } might not be used.\n",
      "\n",
      "  This may not be accurate due to some parameters are only used in language bindings but\n",
      "  passed down to XGBoost core.  Or some parameters are not used but slip through this\n",
      "  verification. Please open an issue if you find above cases.\n",
      "\n",
      "\n",
      "[13:51:10] WARNING: C:\\Users\\Administrator\\workspace\\xgboost-win64_release_1.2.0\\src\\learner.cc:516: \n",
      "Parameters: { n_estimators } might not be used.\n",
      "\n",
      "  This may not be accurate due to some parameters are only used in language bindings but\n",
      "  passed down to XGBoost core.  Or some parameters are not used but slip through this\n",
      "  verification. Please open an issue if you find above cases.\n",
      "\n",
      "\n",
      "[13:51:10] WARNING: C:\\Users\\Administrator\\workspace\\xgboost-win64_release_1.2.0\\src\\learner.cc:516: \n",
      "Parameters: { n_estimators } might not be used.\n",
      "\n",
      "  This may not be accurate due to some parameters are only used in language bindings but\n",
      "  passed down to XGBoost core.  Or some parameters are not used but slip through this\n",
      "  verification. Please open an issue if you find above cases.\n",
      "\n",
      "\n",
      "[13:51:10] WARNING: C:\\Users\\Administrator\\workspace\\xgboost-win64_release_1.2.0\\src\\learner.cc:516: \n",
      "Parameters: { n_estimators } might not be used.\n",
      "\n",
      "  This may not be accurate due to some parameters are only used in language bindings but\n",
      "  passed down to XGBoost core.  Or some parameters are not used but slip through this\n",
      "  verification. Please open an issue if you find above cases.\n",
      "\n",
      "\n",
      "| \u001b[0m 9       \u001b[0m | \u001b[0m-0.6159  \u001b[0m | \u001b[0m 0.4006  \u001b[0m | \u001b[0m 0.6037  \u001b[0m | \u001b[0m 0.4898  \u001b[0m | \u001b[0m 5.254   \u001b[0m | \u001b[0m 9.854   \u001b[0m | \u001b[0m 388.2   \u001b[0m | \u001b[0m 6.151   \u001b[0m |\n",
      "[13:51:11] WARNING: C:\\Users\\Administrator\\workspace\\xgboost-win64_release_1.2.0\\src\\learner.cc:516: \n",
      "Parameters: { n_estimators } might not be used.\n",
      "\n",
      "  This may not be accurate due to some parameters are only used in language bindings but\n",
      "  passed down to XGBoost core.  Or some parameters are not used but slip through this\n",
      "  verification. Please open an issue if you find above cases.\n",
      "\n",
      "\n",
      "[13:51:11] WARNING: C:\\Users\\Administrator\\workspace\\xgboost-win64_release_1.2.0\\src\\learner.cc:516: \n",
      "Parameters: { n_estimators } might not be used.\n",
      "\n",
      "  This may not be accurate due to some parameters are only used in language bindings but\n",
      "  passed down to XGBoost core.  Or some parameters are not used but slip through this\n",
      "  verification. Please open an issue if you find above cases.\n",
      "\n",
      "\n",
      "[13:51:12] WARNING: C:\\Users\\Administrator\\workspace\\xgboost-win64_release_1.2.0\\src\\learner.cc:516: \n",
      "Parameters: { n_estimators } might not be used.\n",
      "\n",
      "  This may not be accurate due to some parameters are only used in language bindings but\n",
      "  passed down to XGBoost core.  Or some parameters are not used but slip through this\n",
      "  verification. Please open an issue if you find above cases.\n",
      "\n",
      "\n",
      "[13:51:12] WARNING: C:\\Users\\Administrator\\workspace\\xgboost-win64_release_1.2.0\\src\\learner.cc:516: \n",
      "Parameters: { n_estimators } might not be used.\n",
      "\n",
      "  This may not be accurate due to some parameters are only used in language bindings but\n",
      "  passed down to XGBoost core.  Or some parameters are not used but slip through this\n",
      "  verification. Please open an issue if you find above cases.\n",
      "\n",
      "\n",
      "[13:51:12] WARNING: C:\\Users\\Administrator\\workspace\\xgboost-win64_release_1.2.0\\src\\learner.cc:516: \n",
      "Parameters: { n_estimators } might not be used.\n",
      "\n",
      "  This may not be accurate due to some parameters are only used in language bindings but\n",
      "  passed down to XGBoost core.  Or some parameters are not used but slip through this\n",
      "  verification. Please open an issue if you find above cases.\n",
      "\n",
      "\n",
      "| \u001b[0m 10      \u001b[0m | \u001b[0m-0.6153  \u001b[0m | \u001b[0m 0.6965  \u001b[0m | \u001b[0m 0.8659  \u001b[0m | \u001b[0m 0.846   \u001b[0m | \u001b[0m 5.754   \u001b[0m | \u001b[0m 2.438   \u001b[0m | \u001b[0m 222.3   \u001b[0m | \u001b[0m 7.259   \u001b[0m |\n",
      "[13:51:13] WARNING: C:\\Users\\Administrator\\workspace\\xgboost-win64_release_1.2.0\\src\\learner.cc:516: \n",
      "Parameters: { n_estimators } might not be used.\n",
      "\n",
      "  This may not be accurate due to some parameters are only used in language bindings but\n",
      "  passed down to XGBoost core.  Or some parameters are not used but slip through this\n",
      "  verification. Please open an issue if you find above cases.\n",
      "\n",
      "\n",
      "[13:51:13] WARNING: C:\\Users\\Administrator\\workspace\\xgboost-win64_release_1.2.0\\src\\learner.cc:516: \n",
      "Parameters: { n_estimators } might not be used.\n",
      "\n",
      "  This may not be accurate due to some parameters are only used in language bindings but\n",
      "  passed down to XGBoost core.  Or some parameters are not used but slip through this\n",
      "  verification. Please open an issue if you find above cases.\n",
      "\n",
      "\n",
      "[13:51:13] WARNING: C:\\Users\\Administrator\\workspace\\xgboost-win64_release_1.2.0\\src\\learner.cc:516: \n",
      "Parameters: { n_estimators } might not be used.\n",
      "\n",
      "  This may not be accurate due to some parameters are only used in language bindings but\n",
      "  passed down to XGBoost core.  Or some parameters are not used but slip through this\n",
      "  verification. Please open an issue if you find above cases.\n",
      "\n",
      "\n",
      "[13:51:14] WARNING: C:\\Users\\Administrator\\workspace\\xgboost-win64_release_1.2.0\\src\\learner.cc:516: \n",
      "Parameters: { n_estimators } might not be used.\n",
      "\n",
      "  This may not be accurate due to some parameters are only used in language bindings but\n",
      "  passed down to XGBoost core.  Or some parameters are not used but slip through this\n",
      "  verification. Please open an issue if you find above cases.\n",
      "\n",
      "\n",
      "[13:51:14] WARNING: C:\\Users\\Administrator\\workspace\\xgboost-win64_release_1.2.0\\src\\learner.cc:516: \n",
      "Parameters: { n_estimators } might not be used.\n",
      "\n",
      "  This may not be accurate due to some parameters are only used in language bindings but\n",
      "  passed down to XGBoost core.  Or some parameters are not used but slip through this\n",
      "  verification. Please open an issue if you find above cases.\n",
      "\n",
      "\n",
      "| \u001b[0m 11      \u001b[0m | \u001b[0m-0.6176  \u001b[0m | \u001b[0m 0.4866  \u001b[0m | \u001b[0m 0.8732  \u001b[0m | \u001b[0m 0.936   \u001b[0m | \u001b[0m 5.215   \u001b[0m | \u001b[0m 3.794   \u001b[0m | \u001b[0m 322.7   \u001b[0m | \u001b[0m 7.81    \u001b[0m |\n",
      "[13:51:15] WARNING: C:\\Users\\Administrator\\workspace\\xgboost-win64_release_1.2.0\\src\\learner.cc:516: \n",
      "Parameters: { n_estimators } might not be used.\n",
      "\n",
      "  This may not be accurate due to some parameters are only used in language bindings but\n",
      "  passed down to XGBoost core.  Or some parameters are not used but slip through this\n",
      "  verification. Please open an issue if you find above cases.\n",
      "\n",
      "\n",
      "[13:51:15] WARNING: C:\\Users\\Administrator\\workspace\\xgboost-win64_release_1.2.0\\src\\learner.cc:516: \n",
      "Parameters: { n_estimators } might not be used.\n",
      "\n",
      "  This may not be accurate due to some parameters are only used in language bindings but\n",
      "  passed down to XGBoost core.  Or some parameters are not used but slip through this\n",
      "  verification. Please open an issue if you find above cases.\n",
      "\n",
      "\n",
      "[13:51:15] WARNING: C:\\Users\\Administrator\\workspace\\xgboost-win64_release_1.2.0\\src\\learner.cc:516: \n",
      "Parameters: { n_estimators } might not be used.\n",
      "\n",
      "  This may not be accurate due to some parameters are only used in language bindings but\n",
      "  passed down to XGBoost core.  Or some parameters are not used but slip through this\n",
      "  verification. Please open an issue if you find above cases.\n",
      "\n",
      "\n",
      "[13:51:15] WARNING: C:\\Users\\Administrator\\workspace\\xgboost-win64_release_1.2.0\\src\\learner.cc:516: \n",
      "Parameters: { n_estimators } might not be used.\n",
      "\n",
      "  This may not be accurate due to some parameters are only used in language bindings but\n",
      "  passed down to XGBoost core.  Or some parameters are not used but slip through this\n",
      "  verification. Please open an issue if you find above cases.\n",
      "\n",
      "\n",
      "[13:51:15] WARNING: C:\\Users\\Administrator\\workspace\\xgboost-win64_release_1.2.0\\src\\learner.cc:516: \n",
      "Parameters: { n_estimators } might not be used.\n",
      "\n",
      "  This may not be accurate due to some parameters are only used in language bindings but\n",
      "  passed down to XGBoost core.  Or some parameters are not used but slip through this\n",
      "  verification. Please open an issue if you find above cases.\n",
      "\n",
      "\n"
     ]
    },
    {
     "name": "stdout",
     "output_type": "stream",
     "text": [
      "| \u001b[0m 12      \u001b[0m | \u001b[0m-0.6835  \u001b[0m | \u001b[0m 0.0875  \u001b[0m | \u001b[0m 1.511   \u001b[0m | \u001b[0m 0.2038  \u001b[0m | \u001b[0m 3.339   \u001b[0m | \u001b[0m 5.962   \u001b[0m | \u001b[0m 223.9   \u001b[0m | \u001b[0m 8.353   \u001b[0m |\n",
      "[13:51:17] WARNING: C:\\Users\\Administrator\\workspace\\xgboost-win64_release_1.2.0\\src\\learner.cc:516: \n",
      "Parameters: { n_estimators } might not be used.\n",
      "\n",
      "  This may not be accurate due to some parameters are only used in language bindings but\n",
      "  passed down to XGBoost core.  Or some parameters are not used but slip through this\n",
      "  verification. Please open an issue if you find above cases.\n",
      "\n",
      "\n",
      "[13:51:17] WARNING: C:\\Users\\Administrator\\workspace\\xgboost-win64_release_1.2.0\\src\\learner.cc:516: \n",
      "Parameters: { n_estimators } might not be used.\n",
      "\n",
      "  This may not be accurate due to some parameters are only used in language bindings but\n",
      "  passed down to XGBoost core.  Or some parameters are not used but slip through this\n",
      "  verification. Please open an issue if you find above cases.\n",
      "\n",
      "\n",
      "[13:51:17] WARNING: C:\\Users\\Administrator\\workspace\\xgboost-win64_release_1.2.0\\src\\learner.cc:516: \n",
      "Parameters: { n_estimators } might not be used.\n",
      "\n",
      "  This may not be accurate due to some parameters are only used in language bindings but\n",
      "  passed down to XGBoost core.  Or some parameters are not used but slip through this\n",
      "  verification. Please open an issue if you find above cases.\n",
      "\n",
      "\n",
      "[13:51:17] WARNING: C:\\Users\\Administrator\\workspace\\xgboost-win64_release_1.2.0\\src\\learner.cc:516: \n",
      "Parameters: { n_estimators } might not be used.\n",
      "\n",
      "  This may not be accurate due to some parameters are only used in language bindings but\n",
      "  passed down to XGBoost core.  Or some parameters are not used but slip through this\n",
      "  verification. Please open an issue if you find above cases.\n",
      "\n",
      "\n",
      "[13:51:17] WARNING: C:\\Users\\Administrator\\workspace\\xgboost-win64_release_1.2.0\\src\\learner.cc:516: \n",
      "Parameters: { n_estimators } might not be used.\n",
      "\n",
      "  This may not be accurate due to some parameters are only used in language bindings but\n",
      "  passed down to XGBoost core.  Or some parameters are not used but slip through this\n",
      "  verification. Please open an issue if you find above cases.\n",
      "\n",
      "\n",
      "| \u001b[0m 13      \u001b[0m | \u001b[0m-0.6516  \u001b[0m | \u001b[0m 0.9098  \u001b[0m | \u001b[0m 0.2888  \u001b[0m | \u001b[0m 0.1168  \u001b[0m | \u001b[0m 4.411   \u001b[0m | \u001b[0m 4.225   \u001b[0m | \u001b[0m 340.2   \u001b[0m | \u001b[0m 9.371   \u001b[0m |\n",
      "[13:51:18] WARNING: C:\\Users\\Administrator\\workspace\\xgboost-win64_release_1.2.0\\src\\learner.cc:516: \n",
      "Parameters: { n_estimators } might not be used.\n",
      "\n",
      "  This may not be accurate due to some parameters are only used in language bindings but\n",
      "  passed down to XGBoost core.  Or some parameters are not used but slip through this\n",
      "  verification. Please open an issue if you find above cases.\n",
      "\n",
      "\n",
      "[13:51:18] WARNING: C:\\Users\\Administrator\\workspace\\xgboost-win64_release_1.2.0\\src\\learner.cc:516: \n",
      "Parameters: { n_estimators } might not be used.\n",
      "\n",
      "  This may not be accurate due to some parameters are only used in language bindings but\n",
      "  passed down to XGBoost core.  Or some parameters are not used but slip through this\n",
      "  verification. Please open an issue if you find above cases.\n",
      "\n",
      "\n",
      "[13:51:18] WARNING: C:\\Users\\Administrator\\workspace\\xgboost-win64_release_1.2.0\\src\\learner.cc:516: \n",
      "Parameters: { n_estimators } might not be used.\n",
      "\n",
      "  This may not be accurate due to some parameters are only used in language bindings but\n",
      "  passed down to XGBoost core.  Or some parameters are not used but slip through this\n",
      "  verification. Please open an issue if you find above cases.\n",
      "\n",
      "\n",
      "[13:51:19] WARNING: C:\\Users\\Administrator\\workspace\\xgboost-win64_release_1.2.0\\src\\learner.cc:516: \n",
      "Parameters: { n_estimators } might not be used.\n",
      "\n",
      "  This may not be accurate due to some parameters are only used in language bindings but\n",
      "  passed down to XGBoost core.  Or some parameters are not used but slip through this\n",
      "  verification. Please open an issue if you find above cases.\n",
      "\n",
      "\n",
      "[13:51:19] WARNING: C:\\Users\\Administrator\\workspace\\xgboost-win64_release_1.2.0\\src\\learner.cc:516: \n",
      "Parameters: { n_estimators } might not be used.\n",
      "\n",
      "  This may not be accurate due to some parameters are only used in language bindings but\n",
      "  passed down to XGBoost core.  Or some parameters are not used but slip through this\n",
      "  verification. Please open an issue if you find above cases.\n",
      "\n",
      "\n",
      "| \u001b[0m 14      \u001b[0m | \u001b[0m-0.6387  \u001b[0m | \u001b[0m 0.8062  \u001b[0m | \u001b[0m 1.383   \u001b[0m | \u001b[0m 0.2113  \u001b[0m | \u001b[0m 4.168   \u001b[0m | \u001b[0m 6.498   \u001b[0m | \u001b[0m 389.6   \u001b[0m | \u001b[0m 8.28    \u001b[0m |\n",
      "[13:51:20] WARNING: C:\\Users\\Administrator\\workspace\\xgboost-win64_release_1.2.0\\src\\learner.cc:516: \n",
      "Parameters: { n_estimators } might not be used.\n",
      "\n",
      "  This may not be accurate due to some parameters are only used in language bindings but\n",
      "  passed down to XGBoost core.  Or some parameters are not used but slip through this\n",
      "  verification. Please open an issue if you find above cases.\n",
      "\n",
      "\n",
      "[13:51:20] WARNING: C:\\Users\\Administrator\\workspace\\xgboost-win64_release_1.2.0\\src\\learner.cc:516: \n",
      "Parameters: { n_estimators } might not be used.\n",
      "\n",
      "  This may not be accurate due to some parameters are only used in language bindings but\n",
      "  passed down to XGBoost core.  Or some parameters are not used but slip through this\n",
      "  verification. Please open an issue if you find above cases.\n",
      "\n",
      "\n",
      "[13:51:20] WARNING: C:\\Users\\Administrator\\workspace\\xgboost-win64_release_1.2.0\\src\\learner.cc:516: \n",
      "Parameters: { n_estimators } might not be used.\n",
      "\n",
      "  This may not be accurate due to some parameters are only used in language bindings but\n",
      "  passed down to XGBoost core.  Or some parameters are not used but slip through this\n",
      "  verification. Please open an issue if you find above cases.\n",
      "\n",
      "\n",
      "[13:51:20] WARNING: C:\\Users\\Administrator\\workspace\\xgboost-win64_release_1.2.0\\src\\learner.cc:516: \n",
      "Parameters: { n_estimators } might not be used.\n",
      "\n",
      "  This may not be accurate due to some parameters are only used in language bindings but\n",
      "  passed down to XGBoost core.  Or some parameters are not used but slip through this\n",
      "  verification. Please open an issue if you find above cases.\n",
      "\n",
      "\n",
      "[13:51:20] WARNING: C:\\Users\\Administrator\\workspace\\xgboost-win64_release_1.2.0\\src\\learner.cc:516: \n",
      "Parameters: { n_estimators } might not be used.\n",
      "\n",
      "  This may not be accurate due to some parameters are only used in language bindings but\n",
      "  passed down to XGBoost core.  Or some parameters are not used but slip through this\n",
      "  verification. Please open an issue if you find above cases.\n",
      "\n",
      "\n",
      "| \u001b[0m 15      \u001b[0m | \u001b[0m-0.6299  \u001b[0m | \u001b[0m 0.516   \u001b[0m | \u001b[0m 0.9123  \u001b[0m | \u001b[0m 0.3665  \u001b[0m | \u001b[0m 4.032   \u001b[0m | \u001b[0m 5.973   \u001b[0m | \u001b[0m 389.4   \u001b[0m | \u001b[0m 7.843   \u001b[0m |\n",
      "[13:51:22] WARNING: C:\\Users\\Administrator\\workspace\\xgboost-win64_release_1.2.0\\src\\learner.cc:516: \n",
      "Parameters: { n_estimators } might not be used.\n",
      "\n",
      "  This may not be accurate due to some parameters are only used in language bindings but\n",
      "  passed down to XGBoost core.  Or some parameters are not used but slip through this\n",
      "  verification. Please open an issue if you find above cases.\n",
      "\n",
      "\n",
      "[13:51:22] WARNING: C:\\Users\\Administrator\\workspace\\xgboost-win64_release_1.2.0\\src\\learner.cc:516: \n",
      "Parameters: { n_estimators } might not be used.\n",
      "\n",
      "  This may not be accurate due to some parameters are only used in language bindings but\n",
      "  passed down to XGBoost core.  Or some parameters are not used but slip through this\n",
      "  verification. Please open an issue if you find above cases.\n",
      "\n",
      "\n",
      "[13:51:22] WARNING: C:\\Users\\Administrator\\workspace\\xgboost-win64_release_1.2.0\\src\\learner.cc:516: \n",
      "Parameters: { n_estimators } might not be used.\n",
      "\n",
      "  This may not be accurate due to some parameters are only used in language bindings but\n",
      "  passed down to XGBoost core.  Or some parameters are not used but slip through this\n",
      "  verification. Please open an issue if you find above cases.\n",
      "\n",
      "\n",
      "[13:51:22] WARNING: C:\\Users\\Administrator\\workspace\\xgboost-win64_release_1.2.0\\src\\learner.cc:516: \n",
      "Parameters: { n_estimators } might not be used.\n",
      "\n",
      "  This may not be accurate due to some parameters are only used in language bindings but\n",
      "  passed down to XGBoost core.  Or some parameters are not used but slip through this\n",
      "  verification. Please open an issue if you find above cases.\n",
      "\n",
      "\n",
      "[13:51:22] WARNING: C:\\Users\\Administrator\\workspace\\xgboost-win64_release_1.2.0\\src\\learner.cc:516: \n",
      "Parameters: { n_estimators } might not be used.\n",
      "\n",
      "  This may not be accurate due to some parameters are only used in language bindings but\n",
      "  passed down to XGBoost core.  Or some parameters are not used but slip through this\n",
      "  verification. Please open an issue if you find above cases.\n",
      "\n",
      "\n"
     ]
    },
    {
     "name": "stdout",
     "output_type": "stream",
     "text": [
      "| \u001b[0m 16      \u001b[0m | \u001b[0m-0.5925  \u001b[0m | \u001b[0m 0.8076  \u001b[0m | \u001b[0m 1.419   \u001b[0m | \u001b[0m 0.4893  \u001b[0m | \u001b[0m 9.233   \u001b[0m | \u001b[0m 2.338   \u001b[0m | \u001b[0m 374.6   \u001b[0m | \u001b[0m 5.833   \u001b[0m |\n",
      "[13:51:25] WARNING: C:\\Users\\Administrator\\workspace\\xgboost-win64_release_1.2.0\\src\\learner.cc:516: \n",
      "Parameters: { n_estimators } might not be used.\n",
      "\n",
      "  This may not be accurate due to some parameters are only used in language bindings but\n",
      "  passed down to XGBoost core.  Or some parameters are not used but slip through this\n",
      "  verification. Please open an issue if you find above cases.\n",
      "\n",
      "\n",
      "[13:51:25] WARNING: C:\\Users\\Administrator\\workspace\\xgboost-win64_release_1.2.0\\src\\learner.cc:516: \n",
      "Parameters: { n_estimators } might not be used.\n",
      "\n",
      "  This may not be accurate due to some parameters are only used in language bindings but\n",
      "  passed down to XGBoost core.  Or some parameters are not used but slip through this\n",
      "  verification. Please open an issue if you find above cases.\n",
      "\n",
      "\n",
      "[13:51:25] WARNING: C:\\Users\\Administrator\\workspace\\xgboost-win64_release_1.2.0\\src\\learner.cc:516: \n",
      "Parameters: { n_estimators } might not be used.\n",
      "\n",
      "  This may not be accurate due to some parameters are only used in language bindings but\n",
      "  passed down to XGBoost core.  Or some parameters are not used but slip through this\n",
      "  verification. Please open an issue if you find above cases.\n",
      "\n",
      "\n",
      "[13:51:26] WARNING: C:\\Users\\Administrator\\workspace\\xgboost-win64_release_1.2.0\\src\\learner.cc:516: \n",
      "Parameters: { n_estimators } might not be used.\n",
      "\n",
      "  This may not be accurate due to some parameters are only used in language bindings but\n",
      "  passed down to XGBoost core.  Or some parameters are not used but slip through this\n",
      "  verification. Please open an issue if you find above cases.\n",
      "\n",
      "\n",
      "[13:51:26] WARNING: C:\\Users\\Administrator\\workspace\\xgboost-win64_release_1.2.0\\src\\learner.cc:516: \n",
      "Parameters: { n_estimators } might not be used.\n",
      "\n",
      "  This may not be accurate due to some parameters are only used in language bindings but\n",
      "  passed down to XGBoost core.  Or some parameters are not used but slip through this\n",
      "  verification. Please open an issue if you find above cases.\n",
      "\n",
      "\n",
      "| \u001b[0m 17      \u001b[0m | \u001b[0m-0.602   \u001b[0m | \u001b[0m 0.5314  \u001b[0m | \u001b[0m 1.398   \u001b[0m | \u001b[0m 0.1784  \u001b[0m | \u001b[0m 9.169   \u001b[0m | \u001b[0m 1.648   \u001b[0m | \u001b[0m 375.3   \u001b[0m | \u001b[0m 6.479   \u001b[0m |\n",
      "[13:51:29] WARNING: C:\\Users\\Administrator\\workspace\\xgboost-win64_release_1.2.0\\src\\learner.cc:516: \n",
      "Parameters: { n_estimators } might not be used.\n",
      "\n",
      "  This may not be accurate due to some parameters are only used in language bindings but\n",
      "  passed down to XGBoost core.  Or some parameters are not used but slip through this\n",
      "  verification. Please open an issue if you find above cases.\n",
      "\n",
      "\n",
      "[13:51:30] WARNING: C:\\Users\\Administrator\\workspace\\xgboost-win64_release_1.2.0\\src\\learner.cc:516: \n",
      "Parameters: { n_estimators } might not be used.\n",
      "\n",
      "  This may not be accurate due to some parameters are only used in language bindings but\n",
      "  passed down to XGBoost core.  Or some parameters are not used but slip through this\n",
      "  verification. Please open an issue if you find above cases.\n",
      "\n",
      "\n",
      "[13:51:30] WARNING: C:\\Users\\Administrator\\workspace\\xgboost-win64_release_1.2.0\\src\\learner.cc:516: \n",
      "Parameters: { n_estimators } might not be used.\n",
      "\n",
      "  This may not be accurate due to some parameters are only used in language bindings but\n",
      "  passed down to XGBoost core.  Or some parameters are not used but slip through this\n",
      "  verification. Please open an issue if you find above cases.\n",
      "\n",
      "\n",
      "[13:51:30] WARNING: C:\\Users\\Administrator\\workspace\\xgboost-win64_release_1.2.0\\src\\learner.cc:516: \n",
      "Parameters: { n_estimators } might not be used.\n",
      "\n",
      "  This may not be accurate due to some parameters are only used in language bindings but\n",
      "  passed down to XGBoost core.  Or some parameters are not used but slip through this\n",
      "  verification. Please open an issue if you find above cases.\n",
      "\n",
      "\n",
      "[13:51:30] WARNING: C:\\Users\\Administrator\\workspace\\xgboost-win64_release_1.2.0\\src\\learner.cc:516: \n",
      "Parameters: { n_estimators } might not be used.\n",
      "\n",
      "  This may not be accurate due to some parameters are only used in language bindings but\n",
      "  passed down to XGBoost core.  Or some parameters are not used but slip through this\n",
      "  verification. Please open an issue if you find above cases.\n",
      "\n",
      "\n",
      "| \u001b[0m 18      \u001b[0m | \u001b[0m-0.6079  \u001b[0m | \u001b[0m 1.0     \u001b[0m | \u001b[0m 2.0     \u001b[0m | \u001b[0m 0.9399  \u001b[0m | \u001b[0m 9.996   \u001b[0m | \u001b[0m 1.155   \u001b[0m | \u001b[0m 373.9   \u001b[0m | \u001b[0m 5.0     \u001b[0m |\n",
      "[13:51:32] WARNING: C:\\Users\\Administrator\\workspace\\xgboost-win64_release_1.2.0\\src\\learner.cc:516: \n",
      "Parameters: { n_estimators } might not be used.\n",
      "\n",
      "  This may not be accurate due to some parameters are only used in language bindings but\n",
      "  passed down to XGBoost core.  Or some parameters are not used but slip through this\n",
      "  verification. Please open an issue if you find above cases.\n",
      "\n",
      "\n",
      "[13:51:32] WARNING: C:\\Users\\Administrator\\workspace\\xgboost-win64_release_1.2.0\\src\\learner.cc:516: \n",
      "Parameters: { n_estimators } might not be used.\n",
      "\n",
      "  This may not be accurate due to some parameters are only used in language bindings but\n",
      "  passed down to XGBoost core.  Or some parameters are not used but slip through this\n",
      "  verification. Please open an issue if you find above cases.\n",
      "\n",
      "\n",
      "[13:51:33] WARNING: C:\\Users\\Administrator\\workspace\\xgboost-win64_release_1.2.0\\src\\learner.cc:516: \n",
      "Parameters: { n_estimators } might not be used.\n",
      "\n",
      "  This may not be accurate due to some parameters are only used in language bindings but\n",
      "  passed down to XGBoost core.  Or some parameters are not used but slip through this\n",
      "  verification. Please open an issue if you find above cases.\n",
      "\n",
      "\n",
      "[13:51:33] WARNING: C:\\Users\\Administrator\\workspace\\xgboost-win64_release_1.2.0\\src\\learner.cc:516: \n",
      "Parameters: { n_estimators } might not be used.\n",
      "\n",
      "  This may not be accurate due to some parameters are only used in language bindings but\n",
      "  passed down to XGBoost core.  Or some parameters are not used but slip through this\n",
      "  verification. Please open an issue if you find above cases.\n",
      "\n",
      "\n",
      "[13:51:33] WARNING: C:\\Users\\Administrator\\workspace\\xgboost-win64_release_1.2.0\\src\\learner.cc:516: \n",
      "Parameters: { n_estimators } might not be used.\n",
      "\n",
      "  This may not be accurate due to some parameters are only used in language bindings but\n",
      "  passed down to XGBoost core.  Or some parameters are not used but slip through this\n",
      "  verification. Please open an issue if you find above cases.\n",
      "\n",
      "\n",
      "| \u001b[0m 19      \u001b[0m | \u001b[0m-0.6121  \u001b[0m | \u001b[0m 0.9534  \u001b[0m | \u001b[0m 2.0     \u001b[0m | \u001b[0m 0.9991  \u001b[0m | \u001b[0m 9.713   \u001b[0m | \u001b[0m 3.623   \u001b[0m | \u001b[0m 375.8   \u001b[0m | \u001b[0m 5.154   \u001b[0m |\n",
      "[13:51:35] WARNING: C:\\Users\\Administrator\\workspace\\xgboost-win64_release_1.2.0\\src\\learner.cc:516: \n",
      "Parameters: { n_estimators } might not be used.\n",
      "\n",
      "  This may not be accurate due to some parameters are only used in language bindings but\n",
      "  passed down to XGBoost core.  Or some parameters are not used but slip through this\n",
      "  verification. Please open an issue if you find above cases.\n",
      "\n",
      "\n",
      "[13:51:35] WARNING: C:\\Users\\Administrator\\workspace\\xgboost-win64_release_1.2.0\\src\\learner.cc:516: \n",
      "Parameters: { n_estimators } might not be used.\n",
      "\n",
      "  This may not be accurate due to some parameters are only used in language bindings but\n",
      "  passed down to XGBoost core.  Or some parameters are not used but slip through this\n",
      "  verification. Please open an issue if you find above cases.\n",
      "\n",
      "\n",
      "[13:51:35] WARNING: C:\\Users\\Administrator\\workspace\\xgboost-win64_release_1.2.0\\src\\learner.cc:516: \n",
      "Parameters: { n_estimators } might not be used.\n",
      "\n",
      "  This may not be accurate due to some parameters are only used in language bindings but\n",
      "  passed down to XGBoost core.  Or some parameters are not used but slip through this\n",
      "  verification. Please open an issue if you find above cases.\n",
      "\n",
      "\n",
      "[13:51:35] WARNING: C:\\Users\\Administrator\\workspace\\xgboost-win64_release_1.2.0\\src\\learner.cc:516: \n",
      "Parameters: { n_estimators } might not be used.\n",
      "\n",
      "  This may not be accurate due to some parameters are only used in language bindings but\n",
      "  passed down to XGBoost core.  Or some parameters are not used but slip through this\n",
      "  verification. Please open an issue if you find above cases.\n",
      "\n",
      "\n",
      "[13:51:35] WARNING: C:\\Users\\Administrator\\workspace\\xgboost-win64_release_1.2.0\\src\\learner.cc:516: \n",
      "Parameters: { n_estimators } might not be used.\n",
      "\n",
      "  This may not be accurate due to some parameters are only used in language bindings but\n",
      "  passed down to XGBoost core.  Or some parameters are not used but slip through this\n",
      "  verification. Please open an issue if you find above cases.\n",
      "\n",
      "\n"
     ]
    },
    {
     "name": "stdout",
     "output_type": "stream",
     "text": [
      "| \u001b[0m 20      \u001b[0m | \u001b[0m-0.6129  \u001b[0m | \u001b[0m 0.7305  \u001b[0m | \u001b[0m 1.47    \u001b[0m | \u001b[0m 0.2576  \u001b[0m | \u001b[0m 6.927   \u001b[0m | \u001b[0m 2.611   \u001b[0m | \u001b[0m 373.6   \u001b[0m | \u001b[0m 5.66    \u001b[0m |\n",
      "[13:51:38] WARNING: C:\\Users\\Administrator\\workspace\\xgboost-win64_release_1.2.0\\src\\learner.cc:516: \n",
      "Parameters: { n_estimators } might not be used.\n",
      "\n",
      "  This may not be accurate due to some parameters are only used in language bindings but\n",
      "  passed down to XGBoost core.  Or some parameters are not used but slip through this\n",
      "  verification. Please open an issue if you find above cases.\n",
      "\n",
      "\n",
      "[13:51:38] WARNING: C:\\Users\\Administrator\\workspace\\xgboost-win64_release_1.2.0\\src\\learner.cc:516: \n",
      "Parameters: { n_estimators } might not be used.\n",
      "\n",
      "  This may not be accurate due to some parameters are only used in language bindings but\n",
      "  passed down to XGBoost core.  Or some parameters are not used but slip through this\n",
      "  verification. Please open an issue if you find above cases.\n",
      "\n",
      "\n",
      "[13:51:38] WARNING: C:\\Users\\Administrator\\workspace\\xgboost-win64_release_1.2.0\\src\\learner.cc:516: \n",
      "Parameters: { n_estimators } might not be used.\n",
      "\n",
      "  This may not be accurate due to some parameters are only used in language bindings but\n",
      "  passed down to XGBoost core.  Or some parameters are not used but slip through this\n",
      "  verification. Please open an issue if you find above cases.\n",
      "\n",
      "\n",
      "[13:51:38] WARNING: C:\\Users\\Administrator\\workspace\\xgboost-win64_release_1.2.0\\src\\learner.cc:516: \n",
      "Parameters: { n_estimators } might not be used.\n",
      "\n",
      "  This may not be accurate due to some parameters are only used in language bindings but\n",
      "  passed down to XGBoost core.  Or some parameters are not used but slip through this\n",
      "  verification. Please open an issue if you find above cases.\n",
      "\n",
      "\n",
      "[13:51:38] WARNING: C:\\Users\\Administrator\\workspace\\xgboost-win64_release_1.2.0\\src\\learner.cc:516: \n",
      "Parameters: { n_estimators } might not be used.\n",
      "\n",
      "  This may not be accurate due to some parameters are only used in language bindings but\n",
      "  passed down to XGBoost core.  Or some parameters are not used but slip through this\n",
      "  verification. Please open an issue if you find above cases.\n",
      "\n",
      "\n",
      "| \u001b[0m 21      \u001b[0m | \u001b[0m-0.6247  \u001b[0m | \u001b[0m 0.4231  \u001b[0m | \u001b[0m 1.286   \u001b[0m | \u001b[0m 0.9819  \u001b[0m | \u001b[0m 4.933   \u001b[0m | \u001b[0m 5.395   \u001b[0m | \u001b[0m 323.5   \u001b[0m | \u001b[0m 9.138   \u001b[0m |\n",
      "[13:51:39] WARNING: C:\\Users\\Administrator\\workspace\\xgboost-win64_release_1.2.0\\src\\learner.cc:516: \n",
      "Parameters: { n_estimators } might not be used.\n",
      "\n",
      "  This may not be accurate due to some parameters are only used in language bindings but\n",
      "  passed down to XGBoost core.  Or some parameters are not used but slip through this\n",
      "  verification. Please open an issue if you find above cases.\n",
      "\n",
      "\n",
      "[13:51:39] WARNING: C:\\Users\\Administrator\\workspace\\xgboost-win64_release_1.2.0\\src\\learner.cc:516: \n",
      "Parameters: { n_estimators } might not be used.\n",
      "\n",
      "  This may not be accurate due to some parameters are only used in language bindings but\n",
      "  passed down to XGBoost core.  Or some parameters are not used but slip through this\n",
      "  verification. Please open an issue if you find above cases.\n",
      "\n",
      "\n",
      "[13:51:39] WARNING: C:\\Users\\Administrator\\workspace\\xgboost-win64_release_1.2.0\\src\\learner.cc:516: \n",
      "Parameters: { n_estimators } might not be used.\n",
      "\n",
      "  This may not be accurate due to some parameters are only used in language bindings but\n",
      "  passed down to XGBoost core.  Or some parameters are not used but slip through this\n",
      "  verification. Please open an issue if you find above cases.\n",
      "\n",
      "\n",
      "[13:51:40] WARNING: C:\\Users\\Administrator\\workspace\\xgboost-win64_release_1.2.0\\src\\learner.cc:516: \n",
      "Parameters: { n_estimators } might not be used.\n",
      "\n",
      "  This may not be accurate due to some parameters are only used in language bindings but\n",
      "  passed down to XGBoost core.  Or some parameters are not used but slip through this\n",
      "  verification. Please open an issue if you find above cases.\n",
      "\n",
      "\n",
      "[13:51:40] WARNING: C:\\Users\\Administrator\\workspace\\xgboost-win64_release_1.2.0\\src\\learner.cc:516: \n",
      "Parameters: { n_estimators } might not be used.\n",
      "\n",
      "  This may not be accurate due to some parameters are only used in language bindings but\n",
      "  passed down to XGBoost core.  Or some parameters are not used but slip through this\n",
      "  verification. Please open an issue if you find above cases.\n",
      "\n",
      "\n",
      "| \u001b[0m 22      \u001b[0m | \u001b[0m-0.6049  \u001b[0m | \u001b[0m 0.4116  \u001b[0m | \u001b[0m 0.1914  \u001b[0m | \u001b[0m 0.1787  \u001b[0m | \u001b[0m 9.487   \u001b[0m | \u001b[0m 1.229   \u001b[0m | \u001b[0m 374.1   \u001b[0m | \u001b[0m 5.324   \u001b[0m |\n",
      "=============================================================================================================\n"
     ]
    }
   ],
   "source": [
    "xgb_bo.maximize(n_iter=10, init_points=12, acq='ei')"
   ]
  },
  {
   "cell_type": "code",
   "execution_count": 234,
   "metadata": {},
   "outputs": [
    {
     "name": "stdout",
     "output_type": "stream",
     "text": [
      "{'colsample_bytree': 0.9515858766134149, 'gamma': 1.4962369253992516, 'learning_rate': 0.3934106906416157, 'max_depth': 9.396941351753284, 'min_child_weight': 1.9915119739488192, 'n_estimators': 375.14597386089144, 'scale_pos_weight': 5.099559590484562}\n"
     ]
    }
   ],
   "source": [
    "params = xgb_bo.max['params']\n",
    "print(params)"
   ]
  },
  {
   "cell_type": "code",
   "execution_count": 235,
   "metadata": {},
   "outputs": [],
   "source": [
    "params['max_depth']= int(params['max_depth'])\n",
    "params['n_estimators']= int(params['n_estimators'])"
   ]
  },
  {
   "cell_type": "code",
   "execution_count": 236,
   "metadata": {},
   "outputs": [],
   "source": [
    "from xgboost import XGBClassifier"
   ]
  },
  {
   "cell_type": "code",
   "execution_count": 237,
   "metadata": {},
   "outputs": [
    {
     "name": "stdout",
     "output_type": "stream",
     "text": [
      "[13:51:43] WARNING: C:\\Users\\Administrator\\workspace\\xgboost-win64_release_1.2.0\\src\\learner.cc:516: \n",
      "Parameters: { scale_pos_weight } might not be used.\n",
      "\n",
      "  This may not be accurate due to some parameters are only used in language bindings but\n",
      "  passed down to XGBoost core.  Or some parameters are not used but slip through this\n",
      "  verification. Please open an issue if you find above cases.\n",
      "\n",
      "\n"
     ]
    }
   ],
   "source": [
    "classifier2 = XGBClassifier(**params).fit(X_train, Y_train)"
   ]
  },
  {
   "cell_type": "code",
   "execution_count": 238,
   "metadata": {},
   "outputs": [],
   "source": [
    "train_p2 = classifier2.predict(X_train)"
   ]
  },
  {
   "cell_type": "code",
   "execution_count": 239,
   "metadata": {},
   "outputs": [
    {
     "name": "stdout",
     "output_type": "stream",
     "text": [
      "              precision    recall  f1-score   support\n",
      "\n",
      "           0       0.97      0.97      0.97     11648\n",
      "           1       1.00      0.99      0.99     22069\n",
      "           2       0.96      0.97      0.96      9655\n",
      "\n",
      "    accuracy                           0.98     43372\n",
      "   macro avg       0.97      0.98      0.98     43372\n",
      "weighted avg       0.98      0.98      0.98     43372\n",
      "\n"
     ]
    }
   ],
   "source": [
    "print(classification_report(train_p2, Y_train))"
   ]
  },
  {
   "cell_type": "code",
   "execution_count": 240,
   "metadata": {},
   "outputs": [
    {
     "name": "stdout",
     "output_type": "stream",
     "text": [
      "0.9809093424329061\n"
     ]
    }
   ],
   "source": [
    "cm = confusion_matrix(train_p2, Y_train)\n",
    "acc = cm.diagonal().sum()/cm.sum()\n",
    "print(acc)"
   ]
  },
  {
   "cell_type": "code",
   "execution_count": 241,
   "metadata": {},
   "outputs": [
    {
     "data": {
      "text/plain": [
       "41379"
      ]
     },
     "execution_count": 241,
     "metadata": {},
     "output_type": "execute_result"
    }
   ],
   "source": [
    "sum(train_p2)"
   ]
  },
  {
   "cell_type": "code",
   "execution_count": 243,
   "metadata": {},
   "outputs": [
    {
     "data": {
      "text/plain": [
       "{'f204': [671.0504068398501, 'OCCUPANT_CNT'],\n",
       " 'f5': [13.941269648226033, 'POSTED_SPEED_LIMIT'],\n",
       " 'f105': [8.6331628046125, 'NUM_UNITS'],\n",
       " 'f107': [9.839533251712117, 'CRASH_HOUR'],\n",
       " 'f172': [6.584146709674245, 'CRASH_DAY_OF_WEEK'],\n",
       " 'f112': [8.908373378569234, 'CRASH_MONTH'],\n",
       " 'f109': [7.267270926684999, 'IS_A_HOLIDAY'],\n",
       " 'f261': [3.4288946819380963, 'HOLIDAY_NAME'],\n",
       " 'f203': [12.649137715215499, 'DISABLED VEHICLE'],\n",
       " 'f237': [4.046580530573769, 'DRIVER'],\n",
       " 'f2': [3.893653945135077, 'DRIVERLESS'],\n",
       " 'f177': [2.8857878501851846, 'NON-CONTACT VEHICLE'],\n",
       " 'f212': [2.334481651817073, 'BRAKES'],\n",
       " 'f4': [2.879144708996157, 'CARGO'],\n",
       " 'f1': [2.422462475398297, 'ENGINE/MOTOR'],\n",
       " 'f48': [1.5266381599809522, 'FUEL SYSTEM'],\n",
       " 'f356': [7.293231540378378, 'LIGHTS'],\n",
       " 'f86': [1.239715133631579, 'NONE'],\n",
       " 'f191': [2.5990219713947367, 'OTHER'],\n",
       " 'f59': [1.9736712270123455, 'SIGNALS'],\n",
       " 'f159': [4.434401860087292, 'STEERING'],\n",
       " 'f145': [2.6516303114337587, 'SUSPENSION'],\n",
       " 'f169': [2.6262723654646467, 'TIRES'],\n",
       " 'f36': [1.6086285212258062, 'UNKNOWN'],\n",
       " 'f156': [4.056886534303371, 'WHEELS'],\n",
       " 'f258': [2.2959815294788744, '3-WHEELED MOTORCYCLE (2 REAR WHEELS)'],\n",
       " 'f355': [2.8902796628314635, 'ALL-TERRAIN VEHICLE (ATV)'],\n",
       " 'f224': [2.1058586599845537, 'BUS OVER 15 PASS.'],\n",
       " 'f267': [3.7468251926, 'BUS UP TO 15 PASS.'],\n",
       " 'f265': [2.7959325238767128, 'FARM EQUIPMENT'],\n",
       " 'f282': [2.6147929321881724, 'MOPED OR MOTORIZED BICYCLE'],\n",
       " 'f147': [2.364675362603174, 'MOTOR DRIVEN CYCLE'],\n",
       " 'f285': [3.11794490014516, 'MOTORCYCLE (OVER 150CC)'],\n",
       " 'f283': [2.066766292, 'OTHER'],\n",
       " 'f401': [7.619505967108334, 'OTHER VEHICLE WITH TRAILER'],\n",
       " 'f6': [3.6901668557936502, 'PASSENGER'],\n",
       " 'f386': [2.138232830940259, 'PICKUP'],\n",
       " 'f158': [6.793996113184161, 'RECREATIONAL OFF-HIGHWAY VEHICLE (ROV)'],\n",
       " 'f390': [2.276597111690477, 'SINGLE UNIT TRUCK WITH TRAILER'],\n",
       " 'f32': [3.850676829757141, 'SPORT UTILITY VEHICLE (SUV)'],\n",
       " 'f188': [2.3812117795000005, 'TRACTOR W/ SEMI-TRAILER'],\n",
       " 'f287': [2.121392154349283, 'TRACTOR W/O SEMI-TRAILER'],\n",
       " 'f133': [2.400573616817758, 'TRUCK - SINGLE UNIT'],\n",
       " 'f132': [1.591476062725, 'UNKNOWN/NA'],\n",
       " 'f230': [2.6115541258, 'AGRICULTURE'],\n",
       " 'f205': [2.8734971153970568, 'AMBULANCE'],\n",
       " 'f0': [2.860833800821807, 'CAMPER/RV - SINGLE UNIT'],\n",
       " 'f138': [2.3020659731600004, 'COMMERCIAL - MULTI-UNIT'],\n",
       " 'f257': [2.207617459, 'COMMERCIAL - SINGLE UNIT'],\n",
       " 'f168': [2.692704751344886, 'CONSTRUCTION/MAINTENANCE'],\n",
       " 'f187': [1.8883981005833332, 'CTA'],\n",
       " 'f35': [2.056481708106383, 'DRIVER EDUCATION'],\n",
       " 'f139': [2.864894209953105, 'FIRE'],\n",
       " 'f286': [2.5954718493539324, 'LAWN CARE/LANDSCAPING'],\n",
       " 'f144': [2.2855500176250008, 'MASS TRANSIT'],\n",
       " 'f189': [2.7120834957435895, 'MILITARY'],\n",
       " 'f226': [2.6264326072342326, 'NOT IN USE'],\n",
       " 'f190': [2.862667153484664, 'OTHER'],\n",
       " 'f243': [2.539499415295093, 'OTHER TRANSIT'],\n",
       " 'f197': [2.5083682613333345, 'PERSONAL'],\n",
       " 'f222': [4.542148640666669, 'POLICE'],\n",
       " 'f143': [6.267489541276595, 'RIDESHARE SERVICE'],\n",
       " 'f263': [2.4811808711886796, 'SCHOOL BUS'],\n",
       " 'f149': [2.5181464241575777, 'STATE OWNED'],\n",
       " 'f96': [2.3431859487444435, 'TAXI/FOR HIRE'],\n",
       " 'f157': [3.198203975090385, 'TOW TRUCK'],\n",
       " 'f102': [3.98064705880577, 'E'],\n",
       " 'f129': [2.2034503401527132, 'N'],\n",
       " 'f272': [2.4136629449336504, 'NE'],\n",
       " 'f402': [1.842513593618519, 'NW'],\n",
       " 'f23': [2.365077712971428, 'S'],\n",
       " 'f174': [2.598393149233853, 'SE'],\n",
       " 'f67': [2.1997985048635518, 'SW'],\n",
       " 'f167': [2.0990114055681826, 'UNKNOWN'],\n",
       " 'f142': [2.8387900257388066, 'AVOIDING VEHICLES/OBJECTS'],\n",
       " 'f370': [2.0841583451481482, 'BACKING'],\n",
       " 'f68': [1.95850517002439, 'CHANGING LANES'],\n",
       " 'f239': [1.9716888697407413, 'DISABLED'],\n",
       " 'f103': [5.591604684349122, 'DIVERGING'],\n",
       " 'f130': [2.484105220912699, 'DRIVERLESS'],\n",
       " 'f3': [2.3414984685723397, 'DRIVING WRONG WAY'],\n",
       " 'f17': [2.37722872127551, 'ENTER FROM DRIVE/ALLEY'],\n",
       " 'f70': [1.9112224182156852, 'ENTERING TRAFFIC LANE FROM PARKING'],\n",
       " 'f199': [2.334185706866667, 'LEAVING TRAFFIC LANE TO PARK'],\n",
       " 'f304': [1.5831187827142856, 'MERGING'],\n",
       " 'f118': [2.6416457578073387, 'NEGOTIATING A CURVE'],\n",
       " 'f206': [2.20822913732787, 'OTHER'],\n",
       " 'f351': [3.789056099317756, 'PARKED'],\n",
       " 'f352': [2.600299119156044, 'PARKED IN TRAFFIC LANE'],\n",
       " 'f181': [2.476119006714286, 'PASSING/OVERTAKING'],\n",
       " 'f339': [2.1790505574523813, 'SKIDDING/CONTROL LOSS'],\n",
       " 'f66': [1.975145572667415, 'SLOW/STOP - LEFT TURN'],\n",
       " 'f195': [1.6682685181178576, 'SLOW/STOP - LOAD/UNLOAD'],\n",
       " 'f73': [1.1864841578, 'SLOW/STOP - RIGHT TURN'],\n",
       " 'f9': [3.7085099808235293, 'SLOW/STOP IN TRAFFIC'],\n",
       " 'f198': [1.7015905337142856, 'STARTING IN TRAFFIC'],\n",
       " 'f219': [2.7758673548979593, 'STRAIGHT AHEAD'],\n",
       " 'f33': [1.52225220528, 'TURNING LEFT'],\n",
       " 'f106': [4.170321258669354, 'TURNING ON RED'],\n",
       " 'f164': [3.025401621717476, 'TURNING RIGHT'],\n",
       " 'f111': [2.0508260115116284, 'U-TURN'],\n",
       " 'f148': [2.261603257008621, 'FRONT'],\n",
       " 'f361': [1.3308521128586208, 'FRONT-LEFT'],\n",
       " 'f378': [2.0290188258636346, 'FRONT-RIGHT'],\n",
       " 'f347': [2.2934122626842117, 'NONE'],\n",
       " 'f274': [2.2839341365555557, 'OTHER'],\n",
       " 'f101': [3.913565999813095, 'REAR'],\n",
       " 'f152': [3.8004328710952375, 'REAR-LEFT'],\n",
       " 'f94': [2.2748643768235293, 'REAR-RIGHT'],\n",
       " 'f89': [2.3077997171666667, 'ROOF'],\n",
       " 'f245': [2.154811702363636, 'SIDE-LEFT'],\n",
       " 'f225': [2.412178388035713, 'SIDE-RIGHT'],\n",
       " 'f151': [2.043160088571429, 'TOTAL (ALL AREAS)'],\n",
       " 'f213': [3.094025042589622, 'UNDER CARRIAGE'],\n",
       " 'f40': [1.5876805482758622, 'BICYCLE CROSSING SIGN'],\n",
       " 'f71': [1.7667177185652176, 'DELINEATORS'],\n",
       " 'f61': [1.4020192590399998, 'FLASHING CONTROL SIGNAL'],\n",
       " 'f399': [2.855185663066019, 'LANE USE MARKING'],\n",
       " 'f184': [1.568587837714286, 'NO CONTROLS'],\n",
       " 'f404': [1.5478915529740733, 'NO PASSING'],\n",
       " 'f194': [2.423948578304545, 'OTHER'],\n",
       " 'f135': [3.648243516024999, 'OTHER RAILROAD CROSSING'],\n",
       " 'f231': [3.2693368311600004, 'OTHER REG. SIGN'],\n",
       " 'f140': [2.05272765625, 'OTHER WARNING SIGN'],\n",
       " 'f228': [1.5386970307500003, 'PEDESTRIAN CROSSING SIGN'],\n",
       " 'f176': [2.1711350494230763, 'POLICE/FLAGMAN'],\n",
       " 'f349': [2.174187983383929, 'RAILROAD CROSSING GATE'],\n",
       " 'f354': [2.2090238666525424, 'RR CROSSING SIGN'],\n",
       " 'f264': [2.063646922841269, 'SCHOOL ZONE'],\n",
       " 'f113': [2.3220056569, 'STOP SIGN/FLASHER'],\n",
       " 'f162': [2.669697191125, 'TRAFFIC SIGNAL'],\n",
       " 'f110': [2.3378624642903225, 'UNKNOWN'],\n",
       " 'f344': [1.969676718808571, 'FUNCTIONING IMPROPERLY'],\n",
       " 'f42': [1.9776602665454548, 'FUNCTIONING PROPERLY'],\n",
       " 'f166': [1.6340846930000001, 'MISSING'],\n",
       " 'f120': [2.429131586, 'NO CONTROLS'],\n",
       " 'f99': [2.15677598316, 'NOT FUNCTIONING'],\n",
       " 'f39': [2.2266388886935493, 'OTHER'],\n",
       " 'f395': [1.8503961141894738, 'UNKNOWN'],\n",
       " 'f364': [1.9509150209782613, 'CLEAR'],\n",
       " 'f97': [1.8950951204912283, 'CLOUDY/OVERCAST'],\n",
       " 'f276': [2.3644821626000008, 'OTHER'],\n",
       " 'f244': [2.5723824800930237, 'RAIN'],\n",
       " 'f340': [1.6330695568750004, 'SNOW'],\n",
       " 'f365': [1.9945882840625002, 'DARKNESS'],\n",
       " 'f372': [1.728912005472973, 'DARKNESS, LIGHTED ROAD'],\n",
       " 'f220': [2.0460804361515157, 'DAWN'],\n",
       " 'f373': [2.150002700392857, 'DAYLIGHT'],\n",
       " 'f252': [2.2367276015116273, 'DUSK'],\n",
       " 'f235': [1.9445235927105262, 'ANGLE'],\n",
       " 'f223': [2.7448002239090914, 'ANIMAL'],\n",
       " 'f171': [1.3448307055384616, 'FIXED OBJECT'],\n",
       " 'f400': [1.3629263201923072, 'HEAD ON'],\n",
       " 'f218': [1.7377033524838712, 'OTHER NONCOLLISION'],\n",
       " 'f131': [1.8482634251481485, 'OTHER OBJECT'],\n",
       " 'f163': [1.604541695148148, 'OVERTURNED'],\n",
       " 'f146': [1.567318725964286, 'PARKED MOTOR VEHICLE'],\n",
       " 'f323': [0.706497896257143, 'PEDALCYCLIST'],\n",
       " 'f201': [2.0381389963611114, 'PEDESTRIAN'],\n",
       " 'f394': [3.036207925153846, 'REAR END'],\n",
       " 'f397': [1.7707893613999999, 'REAR TO FRONT'],\n",
       " 'f392': [1.0987431592272732, 'REAR TO REAR'],\n",
       " 'f270': [2.0125061141951215, 'REAR TO SIDE'],\n",
       " 'f229': [2.512774142729412, 'SIDESWIPE OPPOSITE DIRECTION'],\n",
       " 'f233': [1.7557804180277776, 'SIDESWIPE SAME DIRECTION'],\n",
       " 'f363': [0.9535824167066667, 'TRAIN'],\n",
       " 'f303': [2.0458295511666664, 'ALLEY'],\n",
       " 'f60': [1.0656093989533333, 'CENTER TURN LANE'],\n",
       " 'f69': [1.566749432, 'DIVIDED - W/MEDIAN (NOT RAISED)'],\n",
       " 'f87': [2.3258495711111107, 'DIVIDED - W/MEDIAN BARRIER'],\n",
       " 'f141': [1.8997830749999998, 'DRIVEWAY'],\n",
       " 'f119': [1.5322299492, 'FIVE POINT, OR MORE'],\n",
       " 'f359': [1.4999722461473681, 'FOUR WAY'],\n",
       " 'f341': [1.0956528586666667, 'L-INTERSECTION'],\n",
       " 'f43': [1.2153771925, 'NOT DIVIDED'],\n",
       " 'f27': [1.8326331512499996, 'NOT REPORTED'],\n",
       " 'f403': [1.9056878098695653, 'ONE-WAY'],\n",
       " 'f353': [1.4487381460967745, 'OTHER'],\n",
       " 'f254': [1.8801757608387095, 'PARKING LOT'],\n",
       " 'f215': [2.245930357242499, 'RAMP'],\n",
       " 'f170': [0.8958849677124999, 'ROUNDABOUT'],\n",
       " 'f64': [0.8835710331000002, 'T-INTERSECTION'],\n",
       " 'f342': [1.1713829573571428, 'TRAFFIC ROUTE'],\n",
       " 'f377': [1.1000602445454548, 'UNKNOWN'],\n",
       " 'f81': [1.0800752784999998, 'UNKNOWN INTERSECTION TYPE'],\n",
       " 'f250': [1.8521272017058825, 'CURVE ON GRADE'],\n",
       " 'f7': [2.7323423025999998, 'CURVE ON HILLCREST'],\n",
       " 'f266': [1.9280641377333334, 'CURVE, LEVEL'],\n",
       " 'f216': [1.7171701663846155, 'STRAIGHT AND LEVEL'],\n",
       " 'f251': [1.241642259764706, 'STRAIGHT ON GRADE'],\n",
       " 'f259': [1.3939417024499998, 'DRY'],\n",
       " 'f100': [0.8585487954705884, 'ICE'],\n",
       " 'f136': [1.134516883335, 'OTHER'],\n",
       " 'f154': [0.8628248337999999, 'SAND, MUD, DIRT'],\n",
       " 'f57': [1.7320297933750002, 'SNOW OR SLUSH'],\n",
       " 'f358': [1.1244447365714285, 'UNKNOWN'],\n",
       " 'f76': [1.1662721117266663, 'DEBRIS ON ROADWAY'],\n",
       " 'f209': [1.715593471266667, 'NO DEFECTS'],\n",
       " 'f367': [1.5022372172608698, 'OTHER'],\n",
       " 'f268': [1.98075925304, 'RUT, HOLES'],\n",
       " 'f242': [0.8816730308714286, 'SHOULDER DEFECT'],\n",
       " 'f74': [1.1211018494444445, 'UNKNOWN'],\n",
       " 'f108': [1.4847926339090904, 'AMENDED'],\n",
       " 'f72': [1.6302630674571426, 'NOT ON SCENE (DESK REPORT)'],\n",
       " 'f385': [1.8609505002857143, 'INJURY AND / OR TOW DUE TO CRASH'],\n",
       " 'f56': [2.4278495062941174, '$500 OR LESS'],\n",
       " 'f10': [1.1557237317333333, '$501 - $1,500'],\n",
       " 'f343': [1.0040661415714287, 'ANIMAL'],\n",
       " 'f175': [1.4746925850714283, 'BICYCLE ADVANCING LEGALLY ON RED LIGHT'],\n",
       " 'f104': [0.9033509485384615, 'CELL PHONE USE OTHER THAN TEXTING'],\n",
       " 'f18': [0.8958226889999998, 'DISREGARDING OTHER TRAFFIC SIGNS'],\n",
       " 'f95': [1.1058542633846153, 'DISREGARDING ROAD MARKINGS'],\n",
       " 'f380': [1.042286039, 'DISREGARDING STOP SIGN'],\n",
       " 'f88': [1.0844828935833333, 'DISREGARDING TRAFFIC SIGNALS'],\n",
       " 'f269': [2.09518471809091, 'DISREGARDING YIELD SIGN'],\n",
       " 'f247': [1.485135665142857, 'DISTRACTION - FROM INSIDE VEHICLE'],\n",
       " 'f262': [1.2460374289583334, 'DISTRACTION - FROM OUTSIDE VEHICLE'],\n",
       " 'f387': [1.2977997601636364,\n",
       "  'DISTRACTION - OTHER ELECTRONIC DEVICE (NAVIGATION DEVICE, DVD PLAYER, ETC.)'],\n",
       " 'f83': [0.7296227188444446, 'DRIVING ON WRONG SIDE/WRONG WAY'],\n",
       " 'f91': [1.2621445905, 'DRIVING SKILLS/KNOWLEDGE/EXPERIENCE'],\n",
       " 'f253': [1.023992666466667, 'EQUIPMENT - VEHICLE CONDITION'],\n",
       " 'f98': [0.8255573529, 'EVASIVE ACTION DUE TO ANIMAL, OBJECT, NONMOTORIST'],\n",
       " 'f391': [1.1946010535833331, 'EXCEEDING AUTHORIZED SPEED LIMIT'],\n",
       " 'f12': [1.0317410002750003, 'EXCEEDING SAFE SPEED FOR CONDITIONS'],\n",
       " 'f284': [1.4247632495294118, 'FAILING TO REDUCE SPEED TO AVOID CRASH'],\n",
       " 'f346': [0.9730888866923076, 'FAILING TO YIELD RIGHT-OF-WAY'],\n",
       " 'f362': [0.9033441367999999, 'FOLLOWING TOO CLOSELY'],\n",
       " 'f47': [0.8065802621, 'HAD BEEN DRINKING (USE WHEN ARREST IS NOT MADE)'],\n",
       " 'f279': [0.9293612198333333, 'IMPROPER BACKING'],\n",
       " 'f192': [1.1396334651, 'IMPROPER LANE USAGE'],\n",
       " 'f278': [1.2609215722, 'IMPROPER OVERTAKING/PASSING'],\n",
       " 'f317': [0.8662338233333332, 'IMPROPER TURNING/NO SIGNAL'],\n",
       " 'f50': [1.5108645515999999, 'MOTORCYCLE ADVANCING LEGALLY ON RED LIGHT'],\n",
       " 'f58': [0.9029193690666667, 'NOT APPLICABLE'],\n",
       " 'f255': [1.1494173709375, 'OBSTRUCTED CROSSWALKS'],\n",
       " 'f241': [0.6720268446400001,\n",
       "  'OPERATING VEHICLE IN ERRATIC, RECKLESS, CARELESS, NEGLIGENT OR AGGRESSIVE MANNER'],\n",
       " 'f84': [1.576271454666667, 'PASSING STOPPED SCHOOL BUS'],\n",
       " 'f31': [0.5717519293923077, 'PHYSICAL CONDITION OF DRIVER'],\n",
       " 'f183': [1.6921109210625003, 'RELATED TO BUS STOP'],\n",
       " 'f82': [1.125690105636364, 'ROAD CONSTRUCTION/MAINTENANCE'],\n",
       " 'f336': [1.2018542427142855, 'ROAD ENGINEERING/SURFACE/MARKING DEFECTS'],\n",
       " 'f137': [0.9275056601304348, 'TEXTING'],\n",
       " 'f180': [0.5188559878000001, 'TURNING RIGHT ON RED'],\n",
       " 'f117': [0.9581340600999997, 'UNABLE TO DETERMINE'],\n",
       " 'f128': [0.6942324230000001,\n",
       "  'UNDER THE INFLUENCE OF ALCOHOL/DRUGS (USE WHEN ARREST IS EFFECTED)'],\n",
       " 'f238': [0.9936005322499999,\n",
       "  'VISION OBSCURED (SIGNS, TREE LIMBS, BUILDINGS, ETC.)'],\n",
       " 'f366': [0.5137549952636362, 'ANIMAL'],\n",
       " 'f292': [0.6074828003, 'BICYCLE ADVANCING LEGALLY ON RED LIGHT'],\n",
       " 'f38': [0.8162693787142857, 'CELL PHONE USE OTHER THAN TEXTING'],\n",
       " 'f350': [0.9651320780909092, 'DISREGARDING OTHER TRAFFIC SIGNS'],\n",
       " 'f249': [1.3389474937727277, 'DISREGARDING ROAD MARKINGS'],\n",
       " 'f248': [0.37847439000399996, 'DISREGARDING STOP SIGN'],\n",
       " 'f93': [0.37724605664166666, 'DISREGARDING TRAFFIC SIGNALS'],\n",
       " 'f115': [1.0484161735, 'DISREGARDING YIELD SIGN'],\n",
       " 'f273': [0.7301716965923076, 'DISTRACTION - FROM INSIDE VEHICLE'],\n",
       " 'f217': [0.4428382267, 'DISTRACTION - FROM OUTSIDE VEHICLE'],\n",
       " 'f200': [1.1251802684615384,\n",
       "  'DISTRACTION - OTHER ELECTRONIC DEVICE (NAVIGATION DEVICE, DVD PLAYER, ETC.)'],\n",
       " 'f388': [0.8884589011416667, 'DRIVING ON WRONG SIDE/WRONG WAY'],\n",
       " 'f51': [0.736089381857143, 'DRIVING SKILLS/KNOWLEDGE/EXPERIENCE'],\n",
       " 'f85': [0.793135152, 'EQUIPMENT - VEHICLE CONDITION'],\n",
       " 'f374': [0.5822303500181818,\n",
       "  'EVASIVE ACTION DUE TO ANIMAL, OBJECT, NONMOTORIST'],\n",
       " 'f210': [1.592333512739131, 'EXCEEDING AUTHORIZED SPEED LIMIT'],\n",
       " 'f28': [0.41115883950000004, 'EXCEEDING SAFE SPEED FOR CONDITIONS'],\n",
       " 'f182': [1.0607055782800001, 'FAILING TO REDUCE SPEED TO AVOID CRASH'],\n",
       " 'f80': [0.5974904101999999, 'FAILING TO YIELD RIGHT-OF-WAY'],\n",
       " 'f277': [0.8654476758999999, 'FOLLOWING TOO CLOSELY'],\n",
       " 'f65': [0.7602246851250001,\n",
       "  'HAD BEEN DRINKING (USE WHEN ARREST IS NOT MADE)'],\n",
       " 'f126': [0.8889567533636367, 'IMPROPER BACKING'],\n",
       " 'f211': [0.9622649945555557, 'IMPROPER LANE USAGE'],\n",
       " 'f49': [0.6851263225833333, 'IMPROPER OVERTAKING/PASSING'],\n",
       " 'f178': [0.46367699757142855, 'IMPROPER TURNING/NO SIGNAL'],\n",
       " 'f221': [0.44235879281818186, 'MOTORCYCLE ADVANCING LEGALLY ON RED LIGHT'],\n",
       " 'f313': [0.826820262, 'NOT APPLICABLE'],\n",
       " 'f207': [0.87641105, 'OBSTRUCTED CROSSWALKS'],\n",
       " 'f369': [1.0462873878,\n",
       "  'OPERATING VEHICLE IN ERRATIC, RECKLESS, CARELESS, NEGLIGENT OR AGGRESSIVE MANNER'],\n",
       " 'f314': [0.42867074485714285, 'PASSING STOPPED SCHOOL BUS'],\n",
       " 'f79': [0.2802153676714286, 'PHYSICAL CONDITION OF DRIVER'],\n",
       " 'f160': [0.5727470975909092, 'RELATED TO BUS STOP'],\n",
       " 'f22': [0.5225057687142857, 'ROAD CONSTRUCTION/MAINTENANCE'],\n",
       " 'f396': [0.7411891616666666, 'ROAD ENGINEERING/SURFACE/MARKING DEFECTS'],\n",
       " 'f124': [0.5404450728333333, 'TEXTING'],\n",
       " 'f90': [0.4744658458571428, 'TURNING RIGHT ON RED'],\n",
       " 'f173': [0.25985370356000004, 'UNABLE TO DETERMINE'],\n",
       " 'f312': [0.38411321249999997,\n",
       "  'UNDER THE INFLUENCE OF ALCOHOL/DRUGS (USE WHEN ARREST IS EFFECTED)'],\n",
       " 'f331': [0.6145656045833333,\n",
       "  'VISION OBSCURED (SIGNS, TREE LIMBS, BUILDINGS, ETC.)'],\n",
       " 'f185': [0.7690051261, 'E'],\n",
       " 'f45': [0.23786740007777776, 'N'],\n",
       " 'f281': [0.4469937517, 'S'],\n",
       " 'f309': [0.274812040875, 'DRIVER'],\n",
       " 'f155': [0.48168671124999995, 'AK'],\n",
       " 'f62': [0.6928336874000002, 'AL'],\n",
       " 'f196': [0.5380931103333333, 'AR'],\n",
       " 'f54': [0.38238741825, 'AZ'],\n",
       " 'f122': [0.27992589477333335, 'CA'],\n",
       " 'f30': [0.56772840025, 'CO'],\n",
       " 'f326': [0.23415804433333334, 'CT'],\n",
       " 'f311': [0.486556848, 'DC'],\n",
       " 'f333': [0.23693476600000002, 'DE'],\n",
       " 'f24': [0.2286246045, 'FL'],\n",
       " 'f186': [0.281699635, 'GA'],\n",
       " 'f368': [0.24733724696666667, 'HI'],\n",
       " 'f75': [0.28938904852, 'IA'],\n",
       " 'f299': [0.397123337, 'ID'],\n",
       " 'f227': [0.33068164918181814, 'IL'],\n",
       " 'f240': [0.31755912908, 'IN'],\n",
       " 'f52': [0.5854904304, 'KS'],\n",
       " 'f150': [0.1734745167125, 'KY'],\n",
       " 'f321': [0.13576807158, 'LA'],\n",
       " 'f41': [1.0396956925, 'MA'],\n",
       " 'f298': [0.5423116084999999, 'MD'],\n",
       " 'f179': [0.7116313834999999, 'ME'],\n",
       " 'f20': [0.2177974135, 'MI'],\n",
       " 'f214': [0.14508020133333335, 'MN'],\n",
       " 'f293': [0.4525957720444444, 'MO'],\n",
       " 'f123': [0.46236333407999997, 'MS'],\n",
       " 'f301': [0.2575403975, 'MT'],\n",
       " 'f256': [0.41467023645, 'NB'],\n",
       " 'f345': [0.42252174028571426, 'NC'],\n",
       " 'f330': [0.421541005, 'NH'],\n",
       " 'f153': [0.205735209, 'NJ'],\n",
       " 'f335': [0.25698337388, 'NM'],\n",
       " 'f319': [0.164896548, 'NV'],\n",
       " 'f389': [0.314987838, 'NY'],\n",
       " 'f360': [0.237044859425, 'OH'],\n",
       " 'f125': [0.1563581305, 'OK'],\n",
       " 'f382': [0.1683788, 'OR'],\n",
       " 'f116': [0.21030140910000003, 'PA'],\n",
       " 'f92': [0.4207776586666667, 'RI'],\n",
       " 'f393': [0.211291332, 'SC'],\n",
       " 'f357': [0.336533159, 'SD'],\n",
       " 'f34': [0.0992089435, 'TN'],\n",
       " 'f260': [0.226147115, 'TX']}"
      ]
     },
     "execution_count": 243,
     "metadata": {},
     "output_type": "execute_result"
    }
   ],
   "source": [
    "# # xgb_model=xgb.fit(x,y)\n",
    "# xgb_fea_imp=pd.DataFrame(list(classifier2.get_booster().get_fscore().items()),\n",
    "# columns=['feature','importance']).sort_values('importance', ascending=False)\n",
    "# print('',xgb_fea_imp)\n",
    "# xgb_fea_imp.to_csv('xgb_fea_imp.csv')\n",
    "\n",
    "\n",
    "# from xgboost import plot_importance\n",
    "# plot_importance(classifier2, )\n",
    "\n",
    "# listy=dict(classifier2.get_booster().get_score(importance_type = 'gain'))\n",
    "# listy\n",
    "# dict(sorted(listy.items(), key=lambda item: item[1]))\n",
    "\n",
    "listy=classifier2.get_booster().feature_names\n",
    "listy=(X.columns)\n",
    "listp=classifier2.get_booster().get_score(importance_type = 'gain')\n",
    "\n",
    "\n",
    "counter = 0\n",
    "listy\n",
    "for k,v in listp.items():\n",
    "    listp[k] = [v, listy[counter]]\n",
    "    counter += 1\n",
    "listp"
   ]
  },
  {
   "cell_type": "code",
   "execution_count": 244,
   "metadata": {},
   "outputs": [
    {
     "data": {
      "text/plain": [
       "<AxesSubplot:>"
      ]
     },
     "execution_count": 244,
     "metadata": {},
     "output_type": "execute_result"
    },
    {
     "data": {
      "image/png": "[encoded data removed]",
      "text/plain": [
       "<Figure size 432x288 with 2 Axes>"
      ]
     },
     "metadata": {},
     "output_type": "display_data"
    }
   ],
   "source": [
    "import seaborn as sns\n",
    "cf = confusion_matrix(train_p2, Y_train)\n",
    "sns.heatmap(cf/np.sum(cf), annot=True, fmt='.2%')"
   ]
  },
  {
   "cell_type": "code",
   "execution_count": 245,
   "metadata": {},
   "outputs": [
    {
     "data": {
      "text/plain": [
       "<AxesSubplot:>"
      ]
     },
     "execution_count": 245,
     "metadata": {},
     "output_type": "execute_result"
    },
    {
     "data": {
      "image/png": "[encoded data removed]",
      "text/plain": [
       "<Figure size 432x288 with 2 Axes>"
      ]
     },
     "metadata": {},
     "output_type": "display_data"
    }
   ],
   "source": [
    "import seaborn as sns\n",
    "cf = confusion_matrix(train_p2, Y_train)\n",
    "sns.heatmap(cf/np.sum(cf), annot=True, fmt='.2%')"
   ]
  },
  {
   "cell_type": "code",
   "execution_count": null,
   "metadata": {},
   "outputs": [
    {
     "name": "stdout",
     "output_type": "stream",
     "text": [
      "[13:55:02] WARNING: C:\\Users\\Administrator\\workspace\\xgboost-win64_release_1.2.0\\src\\learner.cc:516: \n",
      "Parameters: { scale_pos_weight } might not be used.\n",
      "\n",
      "  This may not be accurate due to some parameters are only used in language bindings but\n",
      "  passed down to XGBoost core.  Or some parameters are not used but slip through this\n",
      "  verification. Please open an issue if you find above cases.\n",
      "\n",
      "\n"
     ]
    }
   ],
   "source": [
    "classifier3 = XGBClassifier(**params).fit(X_train, Y_train)"
   ]
  },
  {
   "cell_type": "code",
   "execution_count": null,
   "metadata": {},
   "outputs": [],
   "source": [
    "train_p3 = classifier3.predict(X_test)"
   ]
  },
  {
   "cell_type": "code",
   "execution_count": null,
   "metadata": {},
   "outputs": [],
   "source": [
    "print(classification_report(train_p3, Y_test))"
   ]
  },
  {
   "cell_type": "code",
   "execution_count": null,
   "metadata": {},
   "outputs": [],
   "source": [
    "cm = confusion_matrix(train_p3, Y_test)\n",
    "acc = cm.diagonal().sum()/cm.sum()\n",
    "print(acc)"
   ]
  },
  {
   "cell_type": "code",
   "execution_count": null,
   "metadata": {},
   "outputs": [],
   "source": [
    "sum(train_p3)"
   ]
  },
  {
   "cell_type": "code",
   "execution_count": null,
   "metadata": {},
   "outputs": [],
   "source": [
    "cf = confusion_matrix(train_p3, Y_test)\n",
    "sns.heatmap(cf/np.sum(cf), annot=True, fmt='.2%')"
   ]
  },
  {
   "cell_type": "code",
   "execution_count": null,
   "metadata": {},
   "outputs": [],
   "source": [
    "cf = confusion_matrix(train_p3, Y_test)\n",
    "sns.heatmap(cf/np.sum(cf), annot=True, fmt='.2%')"
   ]
  },
  {
   "cell_type": "code",
   "execution_count": null,
   "metadata": {},
   "outputs": [],
   "source": []
  },
  {
   "cell_type": "code",
   "execution_count": null,
   "metadata": {},
   "outputs": [],
   "source": []
  },
  {
   "cell_type": "code",
   "execution_count": null,
   "metadata": {},
   "outputs": [],
   "source": []
  }
 ],
 "metadata": {
  "kernelspec": {
   "display_name": "Python 3",
   "language": "python",
   "name": "python3"
  },
  "language_info": {
   "codemirror_mode": {
    "name": "ipython",
    "version": 3
   },
   "file_extension": ".py",
   "mimetype": "text/x-python",
   "name": "python",
   "nbconvert_exporter": "python",
   "pygments_lexer": "ipython3",
   "version": "3.8.5"
  }
 },
 "nbformat": 4,
 "nbformat_minor": 4
}
