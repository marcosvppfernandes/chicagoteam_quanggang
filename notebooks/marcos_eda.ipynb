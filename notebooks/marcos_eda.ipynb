{
 "cells": [
  {
   "cell_type": "markdown",
   "metadata": {},
   "source": [
    "# Exploratory Data Analysis and Data Cleaning"
   ]
  },
  {
   "cell_type": "code",
   "execution_count": 1,
   "metadata": {},
   "outputs": [],
   "source": [
    "import pandas as pd\n",
    "import numpy as np\n",
    "import matplotlib.pyplot as plt\n",
    "import seaborn as sns\n",
    "import numpy as np\n",
    "from datetime import datetime\n",
    "from dateutil import parser\n",
    "from sklearn.model_selection import train_test_split\n",
    "from pandas.tseries.holiday import USFederalHolidayCalendar as calendar\n",
    "from sklearn.linear_model import LogisticRegression\n",
    "%matplotlib inline\n",
    "sns.set()"
   ]
  },
  {
   "cell_type": "code",
   "execution_count": 2,
   "metadata": {},
   "outputs": [],
   "source": [
    "crashes = pd.read_csv('../Traffic_Crashes_-_Crashes.csv')"
   ]
  },
  {
   "cell_type": "code",
   "execution_count": 3,
   "metadata": {},
   "outputs": [],
   "source": [
    "# Low_memory=False, because it has mixed types of data in the same column/too many rows\n",
    "people = pd.read_csv('../Traffic_Crashes_-_People.csv', low_memory=False)"
   ]
  },
  {
   "cell_type": "code",
   "execution_count": 4,
   "metadata": {},
   "outputs": [],
   "source": [
    "vehicles = pd.read_csv('../Traffic_Crashes_-_Vehicles.csv', low_memory=False)"
   ]
  },
  {
   "cell_type": "code",
   "execution_count": 5,
   "metadata": {},
   "outputs": [],
   "source": [
    "def howmanyunique(data):\n",
    "    tempo = []\n",
    "    nombre = []\n",
    "    for x in data.columns:\n",
    "        tempo.append(len(data[x].value_counts().unique()))\n",
    "        nombre.append(x)\n",
    "    print(tempo)\n",
    "    print('')\n",
    "    print(nombre)"
   ]
  },
  {
   "cell_type": "code",
   "execution_count": 6,
   "metadata": {},
   "outputs": [],
   "source": [
    "def howmanynan(data):\n",
    "    print(data.isna().sum())   "
   ]
  },
  {
   "cell_type": "code",
   "execution_count": 7,
   "metadata": {},
   "outputs": [],
   "source": [
    "def rows_w_nan(data):\n",
    "   \n",
    "    temp = []\n",
    "    for x in data.columns:\n",
    "        if data[x].isna().sum() > 0:\n",
    "            percentage_of_data = data[x].isna().sum()/(list(data.shape)[0])\n",
    "            print(\"Row: {} : is made {}% of NaN Values.\".format(x, percentage_of_data.round(3)))\n",
    "            if percentage_of_data > 0.3:\n",
    "                temp.append(x)\n",
    "    print(temp)"
   ]
  },
  {
   "cell_type": "code",
   "execution_count": 8,
   "metadata": {},
   "outputs": [],
   "source": [
    "def howmanyduplicates(data):\n",
    "    print(data.duplicated().sum())"
   ]
  },
  {
   "cell_type": "code",
   "execution_count": 9,
   "metadata": {},
   "outputs": [],
   "source": [
    "def rows_w_nan1(data):\n",
    "   \n",
    "    for x in data.columns:\n",
    "        print(x)"
   ]
  },
  {
   "cell_type": "markdown",
   "metadata": {},
   "source": [
    "# Crashes Data Set"
   ]
  },
  {
   "cell_type": "code",
   "execution_count": 10,
   "metadata": {},
   "outputs": [
    {
     "data": {
      "text/plain": [
       "(484022, 49)"
      ]
     },
     "execution_count": 10,
     "metadata": {},
     "output_type": "execute_result"
    }
   ],
   "source": [
    "crashes.shape"
   ]
  },
  {
   "cell_type": "code",
   "execution_count": 11,
   "metadata": {
    "scrolled": false
   },
   "outputs": [
    {
     "name": "stdout",
     "output_type": "stream",
     "text": [
      "[1, 1, 2, 21, 28, 19, 8, 12, 6, 18, 20, 22, 6, 7, 7, 3, 2, 2, 2, 2, 3, 12, 40, 39, 424, 4, 497, 259, 2, 2, 2, 2, 4, 2, 13, 5, 14, 5, 8, 14, 12, 24, 1, 24, 7, 12, 137, 137, 137]\n",
      "\n",
      "['CRASH_RECORD_ID', 'RD_NO', 'CRASH_DATE_EST_I', 'CRASH_DATE', 'POSTED_SPEED_LIMIT', 'TRAFFIC_CONTROL_DEVICE', 'DEVICE_CONDITION', 'WEATHER_CONDITION', 'LIGHTING_CONDITION', 'FIRST_CRASH_TYPE', 'TRAFFICWAY_TYPE', 'LANE_CNT', 'ALIGNMENT', 'ROADWAY_SURFACE_COND', 'ROAD_DEFECT', 'REPORT_TYPE', 'CRASH_TYPE', 'INTERSECTION_RELATED_I', 'NOT_RIGHT_OF_WAY_I', 'HIT_AND_RUN_I', 'DAMAGE', 'DATE_POLICE_NOTIFIED', 'PRIM_CONTRIBUTORY_CAUSE', 'SEC_CONTRIBUTORY_CAUSE', 'STREET_NO', 'STREET_DIRECTION', 'STREET_NAME', 'BEAT_OF_OCCURRENCE', 'PHOTOS_TAKEN_I', 'STATEMENTS_TAKEN_I', 'DOORING_I', 'WORK_ZONE_I', 'WORK_ZONE_TYPE', 'WORKERS_PRESENT_I', 'NUM_UNITS', 'MOST_SEVERE_INJURY', 'INJURIES_TOTAL', 'INJURIES_FATAL', 'INJURIES_INCAPACITATING', 'INJURIES_NON_INCAPACITATING', 'INJURIES_REPORTED_NOT_EVIDENT', 'INJURIES_NO_INDICATION', 'INJURIES_UNKNOWN', 'CRASH_HOUR', 'CRASH_DAY_OF_WEEK', 'CRASH_MONTH', 'LATITUDE', 'LONGITUDE', 'LOCATION']\n"
     ]
    }
   ],
   "source": [
    "howmanyunique(crashes)"
   ]
  },
  {
   "cell_type": "code",
   "execution_count": 12,
   "metadata": {},
   "outputs": [
    {
     "name": "stdout",
     "output_type": "stream",
     "text": [
      "0\n"
     ]
    }
   ],
   "source": [
    "howmanyduplicates(crashes)"
   ]
  },
  {
   "cell_type": "code",
   "execution_count": 91,
   "metadata": {},
   "outputs": [
    {
     "name": "stdout",
     "output_type": "stream",
     "text": [
      "Row: POSTED_SPEED_LIMIT : is made 0.015% of NaN Values.\n",
      "Row: CRASH_HOUR : is made 0.02% of NaN Values.\n",
      "[]\n"
     ]
    }
   ],
   "source": [
    "rows_w_nan(crashes)"
   ]
  },
  {
   "cell_type": "code",
   "execution_count": 14,
   "metadata": {},
   "outputs": [],
   "source": [
    "# We are going to drop all the columns with a lot of of NaN values, except for location that we can say right ahead that is\n",
    "# a multicolinearity case, since it has the Latiutude and Longitude together\n",
    "crashes = crashes.drop(columns=['CRASH_DATE_EST_I', 'LANE_CNT', 'INTERSECTION_RELATED_I',\n",
    "                                'NOT_RIGHT_OF_WAY_I', 'HIT_AND_RUN_I', 'PHOTOS_TAKEN_I', \n",
    "                                'STATEMENTS_TAKEN_I', 'DOORING_I', 'WORK_ZONE_I', 'WORK_ZONE_TYPE',\n",
    "                                'WORKERS_PRESENT_I', 'LOCATION'])"
   ]
  },
  {
   "cell_type": "markdown",
   "metadata": {},
   "source": [
    "### Data Manipulation with Missing Values (NaN)"
   ]
  },
  {
   "cell_type": "markdown",
   "metadata": {},
   "source": [
    "> **RD_NO**"
   ]
  },
  {
   "cell_type": "markdown",
   "metadata": {},
   "source": [
    "So we can see here that RD_NO and REPORT_TYPE still have a lot of missing data and that can be explained by the website, where they say and I quote:\n"
   ]
  },
  {
   "cell_type": "markdown",
   "metadata": {},
   "source": [
    "> \" For privacy reasons, this column is blank for recent crashes.\""
   ]
  },
  {
   "cell_type": "markdown",
   "metadata": {},
   "source": [
    "So since the RD_NO is another way to connect the cases between datasets, we can easily discard the whole column, because we still have CRASH_RECORD_ID, that has no missing values"
   ]
  },
  {
   "cell_type": "markdown",
   "metadata": {},
   "source": [
    "> **REPORT_TYPE**"
   ]
  },
  {
   "cell_type": "code",
   "execution_count": 15,
   "metadata": {},
   "outputs": [
    {
     "data": {
      "text/plain": [
       "NOT ON SCENE (DESK REPORT)    278124\n",
       "ON SCENE                      193888\n",
       "AMENDED                          240\n",
       "Name: REPORT_TYPE, dtype: int64"
      ]
     },
     "execution_count": 15,
     "metadata": {},
     "output_type": "execute_result"
    }
   ],
   "source": [
    "crashes.REPORT_TYPE.value_counts()"
   ]
  },
  {
   "cell_type": "markdown",
   "metadata": {},
   "source": [
    "By checking the REPORT_TYPE column we realize that it doesn't offer any predictive value to our model, but still might use it for the business understanding part."
   ]
  },
  {
   "cell_type": "markdown",
   "metadata": {},
   "source": [
    "> So we decide to drop the RD_NO columns because we have a good substitute and drop the rows where the remaining NaN values are, so we have a cleaner dataset"
   ]
  },
  {
   "cell_type": "code",
   "execution_count": 16,
   "metadata": {},
   "outputs": [],
   "source": [
    "crashes = crashes.drop(columns=['RD_NO'])"
   ]
  },
  {
   "cell_type": "code",
   "execution_count": 17,
   "metadata": {},
   "outputs": [],
   "source": [
    "# Now we can drop the remaining rows with NaN values\n",
    "crashes.dropna(inplace=True)"
   ]
  },
  {
   "cell_type": "code",
   "execution_count": 18,
   "metadata": {},
   "outputs": [
    {
     "data": {
      "text/plain": [
       "0"
      ]
     },
     "execution_count": 18,
     "metadata": {},
     "output_type": "execute_result"
    }
   ],
   "source": [
    "crashes.isna().sum().sum()"
   ]
  },
  {
   "cell_type": "markdown",
   "metadata": {},
   "source": [
    "### Since \"Injuries_Fatal\" is important, let's give some more attention to it"
   ]
  },
  {
   "cell_type": "markdown",
   "metadata": {},
   "source": [
    "We want to transform the column into a Yes or No kind of answer instead of numbers of deads per accident."
   ]
  },
  {
   "cell_type": "code",
   "execution_count": 19,
   "metadata": {},
   "outputs": [
    {
     "data": {
      "text/plain": [
       "0.0    468289\n",
       "1.0       348\n",
       "2.0        18\n",
       "3.0         5\n",
       "Name: INJURIES_FATAL, dtype: int64"
      ]
     },
     "execution_count": 19,
     "metadata": {},
     "output_type": "execute_result"
    }
   ],
   "source": [
    "crashes.INJURIES_FATAL.value_counts(dropna=False)"
   ]
  },
  {
   "cell_type": "code",
   "execution_count": 20,
   "metadata": {},
   "outputs": [],
   "source": [
    "crashes['INJURIES_FATAL'] = np.where(crashes['INJURIES_FATAL']>0, 1, 0)"
   ]
  },
  {
   "cell_type": "code",
   "execution_count": 21,
   "metadata": {
    "scrolled": false
   },
   "outputs": [
    {
     "data": {
      "text/plain": [
       "0    468289\n",
       "1       371\n",
       "Name: INJURIES_FATAL, dtype: int64"
      ]
     },
     "execution_count": 21,
     "metadata": {},
     "output_type": "execute_result"
    }
   ],
   "source": [
    "crashes.INJURIES_FATAL.value_counts(dropna=False)"
   ]
  },
  {
   "cell_type": "markdown",
   "metadata": {},
   "source": [
    "## Some more data manipulation with useful columns"
   ]
  },
  {
   "cell_type": "markdown",
   "metadata": {},
   "source": [
    "### WEATHER_CONDITION"
   ]
  },
  {
   "cell_type": "code",
   "execution_count": 22,
   "metadata": {
    "scrolled": true
   },
   "outputs": [
    {
     "data": {
      "text/plain": [
       "CLEAR                       369648\n",
       "RAIN                         41293\n",
       "UNKNOWN                      20530\n",
       "SNOW                         19487\n",
       "CLOUDY/OVERCAST              13910\n",
       "OTHER                         1512\n",
       "FOG/SMOKE/HAZE                 797\n",
       "SLEET/HAIL                     692\n",
       "FREEZING RAIN/DRIZZLE          549\n",
       "BLOWING SNOW                   154\n",
       "SEVERE CROSS WIND GATE          86\n",
       "BLOWING SAND, SOIL, DIRT         2\n",
       "Name: WEATHER_CONDITION, dtype: int64"
      ]
     },
     "execution_count": 22,
     "metadata": {},
     "output_type": "execute_result"
    }
   ],
   "source": [
    "crashes.WEATHER_CONDITION.value_counts()"
   ]
  },
  {
   "cell_type": "code",
   "execution_count": 23,
   "metadata": {},
   "outputs": [],
   "source": [
    "crashes.WEATHER_CONDITION = np.where(crashes.WEATHER_CONDITION=='BLOWING SNOW', 'SNOW', crashes.WEATHER_CONDITION)"
   ]
  },
  {
   "cell_type": "code",
   "execution_count": 24,
   "metadata": {},
   "outputs": [],
   "source": [
    "crashes.WEATHER_CONDITION = np.where(crashes.WEATHER_CONDITION=='FREEZING RAIN/DRIZZLE', 'RAIN', crashes.WEATHER_CONDITION)"
   ]
  },
  {
   "cell_type": "code",
   "execution_count": 25,
   "metadata": {},
   "outputs": [],
   "source": [
    "crashes.WEATHER_CONDITION = np.where(crashes.WEATHER_CONDITION=='FOG/SMOKE/HAZE', 'OTHER', crashes.WEATHER_CONDITION)"
   ]
  },
  {
   "cell_type": "code",
   "execution_count": 26,
   "metadata": {},
   "outputs": [],
   "source": [
    "crashes.WEATHER_CONDITION = np.where(crashes.WEATHER_CONDITION=='SLEET/HAIL', 'OTHER', crashes.WEATHER_CONDITION)"
   ]
  },
  {
   "cell_type": "code",
   "execution_count": 27,
   "metadata": {},
   "outputs": [],
   "source": [
    "crashes.WEATHER_CONDITION = np.where(crashes.WEATHER_CONDITION=='BLOWING SAND, SOIL, DIRT', 'OTHER', crashes.WEATHER_CONDITION)"
   ]
  },
  {
   "cell_type": "code",
   "execution_count": 28,
   "metadata": {},
   "outputs": [],
   "source": [
    "crashes.WEATHER_CONDITION = np.where(crashes.WEATHER_CONDITION=='SEVERE CROSS WIND GATE', 'OTHER', crashes.WEATHER_CONDITION)"
   ]
  },
  {
   "cell_type": "code",
   "execution_count": 29,
   "metadata": {
    "scrolled": true
   },
   "outputs": [
    {
     "data": {
      "text/plain": [
       "CLEAR              369648\n",
       "RAIN                41842\n",
       "UNKNOWN             20530\n",
       "SNOW                19641\n",
       "CLOUDY/OVERCAST     13910\n",
       "OTHER                3089\n",
       "Name: WEATHER_CONDITION, dtype: int64"
      ]
     },
     "execution_count": 29,
     "metadata": {},
     "output_type": "execute_result"
    }
   ],
   "source": [
    "crashes.WEATHER_CONDITION.value_counts()"
   ]
  },
  {
   "cell_type": "markdown",
   "metadata": {},
   "source": [
    "### ALIGNMENT"
   ]
  },
  {
   "cell_type": "code",
   "execution_count": 30,
   "metadata": {
    "scrolled": true
   },
   "outputs": [
    {
     "data": {
      "text/plain": [
       "STRAIGHT AND LEVEL       457042\n",
       "STRAIGHT ON GRADE          5775\n",
       "CURVE, LEVEL               3507\n",
       "STRAIGHT ON HILLCREST      1440\n",
       "CURVE ON GRADE              667\n",
       "CURVE ON HILLCREST          229\n",
       "Name: ALIGNMENT, dtype: int64"
      ]
     },
     "execution_count": 30,
     "metadata": {},
     "output_type": "execute_result"
    }
   ],
   "source": [
    "crashes.ALIGNMENT.value_counts()"
   ]
  },
  {
   "cell_type": "markdown",
   "metadata": {},
   "source": [
    "### POSTED_SPEED_LIMIT"
   ]
  },
  {
   "cell_type": "code",
   "execution_count": 31,
   "metadata": {
    "scrolled": true
   },
   "outputs": [
    {
     "data": {
      "text/plain": [
       "30    345555\n",
       "35     32216\n",
       "25     28456\n",
       "20     18121\n",
       "15     16350\n",
       "10      9874\n",
       "0       6611\n",
       "40      4282\n",
       "5       3551\n",
       "45      2696\n",
       "55       360\n",
       "3        113\n",
       "50        94\n",
       "9         89\n",
       "99        66\n",
       "39        51\n",
       "1         33\n",
       "60        24\n",
       "2         19\n",
       "24        16\n",
       "32        14\n",
       "33        10\n",
       "34        10\n",
       "65        10\n",
       "6          7\n",
       "11         5\n",
       "36         5\n",
       "70         3\n",
       "7          2\n",
       "14         2\n",
       "12         2\n",
       "18         2\n",
       "31         2\n",
       "26         2\n",
       "49         1\n",
       "38         1\n",
       "22         1\n",
       "63         1\n",
       "4          1\n",
       "23         1\n",
       "29         1\n",
       "Name: POSTED_SPEED_LIMIT, dtype: int64"
      ]
     },
     "execution_count": 31,
     "metadata": {},
     "output_type": "execute_result"
    }
   ],
   "source": [
    "crashes.POSTED_SPEED_LIMIT.value_counts()"
   ]
  },
  {
   "cell_type": "code",
   "execution_count": 32,
   "metadata": {
    "scrolled": true
   },
   "outputs": [],
   "source": [
    "# Let's bin the speed limit in 9 groups, the last one being 45 miles/hour or above\n",
    "crashes.POSTED_SPEED_LIMIT = pd.cut(crashes.POSTED_SPEED_LIMIT,[0, 5, 10, 15, 20, 25, 30, 35, 40, 45],\n",
    "                                    precision=0, labels=[0, 1, 2, 3, 4, 5, 6, 7, 8])"
   ]
  },
  {
   "cell_type": "code",
   "execution_count": 33,
   "metadata": {
    "scrolled": true
   },
   "outputs": [
    {
     "data": {
      "text/plain": [
       "5    345558\n",
       "6     32252\n",
       "4     28474\n",
       "3     18123\n",
       "2     16359\n",
       "1      9972\n",
       "7      4339\n",
       "0      3717\n",
       "8      2696\n",
       "Name: POSTED_SPEED_LIMIT, dtype: int64"
      ]
     },
     "execution_count": 33,
     "metadata": {},
     "output_type": "execute_result"
    }
   ],
   "source": [
    "crashes.POSTED_SPEED_LIMIT.value_counts()"
   ]
  },
  {
   "cell_type": "code",
   "execution_count": 34,
   "metadata": {
    "scrolled": true
   },
   "outputs": [
    {
     "name": "stdout",
     "output_type": "stream",
     "text": [
      "[1, 21, 9, 19, 8, 6, 6, 18, 20, 6, 7, 7, 3, 2, 3, 12, 40, 40, 419, 4, 477, 256, 13, 5, 14, 2, 7, 13, 12, 25, 1, 24, 7, 12, 137, 137]\n",
      "\n",
      "['CRASH_RECORD_ID', 'CRASH_DATE', 'POSTED_SPEED_LIMIT', 'TRAFFIC_CONTROL_DEVICE', 'DEVICE_CONDITION', 'WEATHER_CONDITION', 'LIGHTING_CONDITION', 'FIRST_CRASH_TYPE', 'TRAFFICWAY_TYPE', 'ALIGNMENT', 'ROADWAY_SURFACE_COND', 'ROAD_DEFECT', 'REPORT_TYPE', 'CRASH_TYPE', 'DAMAGE', 'DATE_POLICE_NOTIFIED', 'PRIM_CONTRIBUTORY_CAUSE', 'SEC_CONTRIBUTORY_CAUSE', 'STREET_NO', 'STREET_DIRECTION', 'STREET_NAME', 'BEAT_OF_OCCURRENCE', 'NUM_UNITS', 'MOST_SEVERE_INJURY', 'INJURIES_TOTAL', 'INJURIES_FATAL', 'INJURIES_INCAPACITATING', 'INJURIES_NON_INCAPACITATING', 'INJURIES_REPORTED_NOT_EVIDENT', 'INJURIES_NO_INDICATION', 'INJURIES_UNKNOWN', 'CRASH_HOUR', 'CRASH_DAY_OF_WEEK', 'CRASH_MONTH', 'LATITUDE', 'LONGITUDE']\n"
     ]
    }
   ],
   "source": [
    "howmanyunique(crashes)"
   ]
  },
  {
   "cell_type": "code",
   "execution_count": 35,
   "metadata": {},
   "outputs": [
    {
     "data": {
      "text/plain": [
       "OVER $1,500      270353\n",
       "$501 - $1,500    137706\n",
       "$500 OR LESS      60601\n",
       "Name: DAMAGE, dtype: int64"
      ]
     },
     "execution_count": 35,
     "metadata": {},
     "output_type": "execute_result"
    }
   ],
   "source": [
    "crashes.DAMAGE.value_counts()"
   ]
  },
  {
   "cell_type": "code",
   "execution_count": 36,
   "metadata": {},
   "outputs": [
    {
     "data": {
      "text/plain": [
       "6    76212\n",
       "7    69228\n",
       "3    67493\n",
       "5    67214\n",
       "4    66835\n",
       "2    65195\n",
       "1    56483\n",
       "Name: CRASH_DAY_OF_WEEK, dtype: int64"
      ]
     },
     "execution_count": 36,
     "metadata": {},
     "output_type": "execute_result"
    }
   ],
   "source": [
    "crashes.CRASH_DAY_OF_WEEK.value_counts()"
   ]
  },
  {
   "cell_type": "code",
   "execution_count": 37,
   "metadata": {
    "scrolled": true
   },
   "outputs": [
    {
     "data": {
      "text/plain": [
       "10    45053\n",
       "12    42845\n",
       "9     41972\n",
       "11    41620\n",
       "8     40634\n",
       "1     40078\n",
       "2     40053\n",
       "7     38888\n",
       "6     36792\n",
       "5     35784\n",
       "3     34476\n",
       "4     30465\n",
       "Name: CRASH_MONTH, dtype: int64"
      ]
     },
     "execution_count": 37,
     "metadata": {},
     "output_type": "execute_result"
    }
   ],
   "source": [
    "crashes.CRASH_MONTH.value_counts()"
   ]
  },
  {
   "cell_type": "code",
   "execution_count": 38,
   "metadata": {
    "scrolled": false
   },
   "outputs": [
    {
     "data": {
      "text/plain": [
       "16    35862\n",
       "15    35718\n",
       "17    35351\n",
       "14    31849\n",
       "18    29277\n",
       "13    28993\n",
       "12    27929\n",
       "8     25128\n",
       "11    24209\n",
       "9     22104\n",
       "10    21710\n",
       "19    21359\n",
       "7     20286\n",
       "20    16865\n",
       "21    14982\n",
       "22    13776\n",
       "23    11552\n",
       "6     10548\n",
       "0      9418\n",
       "1      7845\n",
       "2      6799\n",
       "5      6385\n",
       "3      5575\n",
       "4      5140\n",
       "Name: CRASH_HOUR, dtype: int64"
      ]
     },
     "execution_count": 38,
     "metadata": {},
     "output_type": "execute_result"
    }
   ],
   "source": [
    "crashes.CRASH_HOUR.value_counts()"
   ]
  },
  {
   "cell_type": "code",
   "execution_count": 39,
   "metadata": {},
   "outputs": [],
   "source": [
    "crashes.CRASH_HOUR = pd.cut(crashes.CRASH_HOUR,[0, 6, 12, 18, 24],\n",
    "                                    precision=0, labels=[0, 1, 2, 3])"
   ]
  },
  {
   "cell_type": "code",
   "execution_count": 40,
   "metadata": {
    "scrolled": true
   },
   "outputs": [
    {
     "data": {
      "text/plain": [
       "2    197050\n",
       "1    141366\n",
       "3     78534\n",
       "0     42292\n",
       "Name: CRASH_HOUR, dtype: int64"
      ]
     },
     "execution_count": 40,
     "metadata": {},
     "output_type": "execute_result"
    }
   ],
   "source": [
    "crashes.CRASH_HOUR.value_counts()"
   ]
  },
  {
   "cell_type": "code",
   "execution_count": 41,
   "metadata": {
    "scrolled": true
   },
   "outputs": [
    {
     "data": {
      "text/plain": [
       "DRY                348218\n",
       "WET                 64433\n",
       "UNKNOWN             31200\n",
       "SNOW OR SLUSH       19664\n",
       "ICE                  3810\n",
       "OTHER                1124\n",
       "SAND, MUD, DIRT       211\n",
       "Name: ROADWAY_SURFACE_COND, dtype: int64"
      ]
     },
     "execution_count": 41,
     "metadata": {},
     "output_type": "execute_result"
    }
   ],
   "source": [
    "crashes.ROADWAY_SURFACE_COND.value_counts()"
   ]
  },
  {
   "cell_type": "code",
   "execution_count": 42,
   "metadata": {
    "scrolled": false
   },
   "outputs": [
    {
     "data": {
      "text/plain": [
       "NOT DIVIDED                        209625\n",
       "DIVIDED - W/MEDIAN (NOT RAISED)     82982\n",
       "ONE-WAY                             62008\n",
       "PARKING LOT                         33261\n",
       "DIVIDED - W/MEDIAN BARRIER          27768\n",
       "FOUR WAY                            14658\n",
       "OTHER                               13163\n",
       "ALLEY                                7731\n",
       "UNKNOWN                              5111\n",
       "CENTER TURN LANE                     3992\n",
       "T-INTERSECTION                       3112\n",
       "DRIVEWAY                             1622\n",
       "RAMP                                 1442\n",
       "UNKNOWN INTERSECTION TYPE             907\n",
       "Y-INTERSECTION                        373\n",
       "FIVE POINT, OR MORE                   370\n",
       "TRAFFIC ROUTE                         270\n",
       "NOT REPORTED                          118\n",
       "ROUNDABOUT                             94\n",
       "L-INTERSECTION                         53\n",
       "Name: TRAFFICWAY_TYPE, dtype: int64"
      ]
     },
     "execution_count": 42,
     "metadata": {},
     "output_type": "execute_result"
    }
   ],
   "source": [
    "crashes.TRAFFICWAY_TYPE.value_counts()"
   ]
  },
  {
   "cell_type": "code",
   "execution_count": 43,
   "metadata": {},
   "outputs": [
    {
     "data": {
      "text/plain": [
       "NO INDICATION OF INJURY     409702\n",
       "NONINCAPACITATING INJURY     32671\n",
       "REPORTED, NOT EVIDENT        18532\n",
       "INCAPACITATING INJURY         7384\n",
       "FATAL                          371\n",
       "Name: MOST_SEVERE_INJURY, dtype: int64"
      ]
     },
     "execution_count": 43,
     "metadata": {},
     "output_type": "execute_result"
    }
   ],
   "source": [
    "crashes.MOST_SEVERE_INJURY.value_counts()"
   ]
  },
  {
   "cell_type": "code",
   "execution_count": 44,
   "metadata": {},
   "outputs": [],
   "source": [
    "crashes['MOST_SEVERE_INJURY'] = np.where(crashes['MOST_SEVERE_INJURY']=='REPORTED, NOT EVIDENT',\n",
    "                                         'NONINCAPACITATING INJURY', crashes['MOST_SEVERE_INJURY'])"
   ]
  },
  {
   "cell_type": "code",
   "execution_count": 45,
   "metadata": {},
   "outputs": [],
   "source": [
    "crashes['MOST_SEVERE_INJURY'] = np.where(crashes['MOST_SEVERE_INJURY']=='FATAL',\n",
    "                                         'INCAPACITATING INJURY', crashes['MOST_SEVERE_INJURY'])"
   ]
  },
  {
   "cell_type": "code",
   "execution_count": 46,
   "metadata": {},
   "outputs": [],
   "source": [
    "crashes['MOST_SEVERE_INJURY'] = np.where(crashes['MOST_SEVERE_INJURY']=='INCAPACITATING INJURY',\n",
    "                                         'INCAPACITATING INJURY/FATAL', crashes['MOST_SEVERE_INJURY'])"
   ]
  },
  {
   "cell_type": "code",
   "execution_count": 47,
   "metadata": {},
   "outputs": [
    {
     "data": {
      "text/plain": [
       "NO INDICATION OF INJURY        409702\n",
       "NONINCAPACITATING INJURY        51203\n",
       "INCAPACITATING INJURY/FATAL      7755\n",
       "Name: MOST_SEVERE_INJURY, dtype: int64"
      ]
     },
     "execution_count": 47,
     "metadata": {},
     "output_type": "execute_result"
    }
   ],
   "source": [
    "crashes.MOST_SEVERE_INJURY.value_counts()"
   ]
  },
  {
   "cell_type": "code",
   "execution_count": 48,
   "metadata": {
    "scrolled": true
   },
   "outputs": [
    {
     "data": {
      "text/plain": [
       "WESTERN AVE      12896\n",
       "PULASKI RD       11244\n",
       "CICERO AVE       10252\n",
       "ASHLAND AVE      10239\n",
       "HALSTED ST        8978\n",
       "                 ...  \n",
       "ABBOTT AVE           1\n",
       "LA SALLE             1\n",
       "57TH BLVD            1\n",
       "LIGHTFOOT AVE        1\n",
       "ST JOSEPH AVE        1\n",
       "Name: STREET_NAME, Length: 1520, dtype: int64"
      ]
     },
     "execution_count": 48,
     "metadata": {},
     "output_type": "execute_result"
    }
   ],
   "source": [
    "# We could check to see how long the street is OR\n",
    "# We could create a kind of multi-column based on the other column \"TRAFFICWAY_TYPE\" OR\n",
    "# Just group them together by that same column\n",
    "crashes.STREET_NAME.value_counts()"
   ]
  },
  {
   "cell_type": "code",
   "execution_count": 49,
   "metadata": {
    "scrolled": true
   },
   "outputs": [
    {
     "data": {
      "text/plain": [
       "W    166935\n",
       "S    155627\n",
       "N    113430\n",
       "E     32668\n",
       "Name: STREET_DIRECTION, dtype: int64"
      ]
     },
     "execution_count": 49,
     "metadata": {},
     "output_type": "execute_result"
    }
   ],
   "source": [
    "crashes.STREET_DIRECTION.value_counts()"
   ]
  },
  {
   "cell_type": "code",
   "execution_count": 50,
   "metadata": {
    "scrolled": false
   },
   "outputs": [
    {
     "data": {
      "text/html": [
       "<div>\n",
       "<style scoped>\n",
       "    .dataframe tbody tr th:only-of-type {\n",
       "        vertical-align: middle;\n",
       "    }\n",
       "\n",
       "    .dataframe tbody tr th {\n",
       "        vertical-align: top;\n",
       "    }\n",
       "\n",
       "    .dataframe thead th {\n",
       "        text-align: right;\n",
       "    }\n",
       "</style>\n",
       "<table border=\"1\" class=\"dataframe\">\n",
       "  <thead>\n",
       "    <tr style=\"text-align: right;\">\n",
       "      <th></th>\n",
       "      <th>CRASH_RECORD_ID</th>\n",
       "      <th>CRASH_DATE</th>\n",
       "      <th>POSTED_SPEED_LIMIT</th>\n",
       "      <th>TRAFFIC_CONTROL_DEVICE</th>\n",
       "      <th>DEVICE_CONDITION</th>\n",
       "      <th>WEATHER_CONDITION</th>\n",
       "      <th>LIGHTING_CONDITION</th>\n",
       "      <th>FIRST_CRASH_TYPE</th>\n",
       "      <th>TRAFFICWAY_TYPE</th>\n",
       "      <th>ALIGNMENT</th>\n",
       "      <th>...</th>\n",
       "      <th>INJURIES_INCAPACITATING</th>\n",
       "      <th>INJURIES_NON_INCAPACITATING</th>\n",
       "      <th>INJURIES_REPORTED_NOT_EVIDENT</th>\n",
       "      <th>INJURIES_NO_INDICATION</th>\n",
       "      <th>INJURIES_UNKNOWN</th>\n",
       "      <th>CRASH_HOUR</th>\n",
       "      <th>CRASH_DAY_OF_WEEK</th>\n",
       "      <th>CRASH_MONTH</th>\n",
       "      <th>LATITUDE</th>\n",
       "      <th>LONGITUDE</th>\n",
       "    </tr>\n",
       "  </thead>\n",
       "  <tbody>\n",
       "    <tr>\n",
       "      <th>0</th>\n",
       "      <td>4fd0a3e0897b3335b94cd8d5b2d2b350eb691add56c62d...</td>\n",
       "      <td>07/10/2019 05:56:00 PM</td>\n",
       "      <td>6</td>\n",
       "      <td>NO CONTROLS</td>\n",
       "      <td>NO CONTROLS</td>\n",
       "      <td>CLEAR</td>\n",
       "      <td>DAYLIGHT</td>\n",
       "      <td>TURNING</td>\n",
       "      <td>ONE-WAY</td>\n",
       "      <td>STRAIGHT AND LEVEL</td>\n",
       "      <td>...</td>\n",
       "      <td>0.0</td>\n",
       "      <td>0.0</td>\n",
       "      <td>0.0</td>\n",
       "      <td>3.0</td>\n",
       "      <td>0.0</td>\n",
       "      <td>2</td>\n",
       "      <td>4</td>\n",
       "      <td>7</td>\n",
       "      <td>41.919664</td>\n",
       "      <td>-87.773288</td>\n",
       "    </tr>\n",
       "    <tr>\n",
       "      <th>1</th>\n",
       "      <td>009e9e67203442370272e1a13d6ee51a4155dac65e583d...</td>\n",
       "      <td>06/30/2017 04:00:00 PM</td>\n",
       "      <td>6</td>\n",
       "      <td>STOP SIGN/FLASHER</td>\n",
       "      <td>FUNCTIONING PROPERLY</td>\n",
       "      <td>CLEAR</td>\n",
       "      <td>DAYLIGHT</td>\n",
       "      <td>TURNING</td>\n",
       "      <td>NOT DIVIDED</td>\n",
       "      <td>STRAIGHT AND LEVEL</td>\n",
       "      <td>...</td>\n",
       "      <td>0.0</td>\n",
       "      <td>0.0</td>\n",
       "      <td>0.0</td>\n",
       "      <td>3.0</td>\n",
       "      <td>0.0</td>\n",
       "      <td>2</td>\n",
       "      <td>6</td>\n",
       "      <td>6</td>\n",
       "      <td>41.741804</td>\n",
       "      <td>-87.740954</td>\n",
       "    </tr>\n",
       "    <tr>\n",
       "      <th>2</th>\n",
       "      <td>ee9283eff3a55ac50ee58f3d9528ce1d689b1c4180b4c4...</td>\n",
       "      <td>07/10/2020 10:25:00 AM</td>\n",
       "      <td>5</td>\n",
       "      <td>TRAFFIC SIGNAL</td>\n",
       "      <td>FUNCTIONING PROPERLY</td>\n",
       "      <td>CLEAR</td>\n",
       "      <td>DAYLIGHT</td>\n",
       "      <td>REAR END</td>\n",
       "      <td>FOUR WAY</td>\n",
       "      <td>STRAIGHT AND LEVEL</td>\n",
       "      <td>...</td>\n",
       "      <td>0.0</td>\n",
       "      <td>0.0</td>\n",
       "      <td>0.0</td>\n",
       "      <td>3.0</td>\n",
       "      <td>0.0</td>\n",
       "      <td>1</td>\n",
       "      <td>6</td>\n",
       "      <td>7</td>\n",
       "      <td>41.773456</td>\n",
       "      <td>-87.585022</td>\n",
       "    </tr>\n",
       "    <tr>\n",
       "      <th>3</th>\n",
       "      <td>f8960f698e870ebdc60b521b2a141a5395556bc3704191...</td>\n",
       "      <td>07/11/2020 01:00:00 AM</td>\n",
       "      <td>5</td>\n",
       "      <td>NO CONTROLS</td>\n",
       "      <td>NO CONTROLS</td>\n",
       "      <td>CLEAR</td>\n",
       "      <td>DARKNESS</td>\n",
       "      <td>PARKED MOTOR VEHICLE</td>\n",
       "      <td>DIVIDED - W/MEDIAN (NOT RAISED)</td>\n",
       "      <td>STRAIGHT AND LEVEL</td>\n",
       "      <td>...</td>\n",
       "      <td>0.0</td>\n",
       "      <td>0.0</td>\n",
       "      <td>0.0</td>\n",
       "      <td>3.0</td>\n",
       "      <td>0.0</td>\n",
       "      <td>0</td>\n",
       "      <td>7</td>\n",
       "      <td>7</td>\n",
       "      <td>41.802119</td>\n",
       "      <td>-87.622115</td>\n",
       "    </tr>\n",
       "    <tr>\n",
       "      <th>5</th>\n",
       "      <td>00e47f189660cd8ba1e85fc63061bf1d8465184393f134...</td>\n",
       "      <td>03/21/2019 10:50:00 PM</td>\n",
       "      <td>5</td>\n",
       "      <td>TRAFFIC SIGNAL</td>\n",
       "      <td>FUNCTIONING PROPERLY</td>\n",
       "      <td>CLEAR</td>\n",
       "      <td>DARKNESS, LIGHTED ROAD</td>\n",
       "      <td>TURNING</td>\n",
       "      <td>NOT DIVIDED</td>\n",
       "      <td>STRAIGHT AND LEVEL</td>\n",
       "      <td>...</td>\n",
       "      <td>0.0</td>\n",
       "      <td>0.0</td>\n",
       "      <td>0.0</td>\n",
       "      <td>2.0</td>\n",
       "      <td>0.0</td>\n",
       "      <td>3</td>\n",
       "      <td>5</td>\n",
       "      <td>3</td>\n",
       "      <td>41.741804</td>\n",
       "      <td>-87.740954</td>\n",
       "    </tr>\n",
       "    <tr>\n",
       "      <th>...</th>\n",
       "      <td>...</td>\n",
       "      <td>...</td>\n",
       "      <td>...</td>\n",
       "      <td>...</td>\n",
       "      <td>...</td>\n",
       "      <td>...</td>\n",
       "      <td>...</td>\n",
       "      <td>...</td>\n",
       "      <td>...</td>\n",
       "      <td>...</td>\n",
       "      <td>...</td>\n",
       "      <td>...</td>\n",
       "      <td>...</td>\n",
       "      <td>...</td>\n",
       "      <td>...</td>\n",
       "      <td>...</td>\n",
       "      <td>...</td>\n",
       "      <td>...</td>\n",
       "      <td>...</td>\n",
       "      <td>...</td>\n",
       "      <td>...</td>\n",
       "    </tr>\n",
       "    <tr>\n",
       "      <th>484017</th>\n",
       "      <td>f37d01cdad7c3e9fe01562aa11857405cc2ea38738d8b6...</td>\n",
       "      <td>01/19/2021 07:30:00 AM</td>\n",
       "      <td>2</td>\n",
       "      <td>NO CONTROLS</td>\n",
       "      <td>NO CONTROLS</td>\n",
       "      <td>CLOUDY/OVERCAST</td>\n",
       "      <td>DAYLIGHT</td>\n",
       "      <td>FIXED OBJECT</td>\n",
       "      <td>PARKING LOT</td>\n",
       "      <td>STRAIGHT AND LEVEL</td>\n",
       "      <td>...</td>\n",
       "      <td>0.0</td>\n",
       "      <td>0.0</td>\n",
       "      <td>0.0</td>\n",
       "      <td>2.0</td>\n",
       "      <td>0.0</td>\n",
       "      <td>1</td>\n",
       "      <td>3</td>\n",
       "      <td>1</td>\n",
       "      <td>41.877790</td>\n",
       "      <td>-87.636488</td>\n",
       "    </tr>\n",
       "    <tr>\n",
       "      <th>484018</th>\n",
       "      <td>f1dba052d8fc8c80d3d693296ff8e0d7cc71d5929677b0...</td>\n",
       "      <td>01/20/2021 05:50:00 PM</td>\n",
       "      <td>5</td>\n",
       "      <td>NO CONTROLS</td>\n",
       "      <td>NO CONTROLS</td>\n",
       "      <td>CLEAR</td>\n",
       "      <td>DARKNESS, LIGHTED ROAD</td>\n",
       "      <td>REAR END</td>\n",
       "      <td>NOT DIVIDED</td>\n",
       "      <td>STRAIGHT AND LEVEL</td>\n",
       "      <td>...</td>\n",
       "      <td>0.0</td>\n",
       "      <td>0.0</td>\n",
       "      <td>0.0</td>\n",
       "      <td>2.0</td>\n",
       "      <td>0.0</td>\n",
       "      <td>2</td>\n",
       "      <td>4</td>\n",
       "      <td>1</td>\n",
       "      <td>41.800697</td>\n",
       "      <td>-87.706358</td>\n",
       "    </tr>\n",
       "    <tr>\n",
       "      <th>484019</th>\n",
       "      <td>f2962f241a302417913e1b7465e8ae37e6f3161adaa0cf...</td>\n",
       "      <td>01/20/2021 04:15:00 PM</td>\n",
       "      <td>5</td>\n",
       "      <td>TRAFFIC SIGNAL</td>\n",
       "      <td>FUNCTIONING PROPERLY</td>\n",
       "      <td>CLEAR</td>\n",
       "      <td>DAYLIGHT</td>\n",
       "      <td>REAR END</td>\n",
       "      <td>NOT DIVIDED</td>\n",
       "      <td>STRAIGHT AND LEVEL</td>\n",
       "      <td>...</td>\n",
       "      <td>0.0</td>\n",
       "      <td>0.0</td>\n",
       "      <td>0.0</td>\n",
       "      <td>2.0</td>\n",
       "      <td>0.0</td>\n",
       "      <td>2</td>\n",
       "      <td>4</td>\n",
       "      <td>1</td>\n",
       "      <td>41.924709</td>\n",
       "      <td>-87.717371</td>\n",
       "    </tr>\n",
       "    <tr>\n",
       "      <th>484020</th>\n",
       "      <td>f361f7362d783dc327e5e6b7d2d9bc4bd942284391ad36...</td>\n",
       "      <td>01/20/2021 03:20:00 PM</td>\n",
       "      <td>5</td>\n",
       "      <td>STOP SIGN/FLASHER</td>\n",
       "      <td>NO CONTROLS</td>\n",
       "      <td>CLOUDY/OVERCAST</td>\n",
       "      <td>DAYLIGHT</td>\n",
       "      <td>ANGLE</td>\n",
       "      <td>NOT DIVIDED</td>\n",
       "      <td>STRAIGHT AND LEVEL</td>\n",
       "      <td>...</td>\n",
       "      <td>0.0</td>\n",
       "      <td>0.0</td>\n",
       "      <td>0.0</td>\n",
       "      <td>4.0</td>\n",
       "      <td>0.0</td>\n",
       "      <td>2</td>\n",
       "      <td>4</td>\n",
       "      <td>1</td>\n",
       "      <td>41.802871</td>\n",
       "      <td>-87.684416</td>\n",
       "    </tr>\n",
       "    <tr>\n",
       "      <th>484021</th>\n",
       "      <td>f51408f91e4d33372bf353d02203a96a039448b4d75375...</td>\n",
       "      <td>01/20/2021 04:30:00 PM</td>\n",
       "      <td>1</td>\n",
       "      <td>NO CONTROLS</td>\n",
       "      <td>NO CONTROLS</td>\n",
       "      <td>CLEAR</td>\n",
       "      <td>DAYLIGHT</td>\n",
       "      <td>ANGLE</td>\n",
       "      <td>PARKING LOT</td>\n",
       "      <td>STRAIGHT AND LEVEL</td>\n",
       "      <td>...</td>\n",
       "      <td>0.0</td>\n",
       "      <td>0.0</td>\n",
       "      <td>0.0</td>\n",
       "      <td>2.0</td>\n",
       "      <td>0.0</td>\n",
       "      <td>2</td>\n",
       "      <td>4</td>\n",
       "      <td>1</td>\n",
       "      <td>41.953010</td>\n",
       "      <td>-87.787707</td>\n",
       "    </tr>\n",
       "  </tbody>\n",
       "</table>\n",
       "<p>468660 rows × 36 columns</p>\n",
       "</div>"
      ],
      "text/plain": [
       "                                          CRASH_RECORD_ID  \\\n",
       "0       4fd0a3e0897b3335b94cd8d5b2d2b350eb691add56c62d...   \n",
       "1       009e9e67203442370272e1a13d6ee51a4155dac65e583d...   \n",
       "2       ee9283eff3a55ac50ee58f3d9528ce1d689b1c4180b4c4...   \n",
       "3       f8960f698e870ebdc60b521b2a141a5395556bc3704191...   \n",
       "5       00e47f189660cd8ba1e85fc63061bf1d8465184393f134...   \n",
       "...                                                   ...   \n",
       "484017  f37d01cdad7c3e9fe01562aa11857405cc2ea38738d8b6...   \n",
       "484018  f1dba052d8fc8c80d3d693296ff8e0d7cc71d5929677b0...   \n",
       "484019  f2962f241a302417913e1b7465e8ae37e6f3161adaa0cf...   \n",
       "484020  f361f7362d783dc327e5e6b7d2d9bc4bd942284391ad36...   \n",
       "484021  f51408f91e4d33372bf353d02203a96a039448b4d75375...   \n",
       "\n",
       "                    CRASH_DATE POSTED_SPEED_LIMIT TRAFFIC_CONTROL_DEVICE  \\\n",
       "0       07/10/2019 05:56:00 PM                  6            NO CONTROLS   \n",
       "1       06/30/2017 04:00:00 PM                  6      STOP SIGN/FLASHER   \n",
       "2       07/10/2020 10:25:00 AM                  5         TRAFFIC SIGNAL   \n",
       "3       07/11/2020 01:00:00 AM                  5            NO CONTROLS   \n",
       "5       03/21/2019 10:50:00 PM                  5         TRAFFIC SIGNAL   \n",
       "...                        ...                ...                    ...   \n",
       "484017  01/19/2021 07:30:00 AM                  2            NO CONTROLS   \n",
       "484018  01/20/2021 05:50:00 PM                  5            NO CONTROLS   \n",
       "484019  01/20/2021 04:15:00 PM                  5         TRAFFIC SIGNAL   \n",
       "484020  01/20/2021 03:20:00 PM                  5      STOP SIGN/FLASHER   \n",
       "484021  01/20/2021 04:30:00 PM                  1            NO CONTROLS   \n",
       "\n",
       "            DEVICE_CONDITION WEATHER_CONDITION      LIGHTING_CONDITION  \\\n",
       "0                NO CONTROLS             CLEAR                DAYLIGHT   \n",
       "1       FUNCTIONING PROPERLY             CLEAR                DAYLIGHT   \n",
       "2       FUNCTIONING PROPERLY             CLEAR                DAYLIGHT   \n",
       "3                NO CONTROLS             CLEAR                DARKNESS   \n",
       "5       FUNCTIONING PROPERLY             CLEAR  DARKNESS, LIGHTED ROAD   \n",
       "...                      ...               ...                     ...   \n",
       "484017           NO CONTROLS   CLOUDY/OVERCAST                DAYLIGHT   \n",
       "484018           NO CONTROLS             CLEAR  DARKNESS, LIGHTED ROAD   \n",
       "484019  FUNCTIONING PROPERLY             CLEAR                DAYLIGHT   \n",
       "484020           NO CONTROLS   CLOUDY/OVERCAST                DAYLIGHT   \n",
       "484021           NO CONTROLS             CLEAR                DAYLIGHT   \n",
       "\n",
       "            FIRST_CRASH_TYPE                  TRAFFICWAY_TYPE  \\\n",
       "0                    TURNING                          ONE-WAY   \n",
       "1                    TURNING                      NOT DIVIDED   \n",
       "2                   REAR END                         FOUR WAY   \n",
       "3       PARKED MOTOR VEHICLE  DIVIDED - W/MEDIAN (NOT RAISED)   \n",
       "5                    TURNING                      NOT DIVIDED   \n",
       "...                      ...                              ...   \n",
       "484017          FIXED OBJECT                      PARKING LOT   \n",
       "484018              REAR END                      NOT DIVIDED   \n",
       "484019              REAR END                      NOT DIVIDED   \n",
       "484020                 ANGLE                      NOT DIVIDED   \n",
       "484021                 ANGLE                      PARKING LOT   \n",
       "\n",
       "                 ALIGNMENT  ... INJURIES_INCAPACITATING  \\\n",
       "0       STRAIGHT AND LEVEL  ...                     0.0   \n",
       "1       STRAIGHT AND LEVEL  ...                     0.0   \n",
       "2       STRAIGHT AND LEVEL  ...                     0.0   \n",
       "3       STRAIGHT AND LEVEL  ...                     0.0   \n",
       "5       STRAIGHT AND LEVEL  ...                     0.0   \n",
       "...                    ...  ...                     ...   \n",
       "484017  STRAIGHT AND LEVEL  ...                     0.0   \n",
       "484018  STRAIGHT AND LEVEL  ...                     0.0   \n",
       "484019  STRAIGHT AND LEVEL  ...                     0.0   \n",
       "484020  STRAIGHT AND LEVEL  ...                     0.0   \n",
       "484021  STRAIGHT AND LEVEL  ...                     0.0   \n",
       "\n",
       "       INJURIES_NON_INCAPACITATING INJURIES_REPORTED_NOT_EVIDENT  \\\n",
       "0                              0.0                           0.0   \n",
       "1                              0.0                           0.0   \n",
       "2                              0.0                           0.0   \n",
       "3                              0.0                           0.0   \n",
       "5                              0.0                           0.0   \n",
       "...                            ...                           ...   \n",
       "484017                         0.0                           0.0   \n",
       "484018                         0.0                           0.0   \n",
       "484019                         0.0                           0.0   \n",
       "484020                         0.0                           0.0   \n",
       "484021                         0.0                           0.0   \n",
       "\n",
       "       INJURIES_NO_INDICATION INJURIES_UNKNOWN CRASH_HOUR CRASH_DAY_OF_WEEK  \\\n",
       "0                         3.0              0.0          2                 4   \n",
       "1                         3.0              0.0          2                 6   \n",
       "2                         3.0              0.0          1                 6   \n",
       "3                         3.0              0.0          0                 7   \n",
       "5                         2.0              0.0          3                 5   \n",
       "...                       ...              ...        ...               ...   \n",
       "484017                    2.0              0.0          1                 3   \n",
       "484018                    2.0              0.0          2                 4   \n",
       "484019                    2.0              0.0          2                 4   \n",
       "484020                    4.0              0.0          2                 4   \n",
       "484021                    2.0              0.0          2                 4   \n",
       "\n",
       "       CRASH_MONTH   LATITUDE  LONGITUDE  \n",
       "0                7  41.919664 -87.773288  \n",
       "1                6  41.741804 -87.740954  \n",
       "2                7  41.773456 -87.585022  \n",
       "3                7  41.802119 -87.622115  \n",
       "5                3  41.741804 -87.740954  \n",
       "...            ...        ...        ...  \n",
       "484017           1  41.877790 -87.636488  \n",
       "484018           1  41.800697 -87.706358  \n",
       "484019           1  41.924709 -87.717371  \n",
       "484020           1  41.802871 -87.684416  \n",
       "484021           1  41.953010 -87.787707  \n",
       "\n",
       "[468660 rows x 36 columns]"
      ]
     },
     "execution_count": 50,
     "metadata": {},
     "output_type": "execute_result"
    }
   ],
   "source": [
    "crashes"
   ]
  },
  {
   "cell_type": "markdown",
   "metadata": {},
   "source": [
    "### Working with Date-Time Columns"
   ]
  },
  {
   "cell_type": "markdown",
   "metadata": {},
   "source": [
    "- Can we explore and see if holidays play a part on accidents?"
   ]
  },
  {
   "cell_type": "code",
   "execution_count": 51,
   "metadata": {
    "scrolled": true
   },
   "outputs": [
    {
     "data": {
      "text/plain": [
       "'07/10/2019 05:56:00 PM'"
      ]
     },
     "execution_count": 51,
     "metadata": {},
     "output_type": "execute_result"
    }
   ],
   "source": [
    "# CRASH_DATE is a string\n",
    "crashes['CRASH_DATE'][0]"
   ]
  },
  {
   "cell_type": "code",
   "execution_count": 52,
   "metadata": {},
   "outputs": [
    {
     "data": {
      "text/plain": [
       "str"
      ]
     },
     "execution_count": 52,
     "metadata": {},
     "output_type": "execute_result"
    }
   ],
   "source": [
    "# We can check that here\n",
    "type(crashes['CRASH_DATE'][0])"
   ]
  },
  {
   "cell_type": "code",
   "execution_count": 53,
   "metadata": {},
   "outputs": [],
   "source": [
    "# We create a new column Date-Time with the previous column\n",
    "crashes['DATE_ACCIDENT']= pd.to_datetime(crashes['CRASH_DATE'], format='%m/%d/%Y %I:%M:%S %p')"
   ]
  },
  {
   "cell_type": "code",
   "execution_count": 54,
   "metadata": {
    "scrolled": true
   },
   "outputs": [
    {
     "data": {
      "text/plain": [
       "pandas._libs.tslibs.timestamps.Timestamp"
      ]
     },
     "execution_count": 54,
     "metadata": {},
     "output_type": "execute_result"
    }
   ],
   "source": [
    "# We confirm that it worked\n",
    "type(crashes.DATE_ACCIDENT[0])"
   ]
  },
  {
   "cell_type": "code",
   "execution_count": 55,
   "metadata": {},
   "outputs": [
    {
     "name": "stdout",
     "output_type": "stream",
     "text": [
      "Earliest Date: 2013-03-03 16:48:00 \n",
      "Latest Date: 2021-03-09 23:10:00\n"
     ]
    }
   ],
   "source": [
    "# Our earliest and latest date\n",
    "print(\"Earliest Date: {} \\nLatest Date: {}\".format(crashes['DATE_ACCIDENT'].min(), crashes['DATE_ACCIDENT'].max()))"
   ]
  },
  {
   "cell_type": "code",
   "execution_count": 56,
   "metadata": {},
   "outputs": [],
   "source": [
    "holidays = pd.tseries.holiday.USFederalHolidayCalendar().holidays(start='2012', end='2022').to_pydatetime()"
   ]
  },
  {
   "cell_type": "code",
   "execution_count": 57,
   "metadata": {},
   "outputs": [],
   "source": [
    "holidays_date = [holiday.date() for holiday in holidays]\n"
   ]
  },
  {
   "cell_type": "code",
   "execution_count": 58,
   "metadata": {},
   "outputs": [
    {
     "data": {
      "text/plain": [
       "[datetime.date(2012, 1, 2),\n",
       " datetime.date(2012, 1, 16),\n",
       " datetime.date(2012, 2, 20)]"
      ]
     },
     "execution_count": 58,
     "metadata": {},
     "output_type": "execute_result"
    }
   ],
   "source": [
    "holidays_date[:3]"
   ]
  },
  {
   "cell_type": "code",
   "execution_count": 59,
   "metadata": {},
   "outputs": [],
   "source": [
    "def isitaholiday(date):\n",
    "    ''' super useful function'''\n",
    "    if date.date() in holidays_date:\n",
    "        return 1\n",
    "    else: \n",
    "        return 0"
   ]
  },
  {
   "cell_type": "code",
   "execution_count": 60,
   "metadata": {
    "scrolled": false
   },
   "outputs": [
    {
     "data": {
      "text/plain": [
       "0"
      ]
     },
     "execution_count": 60,
     "metadata": {},
     "output_type": "execute_result"
    }
   ],
   "source": [
    "isitaholiday(crashes['DATE_ACCIDENT'][100])"
   ]
  },
  {
   "cell_type": "code",
   "execution_count": 61,
   "metadata": {
    "scrolled": false
   },
   "outputs": [
    {
     "data": {
      "text/plain": [
       "datetime.date(2012, 1, 16)"
      ]
     },
     "execution_count": 61,
     "metadata": {},
     "output_type": "execute_result"
    }
   ],
   "source": [
    "holidays[1].date()"
   ]
  },
  {
   "cell_type": "code",
   "execution_count": 62,
   "metadata": {},
   "outputs": [],
   "source": [
    "crashes['IS_A_HOLIDAY'] = crashes['DATE_ACCIDENT'].apply(isitaholiday)"
   ]
  },
  {
   "cell_type": "code",
   "execution_count": 63,
   "metadata": {},
   "outputs": [],
   "source": [
    "crashes['HOLIDAY_NAME'] = crashes['DATE_ACCIDENT'].apply(isitaholiday)"
   ]
  },
  {
   "cell_type": "code",
   "execution_count": 64,
   "metadata": {
    "scrolled": true
   },
   "outputs": [
    {
     "data": {
      "text/plain": [
       "11064"
      ]
     },
     "execution_count": 64,
     "metadata": {},
     "output_type": "execute_result"
    }
   ],
   "source": [
    "crashes['IS_A_HOLIDAY'].sum()"
   ]
  },
  {
   "cell_type": "code",
   "execution_count": 65,
   "metadata": {},
   "outputs": [
    {
     "data": {
      "text/plain": [
       "datetime.date(2019, 7, 10)"
      ]
     },
     "execution_count": 65,
     "metadata": {},
     "output_type": "execute_result"
    }
   ],
   "source": [
    "crashes['DATE_ACCIDENT'][0].date()"
   ]
  },
  {
   "cell_type": "code",
   "execution_count": 66,
   "metadata": {},
   "outputs": [],
   "source": [
    "crashes.drop(['CRASH_DATE'], axis = 1, inplace = True)"
   ]
  },
  {
   "cell_type": "code",
   "execution_count": 67,
   "metadata": {},
   "outputs": [
    {
     "data": {
      "text/html": [
       "<div>\n",
       "<style scoped>\n",
       "    .dataframe tbody tr th:only-of-type {\n",
       "        vertical-align: middle;\n",
       "    }\n",
       "\n",
       "    .dataframe tbody tr th {\n",
       "        vertical-align: top;\n",
       "    }\n",
       "\n",
       "    .dataframe thead th {\n",
       "        text-align: right;\n",
       "    }\n",
       "</style>\n",
       "<table border=\"1\" class=\"dataframe\">\n",
       "  <thead>\n",
       "    <tr style=\"text-align: right;\">\n",
       "      <th></th>\n",
       "      <th>CRASH_RECORD_ID</th>\n",
       "      <th>POSTED_SPEED_LIMIT</th>\n",
       "      <th>TRAFFIC_CONTROL_DEVICE</th>\n",
       "      <th>DEVICE_CONDITION</th>\n",
       "      <th>WEATHER_CONDITION</th>\n",
       "      <th>LIGHTING_CONDITION</th>\n",
       "      <th>FIRST_CRASH_TYPE</th>\n",
       "      <th>TRAFFICWAY_TYPE</th>\n",
       "      <th>ALIGNMENT</th>\n",
       "      <th>ROADWAY_SURFACE_COND</th>\n",
       "      <th>...</th>\n",
       "      <th>INJURIES_NO_INDICATION</th>\n",
       "      <th>INJURIES_UNKNOWN</th>\n",
       "      <th>CRASH_HOUR</th>\n",
       "      <th>CRASH_DAY_OF_WEEK</th>\n",
       "      <th>CRASH_MONTH</th>\n",
       "      <th>LATITUDE</th>\n",
       "      <th>LONGITUDE</th>\n",
       "      <th>DATE_ACCIDENT</th>\n",
       "      <th>IS_A_HOLIDAY</th>\n",
       "      <th>HOLIDAY_NAME</th>\n",
       "    </tr>\n",
       "  </thead>\n",
       "  <tbody>\n",
       "    <tr>\n",
       "      <th>0</th>\n",
       "      <td>4fd0a3e0897b3335b94cd8d5b2d2b350eb691add56c62d...</td>\n",
       "      <td>6</td>\n",
       "      <td>NO CONTROLS</td>\n",
       "      <td>NO CONTROLS</td>\n",
       "      <td>CLEAR</td>\n",
       "      <td>DAYLIGHT</td>\n",
       "      <td>TURNING</td>\n",
       "      <td>ONE-WAY</td>\n",
       "      <td>STRAIGHT AND LEVEL</td>\n",
       "      <td>DRY</td>\n",
       "      <td>...</td>\n",
       "      <td>3.0</td>\n",
       "      <td>0.0</td>\n",
       "      <td>2</td>\n",
       "      <td>4</td>\n",
       "      <td>7</td>\n",
       "      <td>41.919664</td>\n",
       "      <td>-87.773288</td>\n",
       "      <td>2019-07-10 17:56:00</td>\n",
       "      <td>0</td>\n",
       "      <td>0</td>\n",
       "    </tr>\n",
       "    <tr>\n",
       "      <th>1</th>\n",
       "      <td>009e9e67203442370272e1a13d6ee51a4155dac65e583d...</td>\n",
       "      <td>6</td>\n",
       "      <td>STOP SIGN/FLASHER</td>\n",
       "      <td>FUNCTIONING PROPERLY</td>\n",
       "      <td>CLEAR</td>\n",
       "      <td>DAYLIGHT</td>\n",
       "      <td>TURNING</td>\n",
       "      <td>NOT DIVIDED</td>\n",
       "      <td>STRAIGHT AND LEVEL</td>\n",
       "      <td>DRY</td>\n",
       "      <td>...</td>\n",
       "      <td>3.0</td>\n",
       "      <td>0.0</td>\n",
       "      <td>2</td>\n",
       "      <td>6</td>\n",
       "      <td>6</td>\n",
       "      <td>41.741804</td>\n",
       "      <td>-87.740954</td>\n",
       "      <td>2017-06-30 16:00:00</td>\n",
       "      <td>0</td>\n",
       "      <td>0</td>\n",
       "    </tr>\n",
       "    <tr>\n",
       "      <th>2</th>\n",
       "      <td>ee9283eff3a55ac50ee58f3d9528ce1d689b1c4180b4c4...</td>\n",
       "      <td>5</td>\n",
       "      <td>TRAFFIC SIGNAL</td>\n",
       "      <td>FUNCTIONING PROPERLY</td>\n",
       "      <td>CLEAR</td>\n",
       "      <td>DAYLIGHT</td>\n",
       "      <td>REAR END</td>\n",
       "      <td>FOUR WAY</td>\n",
       "      <td>STRAIGHT AND LEVEL</td>\n",
       "      <td>DRY</td>\n",
       "      <td>...</td>\n",
       "      <td>3.0</td>\n",
       "      <td>0.0</td>\n",
       "      <td>1</td>\n",
       "      <td>6</td>\n",
       "      <td>7</td>\n",
       "      <td>41.773456</td>\n",
       "      <td>-87.585022</td>\n",
       "      <td>2020-07-10 10:25:00</td>\n",
       "      <td>0</td>\n",
       "      <td>0</td>\n",
       "    </tr>\n",
       "  </tbody>\n",
       "</table>\n",
       "<p>3 rows × 38 columns</p>\n",
       "</div>"
      ],
      "text/plain": [
       "                                     CRASH_RECORD_ID POSTED_SPEED_LIMIT  \\\n",
       "0  4fd0a3e0897b3335b94cd8d5b2d2b350eb691add56c62d...                  6   \n",
       "1  009e9e67203442370272e1a13d6ee51a4155dac65e583d...                  6   \n",
       "2  ee9283eff3a55ac50ee58f3d9528ce1d689b1c4180b4c4...                  5   \n",
       "\n",
       "  TRAFFIC_CONTROL_DEVICE      DEVICE_CONDITION WEATHER_CONDITION  \\\n",
       "0            NO CONTROLS           NO CONTROLS             CLEAR   \n",
       "1      STOP SIGN/FLASHER  FUNCTIONING PROPERLY             CLEAR   \n",
       "2         TRAFFIC SIGNAL  FUNCTIONING PROPERLY             CLEAR   \n",
       "\n",
       "  LIGHTING_CONDITION FIRST_CRASH_TYPE TRAFFICWAY_TYPE           ALIGNMENT  \\\n",
       "0           DAYLIGHT          TURNING         ONE-WAY  STRAIGHT AND LEVEL   \n",
       "1           DAYLIGHT          TURNING     NOT DIVIDED  STRAIGHT AND LEVEL   \n",
       "2           DAYLIGHT         REAR END        FOUR WAY  STRAIGHT AND LEVEL   \n",
       "\n",
       "  ROADWAY_SURFACE_COND  ... INJURIES_NO_INDICATION INJURIES_UNKNOWN  \\\n",
       "0                  DRY  ...                    3.0              0.0   \n",
       "1                  DRY  ...                    3.0              0.0   \n",
       "2                  DRY  ...                    3.0              0.0   \n",
       "\n",
       "  CRASH_HOUR CRASH_DAY_OF_WEEK CRASH_MONTH   LATITUDE  LONGITUDE  \\\n",
       "0          2                 4           7  41.919664 -87.773288   \n",
       "1          2                 6           6  41.741804 -87.740954   \n",
       "2          1                 6           7  41.773456 -87.585022   \n",
       "\n",
       "        DATE_ACCIDENT IS_A_HOLIDAY HOLIDAY_NAME  \n",
       "0 2019-07-10 17:56:00            0            0  \n",
       "1 2017-06-30 16:00:00            0            0  \n",
       "2 2020-07-10 10:25:00            0            0  \n",
       "\n",
       "[3 rows x 38 columns]"
      ]
     },
     "execution_count": 67,
     "metadata": {},
     "output_type": "execute_result"
    }
   ],
   "source": [
    "crashes.head(3)"
   ]
  },
  {
   "cell_type": "code",
   "execution_count": 68,
   "metadata": {},
   "outputs": [],
   "source": [
    "crashes_holiday = crashes[crashes['IS_A_HOLIDAY']==1]"
   ]
  },
  {
   "cell_type": "code",
   "execution_count": 69,
   "metadata": {
    "scrolled": true
   },
   "outputs": [
    {
     "data": {
      "text/html": [
       "<div>\n",
       "<style scoped>\n",
       "    .dataframe tbody tr th:only-of-type {\n",
       "        vertical-align: middle;\n",
       "    }\n",
       "\n",
       "    .dataframe tbody tr th {\n",
       "        vertical-align: top;\n",
       "    }\n",
       "\n",
       "    .dataframe thead th {\n",
       "        text-align: right;\n",
       "    }\n",
       "</style>\n",
       "<table border=\"1\" class=\"dataframe\">\n",
       "  <thead>\n",
       "    <tr style=\"text-align: right;\">\n",
       "      <th></th>\n",
       "      <th>CRASH_RECORD_ID</th>\n",
       "      <th>POSTED_SPEED_LIMIT</th>\n",
       "      <th>TRAFFIC_CONTROL_DEVICE</th>\n",
       "      <th>DEVICE_CONDITION</th>\n",
       "      <th>WEATHER_CONDITION</th>\n",
       "      <th>LIGHTING_CONDITION</th>\n",
       "      <th>FIRST_CRASH_TYPE</th>\n",
       "      <th>TRAFFICWAY_TYPE</th>\n",
       "      <th>ALIGNMENT</th>\n",
       "      <th>ROADWAY_SURFACE_COND</th>\n",
       "      <th>...</th>\n",
       "      <th>INJURIES_NO_INDICATION</th>\n",
       "      <th>INJURIES_UNKNOWN</th>\n",
       "      <th>CRASH_HOUR</th>\n",
       "      <th>CRASH_DAY_OF_WEEK</th>\n",
       "      <th>CRASH_MONTH</th>\n",
       "      <th>LATITUDE</th>\n",
       "      <th>LONGITUDE</th>\n",
       "      <th>DATE_ACCIDENT</th>\n",
       "      <th>IS_A_HOLIDAY</th>\n",
       "      <th>HOLIDAY_NAME</th>\n",
       "    </tr>\n",
       "  </thead>\n",
       "  <tbody>\n",
       "    <tr>\n",
       "      <th>155</th>\n",
       "      <td>3bfec94191bdc869600d2c429c45a68871eb9733ce7ec6...</td>\n",
       "      <td>4</td>\n",
       "      <td>NO CONTROLS</td>\n",
       "      <td>NO CONTROLS</td>\n",
       "      <td>SNOW</td>\n",
       "      <td>DAYLIGHT</td>\n",
       "      <td>PARKED MOTOR VEHICLE</td>\n",
       "      <td>NOT DIVIDED</td>\n",
       "      <td>STRAIGHT AND LEVEL</td>\n",
       "      <td>SNOW OR SLUSH</td>\n",
       "      <td>...</td>\n",
       "      <td>1.0</td>\n",
       "      <td>0.0</td>\n",
       "      <td>1</td>\n",
       "      <td>6</td>\n",
       "      <td>11</td>\n",
       "      <td>41.932213</td>\n",
       "      <td>-87.653694</td>\n",
       "      <td>2017-11-10 12:45:00</td>\n",
       "      <td>1</td>\n",
       "      <td>1</td>\n",
       "    </tr>\n",
       "    <tr>\n",
       "      <th>168</th>\n",
       "      <td>43292e98b1ba60cb4c6efeb987a67a1ec0291acea4357e...</td>\n",
       "      <td>7</td>\n",
       "      <td>NO CONTROLS</td>\n",
       "      <td>OTHER</td>\n",
       "      <td>RAIN</td>\n",
       "      <td>DARKNESS, LIGHTED ROAD</td>\n",
       "      <td>TURNING</td>\n",
       "      <td>NOT DIVIDED</td>\n",
       "      <td>STRAIGHT AND LEVEL</td>\n",
       "      <td>WET</td>\n",
       "      <td>...</td>\n",
       "      <td>4.0</td>\n",
       "      <td>0.0</td>\n",
       "      <td>NaN</td>\n",
       "      <td>2</td>\n",
       "      <td>2</td>\n",
       "      <td>41.880660</td>\n",
       "      <td>-87.740728</td>\n",
       "      <td>2018-02-19 00:25:00</td>\n",
       "      <td>1</td>\n",
       "      <td>1</td>\n",
       "    </tr>\n",
       "    <tr>\n",
       "      <th>234</th>\n",
       "      <td>5e45d4537c4d0bd12bfa11a7f75526f4fe0d61c68a0ec1...</td>\n",
       "      <td>1</td>\n",
       "      <td>NO CONTROLS</td>\n",
       "      <td>NO CONTROLS</td>\n",
       "      <td>CLEAR</td>\n",
       "      <td>DARKNESS, LIGHTED ROAD</td>\n",
       "      <td>PARKED MOTOR VEHICLE</td>\n",
       "      <td>PARKING LOT</td>\n",
       "      <td>STRAIGHT AND LEVEL</td>\n",
       "      <td>WET</td>\n",
       "      <td>...</td>\n",
       "      <td>1.0</td>\n",
       "      <td>0.0</td>\n",
       "      <td>0</td>\n",
       "      <td>3</td>\n",
       "      <td>1</td>\n",
       "      <td>41.879714</td>\n",
       "      <td>-87.774496</td>\n",
       "      <td>2019-01-01 02:40:00</td>\n",
       "      <td>1</td>\n",
       "      <td>1</td>\n",
       "    </tr>\n",
       "  </tbody>\n",
       "</table>\n",
       "<p>3 rows × 38 columns</p>\n",
       "</div>"
      ],
      "text/plain": [
       "                                       CRASH_RECORD_ID POSTED_SPEED_LIMIT  \\\n",
       "155  3bfec94191bdc869600d2c429c45a68871eb9733ce7ec6...                  4   \n",
       "168  43292e98b1ba60cb4c6efeb987a67a1ec0291acea4357e...                  7   \n",
       "234  5e45d4537c4d0bd12bfa11a7f75526f4fe0d61c68a0ec1...                  1   \n",
       "\n",
       "    TRAFFIC_CONTROL_DEVICE DEVICE_CONDITION WEATHER_CONDITION  \\\n",
       "155            NO CONTROLS      NO CONTROLS              SNOW   \n",
       "168            NO CONTROLS            OTHER              RAIN   \n",
       "234            NO CONTROLS      NO CONTROLS             CLEAR   \n",
       "\n",
       "         LIGHTING_CONDITION      FIRST_CRASH_TYPE TRAFFICWAY_TYPE  \\\n",
       "155                DAYLIGHT  PARKED MOTOR VEHICLE     NOT DIVIDED   \n",
       "168  DARKNESS, LIGHTED ROAD               TURNING     NOT DIVIDED   \n",
       "234  DARKNESS, LIGHTED ROAD  PARKED MOTOR VEHICLE     PARKING LOT   \n",
       "\n",
       "              ALIGNMENT ROADWAY_SURFACE_COND  ... INJURIES_NO_INDICATION  \\\n",
       "155  STRAIGHT AND LEVEL        SNOW OR SLUSH  ...                    1.0   \n",
       "168  STRAIGHT AND LEVEL                  WET  ...                    4.0   \n",
       "234  STRAIGHT AND LEVEL                  WET  ...                    1.0   \n",
       "\n",
       "    INJURIES_UNKNOWN CRASH_HOUR CRASH_DAY_OF_WEEK CRASH_MONTH   LATITUDE  \\\n",
       "155              0.0          1                 6          11  41.932213   \n",
       "168              0.0        NaN                 2           2  41.880660   \n",
       "234              0.0          0                 3           1  41.879714   \n",
       "\n",
       "     LONGITUDE       DATE_ACCIDENT IS_A_HOLIDAY HOLIDAY_NAME  \n",
       "155 -87.653694 2017-11-10 12:45:00            1            1  \n",
       "168 -87.740728 2018-02-19 00:25:00            1            1  \n",
       "234 -87.774496 2019-01-01 02:40:00            1            1  \n",
       "\n",
       "[3 rows x 38 columns]"
      ]
     },
     "execution_count": 69,
     "metadata": {},
     "output_type": "execute_result"
    }
   ],
   "source": [
    "crashes_holiday.head(3)"
   ]
  },
  {
   "cell_type": "markdown",
   "metadata": {},
   "source": [
    "### **To Delete?**\n",
    "- 'FIRST_CRASH_TYPE'\n",
    "- 'INJURIES_INCAPACITATING' \n",
    "- 'INJURIES_NON_INCAPACITATING'\n",
    "- 'INJURIES_REPORTED_NOT_EVIDENT'\n",
    "- 'INJURIES_TOTAL'\n",
    "- 'MOST_SEVERE_INJURY'\n",
    "- 'NUM_UNITS'\n",
    "- 'BEAT_OF_OCCURRENCE'\n",
    "- 'DATE_POLICE_NOTIFIED'\n",
    "- 'PRIM_CONTRIBUTORY_CAUSE'\n",
    "- 'SEC_CONTRIBUTORY_CAUSE'"
   ]
  },
  {
   "cell_type": "markdown",
   "metadata": {},
   "source": [
    "# People Data Set"
   ]
  },
  {
   "cell_type": "code",
   "execution_count": 70,
   "metadata": {
    "scrolled": false
   },
   "outputs": [
    {
     "data": {
      "text/plain": [
       "(1069147, 30)"
      ]
     },
     "execution_count": 70,
     "metadata": {},
     "output_type": "execute_result"
    }
   ],
   "source": [
    "people.shape"
   ]
  },
  {
   "cell_type": "code",
   "execution_count": 71,
   "metadata": {
    "scrolled": false
   },
   "outputs": [
    {
     "name": "stdout",
     "output_type": "stream",
     "text": [
      "[1, 6, 45, 45, 43, 51, 11, 335, 49, 364, 3, 108, 72, 61, 19, 7, 5, 5, 187, 175, 96, 20, 14, 12, 23, 4, 8, 4, 30, 2]\n",
      "\n",
      "['PERSON_ID', 'PERSON_TYPE', 'CRASH_RECORD_ID', 'RD_NO', 'VEHICLE_ID', 'CRASH_DATE', 'SEAT_NO', 'CITY', 'STATE', 'ZIPCODE', 'SEX', 'AGE', 'DRIVERS_LICENSE_STATE', 'DRIVERS_LICENSE_CLASS', 'SAFETY_EQUIPMENT', 'AIRBAG_DEPLOYED', 'EJECTION', 'INJURY_CLASSIFICATION', 'HOSPITAL', 'EMS_AGENCY', 'EMS_RUN_NO', 'DRIVER_ACTION', 'DRIVER_VISION', 'PHYSICAL_CONDITION', 'PEDPEDAL_ACTION', 'PEDPEDAL_VISIBILITY', 'PEDPEDAL_LOCATION', 'BAC_RESULT', 'BAC_RESULT VALUE', 'CELL_PHONE_USE']\n"
     ]
    }
   ],
   "source": [
    "howmanyunique(people)"
   ]
  },
  {
   "cell_type": "code",
   "execution_count": 72,
   "metadata": {},
   "outputs": [
    {
     "name": "stdout",
     "output_type": "stream",
     "text": [
      "0\n"
     ]
    }
   ],
   "source": [
    "howmanyduplicates(people)"
   ]
  },
  {
   "cell_type": "code",
   "execution_count": 73,
   "metadata": {
    "scrolled": true
   },
   "outputs": [
    {
     "name": "stdout",
     "output_type": "stream",
     "text": [
      "Row: RD_NO : is made 0.007% of NaN Values.\n",
      "Row: VEHICLE_ID : is made 0.02% of NaN Values.\n",
      "Row: SEAT_NO : is made 0.796% of NaN Values.\n",
      "Row: CITY : is made 0.261% of NaN Values.\n",
      "Row: STATE : is made 0.253% of NaN Values.\n",
      "Row: ZIPCODE : is made 0.325% of NaN Values.\n",
      "Row: SEX : is made 0.015% of NaN Values.\n",
      "Row: AGE : is made 0.285% of NaN Values.\n",
      "Row: DRIVERS_LICENSE_STATE : is made 0.407% of NaN Values.\n",
      "Row: DRIVERS_LICENSE_CLASS : is made 0.485% of NaN Values.\n",
      "Row: SAFETY_EQUIPMENT : is made 0.003% of NaN Values.\n",
      "Row: AIRBAG_DEPLOYED : is made 0.019% of NaN Values.\n",
      "Row: EJECTION : is made 0.012% of NaN Values.\n",
      "Row: INJURY_CLASSIFICATION : is made 0.001% of NaN Values.\n",
      "Row: HOSPITAL : is made 0.818% of NaN Values.\n",
      "Row: EMS_AGENCY : is made 0.884% of NaN Values.\n",
      "Row: EMS_RUN_NO : is made 0.981% of NaN Values.\n",
      "Row: DRIVER_ACTION : is made 0.206% of NaN Values.\n",
      "Row: DRIVER_VISION : is made 0.207% of NaN Values.\n",
      "Row: PHYSICAL_CONDITION : is made 0.206% of NaN Values.\n",
      "Row: PEDPEDAL_ACTION : is made 0.981% of NaN Values.\n",
      "Row: PEDPEDAL_VISIBILITY : is made 0.981% of NaN Values.\n",
      "Row: PEDPEDAL_LOCATION : is made 0.981% of NaN Values.\n",
      "Row: BAC_RESULT : is made 0.205% of NaN Values.\n",
      "Row: BAC_RESULT VALUE : is made 0.999% of NaN Values.\n",
      "Row: CELL_PHONE_USE : is made 0.999% of NaN Values.\n",
      "['SEAT_NO', 'ZIPCODE', 'DRIVERS_LICENSE_STATE', 'DRIVERS_LICENSE_CLASS', 'HOSPITAL', 'EMS_AGENCY', 'EMS_RUN_NO', 'PEDPEDAL_ACTION', 'PEDPEDAL_VISIBILITY', 'PEDPEDAL_LOCATION', 'BAC_RESULT VALUE', 'CELL_PHONE_USE']\n"
     ]
    }
   ],
   "source": [
    "rows_w_nan(people)"
   ]
  },
  {
   "cell_type": "code",
   "execution_count": 74,
   "metadata": {},
   "outputs": [],
   "source": [
    "people = people.drop(columns=['CELL_PHONE_USE', 'BAC_RESULT VALUE', 'PEDPEDAL_LOCATION', 'PEDPEDAL_VISIBILITY',\n",
    "                              'EMS_RUN_NO', 'EMS_AGENCY', 'HOSPITAL', 'DRIVERS_LICENSE_CLASS', \n",
    "                              'DRIVERS_LICENSE_STATE', 'ZIPCODE', 'SEAT_NO', 'PEDPEDAL_ACTION'])"
   ]
  },
  {
   "cell_type": "code",
   "execution_count": 75,
   "metadata": {},
   "outputs": [],
   "source": [
    "#people.dropna(inplace=True)"
   ]
  },
  {
   "cell_type": "code",
   "execution_count": 76,
   "metadata": {},
   "outputs": [
    {
     "data": {
      "text/plain": [
       "PERSON_ID                     0\n",
       "PERSON_TYPE                   0\n",
       "CRASH_RECORD_ID               0\n",
       "RD_NO                      7228\n",
       "VEHICLE_ID                21151\n",
       "CRASH_DATE                    0\n",
       "CITY                     278763\n",
       "STATE                    269963\n",
       "SEX                       15827\n",
       "AGE                      304698\n",
       "SAFETY_EQUIPMENT           3170\n",
       "AIRBAG_DEPLOYED           20244\n",
       "EJECTION                  13192\n",
       "INJURY_CLASSIFICATION       565\n",
       "DRIVER_ACTION            220503\n",
       "DRIVER_VISION            220783\n",
       "PHYSICAL_CONDITION       219892\n",
       "BAC_RESULT               219396\n",
       "dtype: int64"
      ]
     },
     "execution_count": 76,
     "metadata": {},
     "output_type": "execute_result"
    }
   ],
   "source": [
    "people.isna().sum()"
   ]
  },
  {
   "cell_type": "code",
   "execution_count": 77,
   "metadata": {
    "scrolled": true
   },
   "outputs": [
    {
     "data": {
      "text/plain": [
       "NO INDICATION OF INJURY     982663\n",
       "NONINCAPACITATING INJURY     47604\n",
       "REPORTED, NOT EVIDENT        28368\n",
       "INCAPACITATING INJURY         9400\n",
       "FATAL                          547\n",
       "Name: INJURY_CLASSIFICATION, dtype: int64"
      ]
     },
     "execution_count": 77,
     "metadata": {},
     "output_type": "execute_result"
    }
   ],
   "source": [
    "people.INJURY_CLASSIFICATION.value_counts()"
   ]
  },
  {
   "cell_type": "code",
   "execution_count": 78,
   "metadata": {},
   "outputs": [
    {
     "data": {
      "text/plain": [
       "DID NOT DEPLOY                            632622\n",
       "DEPLOYMENT UNKNOWN                        202892\n",
       "NOT APPLICABLE                            152987\n",
       "DEPLOYED, FRONT                            32011\n",
       "DEPLOYED, COMBINATION                      19738\n",
       "DEPLOYED, SIDE                              8230\n",
       "DEPLOYED OTHER (KNEE, AIR, BELT, ETC.)       423\n",
       "Name: AIRBAG_DEPLOYED, dtype: int64"
      ]
     },
     "execution_count": 78,
     "metadata": {},
     "output_type": "execute_result"
    }
   ],
   "source": [
    "people.AIRBAG_DEPLOYED.value_counts()"
   ]
  },
  {
   "cell_type": "code",
   "execution_count": 79,
   "metadata": {},
   "outputs": [
    {
     "data": {
      "text/plain": [
       "NONE                  992659\n",
       "UNKNOWN                57641\n",
       "TOTALLY EJECTED         3955\n",
       "PARTIALLY EJECTED       1034\n",
       "TRAPPED/EXTRICATED       666\n",
       "Name: EJECTION, dtype: int64"
      ]
     },
     "execution_count": 79,
     "metadata": {},
     "output_type": "execute_result"
    }
   ],
   "source": [
    "# Useless?\n",
    "people.EJECTION.value_counts()"
   ]
  },
  {
   "cell_type": "code",
   "execution_count": 80,
   "metadata": {
    "scrolled": true
   },
   "outputs": [
    {
     "data": {
      "text/plain": [
       "NORMAL                          570812\n",
       "UNKNOWN                         262391\n",
       "IMPAIRED - ALCOHOL                4149\n",
       "REMOVED BY EMS                    3308\n",
       "OTHER                             2352\n",
       "FATIGUED/ASLEEP                   2252\n",
       "EMOTIONAL                         1755\n",
       "ILLNESS/FAINTED                    766\n",
       "HAD BEEN DRINKING                  681\n",
       "IMPAIRED - DRUGS                   498\n",
       "IMPAIRED - ALCOHOL AND DRUGS       184\n",
       "MEDICATED                          107\n",
       "Name: PHYSICAL_CONDITION, dtype: int64"
      ]
     },
     "execution_count": 80,
     "metadata": {},
     "output_type": "execute_result"
    }
   ],
   "source": [
    "people.PHYSICAL_CONDITION.value_counts()"
   ]
  },
  {
   "cell_type": "code",
   "execution_count": 81,
   "metadata": {},
   "outputs": [
    {
     "data": {
      "text/plain": [
       "DRIVER                 829972\n",
       "PASSENGER              218450\n",
       "PEDESTRIAN              12359\n",
       "BICYCLE                  7214\n",
       "NON-MOTOR VEHICLE         951\n",
       "NON-CONTACT VEHICLE       201\n",
       "Name: PERSON_TYPE, dtype: int64"
      ]
     },
     "execution_count": 81,
     "metadata": {},
     "output_type": "execute_result"
    }
   ],
   "source": [
    "people.PERSON_TYPE.value_counts()"
   ]
  },
  {
   "cell_type": "markdown",
   "metadata": {},
   "source": [
    "# Vehicles Data Set"
   ]
  },
  {
   "cell_type": "markdown",
   "metadata": {},
   "source": [
    "**SEAT_NO**\n",
    "- Code for seating position of motor vehicle occupant: 1= driver, 2= center front, 3 = front passenger, 4 = second row left, 5 = second row center, 6 = second row right, 7 = enclosed passengers, 8 = exposed passengers, 9= unknown position, 10 = third row left, 11 = third row center, 12 = third row right"
   ]
  },
  {
   "cell_type": "code",
   "execution_count": 82,
   "metadata": {},
   "outputs": [
    {
     "data": {
      "text/plain": [
       "(988131, 72)"
      ]
     },
     "execution_count": 82,
     "metadata": {},
     "output_type": "execute_result"
    }
   ],
   "source": [
    "vehicles.shape"
   ]
  },
  {
   "cell_type": "code",
   "execution_count": 83,
   "metadata": {
    "scrolled": false
   },
   "outputs": [
    {
     "name": "stdout",
     "output_type": "stream",
     "text": [
      "[1, 17, 17, 40, 17, 9, 22, 1, 2, 149, 540, 51, 68, 17, 21, 25, 9, 28, 2, 2, 25, 2, 130, 119, 2, 2, 2, 2, 2, 2, 2, 2, 2, 2, 2, 2, 2, 2, 14, 1, 33, 11, 11, 4, 40, 37, 39, 59, 2, 3, 8, 3, 3, 1, 3, 1, 3, 3, 9, 2, 3, 3, 26, 4, 39, 11, 8, 9, 6, 2, 2, 7]\n",
      "\n",
      "['CRASH_UNIT_ID', 'CRASH_RECORD_ID', 'RD_NO', 'CRASH_DATE', 'UNIT_NO', 'UNIT_TYPE', 'NUM_PASSENGERS', 'VEHICLE_ID', 'CMRC_VEH_I', 'MAKE', 'MODEL', 'LIC_PLATE_STATE', 'VEHICLE_YEAR', 'VEHICLE_DEFECT', 'VEHICLE_TYPE', 'VEHICLE_USE', 'TRAVEL_DIRECTION', 'MANEUVER', 'TOWED_I', 'FIRE_I', 'OCCUPANT_CNT', 'EXCEED_SPEED_LIMIT_I', 'TOWED_BY', 'TOWED_TO', 'AREA_00_I', 'AREA_01_I', 'AREA_02_I', 'AREA_03_I', 'AREA_04_I', 'AREA_05_I', 'AREA_06_I', 'AREA_07_I', 'AREA_08_I', 'AREA_09_I', 'AREA_10_I', 'AREA_11_I', 'AREA_12_I', 'AREA_99_I', 'FIRST_CONTACT_POINT', 'CMV_ID', 'USDOT_NO', 'CCMC_NO', 'ILCC_NO', 'COMMERCIAL_SRC', 'GVWR', 'CARRIER_NAME', 'CARRIER_STATE', 'CARRIER_CITY', 'HAZMAT_PLACARDS_I', 'HAZMAT_NAME', 'UN_NO', 'HAZMAT_PRESENT_I', 'HAZMAT_REPORT_I', 'HAZMAT_REPORT_NO', 'MCS_REPORT_I', 'MCS_REPORT_NO', 'HAZMAT_VIO_CAUSE_CRASH_I', 'MCS_VIO_CAUSE_CRASH_I', 'IDOT_PERMIT_NO', 'WIDE_LOAD_I', 'TRAILER1_WIDTH', 'TRAILER2_WIDTH', 'TRAILER1_LENGTH', 'TRAILER2_LENGTH', 'TOTAL_VEHICLE_LENGTH', 'AXLE_CNT', 'VEHICLE_CONFIG', 'CARGO_BODY_TYPE', 'LOAD_TYPE', 'HAZMAT_OUT_OF_SERVICE_I', 'MCS_OUT_OF_SERVICE_I', 'HAZMAT_CLASS']\n"
     ]
    }
   ],
   "source": [
    "howmanyunique(vehicles)"
   ]
  },
  {
   "cell_type": "code",
   "execution_count": 84,
   "metadata": {
    "scrolled": true
   },
   "outputs": [
    {
     "name": "stdout",
     "output_type": "stream",
     "text": [
      "0\n"
     ]
    }
   ],
   "source": [
    "howmanyduplicates(vehicles)"
   ]
  },
  {
   "cell_type": "code",
   "execution_count": 90,
   "metadata": {
    "scrolled": false
   },
   "outputs": [
    {
     "name": "stdout",
     "output_type": "stream",
     "text": [
      "[]\n"
     ]
    }
   ],
   "source": [
    "rows_w_nan(vehicles)"
   ]
  },
  {
   "cell_type": "code",
   "execution_count": 86,
   "metadata": {},
   "outputs": [],
   "source": [
    "vehicles = vehicles.drop(columns=['NUM_PASSENGERS', 'CMRC_VEH_I', 'TOWED_I', 'FIRE_I', 'EXCEED_SPEED_LIMIT_I', \n",
    "                                  'TOWED_BY', 'TOWED_TO', 'AREA_00_I', 'AREA_01_I', 'AREA_02_I', 'AREA_03_I', \n",
    "                                  'AREA_04_I', 'AREA_05_I', 'AREA_06_I', 'AREA_07_I', 'AREA_08_I', 'AREA_09_I', \n",
    "                                  'AREA_10_I', 'AREA_11_I', 'AREA_12_I', 'AREA_99_I', 'CMV_ID', 'USDOT_NO', 'CCMC_NO', \n",
    "                                  'ILCC_NO', 'COMMERCIAL_SRC', 'GVWR', 'CARRIER_NAME', 'CARRIER_STATE', 'CARRIER_CITY',\n",
    "                                  'HAZMAT_PLACARDS_I', 'HAZMAT_NAME', 'UN_NO', 'HAZMAT_PRESENT_I', 'HAZMAT_REPORT_I',\n",
    "                                  'HAZMAT_REPORT_NO', 'MCS_REPORT_I', 'MCS_REPORT_NO', 'HAZMAT_VIO_CAUSE_CRASH_I',\n",
    "                                  'MCS_VIO_CAUSE_CRASH_I', 'IDOT_PERMIT_NO', 'WIDE_LOAD_I', 'TRAILER1_WIDTH',\n",
    "                                  'TRAILER2_WIDTH', 'TRAILER1_LENGTH', 'TRAILER2_LENGTH', 'TOTAL_VEHICLE_LENGTH',\n",
    "                                  'AXLE_CNT', 'VEHICLE_CONFIG', 'CARGO_BODY_TYPE', 'LOAD_TYPE', 'HAZMAT_OUT_OF_SERVICE_I',\n",
    "                                  'MCS_OUT_OF_SERVICE_I', 'HAZMAT_CLASS', 'LIC_PLATE_STATE'])"
   ]
  },
  {
   "cell_type": "code",
   "execution_count": 87,
   "metadata": {},
   "outputs": [],
   "source": [
    "vehicles.dropna(inplace=True)"
   ]
  },
  {
   "cell_type": "code",
   "execution_count": 88,
   "metadata": {},
   "outputs": [
    {
     "data": {
      "text/plain": [
       "CRASH_UNIT_ID          0\n",
       "CRASH_RECORD_ID        0\n",
       "RD_NO                  0\n",
       "CRASH_DATE             0\n",
       "UNIT_NO                0\n",
       "UNIT_TYPE              0\n",
       "VEHICLE_ID             0\n",
       "MAKE                   0\n",
       "MODEL                  0\n",
       "VEHICLE_YEAR           0\n",
       "VEHICLE_DEFECT         0\n",
       "VEHICLE_TYPE           0\n",
       "VEHICLE_USE            0\n",
       "TRAVEL_DIRECTION       0\n",
       "MANEUVER               0\n",
       "OCCUPANT_CNT           0\n",
       "FIRST_CONTACT_POINT    0\n",
       "dtype: int64"
      ]
     },
     "execution_count": 88,
     "metadata": {},
     "output_type": "execute_result"
    }
   ],
   "source": [
    "vehicles.isna().sum()"
   ]
  },
  {
   "cell_type": "markdown",
   "metadata": {},
   "source": [
    "# Notes:"
   ]
  },
  {
   "cell_type": "code",
   "execution_count": 89,
   "metadata": {},
   "outputs": [],
   "source": [
    "# new = old[['A', 'C', 'D']]"
   ]
  },
  {
   "cell_type": "markdown",
   "metadata": {},
   "source": [
    "1) Chicago Car Crashes (Links to an external site.)\n",
    "Note this links also to Vehicle Data (Links to an external site.) and to Driver/Passenger Data (Links to an external site.).\n",
    "\n",
    "Build a classifier to predict the primary contributory cause of a car accident, given information about the car,\n",
    "the people in the car,the road conditions etc. You might imagine your audience as a Vehicle Safety Board who's\n",
    "interested in reducing traffic accidents, or as the City of Chicago who's interested in becoming aware of any\n",
    "interesting patterns. Note that there is a multi-class classification problem. You will almost certainly want to bin \n",
    "or trim or otherwise limit the number of target categories on which you ultimately predict. Note e.g. that some\n",
    "primary contributory causes have very few samples."
   ]
  },
  {
   "cell_type": "markdown",
   "metadata": {},
   "source": [
    "This criterion is linked to a Learning OutcomeBusiness Understanding\n",
    "\n",
    "Explains the project's real-world value for a specific stakeholder"
   ]
  },
  {
   "cell_type": "markdown",
   "metadata": {},
   "source": [
    "This criterion is linked to a Learning OutcomeData Understanding\n",
    "\n",
    "Explicitly relates data's source and properties to real-world problem"
   ]
  },
  {
   "cell_type": "markdown",
   "metadata": {},
   "source": [
    "This criterion is linked to a Learning OutcomeData Preparation\n",
    "\n",
    "Data preparation is reproducible and well-documented with valid justifications"
   ]
  },
  {
   "cell_type": "markdown",
   "metadata": {},
   "source": [
    "Modeling\n",
    "\n",
    "Model development is iterative and documented with valid justifications"
   ]
  },
  {
   "cell_type": "markdown",
   "metadata": {},
   "source": [
    "This criterion is linked to a Learning OutcomeClassification Results\n",
    "\n",
    "Explains how well the project solves the real-world problem"
   ]
  },
  {
   "cell_type": "markdown",
   "metadata": {},
   "source": [
    "This criterion is linked to a Learning OutcomeVisualization\n",
    "\n",
    "Includes three polished visualizations of relevant findings"
   ]
  },
  {
   "cell_type": "markdown",
   "metadata": {},
   "source": [
    "GitHub Repository\n",
    "\n",
    "Repository uses all \"best practices\" for README, structure, and commits"
   ]
  },
  {
   "cell_type": "markdown",
   "metadata": {},
   "source": [
    "Presentation Content\n",
    "\n",
    "Presentation clearly shows stakeholders how well the project meets their needs"
   ]
  },
  {
   "cell_type": "markdown",
   "metadata": {},
   "source": [
    "This criterion is linked to a Learning OutcomeSlide Style\n",
    "\n",
    "Slides have a fully professional style"
   ]
  },
  {
   "cell_type": "markdown",
   "metadata": {},
   "source": [
    "This criterion is linked to a Learning OutcomePresentation Delivery\n",
    "\n",
    "Presentation engagingly and clearly delivers the intended content"
   ]
  },
  {
   "cell_type": "markdown",
   "metadata": {},
   "source": [
    "This criterion is linked to a Learning OutcomeAnswers to Questions\n",
    "\n",
    "Answers are fully clear and appropriate"
   ]
  },
  {
   "cell_type": "code",
   "execution_count": null,
   "metadata": {},
   "outputs": [],
   "source": []
  }
 ],
 "metadata": {
  "kernelspec": {
   "display_name": "learn-env",
   "language": "python",
   "name": "learn-env"
  },
  "language_info": {
   "codemirror_mode": {
    "name": "ipython",
    "version": 3
   },
   "file_extension": ".py",
   "mimetype": "text/x-python",
   "name": "python",
   "nbconvert_exporter": "python",
   "pygments_lexer": "ipython3",
   "version": "3.8.5"
  }
 },
 "nbformat": 4,
 "nbformat_minor": 4
}
