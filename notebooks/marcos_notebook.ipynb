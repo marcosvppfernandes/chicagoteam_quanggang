{
 "cells": [
  {
   "cell_type": "markdown",
   "metadata": {},
   "source": [
    "# Exploratory Data Analysis and Data Cleaning"
   ]
  },
  {
   "cell_type": "markdown",
   "metadata": {},
   "source": [
    "> Import statements"
   ]
  },
  {
   "cell_type": "code",
   "execution_count": 1,
   "metadata": {},
   "outputs": [],
   "source": [
    "import pandas as pd\n",
    "import numpy as np\n",
    "import matplotlib.pyplot as plt\n",
    "import seaborn as sns\n",
    "import numpy as np\n",
    "from datetime import datetime\n",
    "from dateutil import parser\n",
    "from sklearn.model_selection import train_test_split\n",
    "from pandas.tseries.holiday import USFederalHolidayCalendar as calendar\n",
    "from sklearn.linear_model import LogisticRegression\n",
    "from sklearn.preprocessing import OneHotEncoder\n",
    "from sklearn.ensemble import RandomForestClassifier\n",
    "from sklearn.metrics import f1_score\n",
    "from sklearn.metrics import recall_score\n",
    "from sklearn.model_selection import KFold\n",
    "from sklearn.metrics import precision_score\n",
    "from sklearn.metrics import confusion_matrix\n",
    "\n",
    "%matplotlib inline\n",
    "sns.set()"
   ]
  },
  {
   "cell_type": "markdown",
   "metadata": {},
   "source": [
    "> Naming our datasets"
   ]
  },
  {
   "cell_type": "code",
   "execution_count": 2,
   "metadata": {},
   "outputs": [],
   "source": [
    "crashes = pd.read_csv('../../Traffic_Crashes_-_Crashes.csv')"
   ]
  },
  {
   "cell_type": "code",
   "execution_count": 3,
   "metadata": {},
   "outputs": [],
   "source": [
    "# Low_memory=False, because it has mixed types of data in the same column/too many rows\n",
    "people = pd.read_csv('../../Traffic_Crashes_-_People.csv', low_memory=False)"
   ]
  },
  {
   "cell_type": "code",
   "execution_count": 4,
   "metadata": {},
   "outputs": [],
   "source": [
    "vehicles = pd.read_csv('../../Traffic_Crashes_-_Vehicles.csv', low_memory=False)"
   ]
  },
  {
   "cell_type": "markdown",
   "metadata": {},
   "source": [
    "> Defining functions that we are going to use later on"
   ]
  },
  {
   "cell_type": "code",
   "execution_count": 5,
   "metadata": {},
   "outputs": [],
   "source": [
    "def howmanyunique(data):\n",
    "    \"\"\" Returns number of unique values per column\"\"\"\n",
    "    temp = []\n",
    "    name = []\n",
    "    for x in data.columns:\n",
    "        temp.append(len(data[x].value_counts().unique()))\n",
    "        name.append(x)\n",
    "    print(temp)\n",
    "    print('')\n",
    "    print(name)"
   ]
  },
  {
   "cell_type": "code",
   "execution_count": 6,
   "metadata": {},
   "outputs": [],
   "source": [
    "def columns_w_nan(data):\n",
    "    \"\"\" Returns the columns that have over 30% of its data as missing value \"\"\"\n",
    "    temp = []\n",
    "    for x in data.columns:\n",
    "        if data[x].isna().sum() > 0:\n",
    "            percentage_of_data = data[x].isna().sum()/(list(data.shape)[0])\n",
    "            print(\"Row: {} : is made {}% of NaN Values.\".format(x, percentage_of_data.round(3)))\n",
    "            if percentage_of_data > 0.3:\n",
    "                temp.append(x)\n",
    "    print('')            \n",
    "    print(temp)"
   ]
  },
  {
   "cell_type": "code",
   "execution_count": 7,
   "metadata": {},
   "outputs": [],
   "source": [
    "def howmanyduplicates(data):\n",
    "    \"\"\" Returns the whole amount of duplicates in the dataset \"\"\"\n",
    "    print(data.duplicated().sum())"
   ]
  },
  {
   "cell_type": "code",
   "execution_count": 8,
   "metadata": {},
   "outputs": [],
   "source": [
    "def isitaholiday(date):\n",
    "    \"\"\"This function is created for a specific dataframe for a creation of a binary column\n",
    "    saying either is or not a holiday in the U.S.\"\"\"\n",
    "    if date.date() in holidays_date:\n",
    "        return 1\n",
    "    else: \n",
    "        return 0"
   ]
  },
  {
   "cell_type": "code",
   "execution_count": 9,
   "metadata": {},
   "outputs": [],
   "source": [
    "def columns_repeat(data, data1, data2):\n",
    "    \"\"\"\" This function has as objective to:\n",
    "    1 - Find possible columns to merge dataframes\n",
    "    2 - Find columns that have to be deleted before the merging\n",
    "    \"\"\"\n",
    "    data_columns = []\n",
    "    data1_columns = []\n",
    "    data2_columns = []\n",
    "    data_data1 = []\n",
    "    data_data2 = []\n",
    "    data_data3 = []\n",
    "    for x in data.columns:\n",
    "        data_columns.append(x)\n",
    "    for y in data1.columns:\n",
    "        data1_columns.append(y)\n",
    "    for z in data2.columns:\n",
    "        data2_columns.append(z)\n",
    "     \n",
    "    for a in data_columns:\n",
    "        if a in data1_columns:\n",
    "            data_data1.append(a)\n",
    "            \n",
    "    for b in data_columns:\n",
    "        if b in data2_columns:\n",
    "            data_data2.append(b)\n",
    "    \n",
    "    for c in data1_columns:\n",
    "        if c in data2_columns:\n",
    "            data_data3.append(c)\n",
    "        \n",
    "    return(data_data1, data_data2, data_data3)\n",
    "        "
   ]
  },
  {
   "cell_type": "code",
   "execution_count": 10,
   "metadata": {},
   "outputs": [],
   "source": [
    "def basic_info(data):\n",
    "    \"\"\" Gets basic information to understand more of the data, also useful to delete columns that we know are categorical\"\"\"\n",
    "    print(\"Dataset shape is: \", data.shape)\n",
    "    print(\"Dataset size is: \", data.size)\n",
    "    print(\"Dataset columns are: \", data.columns)\n",
    "    print(\"Dataset info is: \", data.info())\n",
    "    categorical = []\n",
    "    numerical = []\n",
    "    for i in data.columns:\n",
    "        if data[i].dtype == object:\n",
    "            categorical.append(i)\n",
    "        else:\n",
    "            numerical.append(i)\n",
    "    print(\"Categorical variables are:\\n \", categorical)\n",
    "    print(\"Numerical variables are:\\n \", numerical)\n",
    "    return categorical, numerical"
   ]
  },
  {
   "cell_type": "code",
   "execution_count": 11,
   "metadata": {},
   "outputs": [],
   "source": [
    "def making_new_df(data, columnlist):\n",
    "    \"\"\" Returns a new dataset based on the one provided, but with dummy columns \"\"\"\n",
    "    for i in columnlist:\n",
    "        dummy = pd.get_dummies(data[i])\n",
    "        del dummy[dummy.columns[-1]]\n",
    "        data = pd.concat([data, dummy], axis = 1)\n",
    "    return data"
   ]
  },
  {
   "cell_type": "code",
   "execution_count": 12,
   "metadata": {},
   "outputs": [],
   "source": [
    "def new_df(data, columnlist):\n",
    "    \"\"\" Returns a new dataset based on the one provided, but with dummy columns \"\"\"\n",
    "    for i in columnlist:\n",
    "        dummy = pd.get_dummies(data[i])\n",
    "        #print(dummy)\n",
    "        del dummy[dummy.columns[-1]]\n",
    "        data = pd.concat([data, dummy], axis = 1)\n",
    "    return data"
   ]
  },
  {
   "cell_type": "markdown",
   "metadata": {},
   "source": [
    "# Crashes Data Set"
   ]
  },
  {
   "cell_type": "code",
   "execution_count": 13,
   "metadata": {},
   "outputs": [
    {
     "name": "stdout",
     "output_type": "stream",
     "text": [
      "Dataset shape is:  (484022, 49)\n",
      "Dataset size is:  23717078\n",
      "Dataset columns are:  Index(['CRASH_RECORD_ID', 'RD_NO', 'CRASH_DATE_EST_I', 'CRASH_DATE',\n",
      "       'POSTED_SPEED_LIMIT', 'TRAFFIC_CONTROL_DEVICE', 'DEVICE_CONDITION',\n",
      "       'WEATHER_CONDITION', 'LIGHTING_CONDITION', 'FIRST_CRASH_TYPE',\n",
      "       'TRAFFICWAY_TYPE', 'LANE_CNT', 'ALIGNMENT', 'ROADWAY_SURFACE_COND',\n",
      "       'ROAD_DEFECT', 'REPORT_TYPE', 'CRASH_TYPE', 'INTERSECTION_RELATED_I',\n",
      "       'NOT_RIGHT_OF_WAY_I', 'HIT_AND_RUN_I', 'DAMAGE', 'DATE_POLICE_NOTIFIED',\n",
      "       'PRIM_CONTRIBUTORY_CAUSE', 'SEC_CONTRIBUTORY_CAUSE', 'STREET_NO',\n",
      "       'STREET_DIRECTION', 'STREET_NAME', 'BEAT_OF_OCCURRENCE',\n",
      "       'PHOTOS_TAKEN_I', 'STATEMENTS_TAKEN_I', 'DOORING_I', 'WORK_ZONE_I',\n",
      "       'WORK_ZONE_TYPE', 'WORKERS_PRESENT_I', 'NUM_UNITS',\n",
      "       'MOST_SEVERE_INJURY', 'INJURIES_TOTAL', 'INJURIES_FATAL',\n",
      "       'INJURIES_INCAPACITATING', 'INJURIES_NON_INCAPACITATING',\n",
      "       'INJURIES_REPORTED_NOT_EVIDENT', 'INJURIES_NO_INDICATION',\n",
      "       'INJURIES_UNKNOWN', 'CRASH_HOUR', 'CRASH_DAY_OF_WEEK', 'CRASH_MONTH',\n",
      "       'LATITUDE', 'LONGITUDE', 'LOCATION'],\n",
      "      dtype='object')\n",
      "<class 'pandas.core.frame.DataFrame'>\n",
      "RangeIndex: 484022 entries, 0 to 484021\n",
      "Data columns (total 49 columns):\n",
      " #   Column                         Non-Null Count   Dtype  \n",
      "---  ------                         --------------   -----  \n",
      " 0   CRASH_RECORD_ID                484022 non-null  object \n",
      " 1   RD_NO                          480563 non-null  object \n",
      " 2   CRASH_DATE_EST_I               36361 non-null   object \n",
      " 3   CRASH_DATE                     484022 non-null  object \n",
      " 4   POSTED_SPEED_LIMIT             484022 non-null  int64  \n",
      " 5   TRAFFIC_CONTROL_DEVICE         484022 non-null  object \n",
      " 6   DEVICE_CONDITION               484022 non-null  object \n",
      " 7   WEATHER_CONDITION              484022 non-null  object \n",
      " 8   LIGHTING_CONDITION             484022 non-null  object \n",
      " 9   FIRST_CRASH_TYPE               484022 non-null  object \n",
      " 10  TRAFFICWAY_TYPE                484022 non-null  object \n",
      " 11  LANE_CNT                       198964 non-null  float64\n",
      " 12  ALIGNMENT                      484022 non-null  object \n",
      " 13  ROADWAY_SURFACE_COND           484022 non-null  object \n",
      " 14  ROAD_DEFECT                    484022 non-null  object \n",
      " 15  REPORT_TYPE                    472252 non-null  object \n",
      " 16  CRASH_TYPE                     484022 non-null  object \n",
      " 17  INTERSECTION_RELATED_I         109199 non-null  object \n",
      " 18  NOT_RIGHT_OF_WAY_I             22781 non-null   object \n",
      " 19  HIT_AND_RUN_I                  142392 non-null  object \n",
      " 20  DAMAGE                         484022 non-null  object \n",
      " 21  DATE_POLICE_NOTIFIED           484022 non-null  object \n",
      " 22  PRIM_CONTRIBUTORY_CAUSE        484022 non-null  object \n",
      " 23  SEC_CONTRIBUTORY_CAUSE         484022 non-null  object \n",
      " 24  STREET_NO                      484022 non-null  int64  \n",
      " 25  STREET_DIRECTION               484019 non-null  object \n",
      " 26  STREET_NAME                    484021 non-null  object \n",
      " 27  BEAT_OF_OCCURRENCE             484017 non-null  float64\n",
      " 28  PHOTOS_TAKEN_I                 6082 non-null    object \n",
      " 29  STATEMENTS_TAKEN_I             9765 non-null    object \n",
      " 30  DOORING_I                      1550 non-null    object \n",
      " 31  WORK_ZONE_I                    3121 non-null    object \n",
      " 32  WORK_ZONE_TYPE                 2463 non-null    object \n",
      " 33  WORKERS_PRESENT_I              749 non-null     object \n",
      " 34  NUM_UNITS                      484022 non-null  int64  \n",
      " 35  MOST_SEVERE_INJURY             483041 non-null  object \n",
      " 36  INJURIES_TOTAL                 483052 non-null  float64\n",
      " 37  INJURIES_FATAL                 483052 non-null  float64\n",
      " 38  INJURIES_INCAPACITATING        483052 non-null  float64\n",
      " 39  INJURIES_NON_INCAPACITATING    483052 non-null  float64\n",
      " 40  INJURIES_REPORTED_NOT_EVIDENT  483052 non-null  float64\n",
      " 41  INJURIES_NO_INDICATION         483052 non-null  float64\n",
      " 42  INJURIES_UNKNOWN               483052 non-null  float64\n",
      " 43  CRASH_HOUR                     484022 non-null  int64  \n",
      " 44  CRASH_DAY_OF_WEEK              484022 non-null  int64  \n",
      " 45  CRASH_MONTH                    484022 non-null  int64  \n",
      " 46  LATITUDE                       481344 non-null  float64\n",
      " 47  LONGITUDE                      481344 non-null  float64\n",
      " 48  LOCATION                       481344 non-null  object \n",
      "dtypes: float64(11), int64(6), object(32)\n",
      "memory usage: 180.9+ MB\n",
      "Dataset info is:  None\n",
      "Categorical variables are:\n",
      "  ['CRASH_RECORD_ID', 'RD_NO', 'CRASH_DATE_EST_I', 'CRASH_DATE', 'TRAFFIC_CONTROL_DEVICE', 'DEVICE_CONDITION', 'WEATHER_CONDITION', 'LIGHTING_CONDITION', 'FIRST_CRASH_TYPE', 'TRAFFICWAY_TYPE', 'ALIGNMENT', 'ROADWAY_SURFACE_COND', 'ROAD_DEFECT', 'REPORT_TYPE', 'CRASH_TYPE', 'INTERSECTION_RELATED_I', 'NOT_RIGHT_OF_WAY_I', 'HIT_AND_RUN_I', 'DAMAGE', 'DATE_POLICE_NOTIFIED', 'PRIM_CONTRIBUTORY_CAUSE', 'SEC_CONTRIBUTORY_CAUSE', 'STREET_DIRECTION', 'STREET_NAME', 'PHOTOS_TAKEN_I', 'STATEMENTS_TAKEN_I', 'DOORING_I', 'WORK_ZONE_I', 'WORK_ZONE_TYPE', 'WORKERS_PRESENT_I', 'MOST_SEVERE_INJURY', 'LOCATION']\n",
      "Numerical variables are:\n",
      "  ['POSTED_SPEED_LIMIT', 'LANE_CNT', 'STREET_NO', 'BEAT_OF_OCCURRENCE', 'NUM_UNITS', 'INJURIES_TOTAL', 'INJURIES_FATAL', 'INJURIES_INCAPACITATING', 'INJURIES_NON_INCAPACITATING', 'INJURIES_REPORTED_NOT_EVIDENT', 'INJURIES_NO_INDICATION', 'INJURIES_UNKNOWN', 'CRASH_HOUR', 'CRASH_DAY_OF_WEEK', 'CRASH_MONTH', 'LATITUDE', 'LONGITUDE']\n"
     ]
    },
    {
     "data": {
      "text/plain": [
       "(['CRASH_RECORD_ID',\n",
       "  'RD_NO',\n",
       "  'CRASH_DATE_EST_I',\n",
       "  'CRASH_DATE',\n",
       "  'TRAFFIC_CONTROL_DEVICE',\n",
       "  'DEVICE_CONDITION',\n",
       "  'WEATHER_CONDITION',\n",
       "  'LIGHTING_CONDITION',\n",
       "  'FIRST_CRASH_TYPE',\n",
       "  'TRAFFICWAY_TYPE',\n",
       "  'ALIGNMENT',\n",
       "  'ROADWAY_SURFACE_COND',\n",
       "  'ROAD_DEFECT',\n",
       "  'REPORT_TYPE',\n",
       "  'CRASH_TYPE',\n",
       "  'INTERSECTION_RELATED_I',\n",
       "  'NOT_RIGHT_OF_WAY_I',\n",
       "  'HIT_AND_RUN_I',\n",
       "  'DAMAGE',\n",
       "  'DATE_POLICE_NOTIFIED',\n",
       "  'PRIM_CONTRIBUTORY_CAUSE',\n",
       "  'SEC_CONTRIBUTORY_CAUSE',\n",
       "  'STREET_DIRECTION',\n",
       "  'STREET_NAME',\n",
       "  'PHOTOS_TAKEN_I',\n",
       "  'STATEMENTS_TAKEN_I',\n",
       "  'DOORING_I',\n",
       "  'WORK_ZONE_I',\n",
       "  'WORK_ZONE_TYPE',\n",
       "  'WORKERS_PRESENT_I',\n",
       "  'MOST_SEVERE_INJURY',\n",
       "  'LOCATION'],\n",
       " ['POSTED_SPEED_LIMIT',\n",
       "  'LANE_CNT',\n",
       "  'STREET_NO',\n",
       "  'BEAT_OF_OCCURRENCE',\n",
       "  'NUM_UNITS',\n",
       "  'INJURIES_TOTAL',\n",
       "  'INJURIES_FATAL',\n",
       "  'INJURIES_INCAPACITATING',\n",
       "  'INJURIES_NON_INCAPACITATING',\n",
       "  'INJURIES_REPORTED_NOT_EVIDENT',\n",
       "  'INJURIES_NO_INDICATION',\n",
       "  'INJURIES_UNKNOWN',\n",
       "  'CRASH_HOUR',\n",
       "  'CRASH_DAY_OF_WEEK',\n",
       "  'CRASH_MONTH',\n",
       "  'LATITUDE',\n",
       "  'LONGITUDE'])"
      ]
     },
     "execution_count": 13,
     "metadata": {},
     "output_type": "execute_result"
    }
   ],
   "source": [
    "basic_info(crashes)"
   ]
  },
  {
   "cell_type": "code",
   "execution_count": 14,
   "metadata": {},
   "outputs": [
    {
     "data": {
      "text/plain": [
       "(484022, 49)"
      ]
     },
     "execution_count": 14,
     "metadata": {},
     "output_type": "execute_result"
    }
   ],
   "source": [
    "crashes.shape"
   ]
  },
  {
   "cell_type": "code",
   "execution_count": 15,
   "metadata": {},
   "outputs": [
    {
     "name": "stdout",
     "output_type": "stream",
     "text": [
      "0\n"
     ]
    }
   ],
   "source": [
    "howmanyduplicates(crashes)"
   ]
  },
  {
   "cell_type": "code",
   "execution_count": 16,
   "metadata": {},
   "outputs": [
    {
     "name": "stdout",
     "output_type": "stream",
     "text": [
      "Row: RD_NO : is made 0.007% of NaN Values.\n",
      "Row: CRASH_DATE_EST_I : is made 0.925% of NaN Values.\n",
      "Row: LANE_CNT : is made 0.589% of NaN Values.\n",
      "Row: REPORT_TYPE : is made 0.024% of NaN Values.\n",
      "Row: INTERSECTION_RELATED_I : is made 0.774% of NaN Values.\n",
      "Row: NOT_RIGHT_OF_WAY_I : is made 0.953% of NaN Values.\n",
      "Row: HIT_AND_RUN_I : is made 0.706% of NaN Values.\n",
      "Row: STREET_DIRECTION : is made 0.0% of NaN Values.\n",
      "Row: STREET_NAME : is made 0.0% of NaN Values.\n",
      "Row: BEAT_OF_OCCURRENCE : is made 0.0% of NaN Values.\n",
      "Row: PHOTOS_TAKEN_I : is made 0.987% of NaN Values.\n",
      "Row: STATEMENTS_TAKEN_I : is made 0.98% of NaN Values.\n",
      "Row: DOORING_I : is made 0.997% of NaN Values.\n",
      "Row: WORK_ZONE_I : is made 0.994% of NaN Values.\n",
      "Row: WORK_ZONE_TYPE : is made 0.995% of NaN Values.\n",
      "Row: WORKERS_PRESENT_I : is made 0.998% of NaN Values.\n",
      "Row: MOST_SEVERE_INJURY : is made 0.002% of NaN Values.\n",
      "Row: INJURIES_TOTAL : is made 0.002% of NaN Values.\n",
      "Row: INJURIES_FATAL : is made 0.002% of NaN Values.\n",
      "Row: INJURIES_INCAPACITATING : is made 0.002% of NaN Values.\n",
      "Row: INJURIES_NON_INCAPACITATING : is made 0.002% of NaN Values.\n",
      "Row: INJURIES_REPORTED_NOT_EVIDENT : is made 0.002% of NaN Values.\n",
      "Row: INJURIES_NO_INDICATION : is made 0.002% of NaN Values.\n",
      "Row: INJURIES_UNKNOWN : is made 0.002% of NaN Values.\n",
      "Row: LATITUDE : is made 0.006% of NaN Values.\n",
      "Row: LONGITUDE : is made 0.006% of NaN Values.\n",
      "Row: LOCATION : is made 0.006% of NaN Values.\n",
      "\n",
      "['CRASH_DATE_EST_I', 'LANE_CNT', 'INTERSECTION_RELATED_I', 'NOT_RIGHT_OF_WAY_I', 'HIT_AND_RUN_I', 'PHOTOS_TAKEN_I', 'STATEMENTS_TAKEN_I', 'DOORING_I', 'WORK_ZONE_I', 'WORK_ZONE_TYPE', 'WORKERS_PRESENT_I']\n"
     ]
    }
   ],
   "source": [
    "columns_w_nan(crashes)"
   ]
  },
  {
   "cell_type": "code",
   "execution_count": 17,
   "metadata": {},
   "outputs": [],
   "source": [
    "# We are going to drop all the columns with a lot of of NaN values, except for location that we can say right ahead that is\n",
    "# a multicolinearity case, since it has the Latiutude and Longitude together\n",
    "crashes = crashes.drop(columns=['CRASH_DATE_EST_I', 'LANE_CNT', 'INTERSECTION_RELATED_I',\n",
    "                                'NOT_RIGHT_OF_WAY_I', 'HIT_AND_RUN_I', 'PHOTOS_TAKEN_I', \n",
    "                                'STATEMENTS_TAKEN_I', 'DOORING_I', 'WORK_ZONE_I', 'WORK_ZONE_TYPE',\n",
    "                                'WORKERS_PRESENT_I', 'LOCATION'])"
   ]
  },
  {
   "cell_type": "markdown",
   "metadata": {},
   "source": [
    "### Data Manipulation with Missing Values (NaN)"
   ]
  },
  {
   "cell_type": "markdown",
   "metadata": {},
   "source": [
    "> **RD_NO**"
   ]
  },
  {
   "cell_type": "markdown",
   "metadata": {},
   "source": [
    "So we can see here that RD_NO and REPORT_TYPE still have a lot of missing data and that can be explained by the website, where they say:\n"
   ]
  },
  {
   "cell_type": "markdown",
   "metadata": {},
   "source": [
    "> \" For privacy reasons, this column is blank for recent crashes.\""
   ]
  },
  {
   "cell_type": "markdown",
   "metadata": {},
   "source": [
    "So since the RD_NO is another way to connect the cases between datasets, we can easily discard the whole column, because we still have CRASH_RECORD_ID, that has no missing values"
   ]
  },
  {
   "cell_type": "markdown",
   "metadata": {},
   "source": [
    "> **REPORT_TYPE**"
   ]
  },
  {
   "cell_type": "code",
   "execution_count": 18,
   "metadata": {},
   "outputs": [
    {
     "data": {
      "text/plain": [
       "NOT ON SCENE (DESK REPORT)    278124\n",
       "ON SCENE                      193888\n",
       "AMENDED                          240\n",
       "Name: REPORT_TYPE, dtype: int64"
      ]
     },
     "execution_count": 18,
     "metadata": {},
     "output_type": "execute_result"
    }
   ],
   "source": [
    "crashes.REPORT_TYPE.value_counts()"
   ]
  },
  {
   "cell_type": "markdown",
   "metadata": {},
   "source": [
    "By checking the REPORT_TYPE column we realize that it doesn't offer any predictive value to our model, but still might use it for the business understanding part."
   ]
  },
  {
   "cell_type": "markdown",
   "metadata": {},
   "source": [
    "> So we decide to drop the RD_NO columns because we have a good substitute and drop the rows where the remaining NaN values are, so we have a cleaner dataset"
   ]
  },
  {
   "cell_type": "code",
   "execution_count": 19,
   "metadata": {},
   "outputs": [],
   "source": [
    "crashes = crashes.drop(columns=['RD_NO', 'REPORT_TYPE'])"
   ]
  },
  {
   "cell_type": "code",
   "execution_count": 20,
   "metadata": {},
   "outputs": [],
   "source": [
    "# Now we can drop the remaining rows with NaN values\n",
    "crashes.dropna(inplace=True)"
   ]
  },
  {
   "cell_type": "code",
   "execution_count": 21,
   "metadata": {},
   "outputs": [
    {
     "data": {
      "text/plain": [
       "0"
      ]
     },
     "execution_count": 21,
     "metadata": {},
     "output_type": "execute_result"
    }
   ],
   "source": [
    "crashes.isna().sum().sum()"
   ]
  },
  {
   "cell_type": "markdown",
   "metadata": {},
   "source": [
    "### Since \"Injuries_Fatal\" is important, let's give some more attention to it"
   ]
  },
  {
   "cell_type": "markdown",
   "metadata": {},
   "source": [
    "We want to transform the column into a binary instead of number of deaths per accident."
   ]
  },
  {
   "cell_type": "code",
   "execution_count": 22,
   "metadata": {},
   "outputs": [
    {
     "data": {
      "text/plain": [
       "0.0    479895\n",
       "1.0       436\n",
       "2.0        28\n",
       "3.0         5\n",
       "4.0         1\n",
       "Name: INJURIES_FATAL, dtype: int64"
      ]
     },
     "execution_count": 22,
     "metadata": {},
     "output_type": "execute_result"
    }
   ],
   "source": [
    "crashes.INJURIES_FATAL.value_counts(dropna=False)"
   ]
  },
  {
   "cell_type": "code",
   "execution_count": 23,
   "metadata": {},
   "outputs": [],
   "source": [
    "crashes['INJURIES_FATAL'] = np.where(crashes['INJURIES_FATAL']>0, 1, 0)"
   ]
  },
  {
   "cell_type": "code",
   "execution_count": 24,
   "metadata": {
    "scrolled": false
   },
   "outputs": [
    {
     "data": {
      "text/plain": [
       "0    479895\n",
       "1       470\n",
       "Name: INJURIES_FATAL, dtype: int64"
      ]
     },
     "execution_count": 24,
     "metadata": {},
     "output_type": "execute_result"
    }
   ],
   "source": [
    "crashes.INJURIES_FATAL.value_counts(dropna=False)"
   ]
  },
  {
   "cell_type": "markdown",
   "metadata": {},
   "source": [
    "## Some more data manipulation with useful columns"
   ]
  },
  {
   "cell_type": "markdown",
   "metadata": {},
   "source": [
    "Let's do some more binning of the values that we might foresee playing a big role "
   ]
  },
  {
   "cell_type": "markdown",
   "metadata": {},
   "source": [
    "### WEATHER_CONDITION"
   ]
  },
  {
   "cell_type": "code",
   "execution_count": 25,
   "metadata": {
    "scrolled": true
   },
   "outputs": [
    {
     "data": {
      "text/plain": [
       "CLEAR                       378874\n",
       "RAIN                         42409\n",
       "UNKNOWN                      20935\n",
       "SNOW                         19996\n",
       "CLOUDY/OVERCAST              14248\n",
       "OTHER                         1555\n",
       "FOG/SMOKE/HAZE                 822\n",
       "SLEET/HAIL                     710\n",
       "FREEZING RAIN/DRIZZLE          570\n",
       "BLOWING SNOW                   157\n",
       "SEVERE CROSS WIND GATE          87\n",
       "BLOWING SAND, SOIL, DIRT         2\n",
       "Name: WEATHER_CONDITION, dtype: int64"
      ]
     },
     "execution_count": 25,
     "metadata": {},
     "output_type": "execute_result"
    }
   ],
   "source": [
    "crashes.WEATHER_CONDITION.value_counts()"
   ]
  },
  {
   "cell_type": "code",
   "execution_count": 26,
   "metadata": {},
   "outputs": [],
   "source": [
    "crashes.WEATHER_CONDITION = np.where(crashes.WEATHER_CONDITION=='BLOWING SNOW', 'SNOW', crashes.WEATHER_CONDITION)"
   ]
  },
  {
   "cell_type": "code",
   "execution_count": 27,
   "metadata": {},
   "outputs": [],
   "source": [
    "crashes.WEATHER_CONDITION = np.where(crashes.WEATHER_CONDITION=='FREEZING RAIN/DRIZZLE', 'RAIN', crashes.WEATHER_CONDITION)"
   ]
  },
  {
   "cell_type": "code",
   "execution_count": 28,
   "metadata": {},
   "outputs": [],
   "source": [
    "crashes.WEATHER_CONDITION = np.where(crashes.WEATHER_CONDITION=='FOG/SMOKE/HAZE', 'OTHER', crashes.WEATHER_CONDITION)"
   ]
  },
  {
   "cell_type": "code",
   "execution_count": 29,
   "metadata": {},
   "outputs": [],
   "source": [
    "crashes.WEATHER_CONDITION = np.where(crashes.WEATHER_CONDITION=='SLEET/HAIL', 'OTHER', crashes.WEATHER_CONDITION)"
   ]
  },
  {
   "cell_type": "code",
   "execution_count": 30,
   "metadata": {},
   "outputs": [],
   "source": [
    "crashes.WEATHER_CONDITION = np.where(crashes.WEATHER_CONDITION=='BLOWING SAND, SOIL, DIRT', 'OTHER', crashes.WEATHER_CONDITION)"
   ]
  },
  {
   "cell_type": "code",
   "execution_count": 31,
   "metadata": {},
   "outputs": [],
   "source": [
    "crashes.WEATHER_CONDITION = np.where(crashes.WEATHER_CONDITION=='SEVERE CROSS WIND GATE', 'OTHER', crashes.WEATHER_CONDITION)"
   ]
  },
  {
   "cell_type": "code",
   "execution_count": 32,
   "metadata": {
    "scrolled": false
   },
   "outputs": [
    {
     "data": {
      "text/plain": [
       "CLEAR              378874\n",
       "RAIN                42979\n",
       "UNKNOWN             20935\n",
       "SNOW                20153\n",
       "CLOUDY/OVERCAST     14248\n",
       "OTHER                3176\n",
       "Name: WEATHER_CONDITION, dtype: int64"
      ]
     },
     "execution_count": 32,
     "metadata": {},
     "output_type": "execute_result"
    }
   ],
   "source": [
    "crashes.WEATHER_CONDITION.value_counts()"
   ]
  },
  {
   "cell_type": "markdown",
   "metadata": {},
   "source": [
    "### POSTED_SPEED_LIMIT"
   ]
  },
  {
   "cell_type": "code",
   "execution_count": 33,
   "metadata": {
    "scrolled": true
   },
   "outputs": [
    {
     "data": {
      "text/plain": [
       "30    354330\n",
       "35     33139\n",
       "25     29143\n",
       "20     18551\n",
       "15     16668\n",
       "10     10073\n",
       "0       6722\n",
       "40      4377\n",
       "5       3625\n",
       "45      2771\n",
       "55       369\n",
       "3        116\n",
       "50        95\n",
       "9         91\n",
       "99        66\n",
       "39        53\n",
       "1         34\n",
       "60        24\n",
       "2         19\n",
       "24        16\n",
       "32        14\n",
       "33        10\n",
       "34        10\n",
       "65        10\n",
       "6          7\n",
       "11         5\n",
       "36         5\n",
       "70         3\n",
       "7          2\n",
       "14         2\n",
       "12         2\n",
       "18         2\n",
       "31         2\n",
       "26         2\n",
       "49         1\n",
       "38         1\n",
       "22         1\n",
       "63         1\n",
       "4          1\n",
       "23         1\n",
       "29         1\n",
       "Name: POSTED_SPEED_LIMIT, dtype: int64"
      ]
     },
     "execution_count": 33,
     "metadata": {},
     "output_type": "execute_result"
    }
   ],
   "source": [
    "# Binning Posted_Speed_Limit\n",
    "crashes.POSTED_SPEED_LIMIT.value_counts()"
   ]
  },
  {
   "cell_type": "code",
   "execution_count": 34,
   "metadata": {
    "scrolled": true
   },
   "outputs": [],
   "source": [
    "# Let's bin the speed limit in 9 groups, going up 5 miles per group and the last one being 45 miles/hour or above\n",
    "crashes.POSTED_SPEED_LIMIT = pd.cut(crashes.POSTED_SPEED_LIMIT,[0, 5, 10, 15, 20, 25, 30, 35, 40, 45],\n",
    "                                    precision=0, labels=[0, 1, 2, 3, 4, 5, 6, 7, 8])"
   ]
  },
  {
   "cell_type": "code",
   "execution_count": 35,
   "metadata": {
    "scrolled": true
   },
   "outputs": [
    {
     "data": {
      "text/plain": [
       "5    354333\n",
       "6     33175\n",
       "4     29161\n",
       "3     18553\n",
       "2     16677\n",
       "1     10173\n",
       "7      4436\n",
       "0      3795\n",
       "8      2771\n",
       "Name: POSTED_SPEED_LIMIT, dtype: int64"
      ]
     },
     "execution_count": 35,
     "metadata": {},
     "output_type": "execute_result"
    }
   ],
   "source": [
    "crashes.POSTED_SPEED_LIMIT.value_counts()"
   ]
  },
  {
   "cell_type": "code",
   "execution_count": 36,
   "metadata": {
    "scrolled": false
   },
   "outputs": [
    {
     "name": "stdout",
     "output_type": "stream",
     "text": [
      "[1, 21, 9, 19, 8, 6, 6, 18, 20, 6, 7, 7, 2, 3, 12, 40, 39, 421, 4, 491, 259, 13, 5, 15, 2, 8, 14, 12, 25, 1, 24, 7, 12, 136, 136]\n",
      "\n",
      "['CRASH_RECORD_ID', 'CRASH_DATE', 'POSTED_SPEED_LIMIT', 'TRAFFIC_CONTROL_DEVICE', 'DEVICE_CONDITION', 'WEATHER_CONDITION', 'LIGHTING_CONDITION', 'FIRST_CRASH_TYPE', 'TRAFFICWAY_TYPE', 'ALIGNMENT', 'ROADWAY_SURFACE_COND', 'ROAD_DEFECT', 'CRASH_TYPE', 'DAMAGE', 'DATE_POLICE_NOTIFIED', 'PRIM_CONTRIBUTORY_CAUSE', 'SEC_CONTRIBUTORY_CAUSE', 'STREET_NO', 'STREET_DIRECTION', 'STREET_NAME', 'BEAT_OF_OCCURRENCE', 'NUM_UNITS', 'MOST_SEVERE_INJURY', 'INJURIES_TOTAL', 'INJURIES_FATAL', 'INJURIES_INCAPACITATING', 'INJURIES_NON_INCAPACITATING', 'INJURIES_REPORTED_NOT_EVIDENT', 'INJURIES_NO_INDICATION', 'INJURIES_UNKNOWN', 'CRASH_HOUR', 'CRASH_DAY_OF_WEEK', 'CRASH_MONTH', 'LATITUDE', 'LONGITUDE']\n"
     ]
    }
   ],
   "source": [
    "# Now that we did some cleaning of the columns, rows and some binning we can run the function howmanyunique\n",
    "howmanyunique(crashes)"
   ]
  },
  {
   "cell_type": "markdown",
   "metadata": {},
   "source": [
    "> We see that CRASH_HOUR could use some binning:"
   ]
  },
  {
   "cell_type": "code",
   "execution_count": 37,
   "metadata": {
    "scrolled": false
   },
   "outputs": [
    {
     "data": {
      "text/plain": [
       "16    36738\n",
       "15    36585\n",
       "17    36275\n",
       "14    32595\n",
       "18    29997\n",
       "13    29695\n",
       "12    28561\n",
       "8     25694\n",
       "11    24734\n",
       "9     22566\n",
       "10    22195\n",
       "19    21908\n",
       "7     20742\n",
       "20    17309\n",
       "21    15408\n",
       "22    14149\n",
       "23    11896\n",
       "6     10815\n",
       "0      9666\n",
       "1      8130\n",
       "2      7025\n",
       "5      6579\n",
       "3      5776\n",
       "4      5327\n",
       "Name: CRASH_HOUR, dtype: int64"
      ]
     },
     "execution_count": 37,
     "metadata": {},
     "output_type": "execute_result"
    }
   ],
   "source": [
    "crashes.CRASH_HOUR.value_counts()"
   ]
  },
  {
   "cell_type": "code",
   "execution_count": 38,
   "metadata": {},
   "outputs": [],
   "source": [
    "crashes.CRASH_HOUR = pd.cut(crashes.CRASH_HOUR,[0, 6, 12, 18, 24],\n",
    "                                    precision=0, labels=[0, 1, 2, 3])"
   ]
  },
  {
   "cell_type": "code",
   "execution_count": 39,
   "metadata": {
    "scrolled": false
   },
   "outputs": [
    {
     "data": {
      "text/plain": [
       "2    201885\n",
       "1    144492\n",
       "3     80670\n",
       "0     43652\n",
       "Name: CRASH_HOUR, dtype: int64"
      ]
     },
     "execution_count": 39,
     "metadata": {},
     "output_type": "execute_result"
    }
   ],
   "source": [
    "crashes.CRASH_HOUR.value_counts()"
   ]
  },
  {
   "cell_type": "markdown",
   "metadata": {},
   "source": [
    "> Finally we get to our target, which has an imbalance with it's values.\n",
    "- So we decide to do some feature engineering to bin and rename them"
   ]
  },
  {
   "cell_type": "code",
   "execution_count": 40,
   "metadata": {},
   "outputs": [
    {
     "data": {
      "text/plain": [
       "NO INDICATION OF INJURY     418660\n",
       "NONINCAPACITATING INJURY     34158\n",
       "REPORTED, NOT EVIDENT        19259\n",
       "INCAPACITATING INJURY         7818\n",
       "FATAL                          470\n",
       "Name: MOST_SEVERE_INJURY, dtype: int64"
      ]
     },
     "execution_count": 40,
     "metadata": {},
     "output_type": "execute_result"
    }
   ],
   "source": [
    "crashes.MOST_SEVERE_INJURY.value_counts()"
   ]
  },
  {
   "cell_type": "code",
   "execution_count": 41,
   "metadata": {},
   "outputs": [],
   "source": [
    "crashes['MOST_SEVERE_INJURY'] = np.where(crashes['MOST_SEVERE_INJURY']=='REPORTED, NOT EVIDENT',\n",
    "                                         'NONINCAPACITATING INJURY', crashes['MOST_SEVERE_INJURY'])"
   ]
  },
  {
   "cell_type": "code",
   "execution_count": 42,
   "metadata": {},
   "outputs": [],
   "source": [
    "crashes['MOST_SEVERE_INJURY'] = np.where(crashes['MOST_SEVERE_INJURY']=='FATAL',\n",
    "                                         'INCAPACITATING INJURY', crashes['MOST_SEVERE_INJURY'])"
   ]
  },
  {
   "cell_type": "code",
   "execution_count": 43,
   "metadata": {},
   "outputs": [],
   "source": [
    "crashes['MOST_SEVERE_INJURY'] = np.where(crashes['MOST_SEVERE_INJURY']=='INCAPACITATING INJURY',\n",
    "                                         'INCAPACITATING INJURY/FATAL', crashes['MOST_SEVERE_INJURY'])"
   ]
  },
  {
   "cell_type": "code",
   "execution_count": 44,
   "metadata": {},
   "outputs": [
    {
     "data": {
      "text/plain": [
       "NO INDICATION OF INJURY        418660\n",
       "NONINCAPACITATING INJURY        53417\n",
       "INCAPACITATING INJURY/FATAL      8288\n",
       "Name: MOST_SEVERE_INJURY, dtype: int64"
      ]
     },
     "execution_count": 44,
     "metadata": {},
     "output_type": "execute_result"
    }
   ],
   "source": [
    "crashes.MOST_SEVERE_INJURY.value_counts()"
   ]
  },
  {
   "cell_type": "markdown",
   "metadata": {},
   "source": [
    "### Implementing the columns Holidays in the dataset"
   ]
  },
  {
   "cell_type": "markdown",
   "metadata": {},
   "source": [
    "- Can we explore and see if holidays play a part on accidents?"
   ]
  },
  {
   "cell_type": "code",
   "execution_count": 45,
   "metadata": {
    "scrolled": true
   },
   "outputs": [
    {
     "data": {
      "text/plain": [
       "'07/10/2019 05:56:00 PM'"
      ]
     },
     "execution_count": 45,
     "metadata": {},
     "output_type": "execute_result"
    }
   ],
   "source": [
    "# CRASH_DATE is a string\n",
    "crashes['CRASH_DATE'][0]"
   ]
  },
  {
   "cell_type": "code",
   "execution_count": 46,
   "metadata": {
    "scrolled": true
   },
   "outputs": [
    {
     "data": {
      "text/plain": [
       "str"
      ]
     },
     "execution_count": 46,
     "metadata": {},
     "output_type": "execute_result"
    }
   ],
   "source": [
    "# We can check that here\n",
    "type(crashes['CRASH_DATE'][0])"
   ]
  },
  {
   "cell_type": "code",
   "execution_count": 47,
   "metadata": {},
   "outputs": [],
   "source": [
    "# We create a new column Date-Time with the previous column\n",
    "crashes['DATE_ACCIDENT']= pd.to_datetime(crashes['CRASH_DATE'], format='%m/%d/%Y %I:%M:%S %p')"
   ]
  },
  {
   "cell_type": "code",
   "execution_count": 48,
   "metadata": {
    "scrolled": true
   },
   "outputs": [
    {
     "data": {
      "text/plain": [
       "pandas._libs.tslibs.timestamps.Timestamp"
      ]
     },
     "execution_count": 48,
     "metadata": {},
     "output_type": "execute_result"
    }
   ],
   "source": [
    "# We confirm that it worked\n",
    "type(crashes.DATE_ACCIDENT[0])"
   ]
  },
  {
   "cell_type": "code",
   "execution_count": 49,
   "metadata": {},
   "outputs": [
    {
     "name": "stdout",
     "output_type": "stream",
     "text": [
      "Earliest Date: 2013-03-03 16:48:00 \n",
      "Latest Date: 2021-03-09 23:10:00\n"
     ]
    }
   ],
   "source": [
    "# Our earliest and latest date\n",
    "print(\"Earliest Date: {} \\nLatest Date: {}\".format(crashes['DATE_ACCIDENT'].min(), crashes['DATE_ACCIDENT'].max()))"
   ]
  },
  {
   "cell_type": "code",
   "execution_count": 50,
   "metadata": {},
   "outputs": [],
   "source": [
    "holidays = pd.tseries.holiday.USFederalHolidayCalendar().holidays(start='2012', end='2022').to_pydatetime()"
   ]
  },
  {
   "cell_type": "code",
   "execution_count": 51,
   "metadata": {},
   "outputs": [],
   "source": [
    "holidays_date = [holiday.date() for holiday in holidays]\n"
   ]
  },
  {
   "cell_type": "code",
   "execution_count": 52,
   "metadata": {},
   "outputs": [
    {
     "data": {
      "text/plain": [
       "[datetime.date(2012, 1, 2),\n",
       " datetime.date(2012, 1, 16),\n",
       " datetime.date(2012, 2, 20)]"
      ]
     },
     "execution_count": 52,
     "metadata": {},
     "output_type": "execute_result"
    }
   ],
   "source": [
    "holidays_date[:3]"
   ]
  },
  {
   "cell_type": "code",
   "execution_count": 53,
   "metadata": {
    "scrolled": false
   },
   "outputs": [
    {
     "data": {
      "text/plain": [
       "0"
      ]
     },
     "execution_count": 53,
     "metadata": {},
     "output_type": "execute_result"
    }
   ],
   "source": [
    "isitaholiday(crashes['DATE_ACCIDENT'][100])"
   ]
  },
  {
   "cell_type": "code",
   "execution_count": 54,
   "metadata": {
    "scrolled": false
   },
   "outputs": [
    {
     "data": {
      "text/plain": [
       "datetime.date(2012, 1, 16)"
      ]
     },
     "execution_count": 54,
     "metadata": {},
     "output_type": "execute_result"
    }
   ],
   "source": [
    "holidays[1].date()"
   ]
  },
  {
   "cell_type": "code",
   "execution_count": 55,
   "metadata": {},
   "outputs": [],
   "source": [
    "crashes['IS_A_HOLIDAY'] = crashes['DATE_ACCIDENT'].apply(isitaholiday)"
   ]
  },
  {
   "cell_type": "code",
   "execution_count": 56,
   "metadata": {
    "scrolled": false
   },
   "outputs": [
    {
     "data": {
      "text/plain": [
       "11366"
      ]
     },
     "execution_count": 56,
     "metadata": {},
     "output_type": "execute_result"
    }
   ],
   "source": [
    "crashes['IS_A_HOLIDAY'].sum()"
   ]
  },
  {
   "cell_type": "code",
   "execution_count": 57,
   "metadata": {},
   "outputs": [
    {
     "data": {
      "text/plain": [
       "datetime.date(2019, 7, 10)"
      ]
     },
     "execution_count": 57,
     "metadata": {},
     "output_type": "execute_result"
    }
   ],
   "source": [
    "crashes['DATE_ACCIDENT'][0].date()"
   ]
  },
  {
   "cell_type": "code",
   "execution_count": 58,
   "metadata": {},
   "outputs": [],
   "source": [
    "crashes.drop(['CRASH_DATE'], axis = 1, inplace = True)"
   ]
  },
  {
   "cell_type": "code",
   "execution_count": 59,
   "metadata": {},
   "outputs": [
    {
     "data": {
      "text/html": [
       "<div>\n",
       "<style scoped>\n",
       "    .dataframe tbody tr th:only-of-type {\n",
       "        vertical-align: middle;\n",
       "    }\n",
       "\n",
       "    .dataframe tbody tr th {\n",
       "        vertical-align: top;\n",
       "    }\n",
       "\n",
       "    .dataframe thead th {\n",
       "        text-align: right;\n",
       "    }\n",
       "</style>\n",
       "<table border=\"1\" class=\"dataframe\">\n",
       "  <thead>\n",
       "    <tr style=\"text-align: right;\">\n",
       "      <th></th>\n",
       "      <th>CRASH_RECORD_ID</th>\n",
       "      <th>POSTED_SPEED_LIMIT</th>\n",
       "      <th>TRAFFIC_CONTROL_DEVICE</th>\n",
       "      <th>DEVICE_CONDITION</th>\n",
       "      <th>WEATHER_CONDITION</th>\n",
       "      <th>LIGHTING_CONDITION</th>\n",
       "      <th>FIRST_CRASH_TYPE</th>\n",
       "      <th>TRAFFICWAY_TYPE</th>\n",
       "      <th>ALIGNMENT</th>\n",
       "      <th>ROADWAY_SURFACE_COND</th>\n",
       "      <th>...</th>\n",
       "      <th>INJURIES_REPORTED_NOT_EVIDENT</th>\n",
       "      <th>INJURIES_NO_INDICATION</th>\n",
       "      <th>INJURIES_UNKNOWN</th>\n",
       "      <th>CRASH_HOUR</th>\n",
       "      <th>CRASH_DAY_OF_WEEK</th>\n",
       "      <th>CRASH_MONTH</th>\n",
       "      <th>LATITUDE</th>\n",
       "      <th>LONGITUDE</th>\n",
       "      <th>DATE_ACCIDENT</th>\n",
       "      <th>IS_A_HOLIDAY</th>\n",
       "    </tr>\n",
       "  </thead>\n",
       "  <tbody>\n",
       "    <tr>\n",
       "      <th>0</th>\n",
       "      <td>4fd0a3e0897b3335b94cd8d5b2d2b350eb691add56c62d...</td>\n",
       "      <td>6</td>\n",
       "      <td>NO CONTROLS</td>\n",
       "      <td>NO CONTROLS</td>\n",
       "      <td>CLEAR</td>\n",
       "      <td>DAYLIGHT</td>\n",
       "      <td>TURNING</td>\n",
       "      <td>ONE-WAY</td>\n",
       "      <td>STRAIGHT AND LEVEL</td>\n",
       "      <td>DRY</td>\n",
       "      <td>...</td>\n",
       "      <td>0.0</td>\n",
       "      <td>3.0</td>\n",
       "      <td>0.0</td>\n",
       "      <td>2</td>\n",
       "      <td>4</td>\n",
       "      <td>7</td>\n",
       "      <td>41.919664</td>\n",
       "      <td>-87.773288</td>\n",
       "      <td>2019-07-10 17:56:00</td>\n",
       "      <td>0</td>\n",
       "    </tr>\n",
       "    <tr>\n",
       "      <th>1</th>\n",
       "      <td>009e9e67203442370272e1a13d6ee51a4155dac65e583d...</td>\n",
       "      <td>6</td>\n",
       "      <td>STOP SIGN/FLASHER</td>\n",
       "      <td>FUNCTIONING PROPERLY</td>\n",
       "      <td>CLEAR</td>\n",
       "      <td>DAYLIGHT</td>\n",
       "      <td>TURNING</td>\n",
       "      <td>NOT DIVIDED</td>\n",
       "      <td>STRAIGHT AND LEVEL</td>\n",
       "      <td>DRY</td>\n",
       "      <td>...</td>\n",
       "      <td>0.0</td>\n",
       "      <td>3.0</td>\n",
       "      <td>0.0</td>\n",
       "      <td>2</td>\n",
       "      <td>6</td>\n",
       "      <td>6</td>\n",
       "      <td>41.741804</td>\n",
       "      <td>-87.740954</td>\n",
       "      <td>2017-06-30 16:00:00</td>\n",
       "      <td>0</td>\n",
       "    </tr>\n",
       "    <tr>\n",
       "      <th>2</th>\n",
       "      <td>ee9283eff3a55ac50ee58f3d9528ce1d689b1c4180b4c4...</td>\n",
       "      <td>5</td>\n",
       "      <td>TRAFFIC SIGNAL</td>\n",
       "      <td>FUNCTIONING PROPERLY</td>\n",
       "      <td>CLEAR</td>\n",
       "      <td>DAYLIGHT</td>\n",
       "      <td>REAR END</td>\n",
       "      <td>FOUR WAY</td>\n",
       "      <td>STRAIGHT AND LEVEL</td>\n",
       "      <td>DRY</td>\n",
       "      <td>...</td>\n",
       "      <td>0.0</td>\n",
       "      <td>3.0</td>\n",
       "      <td>0.0</td>\n",
       "      <td>1</td>\n",
       "      <td>6</td>\n",
       "      <td>7</td>\n",
       "      <td>41.773456</td>\n",
       "      <td>-87.585022</td>\n",
       "      <td>2020-07-10 10:25:00</td>\n",
       "      <td>0</td>\n",
       "    </tr>\n",
       "  </tbody>\n",
       "</table>\n",
       "<p>3 rows × 36 columns</p>\n",
       "</div>"
      ],
      "text/plain": [
       "                                     CRASH_RECORD_ID POSTED_SPEED_LIMIT  \\\n",
       "0  4fd0a3e0897b3335b94cd8d5b2d2b350eb691add56c62d...                  6   \n",
       "1  009e9e67203442370272e1a13d6ee51a4155dac65e583d...                  6   \n",
       "2  ee9283eff3a55ac50ee58f3d9528ce1d689b1c4180b4c4...                  5   \n",
       "\n",
       "  TRAFFIC_CONTROL_DEVICE      DEVICE_CONDITION WEATHER_CONDITION  \\\n",
       "0            NO CONTROLS           NO CONTROLS             CLEAR   \n",
       "1      STOP SIGN/FLASHER  FUNCTIONING PROPERLY             CLEAR   \n",
       "2         TRAFFIC SIGNAL  FUNCTIONING PROPERLY             CLEAR   \n",
       "\n",
       "  LIGHTING_CONDITION FIRST_CRASH_TYPE TRAFFICWAY_TYPE           ALIGNMENT  \\\n",
       "0           DAYLIGHT          TURNING         ONE-WAY  STRAIGHT AND LEVEL   \n",
       "1           DAYLIGHT          TURNING     NOT DIVIDED  STRAIGHT AND LEVEL   \n",
       "2           DAYLIGHT         REAR END        FOUR WAY  STRAIGHT AND LEVEL   \n",
       "\n",
       "  ROADWAY_SURFACE_COND  ... INJURIES_REPORTED_NOT_EVIDENT  \\\n",
       "0                  DRY  ...                           0.0   \n",
       "1                  DRY  ...                           0.0   \n",
       "2                  DRY  ...                           0.0   \n",
       "\n",
       "  INJURIES_NO_INDICATION INJURIES_UNKNOWN CRASH_HOUR CRASH_DAY_OF_WEEK  \\\n",
       "0                    3.0              0.0          2                 4   \n",
       "1                    3.0              0.0          2                 6   \n",
       "2                    3.0              0.0          1                 6   \n",
       "\n",
       "  CRASH_MONTH   LATITUDE  LONGITUDE       DATE_ACCIDENT  IS_A_HOLIDAY  \n",
       "0           7  41.919664 -87.773288 2019-07-10 17:56:00             0  \n",
       "1           6  41.741804 -87.740954 2017-06-30 16:00:00             0  \n",
       "2           7  41.773456 -87.585022 2020-07-10 10:25:00             0  \n",
       "\n",
       "[3 rows x 36 columns]"
      ]
     },
     "execution_count": 59,
     "metadata": {},
     "output_type": "execute_result"
    }
   ],
   "source": [
    "crashes.head(3)"
   ]
  },
  {
   "cell_type": "code",
   "execution_count": 60,
   "metadata": {},
   "outputs": [],
   "source": [
    "# Creating a new dataframe with only crashes that happened on holidays\n",
    "crashes_holiday = crashes[crashes['IS_A_HOLIDAY']==1]"
   ]
  },
  {
   "cell_type": "code",
   "execution_count": 61,
   "metadata": {
    "scrolled": false
   },
   "outputs": [
    {
     "data": {
      "text/html": [
       "<div>\n",
       "<style scoped>\n",
       "    .dataframe tbody tr th:only-of-type {\n",
       "        vertical-align: middle;\n",
       "    }\n",
       "\n",
       "    .dataframe tbody tr th {\n",
       "        vertical-align: top;\n",
       "    }\n",
       "\n",
       "    .dataframe thead th {\n",
       "        text-align: right;\n",
       "    }\n",
       "</style>\n",
       "<table border=\"1\" class=\"dataframe\">\n",
       "  <thead>\n",
       "    <tr style=\"text-align: right;\">\n",
       "      <th></th>\n",
       "      <th>CRASH_RECORD_ID</th>\n",
       "      <th>POSTED_SPEED_LIMIT</th>\n",
       "      <th>TRAFFIC_CONTROL_DEVICE</th>\n",
       "      <th>DEVICE_CONDITION</th>\n",
       "      <th>WEATHER_CONDITION</th>\n",
       "      <th>LIGHTING_CONDITION</th>\n",
       "      <th>FIRST_CRASH_TYPE</th>\n",
       "      <th>TRAFFICWAY_TYPE</th>\n",
       "      <th>ALIGNMENT</th>\n",
       "      <th>ROADWAY_SURFACE_COND</th>\n",
       "      <th>...</th>\n",
       "      <th>INJURIES_REPORTED_NOT_EVIDENT</th>\n",
       "      <th>INJURIES_NO_INDICATION</th>\n",
       "      <th>INJURIES_UNKNOWN</th>\n",
       "      <th>CRASH_HOUR</th>\n",
       "      <th>CRASH_DAY_OF_WEEK</th>\n",
       "      <th>CRASH_MONTH</th>\n",
       "      <th>LATITUDE</th>\n",
       "      <th>LONGITUDE</th>\n",
       "      <th>DATE_ACCIDENT</th>\n",
       "      <th>IS_A_HOLIDAY</th>\n",
       "    </tr>\n",
       "  </thead>\n",
       "  <tbody>\n",
       "    <tr>\n",
       "      <th>155</th>\n",
       "      <td>3bfec94191bdc869600d2c429c45a68871eb9733ce7ec6...</td>\n",
       "      <td>4</td>\n",
       "      <td>NO CONTROLS</td>\n",
       "      <td>NO CONTROLS</td>\n",
       "      <td>SNOW</td>\n",
       "      <td>DAYLIGHT</td>\n",
       "      <td>PARKED MOTOR VEHICLE</td>\n",
       "      <td>NOT DIVIDED</td>\n",
       "      <td>STRAIGHT AND LEVEL</td>\n",
       "      <td>SNOW OR SLUSH</td>\n",
       "      <td>...</td>\n",
       "      <td>0.0</td>\n",
       "      <td>1.0</td>\n",
       "      <td>0.0</td>\n",
       "      <td>1</td>\n",
       "      <td>6</td>\n",
       "      <td>11</td>\n",
       "      <td>41.932213</td>\n",
       "      <td>-87.653694</td>\n",
       "      <td>2017-11-10 12:45:00</td>\n",
       "      <td>1</td>\n",
       "    </tr>\n",
       "    <tr>\n",
       "      <th>168</th>\n",
       "      <td>43292e98b1ba60cb4c6efeb987a67a1ec0291acea4357e...</td>\n",
       "      <td>7</td>\n",
       "      <td>NO CONTROLS</td>\n",
       "      <td>OTHER</td>\n",
       "      <td>RAIN</td>\n",
       "      <td>DARKNESS, LIGHTED ROAD</td>\n",
       "      <td>TURNING</td>\n",
       "      <td>NOT DIVIDED</td>\n",
       "      <td>STRAIGHT AND LEVEL</td>\n",
       "      <td>WET</td>\n",
       "      <td>...</td>\n",
       "      <td>0.0</td>\n",
       "      <td>4.0</td>\n",
       "      <td>0.0</td>\n",
       "      <td>NaN</td>\n",
       "      <td>2</td>\n",
       "      <td>2</td>\n",
       "      <td>41.880660</td>\n",
       "      <td>-87.740728</td>\n",
       "      <td>2018-02-19 00:25:00</td>\n",
       "      <td>1</td>\n",
       "    </tr>\n",
       "    <tr>\n",
       "      <th>234</th>\n",
       "      <td>5e45d4537c4d0bd12bfa11a7f75526f4fe0d61c68a0ec1...</td>\n",
       "      <td>1</td>\n",
       "      <td>NO CONTROLS</td>\n",
       "      <td>NO CONTROLS</td>\n",
       "      <td>CLEAR</td>\n",
       "      <td>DARKNESS, LIGHTED ROAD</td>\n",
       "      <td>PARKED MOTOR VEHICLE</td>\n",
       "      <td>PARKING LOT</td>\n",
       "      <td>STRAIGHT AND LEVEL</td>\n",
       "      <td>WET</td>\n",
       "      <td>...</td>\n",
       "      <td>0.0</td>\n",
       "      <td>1.0</td>\n",
       "      <td>0.0</td>\n",
       "      <td>0</td>\n",
       "      <td>3</td>\n",
       "      <td>1</td>\n",
       "      <td>41.879714</td>\n",
       "      <td>-87.774496</td>\n",
       "      <td>2019-01-01 02:40:00</td>\n",
       "      <td>1</td>\n",
       "    </tr>\n",
       "  </tbody>\n",
       "</table>\n",
       "<p>3 rows × 36 columns</p>\n",
       "</div>"
      ],
      "text/plain": [
       "                                       CRASH_RECORD_ID POSTED_SPEED_LIMIT  \\\n",
       "155  3bfec94191bdc869600d2c429c45a68871eb9733ce7ec6...                  4   \n",
       "168  43292e98b1ba60cb4c6efeb987a67a1ec0291acea4357e...                  7   \n",
       "234  5e45d4537c4d0bd12bfa11a7f75526f4fe0d61c68a0ec1...                  1   \n",
       "\n",
       "    TRAFFIC_CONTROL_DEVICE DEVICE_CONDITION WEATHER_CONDITION  \\\n",
       "155            NO CONTROLS      NO CONTROLS              SNOW   \n",
       "168            NO CONTROLS            OTHER              RAIN   \n",
       "234            NO CONTROLS      NO CONTROLS             CLEAR   \n",
       "\n",
       "         LIGHTING_CONDITION      FIRST_CRASH_TYPE TRAFFICWAY_TYPE  \\\n",
       "155                DAYLIGHT  PARKED MOTOR VEHICLE     NOT DIVIDED   \n",
       "168  DARKNESS, LIGHTED ROAD               TURNING     NOT DIVIDED   \n",
       "234  DARKNESS, LIGHTED ROAD  PARKED MOTOR VEHICLE     PARKING LOT   \n",
       "\n",
       "              ALIGNMENT ROADWAY_SURFACE_COND  ...  \\\n",
       "155  STRAIGHT AND LEVEL        SNOW OR SLUSH  ...   \n",
       "168  STRAIGHT AND LEVEL                  WET  ...   \n",
       "234  STRAIGHT AND LEVEL                  WET  ...   \n",
       "\n",
       "    INJURIES_REPORTED_NOT_EVIDENT INJURIES_NO_INDICATION INJURIES_UNKNOWN  \\\n",
       "155                           0.0                    1.0              0.0   \n",
       "168                           0.0                    4.0              0.0   \n",
       "234                           0.0                    1.0              0.0   \n",
       "\n",
       "    CRASH_HOUR CRASH_DAY_OF_WEEK CRASH_MONTH   LATITUDE  LONGITUDE  \\\n",
       "155          1                 6          11  41.932213 -87.653694   \n",
       "168        NaN                 2           2  41.880660 -87.740728   \n",
       "234          0                 3           1  41.879714 -87.774496   \n",
       "\n",
       "          DATE_ACCIDENT  IS_A_HOLIDAY  \n",
       "155 2017-11-10 12:45:00             1  \n",
       "168 2018-02-19 00:25:00             1  \n",
       "234 2019-01-01 02:40:00             1  \n",
       "\n",
       "[3 rows x 36 columns]"
      ]
     },
     "execution_count": 61,
     "metadata": {},
     "output_type": "execute_result"
    }
   ],
   "source": [
    "crashes_holiday.head(3)"
   ]
  },
  {
   "cell_type": "markdown",
   "metadata": {},
   "source": [
    "> We check for NaN values after all the feature engineering we did"
   ]
  },
  {
   "cell_type": "code",
   "execution_count": 62,
   "metadata": {
    "scrolled": true
   },
   "outputs": [
    {
     "data": {
      "text/plain": [
       "16957"
      ]
     },
     "execution_count": 62,
     "metadata": {},
     "output_type": "execute_result"
    }
   ],
   "source": [
    "crashes.isna().sum().sum()"
   ]
  },
  {
   "cell_type": "code",
   "execution_count": 63,
   "metadata": {},
   "outputs": [],
   "source": [
    "crashes.dropna(inplace=True)"
   ]
  },
  {
   "cell_type": "code",
   "execution_count": 64,
   "metadata": {
    "scrolled": true
   },
   "outputs": [
    {
     "data": {
      "text/plain": [
       "492"
      ]
     },
     "execution_count": 64,
     "metadata": {},
     "output_type": "execute_result"
    }
   ],
   "source": [
    "crashes_holiday.isna().sum().sum()"
   ]
  },
  {
   "cell_type": "code",
   "execution_count": 65,
   "metadata": {
    "scrolled": true
   },
   "outputs": [
    {
     "name": "stderr",
     "output_type": "stream",
     "text": [
      "<ipython-input-65-2ec4761478ad>:1: SettingWithCopyWarning: \n",
      "A value is trying to be set on a copy of a slice from a DataFrame\n",
      "\n",
      "See the caveats in the documentation: https://pandas.pydata.org/pandas-docs/stable/user_guide/indexing.html#returning-a-view-versus-a-copy\n",
      "  crashes_holiday.dropna(inplace=True)\n"
     ]
    }
   ],
   "source": [
    "crashes_holiday.dropna(inplace=True)"
   ]
  },
  {
   "cell_type": "markdown",
   "metadata": {},
   "source": [
    "### Some feature engineering to get the  name of the holiday on the new dataset :\n"
   ]
  },
  {
   "cell_type": "code",
   "execution_count": 66,
   "metadata": {},
   "outputs": [],
   "source": [
    "period_of_time = pd.tseries.holiday.USFederalHolidayCalendar().holidays(start='2012', end='2022', return_name=True)"
   ]
  },
  {
   "cell_type": "code",
   "execution_count": 67,
   "metadata": {
    "scrolled": false
   },
   "outputs": [
    {
     "data": {
      "text/plain": [
       "DatetimeIndex(['2012-01-02', '2012-01-16', '2012-02-20', '2012-05-28',\n",
       "               '2012-07-04', '2012-09-03', '2012-10-08', '2012-11-12',\n",
       "               '2012-11-22', '2012-12-25',\n",
       "               ...\n",
       "               '2021-01-18', '2021-02-15', '2021-05-31', '2021-07-05',\n",
       "               '2021-09-06', '2021-10-11', '2021-11-11', '2021-11-25',\n",
       "               '2021-12-24', '2021-12-31'],\n",
       "              dtype='datetime64[ns]', length=101, freq=None)"
      ]
     },
     "execution_count": 67,
     "metadata": {},
     "output_type": "execute_result"
    }
   ],
   "source": [
    "period_of_time.keys()"
   ]
  },
  {
   "cell_type": "code",
   "execution_count": 68,
   "metadata": {
    "scrolled": false
   },
   "outputs": [
    {
     "data": {
      "text/plain": [
       "datetime.date(2012, 1, 2)"
      ]
     },
     "execution_count": 68,
     "metadata": {},
     "output_type": "execute_result"
    }
   ],
   "source": [
    "period_of_time.keys()[0].date()"
   ]
  },
  {
   "cell_type": "code",
   "execution_count": 69,
   "metadata": {},
   "outputs": [],
   "source": [
    "temporary_1 = []\n",
    "for x in period_of_time:\n",
    "    temporary_1.append(x)"
   ]
  },
  {
   "cell_type": "code",
   "execution_count": 70,
   "metadata": {},
   "outputs": [],
   "source": [
    "temporary_2 = []\n",
    "for x in period_of_time.keys():\n",
    "    temporary_2.append(x.date())"
   ]
  },
  {
   "cell_type": "code",
   "execution_count": 71,
   "metadata": {},
   "outputs": [],
   "source": [
    "dictionary_temporary = dict(zip(temporary_2, temporary_1))"
   ]
  },
  {
   "cell_type": "code",
   "execution_count": 72,
   "metadata": {},
   "outputs": [],
   "source": [
    "dates_holidays = pd.DataFrame.from_dict(dictionary_temporary, orient='index')"
   ]
  },
  {
   "cell_type": "code",
   "execution_count": 73,
   "metadata": {
    "scrolled": true
   },
   "outputs": [
    {
     "name": "stderr",
     "output_type": "stream",
     "text": [
      "<ipython-input-73-9c13a83f2a64>:1: SettingWithCopyWarning: \n",
      "A value is trying to be set on a copy of a slice from a DataFrame.\n",
      "Try using .loc[row_indexer,col_indexer] = value instead\n",
      "\n",
      "See the caveats in the documentation: https://pandas.pydata.org/pandas-docs/stable/user_guide/indexing.html#returning-a-view-versus-a-copy\n",
      "  crashes_holiday['DATE_REAL'] = crashes_holiday['DATE_ACCIDENT'].apply(lambda x : x.date())\n"
     ]
    }
   ],
   "source": [
    "crashes_holiday['DATE_REAL'] = crashes_holiday['DATE_ACCIDENT'].apply(lambda x : x.date())"
   ]
  },
  {
   "cell_type": "code",
   "execution_count": 74,
   "metadata": {},
   "outputs": [
    {
     "data": {
      "text/html": [
       "<div>\n",
       "<style scoped>\n",
       "    .dataframe tbody tr th:only-of-type {\n",
       "        vertical-align: middle;\n",
       "    }\n",
       "\n",
       "    .dataframe tbody tr th {\n",
       "        vertical-align: top;\n",
       "    }\n",
       "\n",
       "    .dataframe thead th {\n",
       "        text-align: right;\n",
       "    }\n",
       "</style>\n",
       "<table border=\"1\" class=\"dataframe\">\n",
       "  <thead>\n",
       "    <tr style=\"text-align: right;\">\n",
       "      <th></th>\n",
       "      <th>0</th>\n",
       "    </tr>\n",
       "  </thead>\n",
       "  <tbody>\n",
       "    <tr>\n",
       "      <th>2012-01-02</th>\n",
       "      <td>New Years Day</td>\n",
       "    </tr>\n",
       "    <tr>\n",
       "      <th>2012-01-16</th>\n",
       "      <td>Martin Luther King Jr. Day</td>\n",
       "    </tr>\n",
       "    <tr>\n",
       "      <th>2012-02-20</th>\n",
       "      <td>Presidents Day</td>\n",
       "    </tr>\n",
       "  </tbody>\n",
       "</table>\n",
       "</div>"
      ],
      "text/plain": [
       "                                     0\n",
       "2012-01-02               New Years Day\n",
       "2012-01-16  Martin Luther King Jr. Day\n",
       "2012-02-20              Presidents Day"
      ]
     },
     "execution_count": 74,
     "metadata": {},
     "output_type": "execute_result"
    }
   ],
   "source": [
    "dates_holidays.head(3)"
   ]
  },
  {
   "cell_type": "code",
   "execution_count": 75,
   "metadata": {},
   "outputs": [],
   "source": [
    "dates_holidays.index.name = 'DATE_REAL'"
   ]
  },
  {
   "cell_type": "code",
   "execution_count": 76,
   "metadata": {},
   "outputs": [
    {
     "data": {
      "text/html": [
       "<div>\n",
       "<style scoped>\n",
       "    .dataframe tbody tr th:only-of-type {\n",
       "        vertical-align: middle;\n",
       "    }\n",
       "\n",
       "    .dataframe tbody tr th {\n",
       "        vertical-align: top;\n",
       "    }\n",
       "\n",
       "    .dataframe thead th {\n",
       "        text-align: right;\n",
       "    }\n",
       "</style>\n",
       "<table border=\"1\" class=\"dataframe\">\n",
       "  <thead>\n",
       "    <tr style=\"text-align: right;\">\n",
       "      <th></th>\n",
       "      <th>DATE_REAL</th>\n",
       "      <th>0</th>\n",
       "      <th>CRASH_RECORD_ID</th>\n",
       "      <th>POSTED_SPEED_LIMIT</th>\n",
       "      <th>TRAFFIC_CONTROL_DEVICE</th>\n",
       "      <th>DEVICE_CONDITION</th>\n",
       "      <th>WEATHER_CONDITION</th>\n",
       "      <th>LIGHTING_CONDITION</th>\n",
       "      <th>FIRST_CRASH_TYPE</th>\n",
       "      <th>TRAFFICWAY_TYPE</th>\n",
       "      <th>...</th>\n",
       "      <th>INJURIES_REPORTED_NOT_EVIDENT</th>\n",
       "      <th>INJURIES_NO_INDICATION</th>\n",
       "      <th>INJURIES_UNKNOWN</th>\n",
       "      <th>CRASH_HOUR</th>\n",
       "      <th>CRASH_DAY_OF_WEEK</th>\n",
       "      <th>CRASH_MONTH</th>\n",
       "      <th>LATITUDE</th>\n",
       "      <th>LONGITUDE</th>\n",
       "      <th>DATE_ACCIDENT</th>\n",
       "      <th>IS_A_HOLIDAY</th>\n",
       "    </tr>\n",
       "  </thead>\n",
       "  <tbody>\n",
       "    <tr>\n",
       "      <th>0</th>\n",
       "      <td>2014-11-11</td>\n",
       "      <td>Veterans Day</td>\n",
       "      <td>b15daae7f809226ff0cfc93865ddcf9ff60edcf4187dc4...</td>\n",
       "      <td>5</td>\n",
       "      <td>NO CONTROLS</td>\n",
       "      <td>NO CONTROLS</td>\n",
       "      <td>UNKNOWN</td>\n",
       "      <td>UNKNOWN</td>\n",
       "      <td>PARKED MOTOR VEHICLE</td>\n",
       "      <td>DIVIDED - W/MEDIAN (NOT RAISED)</td>\n",
       "      <td>...</td>\n",
       "      <td>0.0</td>\n",
       "      <td>1.0</td>\n",
       "      <td>0.0</td>\n",
       "      <td>3</td>\n",
       "      <td>3</td>\n",
       "      <td>11</td>\n",
       "      <td>41.998270</td>\n",
       "      <td>-87.662997</td>\n",
       "      <td>2014-11-11 20:00:00</td>\n",
       "      <td>1</td>\n",
       "    </tr>\n",
       "    <tr>\n",
       "      <th>1</th>\n",
       "      <td>2015-05-25</td>\n",
       "      <td>Memorial Day</td>\n",
       "      <td>aa2ebe2aad2bbd41fbb7f6de1a3d7c695f539324d160d9...</td>\n",
       "      <td>5</td>\n",
       "      <td>STOP SIGN/FLASHER</td>\n",
       "      <td>FUNCTIONING PROPERLY</td>\n",
       "      <td>CLEAR</td>\n",
       "      <td>DARKNESS, LIGHTED ROAD</td>\n",
       "      <td>HEAD ON</td>\n",
       "      <td>DIVIDED - W/MEDIAN (NOT RAISED)</td>\n",
       "      <td>...</td>\n",
       "      <td>0.0</td>\n",
       "      <td>2.0</td>\n",
       "      <td>0.0</td>\n",
       "      <td>3</td>\n",
       "      <td>2</td>\n",
       "      <td>5</td>\n",
       "      <td>41.877407</td>\n",
       "      <td>-87.745018</td>\n",
       "      <td>2015-05-25 23:38:00</td>\n",
       "      <td>1</td>\n",
       "    </tr>\n",
       "    <tr>\n",
       "      <th>2</th>\n",
       "      <td>2015-09-07</td>\n",
       "      <td>Labor Day</td>\n",
       "      <td>0335e90fd6f5f3d1d54bf4113afa1fe5c283b140bfaf6b...</td>\n",
       "      <td>5</td>\n",
       "      <td>NO CONTROLS</td>\n",
       "      <td>NO CONTROLS</td>\n",
       "      <td>CLEAR</td>\n",
       "      <td>DAYLIGHT</td>\n",
       "      <td>SIDESWIPE SAME DIRECTION</td>\n",
       "      <td>ONE-WAY</td>\n",
       "      <td>...</td>\n",
       "      <td>0.0</td>\n",
       "      <td>2.0</td>\n",
       "      <td>0.0</td>\n",
       "      <td>2</td>\n",
       "      <td>2</td>\n",
       "      <td>9</td>\n",
       "      <td>41.888470</td>\n",
       "      <td>-87.629413</td>\n",
       "      <td>2015-09-07 16:45:00</td>\n",
       "      <td>1</td>\n",
       "    </tr>\n",
       "  </tbody>\n",
       "</table>\n",
       "<p>3 rows × 38 columns</p>\n",
       "</div>"
      ],
      "text/plain": [
       "    DATE_REAL             0  \\\n",
       "0  2014-11-11  Veterans Day   \n",
       "1  2015-05-25  Memorial Day   \n",
       "2  2015-09-07     Labor Day   \n",
       "\n",
       "                                     CRASH_RECORD_ID POSTED_SPEED_LIMIT  \\\n",
       "0  b15daae7f809226ff0cfc93865ddcf9ff60edcf4187dc4...                  5   \n",
       "1  aa2ebe2aad2bbd41fbb7f6de1a3d7c695f539324d160d9...                  5   \n",
       "2  0335e90fd6f5f3d1d54bf4113afa1fe5c283b140bfaf6b...                  5   \n",
       "\n",
       "  TRAFFIC_CONTROL_DEVICE      DEVICE_CONDITION WEATHER_CONDITION  \\\n",
       "0            NO CONTROLS           NO CONTROLS           UNKNOWN   \n",
       "1      STOP SIGN/FLASHER  FUNCTIONING PROPERLY             CLEAR   \n",
       "2            NO CONTROLS           NO CONTROLS             CLEAR   \n",
       "\n",
       "       LIGHTING_CONDITION          FIRST_CRASH_TYPE  \\\n",
       "0                 UNKNOWN      PARKED MOTOR VEHICLE   \n",
       "1  DARKNESS, LIGHTED ROAD                   HEAD ON   \n",
       "2                DAYLIGHT  SIDESWIPE SAME DIRECTION   \n",
       "\n",
       "                   TRAFFICWAY_TYPE  ... INJURIES_REPORTED_NOT_EVIDENT  \\\n",
       "0  DIVIDED - W/MEDIAN (NOT RAISED)  ...                           0.0   \n",
       "1  DIVIDED - W/MEDIAN (NOT RAISED)  ...                           0.0   \n",
       "2                          ONE-WAY  ...                           0.0   \n",
       "\n",
       "  INJURIES_NO_INDICATION INJURIES_UNKNOWN CRASH_HOUR CRASH_DAY_OF_WEEK  \\\n",
       "0                    1.0              0.0          3                 3   \n",
       "1                    2.0              0.0          3                 2   \n",
       "2                    2.0              0.0          2                 2   \n",
       "\n",
       "  CRASH_MONTH   LATITUDE  LONGITUDE       DATE_ACCIDENT IS_A_HOLIDAY  \n",
       "0          11  41.998270 -87.662997 2014-11-11 20:00:00            1  \n",
       "1           5  41.877407 -87.745018 2015-05-25 23:38:00            1  \n",
       "2           9  41.888470 -87.629413 2015-09-07 16:45:00            1  \n",
       "\n",
       "[3 rows x 38 columns]"
      ]
     },
     "execution_count": 76,
     "metadata": {},
     "output_type": "execute_result"
    }
   ],
   "source": [
    "final_holidays = pd.merge(dates_holidays, crashes_holiday, on=['DATE_REAL'])\n",
    "final_holidays.head(3)"
   ]
  },
  {
   "cell_type": "markdown",
   "metadata": {},
   "source": [
    "# People Data Set"
   ]
  },
  {
   "cell_type": "code",
   "execution_count": 77,
   "metadata": {
    "scrolled": true
   },
   "outputs": [
    {
     "name": "stdout",
     "output_type": "stream",
     "text": [
      "Dataset shape is:  (1069147, 30)\n",
      "Dataset size is:  32074410\n",
      "Dataset columns are:  Index(['PERSON_ID', 'PERSON_TYPE', 'CRASH_RECORD_ID', 'RD_NO', 'VEHICLE_ID',\n",
      "       'CRASH_DATE', 'SEAT_NO', 'CITY', 'STATE', 'ZIPCODE', 'SEX', 'AGE',\n",
      "       'DRIVERS_LICENSE_STATE', 'DRIVERS_LICENSE_CLASS', 'SAFETY_EQUIPMENT',\n",
      "       'AIRBAG_DEPLOYED', 'EJECTION', 'INJURY_CLASSIFICATION', 'HOSPITAL',\n",
      "       'EMS_AGENCY', 'EMS_RUN_NO', 'DRIVER_ACTION', 'DRIVER_VISION',\n",
      "       'PHYSICAL_CONDITION', 'PEDPEDAL_ACTION', 'PEDPEDAL_VISIBILITY',\n",
      "       'PEDPEDAL_LOCATION', 'BAC_RESULT', 'BAC_RESULT VALUE',\n",
      "       'CELL_PHONE_USE'],\n",
      "      dtype='object')\n",
      "<class 'pandas.core.frame.DataFrame'>\n",
      "RangeIndex: 1069147 entries, 0 to 1069146\n",
      "Data columns (total 30 columns):\n",
      " #   Column                 Non-Null Count    Dtype  \n",
      "---  ------                 --------------    -----  \n",
      " 0   PERSON_ID              1069147 non-null  object \n",
      " 1   PERSON_TYPE            1069147 non-null  object \n",
      " 2   CRASH_RECORD_ID        1069147 non-null  object \n",
      " 3   RD_NO                  1061919 non-null  object \n",
      " 4   VEHICLE_ID             1047996 non-null  float64\n",
      " 5   CRASH_DATE             1069147 non-null  object \n",
      " 6   SEAT_NO                218450 non-null   float64\n",
      " 7   CITY                   790384 non-null   object \n",
      " 8   STATE                  799184 non-null   object \n",
      " 9   ZIPCODE                721818 non-null   object \n",
      " 10  SEX                    1053320 non-null  object \n",
      " 11  AGE                    764449 non-null   float64\n",
      " 12  DRIVERS_LICENSE_STATE  634054 non-null   object \n",
      " 13  DRIVERS_LICENSE_CLASS  550538 non-null   object \n",
      " 14  SAFETY_EQUIPMENT       1065977 non-null  object \n",
      " 15  AIRBAG_DEPLOYED        1048903 non-null  object \n",
      " 16  EJECTION               1055955 non-null  object \n",
      " 17  INJURY_CLASSIFICATION  1068582 non-null  object \n",
      " 18  HOSPITAL               194638 non-null   object \n",
      " 19  EMS_AGENCY             123613 non-null   object \n",
      " 20  EMS_RUN_NO             20101 non-null    object \n",
      " 21  DRIVER_ACTION          848644 non-null   object \n",
      " 22  DRIVER_VISION          848364 non-null   object \n",
      " 23  PHYSICAL_CONDITION     849255 non-null   object \n",
      " 24  PEDPEDAL_ACTION        19881 non-null    object \n",
      " 25  PEDPEDAL_VISIBILITY    19838 non-null    object \n",
      " 26  PEDPEDAL_LOCATION      19882 non-null    object \n",
      " 27  BAC_RESULT             849751 non-null   object \n",
      " 28  BAC_RESULT VALUE       1378 non-null     float64\n",
      " 29  CELL_PHONE_USE         1157 non-null     object \n",
      "dtypes: float64(4), object(26)\n",
      "memory usage: 244.7+ MB\n",
      "Dataset info is:  None\n",
      "Categorical variables are:\n",
      "  ['PERSON_ID', 'PERSON_TYPE', 'CRASH_RECORD_ID', 'RD_NO', 'CRASH_DATE', 'CITY', 'STATE', 'ZIPCODE', 'SEX', 'DRIVERS_LICENSE_STATE', 'DRIVERS_LICENSE_CLASS', 'SAFETY_EQUIPMENT', 'AIRBAG_DEPLOYED', 'EJECTION', 'INJURY_CLASSIFICATION', 'HOSPITAL', 'EMS_AGENCY', 'EMS_RUN_NO', 'DRIVER_ACTION', 'DRIVER_VISION', 'PHYSICAL_CONDITION', 'PEDPEDAL_ACTION', 'PEDPEDAL_VISIBILITY', 'PEDPEDAL_LOCATION', 'BAC_RESULT', 'CELL_PHONE_USE']\n",
      "Numerical variables are:\n",
      "  ['VEHICLE_ID', 'SEAT_NO', 'AGE', 'BAC_RESULT VALUE']\n"
     ]
    },
    {
     "data": {
      "text/plain": [
       "(['PERSON_ID',\n",
       "  'PERSON_TYPE',\n",
       "  'CRASH_RECORD_ID',\n",
       "  'RD_NO',\n",
       "  'CRASH_DATE',\n",
       "  'CITY',\n",
       "  'STATE',\n",
       "  'ZIPCODE',\n",
       "  'SEX',\n",
       "  'DRIVERS_LICENSE_STATE',\n",
       "  'DRIVERS_LICENSE_CLASS',\n",
       "  'SAFETY_EQUIPMENT',\n",
       "  'AIRBAG_DEPLOYED',\n",
       "  'EJECTION',\n",
       "  'INJURY_CLASSIFICATION',\n",
       "  'HOSPITAL',\n",
       "  'EMS_AGENCY',\n",
       "  'EMS_RUN_NO',\n",
       "  'DRIVER_ACTION',\n",
       "  'DRIVER_VISION',\n",
       "  'PHYSICAL_CONDITION',\n",
       "  'PEDPEDAL_ACTION',\n",
       "  'PEDPEDAL_VISIBILITY',\n",
       "  'PEDPEDAL_LOCATION',\n",
       "  'BAC_RESULT',\n",
       "  'CELL_PHONE_USE'],\n",
       " ['VEHICLE_ID', 'SEAT_NO', 'AGE', 'BAC_RESULT VALUE'])"
      ]
     },
     "execution_count": 77,
     "metadata": {},
     "output_type": "execute_result"
    }
   ],
   "source": [
    "basic_info(people)"
   ]
  },
  {
   "cell_type": "code",
   "execution_count": 78,
   "metadata": {
    "scrolled": true
   },
   "outputs": [
    {
     "data": {
      "text/plain": [
       "(1069147, 30)"
      ]
     },
     "execution_count": 78,
     "metadata": {},
     "output_type": "execute_result"
    }
   ],
   "source": [
    "people.shape"
   ]
  },
  {
   "cell_type": "code",
   "execution_count": 79,
   "metadata": {},
   "outputs": [
    {
     "name": "stdout",
     "output_type": "stream",
     "text": [
      "0\n"
     ]
    }
   ],
   "source": [
    "howmanyduplicates(people)"
   ]
  },
  {
   "cell_type": "code",
   "execution_count": 80,
   "metadata": {
    "scrolled": true
   },
   "outputs": [
    {
     "name": "stdout",
     "output_type": "stream",
     "text": [
      "Row: RD_NO : is made 0.007% of NaN Values.\n",
      "Row: VEHICLE_ID : is made 0.02% of NaN Values.\n",
      "Row: SEAT_NO : is made 0.796% of NaN Values.\n",
      "Row: CITY : is made 0.261% of NaN Values.\n",
      "Row: STATE : is made 0.253% of NaN Values.\n",
      "Row: ZIPCODE : is made 0.325% of NaN Values.\n",
      "Row: SEX : is made 0.015% of NaN Values.\n",
      "Row: AGE : is made 0.285% of NaN Values.\n",
      "Row: DRIVERS_LICENSE_STATE : is made 0.407% of NaN Values.\n",
      "Row: DRIVERS_LICENSE_CLASS : is made 0.485% of NaN Values.\n",
      "Row: SAFETY_EQUIPMENT : is made 0.003% of NaN Values.\n",
      "Row: AIRBAG_DEPLOYED : is made 0.019% of NaN Values.\n",
      "Row: EJECTION : is made 0.012% of NaN Values.\n",
      "Row: INJURY_CLASSIFICATION : is made 0.001% of NaN Values.\n",
      "Row: HOSPITAL : is made 0.818% of NaN Values.\n",
      "Row: EMS_AGENCY : is made 0.884% of NaN Values.\n",
      "Row: EMS_RUN_NO : is made 0.981% of NaN Values.\n",
      "Row: DRIVER_ACTION : is made 0.206% of NaN Values.\n",
      "Row: DRIVER_VISION : is made 0.207% of NaN Values.\n",
      "Row: PHYSICAL_CONDITION : is made 0.206% of NaN Values.\n",
      "Row: PEDPEDAL_ACTION : is made 0.981% of NaN Values.\n",
      "Row: PEDPEDAL_VISIBILITY : is made 0.981% of NaN Values.\n",
      "Row: PEDPEDAL_LOCATION : is made 0.981% of NaN Values.\n",
      "Row: BAC_RESULT : is made 0.205% of NaN Values.\n",
      "Row: BAC_RESULT VALUE : is made 0.999% of NaN Values.\n",
      "Row: CELL_PHONE_USE : is made 0.999% of NaN Values.\n",
      "\n",
      "['SEAT_NO', 'ZIPCODE', 'DRIVERS_LICENSE_STATE', 'DRIVERS_LICENSE_CLASS', 'HOSPITAL', 'EMS_AGENCY', 'EMS_RUN_NO', 'PEDPEDAL_ACTION', 'PEDPEDAL_VISIBILITY', 'PEDPEDAL_LOCATION', 'BAC_RESULT VALUE', 'CELL_PHONE_USE']\n"
     ]
    }
   ],
   "source": [
    "columns_w_nan(people)"
   ]
  },
  {
   "cell_type": "code",
   "execution_count": 81,
   "metadata": {},
   "outputs": [],
   "source": [
    "people = people.drop(columns=['SEAT_NO', 'ZIPCODE', 'DRIVERS_LICENSE_STATE', 'DRIVERS_LICENSE_CLASS',\n",
    "                              'HOSPITAL', 'EMS_AGENCY', 'EMS_RUN_NO', 'PEDPEDAL_ACTION',\n",
    "                              'PEDPEDAL_VISIBILITY', 'PEDPEDAL_LOCATION', 'BAC_RESULT VALUE', 'CELL_PHONE_USE'])"
   ]
  },
  {
   "cell_type": "code",
   "execution_count": 82,
   "metadata": {},
   "outputs": [],
   "source": [
    "people.dropna(inplace=True)"
   ]
  },
  {
   "cell_type": "code",
   "execution_count": 83,
   "metadata": {
    "scrolled": true
   },
   "outputs": [
    {
     "data": {
      "text/plain": [
       "PERSON_ID                0\n",
       "PERSON_TYPE              0\n",
       "CRASH_RECORD_ID          0\n",
       "RD_NO                    0\n",
       "VEHICLE_ID               0\n",
       "CRASH_DATE               0\n",
       "CITY                     0\n",
       "STATE                    0\n",
       "SEX                      0\n",
       "AGE                      0\n",
       "SAFETY_EQUIPMENT         0\n",
       "AIRBAG_DEPLOYED          0\n",
       "EJECTION                 0\n",
       "INJURY_CLASSIFICATION    0\n",
       "DRIVER_ACTION            0\n",
       "DRIVER_VISION            0\n",
       "PHYSICAL_CONDITION       0\n",
       "BAC_RESULT               0\n",
       "dtype: int64"
      ]
     },
     "execution_count": 83,
     "metadata": {},
     "output_type": "execute_result"
    }
   ],
   "source": [
    "people.isna().sum()"
   ]
  },
  {
   "cell_type": "code",
   "execution_count": 84,
   "metadata": {},
   "outputs": [
    {
     "name": "stdout",
     "output_type": "stream",
     "text": [
      "[1, 2, 11, 11, 1, 28, 291, 49, 3, 98, 10, 7, 5, 5, 19, 14, 12, 4]\n",
      "\n",
      "['PERSON_ID', 'PERSON_TYPE', 'CRASH_RECORD_ID', 'RD_NO', 'VEHICLE_ID', 'CRASH_DATE', 'CITY', 'STATE', 'SEX', 'AGE', 'SAFETY_EQUIPMENT', 'AIRBAG_DEPLOYED', 'EJECTION', 'INJURY_CLASSIFICATION', 'DRIVER_ACTION', 'DRIVER_VISION', 'PHYSICAL_CONDITION', 'BAC_RESULT']\n"
     ]
    }
   ],
   "source": [
    "howmanyunique(people)"
   ]
  },
  {
   "cell_type": "code",
   "execution_count": 85,
   "metadata": {
    "scrolled": true
   },
   "outputs": [
    {
     "data": {
      "text/plain": [
       "NO INDICATION OF INJURY     540485\n",
       "NONINCAPACITATING INJURY     22849\n",
       "REPORTED, NOT EVIDENT        15391\n",
       "INCAPACITATING INJURY         4186\n",
       "FATAL                          237\n",
       "Name: INJURY_CLASSIFICATION, dtype: int64"
      ]
     },
     "execution_count": 85,
     "metadata": {},
     "output_type": "execute_result"
    }
   ],
   "source": [
    "people.INJURY_CLASSIFICATION.value_counts()"
   ]
  },
  {
   "cell_type": "code",
   "execution_count": 86,
   "metadata": {},
   "outputs": [
    {
     "data": {
      "text/plain": [
       "DID NOT DEPLOY                            425305\n",
       "NOT APPLICABLE                             91019\n",
       "DEPLOYMENT UNKNOWN                         26896\n",
       "DEPLOYED, FRONT                            22228\n",
       "DEPLOYED, COMBINATION                      12206\n",
       "DEPLOYED, SIDE                              5208\n",
       "DEPLOYED OTHER (KNEE, AIR, BELT, ETC.)       286\n",
       "Name: AIRBAG_DEPLOYED, dtype: int64"
      ]
     },
     "execution_count": 86,
     "metadata": {},
     "output_type": "execute_result"
    }
   ],
   "source": [
    "people.AIRBAG_DEPLOYED.value_counts()"
   ]
  },
  {
   "cell_type": "code",
   "execution_count": 87,
   "metadata": {},
   "outputs": [
    {
     "data": {
      "text/plain": [
       "NONE                  572084\n",
       "UNKNOWN                 8366\n",
       "TOTALLY EJECTED         1786\n",
       "PARTIALLY EJECTED        546\n",
       "TRAPPED/EXTRICATED       366\n",
       "Name: EJECTION, dtype: int64"
      ]
     },
     "execution_count": 87,
     "metadata": {},
     "output_type": "execute_result"
    }
   ],
   "source": [
    "people.EJECTION.value_counts()"
   ]
  },
  {
   "cell_type": "code",
   "execution_count": 88,
   "metadata": {
    "scrolled": true
   },
   "outputs": [
    {
     "data": {
      "text/plain": [
       "NORMAL                          497653\n",
       "UNKNOWN                          73147\n",
       "IMPAIRED - ALCOHOL                3471\n",
       "REMOVED BY EMS                    2036\n",
       "FATIGUED/ASLEEP                   2023\n",
       "OTHER                             1549\n",
       "EMOTIONAL                         1481\n",
       "ILLNESS/FAINTED                    709\n",
       "HAD BEEN DRINKING                  439\n",
       "IMPAIRED - DRUGS                   399\n",
       "IMPAIRED - ALCOHOL AND DRUGS       148\n",
       "MEDICATED                           93\n",
       "Name: PHYSICAL_CONDITION, dtype: int64"
      ]
     },
     "execution_count": 88,
     "metadata": {},
     "output_type": "execute_result"
    }
   ],
   "source": [
    "people.PHYSICAL_CONDITION.value_counts()"
   ]
  },
  {
   "cell_type": "code",
   "execution_count": 89,
   "metadata": {
    "scrolled": false
   },
   "outputs": [
    {
     "data": {
      "text/plain": [
       "DRIVER                 583110\n",
       "NON-CONTACT VEHICLE        38\n",
       "Name: PERSON_TYPE, dtype: int64"
      ]
     },
     "execution_count": 89,
     "metadata": {},
     "output_type": "execute_result"
    }
   ],
   "source": [
    "people.PERSON_TYPE.value_counts()"
   ]
  },
  {
   "cell_type": "code",
   "execution_count": 90,
   "metadata": {},
   "outputs": [
    {
     "data": {
      "text/plain": [
       " 25.0     17282\n",
       " 27.0     17243\n",
       " 26.0     17138\n",
       " 28.0     16764\n",
       " 24.0     16425\n",
       "          ...  \n",
       " 108.0        2\n",
       "-1.0          1\n",
       "-49.0         1\n",
       " 107.0        1\n",
       "-47.0         1\n",
       "Name: AGE, Length: 111, dtype: int64"
      ]
     },
     "execution_count": 90,
     "metadata": {},
     "output_type": "execute_result"
    }
   ],
   "source": [
    "people.AGE.value_counts()"
   ]
  },
  {
   "cell_type": "markdown",
   "metadata": {},
   "source": [
    "**We notice negative ages and ages over 100, so since that must be an entry mistake we try to fix as much as possible**\n",
    "- We also want to bin the values a little\n"
   ]
  },
  {
   "cell_type": "code",
   "execution_count": 91,
   "metadata": {
    "scrolled": true
   },
   "outputs": [
    {
     "data": {
      "text/plain": [
       "40.14334439970642"
      ]
     },
     "execution_count": 91,
     "metadata": {},
     "output_type": "execute_result"
    }
   ],
   "source": [
    "people.AGE.mean()"
   ]
  },
  {
   "cell_type": "code",
   "execution_count": 92,
   "metadata": {},
   "outputs": [],
   "source": [
    "people['AGE'] = np.where(people['AGE']>100, 40, people['AGE'])"
   ]
  },
  {
   "cell_type": "code",
   "execution_count": 93,
   "metadata": {},
   "outputs": [],
   "source": [
    "people['AGE'] = np.where(people['AGE']<0, 40, people['AGE'])"
   ]
  },
  {
   "cell_type": "markdown",
   "metadata": {},
   "source": [
    "- Now we do some binning:"
   ]
  },
  {
   "cell_type": "code",
   "execution_count": 94,
   "metadata": {},
   "outputs": [],
   "source": [
    "people['AGE'] = pd.cut(people['AGE'], [0, 15, 20, 25, 30, 35, 40, 45, 50, 55, 60, 65, 70, 75, 80],\n",
    "                                    precision=0, labels=[0, 1, 2, 3, 4, 5, 6, 7, 8, 9, 10, 11, 12, 13])"
   ]
  },
  {
   "cell_type": "code",
   "execution_count": 95,
   "metadata": {
    "scrolled": true
   },
   "outputs": [
    {
     "data": {
      "text/plain": [
       "3     82853\n",
       "2     74551\n",
       "4     69578\n",
       "5     60863\n",
       "6     52421\n",
       "7     49951\n",
       "8     45385\n",
       "9     39745\n",
       "1     31148\n",
       "10    29674\n",
       "11    18931\n",
       "12    10800\n",
       "13     6255\n",
       "0       571\n",
       "Name: AGE, dtype: int64"
      ]
     },
     "execution_count": 95,
     "metadata": {},
     "output_type": "execute_result"
    }
   ],
   "source": [
    "# We decide to bin under 15 since it is interesting to bin all under of age 16 together\n",
    "people.AGE.value_counts()"
   ]
  },
  {
   "cell_type": "markdown",
   "metadata": {},
   "source": [
    "> We decide to not do anymore binning here because the subject it's either too subjective or needed some more detailed information"
   ]
  },
  {
   "cell_type": "markdown",
   "metadata": {},
   "source": [
    "# Vehicles Data Set"
   ]
  },
  {
   "cell_type": "markdown",
   "metadata": {},
   "source": [
    "**SEAT_NO**\n",
    "- Code for seating position of motor vehicle occupant: 1= driver, 2= center front, 3 = front passenger, 4 = second row left, 5 = second row center, 6 = second row right, 7 = enclosed passengers, 8 = exposed passengers, 9= unknown position, 10 = third row left, 11 = third row center, 12 = third row right"
   ]
  },
  {
   "cell_type": "code",
   "execution_count": 96,
   "metadata": {},
   "outputs": [
    {
     "name": "stdout",
     "output_type": "stream",
     "text": [
      "Dataset shape is:  (988131, 72)\n",
      "Dataset size is:  71145432\n",
      "Dataset columns are:  Index(['CRASH_UNIT_ID', 'CRASH_RECORD_ID', 'RD_NO', 'CRASH_DATE', 'UNIT_NO',\n",
      "       'UNIT_TYPE', 'NUM_PASSENGERS', 'VEHICLE_ID', 'CMRC_VEH_I', 'MAKE',\n",
      "       'MODEL', 'LIC_PLATE_STATE', 'VEHICLE_YEAR', 'VEHICLE_DEFECT',\n",
      "       'VEHICLE_TYPE', 'VEHICLE_USE', 'TRAVEL_DIRECTION', 'MANEUVER',\n",
      "       'TOWED_I', 'FIRE_I', 'OCCUPANT_CNT', 'EXCEED_SPEED_LIMIT_I', 'TOWED_BY',\n",
      "       'TOWED_TO', 'AREA_00_I', 'AREA_01_I', 'AREA_02_I', 'AREA_03_I',\n",
      "       'AREA_04_I', 'AREA_05_I', 'AREA_06_I', 'AREA_07_I', 'AREA_08_I',\n",
      "       'AREA_09_I', 'AREA_10_I', 'AREA_11_I', 'AREA_12_I', 'AREA_99_I',\n",
      "       'FIRST_CONTACT_POINT', 'CMV_ID', 'USDOT_NO', 'CCMC_NO', 'ILCC_NO',\n",
      "       'COMMERCIAL_SRC', 'GVWR', 'CARRIER_NAME', 'CARRIER_STATE',\n",
      "       'CARRIER_CITY', 'HAZMAT_PLACARDS_I', 'HAZMAT_NAME', 'UN_NO',\n",
      "       'HAZMAT_PRESENT_I', 'HAZMAT_REPORT_I', 'HAZMAT_REPORT_NO',\n",
      "       'MCS_REPORT_I', 'MCS_REPORT_NO', 'HAZMAT_VIO_CAUSE_CRASH_I',\n",
      "       'MCS_VIO_CAUSE_CRASH_I', 'IDOT_PERMIT_NO', 'WIDE_LOAD_I',\n",
      "       'TRAILER1_WIDTH', 'TRAILER2_WIDTH', 'TRAILER1_LENGTH',\n",
      "       'TRAILER2_LENGTH', 'TOTAL_VEHICLE_LENGTH', 'AXLE_CNT', 'VEHICLE_CONFIG',\n",
      "       'CARGO_BODY_TYPE', 'LOAD_TYPE', 'HAZMAT_OUT_OF_SERVICE_I',\n",
      "       'MCS_OUT_OF_SERVICE_I', 'HAZMAT_CLASS'],\n",
      "      dtype='object')\n",
      "<class 'pandas.core.frame.DataFrame'>\n",
      "RangeIndex: 988131 entries, 0 to 988130\n",
      "Data columns (total 72 columns):\n",
      " #   Column                    Non-Null Count   Dtype  \n",
      "---  ------                    --------------   -----  \n",
      " 0   CRASH_UNIT_ID             988131 non-null  int64  \n",
      " 1   CRASH_RECORD_ID           988131 non-null  object \n",
      " 2   RD_NO                     981034 non-null  object \n",
      " 3   CRASH_DATE                988131 non-null  object \n",
      " 4   UNIT_NO                   988131 non-null  int64  \n",
      " 5   UNIT_TYPE                 986643 non-null  object \n",
      " 6   NUM_PASSENGERS            147880 non-null  float64\n",
      " 7   VEHICLE_ID                965360 non-null  float64\n",
      " 8   CMRC_VEH_I                18423 non-null   object \n",
      " 9   MAKE                      965355 non-null  object \n",
      " 10  MODEL                     965213 non-null  object \n",
      " 11  LIC_PLATE_STATE           883301 non-null  object \n",
      " 12  VEHICLE_YEAR              809013 non-null  float64\n",
      " 13  VEHICLE_DEFECT            965360 non-null  object \n",
      " 14  VEHICLE_TYPE              965360 non-null  object \n",
      " 15  VEHICLE_USE               965360 non-null  object \n",
      " 16  TRAVEL_DIRECTION          965360 non-null  object \n",
      " 17  MANEUVER                  965360 non-null  object \n",
      " 18  TOWED_I                   111278 non-null  object \n",
      " 19  FIRE_I                    715 non-null     object \n",
      " 20  OCCUPANT_CNT              965360 non-null  float64\n",
      " 21  EXCEED_SPEED_LIMIT_I      2388 non-null    object \n",
      " 22  TOWED_BY                  81265 non-null   object \n",
      " 23  TOWED_TO                  50930 non-null   object \n",
      " 24  AREA_00_I                 38552 non-null   object \n",
      " 25  AREA_01_I                 255987 non-null  object \n",
      " 26  AREA_02_I                 168961 non-null  object \n",
      " 27  AREA_03_I                 93525 non-null   object \n",
      " 28  AREA_04_I                 98615 non-null   object \n",
      " 29  AREA_05_I                 150016 non-null  object \n",
      " 30  AREA_06_I                 148327 non-null  object \n",
      " 31  AREA_07_I                 127221 non-null  object \n",
      " 32  AREA_08_I                 166536 non-null  object \n",
      " 33  AREA_09_I                 40118 non-null   object \n",
      " 34  AREA_10_I                 58113 non-null   object \n",
      " 35  AREA_11_I                 116011 non-null  object \n",
      " 36  AREA_12_I                 114258 non-null  object \n",
      " 37  AREA_99_I                 103856 non-null  object \n",
      " 38  FIRST_CONTACT_POINT       958954 non-null  object \n",
      " 39  CMV_ID                    10521 non-null   float64\n",
      " 40  USDOT_NO                  6130 non-null    object \n",
      " 41  CCMC_NO                   1376 non-null    object \n",
      " 42  ILCC_NO                   994 non-null     object \n",
      " 43  COMMERCIAL_SRC            7524 non-null    object \n",
      " 44  GVWR                      6113 non-null    object \n",
      " 45  CARRIER_NAME              10086 non-null   object \n",
      " 46  CARRIER_STATE             9534 non-null    object \n",
      " 47  CARRIER_CITY              9367 non-null    object \n",
      " 48  HAZMAT_PLACARDS_I         214 non-null     object \n",
      " 49  HAZMAT_NAME               39 non-null      object \n",
      " 50  UN_NO                     387 non-null     object \n",
      " 51  HAZMAT_PRESENT_I          7767 non-null    object \n",
      " 52  HAZMAT_REPORT_I           7526 non-null    object \n",
      " 53  HAZMAT_REPORT_NO          1 non-null       object \n",
      " 54  MCS_REPORT_I              7578 non-null    object \n",
      " 55  MCS_REPORT_NO             5 non-null       object \n",
      " 56  HAZMAT_VIO_CAUSE_CRASH_I  7646 non-null    object \n",
      " 57  MCS_VIO_CAUSE_CRASH_I     7517 non-null    object \n",
      " 58  IDOT_PERMIT_NO            627 non-null     object \n",
      " 59  WIDE_LOAD_I               90 non-null      object \n",
      " 60  TRAILER1_WIDTH            2156 non-null    object \n",
      " 61  TRAILER2_WIDTH            241 non-null     object \n",
      " 62  TRAILER1_LENGTH           1763 non-null    float64\n",
      " 63  TRAILER2_LENGTH           47 non-null      float64\n",
      " 64  TOTAL_VEHICLE_LENGTH      2131 non-null    float64\n",
      " 65  AXLE_CNT                  3062 non-null    float64\n",
      " 66  VEHICLE_CONFIG            8764 non-null    object \n",
      " 67  CARGO_BODY_TYPE           8388 non-null    object \n",
      " 68  LOAD_TYPE                 8032 non-null    object \n",
      " 69  HAZMAT_OUT_OF_SERVICE_I   7311 non-null    object \n",
      " 70  MCS_OUT_OF_SERVICE_I      7509 non-null    object \n",
      " 71  HAZMAT_CLASS              719 non-null     object \n",
      "dtypes: float64(9), int64(2), object(61)\n",
      "memory usage: 542.8+ MB\n",
      "Dataset info is:  None\n",
      "Categorical variables are:\n",
      "  ['CRASH_RECORD_ID', 'RD_NO', 'CRASH_DATE', 'UNIT_TYPE', 'CMRC_VEH_I', 'MAKE', 'MODEL', 'LIC_PLATE_STATE', 'VEHICLE_DEFECT', 'VEHICLE_TYPE', 'VEHICLE_USE', 'TRAVEL_DIRECTION', 'MANEUVER', 'TOWED_I', 'FIRE_I', 'EXCEED_SPEED_LIMIT_I', 'TOWED_BY', 'TOWED_TO', 'AREA_00_I', 'AREA_01_I', 'AREA_02_I', 'AREA_03_I', 'AREA_04_I', 'AREA_05_I', 'AREA_06_I', 'AREA_07_I', 'AREA_08_I', 'AREA_09_I', 'AREA_10_I', 'AREA_11_I', 'AREA_12_I', 'AREA_99_I', 'FIRST_CONTACT_POINT', 'USDOT_NO', 'CCMC_NO', 'ILCC_NO', 'COMMERCIAL_SRC', 'GVWR', 'CARRIER_NAME', 'CARRIER_STATE', 'CARRIER_CITY', 'HAZMAT_PLACARDS_I', 'HAZMAT_NAME', 'UN_NO', 'HAZMAT_PRESENT_I', 'HAZMAT_REPORT_I', 'HAZMAT_REPORT_NO', 'MCS_REPORT_I', 'MCS_REPORT_NO', 'HAZMAT_VIO_CAUSE_CRASH_I', 'MCS_VIO_CAUSE_CRASH_I', 'IDOT_PERMIT_NO', 'WIDE_LOAD_I', 'TRAILER1_WIDTH', 'TRAILER2_WIDTH', 'VEHICLE_CONFIG', 'CARGO_BODY_TYPE', 'LOAD_TYPE', 'HAZMAT_OUT_OF_SERVICE_I', 'MCS_OUT_OF_SERVICE_I', 'HAZMAT_CLASS']\n",
      "Numerical variables are:\n",
      "  ['CRASH_UNIT_ID', 'UNIT_NO', 'NUM_PASSENGERS', 'VEHICLE_ID', 'VEHICLE_YEAR', 'OCCUPANT_CNT', 'CMV_ID', 'TRAILER1_LENGTH', 'TRAILER2_LENGTH', 'TOTAL_VEHICLE_LENGTH', 'AXLE_CNT']\n"
     ]
    },
    {
     "data": {
      "text/plain": [
       "(['CRASH_RECORD_ID',\n",
       "  'RD_NO',\n",
       "  'CRASH_DATE',\n",
       "  'UNIT_TYPE',\n",
       "  'CMRC_VEH_I',\n",
       "  'MAKE',\n",
       "  'MODEL',\n",
       "  'LIC_PLATE_STATE',\n",
       "  'VEHICLE_DEFECT',\n",
       "  'VEHICLE_TYPE',\n",
       "  'VEHICLE_USE',\n",
       "  'TRAVEL_DIRECTION',\n",
       "  'MANEUVER',\n",
       "  'TOWED_I',\n",
       "  'FIRE_I',\n",
       "  'EXCEED_SPEED_LIMIT_I',\n",
       "  'TOWED_BY',\n",
       "  'TOWED_TO',\n",
       "  'AREA_00_I',\n",
       "  'AREA_01_I',\n",
       "  'AREA_02_I',\n",
       "  'AREA_03_I',\n",
       "  'AREA_04_I',\n",
       "  'AREA_05_I',\n",
       "  'AREA_06_I',\n",
       "  'AREA_07_I',\n",
       "  'AREA_08_I',\n",
       "  'AREA_09_I',\n",
       "  'AREA_10_I',\n",
       "  'AREA_11_I',\n",
       "  'AREA_12_I',\n",
       "  'AREA_99_I',\n",
       "  'FIRST_CONTACT_POINT',\n",
       "  'USDOT_NO',\n",
       "  'CCMC_NO',\n",
       "  'ILCC_NO',\n",
       "  'COMMERCIAL_SRC',\n",
       "  'GVWR',\n",
       "  'CARRIER_NAME',\n",
       "  'CARRIER_STATE',\n",
       "  'CARRIER_CITY',\n",
       "  'HAZMAT_PLACARDS_I',\n",
       "  'HAZMAT_NAME',\n",
       "  'UN_NO',\n",
       "  'HAZMAT_PRESENT_I',\n",
       "  'HAZMAT_REPORT_I',\n",
       "  'HAZMAT_REPORT_NO',\n",
       "  'MCS_REPORT_I',\n",
       "  'MCS_REPORT_NO',\n",
       "  'HAZMAT_VIO_CAUSE_CRASH_I',\n",
       "  'MCS_VIO_CAUSE_CRASH_I',\n",
       "  'IDOT_PERMIT_NO',\n",
       "  'WIDE_LOAD_I',\n",
       "  'TRAILER1_WIDTH',\n",
       "  'TRAILER2_WIDTH',\n",
       "  'VEHICLE_CONFIG',\n",
       "  'CARGO_BODY_TYPE',\n",
       "  'LOAD_TYPE',\n",
       "  'HAZMAT_OUT_OF_SERVICE_I',\n",
       "  'MCS_OUT_OF_SERVICE_I',\n",
       "  'HAZMAT_CLASS'],\n",
       " ['CRASH_UNIT_ID',\n",
       "  'UNIT_NO',\n",
       "  'NUM_PASSENGERS',\n",
       "  'VEHICLE_ID',\n",
       "  'VEHICLE_YEAR',\n",
       "  'OCCUPANT_CNT',\n",
       "  'CMV_ID',\n",
       "  'TRAILER1_LENGTH',\n",
       "  'TRAILER2_LENGTH',\n",
       "  'TOTAL_VEHICLE_LENGTH',\n",
       "  'AXLE_CNT'])"
      ]
     },
     "execution_count": 96,
     "metadata": {},
     "output_type": "execute_result"
    }
   ],
   "source": [
    "basic_info(vehicles)"
   ]
  },
  {
   "cell_type": "code",
   "execution_count": 97,
   "metadata": {},
   "outputs": [
    {
     "data": {
      "text/plain": [
       "(988131, 72)"
      ]
     },
     "execution_count": 97,
     "metadata": {},
     "output_type": "execute_result"
    }
   ],
   "source": [
    "vehicles.shape"
   ]
  },
  {
   "cell_type": "code",
   "execution_count": 98,
   "metadata": {
    "scrolled": true
   },
   "outputs": [
    {
     "name": "stdout",
     "output_type": "stream",
     "text": [
      "0\n"
     ]
    }
   ],
   "source": [
    "howmanyduplicates(vehicles)"
   ]
  },
  {
   "cell_type": "code",
   "execution_count": 99,
   "metadata": {
    "scrolled": true
   },
   "outputs": [
    {
     "name": "stdout",
     "output_type": "stream",
     "text": [
      "Row: RD_NO : is made 0.007% of NaN Values.\n",
      "Row: UNIT_TYPE : is made 0.002% of NaN Values.\n",
      "Row: NUM_PASSENGERS : is made 0.85% of NaN Values.\n",
      "Row: VEHICLE_ID : is made 0.023% of NaN Values.\n",
      "Row: CMRC_VEH_I : is made 0.981% of NaN Values.\n",
      "Row: MAKE : is made 0.023% of NaN Values.\n",
      "Row: MODEL : is made 0.023% of NaN Values.\n",
      "Row: LIC_PLATE_STATE : is made 0.106% of NaN Values.\n",
      "Row: VEHICLE_YEAR : is made 0.181% of NaN Values.\n",
      "Row: VEHICLE_DEFECT : is made 0.023% of NaN Values.\n",
      "Row: VEHICLE_TYPE : is made 0.023% of NaN Values.\n",
      "Row: VEHICLE_USE : is made 0.023% of NaN Values.\n",
      "Row: TRAVEL_DIRECTION : is made 0.023% of NaN Values.\n",
      "Row: MANEUVER : is made 0.023% of NaN Values.\n",
      "Row: TOWED_I : is made 0.887% of NaN Values.\n",
      "Row: FIRE_I : is made 0.999% of NaN Values.\n",
      "Row: OCCUPANT_CNT : is made 0.023% of NaN Values.\n",
      "Row: EXCEED_SPEED_LIMIT_I : is made 0.998% of NaN Values.\n",
      "Row: TOWED_BY : is made 0.918% of NaN Values.\n",
      "Row: TOWED_TO : is made 0.948% of NaN Values.\n",
      "Row: AREA_00_I : is made 0.961% of NaN Values.\n",
      "Row: AREA_01_I : is made 0.741% of NaN Values.\n",
      "Row: AREA_02_I : is made 0.829% of NaN Values.\n",
      "Row: AREA_03_I : is made 0.905% of NaN Values.\n",
      "Row: AREA_04_I : is made 0.9% of NaN Values.\n",
      "Row: AREA_05_I : is made 0.848% of NaN Values.\n",
      "Row: AREA_06_I : is made 0.85% of NaN Values.\n",
      "Row: AREA_07_I : is made 0.871% of NaN Values.\n",
      "Row: AREA_08_I : is made 0.831% of NaN Values.\n",
      "Row: AREA_09_I : is made 0.959% of NaN Values.\n",
      "Row: AREA_10_I : is made 0.941% of NaN Values.\n",
      "Row: AREA_11_I : is made 0.883% of NaN Values.\n",
      "Row: AREA_12_I : is made 0.884% of NaN Values.\n",
      "Row: AREA_99_I : is made 0.895% of NaN Values.\n",
      "Row: FIRST_CONTACT_POINT : is made 0.03% of NaN Values.\n",
      "Row: CMV_ID : is made 0.989% of NaN Values.\n",
      "Row: USDOT_NO : is made 0.994% of NaN Values.\n",
      "Row: CCMC_NO : is made 0.999% of NaN Values.\n",
      "Row: ILCC_NO : is made 0.999% of NaN Values.\n",
      "Row: COMMERCIAL_SRC : is made 0.992% of NaN Values.\n",
      "Row: GVWR : is made 0.994% of NaN Values.\n",
      "Row: CARRIER_NAME : is made 0.99% of NaN Values.\n",
      "Row: CARRIER_STATE : is made 0.99% of NaN Values.\n",
      "Row: CARRIER_CITY : is made 0.991% of NaN Values.\n",
      "Row: HAZMAT_PLACARDS_I : is made 1.0% of NaN Values.\n",
      "Row: HAZMAT_NAME : is made 1.0% of NaN Values.\n",
      "Row: UN_NO : is made 1.0% of NaN Values.\n",
      "Row: HAZMAT_PRESENT_I : is made 0.992% of NaN Values.\n",
      "Row: HAZMAT_REPORT_I : is made 0.992% of NaN Values.\n",
      "Row: HAZMAT_REPORT_NO : is made 1.0% of NaN Values.\n",
      "Row: MCS_REPORT_I : is made 0.992% of NaN Values.\n",
      "Row: MCS_REPORT_NO : is made 1.0% of NaN Values.\n",
      "Row: HAZMAT_VIO_CAUSE_CRASH_I : is made 0.992% of NaN Values.\n",
      "Row: MCS_VIO_CAUSE_CRASH_I : is made 0.992% of NaN Values.\n",
      "Row: IDOT_PERMIT_NO : is made 0.999% of NaN Values.\n",
      "Row: WIDE_LOAD_I : is made 1.0% of NaN Values.\n",
      "Row: TRAILER1_WIDTH : is made 0.998% of NaN Values.\n",
      "Row: TRAILER2_WIDTH : is made 1.0% of NaN Values.\n",
      "Row: TRAILER1_LENGTH : is made 0.998% of NaN Values.\n",
      "Row: TRAILER2_LENGTH : is made 1.0% of NaN Values.\n",
      "Row: TOTAL_VEHICLE_LENGTH : is made 0.998% of NaN Values.\n",
      "Row: AXLE_CNT : is made 0.997% of NaN Values.\n",
      "Row: VEHICLE_CONFIG : is made 0.991% of NaN Values.\n",
      "Row: CARGO_BODY_TYPE : is made 0.992% of NaN Values.\n",
      "Row: LOAD_TYPE : is made 0.992% of NaN Values.\n",
      "Row: HAZMAT_OUT_OF_SERVICE_I : is made 0.993% of NaN Values.\n",
      "Row: MCS_OUT_OF_SERVICE_I : is made 0.992% of NaN Values.\n",
      "Row: HAZMAT_CLASS : is made 0.999% of NaN Values.\n",
      "\n",
      "['NUM_PASSENGERS', 'CMRC_VEH_I', 'TOWED_I', 'FIRE_I', 'EXCEED_SPEED_LIMIT_I', 'TOWED_BY', 'TOWED_TO', 'AREA_00_I', 'AREA_01_I', 'AREA_02_I', 'AREA_03_I', 'AREA_04_I', 'AREA_05_I', 'AREA_06_I', 'AREA_07_I', 'AREA_08_I', 'AREA_09_I', 'AREA_10_I', 'AREA_11_I', 'AREA_12_I', 'AREA_99_I', 'CMV_ID', 'USDOT_NO', 'CCMC_NO', 'ILCC_NO', 'COMMERCIAL_SRC', 'GVWR', 'CARRIER_NAME', 'CARRIER_STATE', 'CARRIER_CITY', 'HAZMAT_PLACARDS_I', 'HAZMAT_NAME', 'UN_NO', 'HAZMAT_PRESENT_I', 'HAZMAT_REPORT_I', 'HAZMAT_REPORT_NO', 'MCS_REPORT_I', 'MCS_REPORT_NO', 'HAZMAT_VIO_CAUSE_CRASH_I', 'MCS_VIO_CAUSE_CRASH_I', 'IDOT_PERMIT_NO', 'WIDE_LOAD_I', 'TRAILER1_WIDTH', 'TRAILER2_WIDTH', 'TRAILER1_LENGTH', 'TRAILER2_LENGTH', 'TOTAL_VEHICLE_LENGTH', 'AXLE_CNT', 'VEHICLE_CONFIG', 'CARGO_BODY_TYPE', 'LOAD_TYPE', 'HAZMAT_OUT_OF_SERVICE_I', 'MCS_OUT_OF_SERVICE_I', 'HAZMAT_CLASS']\n"
     ]
    }
   ],
   "source": [
    "columns_w_nan(vehicles)"
   ]
  },
  {
   "cell_type": "code",
   "execution_count": 100,
   "metadata": {},
   "outputs": [],
   "source": [
    "vehicles = vehicles.drop(columns=['NUM_PASSENGERS', 'CMRC_VEH_I', 'TOWED_I', 'FIRE_I', 'EXCEED_SPEED_LIMIT_I', \n",
    "                                  'TOWED_BY', 'TOWED_TO', 'AREA_00_I', 'AREA_01_I', 'AREA_02_I', 'AREA_03_I', \n",
    "                                  'AREA_04_I', 'AREA_05_I', 'AREA_06_I', 'AREA_07_I', 'AREA_08_I', 'AREA_09_I', \n",
    "                                  'AREA_10_I', 'AREA_11_I', 'AREA_12_I', 'AREA_99_I', 'CMV_ID', 'USDOT_NO', 'CCMC_NO', \n",
    "                                  'ILCC_NO', 'COMMERCIAL_SRC', 'GVWR', 'CARRIER_NAME', 'CARRIER_STATE', 'CARRIER_CITY',\n",
    "                                  'HAZMAT_PLACARDS_I', 'HAZMAT_NAME', 'UN_NO', 'HAZMAT_PRESENT_I', 'HAZMAT_REPORT_I',\n",
    "                                  'HAZMAT_REPORT_NO', 'MCS_REPORT_I', 'MCS_REPORT_NO', 'HAZMAT_VIO_CAUSE_CRASH_I',\n",
    "                                  'MCS_VIO_CAUSE_CRASH_I', 'IDOT_PERMIT_NO', 'WIDE_LOAD_I', 'TRAILER1_WIDTH',\n",
    "                                  'TRAILER2_WIDTH', 'TRAILER1_LENGTH', 'TRAILER2_LENGTH', 'TOTAL_VEHICLE_LENGTH',\n",
    "                                  'AXLE_CNT', 'VEHICLE_CONFIG', 'CARGO_BODY_TYPE', 'LOAD_TYPE', 'HAZMAT_OUT_OF_SERVICE_I',\n",
    "                                  'MCS_OUT_OF_SERVICE_I', 'HAZMAT_CLASS', 'LIC_PLATE_STATE'])"
   ]
  },
  {
   "cell_type": "code",
   "execution_count": 101,
   "metadata": {},
   "outputs": [],
   "source": [
    "vehicles.dropna(inplace=True)"
   ]
  },
  {
   "cell_type": "code",
   "execution_count": 102,
   "metadata": {
    "scrolled": true
   },
   "outputs": [
    {
     "data": {
      "text/plain": [
       "0"
      ]
     },
     "execution_count": 102,
     "metadata": {},
     "output_type": "execute_result"
    }
   ],
   "source": [
    "vehicles.isna().sum().sum()"
   ]
  },
  {
   "cell_type": "code",
   "execution_count": 103,
   "metadata": {
    "scrolled": true
   },
   "outputs": [
    {
     "name": "stdout",
     "output_type": "stream",
     "text": [
      "[1, 16, 16, 35, 15, 5, 1, 140, 498, 70, 16, 22, 25, 9, 28, 24, 14]\n",
      "\n",
      "['CRASH_UNIT_ID', 'CRASH_RECORD_ID', 'RD_NO', 'CRASH_DATE', 'UNIT_NO', 'UNIT_TYPE', 'VEHICLE_ID', 'MAKE', 'MODEL', 'VEHICLE_YEAR', 'VEHICLE_DEFECT', 'VEHICLE_TYPE', 'VEHICLE_USE', 'TRAVEL_DIRECTION', 'MANEUVER', 'OCCUPANT_CNT', 'FIRST_CONTACT_POINT']\n"
     ]
    }
   ],
   "source": [
    "howmanyunique(vehicles)"
   ]
  },
  {
   "cell_type": "markdown",
   "metadata": {},
   "source": [
    "We have to pay attention to some columns that we might want to drop later when treating the final dataframe"
   ]
  },
  {
   "cell_type": "code",
   "execution_count": 104,
   "metadata": {},
   "outputs": [],
   "source": [
    "maker_and_count = dict(zip(list(vehicles.MAKE.value_counts().index),list(vehicles.MAKE.value_counts())))"
   ]
  },
  {
   "cell_type": "code",
   "execution_count": 105,
   "metadata": {
    "scrolled": false
   },
   "outputs": [],
   "source": [
    "temp_vehicles = pd.DataFrame.from_dict(data=maker_and_count, orient='index', columns=['COUNT'])"
   ]
  },
  {
   "cell_type": "code",
   "execution_count": 106,
   "metadata": {},
   "outputs": [],
   "source": [
    "temp_vehicles.reset_index(level=None, inplace=True)"
   ]
  },
  {
   "cell_type": "code",
   "execution_count": 107,
   "metadata": {},
   "outputs": [],
   "source": [
    "temp_vehicles.columns = ['MAKE', 'COUNT']"
   ]
  },
  {
   "cell_type": "code",
   "execution_count": 108,
   "metadata": {
    "scrolled": false
   },
   "outputs": [
    {
     "data": {
      "text/html": [
       "<div>\n",
       "<style scoped>\n",
       "    .dataframe tbody tr th:only-of-type {\n",
       "        vertical-align: middle;\n",
       "    }\n",
       "\n",
       "    .dataframe tbody tr th {\n",
       "        vertical-align: top;\n",
       "    }\n",
       "\n",
       "    .dataframe thead th {\n",
       "        text-align: right;\n",
       "    }\n",
       "</style>\n",
       "<table border=\"1\" class=\"dataframe\">\n",
       "  <thead>\n",
       "    <tr style=\"text-align: right;\">\n",
       "      <th></th>\n",
       "      <th>MAKE</th>\n",
       "      <th>COUNT</th>\n",
       "    </tr>\n",
       "  </thead>\n",
       "  <tbody>\n",
       "    <tr>\n",
       "      <th>0</th>\n",
       "      <td>CHEVROLET</td>\n",
       "      <td>103013</td>\n",
       "    </tr>\n",
       "    <tr>\n",
       "      <th>1</th>\n",
       "      <td>FORD</td>\n",
       "      <td>86881</td>\n",
       "    </tr>\n",
       "    <tr>\n",
       "      <th>2</th>\n",
       "      <td>TOYOTA MOTOR COMPANY, LTD.</td>\n",
       "      <td>83343</td>\n",
       "    </tr>\n",
       "  </tbody>\n",
       "</table>\n",
       "</div>"
      ],
      "text/plain": [
       "                         MAKE   COUNT\n",
       "0                   CHEVROLET  103013\n",
       "1                        FORD   86881\n",
       "2  TOYOTA MOTOR COMPANY, LTD.   83343"
      ]
     },
     "execution_count": 108,
     "metadata": {},
     "output_type": "execute_result"
    }
   ],
   "source": [
    "temp_vehicles.head(3)"
   ]
  },
  {
   "cell_type": "markdown",
   "metadata": {},
   "source": [
    "**We see that some brands only appear once, which probably is a mistake on the entry judging by the size of the dataset**\n",
    "- So we decide to set as a threshhold \"Makers\" that appear at least 10 times"
   ]
  },
  {
   "cell_type": "code",
   "execution_count": 109,
   "metadata": {},
   "outputs": [],
   "source": [
    "temp_vehicles= temp_vehicles.sort_values(by=['COUNT'], ascending=True)"
   ]
  },
  {
   "cell_type": "code",
   "execution_count": 110,
   "metadata": {},
   "outputs": [],
   "source": [
    "temp_vehicles = temp_vehicles[712:]"
   ]
  },
  {
   "cell_type": "code",
   "execution_count": 111,
   "metadata": {
    "scrolled": false
   },
   "outputs": [
    {
     "data": {
      "text/html": [
       "<div>\n",
       "<style scoped>\n",
       "    .dataframe tbody tr th:only-of-type {\n",
       "        vertical-align: middle;\n",
       "    }\n",
       "\n",
       "    .dataframe tbody tr th {\n",
       "        vertical-align: top;\n",
       "    }\n",
       "\n",
       "    .dataframe thead th {\n",
       "        text-align: right;\n",
       "    }\n",
       "</style>\n",
       "<table border=\"1\" class=\"dataframe\">\n",
       "  <thead>\n",
       "    <tr style=\"text-align: right;\">\n",
       "      <th></th>\n",
       "      <th>MAKE</th>\n",
       "      <th>COUNT</th>\n",
       "    </tr>\n",
       "  </thead>\n",
       "  <tbody>\n",
       "    <tr>\n",
       "      <th>196</th>\n",
       "      <td>EAGLE</td>\n",
       "      <td>10</td>\n",
       "    </tr>\n",
       "    <tr>\n",
       "      <th>197</th>\n",
       "      <td>POLAR MFG. CO.</td>\n",
       "      <td>10</td>\n",
       "    </tr>\n",
       "    <tr>\n",
       "      <th>198</th>\n",
       "      <td>WABCO CONSTRUCTION &amp; MINING EQUIPMENT GROUP</td>\n",
       "      <td>10</td>\n",
       "    </tr>\n",
       "  </tbody>\n",
       "</table>\n",
       "</div>"
      ],
      "text/plain": [
       "                                            MAKE  COUNT\n",
       "196                                        EAGLE     10\n",
       "197                               POLAR MFG. CO.     10\n",
       "198  WABCO CONSTRUCTION & MINING EQUIPMENT GROUP     10"
      ]
     },
     "execution_count": 111,
     "metadata": {},
     "output_type": "execute_result"
    }
   ],
   "source": [
    "temp_vehicles.head(3)"
   ]
  },
  {
   "cell_type": "markdown",
   "metadata": {},
   "source": [
    "We are done for now with Exploratory Analysis"
   ]
  },
  {
   "cell_type": "markdown",
   "metadata": {},
   "source": [
    "### Let's work on the big dataset that we are going to use for modeling"
   ]
  },
  {
   "cell_type": "markdown",
   "metadata": {},
   "source": [
    "- **We call the function on the 3 cleaned datasets**"
   ]
  },
  {
   "cell_type": "code",
   "execution_count": 112,
   "metadata": {
    "scrolled": true
   },
   "outputs": [
    {
     "data": {
      "text/plain": [
       "(['CRASH_RECORD_ID'],\n",
       " ['CRASH_RECORD_ID', 'RD_NO', 'VEHICLE_ID', 'CRASH_DATE'],\n",
       " ['CRASH_RECORD_ID'])"
      ]
     },
     "execution_count": 112,
     "metadata": {},
     "output_type": "execute_result"
    }
   ],
   "source": [
    "columns_repeat(people, crashes, vehicles)"
   ]
  },
  {
   "cell_type": "code",
   "execution_count": 113,
   "metadata": {},
   "outputs": [],
   "source": [
    "# Since we only want ONE columns to be repeated, we drop the others that repeat, \n",
    "# otherwise we would have negative influence on our modeling\n",
    "vehicles = vehicles.drop(columns=['RD_NO', 'VEHICLE_ID', 'CRASH_DATE'])"
   ]
  },
  {
   "cell_type": "code",
   "execution_count": 114,
   "metadata": {
    "scrolled": true
   },
   "outputs": [
    {
     "data": {
      "text/plain": [
       "(['CRASH_RECORD_ID'], ['CRASH_RECORD_ID'], ['CRASH_RECORD_ID'])"
      ]
     },
     "execution_count": 114,
     "metadata": {},
     "output_type": "execute_result"
    }
   ],
   "source": [
    "# Now we verify if all the datasets have only ONE column in common\n",
    "columns_repeat(people, crashes, vehicles)"
   ]
  },
  {
   "cell_type": "code",
   "execution_count": 115,
   "metadata": {},
   "outputs": [
    {
     "data": {
      "text/plain": [
       "(764811, 49)"
      ]
     },
     "execution_count": 115,
     "metadata": {},
     "output_type": "execute_result"
    }
   ],
   "source": [
    "# Join the 3 datasets together\n",
    "inner_merged_total = pd.merge(vehicles, crashes, on=['CRASH_RECORD_ID'])\n",
    "inner_merged_total.shape"
   ]
  },
  {
   "cell_type": "code",
   "execution_count": 116,
   "metadata": {},
   "outputs": [
    {
     "data": {
      "text/plain": [
       "(1064886, 66)"
      ]
     },
     "execution_count": 116,
     "metadata": {},
     "output_type": "execute_result"
    }
   ],
   "source": [
    "inner_merged_total = pd.merge(inner_merged_total, people, on=['CRASH_RECORD_ID'])\n",
    "inner_merged_total.shape"
   ]
  },
  {
   "cell_type": "markdown",
   "metadata": {},
   "source": [
    "## We do some downsampling within the target"
   ]
  },
  {
   "cell_type": "code",
   "execution_count": 117,
   "metadata": {},
   "outputs": [],
   "source": [
    "df = inner_merged_total.sort_values(by=['MOST_SEVERE_INJURY'], ascending=False)"
   ]
  },
  {
   "cell_type": "code",
   "execution_count": 118,
   "metadata": {
    "scrolled": false
   },
   "outputs": [
    {
     "data": {
      "text/plain": [
       "NO INDICATION OF INJURY        895559\n",
       "NONINCAPACITATING INJURY       148016\n",
       "INCAPACITATING INJURY/FATAL     21311\n",
       "Name: MOST_SEVERE_INJURY, dtype: int64"
      ]
     },
     "execution_count": 118,
     "metadata": {},
     "output_type": "execute_result"
    }
   ],
   "source": [
    "df['MOST_SEVERE_INJURY'].value_counts()"
   ]
  },
  {
   "cell_type": "code",
   "execution_count": 119,
   "metadata": {
    "scrolled": true
   },
   "outputs": [
    {
     "data": {
      "text/plain": [
       "(1064886, 66)"
      ]
     },
     "execution_count": 119,
     "metadata": {},
     "output_type": "execute_result"
    }
   ],
   "source": [
    "# So we notice that we have to remove 126,705 from Nonincapacitating and 874,248 from NO INDICATION OF INJURY\n",
    "df.shape"
   ]
  },
  {
   "cell_type": "code",
   "execution_count": 120,
   "metadata": {},
   "outputs": [
    {
     "data": {
      "text/plain": [
       "453159    NONINCAPACITATING INJURY\n",
       "957423    NONINCAPACITATING INJURY\n",
       "128731    NONINCAPACITATING INJURY\n",
       "Name: MOST_SEVERE_INJURY, dtype: object"
      ]
     },
     "execution_count": 120,
     "metadata": {},
     "output_type": "execute_result"
    }
   ],
   "source": [
    "df['MOST_SEVERE_INJURY'].head(3)"
   ]
  },
  {
   "cell_type": "code",
   "execution_count": 121,
   "metadata": {},
   "outputs": [],
   "source": [
    "df = df[126705:]"
   ]
  },
  {
   "cell_type": "code",
   "execution_count": 122,
   "metadata": {},
   "outputs": [],
   "source": [
    "df['MOST_SEVERE_INJURY'] = np.where(df['MOST_SEVERE_INJURY']=='NO INDICATION OF INJURY',\n",
    "                                         'aNO INDICATION OF INJURY', df['MOST_SEVERE_INJURY'])"
   ]
  },
  {
   "cell_type": "code",
   "execution_count": 123,
   "metadata": {},
   "outputs": [
    {
     "data": {
      "text/plain": [
       "aNO INDICATION OF INJURY       895559\n",
       "NONINCAPACITATING INJURY        21311\n",
       "INCAPACITATING INJURY/FATAL     21311\n",
       "Name: MOST_SEVERE_INJURY, dtype: int64"
      ]
     },
     "execution_count": 123,
     "metadata": {},
     "output_type": "execute_result"
    }
   ],
   "source": [
    "df['MOST_SEVERE_INJURY'].value_counts()"
   ]
  },
  {
   "cell_type": "code",
   "execution_count": 124,
   "metadata": {},
   "outputs": [],
   "source": [
    "df = df.sort_values(by=['MOST_SEVERE_INJURY'], ascending=False)"
   ]
  },
  {
   "cell_type": "code",
   "execution_count": 125,
   "metadata": {},
   "outputs": [],
   "source": [
    "df = df[874248:]"
   ]
  },
  {
   "cell_type": "code",
   "execution_count": 126,
   "metadata": {},
   "outputs": [
    {
     "data": {
      "text/plain": [
       "aNO INDICATION OF INJURY       21311\n",
       "NONINCAPACITATING INJURY       21311\n",
       "INCAPACITATING INJURY/FATAL    21311\n",
       "Name: MOST_SEVERE_INJURY, dtype: int64"
      ]
     },
     "execution_count": 126,
     "metadata": {},
     "output_type": "execute_result"
    }
   ],
   "source": [
    "df['MOST_SEVERE_INJURY'].value_counts()"
   ]
  },
  {
   "cell_type": "code",
   "execution_count": 127,
   "metadata": {},
   "outputs": [],
   "source": [
    "df['MOST_SEVERE_INJURY'] = np.where(df['MOST_SEVERE_INJURY']=='aNO INDICATION OF INJURY',\n",
    "                                         'NO INDICATION OF INJURY', df['MOST_SEVERE_INJURY'])"
   ]
  },
  {
   "cell_type": "code",
   "execution_count": 128,
   "metadata": {
    "scrolled": false
   },
   "outputs": [
    {
     "data": {
      "text/plain": [
       "1188"
      ]
     },
     "execution_count": 128,
     "metadata": {},
     "output_type": "execute_result"
    }
   ],
   "source": [
    "df.isna().sum().sum()"
   ]
  },
  {
   "cell_type": "code",
   "execution_count": 129,
   "metadata": {},
   "outputs": [],
   "source": [
    "df_no_target = df.drop(columns=['MOST_SEVERE_INJURY'])"
   ]
  },
  {
   "cell_type": "code",
   "execution_count": 130,
   "metadata": {},
   "outputs": [
    {
     "data": {
      "text/plain": [
       "(63933, 65)"
      ]
     },
     "execution_count": 130,
     "metadata": {},
     "output_type": "execute_result"
    }
   ],
   "source": [
    "df_no_target.shape"
   ]
  },
  {
   "cell_type": "code",
   "execution_count": 131,
   "metadata": {
    "scrolled": true
   },
   "outputs": [
    {
     "name": "stdout",
     "output_type": "stream",
     "text": [
      "Unique Values: 36861 :  CRASH_UNIT_ID Column Name.\n",
      "Unique Values: 20210 :  CRASH_RECORD_ID Column Name.\n",
      "Unique Values: 10 :  UNIT_NO Column Name.\n",
      "Unique Values: 5 :  UNIT_TYPE Column Name.\n",
      "Unique Values: 222 :  MAKE Column Name.\n",
      "Unique Values: 1080 :  MODEL Column Name.\n",
      "Unique Values: 67 :  VEHICLE_YEAR Column Name.\n",
      "Unique Values: 13 :  VEHICLE_DEFECT Column Name.\n",
      "Unique Values: 21 :  VEHICLE_TYPE Column Name.\n",
      "Unique Values: 23 :  VEHICLE_USE Column Name.\n",
      "Unique Values: 9 :  TRAVEL_DIRECTION Column Name.\n",
      "Unique Values: 28 :  MANEUVER Column Name.\n",
      "Unique Values: 20 :  OCCUPANT_CNT Column Name.\n",
      "Unique Values: 14 :  FIRST_CONTACT_POINT Column Name.\n",
      "Unique Values: 9 :  POSTED_SPEED_LIMIT Column Name.\n",
      "Unique Values: 18 :  TRAFFIC_CONTROL_DEVICE Column Name.\n",
      "Unique Values: 8 :  DEVICE_CONDITION Column Name.\n",
      "Unique Values: 6 :  WEATHER_CONDITION Column Name.\n",
      "Unique Values: 6 :  LIGHTING_CONDITION Column Name.\n",
      "Unique Values: 18 :  FIRST_CRASH_TYPE Column Name.\n",
      "Unique Values: 20 :  TRAFFICWAY_TYPE Column Name.\n",
      "Unique Values: 6 :  ALIGNMENT Column Name.\n",
      "Unique Values: 7 :  ROADWAY_SURFACE_COND Column Name.\n",
      "Unique Values: 7 :  ROAD_DEFECT Column Name.\n",
      "Unique Values: 2 :  CRASH_TYPE Column Name.\n",
      "Unique Values: 3 :  DAMAGE Column Name.\n",
      "Unique Values: 18947 :  DATE_POLICE_NOTIFIED Column Name.\n",
      "Unique Values: 40 :  PRIM_CONTRIBUTORY_CAUSE Column Name.\n",
      "Unique Values: 40 :  SEC_CONTRIBUTORY_CAUSE Column Name.\n",
      "Unique Values: 5196 :  STREET_NO Column Name.\n",
      "Unique Values: 4 :  STREET_DIRECTION Column Name.\n",
      "Unique Values: 878 :  STREET_NAME Column Name.\n",
      "Unique Values: 271 :  BEAT_OF_OCCURRENCE Column Name.\n",
      "Unique Values: 10 :  NUM_UNITS Column Name.\n",
      "Unique Values: 17 :  INJURIES_TOTAL Column Name.\n",
      "Unique Values: 2 :  INJURIES_FATAL Column Name.\n",
      "Unique Values: 8 :  INJURIES_INCAPACITATING Column Name.\n",
      "Unique Values: 14 :  INJURIES_NON_INCAPACITATING Column Name.\n",
      "Unique Values: 13 :  INJURIES_REPORTED_NOT_EVIDENT Column Name.\n",
      "Unique Values: 20 :  INJURIES_NO_INDICATION Column Name.\n",
      "Unique Values: 1 :  INJURIES_UNKNOWN Column Name.\n",
      "Unique Values: 4 :  CRASH_HOUR Column Name.\n",
      "Unique Values: 7 :  CRASH_DAY_OF_WEEK Column Name.\n",
      "Unique Values: 12 :  CRASH_MONTH Column Name.\n",
      "Unique Values: 16841 :  LATITUDE Column Name.\n",
      "Unique Values: 16842 :  LONGITUDE Column Name.\n",
      "Unique Values: 18278 :  DATE_ACCIDENT Column Name.\n",
      "Unique Values: 2 :  IS_A_HOLIDAY Column Name.\n",
      "Unique Values: 31977 :  PERSON_ID Column Name.\n",
      "Unique Values: 2 :  PERSON_TYPE Column Name.\n",
      "Unique Values: 20210 :  RD_NO Column Name.\n",
      "Unique Values: 31977 :  VEHICLE_ID Column Name.\n",
      "Unique Values: 18281 :  CRASH_DATE Column Name.\n",
      "Unique Values: 1237 :  CITY Column Name.\n",
      "Unique Values: 48 :  STATE Column Name.\n",
      "Unique Values: 3 :  SEX Column Name.\n",
      "Unique Values: 14 :  AGE Column Name.\n",
      "Unique Values: 9 :  SAFETY_EQUIPMENT Column Name.\n",
      "Unique Values: 7 :  AIRBAG_DEPLOYED Column Name.\n",
      "Unique Values: 5 :  EJECTION Column Name.\n",
      "Unique Values: 5 :  INJURY_CLASSIFICATION Column Name.\n",
      "Unique Values: 19 :  DRIVER_ACTION Column Name.\n",
      "Unique Values: 14 :  DRIVER_VISION Column Name.\n",
      "Unique Values: 12 :  PHYSICAL_CONDITION Column Name.\n",
      "Unique Values: 4 :  BAC_RESULT Column Name.\n"
     ]
    }
   ],
   "source": [
    "delete_temp1 = []\n",
    "for x in df_no_target.columns:\n",
    "    print(\"Unique Values: {} :  {} Column Name.\".format(len(df_no_target[x].value_counts()), x))\n",
    "    if len(df_no_target[x].value_counts()) > 50:\n",
    "            delete_temp1.append(x)"
   ]
  },
  {
   "cell_type": "code",
   "execution_count": 132,
   "metadata": {
    "scrolled": true
   },
   "outputs": [],
   "source": [
    "df_no_target = df_no_target.drop(columns=delete_temp1)"
   ]
  },
  {
   "cell_type": "code",
   "execution_count": 133,
   "metadata": {},
   "outputs": [],
   "source": [
    "df_no_target = df_no_target.drop(columns='PERSON_TYPE')"
   ]
  },
  {
   "cell_type": "code",
   "execution_count": 134,
   "metadata": {},
   "outputs": [
    {
     "data": {
      "text/plain": [
       "Index(['UNIT_NO', 'UNIT_TYPE', 'VEHICLE_DEFECT', 'VEHICLE_TYPE', 'VEHICLE_USE',\n",
       "       'TRAVEL_DIRECTION', 'MANEUVER', 'OCCUPANT_CNT', 'FIRST_CONTACT_POINT',\n",
       "       'POSTED_SPEED_LIMIT', 'TRAFFIC_CONTROL_DEVICE', 'DEVICE_CONDITION',\n",
       "       'WEATHER_CONDITION', 'LIGHTING_CONDITION', 'FIRST_CRASH_TYPE',\n",
       "       'TRAFFICWAY_TYPE', 'ALIGNMENT', 'ROADWAY_SURFACE_COND', 'ROAD_DEFECT',\n",
       "       'CRASH_TYPE', 'DAMAGE', 'PRIM_CONTRIBUTORY_CAUSE',\n",
       "       'SEC_CONTRIBUTORY_CAUSE', 'STREET_DIRECTION', 'NUM_UNITS',\n",
       "       'INJURIES_TOTAL', 'INJURIES_FATAL', 'INJURIES_INCAPACITATING',\n",
       "       'INJURIES_NON_INCAPACITATING', 'INJURIES_REPORTED_NOT_EVIDENT',\n",
       "       'INJURIES_NO_INDICATION', 'INJURIES_UNKNOWN', 'CRASH_HOUR',\n",
       "       'CRASH_DAY_OF_WEEK', 'CRASH_MONTH', 'IS_A_HOLIDAY', 'STATE', 'SEX',\n",
       "       'AGE', 'SAFETY_EQUIPMENT', 'AIRBAG_DEPLOYED', 'EJECTION',\n",
       "       'INJURY_CLASSIFICATION', 'DRIVER_ACTION', 'DRIVER_VISION',\n",
       "       'PHYSICAL_CONDITION', 'BAC_RESULT'],\n",
       "      dtype='object')"
      ]
     },
     "execution_count": 134,
     "metadata": {},
     "output_type": "execute_result"
    }
   ],
   "source": [
    "df_no_target.columns"
   ]
  },
  {
   "cell_type": "code",
   "execution_count": 135,
   "metadata": {},
   "outputs": [],
   "source": [
    "# Here we drop anything with injury information so we don't leak information to the target\n",
    "df_no_target = df_no_target.drop(columns=['INJURIES_TOTAL', 'INJURIES_FATAL', 'INJURIES_INCAPACITATING',\n",
    "       'INJURIES_NON_INCAPACITATING', 'INJURIES_REPORTED_NOT_EVIDENT', 'INJURIES_NO_INDICATION',\n",
    "       'INJURIES_UNKNOWN', 'INJURY_CLASSIFICATION'])\n",
    "\n"
   ]
  },
  {
   "cell_type": "code",
   "execution_count": 136,
   "metadata": {
    "scrolled": true
   },
   "outputs": [
    {
     "name": "stdout",
     "output_type": "stream",
     "text": [
      "Dataset shape is:  (63933, 39)\n",
      "Dataset size is:  2493387\n",
      "Dataset columns are:  Index(['UNIT_NO', 'UNIT_TYPE', 'VEHICLE_DEFECT', 'VEHICLE_TYPE', 'VEHICLE_USE',\n",
      "       'TRAVEL_DIRECTION', 'MANEUVER', 'OCCUPANT_CNT', 'FIRST_CONTACT_POINT',\n",
      "       'POSTED_SPEED_LIMIT', 'TRAFFIC_CONTROL_DEVICE', 'DEVICE_CONDITION',\n",
      "       'WEATHER_CONDITION', 'LIGHTING_CONDITION', 'FIRST_CRASH_TYPE',\n",
      "       'TRAFFICWAY_TYPE', 'ALIGNMENT', 'ROADWAY_SURFACE_COND', 'ROAD_DEFECT',\n",
      "       'CRASH_TYPE', 'DAMAGE', 'PRIM_CONTRIBUTORY_CAUSE',\n",
      "       'SEC_CONTRIBUTORY_CAUSE', 'STREET_DIRECTION', 'NUM_UNITS', 'CRASH_HOUR',\n",
      "       'CRASH_DAY_OF_WEEK', 'CRASH_MONTH', 'IS_A_HOLIDAY', 'STATE', 'SEX',\n",
      "       'AGE', 'SAFETY_EQUIPMENT', 'AIRBAG_DEPLOYED', 'EJECTION',\n",
      "       'DRIVER_ACTION', 'DRIVER_VISION', 'PHYSICAL_CONDITION', 'BAC_RESULT'],\n",
      "      dtype='object')\n",
      "<class 'pandas.core.frame.DataFrame'>\n",
      "Int64Index: 63933 entries, 1053184 to 962279\n",
      "Data columns (total 39 columns):\n",
      " #   Column                   Non-Null Count  Dtype   \n",
      "---  ------                   --------------  -----   \n",
      " 0   UNIT_NO                  63933 non-null  int64   \n",
      " 1   UNIT_TYPE                63933 non-null  object  \n",
      " 2   VEHICLE_DEFECT           63933 non-null  object  \n",
      " 3   VEHICLE_TYPE             63933 non-null  object  \n",
      " 4   VEHICLE_USE              63933 non-null  object  \n",
      " 5   TRAVEL_DIRECTION         63933 non-null  object  \n",
      " 6   MANEUVER                 63933 non-null  object  \n",
      " 7   OCCUPANT_CNT             63933 non-null  float64 \n",
      " 8   FIRST_CONTACT_POINT      63933 non-null  object  \n",
      " 9   POSTED_SPEED_LIMIT       63933 non-null  category\n",
      " 10  TRAFFIC_CONTROL_DEVICE   63933 non-null  object  \n",
      " 11  DEVICE_CONDITION         63933 non-null  object  \n",
      " 12  WEATHER_CONDITION        63933 non-null  object  \n",
      " 13  LIGHTING_CONDITION       63933 non-null  object  \n",
      " 14  FIRST_CRASH_TYPE         63933 non-null  object  \n",
      " 15  TRAFFICWAY_TYPE          63933 non-null  object  \n",
      " 16  ALIGNMENT                63933 non-null  object  \n",
      " 17  ROADWAY_SURFACE_COND     63933 non-null  object  \n",
      " 18  ROAD_DEFECT              63933 non-null  object  \n",
      " 19  CRASH_TYPE               63933 non-null  object  \n",
      " 20  DAMAGE                   63933 non-null  object  \n",
      " 21  PRIM_CONTRIBUTORY_CAUSE  63933 non-null  object  \n",
      " 22  SEC_CONTRIBUTORY_CAUSE   63933 non-null  object  \n",
      " 23  STREET_DIRECTION         63933 non-null  object  \n",
      " 24  NUM_UNITS                63933 non-null  int64   \n",
      " 25  CRASH_HOUR               63933 non-null  category\n",
      " 26  CRASH_DAY_OF_WEEK        63933 non-null  int64   \n",
      " 27  CRASH_MONTH              63933 non-null  int64   \n",
      " 28  IS_A_HOLIDAY             63933 non-null  int64   \n",
      " 29  STATE                    63933 non-null  object  \n",
      " 30  SEX                      63933 non-null  object  \n",
      " 31  AGE                      62745 non-null  category\n",
      " 32  SAFETY_EQUIPMENT         63933 non-null  object  \n",
      " 33  AIRBAG_DEPLOYED          63933 non-null  object  \n",
      " 34  EJECTION                 63933 non-null  object  \n",
      " 35  DRIVER_ACTION            63933 non-null  object  \n",
      " 36  DRIVER_VISION            63933 non-null  object  \n",
      " 37  PHYSICAL_CONDITION       63933 non-null  object  \n",
      " 38  BAC_RESULT               63933 non-null  object  \n",
      "dtypes: category(3), float64(1), int64(5), object(30)\n",
      "memory usage: 18.2+ MB\n",
      "Dataset info is:  None\n",
      "Categorical variables are:\n",
      "  ['UNIT_TYPE', 'VEHICLE_DEFECT', 'VEHICLE_TYPE', 'VEHICLE_USE', 'TRAVEL_DIRECTION', 'MANEUVER', 'FIRST_CONTACT_POINT', 'TRAFFIC_CONTROL_DEVICE', 'DEVICE_CONDITION', 'WEATHER_CONDITION', 'LIGHTING_CONDITION', 'FIRST_CRASH_TYPE', 'TRAFFICWAY_TYPE', 'ALIGNMENT', 'ROADWAY_SURFACE_COND', 'ROAD_DEFECT', 'CRASH_TYPE', 'DAMAGE', 'PRIM_CONTRIBUTORY_CAUSE', 'SEC_CONTRIBUTORY_CAUSE', 'STREET_DIRECTION', 'STATE', 'SEX', 'SAFETY_EQUIPMENT', 'AIRBAG_DEPLOYED', 'EJECTION', 'DRIVER_ACTION', 'DRIVER_VISION', 'PHYSICAL_CONDITION', 'BAC_RESULT']\n",
      "Numerical variables are:\n",
      "  ['UNIT_NO', 'OCCUPANT_CNT', 'POSTED_SPEED_LIMIT', 'NUM_UNITS', 'CRASH_HOUR', 'CRASH_DAY_OF_WEEK', 'CRASH_MONTH', 'IS_A_HOLIDAY', 'AGE']\n"
     ]
    }
   ],
   "source": [
    "categoricalz, numericalz = basic_info(df_no_target)"
   ]
  },
  {
   "cell_type": "code",
   "execution_count": 137,
   "metadata": {
    "scrolled": true
   },
   "outputs": [],
   "source": [
    "# Now we make the dataset we are going to use for our final Model\n",
    "df_model = new_df(df_no_target, categoricalz)"
   ]
  },
  {
   "cell_type": "code",
   "execution_count": 138,
   "metadata": {
    "scrolled": false
   },
   "outputs": [
    {
     "data": {
      "text/plain": [
       "(63933, 428)"
      ]
     },
     "execution_count": 138,
     "metadata": {},
     "output_type": "execute_result"
    }
   ],
   "source": [
    "df_model.shape"
   ]
  },
  {
   "cell_type": "code",
   "execution_count": 139,
   "metadata": {},
   "outputs": [],
   "source": [
    "df_model = df_model.drop(columns=categoricalz, axis = 1)"
   ]
  },
  {
   "cell_type": "code",
   "execution_count": 140,
   "metadata": {},
   "outputs": [],
   "source": [
    "df_model = df_model.fillna(0)"
   ]
  },
  {
   "cell_type": "code",
   "execution_count": 141,
   "metadata": {},
   "outputs": [],
   "source": [
    "df_target = df"
   ]
  },
  {
   "cell_type": "code",
   "execution_count": 142,
   "metadata": {},
   "outputs": [
    {
     "data": {
      "text/plain": [
       "NONINCAPACITATING INJURY       21311\n",
       "NO INDICATION OF INJURY        21311\n",
       "INCAPACITATING INJURY/FATAL    21311\n",
       "Name: MOST_SEVERE_INJURY, dtype: int64"
      ]
     },
     "execution_count": 142,
     "metadata": {},
     "output_type": "execute_result"
    }
   ],
   "source": [
    "df_target['MOST_SEVERE_INJURY'].value_counts()"
   ]
  },
  {
   "cell_type": "code",
   "execution_count": 143,
   "metadata": {},
   "outputs": [],
   "source": [
    "df_target['MOST_SEVERE_INJURY'] = np.where(df_target['MOST_SEVERE_INJURY']=='NONINCAPACITATING INJURY',\n",
    "                                           0, df_target['MOST_SEVERE_INJURY'])"
   ]
  },
  {
   "cell_type": "code",
   "execution_count": 144,
   "metadata": {},
   "outputs": [],
   "source": [
    "df_target['MOST_SEVERE_INJURY'] = np.where(df_target['MOST_SEVERE_INJURY']=='NO INDICATION OF INJURY',\n",
    "                                           1, df_target['MOST_SEVERE_INJURY'])"
   ]
  },
  {
   "cell_type": "code",
   "execution_count": 145,
   "metadata": {},
   "outputs": [],
   "source": [
    "df_target['MOST_SEVERE_INJURY'] = np.where(df_target['MOST_SEVERE_INJURY']=='INCAPACITATING INJURY/FATAL',\n",
    "                                           2, df_target['MOST_SEVERE_INJURY'])"
   ]
  },
  {
   "cell_type": "markdown",
   "metadata": {},
   "source": [
    "### Train-Test split"
   ]
  },
  {
   "cell_type": "code",
   "execution_count": 146,
   "metadata": {},
   "outputs": [],
   "source": [
    "Y = df_target['MOST_SEVERE_INJURY']"
   ]
  },
  {
   "cell_type": "code",
   "execution_count": 147,
   "metadata": {},
   "outputs": [],
   "source": [
    "Y=Y.astype('int')"
   ]
  },
  {
   "cell_type": "code",
   "execution_count": 148,
   "metadata": {},
   "outputs": [],
   "source": [
    "X = df_model"
   ]
  },
  {
   "cell_type": "code",
   "execution_count": 149,
   "metadata": {},
   "outputs": [],
   "source": [
    "train_x, test_x, train_y, test_y = train_test_split(X, Y, test_size = 0.20, random_state=42)"
   ]
  },
  {
   "cell_type": "markdown",
   "metadata": {},
   "source": [
    "## Modeling:"
   ]
  },
  {
   "cell_type": "markdown",
   "metadata": {},
   "source": [
    "### Logistic Regression"
   ]
  },
  {
   "cell_type": "code",
   "execution_count": 150,
   "metadata": {},
   "outputs": [],
   "source": [
    "LR = LogisticRegression(max_iter=5000)"
   ]
  },
  {
   "cell_type": "code",
   "execution_count": 151,
   "metadata": {},
   "outputs": [],
   "source": [
    "model_lr = LR.fit(train_x, train_y)"
   ]
  },
  {
   "cell_type": "code",
   "execution_count": 152,
   "metadata": {},
   "outputs": [],
   "source": [
    "y_lr_predict = model_lr.predict(test_x)"
   ]
  },
  {
   "cell_type": "code",
   "execution_count": 153,
   "metadata": {},
   "outputs": [],
   "source": [
    "LR_df = pd.DataFrame(data = {\"Actual\": test_y, \"Predicted\": y_lr_predict})"
   ]
  },
  {
   "cell_type": "code",
   "execution_count": 154,
   "metadata": {
    "scrolled": true
   },
   "outputs": [
    {
     "data": {
      "text/html": [
       "<div>\n",
       "<style scoped>\n",
       "    .dataframe tbody tr th:only-of-type {\n",
       "        vertical-align: middle;\n",
       "    }\n",
       "\n",
       "    .dataframe tbody tr th {\n",
       "        vertical-align: top;\n",
       "    }\n",
       "\n",
       "    .dataframe thead th {\n",
       "        text-align: right;\n",
       "    }\n",
       "</style>\n",
       "<table border=\"1\" class=\"dataframe\">\n",
       "  <thead>\n",
       "    <tr style=\"text-align: right;\">\n",
       "      <th></th>\n",
       "      <th>Actual</th>\n",
       "      <th>Predicted</th>\n",
       "    </tr>\n",
       "  </thead>\n",
       "  <tbody>\n",
       "    <tr>\n",
       "      <th>353052</th>\n",
       "      <td>0</td>\n",
       "      <td>0</td>\n",
       "    </tr>\n",
       "    <tr>\n",
       "      <th>1022390</th>\n",
       "      <td>1</td>\n",
       "      <td>1</td>\n",
       "    </tr>\n",
       "    <tr>\n",
       "      <th>1001211</th>\n",
       "      <td>1</td>\n",
       "      <td>1</td>\n",
       "    </tr>\n",
       "    <tr>\n",
       "      <th>834254</th>\n",
       "      <td>2</td>\n",
       "      <td>2</td>\n",
       "    </tr>\n",
       "    <tr>\n",
       "      <th>996251</th>\n",
       "      <td>1</td>\n",
       "      <td>1</td>\n",
       "    </tr>\n",
       "    <tr>\n",
       "      <th>...</th>\n",
       "      <td>...</td>\n",
       "      <td>...</td>\n",
       "    </tr>\n",
       "    <tr>\n",
       "      <th>923986</th>\n",
       "      <td>2</td>\n",
       "      <td>2</td>\n",
       "    </tr>\n",
       "    <tr>\n",
       "      <th>509534</th>\n",
       "      <td>0</td>\n",
       "      <td>0</td>\n",
       "    </tr>\n",
       "    <tr>\n",
       "      <th>842723</th>\n",
       "      <td>2</td>\n",
       "      <td>2</td>\n",
       "    </tr>\n",
       "    <tr>\n",
       "      <th>1063890</th>\n",
       "      <td>2</td>\n",
       "      <td>1</td>\n",
       "    </tr>\n",
       "    <tr>\n",
       "      <th>315230</th>\n",
       "      <td>2</td>\n",
       "      <td>2</td>\n",
       "    </tr>\n",
       "  </tbody>\n",
       "</table>\n",
       "<p>12787 rows × 2 columns</p>\n",
       "</div>"
      ],
      "text/plain": [
       "         Actual  Predicted\n",
       "353052        0          0\n",
       "1022390       1          1\n",
       "1001211       1          1\n",
       "834254        2          2\n",
       "996251        1          1\n",
       "...         ...        ...\n",
       "923986        2          2\n",
       "509534        0          0\n",
       "842723        2          2\n",
       "1063890       2          1\n",
       "315230        2          2\n",
       "\n",
       "[12787 rows x 2 columns]"
      ]
     },
     "execution_count": 154,
     "metadata": {},
     "output_type": "execute_result"
    }
   ],
   "source": [
    "LR_df"
   ]
  },
  {
   "cell_type": "code",
   "execution_count": 155,
   "metadata": {
    "scrolled": true
   },
   "outputs": [
    {
     "data": {
      "text/plain": [
       "0.7355126300148589"
      ]
     },
     "execution_count": 155,
     "metadata": {},
     "output_type": "execute_result"
    }
   ],
   "source": [
    "model_lr.score(test_x, test_y)"
   ]
  },
  {
   "cell_type": "code",
   "execution_count": 156,
   "metadata": {},
   "outputs": [
    {
     "data": {
      "text/plain": [
       "0.7437572680839638"
      ]
     },
     "execution_count": 156,
     "metadata": {},
     "output_type": "execute_result"
    }
   ],
   "source": [
    "precision_score(test_y, y_lr_predict, average='weighted')"
   ]
  },
  {
   "cell_type": "code",
   "execution_count": 157,
   "metadata": {},
   "outputs": [
    {
     "data": {
      "text/plain": [
       "0.7384249633417387"
      ]
     },
     "execution_count": 157,
     "metadata": {},
     "output_type": "execute_result"
    }
   ],
   "source": [
    "f1_score(test_y, y_lr_predict, average='weighted')"
   ]
  },
  {
   "cell_type": "code",
   "execution_count": 158,
   "metadata": {},
   "outputs": [
    {
     "data": {
      "text/plain": [
       "0.7355126300148589"
      ]
     },
     "execution_count": 158,
     "metadata": {},
     "output_type": "execute_result"
    }
   ],
   "source": [
    "recall_score(test_y, y_lr_predict, average='weighted')"
   ]
  },
  {
   "cell_type": "code",
   "execution_count": 159,
   "metadata": {},
   "outputs": [
    {
     "data": {
      "text/plain": [
       "<AxesSubplot:>"
      ]
     },
     "execution_count": 159,
     "metadata": {},
     "output_type": "execute_result"
    },
    {
     "data": {
      "image/png": "[encoded data removed]",
      "text/plain": [
       "<Figure size 432x288 with 2 Axes>"
      ]
     },
     "metadata": {},
     "output_type": "display_data"
    }
   ],
   "source": [
    "cf_lr = confusion_matrix(test_y, y_lr_predict)\n",
    "sns.heatmap(cf_lr/np.sum(cf_lr), annot=True, fmt='.2%')"
   ]
  },
  {
   "cell_type": "markdown",
   "metadata": {},
   "source": [
    "### RandomForestClassifier"
   ]
  },
  {
   "cell_type": "code",
   "execution_count": 160,
   "metadata": {},
   "outputs": [],
   "source": [
    "rfc = RandomForestClassifier()"
   ]
  },
  {
   "cell_type": "code",
   "execution_count": 161,
   "metadata": {},
   "outputs": [],
   "source": [
    "model_rfr = rfc.fit(train_x, train_y)\n",
    "y_rfr_predict = model_rfr.predict(test_x)"
   ]
  },
  {
   "cell_type": "code",
   "execution_count": 162,
   "metadata": {},
   "outputs": [],
   "source": [
    "RFR_df = pd.DataFrame(data = {\"Actual\": test_y, \"Predicted\": y_rfr_predict})"
   ]
  },
  {
   "cell_type": "code",
   "execution_count": 163,
   "metadata": {},
   "outputs": [
    {
     "data": {
      "text/html": [
       "<div>\n",
       "<style scoped>\n",
       "    .dataframe tbody tr th:only-of-type {\n",
       "        vertical-align: middle;\n",
       "    }\n",
       "\n",
       "    .dataframe tbody tr th {\n",
       "        vertical-align: top;\n",
       "    }\n",
       "\n",
       "    .dataframe thead th {\n",
       "        text-align: right;\n",
       "    }\n",
       "</style>\n",
       "<table border=\"1\" class=\"dataframe\">\n",
       "  <thead>\n",
       "    <tr style=\"text-align: right;\">\n",
       "      <th></th>\n",
       "      <th>Actual</th>\n",
       "      <th>Predicted</th>\n",
       "    </tr>\n",
       "  </thead>\n",
       "  <tbody>\n",
       "    <tr>\n",
       "      <th>353052</th>\n",
       "      <td>0</td>\n",
       "      <td>0</td>\n",
       "    </tr>\n",
       "    <tr>\n",
       "      <th>1022390</th>\n",
       "      <td>1</td>\n",
       "      <td>1</td>\n",
       "    </tr>\n",
       "    <tr>\n",
       "      <th>1001211</th>\n",
       "      <td>1</td>\n",
       "      <td>1</td>\n",
       "    </tr>\n",
       "    <tr>\n",
       "      <th>834254</th>\n",
       "      <td>2</td>\n",
       "      <td>2</td>\n",
       "    </tr>\n",
       "    <tr>\n",
       "      <th>996251</th>\n",
       "      <td>1</td>\n",
       "      <td>1</td>\n",
       "    </tr>\n",
       "    <tr>\n",
       "      <th>...</th>\n",
       "      <td>...</td>\n",
       "      <td>...</td>\n",
       "    </tr>\n",
       "    <tr>\n",
       "      <th>923986</th>\n",
       "      <td>2</td>\n",
       "      <td>2</td>\n",
       "    </tr>\n",
       "    <tr>\n",
       "      <th>509534</th>\n",
       "      <td>0</td>\n",
       "      <td>0</td>\n",
       "    </tr>\n",
       "    <tr>\n",
       "      <th>842723</th>\n",
       "      <td>2</td>\n",
       "      <td>2</td>\n",
       "    </tr>\n",
       "    <tr>\n",
       "      <th>1063890</th>\n",
       "      <td>2</td>\n",
       "      <td>2</td>\n",
       "    </tr>\n",
       "    <tr>\n",
       "      <th>315230</th>\n",
       "      <td>2</td>\n",
       "      <td>2</td>\n",
       "    </tr>\n",
       "  </tbody>\n",
       "</table>\n",
       "<p>12787 rows × 2 columns</p>\n",
       "</div>"
      ],
      "text/plain": [
       "         Actual  Predicted\n",
       "353052        0          0\n",
       "1022390       1          1\n",
       "1001211       1          1\n",
       "834254        2          2\n",
       "996251        1          1\n",
       "...         ...        ...\n",
       "923986        2          2\n",
       "509534        0          0\n",
       "842723        2          2\n",
       "1063890       2          2\n",
       "315230        2          2\n",
       "\n",
       "[12787 rows x 2 columns]"
      ]
     },
     "execution_count": 163,
     "metadata": {},
     "output_type": "execute_result"
    }
   ],
   "source": [
    "RFR_df"
   ]
  },
  {
   "cell_type": "code",
   "execution_count": 164,
   "metadata": {
    "scrolled": false
   },
   "outputs": [
    {
     "data": {
      "text/plain": [
       "0.9373582544772034"
      ]
     },
     "execution_count": 164,
     "metadata": {},
     "output_type": "execute_result"
    }
   ],
   "source": [
    "model_rfr.score(test_x, test_y)"
   ]
  },
  {
   "cell_type": "code",
   "execution_count": 165,
   "metadata": {},
   "outputs": [
    {
     "data": {
      "text/plain": [
       "<AxesSubplot:>"
      ]
     },
     "execution_count": 165,
     "metadata": {},
     "output_type": "execute_result"
    },
    {
     "data": {
      "image/png": "[encoded data removed]",
      "text/plain": [
       "<Figure size 432x288 with 2 Axes>"
      ]
     },
     "metadata": {},
     "output_type": "display_data"
    }
   ],
   "source": [
    "cf_rf = confusion_matrix(test_y, y_rfr_predict)\n",
    "sns.heatmap(cf_rf/np.sum(cf_rf), annot=True, fmt='.2%')"
   ]
  },
  {
   "cell_type": "code",
   "execution_count": 166,
   "metadata": {},
   "outputs": [
    {
     "data": {
      "text/plain": [
       "0.9382546176380894"
      ]
     },
     "execution_count": 166,
     "metadata": {},
     "output_type": "execute_result"
    }
   ],
   "source": [
    "precision_score(test_y, y_rfr_predict, average='macro')"
   ]
  },
  {
   "cell_type": "code",
   "execution_count": 167,
   "metadata": {},
   "outputs": [
    {
     "data": {
      "text/plain": [
       "0.9377655211589171"
      ]
     },
     "execution_count": 167,
     "metadata": {},
     "output_type": "execute_result"
    }
   ],
   "source": [
    "f1_score(test_y, y_rfr_predict, average='macro')"
   ]
  },
  {
   "cell_type": "code",
   "execution_count": 168,
   "metadata": {},
   "outputs": [
    {
     "data": {
      "text/plain": [
       "0.9375497702057918"
      ]
     },
     "execution_count": 168,
     "metadata": {},
     "output_type": "execute_result"
    }
   ],
   "source": [
    "recall_score(test_y, y_rfr_predict, average='macro')"
   ]
  }
 ],
 "metadata": {
  "kernelspec": {
   "display_name": "learn-env",
   "language": "python",
   "name": "learn-env"
  },
  "language_info": {
   "codemirror_mode": {
    "name": "ipython",
    "version": 3
   },
   "file_extension": ".py",
   "mimetype": "text/x-python",
   "name": "python",
   "nbconvert_exporter": "python",
   "pygments_lexer": "ipython3",
   "version": "3.8.5"
  }
 },
 "nbformat": 4,
 "nbformat_minor": 4
}
